{
 "cells": [
  {
   "cell_type": "markdown",
   "metadata": {
    "toc": true
   },
   "source": [
    "<h1>Table of Contents<span class=\"tocSkip\"></span></h1>\n",
    "<div class=\"toc\"><ul class=\"toc-item\"><li><span><a href=\"#Aggregating-and-Combining-pandas-DataFrames\" data-toc-modified-id=\"Aggregating-and-Combining-pandas-DataFrames-1\"><span class=\"toc-item-num\">1&nbsp;&nbsp;</span>Aggregating and Combining <code>pandas</code> DataFrames</a></span><ul class=\"toc-item\"><li><span><a href=\"#Objectives\" data-toc-modified-id=\"Objectives-1.1\"><span class=\"toc-item-num\">1.1&nbsp;&nbsp;</span>Objectives</a></span></li><li><span><a href=\"#Set-Up\" data-toc-modified-id=\"Set-Up-1.2\"><span class=\"toc-item-num\">1.2&nbsp;&nbsp;</span>Set Up</a></span></li><li><span><a href=\"#Aggregating-over-DataFrames:-.groupby()\" data-toc-modified-id=\"Aggregating-over-DataFrames:-.groupby()-1.3\"><span class=\"toc-item-num\">1.3&nbsp;&nbsp;</span>Aggregating over DataFrames: <code>.groupby()</code></a></span></li><li><span><a href=\"#Aggregating\" data-toc-modified-id=\"Aggregating-1.4\"><span class=\"toc-item-num\">1.4&nbsp;&nbsp;</span>Aggregating</a></span></li><li><span><a href=\"#Exercise\" data-toc-modified-id=\"Exercise-1.5\"><span class=\"toc-item-num\">1.5&nbsp;&nbsp;</span>Exercise</a></span></li></ul></li><li><span><a href=\"#Pivoting-a-DataFrame\" data-toc-modified-id=\"Pivoting-a-DataFrame-2\"><span class=\"toc-item-num\">2&nbsp;&nbsp;</span>Pivoting a DataFrame</a></span><ul class=\"toc-item\"><li><span><a href=\"#.pivot_table()\" data-toc-modified-id=\".pivot_table()-2.1\"><span class=\"toc-item-num\">2.1&nbsp;&nbsp;</span><code>.pivot_table()</code></a></span></li></ul></li><li><span><a href=\"#Methods-for-Combining-DataFrames\" data-toc-modified-id=\"Methods-for-Combining-DataFrames-3\"><span class=\"toc-item-num\">3&nbsp;&nbsp;</span>Methods for Combining DataFrames</a></span><ul class=\"toc-item\"><li><span><a href=\"#.join()\" data-toc-modified-id=\".join()-3.1\"><span class=\"toc-item-num\">3.1&nbsp;&nbsp;</span><code>.join()</code></a></span></li><li><span><a href=\"#.merge()\" data-toc-modified-id=\".merge()-3.2\"><span class=\"toc-item-num\">3.2&nbsp;&nbsp;</span><code>.merge()</code></a></span></li><li><span><a href=\"#The-how-Parameter\" data-toc-modified-id=\"The-how-Parameter-3.3\"><span class=\"toc-item-num\">3.3&nbsp;&nbsp;</span>The <code>how</code> Parameter</a></span></li><li><span><a href=\"#pd.concat()\" data-toc-modified-id=\"pd.concat()-3.4\"><span class=\"toc-item-num\">3.4&nbsp;&nbsp;</span><code>pd.concat()</code></a></span></li><li><span><a href=\"#Back-to-the-Center\" data-toc-modified-id=\"Back-to-the-Center-3.5\"><span class=\"toc-item-num\">3.5&nbsp;&nbsp;</span>Back to the Center</a></span></li></ul></li><li><span><a href=\"#Level-Up:-Quick-Column-Name-Clean-Up-Code\" data-toc-modified-id=\"Level-Up:-Quick-Column-Name-Clean-Up-Code-4\"><span class=\"toc-item-num\">4&nbsp;&nbsp;</span>Level Up: Quick Column Name Clean Up Code</a></span></li><li><span><a href=\"#Level-Up:-pandas.set_option()\" data-toc-modified-id=\"Level-Up:-pandas.set_option()-5\"><span class=\"toc-item-num\">5&nbsp;&nbsp;</span>Level Up: <code>pandas.set_option()</code></a></span><ul class=\"toc-item\"><li><span><a href=\"#Block-Scientific-Notation\" data-toc-modified-id=\"Block-Scientific-Notation-5.1\"><span class=\"toc-item-num\">5.1&nbsp;&nbsp;</span>Block Scientific Notation</a></span></li><li><span><a href=\"#See-More-Rows\" data-toc-modified-id=\"See-More-Rows-5.2\"><span class=\"toc-item-num\">5.2&nbsp;&nbsp;</span>See More Rows</a></span></li></ul></li></ul></div>"
   ]
  },
  {
   "cell_type": "markdown",
   "metadata": {
    "heading_collapsed": true
   },
   "source": [
    "# Aggregating and Combining `pandas` DataFrames"
   ]
  },
  {
   "cell_type": "markdown",
   "metadata": {
    "heading_collapsed": true,
    "hidden": true
   },
   "source": [
    "## Objectives"
   ]
  },
  {
   "cell_type": "markdown",
   "metadata": {
    "hidden": true
   },
   "source": [
    "- Use GroupBy objects to organize and aggregate data\n",
    "- Create pivot tables from DataFrames\n",
    "- Combine DataFrames by merging and appending "
   ]
  },
  {
   "cell_type": "markdown",
   "metadata": {
    "heading_collapsed": true,
    "hidden": true
   },
   "source": [
    "## Set Up"
   ]
  },
  {
   "cell_type": "markdown",
   "metadata": {
    "hidden": true
   },
   "source": [
    "Surprise, surprise... we're still working with the Austin Animal Center Data! Let's start with Outcomes"
   ]
  },
  {
   "cell_type": "code",
   "execution_count": null,
   "metadata": {
    "ExecuteTime": {
     "end_time": "2023-04-10T21:02:18.527078Z",
     "start_time": "2023-04-10T21:02:17.915081Z"
    },
    "hidden": true
   },
   "outputs": [],
   "source": [
    "# Imports\n",
    "\n",
    "import pandas as pd\n",
    "import numpy as np\n",
    "\n",
    "import matplotlib.pyplot as plt\n"
   ]
  },
  {
   "cell_type": "code",
   "execution_count": null,
   "metadata": {
    "ExecuteTime": {
     "end_time": "2023-04-10T21:03:09.723610Z",
     "start_time": "2023-04-10T21:02:54.485109Z"
    },
    "hidden": true
   },
   "outputs": [],
   "source": [
    "# Read in the Outcomes data\n",
    "# Let's be sure to parse dates for the DateTime and Date of Birth columns\n",
    "outcomes = pd.read_csv('data/Austin_Animal_Center_Outcomes_022822.csv',\n",
    "                       parse_dates=['DateTime', 'Date of Birth'])"
   ]
  },
  {
   "cell_type": "code",
   "execution_count": null,
   "metadata": {
    "ExecuteTime": {
     "end_time": "2023-04-10T21:03:12.808111Z",
     "start_time": "2023-04-10T21:03:12.785080Z"
    },
    "hidden": true
   },
   "outputs": [],
   "source": [
    "# Check it\n"
   ]
  },
  {
   "cell_type": "code",
   "execution_count": null,
   "metadata": {
    "ExecuteTime": {
     "end_time": "2023-04-10T21:04:20.403578Z",
     "start_time": "2023-04-10T21:04:20.342109Z"
    },
    "hidden": true
   },
   "outputs": [],
   "source": [
    "# Let's create our Age in Days column\n",
    "outcomes['Calculated Age in Days'] = pd.to_datetime(outcomes['DateTime'].dt.date) - outcomes['Date of Birth']"
   ]
  },
  {
   "cell_type": "code",
   "execution_count": null,
   "metadata": {
    "ExecuteTime": {
     "end_time": "2023-04-09T22:55:52.713952Z",
     "start_time": "2023-04-09T22:55:52.699951Z"
    },
    "hidden": true
   },
   "outputs": [],
   "source": [
    "# Grab just the integer here...\n"
   ]
  },
  {
   "cell_type": "code",
   "execution_count": null,
   "metadata": {
    "ExecuteTime": {
     "end_time": "2023-04-10T21:05:44.847611Z",
     "start_time": "2023-04-10T21:05:44.830609Z"
    },
    "hidden": true
   },
   "outputs": [],
   "source": [
    "# Sanity check\n",
    "outcomes.head()"
   ]
  },
  {
   "cell_type": "markdown",
   "metadata": {
    "heading_collapsed": true,
    "hidden": true
   },
   "source": [
    "## Aggregating over DataFrames: `.groupby()`"
   ]
  },
  {
   "cell_type": "markdown",
   "metadata": {
    "hidden": true
   },
   "source": [
    "Those of you familiar with SQL have probably used the GROUP BY command. (And if you haven't, you'll see it very soon!) Pandas has this, too.\n",
    "\n",
    "The `.groupby()` method is especially useful for aggregate functions applied to the data grouped in particular ways."
   ]
  },
  {
   "cell_type": "code",
   "execution_count": null,
   "metadata": {
    "ExecuteTime": {
     "end_time": "2023-04-10T21:11:30.125585Z",
     "start_time": "2023-04-10T21:11:30.116580Z"
    },
    "hidden": true
   },
   "outputs": [],
   "source": [
    "# Just using groupby outputs some weird GroupBy object... not helpful\n"
   ]
  },
  {
   "cell_type": "markdown",
   "metadata": {
    "hidden": true
   },
   "source": [
    "Once we know we are working with a type of object, it opens up a suite of attributes and methods. One attribute we can look at is groups."
   ]
  },
  {
   "cell_type": "code",
   "execution_count": null,
   "metadata": {
    "ExecuteTime": {
     "end_time": "2023-04-10T21:11:56.878580Z",
     "start_time": "2023-04-10T21:11:56.853110Z"
    },
    "hidden": true
   },
   "outputs": [],
   "source": [
    "# This returns each group indexed by the group name, e.g. 'Bird',\n",
    "# along with the row indices of each value\n",
    "\n"
   ]
  },
  {
   "cell_type": "code",
   "execution_count": null,
   "metadata": {
    "ExecuteTime": {
     "end_time": "2023-04-10T21:12:48.524580Z",
     "start_time": "2023-04-10T21:12:48.520580Z"
    },
    "hidden": true
   },
   "outputs": [],
   "source": [
    "# Same goes for multi-index groupbys\n"
   ]
  },
  {
   "cell_type": "code",
   "execution_count": null,
   "metadata": {
    "ExecuteTime": {
     "end_time": "2023-04-10T21:12:55.608081Z",
     "start_time": "2023-04-10T21:12:55.265105Z"
    },
    "hidden": true
   },
   "outputs": [],
   "source": [
    "# .groups outputs a dictionary, so we can access the group names using keys()\n"
   ]
  },
  {
   "cell_type": "code",
   "execution_count": null,
   "metadata": {
    "ExecuteTime": {
     "end_time": "2023-04-10T21:13:11.526579Z",
     "start_time": "2023-04-10T21:13:11.475079Z"
    },
    "hidden": true
   },
   "outputs": [],
   "source": [
    "# We can then get a specific group, such as cats that were adopted\n"
   ]
  },
  {
   "cell_type": "markdown",
   "metadata": {
    "heading_collapsed": true,
    "hidden": true
   },
   "source": [
    "## Aggregating"
   ]
  },
  {
   "cell_type": "markdown",
   "metadata": {
    "hidden": true
   },
   "source": [
    "Once again, as we will see in SQL, groupby objects are intended to be used with aggregation. In SQL, we will see that our queries that include GROUP BY require aggregation performed on columns.\n",
    "\n",
    "We can use `.sum()`, `.mean()`, `.count()`, `.max()`, `.min()`, etc. Find a list of common aggregations [here](https://pandas.pydata.org/pandas-docs/stable/user_guide/groupby.html)."
   ]
  },
  {
   "cell_type": "code",
   "execution_count": null,
   "metadata": {
    "ExecuteTime": {
     "end_time": "2023-04-10T21:15:30.825079Z",
     "start_time": "2023-04-10T21:15:30.742579Z"
    },
    "hidden": true,
    "scrolled": true
   },
   "outputs": [],
   "source": [
    "# Let's try it out\n",
    "outcomes.groupby('Animal Type').count()"
   ]
  },
  {
   "cell_type": "markdown",
   "metadata": {
    "heading_collapsed": true,
    "hidden": true
   },
   "source": [
    "## Exercise"
   ]
  },
  {
   "cell_type": "markdown",
   "metadata": {
    "hidden": true
   },
   "source": [
    "Use `.groupby()` to find the most recently born of each (main) animal type."
   ]
  },
  {
   "cell_type": "code",
   "execution_count": null,
   "metadata": {
    "ExecuteTime": {
     "end_time": "2023-04-10T21:33:57.988579Z",
     "start_time": "2023-04-10T21:33:57.902079Z"
    },
    "hidden": true
   },
   "outputs": [],
   "source": [
    "# Your code here\n"
   ]
  },
  {
   "cell_type": "markdown",
   "metadata": {
    "heading_collapsed": true
   },
   "source": [
    "# Pivoting a DataFrame"
   ]
  },
  {
   "cell_type": "markdown",
   "metadata": {
    "heading_collapsed": true,
    "hidden": true
   },
   "source": [
    "## `.pivot_table()`"
   ]
  },
  {
   "cell_type": "markdown",
   "metadata": {
    "hidden": true
   },
   "source": [
    "Those of you familiar with Excel have probably used Pivot Tables. Pandas has a similar functionality.\n",
    "\n",
    "Grouping by two different columns can be very helpful."
   ]
  },
  {
   "cell_type": "code",
   "execution_count": null,
   "metadata": {
    "ExecuteTime": {
     "end_time": "2023-04-10T21:25:34.019080Z",
     "start_time": "2023-04-10T21:25:33.956079Z"
    },
    "hidden": true
   },
   "outputs": [],
   "source": [
    "# Groupby two columns\n",
    "outcomes.groupby(by=['Outcome Type', 'Sex upon Outcome']).agg('mean')"
   ]
  },
  {
   "cell_type": "markdown",
   "metadata": {
    "hidden": true
   },
   "source": [
    "But it has the unsavory side effect of creating a two-level index. This can be a good time to use `.pivot_table()`.\n",
    "\n",
    "(There is also a `.pivot()`. For the somewhat subtle differences, see [here](https://stackoverflow.com/questions/30960338/pandas-difference-between-pivot-and-pivot-table-why-is-only-pivot-table-workin).)"
   ]
  },
  {
   "cell_type": "code",
   "execution_count": null,
   "metadata": {
    "ExecuteTime": {
     "end_time": "2023-04-10T21:31:00.373580Z",
     "start_time": "2023-04-10T21:31:00.210580Z"
    },
    "hidden": true
   },
   "outputs": [],
   "source": [
    "# Now try with a pivot table\n"
   ]
  },
  {
   "cell_type": "markdown",
   "metadata": {
    "heading_collapsed": true
   },
   "source": [
    "# Methods for Combining DataFrames"
   ]
  },
  {
   "cell_type": "markdown",
   "metadata": {
    "hidden": true
   },
   "source": [
    "Many ways to combine dataframes! Luckily, pandas has great docs: https://pandas.pydata.org/pandas-docs/stable/user_guide/merging.html"
   ]
  },
  {
   "cell_type": "markdown",
   "metadata": {
    "heading_collapsed": true,
    "hidden": true
   },
   "source": [
    "## `.join()`"
   ]
  },
  {
   "cell_type": "code",
   "execution_count": null,
   "metadata": {
    "ExecuteTime": {
     "end_time": "2023-04-10T21:34:51.959080Z",
     "start_time": "2023-04-10T21:34:51.932079Z"
    },
    "hidden": true
   },
   "outputs": [],
   "source": [
    "toy1 = pd.DataFrame([[63, 142], [33, 47]], columns=['age', 'HP'])\n",
    "toy2 = pd.DataFrame([[63, 100], [33, 200]], columns=['age', 'MP'])\n",
    "\n",
    "toy1"
   ]
  },
  {
   "cell_type": "code",
   "execution_count": null,
   "metadata": {
    "ExecuteTime": {
     "end_time": "2023-04-10T21:34:54.036080Z",
     "start_time": "2023-04-10T21:34:54.028080Z"
    },
    "hidden": true
   },
   "outputs": [],
   "source": [
    "toy2"
   ]
  },
  {
   "cell_type": "code",
   "execution_count": null,
   "metadata": {
    "ExecuteTime": {
     "end_time": "2023-04-10T21:35:24.168079Z",
     "start_time": "2023-04-10T21:35:24.143579Z"
    },
    "hidden": true
   },
   "outputs": [],
   "source": [
    "# We can't just join these as they are, since we haven't specified our suffixes\n",
    "\n"
   ]
  },
  {
   "cell_type": "markdown",
   "metadata": {
    "hidden": true
   },
   "source": [
    "If we don't want to keep both, we could set the overlapping column as the index in each DataFrame:"
   ]
  },
  {
   "cell_type": "code",
   "execution_count": null,
   "metadata": {
    "ExecuteTime": {
     "end_time": "2023-04-10T21:37:09.041079Z",
     "start_time": "2023-04-10T21:37:09.015079Z"
    },
    "hidden": true
   },
   "outputs": [],
   "source": []
  },
  {
   "cell_type": "markdown",
   "metadata": {
    "heading_collapsed": true,
    "hidden": true
   },
   "source": [
    "## `.merge()`"
   ]
  },
  {
   "cell_type": "markdown",
   "metadata": {
    "hidden": true
   },
   "source": [
    "Or we could use `.merge()`:"
   ]
  },
  {
   "cell_type": "code",
   "execution_count": null,
   "metadata": {
    "ExecuteTime": {
     "end_time": "2023-04-10T21:37:50.999579Z",
     "start_time": "2023-04-10T21:37:50.975579Z"
    },
    "hidden": true
   },
   "outputs": [],
   "source": [
    "toy1.merge(toy2)"
   ]
  },
  {
   "cell_type": "code",
   "execution_count": null,
   "metadata": {
    "ExecuteTime": {
     "end_time": "2023-04-10T21:39:00.145079Z",
     "start_time": "2023-04-10T21:39:00.123580Z"
    },
    "hidden": true,
    "scrolled": true
   },
   "outputs": [],
   "source": [
    "# Let's try with a SLIGHTLY bigger toy dataset\n",
    "ds_chars = pd.read_csv('data/ds_chars.csv', index_col=0)\n",
    "ds_chars"
   ]
  },
  {
   "cell_type": "code",
   "execution_count": null,
   "metadata": {
    "ExecuteTime": {
     "end_time": "2023-04-10T21:39:04.950079Z",
     "start_time": "2023-04-10T21:39:04.924579Z"
    },
    "hidden": true
   },
   "outputs": [],
   "source": [
    "# And another to merge it with\n",
    "states = pd.read_csv('data/states.csv', index_col=0)\n",
    "states"
   ]
  },
  {
   "cell_type": "markdown",
   "metadata": {
    "heading_collapsed": true,
    "hidden": true
   },
   "source": [
    "## The `how` Parameter"
   ]
  },
  {
   "cell_type": "markdown",
   "metadata": {
    "hidden": true
   },
   "source": [
    "This parameter in both `.join()` and `.merge()` tells the compiler what sort of join to effect. We'll cover this in detail when we discuss SQL.\n",
    "\n",
    "![image showcasing how the how parameter in a join/merge would combine the two datasets, using venn-style diagrams](https://www.datasciencemadesimple.com/wp-content/uploads/2017/09/join-or-merge-in-python-pandas-1.png)\n",
    "[[Image Source]](https://www.datasciencemadesimple.com/join-merge-data-frames-pandas-python/)"
   ]
  },
  {
   "cell_type": "code",
   "execution_count": null,
   "metadata": {
    "ExecuteTime": {
     "end_time": "2023-04-10T21:45:06.735578Z",
     "start_time": "2023-04-10T21:45:06.722579Z"
    },
    "hidden": true
   },
   "outputs": [],
   "source": [
    "# Merge ds_chars and states - first an inner join\n"
   ]
  },
  {
   "cell_type": "code",
   "execution_count": null,
   "metadata": {
    "ExecuteTime": {
     "end_time": "2023-04-10T21:43:02.162079Z",
     "start_time": "2023-04-10T21:43:02.138579Z"
    },
    "hidden": true
   },
   "outputs": [],
   "source": [
    "# Now an outer join\n"
   ]
  },
  {
   "cell_type": "markdown",
   "metadata": {
    "heading_collapsed": true,
    "hidden": true
   },
   "source": [
    "## `pd.concat()`"
   ]
  },
  {
   "cell_type": "markdown",
   "metadata": {
    "hidden": true
   },
   "source": [
    "This method takes a *list* of pandas objects as arguments."
   ]
  },
  {
   "cell_type": "code",
   "execution_count": null,
   "metadata": {
    "ExecuteTime": {
     "end_time": "2023-04-10T21:45:50.430082Z",
     "start_time": "2023-04-10T21:45:50.417080Z"
    },
    "hidden": true
   },
   "outputs": [],
   "source": [
    "# Another mini dataset to play with\n",
    "prefs = pd.read_csv('data/preferences.csv', index_col=0)\n",
    "prefs"
   ]
  },
  {
   "cell_type": "code",
   "execution_count": null,
   "metadata": {
    "ExecuteTime": {
     "end_time": "2023-04-10T21:46:29.831078Z",
     "start_time": "2023-04-10T21:46:29.811079Z"
    },
    "hidden": true
   },
   "outputs": [],
   "source": [
    "# Concat prefs and ds_chars\n"
   ]
  },
  {
   "cell_type": "markdown",
   "metadata": {
    "hidden": true
   },
   "source": [
    "`pd.concat()`–– and many other pandas operations –– make use of an `axis` parameter. For this particular method I need to specify whether I want to concatenate the DataFrames *row-wise* (`axis=0`) or *column-wise* (`axis=1`). The default is `axis=0`, so let's override that!"
   ]
  },
  {
   "cell_type": "code",
   "execution_count": null,
   "metadata": {
    "ExecuteTime": {
     "end_time": "2023-04-10T21:47:46.788580Z",
     "start_time": "2023-04-10T21:47:46.776580Z"
    },
    "hidden": true
   },
   "outputs": [],
   "source": [
    "# Adjust and try again\n"
   ]
  },
  {
   "cell_type": "markdown",
   "metadata": {
    "heading_collapsed": true,
    "hidden": true
   },
   "source": [
    "## Back to the Center\n",
    "\n",
    "We have Intakes data and we have Outcomes data... time to merge!"
   ]
  },
  {
   "cell_type": "code",
   "execution_count": null,
   "metadata": {
    "ExecuteTime": {
     "end_time": "2023-04-10T21:49:08.845579Z",
     "start_time": "2023-04-10T21:49:08.827079Z"
    },
    "hidden": true
   },
   "outputs": [],
   "source": [
    "# Peek at the outcomes data we already had in here\n",
    "outcomes.head()"
   ]
  },
  {
   "cell_type": "code",
   "execution_count": null,
   "metadata": {
    "ExecuteTime": {
     "end_time": "2023-04-10T21:51:04.847579Z",
     "start_time": "2023-04-10T21:50:48.314579Z"
    },
    "hidden": true
   },
   "outputs": [],
   "source": [
    "# Read in the intakes data\n",
    "\n",
    "intakes = pd.read_csv('./data/Austin_Animal_Center_Intakes_022822.csv', parse_dates=['DateTime'])"
   ]
  },
  {
   "cell_type": "code",
   "execution_count": null,
   "metadata": {
    "ExecuteTime": {
     "end_time": "2023-04-10T21:51:06.645581Z",
     "start_time": "2023-04-10T21:51:06.623079Z"
    },
    "hidden": true
   },
   "outputs": [],
   "source": [
    "# Check it out\n",
    "intakes.head()"
   ]
  },
  {
   "cell_type": "code",
   "execution_count": null,
   "metadata": {
    "ExecuteTime": {
     "end_time": "2023-04-10T21:52:56.618078Z",
     "start_time": "2023-04-10T21:52:56.207579Z"
    },
    "hidden": true
   },
   "outputs": [],
   "source": [
    "# Let's try merging on Animal ID\n",
    "combined = pd.merge(outcomes, intakes, \n",
    "                    on='Animal ID',\n",
    "                    how='inner',\n",
    "                    suffixes=['_outcomes','_intakes'])"
   ]
  },
  {
   "cell_type": "code",
   "execution_count": null,
   "metadata": {
    "ExecuteTime": {
     "end_time": "2023-04-10T21:52:59.904080Z",
     "start_time": "2023-04-10T21:52:59.604079Z"
    },
    "hidden": true
   },
   "outputs": [],
   "source": [
    "combined"
   ]
  },
  {
   "cell_type": "code",
   "execution_count": null,
   "metadata": {
    "ExecuteTime": {
     "end_time": "2023-04-09T22:55:52.925950Z",
     "start_time": "2023-04-09T22:55:52.685Z"
    },
    "hidden": true
   },
   "outputs": [],
   "source": [
    "# What was the result?\n"
   ]
  },
  {
   "cell_type": "markdown",
   "metadata": {
    "hidden": true
   },
   "source": [
    "Let's discuss/explore: did that work the way we expected?\n",
    "\n",
    "- \n"
   ]
  },
  {
   "cell_type": "code",
   "execution_count": null,
   "metadata": {
    "ExecuteTime": {
     "end_time": "2023-04-10T21:55:24.612079Z",
     "start_time": "2023-04-10T21:55:24.367579Z"
    },
    "hidden": true
   },
   "outputs": [],
   "source": [
    "# We might want to try something different\n",
    "# Can we clean something to make a better merge?\n",
    "combined.loc[ combined.duplicated(subset=['Animal ID'])   ]"
   ]
  },
  {
   "cell_type": "code",
   "execution_count": null,
   "metadata": {
    "ExecuteTime": {
     "end_time": "2023-04-10T21:56:58.976079Z",
     "start_time": "2023-04-10T21:56:58.892079Z"
    },
    "hidden": true
   },
   "outputs": [],
   "source": [
    "# Clean what needs cleaning...\n",
    "clean_intakes = intakes.drop_duplicates(subset='Animal ID', keep='first')"
   ]
  },
  {
   "cell_type": "code",
   "execution_count": null,
   "metadata": {
    "ExecuteTime": {
     "end_time": "2023-04-10T21:57:54.729579Z",
     "start_time": "2023-04-10T21:57:54.658580Z"
    },
    "hidden": true
   },
   "outputs": [],
   "source": [
    "clean_outcomes = outcomes.drop_duplicates(subset='Animal ID',keep='first')"
   ]
  },
  {
   "cell_type": "code",
   "execution_count": null,
   "metadata": {
    "ExecuteTime": {
     "end_time": "2023-04-10T21:58:05.641580Z",
     "start_time": "2023-04-10T21:58:05.629579Z"
    },
    "hidden": true
   },
   "outputs": [],
   "source": [
    "clean_intakes.shape"
   ]
  },
  {
   "cell_type": "code",
   "execution_count": null,
   "metadata": {
    "ExecuteTime": {
     "end_time": "2023-04-10T21:58:20.304578Z",
     "start_time": "2023-04-10T21:58:20.285579Z"
    },
    "hidden": true
   },
   "outputs": [],
   "source": [
    "intakes.shape"
   ]
  },
  {
   "cell_type": "code",
   "execution_count": null,
   "metadata": {
    "ExecuteTime": {
     "end_time": "2023-04-10T21:58:12.554580Z",
     "start_time": "2023-04-10T21:58:12.536079Z"
    },
    "hidden": true
   },
   "outputs": [],
   "source": [
    "clean_outcomes.shape"
   ]
  },
  {
   "cell_type": "code",
   "execution_count": null,
   "metadata": {
    "ExecuteTime": {
     "end_time": "2023-04-10T21:58:27.899579Z",
     "start_time": "2023-04-10T21:58:27.879080Z"
    },
    "hidden": true
   },
   "outputs": [],
   "source": [
    "outcomes.shape"
   ]
  },
  {
   "cell_type": "code",
   "execution_count": null,
   "metadata": {
    "ExecuteTime": {
     "end_time": "2023-04-10T21:59:18.987579Z",
     "start_time": "2023-04-10T21:59:18.629580Z"
    },
    "hidden": true
   },
   "outputs": [],
   "source": [
    "# Try again\n",
    "clean_combined = pd.merge(clean_outcomes, clean_intakes, \n",
    "                    on='Animal ID',\n",
    "                    how='inner',\n",
    "                    suffixes=['_outcomes','_intakes'])"
   ]
  },
  {
   "cell_type": "code",
   "execution_count": null,
   "metadata": {
    "ExecuteTime": {
     "end_time": "2023-04-10T21:59:26.660080Z",
     "start_time": "2023-04-10T21:59:26.652079Z"
    },
    "hidden": true
   },
   "outputs": [],
   "source": [
    "clean_combined.shape"
   ]
  },
  {
   "cell_type": "code",
   "execution_count": null,
   "metadata": {
    "ExecuteTime": {
     "end_time": "2023-04-10T21:59:32.410579Z",
     "start_time": "2023-04-10T21:59:32.374579Z"
    },
    "hidden": true
   },
   "outputs": [],
   "source": [
    "clean_combined.head()"
   ]
  },
  {
   "cell_type": "code",
   "execution_count": null,
   "metadata": {
    "ExecuteTime": {
     "end_time": "2023-04-10T22:02:19.407580Z",
     "start_time": "2023-04-10T22:02:19.138580Z"
    },
    "hidden": true
   },
   "outputs": [],
   "source": [
    "clean_combined"
   ]
  },
  {
   "cell_type": "markdown",
   "metadata": {
    "heading_collapsed": true
   },
   "source": [
    "# Level Up: Quick Column Name Clean Up Code"
   ]
  },
  {
   "cell_type": "markdown",
   "metadata": {
    "hidden": true
   },
   "source": [
    "Throwing a quick use of a lambda function your way:"
   ]
  },
  {
   "cell_type": "code",
   "execution_count": null,
   "metadata": {
    "ExecuteTime": {
     "end_time": "2023-04-10T22:01:21.856079Z",
     "start_time": "2023-04-10T22:01:21.823079Z"
    },
    "hidden": true,
    "scrolled": true
   },
   "outputs": [],
   "source": [
    "outcomes_renamed = outcomes.rename(columns = lambda x: x.replace(\" \", \"_\").lower().strip())\n",
    "outcomes_renamed.head()"
   ]
  },
  {
   "cell_type": "markdown",
   "metadata": {
    "heading_collapsed": true
   },
   "source": [
    "# Level Up: `pandas.set_option()`"
   ]
  },
  {
   "cell_type": "markdown",
   "metadata": {
    "hidden": true
   },
   "source": [
    "We can adjust how `pandas` works by setting options in advance."
   ]
  },
  {
   "cell_type": "markdown",
   "metadata": {
    "hidden": true
   },
   "source": [
    "For complete documentation, see [here](https://pandas.pydata.org/pandas-docs/stable/user_guide/options.html)."
   ]
  },
  {
   "cell_type": "markdown",
   "metadata": {
    "hidden": true
   },
   "source": [
    "## Block Scientific Notation"
   ]
  },
  {
   "cell_type": "markdown",
   "metadata": {
    "hidden": true
   },
   "source": [
    "For example, suppose we want to prevent numbers from being displayed in scientific notation."
   ]
  },
  {
   "cell_type": "code",
   "execution_count": null,
   "metadata": {
    "ExecuteTime": {
     "end_time": "2023-04-10T22:04:25.391581Z",
     "start_time": "2023-04-10T22:04:25.376079Z"
    },
    "hidden": true
   },
   "outputs": [],
   "source": [
    "df = pd.DataFrame([[1e9, 2e9], [3e9, 4e9]])\n",
    "df"
   ]
  },
  {
   "cell_type": "markdown",
   "metadata": {
    "hidden": true
   },
   "source": [
    "Then we can use:"
   ]
  },
  {
   "cell_type": "code",
   "execution_count": null,
   "metadata": {
    "ExecuteTime": {
     "end_time": "2023-04-10T22:04:39.186579Z",
     "start_time": "2023-04-10T22:04:39.171079Z"
    },
    "hidden": true
   },
   "outputs": [],
   "source": [
    "pd.set_option('display.float_format', '{:.2f}'.format)\n",
    "\n",
    "df"
   ]
  },
  {
   "cell_type": "markdown",
   "metadata": {
    "hidden": true
   },
   "source": [
    "## See More Rows"
   ]
  },
  {
   "cell_type": "markdown",
   "metadata": {
    "hidden": true
   },
   "source": [
    "Or suppose we want `pandas` to show more rows."
   ]
  },
  {
   "cell_type": "code",
   "execution_count": null,
   "metadata": {
    "ExecuteTime": {
     "end_time": "2023-04-10T22:02:51.368579Z",
     "start_time": "2023-04-10T22:02:51.341081Z"
    },
    "hidden": true
   },
   "outputs": [],
   "source": [
    "df2 = pd.DataFrame(np.array(range(100)))\n",
    "df2"
   ]
  },
  {
   "cell_type": "markdown",
   "metadata": {
    "hidden": true
   },
   "source": [
    "In that case we can use:"
   ]
  },
  {
   "cell_type": "code",
   "execution_count": null,
   "metadata": {
    "ExecuteTime": {
     "end_time": "2023-04-10T22:04:00.343579Z",
     "start_time": "2023-04-10T22:04:00.339079Z"
    },
    "hidden": true
   },
   "outputs": [],
   "source": [
    "pd.set_option('display.max_columns', 30)"
   ]
  },
  {
   "cell_type": "code",
   "execution_count": null,
   "metadata": {
    "ExecuteTime": {
     "end_time": "2023-04-10T22:04:11.317580Z",
     "start_time": "2023-04-10T22:04:11.294080Z"
    },
    "hidden": true
   },
   "outputs": [],
   "source": [
    "clean_combined.head()"
   ]
  },
  {
   "cell_type": "code",
   "execution_count": null,
   "metadata": {
    "ExecuteTime": {
     "end_time": "2023-04-10T22:03:00.172579Z",
     "start_time": "2023-04-10T22:03:00.147580Z"
    },
    "hidden": true,
    "scrolled": false
   },
   "outputs": [],
   "source": [
    "pd.set_option('display.max_rows', 100)\n",
    "\n",
    "df2"
   ]
  },
  {
   "cell_type": "code",
   "execution_count": null,
   "metadata": {
    "hidden": true
   },
   "outputs": [],
   "source": []
  }
 ],
 "metadata": {
  "kernelspec": {
   "display_name": "learn-env",
   "language": "python",
   "name": "learn-env"
  },
  "language_info": {
   "codemirror_mode": {
    "name": "ipython",
    "version": 3
   },
   "file_extension": ".py",
   "mimetype": "text/x-python",
   "name": "python",
   "nbconvert_exporter": "python",
   "pygments_lexer": "ipython3",
   "version": "3.8.5"
  },
  "toc": {
   "base_numbering": 1,
   "nav_menu": {},
   "number_sections": true,
   "sideBar": true,
   "skip_h1_title": false,
   "title_cell": "Table of Contents",
   "title_sidebar": "TOC",
   "toc_cell": true,
   "toc_position": {
    "height": "calc(100% - 180px)",
    "left": "10px",
    "top": "150px",
    "width": "288px"
   },
   "toc_section_display": true,
   "toc_window_display": false
  },
  "varInspector": {
   "cols": {
    "lenName": 16,
    "lenType": 16,
    "lenVar": 40
   },
   "kernels_config": {
    "python": {
     "delete_cmd_postfix": "",
     "delete_cmd_prefix": "del ",
     "library": "var_list.py",
     "varRefreshCmd": "print(var_dic_list())"
    },
    "r": {
     "delete_cmd_postfix": ") ",
     "delete_cmd_prefix": "rm(",
     "library": "var_list.r",
     "varRefreshCmd": "cat(var_dic_list()) "
    }
   },
   "types_to_exclude": [
    "module",
    "function",
    "builtin_function_or_method",
    "instance",
    "_Feature"
   ],
   "window_display": false
  }
 },
 "nbformat": 4,
 "nbformat_minor": 2
}
