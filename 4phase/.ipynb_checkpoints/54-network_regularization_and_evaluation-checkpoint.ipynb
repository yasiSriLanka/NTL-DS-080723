{
 "cells": [
  {
   "cell_type": "markdown",
   "metadata": {
    "heading_collapsed": true,
    "slideshow": {
     "slide_type": "slide"
    }
   },
   "source": [
    "# Regularization and Evaluation of Neural Networks"
   ]
  },
  {
   "cell_type": "markdown",
   "metadata": {
    "hidden": true
   },
   "source": [
    "<a href=\"https://colab.research.google.com/github/flatiron-school/NTL01-DTSC-LIVE-040323/blob/main/4phase/63-network_regularization_and_evaluation.ipynb\" \n",
    "target=\"_parent\"><img src=\"https://colab.research.google.com/assets/colab-badge.svg\" alt=\"Open In Colab\"/></a>"
   ]
  },
  {
   "cell_type": "code",
   "execution_count": 60,
   "metadata": {
    "ExecuteTime": {
     "end_time": "2023-10-16T03:20:10.137492Z",
     "start_time": "2023-10-16T03:20:10.024487Z"
    },
    "hidden": true,
    "scrolled": true
   },
   "outputs": [
    {
     "ename": "ImportError",
     "evalue": "SciKeras requires TensorFlow >= 2.7.0.",
     "output_type": "error",
     "traceback": [
      "\u001b[1;31m---------------------------------------------------------------------------\u001b[0m",
      "\u001b[1;31mImportError\u001b[0m                               Traceback (most recent call last)",
      "\u001b[1;32m<ipython-input-60-a65662a1832b>\u001b[0m in \u001b[0;36m<module>\u001b[1;34m\u001b[0m\n\u001b[0;32m     18\u001b[0m \u001b[1;32mfrom\u001b[0m \u001b[0mtensorflow\u001b[0m\u001b[1;33m.\u001b[0m\u001b[0mkeras\u001b[0m\u001b[1;33m.\u001b[0m\u001b[0mmetrics\u001b[0m \u001b[1;32mimport\u001b[0m \u001b[0mPrecision\u001b[0m\u001b[1;33m\u001b[0m\u001b[1;33m\u001b[0m\u001b[0m\n\u001b[0;32m     19\u001b[0m \u001b[1;33m\u001b[0m\u001b[0m\n\u001b[1;32m---> 20\u001b[1;33m \u001b[1;32mfrom\u001b[0m \u001b[0mscikeras\u001b[0m\u001b[1;33m.\u001b[0m\u001b[0mwrappers\u001b[0m \u001b[1;32mimport\u001b[0m \u001b[0mKerasClassifier\u001b[0m\u001b[1;33m\u001b[0m\u001b[1;33m\u001b[0m\u001b[0m\n\u001b[0m\u001b[0;32m     21\u001b[0m \u001b[1;33m\u001b[0m\u001b[0m\n\u001b[0;32m     22\u001b[0m \u001b[1;32mimport\u001b[0m \u001b[0mos\u001b[0m\u001b[1;33m\u001b[0m\u001b[1;33m\u001b[0m\u001b[0m\n",
      "\u001b[1;32m~\\anaconda3\\envs\\learn-env\\lib\\site-packages\\scikeras\\__init__.py\u001b[0m in \u001b[0;36m<module>\u001b[1;34m\u001b[0m\n\u001b[0;32m     22\u001b[0m \u001b[1;32melse\u001b[0m\u001b[1;33m:\u001b[0m\u001b[1;33m\u001b[0m\u001b[1;33m\u001b[0m\u001b[0m\n\u001b[0;32m     23\u001b[0m     \u001b[1;32mif\u001b[0m \u001b[0mversion\u001b[0m\u001b[1;33m.\u001b[0m\u001b[0mparse\u001b[0m\u001b[1;33m(\u001b[0m\u001b[0mtf_version\u001b[0m\u001b[1;33m)\u001b[0m \u001b[1;33m<\u001b[0m \u001b[0mversion\u001b[0m\u001b[1;33m.\u001b[0m\u001b[0mparse\u001b[0m\u001b[1;33m(\u001b[0m\u001b[0mMIN_TF_VERSION\u001b[0m\u001b[1;33m)\u001b[0m\u001b[1;33m:\u001b[0m  \u001b[1;31m# pragma: no cover\u001b[0m\u001b[1;33m\u001b[0m\u001b[1;33m\u001b[0m\u001b[0m\n\u001b[1;32m---> 24\u001b[1;33m         \u001b[1;32mraise\u001b[0m \u001b[0mImportError\u001b[0m\u001b[1;33m(\u001b[0m\u001b[0mTF_VERSION_ERR\u001b[0m\u001b[1;33m)\u001b[0m \u001b[1;32mfrom\u001b[0m \u001b[1;32mNone\u001b[0m\u001b[1;33m\u001b[0m\u001b[1;33m\u001b[0m\u001b[0m\n\u001b[0m\u001b[0;32m     25\u001b[0m \u001b[1;33m\u001b[0m\u001b[0m\n\u001b[0;32m     26\u001b[0m \u001b[1;32mimport\u001b[0m \u001b[0mtensorflow\u001b[0m\u001b[1;33m.\u001b[0m\u001b[0mkeras\u001b[0m \u001b[1;32mas\u001b[0m \u001b[0m_keras\u001b[0m  \u001b[1;31m# noqa: E402\u001b[0m\u001b[1;33m\u001b[0m\u001b[1;33m\u001b[0m\u001b[0m\n",
      "\u001b[1;31mImportError\u001b[0m: SciKeras requires TensorFlow >= 2.7.0."
     ]
    }
   ],
   "source": [
    "from sklearn.datasets import load_sample_images\n",
    "from sklearn.datasets import load_digits\n",
    "from sklearn.model_selection import train_test_split, cross_val_score\n",
    "from sklearn.preprocessing import OneHotEncoder\n",
    "from sklearn.metrics import accuracy_score, confusion_matrix\n",
    "import matplotlib.pyplot as plt\n",
    "import matplotlib.image as mpimg\n",
    "import numpy as np\n",
    "import seaborn as sns\n",
    "\n",
    "\n",
    "from tensorflow.keras.models import Sequential\n",
    "from tensorflow.keras.layers import Dense, Dropout\n",
    "from tensorflow.keras.regularizers import l2\n",
    "from tensorflow.keras.optimizers import SGD\n",
    "#from tensorflow.keras.wrappers import scikit_learn\n",
    "from tensorflow.keras.callbacks import EarlyStopping\n",
    "from tensorflow.keras.metrics import Precision\n",
    "\n",
    "from scikeras.wrappers import KerasClassifier\n",
    "\n",
    "import os\n",
    "import sys\n",
    "module_path = os.path.abspath(os.path.join(os.pardir, os.pardir))\n",
    "if module_path not in sys.path:\n",
    "    sys.path.append(module_path)\n",
    "    \n",
    "%load_ext autoreload\n",
    "%autoreload 2"
   ]
  },
  {
   "cell_type": "code",
   "execution_count": 61,
   "metadata": {
    "ExecuteTime": {
     "end_time": "2023-10-16T02:54:41.782248Z",
     "start_time": "2023-10-16T02:54:41.673248Z"
    },
    "hidden": true
   },
   "outputs": [
    {
     "name": "stdout",
     "output_type": "stream",
     "text": [
      "Requirement already satisfied: scikeras in c:\\users\\yasit\\anaconda3\\envs\\learn-env\\lib\\site-packages (0.12.0)\n",
      "Requirement already satisfied: scikit-learn>=1.0.0 in c:\\users\\yasit\\anaconda3\\envs\\learn-env\\lib\\site-packages (from scikeras) (1.3.1)\n",
      "Requirement already satisfied: tensorflow-io-gcs-filesystem<0.32,>=0.23.1; sys_platform == \"win32\" in c:\\users\\yasit\\anaconda3\\envs\\learn-env\\lib\\site-packages (from scikeras) (0.31.0)\n",
      "Requirement already satisfied: packaging>=0.21 in c:\\users\\yasit\\anaconda3\\envs\\learn-env\\lib\\site-packages (from scikeras) (20.4)\n",
      "Requirement already satisfied: scipy>=1.5.0 in c:\\users\\yasit\\anaconda3\\envs\\learn-env\\lib\\site-packages (from scikit-learn>=1.0.0->scikeras) (1.5.0)\n",
      "Requirement already satisfied: threadpoolctl>=2.0.0 in c:\\users\\yasit\\anaconda3\\envs\\learn-env\\lib\\site-packages (from scikit-learn>=1.0.0->scikeras) (2.1.0)\n",
      "Requirement already satisfied: numpy<2.0,>=1.17.3 in c:\\users\\yasit\\anaconda3\\envs\\learn-env\\lib\\site-packages (from scikit-learn>=1.0.0->scikeras) (1.18.5)\n",
      "Requirement already satisfied: joblib>=1.1.1 in c:\\users\\yasit\\anaconda3\\envs\\learn-env\\lib\\site-packages (from scikit-learn>=1.0.0->scikeras) (1.3.2)\n",
      "Requirement already satisfied: pyparsing>=2.0.2 in c:\\users\\yasit\\anaconda3\\envs\\learn-env\\lib\\site-packages (from packaging>=0.21->scikeras) (2.4.7)\n",
      "Requirement already satisfied: six in c:\\users\\yasit\\anaconda3\\envs\\learn-env\\lib\\site-packages (from packaging>=0.21->scikeras) (1.15.0)\n"
     ]
    }
   ],
   "source": [
    "!pip install scikeras"
   ]
  },
  {
   "cell_type": "code",
   "execution_count": 62,
   "metadata": {
    "ExecuteTime": {
     "end_time": "2023-10-16T03:20:14.203343Z",
     "start_time": "2023-10-16T03:20:14.056343Z"
    },
    "hidden": true
   },
   "outputs": [
    {
     "name": "stdout",
     "output_type": "stream",
     "text": [
      "Num GPUs Available:  0\n"
     ]
    }
   ],
   "source": [
    "import tensorflow as tf\n",
    "print(\"Num GPUs Available: \", len(tf.config.list_physical_devices('GPU')))"
   ]
  },
  {
   "cell_type": "markdown",
   "metadata": {
    "heading_collapsed": true,
    "hidden": true
   },
   "source": [
    "## Learning Objectives\n",
    "\n",
    "- use `keras` to code up a neural network model;\n",
    "- explain dropout and early stopping as distinctive forms of regularization in neural networks;\n",
    "- use wrappers inside `keras` to make models that can jibe with `sklearn`."
   ]
  },
  {
   "cell_type": "markdown",
   "metadata": {
    "heading_collapsed": true,
    "hidden": true
   },
   "source": [
    "### From last time"
   ]
  },
  {
   "cell_type": "code",
   "execution_count": 63,
   "metadata": {
    "ExecuteTime": {
     "end_time": "2023-10-16T02:54:43.259941Z",
     "start_time": "2023-10-16T02:54:43.088110Z"
    },
    "hidden": true
   },
   "outputs": [],
   "source": [
    "digits = load_digits()\n",
    "X = digits.data.astype('float32')\n",
    "y = digits.target.astype('float32')\n",
    "\n",
    "y_binary = y % 2"
   ]
  },
  {
   "cell_type": "code",
   "execution_count": 64,
   "metadata": {
    "ExecuteTime": {
     "end_time": "2023-10-16T02:55:19.645649Z",
     "start_time": "2023-10-16T02:54:43.260913Z"
    },
    "hidden": true,
    "scrolled": false
   },
   "outputs": [
    {
     "name": "stdout",
     "output_type": "stream",
     "text": [
      "Epoch 1/50\n",
      "180/180 [==============================] - 0s 753us/step - loss: 0.4733 - accuracy: 0.7852\n",
      "Epoch 2/50\n",
      "180/180 [==============================] - 0s 750us/step - loss: 0.2285 - accuracy: 0.9043\n",
      "Epoch 3/50\n",
      "180/180 [==============================] - 0s 841us/step - loss: 0.1681 - accuracy: 0.9282\n",
      "Epoch 4/50\n",
      "180/180 [==============================] - 0s 827us/step - loss: 0.1333 - accuracy: 0.9499\n",
      "Epoch 5/50\n",
      "180/180 [==============================] - 0s 793us/step - loss: 0.1077 - accuracy: 0.9644\n",
      "Epoch 6/50\n",
      "180/180 [==============================] - 0s 823us/step - loss: 0.0946 - accuracy: 0.9672\n",
      "Epoch 7/50\n",
      "180/180 [==============================] - ETA: 0s - loss: 0.0847 - accuracy: 0.97 - 0s 824us/step - loss: 0.0833 - accuracy: 0.9705\n",
      "Epoch 8/50\n",
      "180/180 [==============================] - 0s 758us/step - loss: 0.0681 - accuracy: 0.9777\n",
      "Epoch 9/50\n",
      "180/180 [==============================] - 0s 805us/step - loss: 0.0605 - accuracy: 0.9794\n",
      "Epoch 10/50\n",
      "180/180 [==============================] - 0s 908us/step - loss: 0.0532 - accuracy: 0.9794\n",
      "Epoch 11/50\n",
      "180/180 [==============================] - 0s 834us/step - loss: 0.0513 - accuracy: 0.9833\n",
      "Epoch 12/50\n",
      "180/180 [==============================] - 0s 809us/step - loss: 0.0459 - accuracy: 0.9839\n",
      "Epoch 13/50\n",
      "180/180 [==============================] - 0s 823us/step - loss: 0.0429 - accuracy: 0.9878\n",
      "Epoch 14/50\n",
      "180/180 [==============================] - 0s 894us/step - loss: 0.0378 - accuracy: 0.9866\n",
      "Epoch 15/50\n",
      "180/180 [==============================] - 0s 883us/step - loss: 0.0367 - accuracy: 0.9883\n",
      "Epoch 16/50\n",
      "180/180 [==============================] - 0s 872us/step - loss: 0.0334 - accuracy: 0.9911\n",
      "Epoch 17/50\n",
      "180/180 [==============================] - 0s 890us/step - loss: 0.0290 - accuracy: 0.9911\n",
      "Epoch 18/50\n",
      "180/180 [==============================] - 0s 886us/step - loss: 0.0285 - accuracy: 0.9894\n",
      "Epoch 19/50\n",
      "180/180 [==============================] - 0s 863us/step - loss: 0.0240 - accuracy: 0.9922\n",
      "Epoch 20/50\n",
      "180/180 [==============================] - 0s 865us/step - loss: 0.0227 - accuracy: 0.9933\n",
      "Epoch 21/50\n",
      "180/180 [==============================] - 0s 884us/step - loss: 0.0207 - accuracy: 0.9939\n",
      "Epoch 22/50\n",
      "180/180 [==============================] - 0s 883us/step - loss: 0.0202 - accuracy: 0.9933\n",
      "Epoch 23/50\n",
      "180/180 [==============================] - 0s 874us/step - loss: 0.0171 - accuracy: 0.9939\n",
      "Epoch 24/50\n",
      "180/180 [==============================] - 0s 881us/step - loss: 0.0159 - accuracy: 0.9944\n",
      "Epoch 25/50\n",
      "180/180 [==============================] - 0s 849us/step - loss: 0.0162 - accuracy: 0.9944\n",
      "Epoch 26/50\n",
      "180/180 [==============================] - 0s 861us/step - loss: 0.0144 - accuracy: 0.9944\n",
      "Epoch 27/50\n",
      "180/180 [==============================] - 0s 902us/step - loss: 0.0162 - accuracy: 0.9950\n",
      "Epoch 28/50\n",
      "180/180 [==============================] - 0s 854us/step - loss: 0.0143 - accuracy: 0.9961\n",
      "Epoch 29/50\n",
      "180/180 [==============================] - 0s 906us/step - loss: 0.0123 - accuracy: 0.9978\n",
      "Epoch 30/50\n",
      "180/180 [==============================] - 0s 896us/step - loss: 0.0103 - accuracy: 0.9967\n",
      "Epoch 31/50\n",
      "180/180 [==============================] - 0s 1ms/step - loss: 0.0082 - accuracy: 0.9983\n",
      "Epoch 32/50\n",
      "180/180 [==============================] - 0s 892us/step - loss: 0.0125 - accuracy: 0.9939\n",
      "Epoch 33/50\n",
      "180/180 [==============================] - 0s 883us/step - loss: 0.0112 - accuracy: 0.9961\n",
      "Epoch 34/50\n",
      "180/180 [==============================] - 0s 806us/step - loss: 0.0093 - accuracy: 0.9972\n",
      "Epoch 35/50\n",
      "180/180 [==============================] - 0s 788us/step - loss: 0.0074 - accuracy: 0.9983\n",
      "Epoch 36/50\n",
      "180/180 [==============================] - 0s 828us/step - loss: 0.0060 - accuracy: 0.9978\n",
      "Epoch 37/50\n",
      "180/180 [==============================] - 0s 840us/step - loss: 0.0073 - accuracy: 0.9983\n",
      "Epoch 38/50\n",
      "180/180 [==============================] - 0s 911us/step - loss: 0.0068 - accuracy: 0.9972\n",
      "Epoch 39/50\n",
      "180/180 [==============================] - 0s 852us/step - loss: 0.0050 - accuracy: 0.9983\n",
      "Epoch 40/50\n",
      "180/180 [==============================] - 0s 866us/step - loss: 0.0050 - accuracy: 0.9983\n",
      "Epoch 41/50\n",
      "180/180 [==============================] - 0s 826us/step - loss: 0.0061 - accuracy: 0.9978\n",
      "Epoch 42/50\n",
      "180/180 [==============================] - 0s 912us/step - loss: 0.0035 - accuracy: 0.9994\n",
      "Epoch 43/50\n",
      "180/180 [==============================] - 0s 809us/step - loss: 0.0063 - accuracy: 0.9978\n",
      "Epoch 44/50\n",
      "180/180 [==============================] - 0s 865us/step - loss: 0.0034 - accuracy: 0.9989\n",
      "Epoch 45/50\n",
      "180/180 [==============================] - 0s 908us/step - loss: 0.0036 - accuracy: 0.9989\n",
      "Epoch 46/50\n",
      "180/180 [==============================] - 0s 858us/step - loss: 0.0052 - accuracy: 0.9978\n",
      "Epoch 47/50\n",
      "180/180 [==============================] - 0s 833us/step - loss: 0.0034 - accuracy: 0.9983\n",
      "Epoch 48/50\n",
      "180/180 [==============================] - 0s 864us/step - loss: 0.0029 - accuracy: 0.9989\n",
      "Epoch 49/50\n",
      "180/180 [==============================] - 0s 870us/step - loss: 0.0055 - accuracy: 0.9978\n",
      "Epoch 50/50\n",
      "180/180 [==============================] - 0s 842us/step - loss: 0.0028 - accuracy: 0.9983\n"
     ]
    },
    {
     "data": {
      "text/plain": [
       "<tensorflow.python.keras.callbacks.History at 0x1b90b3fc550>"
      ]
     },
     "execution_count": 64,
     "metadata": {},
     "output_type": "execute_result"
    }
   ],
   "source": [
    "model = Sequential()\n",
    "model.add(Dense(12, activation='relu', input_dim=64))\n",
    "model.add(Dense(8, activation='relu'))\n",
    "model.add(Dense(1, activation='sigmoid'))\n",
    "\n",
    "model.compile(optimizer='rmsprop',\n",
    "              loss='binary_crossentropy',\n",
    "              metrics=['accuracy'])\n",
    "\n",
    "model.fit(X, y_binary, epochs=50, batch_size=10)"
   ]
  },
  {
   "cell_type": "markdown",
   "metadata": {
    "heading_collapsed": true,
    "hidden": true
   },
   "source": [
    "### Things to know:"
   ]
  },
  {
   "cell_type": "markdown",
   "metadata": {
    "hidden": true
   },
   "source": [
    "- The data and labels in `fit()` need to be numpy arrays, not `pandas` dfs.\n",
    "- Scaling your data will have a large impact on your model.\n",
    "   > For our traditional input features, we would use a scaler object. For images, as long as the minimum value is 0, we can simply divide through by the maximum pixel intensity."
   ]
  },
  {
   "cell_type": "markdown",
   "metadata": {
    "heading_collapsed": true,
    "hidden": true
   },
   "source": [
    "#### Getting data ready for modeling"
   ]
  },
  {
   "cell_type": "markdown",
   "metadata": {
    "hidden": true
   },
   "source": [
    "**Preprocessing**:\n",
    "\n",
    "- use train_test_split to create X_train, y_train, X_test, and y_test\n",
    "- Split training data into pure_train and validation sets.\n",
    "- Scale the pixel intensity to a value between 0 and 1."
   ]
  },
  {
   "cell_type": "markdown",
   "metadata": {
    "hidden": true
   },
   "source": [
    "Scaling our input variables will help speed up our neural network.\n",
    "\n",
    "Since our minimum intensity is 0, we can normalize the inputs by dividing each value by the max value (16)."
   ]
  },
  {
   "cell_type": "code",
   "execution_count": 65,
   "metadata": {
    "ExecuteTime": {
     "end_time": "2023-10-16T02:55:19.772650Z",
     "start_time": "2023-10-16T02:55:19.646650Z"
    },
    "hidden": true
   },
   "outputs": [],
   "source": [
    "X_train, X_test, y_train, y_test =\\\n",
    "    train_test_split(X, y_binary, random_state=42, test_size=0.2)\n",
    "\n",
    "X_pure_train, X_val, y_pure_train, y_val =\\\n",
    "    train_test_split(X_train, y_train, random_state=42, test_size=0.2)\n",
    "\n",
    "X_pure_train, X_val, X_test = X_pure_train/16, X_val/16, X_test/16"
   ]
  },
  {
   "cell_type": "markdown",
   "metadata": {
    "hidden": true
   },
   "source": [
    "For activation, let's start with the familiar sigmoid function, and see how it performs."
   ]
  },
  {
   "cell_type": "code",
   "execution_count": 66,
   "metadata": {
    "ExecuteTime": {
     "end_time": "2023-10-16T02:55:20.719649Z",
     "start_time": "2023-10-16T02:55:19.773650Z"
    },
    "hidden": true
   },
   "outputs": [
    {
     "name": "stdout",
     "output_type": "stream",
     "text": [
      "Epoch 1/10\n",
      "12/12 [==============================] - 0s 940us/step - loss: 0.6949 - accuracy: 0.5048\n",
      "Epoch 2/10\n",
      "12/12 [==============================] - 0s 1ms/step - loss: 0.6945 - accuracy: 0.5048\n",
      "Epoch 3/10\n",
      "12/12 [==============================] - 0s 1ms/step - loss: 0.6941 - accuracy: 0.5048\n",
      "Epoch 4/10\n",
      "12/12 [==============================] - 0s 1ms/step - loss: 0.6937 - accuracy: 0.5065\n",
      "Epoch 5/10\n",
      "12/12 [==============================] - 0s 1ms/step - loss: 0.6934 - accuracy: 0.5135\n",
      "Epoch 6/10\n",
      "12/12 [==============================] - 0s 1ms/step - loss: 0.6932 - accuracy: 0.5135\n",
      "Epoch 7/10\n",
      "12/12 [==============================] - 0s 922us/step - loss: 0.6929 - accuracy: 0.5205\n",
      "Epoch 8/10\n",
      "12/12 [==============================] - 0s 760us/step - loss: 0.6927 - accuracy: 0.5344\n",
      "Epoch 9/10\n",
      "12/12 [==============================] - 0s 1ms/step - loss: 0.6925 - accuracy: 0.5527\n",
      "Epoch 10/10\n",
      "12/12 [==============================] - 0s 1ms/step - loss: 0.6923 - accuracy: 0.5596\n"
     ]
    }
   ],
   "source": [
    "model = Sequential()\n",
    "# We will start with our trusty sigmoid function.\n",
    "# What does input dimension correspond to?\n",
    "model.add(Dense(12, activation='sigmoid', input_dim=64))\n",
    "model.add(Dense(8, activation='sigmoid'))\n",
    "model.add(Dense(1, activation='sigmoid'))\n",
    "\n",
    "model.compile(optimizer='SGD' ,\n",
    "              # We use binary_crossentropy for a binary loss function\n",
    "              loss='binary_crossentropy',\n",
    "              metrics=['accuracy'])\n",
    "\n",
    "# Assign the variable history to store the results,\n",
    "# and set verbose=1 so we can see the output. To see\n",
    "# only the metrics at the end of each epoch, set verbose=2.\n",
    "results = model.fit(X_pure_train, y_pure_train, epochs=10, batch_size=100, verbose=1)"
   ]
  },
  {
   "cell_type": "markdown",
   "metadata": {
    "hidden": true
   },
   "source": [
    "We can access the history of our model via `results.history`.\n",
    "Use __dict__ to take a tour."
   ]
  },
  {
   "cell_type": "code",
   "execution_count": 67,
   "metadata": {
    "ExecuteTime": {
     "end_time": "2023-10-16T02:55:20.844649Z",
     "start_time": "2023-10-16T02:55:20.720649Z"
    },
    "hidden": true
   },
   "outputs": [
    {
     "data": {
      "text/plain": [
       "{'validation_data': None,\n",
       " 'model': <tensorflow.python.keras.engine.sequential.Sequential at 0x1b97ff0e4c0>,\n",
       " '_chief_worker_only': None,\n",
       " '_supports_tf_logs': False,\n",
       " 'history': {'loss': [0.6949220299720764,\n",
       "   0.694478452205658,\n",
       "   0.694061279296875,\n",
       "   0.6937110424041748,\n",
       "   0.6934316754341125,\n",
       "   0.6931948661804199,\n",
       "   0.6929352283477783,\n",
       "   0.6926670670509338,\n",
       "   0.6924806833267212,\n",
       "   0.6923055648803711],\n",
       "  'accuracy': [0.5047867894172668,\n",
       "   0.5047867894172668,\n",
       "   0.5047867894172668,\n",
       "   0.5065274238586426,\n",
       "   0.5134899616241455,\n",
       "   0.5134899616241455,\n",
       "   0.5204525589942932,\n",
       "   0.5343776941299438,\n",
       "   0.552654504776001,\n",
       "   0.5596170425415039]},\n",
       " 'params': {'verbose': 1, 'epochs': 10, 'steps': 12},\n",
       " 'epoch': [0, 1, 2, 3, 4, 5, 6, 7, 8, 9]}"
      ]
     },
     "execution_count": 67,
     "metadata": {},
     "output_type": "execute_result"
    }
   ],
   "source": [
    "results.__dict__"
   ]
  },
  {
   "cell_type": "code",
   "execution_count": 68,
   "metadata": {
    "ExecuteTime": {
     "end_time": "2023-10-16T02:55:21.221650Z",
     "start_time": "2023-10-16T02:55:20.847652Z"
    },
    "hidden": true
   },
   "outputs": [
    {
     "data": {
      "image/png": "[encoded data removed]",
      "text/plain": [
       "<Figure size 720x360 with 2 Axes>"
      ]
     },
     "metadata": {
      "needs_background": "light"
     },
     "output_type": "display_data"
    }
   ],
   "source": [
    "sigmoid_loss = results.history['loss']\n",
    "sigmoid_accuracy = results.history['accuracy']\n",
    "\n",
    "fig, (ax1, ax2) = plt.subplots(1, 2, figsize=(10, 5))\n",
    "sns.lineplot(x=results.epoch, y=sigmoid_loss, ax=ax1, label='loss')\n",
    "sns.lineplot(x=results.epoch, y=sigmoid_accuracy, ax=ax2, label='accuracy');"
   ]
  },
  {
   "cell_type": "markdown",
   "metadata": {
    "hidden": true
   },
   "source": [
    "We have two plots above both relating to the quality of our model.  The left-hand plot is our loss. It uses the probabilities associated with our predictions to judge how well our prediction fits reality. We want it to decrease as far as possible.\n",
    "\n",
    "The accuracy judges how well the predictions are after applying the threshold at the output layer.  We want accuracy to increase."
   ]
  },
  {
   "cell_type": "markdown",
   "metadata": {
    "hidden": true
   },
   "source": [
    "If we look at our loss, it is still decreasing. That is a signal that our model is **still learning**. If our model is still learning, we can allow it to get better by turning a few dials.\n",
    "\n",
    "Let's:\n",
    "- increase the number of epochs;\n",
    "- change sigmoid activation in the hidden layers to ReLU; and\n",
    "- decrease the batch size."
   ]
  },
  {
   "cell_type": "code",
   "execution_count": 69,
   "metadata": {
    "ExecuteTime": {
     "end_time": "2023-10-16T02:55:21.332682Z",
     "start_time": "2023-10-16T02:55:21.222650Z"
    },
    "hidden": true
   },
   "outputs": [
    {
     "data": {
      "text/plain": [
       "1149"
      ]
     },
     "execution_count": 69,
     "metadata": {},
     "output_type": "execute_result"
    }
   ],
   "source": [
    "X_pure_train.shape[0]"
   ]
  },
  {
   "cell_type": "code",
   "execution_count": 70,
   "metadata": {
    "ExecuteTime": {
     "end_time": "2023-10-16T02:55:32.157654Z",
     "start_time": "2023-10-16T02:55:21.333650Z"
    },
    "hidden": true
   },
   "outputs": [
    {
     "name": "stdout",
     "output_type": "stream",
     "text": [
      "Epoch 1/100\n",
      "115/115 [==============================] - 0s 697us/step - loss: 0.6698 - accuracy: 0.6197\n",
      "Epoch 2/100\n",
      "115/115 [==============================] - 0s 775us/step - loss: 0.6136 - accuracy: 0.7171\n",
      "Epoch 3/100\n",
      "115/115 [==============================] - 0s 786us/step - loss: 0.5326 - accuracy: 0.7972\n",
      "Epoch 4/100\n",
      "115/115 [==============================] - 0s 779us/step - loss: 0.4482 - accuracy: 0.8320\n",
      "Epoch 5/100\n",
      "115/115 [==============================] - 0s 797us/step - loss: 0.3807 - accuracy: 0.8416\n",
      "Epoch 6/100\n",
      "115/115 [==============================] - 0s 791us/step - loss: 0.3336 - accuracy: 0.8494\n",
      "Epoch 7/100\n",
      "115/115 [==============================] - 0s 742us/step - loss: 0.3020 - accuracy: 0.8712\n",
      "Epoch 8/100\n",
      "115/115 [==============================] - 0s 864us/step - loss: 0.2775 - accuracy: 0.8825\n",
      "Epoch 9/100\n",
      "115/115 [==============================] - 0s 843us/step - loss: 0.2584 - accuracy: 0.8903\n",
      "Epoch 10/100\n",
      "115/115 [==============================] - 0s 884us/step - loss: 0.2471 - accuracy: 0.8903\n",
      "Epoch 11/100\n",
      "115/115 [==============================] - 0s 732us/step - loss: 0.2361 - accuracy: 0.8999\n",
      "Epoch 12/100\n",
      "115/115 [==============================] - 0s 770us/step - loss: 0.2273 - accuracy: 0.9034\n",
      "Epoch 13/100\n",
      "115/115 [==============================] - 0s 810us/step - loss: 0.2194 - accuracy: 0.9008\n",
      "Epoch 14/100\n",
      "115/115 [==============================] - 0s 813us/step - loss: 0.2145 - accuracy: 0.9104\n",
      "Epoch 15/100\n",
      "115/115 [==============================] - 0s 745us/step - loss: 0.2096 - accuracy: 0.9086\n",
      "Epoch 16/100\n",
      "115/115 [==============================] - 0s 796us/step - loss: 0.2065 - accuracy: 0.9121\n",
      "Epoch 17/100\n",
      "115/115 [==============================] - 0s 829us/step - loss: 0.2006 - accuracy: 0.9130\n",
      "Epoch 18/100\n",
      "115/115 [==============================] - 0s 774us/step - loss: 0.1980 - accuracy: 0.9147\n",
      "Epoch 19/100\n",
      "115/115 [==============================] - 0s 824us/step - loss: 0.1946 - accuracy: 0.9121\n",
      "Epoch 20/100\n",
      "115/115 [==============================] - 0s 831us/step - loss: 0.1900 - accuracy: 0.9164\n",
      "Epoch 21/100\n",
      "115/115 [==============================] - 0s 852us/step - loss: 0.1873 - accuracy: 0.9191\n",
      "Epoch 22/100\n",
      "115/115 [==============================] - 0s 820us/step - loss: 0.1863 - accuracy: 0.9191\n",
      "Epoch 23/100\n",
      "115/115 [==============================] - 0s 877us/step - loss: 0.1830 - accuracy: 0.9191\n",
      "Epoch 24/100\n",
      "115/115 [==============================] - 0s 871us/step - loss: 0.1787 - accuracy: 0.9191\n",
      "Epoch 25/100\n",
      "115/115 [==============================] - 0s 778us/step - loss: 0.1778 - accuracy: 0.9225\n",
      "Epoch 26/100\n",
      "115/115 [==============================] - 0s 720us/step - loss: 0.1730 - accuracy: 0.9269\n",
      "Epoch 27/100\n",
      "115/115 [==============================] - 0s 812us/step - loss: 0.1712 - accuracy: 0.9234\n",
      "Epoch 28/100\n",
      "115/115 [==============================] - 0s 700us/step - loss: 0.1679 - accuracy: 0.9295\n",
      "Epoch 29/100\n",
      "115/115 [==============================] - 0s 754us/step - loss: 0.1653 - accuracy: 0.9260\n",
      "Epoch 30/100\n",
      "115/115 [==============================] - 0s 746us/step - loss: 0.1625 - accuracy: 0.9286\n",
      "Epoch 31/100\n",
      "115/115 [==============================] - 0s 769us/step - loss: 0.1586 - accuracy: 0.9252\n",
      "Epoch 32/100\n",
      "115/115 [==============================] - 0s 827us/step - loss: 0.1588 - accuracy: 0.9304\n",
      "Epoch 33/100\n",
      "115/115 [==============================] - 0s 874us/step - loss: 0.1562 - accuracy: 0.9312\n",
      "Epoch 34/100\n",
      "115/115 [==============================] - 0s 777us/step - loss: 0.1546 - accuracy: 0.9339\n",
      "Epoch 35/100\n",
      "115/115 [==============================] - 0s 912us/step - loss: 0.1524 - accuracy: 0.9312\n",
      "Epoch 36/100\n",
      "115/115 [==============================] - 0s 848us/step - loss: 0.1490 - accuracy: 0.9347\n",
      "Epoch 37/100\n",
      "115/115 [==============================] - 0s 742us/step - loss: 0.1433 - accuracy: 0.9434\n",
      "Epoch 38/100\n",
      "115/115 [==============================] - 0s 742us/step - loss: 0.1421 - accuracy: 0.9391\n",
      "Epoch 39/100\n",
      "115/115 [==============================] - 0s 835us/step - loss: 0.1390 - accuracy: 0.9408\n",
      "Epoch 40/100\n",
      "115/115 [==============================] - 0s 766us/step - loss: 0.1367 - accuracy: 0.9460\n",
      "Epoch 41/100\n",
      "115/115 [==============================] - 0s 746us/step - loss: 0.1349 - accuracy: 0.9408\n",
      "Epoch 42/100\n",
      "115/115 [==============================] - 0s 904us/step - loss: 0.1312 - accuracy: 0.9478\n",
      "Epoch 43/100\n",
      "115/115 [==============================] - 0s 822us/step - loss: 0.1268 - accuracy: 0.9460\n",
      "Epoch 44/100\n",
      "115/115 [==============================] - 0s 768us/step - loss: 0.1242 - accuracy: 0.9469\n",
      "Epoch 45/100\n",
      "115/115 [==============================] - 0s 815us/step - loss: 0.1203 - accuracy: 0.9487\n",
      "Epoch 46/100\n",
      "115/115 [==============================] - 0s 779us/step - loss: 0.1176 - accuracy: 0.9530\n",
      "Epoch 47/100\n",
      "115/115 [==============================] - 0s 976us/step - loss: 0.1167 - accuracy: 0.9513\n",
      "Epoch 48/100\n",
      "115/115 [==============================] - 0s 1ms/step - loss: 0.1118 - accuracy: 0.9530\n",
      "Epoch 49/100\n",
      "115/115 [==============================] - 0s 801us/step - loss: 0.1097 - accuracy: 0.9582\n",
      "Epoch 50/100\n",
      "115/115 [==============================] - 0s 770us/step - loss: 0.1075 - accuracy: 0.9582\n",
      "Epoch 51/100\n",
      "115/115 [==============================] - 0s 894us/step - loss: 0.1052 - accuracy: 0.9530\n",
      "Epoch 52/100\n",
      "115/115 [==============================] - 0s 851us/step - loss: 0.1017 - accuracy: 0.9582\n",
      "Epoch 53/100\n",
      "115/115 [==============================] - 0s 784us/step - loss: 0.1006 - accuracy: 0.9600\n",
      "Epoch 54/100\n",
      "115/115 [==============================] - 0s 780us/step - loss: 0.0977 - accuracy: 0.9634\n",
      "Epoch 55/100\n",
      "115/115 [==============================] - 0s 753us/step - loss: 0.0958 - accuracy: 0.9652\n",
      "Epoch 56/100\n",
      "115/115 [==============================] - 0s 797us/step - loss: 0.0931 - accuracy: 0.96430s - loss: 0.0921 - accuracy: 0.96\n",
      "Epoch 57/100\n",
      "115/115 [==============================] - 0s 848us/step - loss: 0.0896 - accuracy: 0.9695\n",
      "Epoch 58/100\n",
      "115/115 [==============================] - 0s 913us/step - loss: 0.0886 - accuracy: 0.9687\n",
      "Epoch 59/100\n",
      "115/115 [==============================] - 0s 792us/step - loss: 0.0859 - accuracy: 0.9678\n",
      "Epoch 60/100\n",
      "115/115 [==============================] - 0s 837us/step - loss: 0.0842 - accuracy: 0.9739\n",
      "Epoch 61/100\n",
      "115/115 [==============================] - 0s 828us/step - loss: 0.0806 - accuracy: 0.9730\n",
      "Epoch 62/100\n",
      "115/115 [==============================] - 0s 657us/step - loss: 0.0780 - accuracy: 0.9756\n",
      "Epoch 63/100\n",
      "115/115 [==============================] - 0s 919us/step - loss: 0.0766 - accuracy: 0.9704\n",
      "Epoch 64/100\n",
      "115/115 [==============================] - 0s 911us/step - loss: 0.0753 - accuracy: 0.9739\n",
      "Epoch 65/100\n",
      "115/115 [==============================] - 0s 949us/step - loss: 0.0725 - accuracy: 0.9756\n",
      "Epoch 66/100\n",
      "115/115 [==============================] - 0s 806us/step - loss: 0.0709 - accuracy: 0.9809\n",
      "Epoch 67/100\n",
      "115/115 [==============================] - 0s 742us/step - loss: 0.0687 - accuracy: 0.9826\n",
      "Epoch 68/100\n",
      "115/115 [==============================] - 0s 865us/step - loss: 0.0645 - accuracy: 0.9817\n",
      "Epoch 69/100\n",
      "115/115 [==============================] - 0s 862us/step - loss: 0.0664 - accuracy: 0.9791\n",
      "Epoch 70/100\n",
      "115/115 [==============================] - 0s 890us/step - loss: 0.0637 - accuracy: 0.9800\n",
      "Epoch 71/100\n",
      "115/115 [==============================] - 0s 959us/step - loss: 0.0614 - accuracy: 0.9809\n",
      "Epoch 72/100\n",
      "115/115 [==============================] - 0s 945us/step - loss: 0.0593 - accuracy: 0.9843\n",
      "Epoch 73/100\n",
      "115/115 [==============================] - 0s 866us/step - loss: 0.0582 - accuracy: 0.9826\n",
      "Epoch 74/100\n",
      "115/115 [==============================] - 0s 752us/step - loss: 0.0569 - accuracy: 0.9835\n",
      "Epoch 75/100\n",
      "115/115 [==============================] - 0s 886us/step - loss: 0.0550 - accuracy: 0.9852\n",
      "Epoch 76/100\n",
      "115/115 [==============================] - 0s 768us/step - loss: 0.0528 - accuracy: 0.9826\n",
      "Epoch 77/100\n",
      "115/115 [==============================] - 0s 756us/step - loss: 0.0539 - accuracy: 0.9878\n",
      "Epoch 78/100\n",
      "115/115 [==============================] - 0s 870us/step - loss: 0.0508 - accuracy: 0.9869\n",
      "Epoch 79/100\n"
     ]
    },
    {
     "name": "stdout",
     "output_type": "stream",
     "text": [
      "115/115 [==============================] - 0s 736us/step - loss: 0.0497 - accuracy: 0.9843\n",
      "Epoch 80/100\n",
      "115/115 [==============================] - 0s 702us/step - loss: 0.0482 - accuracy: 0.9887\n",
      "Epoch 81/100\n",
      "115/115 [==============================] - 0s 666us/step - loss: 0.0471 - accuracy: 0.9878\n",
      "Epoch 82/100\n",
      "115/115 [==============================] - 0s 749us/step - loss: 0.0462 - accuracy: 0.9896\n",
      "Epoch 83/100\n",
      "115/115 [==============================] - 0s 748us/step - loss: 0.0448 - accuracy: 0.9887\n",
      "Epoch 84/100\n",
      "115/115 [==============================] - 0s 694us/step - loss: 0.0437 - accuracy: 0.9913\n",
      "Epoch 85/100\n",
      "115/115 [==============================] - 0s 692us/step - loss: 0.0426 - accuracy: 0.9887\n",
      "Epoch 86/100\n",
      "115/115 [==============================] - 0s 717us/step - loss: 0.0416 - accuracy: 0.9904\n",
      "Epoch 87/100\n",
      "115/115 [==============================] - 0s 761us/step - loss: 0.0404 - accuracy: 0.9904\n",
      "Epoch 88/100\n",
      "115/115 [==============================] - 0s 783us/step - loss: 0.0389 - accuracy: 0.9896\n",
      "Epoch 89/100\n",
      "115/115 [==============================] - 0s 760us/step - loss: 0.0370 - accuracy: 0.9922\n",
      "Epoch 90/100\n",
      "115/115 [==============================] - 0s 926us/step - loss: 0.0384 - accuracy: 0.9887\n",
      "Epoch 91/100\n",
      "115/115 [==============================] - 0s 841us/step - loss: 0.0373 - accuracy: 0.9904\n",
      "Epoch 92/100\n",
      "115/115 [==============================] - 0s 667us/step - loss: 0.0357 - accuracy: 0.9930\n",
      "Epoch 93/100\n",
      "115/115 [==============================] - 0s 671us/step - loss: 0.0351 - accuracy: 0.9904\n",
      "Epoch 94/100\n",
      "115/115 [==============================] - 0s 728us/step - loss: 0.0349 - accuracy: 0.9922\n",
      "Epoch 95/100\n",
      "115/115 [==============================] - 0s 717us/step - loss: 0.0333 - accuracy: 0.9939\n",
      "Epoch 96/100\n",
      "115/115 [==============================] - 0s 805us/step - loss: 0.0322 - accuracy: 0.9922\n",
      "Epoch 97/100\n",
      "115/115 [==============================] - 0s 742us/step - loss: 0.0318 - accuracy: 0.9948\n",
      "Epoch 98/100\n",
      "115/115 [==============================] - 0s 773us/step - loss: 0.0317 - accuracy: 0.9948\n",
      "Epoch 99/100\n",
      "115/115 [==============================] - 0s 747us/step - loss: 0.0316 - accuracy: 0.9939\n",
      "Epoch 100/100\n",
      "115/115 [==============================] - 0s 697us/step - loss: 0.0303 - accuracy: 0.9956\n"
     ]
    }
   ],
   "source": [
    "model = Sequential()\n",
    "model.add(Dense(12, activation='relu', input_dim=64))\n",
    "model.add(Dense(8, activation='relu'))\n",
    "model.add(Dense(1, activation='sigmoid'))\n",
    "\n",
    "model.compile(optimizer='SGD',\n",
    "              loss='binary_crossentropy',\n",
    "              metrics=['accuracy'])\n",
    "\n",
    "# Assign the variable history to store the results,\n",
    "# and set verbose=1 so we can see the output.\n",
    "results = model.fit(X_pure_train, y_pure_train, epochs=100, batch_size=10, verbose=1)"
   ]
  },
  {
   "cell_type": "code",
   "execution_count": 71,
   "metadata": {
    "ExecuteTime": {
     "end_time": "2023-10-16T02:55:32.488681Z",
     "start_time": "2023-10-16T02:55:32.158650Z"
    },
    "hidden": true
   },
   "outputs": [
    {
     "data": {
      "image/png": "[encoded data removed]",
      "text/plain": [
       "<Figure size 720x360 with 2 Axes>"
      ]
     },
     "metadata": {
      "needs_background": "light"
     },
     "output_type": "display_data"
    }
   ],
   "source": [
    "sigmoid_loss = results.history['loss']\n",
    "sigmoid_accuracy = results.history['accuracy']\n",
    "\n",
    "fig, (ax1, ax2) = plt.subplots(1, 2, figsize=(10, 5))\n",
    "sns.lineplot(x=results.epoch, y=sigmoid_loss, ax=ax1, label='loss')\n",
    "sns.lineplot(x=results.epoch, y=sigmoid_accuracy, ax=ax2, label='accuracy');"
   ]
  },
  {
   "cell_type": "markdown",
   "metadata": {
    "hidden": true
   },
   "source": [
    "If we increase the learning rate to a very high number, we see that our model overshoots the minimum, and starts bouncing all around."
   ]
  },
  {
   "cell_type": "code",
   "execution_count": 29,
   "metadata": {
    "ExecuteTime": {
     "end_time": "2023-10-16T02:55:43.538650Z",
     "start_time": "2023-10-16T02:55:32.489650Z"
    },
    "hidden": true
   },
   "outputs": [
    {
     "name": "stdout",
     "output_type": "stream",
     "text": [
      "Epoch 1/30\n",
      "115/115 [==============================] - 0s 802us/step - loss: 1.2255 - accuracy: 0.5135\n",
      "Epoch 2/30\n",
      "115/115 [==============================] - 0s 839us/step - loss: 1.0402 - accuracy: 0.5039\n",
      "Epoch 3/30\n",
      "115/115 [==============================] - 0s 832us/step - loss: 0.9244 - accuracy: 0.5178\n",
      "Epoch 4/30\n",
      "115/115 [==============================] - 0s 770us/step - loss: 0.9959 - accuracy: 0.4943\n",
      "Epoch 5/30\n",
      "115/115 [==============================] - 0s 812us/step - loss: 0.9544 - accuracy: 0.5074\n",
      "Epoch 6/30\n",
      "115/115 [==============================] - 0s 825us/step - loss: 1.0656 - accuracy: 0.4804\n",
      "Epoch 7/30\n",
      "115/115 [==============================] - 0s 908us/step - loss: 1.0171 - accuracy: 0.4830\n",
      "Epoch 8/30\n",
      "115/115 [==============================] - 0s 812us/step - loss: 0.9349 - accuracy: 0.5083\n",
      "Epoch 9/30\n",
      "115/115 [==============================] - 0s 784us/step - loss: 0.9748 - accuracy: 0.5091\n",
      "Epoch 10/30\n",
      "115/115 [==============================] - 0s 947us/step - loss: 1.0656 - accuracy: 0.4795\n",
      "Epoch 11/30\n",
      "115/115 [==============================] - 0s 854us/step - loss: 1.0303 - accuracy: 0.4891\n",
      "Epoch 12/30\n",
      "115/115 [==============================] - 0s 839us/step - loss: 0.9901 - accuracy: 0.4961\n",
      "Epoch 13/30\n",
      "115/115 [==============================] - 0s 836us/step - loss: 0.9895 - accuracy: 0.4987\n",
      "Epoch 14/30\n",
      "115/115 [==============================] - 0s 789us/step - loss: 0.9872 - accuracy: 0.4865\n",
      "Epoch 15/30\n",
      "115/115 [==============================] - 0s 833us/step - loss: 1.0336 - accuracy: 0.4874\n",
      "Epoch 16/30\n",
      "115/115 [==============================] - 0s 779us/step - loss: 1.0603 - accuracy: 0.4743\n",
      "Epoch 17/30\n",
      "115/115 [==============================] - 0s 842us/step - loss: 0.9805 - accuracy: 0.5057\n",
      "Epoch 18/30\n",
      "115/115 [==============================] - 0s 835us/step - loss: 0.8995 - accuracy: 0.5170\n",
      "Epoch 19/30\n",
      "115/115 [==============================] - 0s 904us/step - loss: 1.0484 - accuracy: 0.4883\n",
      "Epoch 20/30\n",
      "115/115 [==============================] - 0s 1ms/step - loss: 0.9647 - accuracy: 0.5196\n",
      "Epoch 21/30\n",
      "115/115 [==============================] - 0s 887us/step - loss: 1.0285 - accuracy: 0.5004\n",
      "Epoch 22/30\n",
      "115/115 [==============================] - 0s 905us/step - loss: 0.9339 - accuracy: 0.5022\n",
      "Epoch 23/30\n",
      "115/115 [==============================] - 0s 791us/step - loss: 0.9819 - accuracy: 0.5065\n",
      "Epoch 24/30\n",
      "115/115 [==============================] - 0s 773us/step - loss: 1.0032 - accuracy: 0.5039\n",
      "Epoch 25/30\n",
      "115/115 [==============================] - 0s 843us/step - loss: 1.0164 - accuracy: 0.5065\n",
      "Epoch 26/30\n",
      "115/115 [==============================] - 0s 931us/step - loss: 1.0585 - accuracy: 0.4856\n",
      "Epoch 27/30\n",
      "115/115 [==============================] - 0s 1ms/step - loss: 0.9669 - accuracy: 0.5265\n",
      "Epoch 28/30\n",
      "115/115 [==============================] - 0s 896us/step - loss: 1.1440 - accuracy: 0.4708\n",
      "Epoch 29/30\n",
      "115/115 [==============================] - 0s 807us/step - loss: 1.0169 - accuracy: 0.5117\n",
      "Epoch 30/30\n",
      "115/115 [==============================] - 0s 947us/step - loss: 0.9610 - accuracy: 0.5004\n"
     ]
    },
    {
     "data": {
      "image/png": "[encoded data removed]",
      "text/plain": [
       "<Figure size 720x360 with 2 Axes>"
      ]
     },
     "metadata": {
      "needs_background": "light"
     },
     "output_type": "display_data"
    }
   ],
   "source": [
    "model = Sequential()\n",
    "\n",
    "# sgd = SGD(learning_rate=9)\n",
    "model.add(Dense(12, activation='relu', input_dim=64))\n",
    "model.add(Dense(8, activation='relu'))\n",
    "model.add(Dense(1, activation='sigmoid'))\n",
    "\n",
    "model.compile(optimizer=SGD(learning_rate=9),\n",
    "              loss='binary_crossentropy',\n",
    "              metrics=['accuracy'])\n",
    "\n",
    "results = model.fit(X_pure_train, y_pure_train,\n",
    "                    epochs=30, batch_size=10, verbose=1)\n",
    "\n",
    "relu_loss = results.history['loss']\n",
    "relu_accuracy = results.history['accuracy']\n",
    "\n",
    "fig, (ax1, ax2) = plt.subplots(1, 2, figsize=(10, 5))\n",
    "sns.lineplot(x=results.epoch, y=relu_loss, ax=ax1, label='loss')\n",
    "sns.lineplot(x=results.epoch, y=relu_accuracy, ax=ax2, label='accuracy');"
   ]
  },
  {
   "cell_type": "markdown",
   "metadata": {
    "heading_collapsed": true,
    "hidden": true
   },
   "source": [
    "### Exercise"
   ]
  },
  {
   "cell_type": "markdown",
   "metadata": {
    "hidden": true
   },
   "source": [
    "We have been looking only at our training set. Let's add in our validation set to the picture. Check the docstring for the `.fit()` method and add in our validation data."
   ]
  },
  {
   "cell_type": "code",
   "execution_count": 30,
   "metadata": {
    "ExecuteTime": {
     "end_time": "2023-10-16T02:55:43.678684Z",
     "start_time": "2023-10-16T02:55:43.539650Z"
    },
    "hidden": true
   },
   "outputs": [],
   "source": [
    "model = Sequential()\n",
    "model.add(Dense(12, activation='relu', input_dim=64))\n",
    "model.add(Dense(8, activation='relu'))\n",
    "model.add(Dense(4, activation='relu'))\n",
    "model.add(Dense(1, activation='sigmoid'))\n",
    "\n",
    "model.compile(optimizer='adam',\n",
    "              loss='binary_crossentropy',\n",
    "              metrics=['accuracy'])"
   ]
  },
  {
   "cell_type": "code",
   "execution_count": 31,
   "metadata": {
    "ExecuteTime": {
     "end_time": "2023-10-16T02:55:56.912649Z",
     "start_time": "2023-10-16T02:55:43.679649Z"
    },
    "hidden": true,
    "scrolled": false
   },
   "outputs": [
    {
     "name": "stdout",
     "output_type": "stream",
     "text": [
      "Epoch 1/30\n",
      "115/115 [==============================] - 0s 2ms/step - loss: 0.6373 - accuracy: 0.5161 - val_loss: 0.5840 - val_accuracy: 0.6667\n",
      "Epoch 2/30\n",
      "115/115 [==============================] - 0s 1ms/step - loss: 0.5476 - accuracy: 0.7476 - val_loss: 0.4968 - val_accuracy: 0.8056\n",
      "Epoch 3/30\n",
      "115/115 [==============================] - 0s 1ms/step - loss: 0.4700 - accuracy: 0.8468 - val_loss: 0.4244 - val_accuracy: 0.8889\n",
      "Epoch 4/30\n",
      "115/115 [==============================] - 0s 1ms/step - loss: 0.3930 - accuracy: 0.8956 - val_loss: 0.3451 - val_accuracy: 0.9097\n",
      "Epoch 5/30\n",
      "115/115 [==============================] - 0s 1ms/step - loss: 0.2991 - accuracy: 0.9164 - val_loss: 0.2632 - val_accuracy: 0.9271\n",
      "Epoch 6/30\n",
      "115/115 [==============================] - 0s 1ms/step - loss: 0.1993 - accuracy: 0.9330 - val_loss: 0.1999 - val_accuracy: 0.9271\n",
      "Epoch 7/30\n",
      "115/115 [==============================] - 0s 1ms/step - loss: 0.1537 - accuracy: 0.9347 - val_loss: 0.1453 - val_accuracy: 0.9479\n",
      "Epoch 8/30\n",
      "115/115 [==============================] - 0s 1ms/step - loss: 0.1213 - accuracy: 0.9487 - val_loss: 0.1275 - val_accuracy: 0.9444\n",
      "Epoch 9/30\n",
      "115/115 [==============================] - 0s 1ms/step - loss: 0.1075 - accuracy: 0.9643 - val_loss: 0.1050 - val_accuracy: 0.9583\n",
      "Epoch 10/30\n",
      "115/115 [==============================] - 0s 1ms/step - loss: 0.0806 - accuracy: 0.9721 - val_loss: 0.0838 - val_accuracy: 0.9688\n",
      "Epoch 11/30\n",
      "115/115 [==============================] - 0s 1ms/step - loss: 0.0719 - accuracy: 0.9800 - val_loss: 0.0886 - val_accuracy: 0.9722\n",
      "Epoch 12/30\n",
      "115/115 [==============================] - 0s 1ms/step - loss: 0.0623 - accuracy: 0.9765 - val_loss: 0.0755 - val_accuracy: 0.9722\n",
      "Epoch 13/30\n",
      "115/115 [==============================] - 0s 1ms/step - loss: 0.0594 - accuracy: 0.9774 - val_loss: 0.0773 - val_accuracy: 0.9653\n",
      "Epoch 14/30\n",
      "115/115 [==============================] - 0s 1ms/step - loss: 0.0538 - accuracy: 0.9809 - val_loss: 0.0826 - val_accuracy: 0.9792\n",
      "Epoch 15/30\n",
      "115/115 [==============================] - 0s 1ms/step - loss: 0.0477 - accuracy: 0.9800 - val_loss: 0.0686 - val_accuracy: 0.9792\n",
      "Epoch 16/30\n",
      "115/115 [==============================] - 0s 1ms/step - loss: 0.0441 - accuracy: 0.9843 - val_loss: 0.0737 - val_accuracy: 0.9757\n",
      "Epoch 17/30\n",
      "115/115 [==============================] - 0s 1ms/step - loss: 0.0419 - accuracy: 0.9852 - val_loss: 0.0644 - val_accuracy: 0.9792\n",
      "Epoch 18/30\n",
      "115/115 [==============================] - 0s 1ms/step - loss: 0.0380 - accuracy: 0.9896 - val_loss: 0.0628 - val_accuracy: 0.9757\n",
      "Epoch 19/30\n",
      "115/115 [==============================] - 0s 1ms/step - loss: 0.0324 - accuracy: 0.9913 - val_loss: 0.0635 - val_accuracy: 0.9757\n",
      "Epoch 20/30\n",
      "115/115 [==============================] - 0s 1ms/step - loss: 0.0262 - accuracy: 0.9948 - val_loss: 0.0626 - val_accuracy: 0.9757\n",
      "Epoch 21/30\n",
      "115/115 [==============================] - 0s 1ms/step - loss: 0.0259 - accuracy: 0.9922 - val_loss: 0.0839 - val_accuracy: 0.9757\n",
      "Epoch 22/30\n",
      "115/115 [==============================] - 0s 1ms/step - loss: 0.0236 - accuracy: 0.9948 - val_loss: 0.0695 - val_accuracy: 0.9688\n",
      "Epoch 23/30\n",
      "115/115 [==============================] - 0s 1ms/step - loss: 0.0287 - accuracy: 0.9896 - val_loss: 0.0597 - val_accuracy: 0.9653\n",
      "Epoch 24/30\n",
      "115/115 [==============================] - 0s 1ms/step - loss: 0.0212 - accuracy: 0.9956 - val_loss: 0.0657 - val_accuracy: 0.9792\n",
      "Epoch 25/30\n",
      "115/115 [==============================] - 0s 1ms/step - loss: 0.0169 - accuracy: 0.9974 - val_loss: 0.0616 - val_accuracy: 0.9757\n",
      "Epoch 26/30\n",
      "115/115 [==============================] - 0s 1ms/step - loss: 0.0156 - accuracy: 0.9983 - val_loss: 0.0677 - val_accuracy: 0.9722\n",
      "Epoch 27/30\n",
      "115/115 [==============================] - 0s 1ms/step - loss: 0.0172 - accuracy: 0.9948 - val_loss: 0.0605 - val_accuracy: 0.9792\n",
      "Epoch 28/30\n",
      "115/115 [==============================] - 0s 1ms/step - loss: 0.0131 - accuracy: 0.9965 - val_loss: 0.0587 - val_accuracy: 0.9792\n",
      "Epoch 29/30\n",
      "115/115 [==============================] - 0s 1ms/step - loss: 0.0115 - accuracy: 0.9983 - val_loss: 0.0461 - val_accuracy: 0.9826\n",
      "Epoch 30/30\n",
      "115/115 [==============================] - 0s 1ms/step - loss: 0.0106 - accuracy: 0.9991 - val_loss: 0.0588 - val_accuracy: 0.9757\n"
     ]
    }
   ],
   "source": [
    "results = model.fit(X_pure_train, y_pure_train,\n",
    "                   validation_data=(X_val, y_val),\n",
    "                   epochs=30, batch_size=10)"
   ]
  },
  {
   "cell_type": "code",
   "execution_count": 32,
   "metadata": {
    "ExecuteTime": {
     "end_time": "2023-10-16T02:55:57.273680Z",
     "start_time": "2023-10-16T02:55:56.913651Z"
    },
    "hidden": true
   },
   "outputs": [
    {
     "data": {
      "image/png": "[encoded data removed]",
      "text/plain": [
       "<Figure size 720x360 with 2 Axes>"
      ]
     },
     "metadata": {
      "needs_background": "light"
     },
     "output_type": "display_data"
    }
   ],
   "source": [
    "train_loss = results.history['loss']\n",
    "train_acc = results.history['accuracy']\n",
    "val_loss = results.history['val_loss']\n",
    "val_acc = results.history['val_accuracy']\n",
    "\n",
    "fig, (ax1, ax2) = plt.subplots(1, 2, figsize=(10, 5))\n",
    "sns.lineplot(x=results.epoch, y=train_loss, ax=ax1, label='train_loss')\n",
    "sns.lineplot(x=results.epoch, y=train_acc, ax=ax2, label='train_accuracy')\n",
    "\n",
    "sns.lineplot(x=results.epoch, y=val_loss, ax=ax1, label='val_loss')\n",
    "sns.lineplot(x=results.epoch, y=val_acc, ax=ax2, label='val_accuracy');"
   ]
  },
  {
   "cell_type": "markdown",
   "metadata": {
    "hidden": true
   },
   "source": [
    "<details>\n",
    "    <summary>One answer here</summary>\n",
    "<code>model = Sequential()\n",
    "model.add(Dense(12, activation='relu', input_dim=64))\n",
    "model.add(Dense(8, activation='relu'))\n",
    "model.add(Dense(4, activation='relu'))\n",
    "model.add(Dense(1, activation='sigmoid'))\n",
    "model.compile(optimizer='adam',\n",
    "              loss='binary_crossentropy',\n",
    "              metrics=['accuracy'])\n",
    "results = model.fit(X_pure_train, y_pure_train,\n",
    "                   validation_data=(X_val, y_val),\n",
    "                   epochs=30, batch_size=10)\n",
    "train_loss = results.history['loss']\n",
    "train_acc = results.history['accuracy']\n",
    "val_loss = results.history['val_loss']\n",
    "val_acc = results.history['val_accuracy']\n",
    "fig, (ax1, ax2) = plt.subplots(1, 2, figsize=(10, 5))\n",
    "sns.lineplot(x=results.epoch, y=train_loss, ax=ax1, label='train_loss')\n",
    "sns.lineplot(x=results.epoch, y=train_acc, ax=ax2, label='train_accuracy')\n",
    "sns.lineplot(x=results.epoch, y=val_loss, ax=ax1, label='val_loss')\n",
    "sns.lineplot(x=results.epoch, y=val_acc, ax=ax2, label='val_accuracy');</code>\n",
    "</details>"
   ]
  },
  {
   "cell_type": "code",
   "execution_count": 33,
   "metadata": {
    "ExecuteTime": {
     "end_time": "2023-10-16T02:55:57.384679Z",
     "start_time": "2023-10-16T02:55:57.274652Z"
    },
    "hidden": true
   },
   "outputs": [
    {
     "data": {
      "text/plain": [
       "0.9756944179534912"
      ]
     },
     "execution_count": 33,
     "metadata": {},
     "output_type": "execute_result"
    }
   ],
   "source": [
    "results.history['val_accuracy'][-1]"
   ]
  },
  {
   "cell_type": "code",
   "execution_count": 34,
   "metadata": {
    "ExecuteTime": {
     "end_time": "2023-10-16T02:55:57.495651Z",
     "start_time": "2023-10-16T02:55:57.385652Z"
    },
    "hidden": true
   },
   "outputs": [
    {
     "data": {
      "text/plain": [
       "0.9991296529769897"
      ]
     },
     "execution_count": 34,
     "metadata": {},
     "output_type": "execute_result"
    }
   ],
   "source": [
    "results.history['accuracy'][-1]"
   ]
  },
  {
   "cell_type": "markdown",
   "metadata": {
    "heading_collapsed": true,
    "hidden": true
   },
   "source": [
    "## Connecting with `sklearn`"
   ]
  },
  {
   "cell_type": "markdown",
   "metadata": {
    "hidden": true
   },
   "source": [
    "The `keras.wrappers` submodule means that we can turn `keras` models into estimators that `sklearn` tools will recognize."
   ]
  },
  {
   "cell_type": "code",
   "execution_count": 35,
   "metadata": {
    "ExecuteTime": {
     "end_time": "2023-10-16T02:55:58.239472Z",
     "start_time": "2023-10-16T02:55:57.496651Z"
    },
    "hidden": true
   },
   "outputs": [
    {
     "ename": "TypeError",
     "evalue": "If no scoring is specified, the estimator passed should have a 'score' method. The estimator <tensorflow.python.keras.engine.sequential.Sequential object at 0x000001B90689A8B0> does not.",
     "output_type": "error",
     "traceback": [
      "\u001b[1;31m---------------------------------------------------------------------------\u001b[0m",
      "\u001b[1;31mTypeError\u001b[0m                                 Traceback (most recent call last)",
      "\u001b[1;32m<ipython-input-35-440685741601>\u001b[0m in \u001b[0;36m<module>\u001b[1;34m\u001b[0m\n\u001b[0;32m      1\u001b[0m \u001b[1;31m# This will throw an error.\u001b[0m\u001b[1;33m\u001b[0m\u001b[1;33m\u001b[0m\u001b[1;33m\u001b[0m\u001b[0m\n\u001b[0;32m      2\u001b[0m \u001b[1;33m\u001b[0m\u001b[0m\n\u001b[1;32m----> 3\u001b[1;33m \u001b[0mcross_val_score\u001b[0m\u001b[1;33m(\u001b[0m\u001b[0mmodel\u001b[0m\u001b[1;33m,\u001b[0m \u001b[0mX_pure_train\u001b[0m\u001b[1;33m,\u001b[0m \u001b[0my_pure_train\u001b[0m\u001b[1;33m)\u001b[0m\u001b[1;33m\u001b[0m\u001b[1;33m\u001b[0m\u001b[0m\n\u001b[0m",
      "\u001b[1;32m~\\anaconda3\\envs\\learn-env\\lib\\site-packages\\sklearn\\utils\\validation.py\u001b[0m in \u001b[0;36minner_f\u001b[1;34m(*args, **kwargs)\u001b[0m\n\u001b[0;32m     70\u001b[0m                 \u001b[1;32mfor\u001b[0m \u001b[0mname\u001b[0m\u001b[1;33m,\u001b[0m \u001b[0marg\u001b[0m \u001b[1;32min\u001b[0m \u001b[0mzip\u001b[0m\u001b[1;33m(\u001b[0m\u001b[0mkwonly_args\u001b[0m\u001b[1;33m[\u001b[0m\u001b[1;33m:\u001b[0m\u001b[0mextra_args\u001b[0m\u001b[1;33m]\u001b[0m\u001b[1;33m,\u001b[0m \u001b[0margs\u001b[0m\u001b[1;33m[\u001b[0m\u001b[1;33m-\u001b[0m\u001b[0mextra_args\u001b[0m\u001b[1;33m:\u001b[0m\u001b[1;33m]\u001b[0m\u001b[1;33m)\u001b[0m\u001b[1;33m\u001b[0m\u001b[1;33m\u001b[0m\u001b[0m\n\u001b[0;32m     71\u001b[0m             ]\n\u001b[1;32m---> 72\u001b[1;33m             \u001b[0margs_msg\u001b[0m \u001b[1;33m=\u001b[0m \u001b[1;34m\", \"\u001b[0m\u001b[1;33m.\u001b[0m\u001b[0mjoin\u001b[0m\u001b[1;33m(\u001b[0m\u001b[0margs_msg\u001b[0m\u001b[1;33m)\u001b[0m\u001b[1;33m\u001b[0m\u001b[1;33m\u001b[0m\u001b[0m\n\u001b[0m\u001b[0;32m     73\u001b[0m             warnings.warn(\n\u001b[0;32m     74\u001b[0m                 (\n",
      "\u001b[1;32m~\\anaconda3\\envs\\learn-env\\lib\\site-packages\\sklearn\\model_selection\\_validation.py\u001b[0m in \u001b[0;36mcross_val_score\u001b[1;34m(estimator, X, y, groups, scoring, cv, n_jobs, verbose, fit_params, pre_dispatch, error_score)\u001b[0m\n\u001b[0;32m    397\u001b[0m     \u001b[1;32mif\u001b[0m \u001b[0mfit_errors\u001b[0m\u001b[1;33m:\u001b[0m\u001b[1;33m\u001b[0m\u001b[1;33m\u001b[0m\u001b[0m\n\u001b[0;32m    398\u001b[0m         \u001b[0mnum_failed_fits\u001b[0m \u001b[1;33m=\u001b[0m \u001b[0mlen\u001b[0m\u001b[1;33m(\u001b[0m\u001b[0mfit_errors\u001b[0m\u001b[1;33m)\u001b[0m\u001b[1;33m\u001b[0m\u001b[1;33m\u001b[0m\u001b[0m\n\u001b[1;32m--> 399\u001b[1;33m         \u001b[0mnum_fits\u001b[0m \u001b[1;33m=\u001b[0m \u001b[0mlen\u001b[0m\u001b[1;33m(\u001b[0m\u001b[0mresults\u001b[0m\u001b[1;33m)\u001b[0m\u001b[1;33m\u001b[0m\u001b[1;33m\u001b[0m\u001b[0m\n\u001b[0m\u001b[0;32m    400\u001b[0m         \u001b[0mfit_errors_counter\u001b[0m \u001b[1;33m=\u001b[0m \u001b[0mCounter\u001b[0m\u001b[1;33m(\u001b[0m\u001b[0mfit_errors\u001b[0m\u001b[1;33m)\u001b[0m\u001b[1;33m\u001b[0m\u001b[1;33m\u001b[0m\u001b[0m\n\u001b[0;32m    401\u001b[0m         \u001b[0mdelimiter\u001b[0m \u001b[1;33m=\u001b[0m \u001b[1;34m\"-\"\u001b[0m \u001b[1;33m*\u001b[0m \u001b[1;36m80\u001b[0m \u001b[1;33m+\u001b[0m \u001b[1;34m\"\\n\"\u001b[0m\u001b[1;33m\u001b[0m\u001b[1;33m\u001b[0m\u001b[0m\n",
      "\u001b[1;32m~\\anaconda3\\envs\\learn-env\\lib\\site-packages\\sklearn\\utils\\validation.py\u001b[0m in \u001b[0;36minner_f\u001b[1;34m(*args, **kwargs)\u001b[0m\n\u001b[0;32m     70\u001b[0m                 \u001b[1;32mfor\u001b[0m \u001b[0mname\u001b[0m\u001b[1;33m,\u001b[0m \u001b[0marg\u001b[0m \u001b[1;32min\u001b[0m \u001b[0mzip\u001b[0m\u001b[1;33m(\u001b[0m\u001b[0mkwonly_args\u001b[0m\u001b[1;33m[\u001b[0m\u001b[1;33m:\u001b[0m\u001b[0mextra_args\u001b[0m\u001b[1;33m]\u001b[0m\u001b[1;33m,\u001b[0m \u001b[0margs\u001b[0m\u001b[1;33m[\u001b[0m\u001b[1;33m-\u001b[0m\u001b[0mextra_args\u001b[0m\u001b[1;33m:\u001b[0m\u001b[1;33m]\u001b[0m\u001b[1;33m)\u001b[0m\u001b[1;33m\u001b[0m\u001b[1;33m\u001b[0m\u001b[0m\n\u001b[0;32m     71\u001b[0m             ]\n\u001b[1;32m---> 72\u001b[1;33m             \u001b[0margs_msg\u001b[0m \u001b[1;33m=\u001b[0m \u001b[1;34m\", \"\u001b[0m\u001b[1;33m.\u001b[0m\u001b[0mjoin\u001b[0m\u001b[1;33m(\u001b[0m\u001b[0margs_msg\u001b[0m\u001b[1;33m)\u001b[0m\u001b[1;33m\u001b[0m\u001b[1;33m\u001b[0m\u001b[0m\n\u001b[0m\u001b[0;32m     73\u001b[0m             warnings.warn(\n\u001b[0;32m     74\u001b[0m                 (\n",
      "\u001b[1;32m~\\anaconda3\\envs\\learn-env\\lib\\site-packages\\sklearn\\metrics\\_scorer.py\u001b[0m in \u001b[0;36mcheck_scoring\u001b[1;34m(estimator, scoring, allow_none)\u001b[0m\n\u001b[0;32m    423\u001b[0m             \u001b[0mTest\u001b[0m \u001b[0mdata\u001b[0m \u001b[0mthat\u001b[0m \u001b[0mwill\u001b[0m \u001b[0mbe\u001b[0m \u001b[0mfed\u001b[0m \u001b[0mto\u001b[0m \u001b[0mclf\u001b[0m\u001b[1;33m.\u001b[0m\u001b[0mdecision_function\u001b[0m \u001b[1;32mor\u001b[0m\u001b[1;33m\u001b[0m\u001b[1;33m\u001b[0m\u001b[0m\n\u001b[0;32m    424\u001b[0m             \u001b[0mclf\u001b[0m\u001b[1;33m.\u001b[0m\u001b[0mpredict_proba\u001b[0m\u001b[1;33m.\u001b[0m\u001b[1;33m\u001b[0m\u001b[1;33m\u001b[0m\u001b[0m\n\u001b[1;32m--> 425\u001b[1;33m \u001b[1;33m\u001b[0m\u001b[0m\n\u001b[0m\u001b[0;32m    426\u001b[0m         \u001b[0my\u001b[0m \u001b[1;33m:\u001b[0m \u001b[0marray\u001b[0m\u001b[1;33m-\u001b[0m\u001b[0mlike\u001b[0m\u001b[1;33m\u001b[0m\u001b[1;33m\u001b[0m\u001b[0m\n\u001b[0;32m    427\u001b[0m             \u001b[0mGold\u001b[0m \u001b[0mstandard\u001b[0m \u001b[0mtarget\u001b[0m \u001b[0mvalues\u001b[0m \u001b[1;32mfor\u001b[0m \u001b[0mX\u001b[0m\u001b[1;33m.\u001b[0m \u001b[0mThese\u001b[0m \u001b[0mmust\u001b[0m \u001b[0mbe\u001b[0m \u001b[1;32mclass\u001b[0m \u001b[0mlabels\u001b[0m\u001b[1;33m,\u001b[0m\u001b[1;33m\u001b[0m\u001b[1;33m\u001b[0m\u001b[0m\n",
      "\u001b[1;31mTypeError\u001b[0m: If no scoring is specified, the estimator passed should have a 'score' method. The estimator <tensorflow.python.keras.engine.sequential.Sequential object at 0x000001B90689A8B0> does not."
     ]
    }
   ],
   "source": [
    "# This will throw an error.\n",
    "\n",
    "cross_val_score(model, X_pure_train, y_pure_train)"
   ]
  },
  {
   "cell_type": "code",
   "execution_count": 36,
   "metadata": {
    "ExecuteTime": {
     "end_time": "2023-10-16T02:56:54.788815Z",
     "start_time": "2023-10-16T02:56:54.687865Z"
    },
    "hidden": true
   },
   "outputs": [],
   "source": [
    "def build_model():\n",
    "    model = Sequential()\n",
    "    model.add(Dense(12, activation='relu', input_dim=64))\n",
    "    model.add(Dense(8, activation='relu'))\n",
    "    model.add(Dense(4, activation='relu'))\n",
    "    model.add(Dense(1, activation = 'sigmoid'))\n",
    "\n",
    "    model.compile(optimizer='adam',\n",
    "                  loss='binary_crossentropy',\n",
    "                  metrics=['accuracy'])\n",
    "    return model"
   ]
  },
  {
   "cell_type": "code",
   "execution_count": 37,
   "metadata": {
    "ExecuteTime": {
     "end_time": "2023-10-16T02:56:55.462886Z",
     "start_time": "2023-10-16T02:56:55.367733Z"
    },
    "hidden": true
   },
   "outputs": [
    {
     "ename": "NameError",
     "evalue": "name 'KerasClassifier' is not defined",
     "output_type": "error",
     "traceback": [
      "\u001b[1;31m---------------------------------------------------------------------------\u001b[0m",
      "\u001b[1;31mNameError\u001b[0m                                 Traceback (most recent call last)",
      "\u001b[1;32m<ipython-input-37-f01b76c8919f>\u001b[0m in \u001b[0;36m<module>\u001b[1;34m\u001b[0m\n\u001b[1;32m----> 1\u001b[1;33m keras_model = KerasClassifier(build_model,\n\u001b[0m\u001b[0;32m      2\u001b[0m                                           \u001b[0mepochs\u001b[0m\u001b[1;33m=\u001b[0m\u001b[1;36m50\u001b[0m\u001b[1;33m,\u001b[0m\u001b[1;33m\u001b[0m\u001b[1;33m\u001b[0m\u001b[0m\n\u001b[0;32m      3\u001b[0m                                           \u001b[0mbatch_size\u001b[0m\u001b[1;33m=\u001b[0m\u001b[1;36m32\u001b[0m\u001b[1;33m,\u001b[0m\u001b[1;33m\u001b[0m\u001b[1;33m\u001b[0m\u001b[0m\n\u001b[0;32m      4\u001b[0m                                           verbose=2)\n",
      "\u001b[1;31mNameError\u001b[0m: name 'KerasClassifier' is not defined"
     ]
    }
   ],
   "source": [
    "keras_model = KerasClassifier(build_model,\n",
    "                                          epochs=50,\n",
    "                                          batch_size=32,\n",
    "                                          verbose=2)"
   ]
  },
  {
   "cell_type": "code",
   "execution_count": 38,
   "metadata": {
    "ExecuteTime": {
     "end_time": "2023-10-16T02:56:56.141720Z",
     "start_time": "2023-10-16T02:56:56.043694Z"
    },
    "hidden": true
   },
   "outputs": [
    {
     "ename": "NameError",
     "evalue": "name 'keras_model' is not defined",
     "output_type": "error",
     "traceback": [
      "\u001b[1;31m---------------------------------------------------------------------------\u001b[0m",
      "\u001b[1;31mNameError\u001b[0m                                 Traceback (most recent call last)",
      "\u001b[1;32m<ipython-input-38-f664ee5b235c>\u001b[0m in \u001b[0;36m<module>\u001b[1;34m\u001b[0m\n\u001b[1;32m----> 1\u001b[1;33m \u001b[0mtype\u001b[0m\u001b[1;33m(\u001b[0m\u001b[0mkeras_model\u001b[0m\u001b[1;33m)\u001b[0m\u001b[1;33m\u001b[0m\u001b[1;33m\u001b[0m\u001b[0m\n\u001b[0m",
      "\u001b[1;31mNameError\u001b[0m: name 'keras_model' is not defined"
     ]
    }
   ],
   "source": [
    "type(keras_model)"
   ]
  },
  {
   "cell_type": "code",
   "execution_count": 39,
   "metadata": {
    "ExecuteTime": {
     "end_time": "2023-10-16T02:57:22.734290Z",
     "start_time": "2023-10-16T02:56:58.535700Z"
    },
    "hidden": true
   },
   "outputs": [
    {
     "ename": "NameError",
     "evalue": "name 'keras_model' is not defined",
     "output_type": "error",
     "traceback": [
      "\u001b[1;31m---------------------------------------------------------------------------\u001b[0m",
      "\u001b[1;31mNameError\u001b[0m                                 Traceback (most recent call last)",
      "\u001b[1;32m<ipython-input-39-38af6ab9a3ae>\u001b[0m in \u001b[0;36m<module>\u001b[1;34m\u001b[0m\n\u001b[1;32m----> 1\u001b[1;33m \u001b[0mcross_val_score\u001b[0m\u001b[1;33m(\u001b[0m\u001b[0mkeras_model\u001b[0m\u001b[1;33m,\u001b[0m \u001b[0mX_pure_train\u001b[0m\u001b[1;33m,\u001b[0m \u001b[0my_pure_train\u001b[0m\u001b[1;33m)\u001b[0m\u001b[1;33m\u001b[0m\u001b[1;33m\u001b[0m\u001b[0m\n\u001b[0m",
      "\u001b[1;31mNameError\u001b[0m: name 'keras_model' is not defined"
     ]
    }
   ],
   "source": [
    "cross_val_score(keras_model, X_pure_train, y_pure_train)"
   ]
  },
  {
   "cell_type": "markdown",
   "metadata": {
    "heading_collapsed": true,
    "hidden": true
   },
   "source": [
    "## Regularization"
   ]
  },
  {
   "cell_type": "markdown",
   "metadata": {
    "hidden": true
   },
   "source": [
    "Does regularization make sense in the context of neural networks? <br/>\n",
    "\n",
    "Yes! We still have all of the salient ingredients: a loss function, overfitting vs. underfitting, and coefficients (weights) that could get too large.\n",
    "\n",
    "But there are now a few different flavors besides L1 and L2 regularization. (Note that L1 regularization is not common in the context of  neural networks.)\n",
    "\n",
    "We'll add a few more layers to give regularization a better chance of making a difference!"
   ]
  },
  {
   "cell_type": "code",
   "execution_count": 40,
   "metadata": {
    "ExecuteTime": {
     "end_time": "2023-10-16T02:57:56.469968Z",
     "start_time": "2023-10-16T02:57:52.018481Z"
    },
    "hidden": true
   },
   "outputs": [
    {
     "data": {
      "image/png": "[encoded data removed]",
      "text/plain": [
       "<Figure size 720x360 with 2 Axes>"
      ]
     },
     "metadata": {
      "needs_background": "light"
     },
     "output_type": "display_data"
    }
   ],
   "source": [
    "model = Sequential()\n",
    "model.add(Dense(30, activation='relu', input_dim=64))\n",
    "\n",
    "# We can add L2 (or L1) regularization right into\n",
    "# the layer with the kernel_regularizer parameter.\n",
    "\n",
    "model.add(Dense(20, activation='relu',\n",
    "                kernel_regularizer=l2(l2=0.05)))\n",
    "\n",
    "# Note that there is also a bias_regularizer,\n",
    "# but this tends to have less effect.\n",
    "\n",
    "model.add(Dense(12, activation='relu'))\n",
    "model.add(Dense(12, activation='relu'))\n",
    "model.add(Dense(12, activation='relu'))\n",
    "model.add(Dense(8, activation='relu'))\n",
    "model.add(Dense(4, activation='relu'))\n",
    "model.add(Dense(1, activation ='sigmoid'))\n",
    "\n",
    "model.compile(optimizer='adam',\n",
    "              loss='binary_crossentropy',\n",
    "              metrics=['accuracy'])\n",
    "\n",
    "results = model.fit(X_pure_train, y_pure_train, epochs=20, batch_size=32,\n",
    "                    verbose=0, validation_data=(X_val, y_val))\n",
    "\n",
    "train_loss = results.history['loss']\n",
    "train_acc = results.history['accuracy']\n",
    "val_loss = results.history['val_loss']\n",
    "val_acc = results.history['val_accuracy']\n",
    "\n",
    "\n",
    "fig, (ax1, ax2) = plt.subplots(1, 2, figsize=(10, 5))\n",
    "sns.lineplot(x=results.epoch, y=train_loss, ax=ax1, label='train_loss')\n",
    "sns.lineplot(x=results.epoch, y=train_acc, ax=ax2, label='train_accuracy')\n",
    "\n",
    "sns.lineplot(x=results.epoch, y=val_loss, ax=ax1, label='val_loss')\n",
    "sns.lineplot(x=results.epoch, y=val_acc, ax=ax2, label='val_accuracy');"
   ]
  },
  {
   "cell_type": "markdown",
   "metadata": {
    "hidden": true
   },
   "source": [
    "Adding L2 to multiple layers:"
   ]
  },
  {
   "cell_type": "code",
   "execution_count": 41,
   "metadata": {
    "ExecuteTime": {
     "end_time": "2023-10-16T02:58:06.107987Z",
     "start_time": "2023-10-16T02:58:01.306992Z"
    },
    "hidden": true
   },
   "outputs": [
    {
     "data": {
      "image/png": "[encoded data removed]",
      "text/plain": [
       "<Figure size 720x360 with 2 Axes>"
      ]
     },
     "metadata": {
      "needs_background": "light"
     },
     "output_type": "display_data"
    }
   ],
   "source": [
    "model = Sequential()\n",
    "model.add(Dense(30, activation='relu',\n",
    "                input_dim=64))\n",
    "model.add(Dense(20, activation='relu',\n",
    "                kernel_regularizer=l2(l2=0.01)))\n",
    "\n",
    "model.add(Dense(12, activation='relu',\n",
    "                kernel_regularizer=l2(l2=0.01)))\n",
    "model.add(Dense(12, activation='relu',\n",
    "                kernel_regularizer=l2(l2=0.01)))\n",
    "model.add(Dense(12, activation='relu',\n",
    "                kernel_regularizer=l2(l2=0.01)))\n",
    "model.add(Dense(8, activation='relu',\n",
    "                kernel_regularizer=l2(l2=0.01)))\n",
    "model.add(Dense(4, activation='relu',\n",
    "                kernel_regularizer=l2(l2=0.01)))\n",
    "model.add(Dense(1, activation='sigmoid'))\n",
    "\n",
    "model.compile(optimizer='adam',\n",
    "              loss='binary_crossentropy',\n",
    "              metrics=['accuracy'])\n",
    "\n",
    "results = model.fit(X_pure_train, y_pure_train, epochs=20, batch_size=32,\n",
    "                    verbose=0, validation_data=(X_val, y_val))\n",
    "\n",
    "train_loss = results.history['loss']\n",
    "train_acc = results.history['accuracy']\n",
    "val_loss = results.history['val_loss']\n",
    "val_acc = results.history['val_accuracy']\n",
    "\n",
    "\n",
    "fig, (ax1, ax2) = plt.subplots(1, 2, figsize=(10, 5))\n",
    "sns.lineplot(x=results.epoch, y=train_loss, ax=ax1, label='train_loss')\n",
    "sns.lineplot(x=results.epoch, y=train_acc, ax=ax2, label='train_accuracy')\n",
    "\n",
    "sns.lineplot(x=results.epoch, y=val_loss, ax=ax1, label='val_loss')\n",
    "sns.lineplot(x=results.epoch, y=val_acc, ax=ax2, label='val_accuracy');"
   ]
  },
  {
   "cell_type": "markdown",
   "metadata": {
    "heading_collapsed": true,
    "hidden": true
   },
   "source": [
    "### Dropout"
   ]
  },
  {
   "cell_type": "markdown",
   "metadata": {
    "hidden": true
   },
   "source": [
    "We can also specify a dropout layer in keras, which randomly shuts off different nodes during training. This can help to prevent overfitting.\n",
    "\n",
    "![drop_out](images/drop_out.png)"
   ]
  },
  {
   "cell_type": "markdown",
   "metadata": {
    "heading_collapsed": true,
    "hidden": true
   },
   "source": [
    "### Exercise"
   ]
  },
  {
   "cell_type": "markdown",
   "metadata": {
    "hidden": true
   },
   "source": [
    "To add dropout to a `keras` network, simply add it as though it were a layer. It will apply to the immediately preceding layer.\n",
    "\n",
    "Add Dropout to one or more layers below."
   ]
  },
  {
   "cell_type": "code",
   "execution_count": 42,
   "metadata": {
    "ExecuteTime": {
     "end_time": "2023-10-16T02:58:27.548114Z",
     "start_time": "2023-10-16T02:58:18.103072Z"
    },
    "hidden": true,
    "scrolled": false
   },
   "outputs": [
    {
     "data": {
      "image/png": "[encoded data removed]",
      "text/plain": [
       "<Figure size 720x360 with 2 Axes>"
      ]
     },
     "metadata": {
      "needs_background": "light"
     },
     "output_type": "display_data"
    }
   ],
   "source": [
    "# model.add(Dropout(0.5))\n",
    "\n",
    "model = Sequential()\n",
    "model.add(Dense(30, activation='relu', input_dim=64))\n",
    "model.add(Dense(20, activation='relu'))\n",
    "\n",
    "model.add(Dropout(0.5))\n",
    "\n",
    "model.add(Dense(12, activation='relu'))\n",
    "\n",
    "model.add(Dropout(0.2))\n",
    "\n",
    "model.add(Dense(12, activation='relu'))\n",
    "model.add(Dense(12, activation='relu'))\n",
    "model.add(Dense(8, activation='relu'))\n",
    "model.add(Dense(4, activation='relu'))\n",
    "model.add(Dense(1, activation ='sigmoid'))\n",
    "\n",
    "model.compile(optimizer='adam',\n",
    "              loss='binary_crossentropy',\n",
    "              metrics=['accuracy'])\n",
    "\n",
    "results = model.fit(X_pure_train, y_pure_train, epochs=50,\n",
    "                    batch_size= 32, verbose=0,\n",
    "                    validation_data=(X_val, y_val))\n",
    "\n",
    "\n",
    "\n",
    "\n",
    "\n",
    "\n",
    "\n",
    "\n",
    "train_loss = results.history['loss']\n",
    "train_acc = results.history['accuracy']\n",
    "val_loss = results.history['val_loss']\n",
    "val_acc = results.history['val_accuracy']\n",
    "\n",
    "\n",
    "fig, (ax1, ax2) = plt.subplots(1, 2, figsize=(10, 5))\n",
    "sns.lineplot(x=results.epoch, y=train_loss, ax=ax1, label='train_loss')\n",
    "sns.lineplot(x=results.epoch, y=train_acc, ax=ax2, label='train_accuracy')\n",
    "\n",
    "sns.lineplot(x=results.epoch, y=val_loss, ax=ax1, label='val_loss')\n",
    "sns.lineplot(x=results.epoch, y=val_acc, ax=ax2, label='val_accuracy');"
   ]
  },
  {
   "cell_type": "markdown",
   "metadata": {
    "hidden": true
   },
   "source": [
    "<details>\n",
    "    <summary>One answer here</summary>\n",
    "<code>model = Sequential()\n",
    "model.add(Dense(30, activation='relu', input_dim=64))\n",
    "model.add(Dense(20, activation='relu'))\n",
    "model.add(Dropout(0.5))\n",
    "model.add(Dense(12, activation='relu'))\n",
    "model.add(Dropout(0.2))\n",
    "model.add(Dense(12, activation='relu'))\n",
    "model.add(Dense(12, activation='relu'))\n",
    "model.add(Dense(8, activation='relu'))\n",
    "model.add(Dense(4, activation='relu'))\n",
    "model.add(Dense(1, activation ='sigmoid'))\n",
    "\n",
    "model.compile(optimizer='adam',\n",
    "              loss='binary_crossentropy',\n",
    "              metrics=['accuracy'])\n",
    "\n",
    "results = model.fit(X_pure_train, y_pure_train, epochs=50,\n",
    "                    batch_size= 32, verbose=0,\n",
    "                    validation_data=(X_val, y_val))\n",
    "\n",
    "train_loss = results.history['loss']\n",
    "train_acc = results.history['accuracy']\n",
    "val_loss = results.history['val_loss']\n",
    "val_acc = results.history['val_accuracy']\n",
    "\n",
    "\n",
    "fig, (ax1, ax2) = plt.subplots(1, 2, figsize=(10, 5))\n",
    "sns.lineplot(x=results.epoch, y=train_loss, ax=ax1, label='train_loss')\n",
    "sns.lineplot(x=results.epoch, y=train_acc, ax=ax2, label='train_accuracy')\n",
    "\n",
    "sns.lineplot(x=results.epoch, y=val_loss, ax=ax1, label='val_loss')\n",
    "sns.lineplot(x=results.epoch, y=val_acc, ax=ax2, label='val_accuracy');</code>\n",
    "</details>"
   ]
  },
  {
   "cell_type": "code",
   "execution_count": 43,
   "metadata": {
    "ExecuteTime": {
     "end_time": "2023-10-16T02:58:34.087381Z",
     "start_time": "2023-10-16T02:58:33.973649Z"
    },
    "hidden": true
   },
   "outputs": [
    {
     "data": {
      "text/plain": [
       "0.9861111044883728"
      ]
     },
     "execution_count": 43,
     "metadata": {},
     "output_type": "execute_result"
    }
   ],
   "source": [
    "results.history['val_accuracy'][-1]"
   ]
  },
  {
   "cell_type": "code",
   "execution_count": 44,
   "metadata": {
    "ExecuteTime": {
     "end_time": "2023-10-16T02:58:34.678055Z",
     "start_time": "2023-10-16T02:58:34.570055Z"
    },
    "hidden": true
   },
   "outputs": [
    {
     "data": {
      "text/plain": [
       "0.9886857867240906"
      ]
     },
     "execution_count": 44,
     "metadata": {},
     "output_type": "execute_result"
    }
   ],
   "source": [
    "results.history['accuracy'][-1]"
   ]
  },
  {
   "cell_type": "markdown",
   "metadata": {
    "heading_collapsed": true,
    "hidden": true
   },
   "source": [
    "### Early Stopping"
   ]
  },
  {
   "cell_type": "markdown",
   "metadata": {
    "hidden": true
   },
   "source": [
    "We can also tell our neural network to stop once it stops realizing any gain.\n",
    "\n",
    "Here we tell it to stop once the a very small positive change in the validation loss occurs:"
   ]
  },
  {
   "cell_type": "code",
   "execution_count": 45,
   "metadata": {
    "ExecuteTime": {
     "end_time": "2023-10-16T03:01:56.569003Z",
     "start_time": "2023-10-16T03:01:55.027035Z"
    },
    "hidden": true
   },
   "outputs": [
    {
     "name": "stdout",
     "output_type": "stream",
     "text": [
      "Epoch 1/20\n",
      "36/36 [==============================] - 0s 4ms/step - loss: 0.6926 - accuracy: 0.5265 - val_loss: 0.6897 - val_accuracy: 0.6250\n",
      "Epoch 2/20\n",
      "36/36 [==============================] - 0s 2ms/step - loss: 0.6843 - accuracy: 0.5457 - val_loss: 0.6655 - val_accuracy: 0.6806\n",
      "Epoch 3/20\n",
      "36/36 [==============================] - 0s 2ms/step - loss: 0.6292 - accuracy: 0.6510 - val_loss: 0.5364 - val_accuracy: 0.8333\n",
      "Epoch 4/20\n",
      "36/36 [==============================] - 0s 2ms/step - loss: 0.5218 - accuracy: 0.8181 - val_loss: 0.4468 - val_accuracy: 0.8854\n",
      "Epoch 5/20\n",
      "36/36 [==============================] - 0s 2ms/step - loss: 0.4650 - accuracy: 0.8695 - val_loss: 0.4324 - val_accuracy: 0.8924\n",
      "Epoch 6/20\n",
      "36/36 [==============================] - 0s 2ms/step - loss: 0.4259 - accuracy: 0.8860 - val_loss: 0.3991 - val_accuracy: 0.8993\n",
      "Epoch 7/20\n",
      "36/36 [==============================] - 0s 2ms/step - loss: 0.3965 - accuracy: 0.9008 - val_loss: 0.3748 - val_accuracy: 0.9062\n",
      "Epoch 8/20\n",
      "36/36 [==============================] - 0s 2ms/step - loss: 0.3712 - accuracy: 0.9156 - val_loss: 0.3358 - val_accuracy: 0.9306\n",
      "Epoch 9/20\n",
      "36/36 [==============================] - 0s 2ms/step - loss: 0.3473 - accuracy: 0.9225 - val_loss: 0.3199 - val_accuracy: 0.9306\n",
      "Epoch 10/20\n",
      "36/36 [==============================] - 0s 2ms/step - loss: 0.3243 - accuracy: 0.9295 - val_loss: 0.3011 - val_accuracy: 0.9375\n",
      "Epoch 11/20\n",
      "36/36 [==============================] - 0s 2ms/step - loss: 0.3142 - accuracy: 0.9286 - val_loss: 0.2825 - val_accuracy: 0.9340\n",
      "Epoch 12/20\n",
      "36/36 [==============================] - 0s 2ms/step - loss: 0.2892 - accuracy: 0.9330 - val_loss: 0.2735 - val_accuracy: 0.9375\n",
      "Epoch 13/20\n",
      "36/36 [==============================] - 0s 2ms/step - loss: 0.2822 - accuracy: 0.9321 - val_loss: 0.2613 - val_accuracy: 0.9375\n",
      "Epoch 14/20\n",
      "36/36 [==============================] - 0s 2ms/step - loss: 0.2572 - accuracy: 0.9408 - val_loss: 0.2349 - val_accuracy: 0.9514\n",
      "Epoch 15/20\n",
      "36/36 [==============================] - 0s 2ms/step - loss: 0.2382 - accuracy: 0.9495 - val_loss: 0.2305 - val_accuracy: 0.9444\n",
      "Epoch 16/20\n",
      "36/36 [==============================] - 0s 2ms/step - loss: 0.2217 - accuracy: 0.9504 - val_loss: 0.2221 - val_accuracy: 0.9410\n",
      "Epoch 17/20\n",
      "36/36 [==============================] - 0s 2ms/step - loss: 0.2104 - accuracy: 0.9547 - val_loss: 0.1975 - val_accuracy: 0.9583\n",
      "Epoch 18/20\n",
      "36/36 [==============================] - 0s 2ms/step - loss: 0.1974 - accuracy: 0.9574 - val_loss: 0.1843 - val_accuracy: 0.9618\n",
      "Epoch 19/20\n",
      "36/36 [==============================] - 0s 2ms/step - loss: 0.1917 - accuracy: 0.9547 - val_loss: 0.1808 - val_accuracy: 0.9549\n",
      "Epoch 20/20\n",
      "36/36 [==============================] - 0s 2ms/step - loss: 0.1737 - accuracy: 0.9634 - val_loss: 0.2164 - val_accuracy: 0.9479\n",
      "Epoch 00020: early stopping\n"
     ]
    },
    {
     "data": {
      "image/png": "[encoded data removed]",
      "text/plain": [
       "<Figure size 720x360 with 2 Axes>"
      ]
     },
     "metadata": {
      "needs_background": "light"
     },
     "output_type": "display_data"
    }
   ],
   "source": [
    "model = Sequential()\n",
    "model.add(Dense(30, activation='relu', input_dim=64))\n",
    "model.add(Dense(20, activation='relu'))\n",
    "model.add(Dropout(0.5))\n",
    "model.add(Dense(12, activation='relu'))\n",
    "model.add(Dense(12, activation='relu'))\n",
    "model.add(Dense(12, activation='relu'))\n",
    "model.add(Dense(8, activation='relu'))\n",
    "model.add(Dense(4, activation='relu'))\n",
    "model.add(Dense(1, activation ='sigmoid'))\n",
    "\n",
    "model.compile(optimizer='adam',\n",
    "              loss='binary_crossentropy',\n",
    "              metrics=['accuracy'])\n",
    "\n",
    "# Define the EarlyStopping object\n",
    "early_stop = EarlyStopping(monitor='val_loss', min_delta=1e-4,\n",
    "                           verbose=1,\n",
    "                           mode='min')\n",
    "\n",
    "# Place this in a list as the value of the `callbacks` parameter\n",
    "# in the `.fit()` method.\n",
    "results = model.fit(X_pure_train, y_pure_train,\n",
    "                    epochs=20, batch_size=32,\n",
    "                    verbose=1, validation_data=(X_val, y_val),\n",
    "                    callbacks=[early_stop])\n",
    "\n",
    "train_loss = results.history['loss']\n",
    "train_acc = results.history['accuracy']\n",
    "val_loss = results.history['val_loss']\n",
    "val_acc = results.history['val_accuracy']\n",
    "\n",
    "\n",
    "fig, (ax1, ax2) = plt.subplots(1, 2, figsize=(10, 5))\n",
    "sns.lineplot(x=results.epoch, y=train_loss, ax=ax1, label='train_loss')\n",
    "sns.lineplot(x=results.epoch, y=train_acc, ax=ax2, label='train_accuracy')\n",
    "\n",
    "sns.lineplot(x=results.epoch, y=val_loss, ax=ax1, label='val_loss')\n",
    "sns.lineplot(x=results.epoch, y=val_acc, ax=ax2, label='val_accuracy');"
   ]
  },
  {
   "cell_type": "markdown",
   "metadata": {
    "heading_collapsed": true,
    "hidden": true
   },
   "source": [
    "### Exercise"
   ]
  },
  {
   "cell_type": "markdown",
   "metadata": {
    "hidden": true
   },
   "source": [
    "That probably stopped too early. We can specify the number of epochs in which it doesn't see decrease in the loss with the `patience` parameter. Modify the code below to include an Early Stop with a patience of 5 epochs."
   ]
  },
  {
   "cell_type": "code",
   "execution_count": 46,
   "metadata": {
    "ExecuteTime": {
     "end_time": "2023-10-16T03:02:13.470343Z",
     "start_time": "2023-10-16T03:02:09.126373Z"
    },
    "hidden": true
   },
   "outputs": [
    {
     "name": "stdout",
     "output_type": "stream",
     "text": [
      "Epoch 00029: early stopping\n"
     ]
    },
    {
     "data": {
      "image/png": "[encoded data removed]",
      "text/plain": [
       "<Figure size 720x360 with 2 Axes>"
      ]
     },
     "metadata": {
      "needs_background": "light"
     },
     "output_type": "display_data"
    }
   ],
   "source": [
    "model = Sequential()\n",
    "model.add(Dense(30, activation='relu', input_dim=64))\n",
    "model.add(Dense(20, activation='relu'))\n",
    "model.add(Dropout(0.5))\n",
    "model.add(Dense(12, activation='relu'))\n",
    "model.add(Dense(12, activation='relu'))\n",
    "model.add(Dense(12, activation='relu'))\n",
    "model.add(Dense(8, activation='relu'))\n",
    "model.add(Dense(4, activation='relu'))\n",
    "model.add(Dense(1, activation ='sigmoid'))\n",
    "\n",
    "model.compile(optimizer='adam',\n",
    "              loss='binary_crossentropy',\n",
    "              metrics=['accuracy'])\n",
    "\n",
    "# Define the EarlyStopping object\n",
    "early_stop = EarlyStopping(monitor='val_loss', min_delta=1e-8,\n",
    "                           verbose=1, \n",
    "                           patience=5,\n",
    "                           mode='min')\n",
    "\n",
    "# Place this in a list as the value of the `callbacks` parameter\n",
    "# in the `.fit()` method.\n",
    "results = model.fit(X_pure_train, y_pure_train,\n",
    "                    epochs=50, batch_size= 32,\n",
    "                    verbose=0, validation_data=(X_val, y_val),\n",
    "                    callbacks=[early_stop])\n",
    "\n",
    "train_loss = results.history['loss']\n",
    "train_acc = results.history['accuracy']\n",
    "val_loss = results.history['val_loss']\n",
    "val_acc = results.history['val_accuracy']\n",
    "\n",
    "\n",
    "fig, (ax1, ax2) = plt.subplots(1, 2, figsize=(10, 5))\n",
    "sns.lineplot(x=results.epoch, y=train_loss, ax=ax1, label='train_loss')\n",
    "sns.lineplot(x=results.epoch, y=train_acc, ax=ax2, label='train_accuracy')\n",
    "\n",
    "sns.lineplot(x=results.epoch, y=val_loss, ax=ax1, label='val_loss')\n",
    "sns.lineplot(x=results.epoch, y=val_acc, ax=ax2, label='val_accuracy');"
   ]
  },
  {
   "cell_type": "markdown",
   "metadata": {
    "hidden": true
   },
   "source": [
    "<details>\n",
    "    <summary>One answer here</summary>\n",
    "<code>model = Sequential()\n",
    "model.add(Dense(30, activation='relu', input_dim=64))\n",
    "model.add(Dense(20, activation='relu'))\n",
    "model.add(Dropout(0.5))\n",
    "model.add(Dense(12, activation='relu'))\n",
    "model.add(Dense(12, activation='relu'))\n",
    "model.add(Dense(12, activation='relu'))\n",
    "model.add(Dense(8, activation='relu'))\n",
    "model.add(Dense(4, activation='relu'))\n",
    "model.add(Dense(1, activation ='sigmoid'))\n",
    "\n",
    "model.compile(optimizer='adam',\n",
    "              loss='binary_crossentropy',\n",
    "              metrics=['accuracy'])\n",
    "\n",
    "# Define the EarlyStopping object\n",
    "\n",
    "\n",
    "\n",
    "# Place this in a list as the value of the `callbacks` parameter\n",
    "# in the `.fit()` method.\n",
    "results = model.fit(X_pure_train, y_pure_train,\n",
    "                    epochs=50, batch_size= 32,\n",
    "                    verbose=0, validation_data=(X_val, y_val),\n",
    "                    callbacks=[early_stop])\n",
    "\n",
    "train_loss = results.history['loss']\n",
    "train_acc = results.history['accuracy']\n",
    "val_loss = results.history['val_loss']\n",
    "val_acc = results.history['val_accuracy']\n",
    "\n",
    "\n",
    "fig, (ax1, ax2) = plt.subplots(1, 2, figsize=(10, 5))\n",
    "sns.lineplot(x=results.epoch, y=train_loss, ax=ax1, label='train_loss')\n",
    "sns.lineplot(x=results.epoch, y=train_acc, ax=ax2, label='train_accuracy')\n",
    "\n",
    "sns.lineplot(x=results.epoch, y=val_loss, ax=ax1, label='val_loss')\n",
    "sns.lineplot(x=results.epoch, y=val_acc, ax=ax2, label='val_accuracy');</code>\n",
    "</details>"
   ]
  },
  {
   "cell_type": "code",
   "execution_count": 47,
   "metadata": {
    "ExecuteTime": {
     "end_time": "2023-10-16T03:02:20.250416Z",
     "start_time": "2023-10-16T03:02:20.130295Z"
    },
    "hidden": true
   },
   "outputs": [
    {
     "data": {
      "text/plain": [
       "0.9722222089767456"
      ]
     },
     "execution_count": 47,
     "metadata": {},
     "output_type": "execute_result"
    }
   ],
   "source": [
    "results.history['val_accuracy'][-1]"
   ]
  },
  {
   "cell_type": "code",
   "execution_count": 48,
   "metadata": {
    "ExecuteTime": {
     "end_time": "2023-10-16T03:02:20.843297Z",
     "start_time": "2023-10-16T03:02:20.735297Z"
    },
    "hidden": true
   },
   "outputs": [
    {
     "data": {
      "text/plain": [
       "0.9912967681884766"
      ]
     },
     "execution_count": 48,
     "metadata": {},
     "output_type": "execute_result"
    }
   ],
   "source": [
    "results.history['accuracy'][-1]"
   ]
  },
  {
   "cell_type": "markdown",
   "metadata": {
    "heading_collapsed": true,
    "hidden": true
   },
   "source": [
    "## Multiclass Classification and Softmax"
   ]
  },
  {
   "cell_type": "markdown",
   "metadata": {
    "hidden": true
   },
   "source": [
    "Now let's return to the problem of predicting digits 0 through 9."
   ]
  },
  {
   "cell_type": "code",
   "execution_count": 49,
   "metadata": {
    "ExecuteTime": {
     "end_time": "2023-10-16T03:02:25.088716Z",
     "start_time": "2023-10-16T03:02:24.934687Z"
    },
    "hidden": true
   },
   "outputs": [],
   "source": [
    "digits = load_digits()\n",
    "X = digits.data\n",
    "y = digits.target"
   ]
  },
  {
   "cell_type": "code",
   "execution_count": 50,
   "metadata": {
    "ExecuteTime": {
     "end_time": "2023-10-16T03:02:26.359134Z",
     "start_time": "2023-10-16T03:02:26.254529Z"
    },
    "hidden": true
   },
   "outputs": [],
   "source": [
    "X_train, X_test, y_train, y_test = train_test_split(X, y,\n",
    "                                                    random_state=42,\n",
    "                                                    test_size=0.2)\n",
    "X_pure_train, X_val, y_pure_train, y_val =\\\n",
    "    train_test_split(X_train, y_train,\n",
    "                     random_state=42, test_size=0.2)\n",
    "X_pure_train, X_val, X_test = X_pure_train/16, X_val/16, X_test/16"
   ]
  },
  {
   "cell_type": "markdown",
   "metadata": {
    "hidden": true
   },
   "source": [
    "For a multiclass output, our neural net expects our target to be in a certain form."
   ]
  },
  {
   "cell_type": "code",
   "execution_count": 51,
   "metadata": {
    "ExecuteTime": {
     "end_time": "2023-10-16T03:02:28.828868Z",
     "start_time": "2023-10-16T03:02:28.717867Z"
    },
    "hidden": true
   },
   "outputs": [
    {
     "data": {
      "text/plain": [
       "6"
      ]
     },
     "execution_count": 51,
     "metadata": {},
     "output_type": "execute_result"
    }
   ],
   "source": [
    "y_test[0]"
   ]
  },
  {
   "cell_type": "code",
   "execution_count": 52,
   "metadata": {
    "ExecuteTime": {
     "end_time": "2023-10-16T03:02:36.427533Z",
     "start_time": "2023-10-16T03:02:36.313559Z"
    },
    "hidden": true
   },
   "outputs": [],
   "source": [
    "ohe = OneHotEncoder(sparse=False)\n",
    "y_pure_train = ohe.fit_transform(y_pure_train.reshape(-1,1))\n",
    "y_val = ohe.transform(y_val.reshape(-1,1))\n",
    "y_test = ohe.transform(y_test.reshape(-1,1))"
   ]
  },
  {
   "cell_type": "code",
   "execution_count": 53,
   "metadata": {
    "ExecuteTime": {
     "end_time": "2023-10-16T03:02:37.040568Z",
     "start_time": "2023-10-16T03:02:36.930534Z"
    },
    "hidden": true
   },
   "outputs": [
    {
     "data": {
      "text/plain": [
       "array([0., 0., 0., 0., 0., 0., 1., 0., 0., 0.])"
      ]
     },
     "execution_count": 53,
     "metadata": {},
     "output_type": "execute_result"
    }
   ],
   "source": [
    "y_test[0]"
   ]
  },
  {
   "cell_type": "code",
   "execution_count": 54,
   "metadata": {
    "ExecuteTime": {
     "end_time": "2023-10-16T03:03:12.127906Z",
     "start_time": "2023-10-16T03:02:48.124764Z"
    },
    "hidden": true
   },
   "outputs": [
    {
     "name": "stdout",
     "output_type": "stream",
     "text": [
      "Epoch 1/50\n",
      "115/115 [==============================] - 0s 3ms/step - loss: 2.2814 - accuracy: 0.0975 - precision: 0.0000e+00 - val_loss: 2.1997 - val_accuracy: 0.0938 - val_precision: 0.0000e+00\n",
      "Epoch 2/50\n",
      "115/115 [==============================] - 0s 1ms/step - loss: 2.0983 - accuracy: 0.1514 - precision: 1.0000 - val_loss: 1.9661 - val_accuracy: 0.2431 - val_precision: 1.0000\n",
      "Epoch 3/50\n",
      "115/115 [==============================] - 0s 1ms/step - loss: 1.7779 - accuracy: 0.4204 - precision: 0.9697 - val_loss: 1.5795 - val_accuracy: 0.5347 - val_precision: 1.0000\n",
      "Epoch 4/50\n",
      "115/115 [==============================] - 0s 1ms/step - loss: 1.3367 - accuracy: 0.6493 - precision: 0.9712 - val_loss: 1.1799 - val_accuracy: 0.6771 - val_precision: 0.9730\n",
      "Epoch 5/50\n",
      "115/115 [==============================] - 0s 1ms/step - loss: 0.9876 - accuracy: 0.7563 - precision: 0.9593 - val_loss: 0.9449 - val_accuracy: 0.7326 - val_precision: 0.9371\n",
      "Epoch 6/50\n",
      "115/115 [==============================] - 0s 1ms/step - loss: 0.7985 - accuracy: 0.7859 - precision: 0.9459 - val_loss: 0.8172 - val_accuracy: 0.7674 - val_precision: 0.9200\n",
      "Epoch 7/50\n",
      "115/115 [==============================] - 0s 1ms/step - loss: 0.6755 - accuracy: 0.8111 - precision: 0.9318 - val_loss: 0.7004 - val_accuracy: 0.7847 - val_precision: 0.9188\n",
      "Epoch 8/50\n",
      "115/115 [==============================] - 0s 1ms/step - loss: 0.5895 - accuracy: 0.8346 - precision: 0.9350 - val_loss: 0.6035 - val_accuracy: 0.8368 - val_precision: 0.9148\n",
      "Epoch 9/50\n",
      "115/115 [==============================] - 0s 1ms/step - loss: 0.5153 - accuracy: 0.8599 - precision: 0.9264 - val_loss: 0.5548 - val_accuracy: 0.8438 - val_precision: 0.9198\n",
      "Epoch 10/50\n",
      "115/115 [==============================] - 0s 1ms/step - loss: 0.4638 - accuracy: 0.8660 - precision: 0.9343 - val_loss: 0.4939 - val_accuracy: 0.8368 - val_precision: 0.9116\n",
      "Epoch 11/50\n",
      "115/115 [==============================] - 0s 1ms/step - loss: 0.4189 - accuracy: 0.8816 - precision: 0.9417 - val_loss: 0.4548 - val_accuracy: 0.8576 - val_precision: 0.9141\n",
      "Epoch 12/50\n",
      "115/115 [==============================] - 0s 1ms/step - loss: 0.3810 - accuracy: 0.8886 - precision: 0.9403 - val_loss: 0.4165 - val_accuracy: 0.8750 - val_precision: 0.9246\n",
      "Epoch 13/50\n",
      "115/115 [==============================] - 0s 1ms/step - loss: 0.3556 - accuracy: 0.8990 - precision: 0.9463 - val_loss: 0.3979 - val_accuracy: 0.8819 - val_precision: 0.9160\n",
      "Epoch 14/50\n",
      "115/115 [==============================] - 0s 1ms/step - loss: 0.3238 - accuracy: 0.9086 - precision: 0.9521 - val_loss: 0.3812 - val_accuracy: 0.8750 - val_precision: 0.9208\n",
      "Epoch 15/50\n",
      "115/115 [==============================] - 0s 1ms/step - loss: 0.3044 - accuracy: 0.9121 - precision: 0.9571 - val_loss: 0.3387 - val_accuracy: 0.8889 - val_precision: 0.9423\n",
      "Epoch 16/50\n",
      "115/115 [==============================] - 0s 1ms/step - loss: 0.2853 - accuracy: 0.9121 - precision: 0.9533 - val_loss: 0.3251 - val_accuracy: 0.8958 - val_precision: 0.9392\n",
      "Epoch 17/50\n",
      "115/115 [==============================] - 0s 1ms/step - loss: 0.2654 - accuracy: 0.9260 - precision: 0.9565 - val_loss: 0.3066 - val_accuracy: 0.9167 - val_precision: 0.9358\n",
      "Epoch 18/50\n",
      "115/115 [==============================] - 0s 1ms/step - loss: 0.2552 - accuracy: 0.9234 - precision: 0.9527 - val_loss: 0.2843 - val_accuracy: 0.9097 - val_precision: 0.9509\n",
      "Epoch 19/50\n",
      "115/115 [==============================] - 0s 1ms/step - loss: 0.2376 - accuracy: 0.9339 - precision: 0.9631 - val_loss: 0.2759 - val_accuracy: 0.9132 - val_precision: 0.9623\n",
      "Epoch 20/50\n",
      "115/115 [==============================] - 0s 1ms/step - loss: 0.2234 - accuracy: 0.9382 - precision: 0.9597 - val_loss: 0.2659 - val_accuracy: 0.9340 - val_precision: 0.9624\n",
      "Epoch 21/50\n",
      "115/115 [==============================] - 0s 1ms/step - loss: 0.2119 - accuracy: 0.9452 - precision: 0.9654 - val_loss: 0.2578 - val_accuracy: 0.9271 - val_precision: 0.9556\n",
      "Epoch 22/50\n",
      "115/115 [==============================] - 0s 1ms/step - loss: 0.2022 - accuracy: 0.9469 - precision: 0.9640 - val_loss: 0.2559 - val_accuracy: 0.9271 - val_precision: 0.9625\n",
      "Epoch 23/50\n",
      "115/115 [==============================] - 0s 1ms/step - loss: 0.1910 - accuracy: 0.9521 - precision: 0.9684 - val_loss: 0.2348 - val_accuracy: 0.9340 - val_precision: 0.9703\n",
      "Epoch 24/50\n",
      "115/115 [==============================] - 0s 1ms/step - loss: 0.1827 - accuracy: 0.9513 - precision: 0.9702 - val_loss: 0.2257 - val_accuracy: 0.9375 - val_precision: 0.9704\n",
      "Epoch 25/50\n",
      "115/115 [==============================] - 0s 1ms/step - loss: 0.1748 - accuracy: 0.9547 - precision: 0.9694 - val_loss: 0.2247 - val_accuracy: 0.9340 - val_precision: 0.9670\n",
      "Epoch 26/50\n",
      "115/115 [==============================] - 0s 1ms/step - loss: 0.1678 - accuracy: 0.9565 - precision: 0.9712 - val_loss: 0.2172 - val_accuracy: 0.9375 - val_precision: 0.9670\n",
      "Epoch 27/50\n",
      "115/115 [==============================] - 0s 1ms/step - loss: 0.1577 - accuracy: 0.9600 - precision: 0.9758 - val_loss: 0.2159 - val_accuracy: 0.9375 - val_precision: 0.9673\n",
      "Epoch 28/50\n",
      "115/115 [==============================] - 0s 1ms/step - loss: 0.1507 - accuracy: 0.9565 - precision: 0.9715 - val_loss: 0.2134 - val_accuracy: 0.9410 - val_precision: 0.9669\n",
      "Epoch 29/50\n",
      "115/115 [==============================] - 0s 1ms/step - loss: 0.1466 - accuracy: 0.9687 - precision: 0.9759 - val_loss: 0.2132 - val_accuracy: 0.9340 - val_precision: 0.9496\n",
      "Epoch 30/50\n",
      "115/115 [==============================] - 0s 1ms/step - loss: 0.1394 - accuracy: 0.9652 - precision: 0.9786 - val_loss: 0.1931 - val_accuracy: 0.9306 - val_precision: 0.9601\n",
      "Epoch 31/50\n",
      "115/115 [==============================] - 0s 1ms/step - loss: 0.1346 - accuracy: 0.9661 - precision: 0.9786 - val_loss: 0.1849 - val_accuracy: 0.9340 - val_precision: 0.9500\n",
      "Epoch 32/50\n",
      "115/115 [==============================] - 0s 1ms/step - loss: 0.1292 - accuracy: 0.9687 - precision: 0.9804 - val_loss: 0.1832 - val_accuracy: 0.9340 - val_precision: 0.9603\n",
      "Epoch 33/50\n",
      "115/115 [==============================] - 0s 1ms/step - loss: 0.1243 - accuracy: 0.9739 - precision: 0.9831 - val_loss: 0.1815 - val_accuracy: 0.9306 - val_precision: 0.9636\n",
      "Epoch 34/50\n",
      "115/115 [==============================] - 0s 1ms/step - loss: 0.1190 - accuracy: 0.9704 - precision: 0.9796 - val_loss: 0.1863 - val_accuracy: 0.9410 - val_precision: 0.9599\n",
      "Epoch 35/50\n",
      "115/115 [==============================] - 0s 1ms/step - loss: 0.1147 - accuracy: 0.9748 - precision: 0.9822 - val_loss: 0.1668 - val_accuracy: 0.9479 - val_precision: 0.9712\n",
      "Epoch 36/50\n",
      "115/115 [==============================] - 0s 1ms/step - loss: 0.1092 - accuracy: 0.9756 - precision: 0.9841 - val_loss: 0.1704 - val_accuracy: 0.9236 - val_precision: 0.9460\n",
      "Epoch 37/50\n",
      "115/115 [==============================] - 0s 1ms/step - loss: 0.1046 - accuracy: 0.9800 - precision: 0.9850 - val_loss: 0.1645 - val_accuracy: 0.9306 - val_precision: 0.9397\n",
      "Epoch 38/50\n",
      "115/115 [==============================] - 0s 1ms/step - loss: 0.1035 - accuracy: 0.9791 - precision: 0.9824 - val_loss: 0.1624 - val_accuracy: 0.9340 - val_precision: 0.9568\n",
      "Epoch 39/50\n",
      "115/115 [==============================] - 0s 1ms/step - loss: 0.0993 - accuracy: 0.9782 - precision: 0.9859 - val_loss: 0.1617 - val_accuracy: 0.9375 - val_precision: 0.9567\n",
      "Epoch 40/50\n",
      "115/115 [==============================] - 0s 1ms/step - loss: 0.0983 - accuracy: 0.9791 - precision: 0.9849 - val_loss: 0.1853 - val_accuracy: 0.9375 - val_precision: 0.9500\n",
      "Epoch 41/50\n",
      "115/115 [==============================] - 0s 1ms/step - loss: 0.0933 - accuracy: 0.9800 - precision: 0.9867 - val_loss: 0.1684 - val_accuracy: 0.9410 - val_precision: 0.9464\n",
      "Epoch 42/50\n",
      "115/115 [==============================] - 0s 1ms/step - loss: 0.0902 - accuracy: 0.9835 - precision: 0.9903 - val_loss: 0.1638 - val_accuracy: 0.9479 - val_precision: 0.9606\n",
      "Epoch 43/50\n",
      "115/115 [==============================] - 0s 1ms/step - loss: 0.0863 - accuracy: 0.9817 - precision: 0.9850 - val_loss: 0.1589 - val_accuracy: 0.9514 - val_precision: 0.9709\n",
      "Epoch 44/50\n",
      "115/115 [==============================] - 0s 1ms/step - loss: 0.0846 - accuracy: 0.9835 - precision: 0.9886 - val_loss: 0.1555 - val_accuracy: 0.9514 - val_precision: 0.9748\n"
     ]
    },
    {
     "name": "stdout",
     "output_type": "stream",
     "text": [
      "Epoch 45/50\n",
      "115/115 [==============================] - 0s 1ms/step - loss: 0.0800 - accuracy: 0.9869 - precision: 0.9903 - val_loss: 0.1511 - val_accuracy: 0.9410 - val_precision: 0.9571\n",
      "Epoch 46/50\n",
      "115/115 [==============================] - 0s 1ms/step - loss: 0.0776 - accuracy: 0.9826 - precision: 0.9903 - val_loss: 0.1450 - val_accuracy: 0.9479 - val_precision: 0.9579\n",
      "Epoch 47/50\n",
      "115/115 [==============================] - 0s 1ms/step - loss: 0.0779 - accuracy: 0.9826 - precision: 0.9877 - val_loss: 0.1536 - val_accuracy: 0.9306 - val_precision: 0.9502\n",
      "Epoch 48/50\n",
      "115/115 [==============================] - 0s 1ms/step - loss: 0.0740 - accuracy: 0.9852 - precision: 0.9869 - val_loss: 0.1432 - val_accuracy: 0.9549 - val_precision: 0.9613\n",
      "Epoch 49/50\n",
      "115/115 [==============================] - 0s 1ms/step - loss: 0.0730 - accuracy: 0.9835 - precision: 0.9851 - val_loss: 0.1684 - val_accuracy: 0.9375 - val_precision: 0.9537\n",
      "Epoch 50/50\n",
      "115/115 [==============================] - 0s 1ms/step - loss: 0.0690 - accuracy: 0.9852 - precision: 0.9886 - val_loss: 0.1521 - val_accuracy: 0.9549 - val_precision: 0.9644\n"
     ]
    }
   ],
   "source": [
    "# Model from above, but now with ten output neurons:\n",
    "\n",
    "model = Sequential()\n",
    "model.add(Dense(12, activation='relu', input_dim=64))\n",
    "model.add(Dense(8, activation='relu'))\n",
    "model.add(Dense(10, activation='softmax'))\n",
    "\n",
    "model.compile(optimizer='adam',\n",
    "              loss='categorical_crossentropy',\n",
    "              metrics=['accuracy', Precision()])\n",
    "\n",
    "results = model.fit(X_pure_train, y_pure_train,\n",
    "                   epochs=50, batch_size=10,\n",
    "                   validation_data=(X_val, y_val))"
   ]
  },
  {
   "cell_type": "markdown",
   "metadata": {
    "hidden": true
   },
   "source": [
    "$$\\large \\text{Softmax}(x_{i}) = \\frac{\\exp(x_i)}{\\sum_j \\exp(x_j)}$$\n",
    "\n",
    "The sofmax function outputs a number between 0 and 1 for each of our classes.  All of the probabilities of the classes sum up to 1.\n",
    "\n",
    "The number of nodes in our output layer equals the number of categories in our dataset.\n",
    "\n",
    "We also need a new loss function: **categorical crossentropy**, which calculates a separate loss for each label and then sums the results."
   ]
  },
  {
   "cell_type": "code",
   "execution_count": 55,
   "metadata": {
    "ExecuteTime": {
     "end_time": "2023-10-16T03:03:29.634298Z",
     "start_time": "2023-10-16T03:03:29.532192Z"
    },
    "hidden": true
   },
   "outputs": [],
   "source": [
    "history = results.history\n",
    "training_loss = history['loss']\n",
    "val_loss = history['val_loss']\n",
    "training_accuracy = history['accuracy']\n",
    "val_accuracy = history['val_accuracy']"
   ]
  },
  {
   "cell_type": "code",
   "execution_count": 56,
   "metadata": {
    "ExecuteTime": {
     "end_time": "2023-10-16T03:03:32.385811Z",
     "start_time": "2023-10-16T03:03:32.048812Z"
    },
    "hidden": true
   },
   "outputs": [
    {
     "data": {
      "image/png": "[encoded data removed]",
      "text/plain": [
       "<Figure size 1080x360 with 2 Axes>"
      ]
     },
     "metadata": {
      "needs_background": "light"
     },
     "output_type": "display_data"
    }
   ],
   "source": [
    "fig, (ax1,ax2) = plt.subplots(1,2,figsize=(15,5))\n",
    "\n",
    "\n",
    "sns.lineplot(x=list(range(len(training_loss))),\n",
    "             y=training_loss, color='r', label='training', ax=ax1)\n",
    "sns.lineplot(x=list(range(len(val_loss))),\n",
    "             y=val_loss, color='b', label='validation', ax=ax1)\n",
    "sns.lineplot(x=list(range(len(training_loss))),\n",
    "             y=training_accuracy, color='r', label='training',ax=ax2)\n",
    "sns.lineplot(x=list(range(len(val_loss))),\n",
    "             y=val_accuracy, color='b', label='validation',ax=ax2)\n",
    "ax1.legend();"
   ]
  },
  {
   "cell_type": "code",
   "execution_count": 57,
   "metadata": {
    "ExecuteTime": {
     "end_time": "2023-10-16T03:03:38.182845Z",
     "start_time": "2023-10-16T03:03:38.008848Z"
    },
    "hidden": true
   },
   "outputs": [],
   "source": [
    "y_hat_test = np.argmax(model.predict(X_test), axis=-1)"
   ]
  },
  {
   "cell_type": "code",
   "execution_count": 58,
   "metadata": {
    "ExecuteTime": {
     "end_time": "2023-10-16T03:03:39.317702Z",
     "start_time": "2023-10-16T03:03:39.204581Z"
    },
    "hidden": true
   },
   "outputs": [
    {
     "data": {
      "text/plain": [
       "array([[31,  0,  0,  0,  0,  1,  1,  0,  0,  0],\n",
       "       [ 0, 25,  3,  0,  0,  0,  0,  0,  0,  0],\n",
       "       [ 0,  1, 30,  1,  0,  0,  0,  0,  1,  0],\n",
       "       [ 0,  0,  0, 32,  0,  1,  0,  0,  1,  0],\n",
       "       [ 0,  1,  0,  0, 44,  0,  1,  0,  0,  0],\n",
       "       [ 0,  0,  1,  0,  0, 45,  0,  0,  0,  1],\n",
       "       [ 0,  0,  0,  0,  0,  0, 34,  0,  0,  1],\n",
       "       [ 0,  0,  0,  0,  0,  1,  0, 33,  0,  0],\n",
       "       [ 0,  1,  0,  0,  0,  1,  0,  0, 28,  0],\n",
       "       [ 1,  0,  0,  0,  0,  0,  0,  0,  3, 36]], dtype=int64)"
      ]
     },
     "execution_count": 58,
     "metadata": {},
     "output_type": "execute_result"
    }
   ],
   "source": [
    "y_test_restore = ohe.inverse_transform(y_test)\n",
    "confusion_matrix(y_test_restore, y_hat_test)"
   ]
  },
  {
   "cell_type": "markdown",
   "metadata": {
    "hidden": true
   },
   "source": [
    "Wow, look at that performance!  \n",
    "\n",
    "That is great, but remember, we were dealing with simple black and white images.  With color, our basic neural net will have less success.\n",
    "\n",
    "We will explore more advanced tools in the coming days.\n"
   ]
  }
 ],
 "metadata": {
  "celltoolbar": "Raw Cell Format",
  "colab": {
   "collapsed_sections": [],
   "name": "intro-to-keras.ipynb",
   "provenance": []
  },
  "kernelspec": {
   "display_name": "Python (learn-env)",
   "language": "python",
   "name": "learn-env"
  },
  "language_info": {
   "codemirror_mode": {
    "name": "ipython",
    "version": 3
   },
   "file_extension": ".py",
   "mimetype": "text/x-python",
   "name": "python",
   "nbconvert_exporter": "python",
   "pygments_lexer": "ipython3",
   "version": "3.8.5"
  },
  "toc": {
   "base_numbering": 1,
   "nav_menu": {},
   "number_sections": true,
   "sideBar": true,
   "skip_h1_title": false,
   "title_cell": "Table of Contents",
   "title_sidebar": "Contents",
   "toc_cell": false,
   "toc_position": {},
   "toc_section_display": true,
   "toc_window_display": true
  },
  "varInspector": {
   "cols": {
    "lenName": 16,
    "lenType": 16,
    "lenVar": 40
   },
   "kernels_config": {
    "python": {
     "delete_cmd_postfix": "",
     "delete_cmd_prefix": "del ",
     "library": "var_list.py",
     "varRefreshCmd": "print(var_dic_list())"
    },
    "r": {
     "delete_cmd_postfix": ") ",
     "delete_cmd_prefix": "rm(",
     "library": "var_list.r",
     "varRefreshCmd": "cat(var_dic_list()) "
    }
   },
   "types_to_exclude": [
    "module",
    "function",
    "builtin_function_or_method",
    "instance",
    "_Feature"
   ],
   "window_display": false
  }
 },
 "nbformat": 4,
 "nbformat_minor": 4
}
