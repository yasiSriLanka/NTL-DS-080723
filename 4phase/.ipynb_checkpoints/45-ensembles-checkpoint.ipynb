{
 "cells": [
  {
   "cell_type": "markdown",
   "metadata": {
    "toc": true
   },
   "source": [
    "<h1>Table of Contents<span class=\"tocSkip\"></span></h1>\n",
    "<div class=\"toc\"><ul class=\"toc-item\"><li><span><a href=\"#Ensembles:-Bagging\" data-toc-modified-id=\"Ensembles:-Bagging-1\"><span class=\"toc-item-num\">1&nbsp;&nbsp;</span>Ensembles: Bagging</a></span></li><li><span><a href=\"#Objectives\" data-toc-modified-id=\"Objectives-2\"><span class=\"toc-item-num\">2&nbsp;&nbsp;</span>Objectives</a></span></li><li><span><a href=\"#Ensemble-Methods\" data-toc-modified-id=\"Ensemble-Methods-3\"><span class=\"toc-item-num\">3&nbsp;&nbsp;</span>Ensemble Methods</a></span><ul class=\"toc-item\"><li><span><a href=\"#Advantages-&amp;--Disadvantages\" data-toc-modified-id=\"Advantages-&amp;--Disadvantages-3.1\"><span class=\"toc-item-num\">3.1&nbsp;&nbsp;</span>Advantages &amp;  Disadvantages</a></span></li><li><span><a href=\"#Bagging\" data-toc-modified-id=\"Bagging-3.2\"><span class=\"toc-item-num\">3.2&nbsp;&nbsp;</span>Bagging</a></span><ul class=\"toc-item\"><li><ul class=\"toc-item\"><li><span><a href=\"#Aggregation\" data-toc-modified-id=\"Aggregation-3.2.0.1\"><span class=\"toc-item-num\">3.2.0.1&nbsp;&nbsp;</span>Aggregation</a></span></li><li><span><a href=\"#Three-Varieties,-Three-Levels-of-Randomization\" data-toc-modified-id=\"Three-Varieties,-Three-Levels-of-Randomization-3.2.0.2\"><span class=\"toc-item-num\">3.2.0.2&nbsp;&nbsp;</span>Three Varieties, Three Levels of Randomization</a></span></li></ul></li></ul></li><li><span><a href=\"#Data-Preparation-for-Examples\" data-toc-modified-id=\"Data-Preparation-for-Examples-3.3\"><span class=\"toc-item-num\">3.3&nbsp;&nbsp;</span>Data Preparation for Examples</a></span><ul class=\"toc-item\"><li><span><a href=\"#Defining-Our-Problem\" data-toc-modified-id=\"Defining-Our-Problem-3.3.1\"><span class=\"toc-item-num\">3.3.1&nbsp;&nbsp;</span>Defining Our Problem</a></span></li><li><span><a href=\"#Fix-Columns-with-Missing-Values\" data-toc-modified-id=\"Fix-Columns-with-Missing-Values-3.3.2\"><span class=\"toc-item-num\">3.3.2&nbsp;&nbsp;</span>Fix Columns with Missing Values</a></span></li></ul></li><li><span><a href=\"#Averaging\" data-toc-modified-id=\"Averaging-3.4\"><span class=\"toc-item-num\">3.4&nbsp;&nbsp;</span>Averaging</a></span><ul class=\"toc-item\"><li><span><a href=\"#Model-1---Logistic-Regression\" data-toc-modified-id=\"Model-1---Logistic-Regression-3.4.1\"><span class=\"toc-item-num\">3.4.1&nbsp;&nbsp;</span>Model 1 - Logistic Regression</a></span></li><li><span><a href=\"#Model-2---KNN\" data-toc-modified-id=\"Model-2---KNN-3.4.2\"><span class=\"toc-item-num\">3.4.2&nbsp;&nbsp;</span>Model 2 - KNN</a></span></li><li><span><a href=\"#Model-3---Decision-Tree\" data-toc-modified-id=\"Model-3---Decision-Tree-3.4.3\"><span class=\"toc-item-num\">3.4.3&nbsp;&nbsp;</span>Model 3 - Decision Tree</a></span></li><li><span><a href=\"#Averaging-the-Models\" data-toc-modified-id=\"Averaging-the-Models-3.4.4\"><span class=\"toc-item-num\">3.4.4&nbsp;&nbsp;</span>Averaging the Models</a></span><ul class=\"toc-item\"><li><span><a href=\"#Building-a-VotingClassifier\" data-toc-modified-id=\"Building-a-VotingClassifier-3.4.4.1\"><span class=\"toc-item-num\">3.4.4.1&nbsp;&nbsp;</span>Building a <code>VotingClassifier</code></a></span></li><li><span><a href=\"#Weighted-Averaging-with-the-VotingClassifier\" data-toc-modified-id=\"Weighted-Averaging-with-the-VotingClassifier-3.4.4.2\"><span class=\"toc-item-num\">3.4.4.2&nbsp;&nbsp;</span>Weighted Averaging with the <code>VotingClassifier</code></a></span></li></ul></li></ul></li><li><span><a href=\"#Bagging\" data-toc-modified-id=\"Bagging-3.5\"><span class=\"toc-item-num\">3.5&nbsp;&nbsp;</span>Bagging</a></span><ul class=\"toc-item\"><li><span><a href=\"#Bagging-Algorithm\" data-toc-modified-id=\"Bagging-Algorithm-3.5.1\"><span class=\"toc-item-num\">3.5.1&nbsp;&nbsp;</span>Bagging Algorithm</a></span></li><li><span><a href=\"#Bagging-by-Hand\" data-toc-modified-id=\"Bagging-by-Hand-3.5.2\"><span class=\"toc-item-num\">3.5.2&nbsp;&nbsp;</span>Bagging by Hand</a></span></li><li><span><a href=\"#Bagging-with-sklearn\" data-toc-modified-id=\"Bagging-with-sklearn-3.5.3\"><span class=\"toc-item-num\">3.5.3&nbsp;&nbsp;</span>Bagging with <code>sklearn</code></a></span></li><li><span><a href=\"#Fitting-a-Random-Forest\" data-toc-modified-id=\"Fitting-a-Random-Forest-3.5.4\"><span class=\"toc-item-num\">3.5.4&nbsp;&nbsp;</span>Fitting a Random Forest</a></span><ul class=\"toc-item\"><li><span><a href=\"#The-Goods-&amp;-The-Bads\" data-toc-modified-id=\"The-Goods-&amp;-The-Bads-3.5.4.1\"><span class=\"toc-item-num\">3.5.4.1&nbsp;&nbsp;</span>The Goods &amp; The Bads</a></span></li><li><span><a href=\"#Breed-a-Variety-of-Trees\" data-toc-modified-id=\"Breed-a-Variety-of-Trees-3.5.4.2\"><span class=\"toc-item-num\">3.5.4.2&nbsp;&nbsp;</span>Breed a Variety of Trees</a></span></li><li><span><a href=\"#Steps:\" data-toc-modified-id=\"Steps:-3.5.4.3\"><span class=\"toc-item-num\">3.5.4.3&nbsp;&nbsp;</span>Steps:</a></span></li></ul></li><li><span><a href=\"#Random-Forest-by-Hand\" data-toc-modified-id=\"Random-Forest-by-Hand-3.5.5\"><span class=\"toc-item-num\">3.5.5&nbsp;&nbsp;</span>Random Forest by Hand</a></span></li><li><span><a href=\"#Random-Forest-with-sklearn\" data-toc-modified-id=\"Random-Forest-with-sklearn-3.5.6\"><span class=\"toc-item-num\">3.5.6&nbsp;&nbsp;</span>Random Forest with <code>sklearn</code></a></span></li><li><span><a href=\"#Cool-Features-of-Random-Forests\" data-toc-modified-id=\"Cool-Features-of-Random-Forests-3.5.7\"><span class=\"toc-item-num\">3.5.7&nbsp;&nbsp;</span>Cool Features of Random Forests</a></span><ul class=\"toc-item\"><li><span><a href=\"#Investigate-Your-Forest-🌲🌲👀🌲🌲\" data-toc-modified-id=\"Investigate-Your-Forest-🌲🌲👀🌲🌲-3.5.7.1\"><span class=\"toc-item-num\">3.5.7.1&nbsp;&nbsp;</span>Investigate Your Forest 🌲🌲👀🌲🌲</a></span></li><li><span><a href=\"#Feature-Importance\" data-toc-modified-id=\"Feature-Importance-3.5.7.2\"><span class=\"toc-item-num\">3.5.7.2&nbsp;&nbsp;</span>Feature Importance</a></span></li></ul></li><li><span><a href=\"#Extremely-Randomized-Trees-(Extra-Trees)\" data-toc-modified-id=\"Extremely-Randomized-Trees-(Extra-Trees)-3.5.8\"><span class=\"toc-item-num\">3.5.8&nbsp;&nbsp;</span>Extremely Randomized Trees (Extra Trees)</a></span></li></ul></li></ul></li><li><span><a href=\"#Level-Up:-Stacking\" data-toc-modified-id=\"Level-Up:-Stacking-4\"><span class=\"toc-item-num\">4&nbsp;&nbsp;</span>Level Up: Stacking</a></span><ul class=\"toc-item\"><li><ul class=\"toc-item\"><li><ul class=\"toc-item\"><li><span><a href=\"#Meta-Classifier/Meta-Regressor\" data-toc-modified-id=\"Meta-Classifier/Meta-Regressor-4.0.0.1\"><span class=\"toc-item-num\">4.0.0.1&nbsp;&nbsp;</span>Meta-Classifier/Meta-Regressor</a></span></li></ul></li></ul></li><li><span><a href=\"#Initial-Data-Prep\" data-toc-modified-id=\"Initial-Data-Prep-4.1\"><span class=\"toc-item-num\">4.1&nbsp;&nbsp;</span>Initial Data Prep</a></span></li><li><span><a href=\"#Splitting\" data-toc-modified-id=\"Splitting-4.2\"><span class=\"toc-item-num\">4.2&nbsp;&nbsp;</span>Splitting</a></span></li><li><span><a href=\"#Setting-Up-a-Pipeline\" data-toc-modified-id=\"Setting-Up-a-Pipeline-4.3\"><span class=\"toc-item-num\">4.3&nbsp;&nbsp;</span>Setting Up a Pipeline</a></span></li><li><span><a href=\"#Setting-Up-a-Stack\" data-toc-modified-id=\"Setting-Up-a-Stack-4.4\"><span class=\"toc-item-num\">4.4&nbsp;&nbsp;</span>Setting Up a Stack</a></span></li><li><span><a href=\"#Comparison-with-Base-Estimators\" data-toc-modified-id=\"Comparison-with-Base-Estimators-4.5\"><span class=\"toc-item-num\">4.5&nbsp;&nbsp;</span>Comparison with Base Estimators</a></span></li></ul></li></ul></div>"
   ]
  },
  {
   "cell_type": "markdown",
   "metadata": {
    "heading_collapsed": true
   },
   "source": [
    "# Ensembles: Bagging"
   ]
  },
  {
   "cell_type": "code",
   "execution_count": 2,
   "metadata": {
    "ExecuteTime": {
     "end_time": "2023-06-05T02:44:53.287141Z",
     "start_time": "2023-06-05T02:44:51.724142Z"
    },
    "hidden": true
   },
   "outputs": [],
   "source": [
    "import numpy as np\n",
    "import pandas as pd\n",
    "import xlrd\n",
    "import os\n",
    "import seaborn as sns\n",
    "\n",
    "from sklearn.model_selection import train_test_split, GridSearchCV, cross_val_score\n",
    "\n",
    "from sklearn.linear_model import LogisticRegression, LinearRegression\n",
    "\n",
    "from sklearn.neighbors import KNeighborsClassifier, KNeighborsRegressor\n",
    "\n",
    "from sklearn.tree import DecisionTreeClassifier, DecisionTreeRegressor\n",
    "\n",
    "from sklearn.ensemble import BaggingClassifier, RandomForestClassifier, \\\n",
    "ExtraTreesClassifier, VotingClassifier, StackingRegressor\n",
    "\n",
    "from sklearn.metrics import r2_score, accuracy_score\n",
    "\n",
    "from sklearn.preprocessing import OneHotEncoder, StandardScaler\n",
    "\n",
    "from sklearn.impute import SimpleImputer\n",
    "\n",
    "from sklearn.pipeline import Pipeline\n",
    "\n",
    "from sklearn.compose import ColumnTransformer"
   ]
  },
  {
   "cell_type": "markdown",
   "metadata": {
    "heading_collapsed": true
   },
   "source": [
    "# Objectives"
   ]
  },
  {
   "cell_type": "markdown",
   "metadata": {
    "hidden": true
   },
   "source": [
    "- Use `sklearn` to build voting models\n",
    "- Describe the algorithm of bagging\n",
    "- Describe the differences among simple bagging, random forest, and extra trees algorithms\n",
    "- Implement bagging models in `sklearn`"
   ]
  },
  {
   "cell_type": "markdown",
   "metadata": {
    "heading_collapsed": true
   },
   "source": [
    "# Ensemble Methods"
   ]
  },
  {
   "cell_type": "markdown",
   "metadata": {
    "hidden": true
   },
   "source": [
    "Because many heads are better than one!"
   ]
  },
  {
   "cell_type": "markdown",
   "metadata": {
    "hidden": true
   },
   "source": [
    "<img width=50% src='images/captain_planet.jpg'/>\n",
    "\n",
    "> \"With our powers combined...\""
   ]
  },
  {
   "cell_type": "markdown",
   "metadata": {
    "hidden": true
   },
   "source": [
    "These models tend to perform very well and generalize well!"
   ]
  },
  {
   "cell_type": "markdown",
   "metadata": {
    "heading_collapsed": true,
    "hidden": true
   },
   "source": [
    "## Advantages &  Disadvantages"
   ]
  },
  {
   "cell_type": "markdown",
   "metadata": {
    "hidden": true
   },
   "source": [
    "- Decreases variance → Less overfitting!\n",
    "- More complexity (you have to train each model or part of model)\n",
    "- Tends to take up more space (have to keep each model)"
   ]
  },
  {
   "cell_type": "markdown",
   "metadata": {
    "heading_collapsed": true,
    "hidden": true
   },
   "source": [
    "## Bagging "
   ]
  },
  {
   "cell_type": "markdown",
   "metadata": {
    "hidden": true
   },
   "source": [
    "![](images/bag_of_marbles.jpg)"
   ]
  },
  {
   "cell_type": "markdown",
   "metadata": {
    "hidden": true
   },
   "source": [
    "- Many models naturally overfit\n",
    "- Randomization → New models\n",
    "- New models overfit in different ways\n",
    "- Aggregation → Smooth over different ways of overfitting to reduce variance"
   ]
  },
  {
   "cell_type": "markdown",
   "metadata": {
    "hidden": true
   },
   "source": [
    "> Low variance since it averages out quirks individual trees might've learned"
   ]
  },
  {
   "cell_type": "markdown",
   "metadata": {
    "heading_collapsed": true,
    "hidden": true
   },
   "source": [
    "#### Aggregation"
   ]
  },
  {
   "cell_type": "markdown",
   "metadata": {
    "hidden": true
   },
   "source": [
    "- **B**ootstrap **AGG**regating\n",
    "- Algorithm to repeat many times:\n",
    "    + Create a sample from your data\n",
    "    + Train a model (e.g. a decision tree) on that sample\n",
    "- Final model comes by averaging over those many models"
   ]
  },
  {
   "cell_type": "markdown",
   "metadata": {
    "heading_collapsed": true,
    "hidden": true
   },
   "source": [
    "#### Three Varieties, Three Levels of Randomization"
   ]
  },
  {
   "cell_type": "markdown",
   "metadata": {
    "hidden": true
   },
   "source": [
    "1. **Simple Bag**: Train each model on random sample\n",
    "2. **Random Forest**: Choose a random set of features at each decision point\n",
    "3. **Extra Trees**: Choose a path at random!"
   ]
  },
  {
   "cell_type": "markdown",
   "metadata": {
    "heading_collapsed": true,
    "hidden": true
   },
   "source": [
    "## Data Preparation for Examples"
   ]
  },
  {
   "cell_type": "markdown",
   "metadata": {
    "hidden": true
   },
   "source": [
    "> Let's prepare some data to do some examples"
   ]
  },
  {
   "cell_type": "code",
   "execution_count": 158,
   "metadata": {
    "ExecuteTime": {
     "end_time": "2023-06-05T02:46:04.230447Z",
     "start_time": "2023-06-05T02:46:04.195445Z"
    },
    "hidden": true
   },
   "outputs": [
    {
     "data": {
      "text/html": [
       "<div>\n",
       "<style scoped>\n",
       "    .dataframe tbody tr th:only-of-type {\n",
       "        vertical-align: middle;\n",
       "    }\n",
       "\n",
       "    .dataframe tbody tr th {\n",
       "        vertical-align: top;\n",
       "    }\n",
       "\n",
       "    .dataframe thead th {\n",
       "        text-align: right;\n",
       "    }\n",
       "</style>\n",
       "<table border=\"1\" class=\"dataframe\">\n",
       "  <thead>\n",
       "    <tr style=\"text-align: right;\">\n",
       "      <th></th>\n",
       "      <th>mpg</th>\n",
       "      <th>cylinders</th>\n",
       "      <th>cubicinches</th>\n",
       "      <th>hp</th>\n",
       "      <th>weightlbs</th>\n",
       "      <th>time-to-60</th>\n",
       "      <th>year</th>\n",
       "      <th>brand</th>\n",
       "    </tr>\n",
       "  </thead>\n",
       "  <tbody>\n",
       "    <tr>\n",
       "      <th>0</th>\n",
       "      <td>14.0</td>\n",
       "      <td>8</td>\n",
       "      <td>350</td>\n",
       "      <td>165</td>\n",
       "      <td>4209</td>\n",
       "      <td>12</td>\n",
       "      <td>1972</td>\n",
       "      <td>US.</td>\n",
       "    </tr>\n",
       "    <tr>\n",
       "      <th>1</th>\n",
       "      <td>31.9</td>\n",
       "      <td>4</td>\n",
       "      <td>89</td>\n",
       "      <td>71</td>\n",
       "      <td>1925</td>\n",
       "      <td>14</td>\n",
       "      <td>1980</td>\n",
       "      <td>Europe.</td>\n",
       "    </tr>\n",
       "    <tr>\n",
       "      <th>2</th>\n",
       "      <td>17.0</td>\n",
       "      <td>8</td>\n",
       "      <td>302</td>\n",
       "      <td>140</td>\n",
       "      <td>3449</td>\n",
       "      <td>11</td>\n",
       "      <td>1971</td>\n",
       "      <td>US.</td>\n",
       "    </tr>\n",
       "    <tr>\n",
       "      <th>3</th>\n",
       "      <td>15.0</td>\n",
       "      <td>8</td>\n",
       "      <td>400</td>\n",
       "      <td>150</td>\n",
       "      <td>3761</td>\n",
       "      <td>10</td>\n",
       "      <td>1971</td>\n",
       "      <td>US.</td>\n",
       "    </tr>\n",
       "    <tr>\n",
       "      <th>4</th>\n",
       "      <td>30.5</td>\n",
       "      <td>4</td>\n",
       "      <td>98</td>\n",
       "      <td>63</td>\n",
       "      <td>2051</td>\n",
       "      <td>17</td>\n",
       "      <td>1978</td>\n",
       "      <td>US.</td>\n",
       "    </tr>\n",
       "  </tbody>\n",
       "</table>\n",
       "</div>"
      ],
      "text/plain": [
       "    mpg   cylinders  cubicinches   hp  weightlbs   time-to-60   year     brand\n",
       "0  14.0           8          350  165       4209           12   1972       US.\n",
       "1  31.9           4           89   71       1925           14   1980   Europe.\n",
       "2  17.0           8          302  140       3449           11   1971       US.\n",
       "3  15.0           8          400  150       3761           10   1971       US.\n",
       "4  30.5           4           98   63       2051           17   1978       US."
      ]
     },
     "execution_count": 158,
     "metadata": {},
     "output_type": "execute_result"
    }
   ],
   "source": [
    "df = pd.read_csv('data/cars.csv')\n",
    "df.head()"
   ]
  },
  {
   "cell_type": "code",
   "execution_count": 159,
   "metadata": {
    "ExecuteTime": {
     "end_time": "2023-06-05T02:46:05.008772Z",
     "start_time": "2023-06-05T02:46:04.994742Z"
    },
    "hidden": true
   },
   "outputs": [
    {
     "name": "stdout",
     "output_type": "stream",
     "text": [
      "<class 'pandas.core.frame.DataFrame'>\n",
      "RangeIndex: 261 entries, 0 to 260\n",
      "Data columns (total 8 columns):\n",
      " #   Column        Non-Null Count  Dtype  \n",
      "---  ------        --------------  -----  \n",
      " 0   mpg           261 non-null    float64\n",
      " 1    cylinders    261 non-null    int64  \n",
      " 2    cubicinches  261 non-null    object \n",
      " 3    hp           261 non-null    int64  \n",
      " 4    weightlbs    261 non-null    object \n",
      " 5    time-to-60   261 non-null    int64  \n",
      " 6    year         261 non-null    int64  \n",
      " 7    brand        261 non-null    object \n",
      "dtypes: float64(1), int64(4), object(3)\n",
      "memory usage: 16.4+ KB\n"
     ]
    }
   ],
   "source": [
    "df.info()"
   ]
  },
  {
   "cell_type": "code",
   "execution_count": 160,
   "metadata": {
    "ExecuteTime": {
     "end_time": "2023-06-05T02:46:05.679156Z",
     "start_time": "2023-06-05T02:46:05.671156Z"
    },
    "hidden": true
   },
   "outputs": [
    {
     "data": {
      "text/plain": [
       "0"
      ]
     },
     "execution_count": 160,
     "metadata": {},
     "output_type": "execute_result"
    }
   ],
   "source": [
    "df.isna().sum().sum()"
   ]
  },
  {
   "cell_type": "code",
   "execution_count": 161,
   "metadata": {
    "ExecuteTime": {
     "end_time": "2023-06-05T02:46:06.238966Z",
     "start_time": "2023-06-05T02:46:06.229964Z"
    },
    "hidden": true
   },
   "outputs": [],
   "source": [
    "df.columns = [x.replace(' ','').lower() for x in df.columns]"
   ]
  },
  {
   "cell_type": "code",
   "execution_count": 162,
   "metadata": {
    "ExecuteTime": {
     "end_time": "2023-06-05T02:46:06.911391Z",
     "start_time": "2023-06-05T02:46:06.904393Z"
    },
    "hidden": true
   },
   "outputs": [
    {
     "name": "stdout",
     "output_type": "stream",
     "text": [
      "<class 'pandas.core.frame.DataFrame'>\n",
      "RangeIndex: 261 entries, 0 to 260\n",
      "Data columns (total 8 columns):\n",
      " #   Column       Non-Null Count  Dtype  \n",
      "---  ------       --------------  -----  \n",
      " 0   mpg          261 non-null    float64\n",
      " 1   cylinders    261 non-null    int64  \n",
      " 2   cubicinches  261 non-null    object \n",
      " 3   hp           261 non-null    int64  \n",
      " 4   weightlbs    261 non-null    object \n",
      " 5   time-to-60   261 non-null    int64  \n",
      " 6   year         261 non-null    int64  \n",
      " 7   brand        261 non-null    object \n",
      "dtypes: float64(1), int64(4), object(3)\n",
      "memory usage: 16.4+ KB\n"
     ]
    }
   ],
   "source": [
    "df.info()"
   ]
  },
  {
   "cell_type": "markdown",
   "metadata": {
    "heading_collapsed": true,
    "hidden": true
   },
   "source": [
    "### Defining Our Problem"
   ]
  },
  {
   "cell_type": "markdown",
   "metadata": {
    "hidden": true
   },
   "source": [
    "Let's see if we can predict whether a car is American or not."
   ]
  },
  {
   "cell_type": "code",
   "execution_count": 163,
   "metadata": {
    "ExecuteTime": {
     "end_time": "2023-06-05T02:46:09.724290Z",
     "start_time": "2023-06-05T02:46:09.710260Z"
    },
    "hidden": true
   },
   "outputs": [
    {
     "data": {
      "text/plain": [
       " US.        162\n",
       " Japan.      51\n",
       " Europe.     48\n",
       "Name: brand, dtype: int64"
      ]
     },
     "execution_count": 163,
     "metadata": {},
     "output_type": "execute_result"
    }
   ],
   "source": [
    "df['brand'].value_counts()"
   ]
  },
  {
   "cell_type": "code",
   "execution_count": 164,
   "metadata": {
    "ExecuteTime": {
     "end_time": "2023-06-05T02:46:10.383551Z",
     "start_time": "2023-06-05T02:46:10.376551Z"
    },
    "hidden": true
   },
   "outputs": [],
   "source": [
    "df['brand'] = df.brand.map(lambda x: x.strip().replace('.','').lower())"
   ]
  },
  {
   "cell_type": "code",
   "execution_count": 165,
   "metadata": {
    "ExecuteTime": {
     "end_time": "2023-06-05T02:46:11.082499Z",
     "start_time": "2023-06-05T02:46:11.063500Z"
    },
    "hidden": true
   },
   "outputs": [],
   "source": [
    "df['target'] = df['brand'] == 'us'"
   ]
  },
  {
   "cell_type": "code",
   "execution_count": 166,
   "metadata": {
    "ExecuteTime": {
     "end_time": "2023-06-05T02:46:11.625930Z",
     "start_time": "2023-06-05T02:46:11.615930Z"
    },
    "hidden": true
   },
   "outputs": [
    {
     "data": {
      "text/html": [
       "<div>\n",
       "<style scoped>\n",
       "    .dataframe tbody tr th:only-of-type {\n",
       "        vertical-align: middle;\n",
       "    }\n",
       "\n",
       "    .dataframe tbody tr th {\n",
       "        vertical-align: top;\n",
       "    }\n",
       "\n",
       "    .dataframe thead th {\n",
       "        text-align: right;\n",
       "    }\n",
       "</style>\n",
       "<table border=\"1\" class=\"dataframe\">\n",
       "  <thead>\n",
       "    <tr style=\"text-align: right;\">\n",
       "      <th></th>\n",
       "      <th>mpg</th>\n",
       "      <th>cylinders</th>\n",
       "      <th>cubicinches</th>\n",
       "      <th>hp</th>\n",
       "      <th>weightlbs</th>\n",
       "      <th>time-to-60</th>\n",
       "      <th>year</th>\n",
       "      <th>brand</th>\n",
       "      <th>target</th>\n",
       "    </tr>\n",
       "  </thead>\n",
       "  <tbody>\n",
       "    <tr>\n",
       "      <th>0</th>\n",
       "      <td>14.0</td>\n",
       "      <td>8</td>\n",
       "      <td>350</td>\n",
       "      <td>165</td>\n",
       "      <td>4209</td>\n",
       "      <td>12</td>\n",
       "      <td>1972</td>\n",
       "      <td>us</td>\n",
       "      <td>True</td>\n",
       "    </tr>\n",
       "    <tr>\n",
       "      <th>1</th>\n",
       "      <td>31.9</td>\n",
       "      <td>4</td>\n",
       "      <td>89</td>\n",
       "      <td>71</td>\n",
       "      <td>1925</td>\n",
       "      <td>14</td>\n",
       "      <td>1980</td>\n",
       "      <td>europe</td>\n",
       "      <td>False</td>\n",
       "    </tr>\n",
       "    <tr>\n",
       "      <th>2</th>\n",
       "      <td>17.0</td>\n",
       "      <td>8</td>\n",
       "      <td>302</td>\n",
       "      <td>140</td>\n",
       "      <td>3449</td>\n",
       "      <td>11</td>\n",
       "      <td>1971</td>\n",
       "      <td>us</td>\n",
       "      <td>True</td>\n",
       "    </tr>\n",
       "    <tr>\n",
       "      <th>3</th>\n",
       "      <td>15.0</td>\n",
       "      <td>8</td>\n",
       "      <td>400</td>\n",
       "      <td>150</td>\n",
       "      <td>3761</td>\n",
       "      <td>10</td>\n",
       "      <td>1971</td>\n",
       "      <td>us</td>\n",
       "      <td>True</td>\n",
       "    </tr>\n",
       "    <tr>\n",
       "      <th>4</th>\n",
       "      <td>30.5</td>\n",
       "      <td>4</td>\n",
       "      <td>98</td>\n",
       "      <td>63</td>\n",
       "      <td>2051</td>\n",
       "      <td>17</td>\n",
       "      <td>1978</td>\n",
       "      <td>us</td>\n",
       "      <td>True</td>\n",
       "    </tr>\n",
       "  </tbody>\n",
       "</table>\n",
       "</div>"
      ],
      "text/plain": [
       "    mpg  cylinders cubicinches   hp weightlbs  time-to-60  year   brand  \\\n",
       "0  14.0          8         350  165      4209          12  1972      us   \n",
       "1  31.9          4          89   71      1925          14  1980  europe   \n",
       "2  17.0          8         302  140      3449          11  1971      us   \n",
       "3  15.0          8         400  150      3761          10  1971      us   \n",
       "4  30.5          4          98   63      2051          17  1978      us   \n",
       "\n",
       "   target  \n",
       "0    True  \n",
       "1   False  \n",
       "2    True  \n",
       "3    True  \n",
       "4    True  "
      ]
     },
     "execution_count": 166,
     "metadata": {},
     "output_type": "execute_result"
    }
   ],
   "source": [
    "df.head()"
   ]
  },
  {
   "cell_type": "markdown",
   "metadata": {
    "heading_collapsed": true,
    "hidden": true
   },
   "source": [
    "### Fix Columns with Missing Values"
   ]
  },
  {
   "cell_type": "code",
   "execution_count": 167,
   "metadata": {
    "ExecuteTime": {
     "end_time": "2023-06-05T02:46:12.872286Z",
     "start_time": "2023-06-05T02:46:12.860285Z"
    },
    "hidden": true
   },
   "outputs": [
    {
     "data": {
      "text/html": [
       "<div>\n",
       "<style scoped>\n",
       "    .dataframe tbody tr th:only-of-type {\n",
       "        vertical-align: middle;\n",
       "    }\n",
       "\n",
       "    .dataframe tbody tr th {\n",
       "        vertical-align: top;\n",
       "    }\n",
       "\n",
       "    .dataframe thead th {\n",
       "        text-align: right;\n",
       "    }\n",
       "</style>\n",
       "<table border=\"1\" class=\"dataframe\">\n",
       "  <thead>\n",
       "    <tr style=\"text-align: right;\">\n",
       "      <th></th>\n",
       "      <th>mpg</th>\n",
       "      <th>cylinders</th>\n",
       "      <th>cubicinches</th>\n",
       "      <th>hp</th>\n",
       "      <th>weightlbs</th>\n",
       "      <th>time-to-60</th>\n",
       "      <th>year</th>\n",
       "      <th>brand</th>\n",
       "      <th>target</th>\n",
       "    </tr>\n",
       "  </thead>\n",
       "  <tbody>\n",
       "    <tr>\n",
       "      <th>40</th>\n",
       "      <td>16.0</td>\n",
       "      <td>6</td>\n",
       "      <td></td>\n",
       "      <td>105</td>\n",
       "      <td>3897</td>\n",
       "      <td>19</td>\n",
       "      <td>1976</td>\n",
       "      <td>us</td>\n",
       "      <td>True</td>\n",
       "    </tr>\n",
       "    <tr>\n",
       "      <th>180</th>\n",
       "      <td>19.8</td>\n",
       "      <td>6</td>\n",
       "      <td></td>\n",
       "      <td>85</td>\n",
       "      <td>2990</td>\n",
       "      <td>18</td>\n",
       "      <td>1980</td>\n",
       "      <td>us</td>\n",
       "      <td>True</td>\n",
       "    </tr>\n",
       "  </tbody>\n",
       "</table>\n",
       "</div>"
      ],
      "text/plain": [
       "      mpg  cylinders cubicinches   hp weightlbs  time-to-60  year brand  \\\n",
       "40   16.0          6              105      3897          19  1976    us   \n",
       "180  19.8          6               85      2990          18  1980    us   \n",
       "\n",
       "     target  \n",
       "40     True  \n",
       "180    True  "
      ]
     },
     "execution_count": 167,
     "metadata": {},
     "output_type": "execute_result"
    }
   ],
   "source": [
    "# Convert cubicinches and weightlbs to numbers\n",
    "df[df['cubicinches'] == ' ']"
   ]
  },
  {
   "cell_type": "code",
   "execution_count": 168,
   "metadata": {
    "ExecuteTime": {
     "end_time": "2023-06-05T02:46:13.397704Z",
     "start_time": "2023-06-05T02:46:13.383677Z"
    },
    "hidden": true
   },
   "outputs": [],
   "source": [
    "df['cubicinches'] = df['cubicinches'].map(lambda x: np.nan if x == ' ' else int(x))"
   ]
  },
  {
   "cell_type": "code",
   "execution_count": 169,
   "metadata": {
    "ExecuteTime": {
     "end_time": "2023-06-05T02:46:13.962204Z",
     "start_time": "2023-06-05T02:46:13.943220Z"
    },
    "hidden": true
   },
   "outputs": [
    {
     "data": {
      "text/html": [
       "<div>\n",
       "<style scoped>\n",
       "    .dataframe tbody tr th:only-of-type {\n",
       "        vertical-align: middle;\n",
       "    }\n",
       "\n",
       "    .dataframe tbody tr th {\n",
       "        vertical-align: top;\n",
       "    }\n",
       "\n",
       "    .dataframe thead th {\n",
       "        text-align: right;\n",
       "    }\n",
       "</style>\n",
       "<table border=\"1\" class=\"dataframe\">\n",
       "  <thead>\n",
       "    <tr style=\"text-align: right;\">\n",
       "      <th></th>\n",
       "      <th>mpg</th>\n",
       "      <th>cylinders</th>\n",
       "      <th>cubicinches</th>\n",
       "      <th>hp</th>\n",
       "      <th>weightlbs</th>\n",
       "      <th>time-to-60</th>\n",
       "      <th>year</th>\n",
       "      <th>brand</th>\n",
       "      <th>target</th>\n",
       "    </tr>\n",
       "  </thead>\n",
       "  <tbody>\n",
       "    <tr>\n",
       "      <th>14</th>\n",
       "      <td>19.1</td>\n",
       "      <td>6</td>\n",
       "      <td>225.0</td>\n",
       "      <td>90</td>\n",
       "      <td></td>\n",
       "      <td>19</td>\n",
       "      <td>1981</td>\n",
       "      <td>us</td>\n",
       "      <td>True</td>\n",
       "    </tr>\n",
       "    <tr>\n",
       "      <th>33</th>\n",
       "      <td>21.0</td>\n",
       "      <td>6</td>\n",
       "      <td>199.0</td>\n",
       "      <td>90</td>\n",
       "      <td></td>\n",
       "      <td>15</td>\n",
       "      <td>1971</td>\n",
       "      <td>us</td>\n",
       "      <td>True</td>\n",
       "    </tr>\n",
       "    <tr>\n",
       "      <th>172</th>\n",
       "      <td>29.0</td>\n",
       "      <td>4</td>\n",
       "      <td>68.0</td>\n",
       "      <td>49</td>\n",
       "      <td></td>\n",
       "      <td>20</td>\n",
       "      <td>1974</td>\n",
       "      <td>europe</td>\n",
       "      <td>False</td>\n",
       "    </tr>\n",
       "  </tbody>\n",
       "</table>\n",
       "</div>"
      ],
      "text/plain": [
       "      mpg  cylinders  cubicinches  hp weightlbs  time-to-60  year   brand  \\\n",
       "14   19.1          6        225.0  90                    19  1981      us   \n",
       "33   21.0          6        199.0  90                    15  1971      us   \n",
       "172  29.0          4         68.0  49                    20  1974  europe   \n",
       "\n",
       "     target  \n",
       "14     True  \n",
       "33     True  \n",
       "172   False  "
      ]
     },
     "execution_count": 169,
     "metadata": {},
     "output_type": "execute_result"
    }
   ],
   "source": [
    "df[df['weightlbs'] == ' ']"
   ]
  },
  {
   "cell_type": "code",
   "execution_count": 170,
   "metadata": {
    "ExecuteTime": {
     "end_time": "2023-06-05T02:46:14.461684Z",
     "start_time": "2023-06-05T02:46:14.457683Z"
    },
    "hidden": true
   },
   "outputs": [],
   "source": [
    "df['weightlbs'] = df['weightlbs'].map(lambda x: np.nan if x == ' ' else int(x))"
   ]
  },
  {
   "cell_type": "code",
   "execution_count": 171,
   "metadata": {
    "ExecuteTime": {
     "end_time": "2023-06-05T02:46:14.974096Z",
     "start_time": "2023-06-05T02:46:14.956099Z"
    },
    "hidden": true
   },
   "outputs": [],
   "source": [
    "X_train, X_test, y_train, y_test = train_test_split(\n",
    "    df.drop(['target', 'brand'], axis=1), df['target'], random_state=42)"
   ]
  },
  {
   "cell_type": "code",
   "execution_count": 172,
   "metadata": {
    "ExecuteTime": {
     "end_time": "2023-06-05T02:46:15.456503Z",
     "start_time": "2023-06-05T02:46:15.439479Z"
    },
    "hidden": true
   },
   "outputs": [],
   "source": [
    "si = SimpleImputer()\n",
    "\n",
    "si.fit(X_train)\n",
    "\n",
    "X_tr_im = si.transform(X_train)\n",
    "X_te_im = si.transform(X_test)"
   ]
  },
  {
   "cell_type": "code",
   "execution_count": 173,
   "metadata": {
    "ExecuteTime": {
     "end_time": "2023-06-05T02:46:16.111617Z",
     "start_time": "2023-06-05T02:46:16.093593Z"
    },
    "hidden": true
   },
   "outputs": [],
   "source": [
    "def print_scores(estimator, X_train, X_test, y_train, y_test):\n",
    "    cv_scores = cross_val_score(estimator, X_train,y_train)\n",
    "    print(f'Cross Val: {cv_scores}')\n",
    "    print(f'Median: {np.median(cv_scores)}')\n",
    "    print(f'Test: {estimator.score(X_test, y_test)}')"
   ]
  },
  {
   "cell_type": "markdown",
   "metadata": {
    "heading_collapsed": true,
    "hidden": true
   },
   "source": [
    "## Averaging"
   ]
  },
  {
   "cell_type": "markdown",
   "metadata": {
    "hidden": true
   },
   "source": [
    "> Each model uses the same data to train and then we \"vote\" to make a prediction"
   ]
  },
  {
   "cell_type": "markdown",
   "metadata": {
    "heading_collapsed": true,
    "hidden": true
   },
   "source": [
    "### Model 1 - Logistic Regression"
   ]
  },
  {
   "cell_type": "code",
   "execution_count": 174,
   "metadata": {
    "ExecuteTime": {
     "end_time": "2023-06-05T02:46:19.200951Z",
     "start_time": "2023-06-05T02:46:19.187951Z"
    },
    "hidden": true
   },
   "outputs": [
    {
     "name": "stderr",
     "output_type": "stream",
     "text": [
      "C:\\Users\\yasit\\anaconda3\\envs\\learn-env\\lib\\site-packages\\sklearn\\linear_model\\_logistic.py:762: ConvergenceWarning: lbfgs failed to converge (status=1):\n",
      "STOP: TOTAL NO. of ITERATIONS REACHED LIMIT.\n",
      "\n",
      "Increase the number of iterations (max_iter) or scale the data as shown in:\n",
      "    https://scikit-learn.org/stable/modules/preprocessing.html\n",
      "Please also refer to the documentation for alternative solver options:\n",
      "    https://scikit-learn.org/stable/modules/linear_model.html#logistic-regression\n",
      "  n_iter_i = _check_optimize_result(\n"
     ]
    }
   ],
   "source": [
    "# lr\n",
    "lr = LogisticRegression(random_state=42).fit(X_tr_im,y_train)"
   ]
  },
  {
   "cell_type": "markdown",
   "metadata": {
    "heading_collapsed": true,
    "hidden": true
   },
   "source": [
    "### Model 2 - KNN"
   ]
  },
  {
   "cell_type": "code",
   "execution_count": 175,
   "metadata": {
    "ExecuteTime": {
     "end_time": "2023-06-05T02:46:20.562832Z",
     "start_time": "2023-06-05T02:46:20.551808Z"
    },
    "hidden": true
   },
   "outputs": [],
   "source": [
    "# knn\n",
    "knn = KNeighborsClassifier(3).fit(X_tr_im,y_train)"
   ]
  },
  {
   "cell_type": "markdown",
   "metadata": {
    "heading_collapsed": true,
    "hidden": true
   },
   "source": [
    "### Model 3 - Decision Tree"
   ]
  },
  {
   "cell_type": "code",
   "execution_count": 176,
   "metadata": {
    "ExecuteTime": {
     "end_time": "2023-06-05T02:46:21.578695Z",
     "start_time": "2023-06-05T02:46:21.568000Z"
    },
    "hidden": true
   },
   "outputs": [],
   "source": [
    "# dt\n",
    "dt = DecisionTreeClassifier(random_state=42).fit(X_tr_im,y_train)"
   ]
  },
  {
   "cell_type": "markdown",
   "metadata": {
    "heading_collapsed": true,
    "hidden": true
   },
   "source": [
    "### Averaging the Models"
   ]
  },
  {
   "cell_type": "markdown",
   "metadata": {
    "heading_collapsed": true,
    "hidden": true
   },
   "source": [
    "#### Building a `VotingClassifier`"
   ]
  },
  {
   "cell_type": "markdown",
   "metadata": {
    "hidden": true
   },
   "source": [
    "> Of course there's a Scikit-Learn class for that!"
   ]
  },
  {
   "cell_type": "code",
   "execution_count": 177,
   "metadata": {
    "ExecuteTime": {
     "end_time": "2023-06-05T02:46:23.724942Z",
     "start_time": "2023-06-05T02:46:23.707973Z"
    },
    "hidden": true
   },
   "outputs": [],
   "source": [
    "# voting!\n",
    "avg = VotingClassifier(estimators=[\n",
    "    ('lr',lr),\n",
    "    ('knn',knn),\n",
    "    ('dt',dt)\n",
    "],verbose=True)"
   ]
  },
  {
   "cell_type": "code",
   "execution_count": 178,
   "metadata": {},
   "outputs": [
    {
     "name": "stdout",
     "output_type": "stream",
     "text": [
      "[Voting] ....................... (1 of 3) Processing lr, total=   0.0s\n",
      "[Voting] ...................... (2 of 3) Processing knn, total=   0.0s\n",
      "[Voting] ....................... (3 of 3) Processing dt, total=   0.0s\n"
     ]
    },
    {
     "name": "stderr",
     "output_type": "stream",
     "text": [
      "C:\\Users\\yasit\\anaconda3\\envs\\learn-env\\lib\\site-packages\\sklearn\\linear_model\\_logistic.py:762: ConvergenceWarning: lbfgs failed to converge (status=1):\n",
      "STOP: TOTAL NO. of ITERATIONS REACHED LIMIT.\n",
      "\n",
      "Increase the number of iterations (max_iter) or scale the data as shown in:\n",
      "    https://scikit-learn.org/stable/modules/preprocessing.html\n",
      "Please also refer to the documentation for alternative solver options:\n",
      "    https://scikit-learn.org/stable/modules/linear_model.html#logistic-regression\n",
      "  n_iter_i = _check_optimize_result(\n"
     ]
    },
    {
     "data": {
      "text/plain": [
       "VotingClassifier(estimators=[('lr', LogisticRegression(random_state=42)),\n",
       "                             ('knn', KNeighborsClassifier(n_neighbors=3)),\n",
       "                             ('dt', DecisionTreeClassifier(random_state=42))],\n",
       "                 verbose=True)"
      ]
     },
     "execution_count": 178,
     "metadata": {},
     "output_type": "execute_result"
    }
   ],
   "source": [
    "avg.fit(X_tr_im,y_train)"
   ]
  },
  {
   "cell_type": "markdown",
   "metadata": {
    "heading_collapsed": true,
    "hidden": true
   },
   "source": [
    "#### Weighted Averaging with the `VotingClassifier`"
   ]
  },
  {
   "cell_type": "markdown",
   "metadata": {
    "hidden": true
   },
   "source": [
    "> Even if the vote is 50-50, you'd probably side with the \"smart\" ones more"
   ]
  },
  {
   "cell_type": "markdown",
   "metadata": {
    "hidden": true
   },
   "source": [
    "This meta-estimator is not as good as one of our base estimators, so in this case the averaging did not work very well. Realizing that the logistic regression is performing better than the decision tree and the k-nearest-neighbors model, however, we might decide to build a meta-estimator by calculating a **weighted average** of the base estimators' predictions. And we can weight, or bias, this estimator in favor of the best-performing base estimator. Suppose we weight the logistic regression 50%, the knn model 25%, and the logistic regression 25%:"
   ]
  },
  {
   "cell_type": "code",
   "execution_count": 179,
   "metadata": {
    "ExecuteTime": {
     "end_time": "2023-06-05T02:46:27.549358Z",
     "start_time": "2023-06-05T02:46:27.536357Z"
    },
    "hidden": true
   },
   "outputs": [
    {
     "name": "stderr",
     "output_type": "stream",
     "text": [
      "C:\\Users\\yasit\\anaconda3\\envs\\learn-env\\lib\\site-packages\\sklearn\\linear_model\\_logistic.py:762: ConvergenceWarning: lbfgs failed to converge (status=1):\n",
      "STOP: TOTAL NO. of ITERATIONS REACHED LIMIT.\n",
      "\n",
      "Increase the number of iterations (max_iter) or scale the data as shown in:\n",
      "    https://scikit-learn.org/stable/modules/preprocessing.html\n",
      "Please also refer to the documentation for alternative solver options:\n",
      "    https://scikit-learn.org/stable/modules/linear_model.html#logistic-regression\n",
      "  n_iter_i = _check_optimize_result(\n"
     ]
    },
    {
     "data": {
      "text/plain": [
       "VotingClassifier(estimators=[('lr', LogisticRegression(random_state=42)),\n",
       "                             ('knn', KNeighborsClassifier(n_neighbors=3)),\n",
       "                             ('dt', DecisionTreeClassifier(random_state=42))],\n",
       "                 weights=[0.5, 0.25, 0.25])"
      ]
     },
     "execution_count": 179,
     "metadata": {},
     "output_type": "execute_result"
    }
   ],
   "source": [
    "w_avg = VotingClassifier(estimators=[\n",
    "    ('lr', lr),\n",
    "    ('knn', knn),\n",
    "    ('dt', dt)],\n",
    "    weights=[0.5, 0.25, 0.25])\n",
    "w_avg.fit(X_tr_im, y_train)"
   ]
  },
  {
   "cell_type": "code",
   "execution_count": 180,
   "metadata": {
    "ExecuteTime": {
     "end_time": "2023-06-05T02:46:28.125850Z",
     "start_time": "2023-06-05T02:46:28.107826Z"
    },
    "hidden": true
   },
   "outputs": [
    {
     "name": "stderr",
     "output_type": "stream",
     "text": [
      "C:\\Users\\yasit\\anaconda3\\envs\\learn-env\\lib\\site-packages\\sklearn\\linear_model\\_logistic.py:762: ConvergenceWarning: lbfgs failed to converge (status=1):\n",
      "STOP: TOTAL NO. of ITERATIONS REACHED LIMIT.\n",
      "\n",
      "Increase the number of iterations (max_iter) or scale the data as shown in:\n",
      "    https://scikit-learn.org/stable/modules/preprocessing.html\n",
      "Please also refer to the documentation for alternative solver options:\n",
      "    https://scikit-learn.org/stable/modules/linear_model.html#logistic-regression\n",
      "  n_iter_i = _check_optimize_result(\n",
      "C:\\Users\\yasit\\anaconda3\\envs\\learn-env\\lib\\site-packages\\sklearn\\linear_model\\_logistic.py:762: ConvergenceWarning: lbfgs failed to converge (status=1):\n",
      "STOP: TOTAL NO. of ITERATIONS REACHED LIMIT.\n",
      "\n",
      "Increase the number of iterations (max_iter) or scale the data as shown in:\n",
      "    https://scikit-learn.org/stable/modules/preprocessing.html\n",
      "Please also refer to the documentation for alternative solver options:\n",
      "    https://scikit-learn.org/stable/modules/linear_model.html#logistic-regression\n",
      "  n_iter_i = _check_optimize_result(\n",
      "C:\\Users\\yasit\\anaconda3\\envs\\learn-env\\lib\\site-packages\\sklearn\\linear_model\\_logistic.py:762: ConvergenceWarning: lbfgs failed to converge (status=1):\n",
      "STOP: TOTAL NO. of ITERATIONS REACHED LIMIT.\n",
      "\n",
      "Increase the number of iterations (max_iter) or scale the data as shown in:\n",
      "    https://scikit-learn.org/stable/modules/preprocessing.html\n",
      "Please also refer to the documentation for alternative solver options:\n",
      "    https://scikit-learn.org/stable/modules/linear_model.html#logistic-regression\n",
      "  n_iter_i = _check_optimize_result(\n",
      "C:\\Users\\yasit\\anaconda3\\envs\\learn-env\\lib\\site-packages\\sklearn\\linear_model\\_logistic.py:762: ConvergenceWarning: lbfgs failed to converge (status=1):\n",
      "STOP: TOTAL NO. of ITERATIONS REACHED LIMIT.\n",
      "\n",
      "Increase the number of iterations (max_iter) or scale the data as shown in:\n",
      "    https://scikit-learn.org/stable/modules/preprocessing.html\n",
      "Please also refer to the documentation for alternative solver options:\n",
      "    https://scikit-learn.org/stable/modules/linear_model.html#logistic-regression\n",
      "  n_iter_i = _check_optimize_result(\n",
      "C:\\Users\\yasit\\anaconda3\\envs\\learn-env\\lib\\site-packages\\sklearn\\linear_model\\_logistic.py:762: ConvergenceWarning: lbfgs failed to converge (status=1):\n",
      "STOP: TOTAL NO. of ITERATIONS REACHED LIMIT.\n",
      "\n",
      "Increase the number of iterations (max_iter) or scale the data as shown in:\n",
      "    https://scikit-learn.org/stable/modules/preprocessing.html\n",
      "Please also refer to the documentation for alternative solver options:\n",
      "    https://scikit-learn.org/stable/modules/linear_model.html#logistic-regression\n",
      "  n_iter_i = _check_optimize_result(\n"
     ]
    },
    {
     "data": {
      "text/plain": [
       "array([0.87179487, 0.8974359 , 0.79487179, 0.92307692, 0.79487179])"
      ]
     },
     "execution_count": 180,
     "metadata": {},
     "output_type": "execute_result"
    }
   ],
   "source": [
    "scores = cross_val_score(estimator=w_avg, X=X_tr_im,\n",
    "                        y=y_train, cv=5)\n",
    "scores"
   ]
  },
  {
   "cell_type": "code",
   "execution_count": 181,
   "metadata": {
    "ExecuteTime": {
     "end_time": "2023-06-05T02:46:28.717521Z",
     "start_time": "2023-06-05T02:46:28.697524Z"
    },
    "hidden": true
   },
   "outputs": [
    {
     "data": {
      "text/plain": [
       "0.8717948717948718"
      ]
     },
     "execution_count": 181,
     "metadata": {},
     "output_type": "execute_result"
    }
   ],
   "source": [
    "np.median(scores)"
   ]
  },
  {
   "cell_type": "code",
   "execution_count": 182,
   "metadata": {
    "hidden": true
   },
   "outputs": [
    {
     "data": {
      "text/plain": [
       "0.9393939393939394"
      ]
     },
     "execution_count": 182,
     "metadata": {},
     "output_type": "execute_result"
    }
   ],
   "source": [
    "w_avg.score(X_te_im, y_test)"
   ]
  },
  {
   "cell_type": "markdown",
   "metadata": {
    "heading_collapsed": true,
    "hidden": true
   },
   "source": [
    "## Bagging"
   ]
  },
  {
   "cell_type": "markdown",
   "metadata": {
    "hidden": true
   },
   "source": [
    "A single decision tree will often overfit your training data. Let's see if we have evidence of that in the current case:"
   ]
  },
  {
   "cell_type": "code",
   "execution_count": 183,
   "metadata": {
    "hidden": true
   },
   "outputs": [
    {
     "name": "stdout",
     "output_type": "stream",
     "text": [
      "Cross Val: [0.8974359  0.87179487 0.82051282 0.8974359  0.79487179]\n",
      "Median: 0.8717948717948718\n",
      "Test: 0.7878787878787878\n"
     ]
    }
   ],
   "source": [
    "# tree train\n",
    "print_scores(dt,X_tr_im,X_te_im,y_train,y_test)"
   ]
  },
  {
   "cell_type": "markdown",
   "metadata": {
    "hidden": true
   },
   "source": [
    "<details>\n",
    "    <summary><b>🧠 Knowledge Check</b>: What is this score? And why is it equal to 1?</summary>\n",
    "    <br/>\n",
    "    <quote>\n",
    "    This perfect score on the training data is already evidence of model overfitting. There are steps one can take to help with this, like limiting the \"depth\" of the nodes. And of course we can use cross-validation to get a more honest estimate of model quality.\n",
    "    </quote>\n",
    "</details>\n",
    "\n",
    "\n"
   ]
  },
  {
   "cell_type": "markdown",
   "metadata": {
    "hidden": true
   },
   "source": [
    "But it's often better to do something else: Plant another tree!\n",
    "\n",
    "Of course, if a second tree is going to be of any value, it has to be *different from* the first. Here's a good algorithm for achieving that:"
   ]
  },
  {
   "cell_type": "markdown",
   "metadata": {
    "heading_collapsed": true,
    "hidden": true
   },
   "source": [
    "### Bagging Algorithm"
   ]
  },
  {
   "cell_type": "markdown",
   "metadata": {
    "hidden": true
   },
   "source": [
    "- Take a sample of your X_train and fit a decision tree to it.\n",
    "- Replace the first batch of data and repeat.\n",
    "- When you've got as many trees as you like, make use of all your individual trees' predictions to come up with some holistic prediction. \n",
    "    - (Most obviously, we could take the average of our predictions, but there are other methods we might try.)"
   ]
  },
  {
   "cell_type": "markdown",
   "metadata": {
    "hidden": true
   },
   "source": [
    "* Because we're resampling our data with replacement, we're *bootstrapping*.\n",
    "* Because we're making use of our many samples' predictions, we're *aggregating*.\n",
    "* Because we're bootstrapping and aggregating all in the same algorithm, we're *bagging*."
   ]
  },
  {
   "cell_type": "markdown",
   "metadata": {
    "heading_collapsed": true,
    "hidden": true
   },
   "source": [
    "### Bagging by Hand"
   ]
  },
  {
   "cell_type": "code",
   "execution_count": 55,
   "metadata": {
    "hidden": true
   },
   "outputs": [],
   "source": [
    "def simple_bagger(X_train, y_train, X_test=None, n_trees=10):\n",
    "    \"\"\"\n",
    "    This function will build `n_trees`-many decision tree classifiers\n",
    "    with random_state=42 on subsets of X_train (and y_train), returning\n",
    "    average predictions (averaging on the .predict_proba() method of the\n",
    "    decision trees as opposed to the .predict() method) on X_test. If X_test\n",
    "    is not specified, the function will predict on X_train.\n",
    "    \"\"\"\n",
    "    \n",
    "    if X_test is None:\n",
    "        X_test = X_train\n",
    "        \n",
    "    y_train = y_train.values.reshape(-1, 1)\n",
    "    data = np.hstack((X_train, y_train))\n",
    "    \n",
    "    num_recs = y_train.shape[0]\n",
    "    \n",
    "    preds = []\n",
    "    \n",
    "    for _ in range(n_trees):\n",
    "        \n",
    "        # Train on 10% of the training data\n",
    "        subset = np.random.choice(num_recs, size=num_recs//10)\n",
    "            # Note that there is still randomness here!\n",
    "        training = data[subset, :]\n",
    "        ct = DecisionTreeClassifier(random_state=42)\n",
    "        ct.fit(training[:, :-1], training[:, -1])\n",
    "        preds.append(ct.predict_proba(X_test))\n",
    "\n",
    "    return np.mean(preds, axis=0).argmax(axis=1)"
   ]
  },
  {
   "cell_type": "code",
   "execution_count": 56,
   "metadata": {
    "hidden": true
   },
   "outputs": [
    {
     "data": {
      "text/plain": [
       "array([1, 1, 0, 0, 1, 0, 0, 1, 1, 1, 0, 0, 1, 1, 1, 1, 1, 0, 1, 1, 1, 1,\n",
       "       0, 1, 1, 1, 0, 1, 1, 1, 1, 0, 1, 1, 0, 0, 0, 1, 1, 1, 1, 1, 1, 0,\n",
       "       0, 1, 1, 1, 0, 1, 0, 1, 0, 1, 1, 1, 1, 1, 0, 0, 0, 1, 0, 0, 1, 1,\n",
       "       1, 1, 0, 1, 1, 0, 0, 0, 1, 0, 1, 1, 1, 1, 0, 1, 0, 1, 0, 1, 1, 1,\n",
       "       0, 1, 0, 1, 1, 1, 1, 1, 0, 1, 1, 1, 1, 0, 1, 1, 1, 1, 0, 0, 1, 1,\n",
       "       1, 1, 0, 1, 1, 0, 1, 1, 0, 1, 1, 1, 1, 0, 1, 1, 1, 1, 0, 1, 0, 1,\n",
       "       1, 1, 1, 1, 1, 1, 1, 1, 1, 0, 1, 1, 1, 1, 0, 1, 0, 1, 1, 0, 1, 1,\n",
       "       1, 1, 1, 1, 0, 0, 1, 0, 0, 1, 0, 1, 1, 1, 1, 1, 0, 0, 0, 0, 1, 0,\n",
       "       1, 1, 0, 1, 0, 1, 1, 1, 1, 0, 1, 1, 0, 1, 0, 1, 1, 0, 0],\n",
       "      dtype=int64)"
      ]
     },
     "execution_count": 56,
     "metadata": {},
     "output_type": "execute_result"
    }
   ],
   "source": [
    "# Test it\n",
    "simple_bagger(X_tr_im,y_train)"
   ]
  },
  {
   "cell_type": "markdown",
   "metadata": {
    "heading_collapsed": true,
    "hidden": true
   },
   "source": [
    "### Bagging with `sklearn`"
   ]
  },
  {
   "cell_type": "code",
   "execution_count": 184,
   "metadata": {
    "hidden": true
   },
   "outputs": [],
   "source": [
    "# Instatiate a BaggingRegessor\n",
    "# Note the base esimator is by default a decision tree\n",
    "from sklearn.ensemble import BaggingClassifier\n",
    "\n",
    "bag = BaggingClassifier(n_estimators=100,random_state=42).fit(X_tr_im,y_train)"
   ]
  },
  {
   "cell_type": "code",
   "execution_count": 185,
   "metadata": {
    "hidden": true
   },
   "outputs": [],
   "source": [
    "# Fit it\n"
   ]
  },
  {
   "cell_type": "code",
   "execution_count": 186,
   "metadata": {
    "hidden": true
   },
   "outputs": [
    {
     "name": "stdout",
     "output_type": "stream",
     "text": [
      "Cross Val: [0.8974359  0.92307692 0.84615385 0.92307692 0.82051282]\n",
      "Median: 0.8974358974358975\n",
      "Test: 0.8484848484848485\n"
     ]
    }
   ],
   "source": [
    "# Print Scores\n",
    "print_scores(bag,X_tr_im,X_te_im,y_train,y_test)"
   ]
  },
  {
   "cell_type": "markdown",
   "metadata": {
    "heading_collapsed": true,
    "hidden": true
   },
   "source": [
    "### Fitting a Random Forest"
   ]
  },
  {
   "cell_type": "markdown",
   "metadata": {
    "heading_collapsed": true,
    "hidden": true
   },
   "source": [
    "#### The Goods & The Bads"
   ]
  },
  {
   "cell_type": "markdown",
   "metadata": {
    "hidden": true
   },
   "source": [
    "**The Goods**\n",
    "\n",
    "- Super friend! \n",
    "- High performance \n",
    "    + low variance\n",
    "- Transparent\n",
    "    + inherited from Decision Trees\n",
    "    "
   ]
  },
  {
   "cell_type": "markdown",
   "metadata": {
    "hidden": true
   },
   "source": [
    "**The Bads**\n",
    "\n",
    "- We got so many trees to plant...\n",
    "- Computationally expensive\n",
    "- Memory\n",
    "    + all trees stored in memory\n",
    "    + think back to k-Nearest Neighbors"
   ]
  },
  {
   "cell_type": "markdown",
   "metadata": {
    "heading_collapsed": true,
    "hidden": true
   },
   "source": [
    "#### Breed a Variety of Trees"
   ]
  },
  {
   "cell_type": "markdown",
   "metadata": {
    "hidden": true
   },
   "source": [
    "Let's add an extra layer of randomization: Instead of using *all* the features of my model to optimize a branch at each node, I'll just choose a subset of my features.\n",
    "\n",
    "That's the essence of a random forest model. Note that there are now **two** levels of random sampling happening: To build a new tree, I'll be taking only some of my data points; and at any branching point in a tree, I'll be using only some of my features to determine the split."
   ]
  },
  {
   "cell_type": "markdown",
   "metadata": {
    "heading_collapsed": true,
    "hidden": true
   },
   "source": [
    "#### Steps:"
   ]
  },
  {
   "cell_type": "markdown",
   "metadata": {
    "hidden": true
   },
   "source": [
    "1. Save a portion of data for validation (**out-of-bag**), the rest for training (**bag**)\n",
    "2. The data for training (**bag**) is then split up by randomly selecting predictors\n",
    "3. Grow/train your tree with the training data using just those features\n",
    "4. Use our validation set (**out-of-bag**), take out the columns used in our tree from the previous step, and predict using the tree & this *out-of-bag* data\n",
    "5. Compare on how well the tree did *out-of-bag error*\n",
    "6. Repeat to make new trees and use the result to \"vote\" for the final decision"
   ]
  },
  {
   "cell_type": "markdown",
   "metadata": {
    "heading_collapsed": true,
    "hidden": true
   },
   "source": [
    "### Random Forest by Hand"
   ]
  },
  {
   "cell_type": "code",
   "execution_count": 108,
   "metadata": {
    "hidden": true
   },
   "outputs": [],
   "source": [
    "def bagger(X_train, y_train, X_test=None, n_trees=10, random_forest=False):\n",
    "    \"\"\"\n",
    "    This function will build `n_trees`-many decision tree classifiers\n",
    "    with random_state=42 on subsets of X_train (and y_train), returning\n",
    "    average predictions (averaging on the .predict_proba() method of the\n",
    "    decision trees as opposed to the .predict() method) on X_test. If X_test\n",
    "    is not specified, the function will predict on X_train. If `random_forest`\n",
    "    is set to True, a number of features equal to sqrt(n_features) will be\n",
    "    used to build each tree.\n",
    "    \"\"\"\n",
    "\n",
    "    if X_test is None:\n",
    "        X_test = X_train\n",
    "\n",
    "    y_train = y_train.values.reshape(-1, 1)\n",
    "    data = np.hstack((X_train, y_train))\n",
    "    \n",
    "    num_recs = X_train.shape[0]\n",
    "    num_feats = X_train.shape[1]\n",
    "    preds = []\n",
    "    \n",
    "    for _ in range(n_trees):\n",
    "        \n",
    "        # Train on 10% of the training data\n",
    "        subset = np.random.choice(num_recs, size=num_recs//10).reshape(-1, 1)\n",
    "        \n",
    "        # For random forest, choose only some features\n",
    "        if random_forest == True:\n",
    "            subfeatures = np.random.choice(num_feats, size=int(np.sqrt(num_feats)))\n",
    "        else:\n",
    "            subfeatures = np.arange(num_feats)\n",
    "            \n",
    "        subfeatures_y = np.append(subfeatures, -1).reshape(1, -1)\n",
    "        training = data[subset, subfeatures_y]\n",
    "        \n",
    "        ct = DecisionTreeClassifier(random_state=42)\n",
    "        ct.fit(training[:, :-1], training[:, -1])\n",
    "        \n",
    "        preds.append(ct.predict_proba(X_test[:, subfeatures]))\n",
    "    \n",
    "    return np.mean(preds, axis=0).argmax(axis=1)"
   ]
  },
  {
   "cell_type": "code",
   "execution_count": 109,
   "metadata": {
    "hidden": true
   },
   "outputs": [
    {
     "data": {
      "text/plain": [
       "0.8333333333333334"
      ]
     },
     "execution_count": 109,
     "metadata": {},
     "output_type": "execute_result"
    }
   ],
   "source": [
    "accuracy_score(y_test, bagger(X_tr_im, y_train, X_te_im, random_forest=True))"
   ]
  },
  {
   "cell_type": "markdown",
   "metadata": {
    "heading_collapsed": true,
    "hidden": true
   },
   "source": [
    "### Random Forest with `sklearn`"
   ]
  },
  {
   "cell_type": "markdown",
   "metadata": {
    "hidden": true
   },
   "source": [
    "> Here's the [documentation](https://scikit-learn.org/stable/modules/generated/sklearn.ensemble.RandomForestClassifier.html#sklearn.ensemble.RandomForestClassifier) on `RandomForestClassifier`"
   ]
  },
  {
   "cell_type": "code",
   "execution_count": 187,
   "metadata": {
    "hidden": true
   },
   "outputs": [],
   "source": [
    "# Instantiate a RandomForestClassifier\n",
    "rfc = RandomForestClassifier(n_estimators=1000,max_samples=3, random_state=42).fit(X_tr_im,y_train)"
   ]
  },
  {
   "cell_type": "code",
   "execution_count": 188,
   "metadata": {
    "hidden": true
   },
   "outputs": [],
   "source": [
    "# Fit it\n"
   ]
  },
  {
   "cell_type": "code",
   "execution_count": 189,
   "metadata": {
    "hidden": true
   },
   "outputs": [
    {
     "name": "stdout",
     "output_type": "stream",
     "text": [
      "Cross Val: [0.76923077 0.82051282 0.74358974 0.76923077 0.71794872]\n",
      "Median: 0.7692307692307693\n",
      "Test: 0.7727272727272727\n"
     ]
    }
   ],
   "source": [
    "# Print scores \n",
    "print_scores(rfc,X_tr_im,X_te_im,y_train,y_test)"
   ]
  },
  {
   "cell_type": "markdown",
   "metadata": {
    "heading_collapsed": true,
    "hidden": true
   },
   "source": [
    "### Cool Features of Random Forests"
   ]
  },
  {
   "cell_type": "markdown",
   "metadata": {
    "hidden": true
   },
   "source": [
    "There are some extra investigations we can do with random forests since they're built of decision trees.\n",
    "\n",
    "> **NOTE**\n",
    ">\n",
    "> Not all of these are _specific_ to random forests and can be applied to other (ensemble) models"
   ]
  },
  {
   "cell_type": "markdown",
   "metadata": {
    "heading_collapsed": true,
    "hidden": true
   },
   "source": [
    "#### Investigate Your Forest 🌲🌲👀🌲🌲"
   ]
  },
  {
   "cell_type": "markdown",
   "metadata": {
    "hidden": true
   },
   "source": [
    "We can check out our trained estimators after training the ensemble. This isn't necessarily unique to random forests, but since the base model is always a decision tree we can really investigate how the model is working!"
   ]
  },
  {
   "cell_type": "code",
   "execution_count": 190,
   "metadata": {
    "hidden": true
   },
   "outputs": [
    {
     "name": "stdout",
     "output_type": "stream",
     "text": [
      "1000\n"
     ]
    },
    {
     "data": {
      "text/plain": [
       "[DecisionTreeClassifier(max_features='auto', random_state=1608637542),\n",
       " DecisionTreeClassifier(max_features='auto', random_state=1273642419),\n",
       " DecisionTreeClassifier(max_features='auto', random_state=1935803228),\n",
       " DecisionTreeClassifier(max_features='auto', random_state=787846414),\n",
       " DecisionTreeClassifier(max_features='auto', random_state=996406378),\n",
       " DecisionTreeClassifier(max_features='auto', random_state=1201263687),\n",
       " DecisionTreeClassifier(max_features='auto', random_state=423734972),\n",
       " DecisionTreeClassifier(max_features='auto', random_state=415968276),\n",
       " DecisionTreeClassifier(max_features='auto', random_state=670094950),\n",
       " DecisionTreeClassifier(max_features='auto', random_state=1914837113),\n",
       " DecisionTreeClassifier(max_features='auto', random_state=669991378),\n",
       " DecisionTreeClassifier(max_features='auto', random_state=429389014),\n",
       " DecisionTreeClassifier(max_features='auto', random_state=249467210),\n",
       " DecisionTreeClassifier(max_features='auto', random_state=1972458954),\n",
       " DecisionTreeClassifier(max_features='auto', random_state=1572714583),\n",
       " DecisionTreeClassifier(max_features='auto', random_state=1433267572),\n",
       " DecisionTreeClassifier(max_features='auto', random_state=434285667),\n",
       " DecisionTreeClassifier(max_features='auto', random_state=613608295),\n",
       " DecisionTreeClassifier(max_features='auto', random_state=893664919),\n",
       " DecisionTreeClassifier(max_features='auto', random_state=648061058),\n",
       " DecisionTreeClassifier(max_features='auto', random_state=88409749),\n",
       " DecisionTreeClassifier(max_features='auto', random_state=242285876),\n",
       " DecisionTreeClassifier(max_features='auto', random_state=2018247425),\n",
       " DecisionTreeClassifier(max_features='auto', random_state=953477463),\n",
       " DecisionTreeClassifier(max_features='auto', random_state=1427830251),\n",
       " DecisionTreeClassifier(max_features='auto', random_state=1883569565),\n",
       " DecisionTreeClassifier(max_features='auto', random_state=911989541),\n",
       " DecisionTreeClassifier(max_features='auto', random_state=3344769),\n",
       " DecisionTreeClassifier(max_features='auto', random_state=780932287),\n",
       " DecisionTreeClassifier(max_features='auto', random_state=2114032571),\n",
       " DecisionTreeClassifier(max_features='auto', random_state=787716372),\n",
       " DecisionTreeClassifier(max_features='auto', random_state=504579232),\n",
       " DecisionTreeClassifier(max_features='auto', random_state=1306710475),\n",
       " DecisionTreeClassifier(max_features='auto', random_state=479546681),\n",
       " DecisionTreeClassifier(max_features='auto', random_state=106328085),\n",
       " DecisionTreeClassifier(max_features='auto', random_state=30349564),\n",
       " DecisionTreeClassifier(max_features='auto', random_state=1855189739),\n",
       " DecisionTreeClassifier(max_features='auto', random_state=99052376),\n",
       " DecisionTreeClassifier(max_features='auto', random_state=1250819632),\n",
       " DecisionTreeClassifier(max_features='auto', random_state=106406362),\n",
       " DecisionTreeClassifier(max_features='auto', random_state=480404538),\n",
       " DecisionTreeClassifier(max_features='auto', random_state=1717389822),\n",
       " DecisionTreeClassifier(max_features='auto', random_state=599121577),\n",
       " DecisionTreeClassifier(max_features='auto', random_state=200427519),\n",
       " DecisionTreeClassifier(max_features='auto', random_state=1254751707),\n",
       " DecisionTreeClassifier(max_features='auto', random_state=2034764475),\n",
       " DecisionTreeClassifier(max_features='auto', random_state=1573512143),\n",
       " DecisionTreeClassifier(max_features='auto', random_state=999745294),\n",
       " DecisionTreeClassifier(max_features='auto', random_state=1958805693),\n",
       " DecisionTreeClassifier(max_features='auto', random_state=389151677),\n",
       " DecisionTreeClassifier(max_features='auto', random_state=1224821422),\n",
       " DecisionTreeClassifier(max_features='auto', random_state=508464061),\n",
       " DecisionTreeClassifier(max_features='auto', random_state=857592370),\n",
       " DecisionTreeClassifier(max_features='auto', random_state=1642661739),\n",
       " DecisionTreeClassifier(max_features='auto', random_state=61136438),\n",
       " DecisionTreeClassifier(max_features='auto', random_state=2075460851),\n",
       " DecisionTreeClassifier(max_features='auto', random_state=396917567),\n",
       " DecisionTreeClassifier(max_features='auto', random_state=2004731384),\n",
       " DecisionTreeClassifier(max_features='auto', random_state=199502978),\n",
       " DecisionTreeClassifier(max_features='auto', random_state=1545932260),\n",
       " DecisionTreeClassifier(max_features='auto', random_state=461901618),\n",
       " DecisionTreeClassifier(max_features='auto', random_state=774414982),\n",
       " DecisionTreeClassifier(max_features='auto', random_state=732395540),\n",
       " DecisionTreeClassifier(max_features='auto', random_state=1934879560),\n",
       " DecisionTreeClassifier(max_features='auto', random_state=279394470),\n",
       " DecisionTreeClassifier(max_features='auto', random_state=56972561),\n",
       " DecisionTreeClassifier(max_features='auto', random_state=1927948675),\n",
       " DecisionTreeClassifier(max_features='auto', random_state=1899242072),\n",
       " DecisionTreeClassifier(max_features='auto', random_state=1999874363),\n",
       " DecisionTreeClassifier(max_features='auto', random_state=271820813),\n",
       " DecisionTreeClassifier(max_features='auto', random_state=1324556529),\n",
       " DecisionTreeClassifier(max_features='auto', random_state=1655351289),\n",
       " DecisionTreeClassifier(max_features='auto', random_state=1308306184),\n",
       " DecisionTreeClassifier(max_features='auto', random_state=68574553),\n",
       " DecisionTreeClassifier(max_features='auto', random_state=419498548),\n",
       " DecisionTreeClassifier(max_features='auto', random_state=991681409),\n",
       " DecisionTreeClassifier(max_features='auto', random_state=791274835),\n",
       " DecisionTreeClassifier(max_features='auto', random_state=1035196507),\n",
       " DecisionTreeClassifier(max_features='auto', random_state=1890440558),\n",
       " DecisionTreeClassifier(max_features='auto', random_state=787110843),\n",
       " DecisionTreeClassifier(max_features='auto', random_state=524150214),\n",
       " DecisionTreeClassifier(max_features='auto', random_state=472432043),\n",
       " DecisionTreeClassifier(max_features='auto', random_state=2126768636),\n",
       " DecisionTreeClassifier(max_features='auto', random_state=1431061255),\n",
       " DecisionTreeClassifier(max_features='auto', random_state=147697582),\n",
       " DecisionTreeClassifier(max_features='auto', random_state=744595490),\n",
       " DecisionTreeClassifier(max_features='auto', random_state=1758017741),\n",
       " DecisionTreeClassifier(max_features='auto', random_state=1679592528),\n",
       " DecisionTreeClassifier(max_features='auto', random_state=1111451555),\n",
       " DecisionTreeClassifier(max_features='auto', random_state=782698033),\n",
       " DecisionTreeClassifier(max_features='auto', random_state=698027879),\n",
       " DecisionTreeClassifier(max_features='auto', random_state=1096768899),\n",
       " DecisionTreeClassifier(max_features='auto', random_state=1338788865),\n",
       " DecisionTreeClassifier(max_features='auto', random_state=1826030589),\n",
       " DecisionTreeClassifier(max_features='auto', random_state=86191493),\n",
       " DecisionTreeClassifier(max_features='auto', random_state=893102645),\n",
       " DecisionTreeClassifier(max_features='auto', random_state=200619113),\n",
       " DecisionTreeClassifier(max_features='auto', random_state=290770691),\n",
       " DecisionTreeClassifier(max_features='auto', random_state=793943861),\n",
       " DecisionTreeClassifier(max_features='auto', random_state=134489564),\n",
       " DecisionTreeClassifier(max_features='auto', random_state=2016850622),\n",
       " DecisionTreeClassifier(max_features='auto', random_state=1470101905),\n",
       " DecisionTreeClassifier(max_features='auto', random_state=1181686489),\n",
       " DecisionTreeClassifier(max_features='auto', random_state=1931679275),\n",
       " DecisionTreeClassifier(max_features='auto', random_state=1887633569),\n",
       " DecisionTreeClassifier(max_features='auto', random_state=1697157321),\n",
       " DecisionTreeClassifier(max_features='auto', random_state=1695770557),\n",
       " DecisionTreeClassifier(max_features='auto', random_state=1832485859),\n",
       " DecisionTreeClassifier(max_features='auto', random_state=420477197),\n",
       " DecisionTreeClassifier(max_features='auto', random_state=976125790),\n",
       " DecisionTreeClassifier(max_features='auto', random_state=1811936047),\n",
       " DecisionTreeClassifier(max_features='auto', random_state=1402481934),\n",
       " DecisionTreeClassifier(max_features='auto', random_state=380072391),\n",
       " DecisionTreeClassifier(max_features='auto', random_state=302554573),\n",
       " DecisionTreeClassifier(max_features='auto', random_state=841739990),\n",
       " DecisionTreeClassifier(max_features='auto', random_state=89482491),\n",
       " DecisionTreeClassifier(max_features='auto', random_state=194249720),\n",
       " DecisionTreeClassifier(max_features='auto', random_state=1980718781),\n",
       " DecisionTreeClassifier(max_features='auto', random_state=1397283111),\n",
       " DecisionTreeClassifier(max_features='auto', random_state=1479761620),\n",
       " DecisionTreeClassifier(max_features='auto', random_state=1669356239),\n",
       " DecisionTreeClassifier(max_features='auto', random_state=1062231788),\n",
       " DecisionTreeClassifier(max_features='auto', random_state=1165435217),\n",
       " DecisionTreeClassifier(max_features='auto', random_state=170476398),\n",
       " DecisionTreeClassifier(max_features='auto', random_state=1411916852),\n",
       " DecisionTreeClassifier(max_features='auto', random_state=372593431),\n",
       " DecisionTreeClassifier(max_features='auto', random_state=1532243865),\n",
       " DecisionTreeClassifier(max_features='auto', random_state=1998256344),\n",
       " DecisionTreeClassifier(max_features='auto', random_state=1206604539),\n",
       " DecisionTreeClassifier(max_features='auto', random_state=459708603),\n",
       " DecisionTreeClassifier(max_features='auto', random_state=183378299),\n",
       " DecisionTreeClassifier(max_features='auto', random_state=1185407468),\n",
       " DecisionTreeClassifier(max_features='auto', random_state=605264936),\n",
       " DecisionTreeClassifier(max_features='auto', random_state=1272485020),\n",
       " DecisionTreeClassifier(max_features='auto', random_state=1297926158),\n",
       " DecisionTreeClassifier(max_features='auto', random_state=709816108),\n",
       " DecisionTreeClassifier(max_features='auto', random_state=320192576),\n",
       " DecisionTreeClassifier(max_features='auto', random_state=67157848),\n",
       " DecisionTreeClassifier(max_features='auto', random_state=2091163462),\n",
       " DecisionTreeClassifier(max_features='auto', random_state=1818495496),\n",
       " DecisionTreeClassifier(max_features='auto', random_state=1169282391),\n",
       " DecisionTreeClassifier(max_features='auto', random_state=1696003200),\n",
       " DecisionTreeClassifier(max_features='auto', random_state=853477355),\n",
       " DecisionTreeClassifier(max_features='auto', random_state=1260522119),\n",
       " DecisionTreeClassifier(max_features='auto', random_state=23717335),\n",
       " DecisionTreeClassifier(max_features='auto', random_state=60472382),\n",
       " DecisionTreeClassifier(max_features='auto', random_state=1354896522),\n",
       " DecisionTreeClassifier(max_features='auto', random_state=854021618),\n",
       " DecisionTreeClassifier(max_features='auto', random_state=888445520),\n",
       " DecisionTreeClassifier(max_features='auto', random_state=907706759),\n",
       " DecisionTreeClassifier(max_features='auto', random_state=983578274),\n",
       " DecisionTreeClassifier(max_features='auto', random_state=1246294434),\n",
       " DecisionTreeClassifier(max_features='auto', random_state=1165097248),\n",
       " DecisionTreeClassifier(max_features='auto', random_state=455094650),\n",
       " DecisionTreeClassifier(max_features='auto', random_state=318019332),\n",
       " DecisionTreeClassifier(max_features='auto', random_state=1830948329),\n",
       " DecisionTreeClassifier(max_features='auto', random_state=1539598566),\n",
       " DecisionTreeClassifier(max_features='auto', random_state=648870905),\n",
       " DecisionTreeClassifier(max_features='auto', random_state=497653800),\n",
       " DecisionTreeClassifier(max_features='auto', random_state=1782238235),\n",
       " DecisionTreeClassifier(max_features='auto', random_state=1559517318),\n",
       " DecisionTreeClassifier(max_features='auto', random_state=1503404232),\n",
       " DecisionTreeClassifier(max_features='auto', random_state=529561415),\n",
       " DecisionTreeClassifier(max_features='auto', random_state=1930375947),\n",
       " DecisionTreeClassifier(max_features='auto', random_state=1421196193),\n",
       " DecisionTreeClassifier(max_features='auto', random_state=409783328),\n",
       " DecisionTreeClassifier(max_features='auto', random_state=272981039),\n",
       " DecisionTreeClassifier(max_features='auto', random_state=1592652278),\n",
       " DecisionTreeClassifier(max_features='auto', random_state=1335658902),\n",
       " DecisionTreeClassifier(max_features='auto', random_state=725167677),\n",
       " DecisionTreeClassifier(max_features='auto', random_state=1396651735),\n",
       " DecisionTreeClassifier(max_features='auto', random_state=712631076),\n",
       " DecisionTreeClassifier(max_features='auto', random_state=986151010),\n",
       " DecisionTreeClassifier(max_features='auto', random_state=392121003),\n",
       " DecisionTreeClassifier(max_features='auto', random_state=590804839),\n",
       " DecisionTreeClassifier(max_features='auto', random_state=1179921109),\n",
       " DecisionTreeClassifier(max_features='auto', random_state=1663066074),\n",
       " DecisionTreeClassifier(max_features='auto', random_state=263038498),\n",
       " DecisionTreeClassifier(max_features='auto', random_state=2028147648),\n",
       " DecisionTreeClassifier(max_features='auto', random_state=1644658402),\n",
       " DecisionTreeClassifier(max_features='auto', random_state=513653348),\n",
       " DecisionTreeClassifier(max_features='auto', random_state=2025988014),\n",
       " DecisionTreeClassifier(max_features='auto', random_state=915879373),\n",
       " DecisionTreeClassifier(max_features='auto', random_state=1498573442),\n",
       " DecisionTreeClassifier(max_features='auto', random_state=1120063232),\n",
       " DecisionTreeClassifier(max_features='auto', random_state=952321028),\n",
       " DecisionTreeClassifier(max_features='auto', random_state=263183577),\n",
       " DecisionTreeClassifier(max_features='auto', random_state=1013547510),\n",
       " DecisionTreeClassifier(max_features='auto', random_state=1163795198),\n",
       " DecisionTreeClassifier(max_features='auto', random_state=1099805069),\n",
       " DecisionTreeClassifier(max_features='auto', random_state=2120835942),\n",
       " DecisionTreeClassifier(max_features='auto', random_state=173660954),\n",
       " DecisionTreeClassifier(max_features='auto', random_state=97636744),\n",
       " DecisionTreeClassifier(max_features='auto', random_state=904790222),\n",
       " DecisionTreeClassifier(max_features='auto', random_state=1836274702),\n",
       " DecisionTreeClassifier(max_features='auto', random_state=476272473),\n",
       " DecisionTreeClassifier(max_features='auto', random_state=109174313),\n",
       " DecisionTreeClassifier(max_features='auto', random_state=1886935931),\n",
       " DecisionTreeClassifier(max_features='auto', random_state=463390156),\n",
       " DecisionTreeClassifier(max_features='auto', random_state=866377394),\n",
       " DecisionTreeClassifier(max_features='auto', random_state=134987326),\n",
       " DecisionTreeClassifier(max_features='auto', random_state=1699791711),\n",
       " DecisionTreeClassifier(max_features='auto', random_state=585878246),\n",
       " DecisionTreeClassifier(max_features='auto', random_state=2041699568),\n",
       " DecisionTreeClassifier(max_features='auto', random_state=1350148659),\n",
       " DecisionTreeClassifier(max_features='auto', random_state=271766524),\n",
       " DecisionTreeClassifier(max_features='auto', random_state=36810847),\n",
       " DecisionTreeClassifier(max_features='auto', random_state=839735171),\n",
       " DecisionTreeClassifier(max_features='auto', random_state=1750484701),\n",
       " DecisionTreeClassifier(max_features='auto', random_state=598424036),\n",
       " DecisionTreeClassifier(max_features='auto', random_state=1070701974),\n",
       " DecisionTreeClassifier(max_features='auto', random_state=448469222),\n",
       " DecisionTreeClassifier(max_features='auto', random_state=1762581228),\n",
       " DecisionTreeClassifier(max_features='auto', random_state=171116174),\n",
       " DecisionTreeClassifier(max_features='auto', random_state=1097583786),\n",
       " DecisionTreeClassifier(max_features='auto', random_state=872141340),\n",
       " DecisionTreeClassifier(max_features='auto', random_state=982680611),\n",
       " DecisionTreeClassifier(max_features='auto', random_state=1902041612),\n",
       " DecisionTreeClassifier(max_features='auto', random_state=330626207),\n",
       " DecisionTreeClassifier(max_features='auto', random_state=424623942),\n",
       " DecisionTreeClassifier(max_features='auto', random_state=1244473018),\n",
       " DecisionTreeClassifier(max_features='auto', random_state=836594930),\n",
       " DecisionTreeClassifier(max_features='auto', random_state=692440149),\n",
       " DecisionTreeClassifier(max_features='auto', random_state=1634096923),\n",
       " DecisionTreeClassifier(max_features='auto', random_state=1845537345),\n",
       " DecisionTreeClassifier(max_features='auto', random_state=534096553),\n",
       " DecisionTreeClassifier(max_features='auto', random_state=1323366956),\n",
       " DecisionTreeClassifier(max_features='auto', random_state=1269737021),\n",
       " DecisionTreeClassifier(max_features='auto', random_state=572964792),\n",
       " DecisionTreeClassifier(max_features='auto', random_state=453094388),\n",
       " DecisionTreeClassifier(max_features='auto', random_state=1595411077),\n",
       " DecisionTreeClassifier(max_features='auto', random_state=1960801051),\n",
       " DecisionTreeClassifier(max_features='auto', random_state=1304261659),\n",
       " DecisionTreeClassifier(max_features='auto', random_state=938194539),\n",
       " DecisionTreeClassifier(max_features='auto', random_state=801312299),\n",
       " DecisionTreeClassifier(max_features='auto', random_state=1788896595),\n",
       " DecisionTreeClassifier(max_features='auto', random_state=1686028061),\n",
       " DecisionTreeClassifier(max_features='auto', random_state=1646176189),\n",
       " DecisionTreeClassifier(max_features='auto', random_state=168973642),\n",
       " DecisionTreeClassifier(max_features='auto', random_state=1393051263),\n",
       " DecisionTreeClassifier(max_features='auto', random_state=1320445433),\n",
       " DecisionTreeClassifier(max_features='auto', random_state=524363766),\n",
       " DecisionTreeClassifier(max_features='auto', random_state=1701199195),\n",
       " DecisionTreeClassifier(max_features='auto', random_state=1530287576),\n",
       " DecisionTreeClassifier(max_features='auto', random_state=1365814502),\n",
       " DecisionTreeClassifier(max_features='auto', random_state=1747314877),\n",
       " DecisionTreeClassifier(max_features='auto', random_state=472669408),\n",
       " DecisionTreeClassifier(max_features='auto', random_state=1168799104),\n",
       " DecisionTreeClassifier(max_features='auto', random_state=978974072),\n",
       " DecisionTreeClassifier(max_features='auto', random_state=634324250),\n",
       " DecisionTreeClassifier(max_features='auto', random_state=1834414013),\n",
       " DecisionTreeClassifier(max_features='auto', random_state=2235000),\n",
       " DecisionTreeClassifier(max_features='auto', random_state=1365863027),\n",
       " DecisionTreeClassifier(max_features='auto', random_state=1514271692),\n",
       " DecisionTreeClassifier(max_features='auto', random_state=1549326056),\n",
       " DecisionTreeClassifier(max_features='auto', random_state=1309025538),\n",
       " DecisionTreeClassifier(max_features='auto', random_state=29859174),\n",
       " DecisionTreeClassifier(max_features='auto', random_state=707191493),\n",
       " DecisionTreeClassifier(max_features='auto', random_state=46159303),\n",
       " DecisionTreeClassifier(max_features='auto', random_state=146412954),\n",
       " DecisionTreeClassifier(max_features='auto', random_state=1792766600),\n",
       " DecisionTreeClassifier(max_features='auto', random_state=2082328893),\n",
       " DecisionTreeClassifier(max_features='auto', random_state=953945764),\n",
       " DecisionTreeClassifier(max_features='auto', random_state=826506464),\n",
       " DecisionTreeClassifier(max_features='auto', random_state=514817842),\n",
       " DecisionTreeClassifier(max_features='auto', random_state=1157117161),\n",
       " DecisionTreeClassifier(max_features='auto', random_state=1450046123),\n",
       " DecisionTreeClassifier(max_features='auto', random_state=1048511127),\n",
       " DecisionTreeClassifier(max_features='auto', random_state=1902282702),\n",
       " DecisionTreeClassifier(max_features='auto', random_state=722804538),\n",
       " DecisionTreeClassifier(max_features='auto', random_state=1388146037),\n",
       " DecisionTreeClassifier(max_features='auto', random_state=939585183),\n",
       " DecisionTreeClassifier(max_features='auto', random_state=80705119),\n",
       " DecisionTreeClassifier(max_features='auto', random_state=249546199),\n",
       " DecisionTreeClassifier(max_features='auto', random_state=871959784),\n",
       " DecisionTreeClassifier(max_features='auto', random_state=1734463155),\n",
       " DecisionTreeClassifier(max_features='auto', random_state=1561777264),\n",
       " DecisionTreeClassifier(max_features='auto', random_state=278710077),\n",
       " DecisionTreeClassifier(max_features='auto', random_state=2026288624),\n",
       " DecisionTreeClassifier(max_features='auto', random_state=1090558393),\n",
       " DecisionTreeClassifier(max_features='auto', random_state=1986196019),\n",
       " DecisionTreeClassifier(max_features='auto', random_state=1060324619),\n",
       " DecisionTreeClassifier(max_features='auto', random_state=1081396733),\n",
       " DecisionTreeClassifier(max_features='auto', random_state=843120422),\n",
       " DecisionTreeClassifier(max_features='auto', random_state=2135666049),\n",
       " DecisionTreeClassifier(max_features='auto', random_state=911695234),\n",
       " DecisionTreeClassifier(max_features='auto', random_state=1292262512),\n",
       " DecisionTreeClassifier(max_features='auto', random_state=636028516),\n",
       " DecisionTreeClassifier(max_features='auto', random_state=1223380592),\n",
       " DecisionTreeClassifier(max_features='auto', random_state=2137779127),\n",
       " DecisionTreeClassifier(max_features='auto', random_state=158428240),\n",
       " DecisionTreeClassifier(max_features='auto', random_state=1145815738),\n",
       " DecisionTreeClassifier(max_features='auto', random_state=470575216),\n",
       " DecisionTreeClassifier(max_features='auto', random_state=2047045633),\n",
       " DecisionTreeClassifier(max_features='auto', random_state=11506305),\n",
       " DecisionTreeClassifier(max_features='auto', random_state=1765390555),\n",
       " DecisionTreeClassifier(max_features='auto', random_state=221099573),\n",
       " DecisionTreeClassifier(max_features='auto', random_state=141951830),\n",
       " DecisionTreeClassifier(max_features='auto', random_state=1196777444),\n",
       " DecisionTreeClassifier(max_features='auto', random_state=1482069727),\n",
       " DecisionTreeClassifier(max_features='auto', random_state=1753488608),\n",
       " DecisionTreeClassifier(max_features='auto', random_state=577034624),\n",
       " DecisionTreeClassifier(max_features='auto', random_state=1028910482),\n",
       " DecisionTreeClassifier(max_features='auto', random_state=776124029),\n",
       " DecisionTreeClassifier(max_features='auto', random_state=622318721),\n",
       " DecisionTreeClassifier(max_features='auto', random_state=132863028),\n",
       " DecisionTreeClassifier(max_features='auto', random_state=2102183595),\n",
       " DecisionTreeClassifier(max_features='auto', random_state=1923214041),\n",
       " DecisionTreeClassifier(max_features='auto', random_state=2085852831),\n",
       " DecisionTreeClassifier(max_features='auto', random_state=227174085),\n",
       " DecisionTreeClassifier(max_features='auto', random_state=1039619487),\n",
       " DecisionTreeClassifier(max_features='auto', random_state=398129398),\n",
       " DecisionTreeClassifier(max_features='auto', random_state=739316547),\n",
       " DecisionTreeClassifier(max_features='auto', random_state=347262390),\n",
       " DecisionTreeClassifier(max_features='auto', random_state=1123647690),\n",
       " DecisionTreeClassifier(max_features='auto', random_state=1587653815),\n",
       " DecisionTreeClassifier(max_features='auto', random_state=1020645498),\n",
       " DecisionTreeClassifier(max_features='auto', random_state=1040069008),\n",
       " DecisionTreeClassifier(max_features='auto', random_state=980181758),\n",
       " DecisionTreeClassifier(max_features='auto', random_state=1301975333),\n",
       " DecisionTreeClassifier(max_features='auto', random_state=1579616535),\n",
       " DecisionTreeClassifier(max_features='auto', random_state=2019925828),\n",
       " DecisionTreeClassifier(max_features='auto', random_state=568249203),\n",
       " DecisionTreeClassifier(max_features='auto', random_state=2076286561),\n",
       " DecisionTreeClassifier(max_features='auto', random_state=573505733),\n",
       " DecisionTreeClassifier(max_features='auto', random_state=1712937941),\n",
       " DecisionTreeClassifier(max_features='auto', random_state=153651082),\n",
       " DecisionTreeClassifier(max_features='auto', random_state=1359064574),\n",
       " DecisionTreeClassifier(max_features='auto', random_state=387791599),\n",
       " DecisionTreeClassifier(max_features='auto', random_state=1281382543),\n",
       " DecisionTreeClassifier(max_features='auto', random_state=1440113248),\n",
       " DecisionTreeClassifier(max_features='auto', random_state=647326920),\n",
       " DecisionTreeClassifier(max_features='auto', random_state=1377739899),\n",
       " DecisionTreeClassifier(max_features='auto', random_state=35213498),\n",
       " DecisionTreeClassifier(max_features='auto', random_state=801090885),\n",
       " DecisionTreeClassifier(max_features='auto', random_state=841009615),\n",
       " DecisionTreeClassifier(max_features='auto', random_state=175127900),\n",
       " DecisionTreeClassifier(max_features='auto', random_state=1539139330),\n",
       " DecisionTreeClassifier(max_features='auto', random_state=390382227),\n",
       " DecisionTreeClassifier(max_features='auto', random_state=1399982843),\n",
       " DecisionTreeClassifier(max_features='auto', random_state=762633146),\n",
       " DecisionTreeClassifier(max_features='auto', random_state=945928099),\n",
       " DecisionTreeClassifier(max_features='auto', random_state=71244178),\n",
       " DecisionTreeClassifier(max_features='auto', random_state=906880345),\n",
       " DecisionTreeClassifier(max_features='auto', random_state=51939266),\n",
       " DecisionTreeClassifier(max_features='auto', random_state=1329296894),\n",
       " DecisionTreeClassifier(max_features='auto', random_state=972791954),\n",
       " DecisionTreeClassifier(max_features='auto', random_state=1497509011),\n",
       " DecisionTreeClassifier(max_features='auto', random_state=623512415),\n",
       " DecisionTreeClassifier(max_features='auto', random_state=413075142),\n",
       " DecisionTreeClassifier(max_features='auto', random_state=748898099),\n",
       " DecisionTreeClassifier(max_features='auto', random_state=1892033000),\n",
       " DecisionTreeClassifier(max_features='auto', random_state=820071328),\n",
       " DecisionTreeClassifier(max_features='auto', random_state=1707558823),\n",
       " DecisionTreeClassifier(max_features='auto', random_state=1661015679),\n",
       " DecisionTreeClassifier(max_features='auto', random_state=76241446),\n",
       " DecisionTreeClassifier(max_features='auto', random_state=1875741009),\n",
       " DecisionTreeClassifier(max_features='auto', random_state=1450453863),\n",
       " DecisionTreeClassifier(max_features='auto', random_state=590647936),\n",
       " DecisionTreeClassifier(max_features='auto', random_state=754583306),\n",
       " DecisionTreeClassifier(max_features='auto', random_state=1464868827),\n",
       " DecisionTreeClassifier(max_features='auto', random_state=1010245560),\n",
       " DecisionTreeClassifier(max_features='auto', random_state=487365080),\n",
       " DecisionTreeClassifier(max_features='auto', random_state=897955761),\n",
       " DecisionTreeClassifier(max_features='auto', random_state=1824045206),\n",
       " DecisionTreeClassifier(max_features='auto', random_state=178017694),\n",
       " DecisionTreeClassifier(max_features='auto', random_state=1620660189),\n",
       " DecisionTreeClassifier(max_features='auto', random_state=840887593),\n",
       " DecisionTreeClassifier(max_features='auto', random_state=1107850850),\n",
       " DecisionTreeClassifier(max_features='auto', random_state=981614854),\n",
       " DecisionTreeClassifier(max_features='auto', random_state=687126267),\n",
       " DecisionTreeClassifier(max_features='auto', random_state=751425679),\n",
       " DecisionTreeClassifier(max_features='auto', random_state=1362458969),\n",
       " DecisionTreeClassifier(max_features='auto', random_state=2070897263),\n",
       " DecisionTreeClassifier(max_features='auto', random_state=237085688),\n",
       " DecisionTreeClassifier(max_features='auto', random_state=71450611),\n",
       " DecisionTreeClassifier(max_features='auto', random_state=127348283),\n",
       " DecisionTreeClassifier(max_features='auto', random_state=1120252784),\n",
       " DecisionTreeClassifier(max_features='auto', random_state=1038747649),\n",
       " DecisionTreeClassifier(max_features='auto', random_state=2131393408),\n",
       " DecisionTreeClassifier(max_features='auto', random_state=399873327),\n",
       " DecisionTreeClassifier(max_features='auto', random_state=1998960893),\n",
       " DecisionTreeClassifier(max_features='auto', random_state=1706028683),\n",
       " DecisionTreeClassifier(max_features='auto', random_state=250368452),\n",
       " DecisionTreeClassifier(max_features='auto', random_state=1719782436),\n",
       " DecisionTreeClassifier(max_features='auto', random_state=1643410591),\n",
       " DecisionTreeClassifier(max_features='auto', random_state=571666426),\n",
       " DecisionTreeClassifier(max_features='auto', random_state=810490870),\n",
       " DecisionTreeClassifier(max_features='auto', random_state=1456121864),\n",
       " DecisionTreeClassifier(max_features='auto', random_state=1197743336),\n",
       " DecisionTreeClassifier(max_features='auto', random_state=1499843682),\n",
       " DecisionTreeClassifier(max_features='auto', random_state=860530322),\n",
       " DecisionTreeClassifier(max_features='auto', random_state=970472239),\n",
       " DecisionTreeClassifier(max_features='auto', random_state=1488898255),\n",
       " DecisionTreeClassifier(max_features='auto', random_state=1705575554),\n",
       " DecisionTreeClassifier(max_features='auto', random_state=1530401171),\n",
       " DecisionTreeClassifier(max_features='auto', random_state=1662523543),\n",
       " DecisionTreeClassifier(max_features='auto', random_state=1737349173),\n",
       " DecisionTreeClassifier(max_features='auto', random_state=1202056311),\n",
       " DecisionTreeClassifier(max_features='auto', random_state=1665459872),\n",
       " DecisionTreeClassifier(max_features='auto', random_state=610021271),\n",
       " DecisionTreeClassifier(max_features='auto', random_state=1507226227),\n",
       " DecisionTreeClassifier(max_features='auto', random_state=361378378),\n",
       " DecisionTreeClassifier(max_features='auto', random_state=1871038064),\n",
       " DecisionTreeClassifier(max_features='auto', random_state=694190023),\n",
       " DecisionTreeClassifier(max_features='auto', random_state=1225528739),\n",
       " DecisionTreeClassifier(max_features='auto', random_state=1711777189),\n",
       " DecisionTreeClassifier(max_features='auto', random_state=725799015),\n",
       " DecisionTreeClassifier(max_features='auto', random_state=457109331),\n",
       " DecisionTreeClassifier(max_features='auto', random_state=346546429),\n",
       " DecisionTreeClassifier(max_features='auto', random_state=39501026),\n",
       " DecisionTreeClassifier(max_features='auto', random_state=1598942319),\n",
       " DecisionTreeClassifier(max_features='auto', random_state=435816957),\n",
       " DecisionTreeClassifier(max_features='auto', random_state=1890358744),\n",
       " DecisionTreeClassifier(max_features='auto', random_state=702234722),\n",
       " DecisionTreeClassifier(max_features='auto', random_state=2034370712),\n",
       " DecisionTreeClassifier(max_features='auto', random_state=21739356),\n",
       " DecisionTreeClassifier(max_features='auto', random_state=1219431313),\n",
       " DecisionTreeClassifier(max_features='auto', random_state=690665343),\n",
       " DecisionTreeClassifier(max_features='auto', random_state=1311527789),\n",
       " DecisionTreeClassifier(max_features='auto', random_state=209310033),\n",
       " DecisionTreeClassifier(max_features='auto', random_state=2085695169),\n",
       " DecisionTreeClassifier(max_features='auto', random_state=824183605),\n",
       " DecisionTreeClassifier(max_features='auto', random_state=1925967010),\n",
       " DecisionTreeClassifier(max_features='auto', random_state=652668623),\n",
       " DecisionTreeClassifier(max_features='auto', random_state=2123678652),\n",
       " DecisionTreeClassifier(max_features='auto', random_state=963229352),\n",
       " DecisionTreeClassifier(max_features='auto', random_state=755593187),\n",
       " DecisionTreeClassifier(max_features='auto', random_state=911302816),\n",
       " DecisionTreeClassifier(max_features='auto', random_state=77633091),\n",
       " DecisionTreeClassifier(max_features='auto', random_state=1018977056),\n",
       " DecisionTreeClassifier(max_features='auto', random_state=2121257357),\n",
       " DecisionTreeClassifier(max_features='auto', random_state=1397581076),\n",
       " DecisionTreeClassifier(max_features='auto', random_state=768037679),\n",
       " DecisionTreeClassifier(max_features='auto', random_state=1058672531),\n",
       " DecisionTreeClassifier(max_features='auto', random_state=1573971447),\n",
       " DecisionTreeClassifier(max_features='auto', random_state=642668415),\n",
       " DecisionTreeClassifier(max_features='auto', random_state=1048704391),\n",
       " DecisionTreeClassifier(max_features='auto', random_state=1499903110),\n",
       " DecisionTreeClassifier(max_features='auto', random_state=948929730),\n",
       " DecisionTreeClassifier(max_features='auto', random_state=676942224),\n",
       " DecisionTreeClassifier(max_features='auto', random_state=1323111039),\n",
       " DecisionTreeClassifier(max_features='auto', random_state=293383200),\n",
       " DecisionTreeClassifier(max_features='auto', random_state=182708911),\n",
       " DecisionTreeClassifier(max_features='auto', random_state=402330059),\n",
       " DecisionTreeClassifier(max_features='auto', random_state=37856186),\n",
       " DecisionTreeClassifier(max_features='auto', random_state=1579327346),\n",
       " DecisionTreeClassifier(max_features='auto', random_state=585544149),\n",
       " DecisionTreeClassifier(max_features='auto', random_state=1139035510),\n",
       " DecisionTreeClassifier(max_features='auto', random_state=1075725333),\n",
       " DecisionTreeClassifier(max_features='auto', random_state=1047927533),\n",
       " DecisionTreeClassifier(max_features='auto', random_state=385992349),\n",
       " DecisionTreeClassifier(max_features='auto', random_state=2031564837),\n",
       " DecisionTreeClassifier(max_features='auto', random_state=2056829157),\n",
       " DecisionTreeClassifier(max_features='auto', random_state=1688341868),\n",
       " DecisionTreeClassifier(max_features='auto', random_state=2090541618),\n",
       " DecisionTreeClassifier(max_features='auto', random_state=1683827125),\n",
       " DecisionTreeClassifier(max_features='auto', random_state=1744180999),\n",
       " DecisionTreeClassifier(max_features='auto', random_state=563236122),\n",
       " DecisionTreeClassifier(max_features='auto', random_state=1865709594),\n",
       " DecisionTreeClassifier(max_features='auto', random_state=1266204897),\n",
       " DecisionTreeClassifier(max_features='auto', random_state=1503575316),\n",
       " DecisionTreeClassifier(max_features='auto', random_state=11326237),\n",
       " DecisionTreeClassifier(max_features='auto', random_state=623214176),\n",
       " DecisionTreeClassifier(max_features='auto', random_state=330299675),\n",
       " DecisionTreeClassifier(max_features='auto', random_state=725523310),\n",
       " DecisionTreeClassifier(max_features='auto', random_state=2115347391),\n",
       " DecisionTreeClassifier(max_features='auto', random_state=1564087776),\n",
       " DecisionTreeClassifier(max_features='auto', random_state=838562244),\n",
       " DecisionTreeClassifier(max_features='auto', random_state=988638203),\n",
       " DecisionTreeClassifier(max_features='auto', random_state=955424572),\n",
       " DecisionTreeClassifier(max_features='auto', random_state=2144019247),\n",
       " DecisionTreeClassifier(max_features='auto', random_state=1205908114),\n",
       " DecisionTreeClassifier(max_features='auto', random_state=309255683),\n",
       " DecisionTreeClassifier(max_features='auto', random_state=104436258),\n",
       " DecisionTreeClassifier(max_features='auto', random_state=1153430719),\n",
       " DecisionTreeClassifier(max_features='auto', random_state=624798768),\n",
       " DecisionTreeClassifier(max_features='auto', random_state=187276799),\n",
       " DecisionTreeClassifier(max_features='auto', random_state=760684560),\n",
       " DecisionTreeClassifier(max_features='auto', random_state=2124078251),\n",
       " DecisionTreeClassifier(max_features='auto', random_state=1891755227),\n",
       " DecisionTreeClassifier(max_features='auto', random_state=2018396317),\n",
       " DecisionTreeClassifier(max_features='auto', random_state=1949608412),\n",
       " DecisionTreeClassifier(max_features='auto', random_state=1200702509),\n",
       " DecisionTreeClassifier(max_features='auto', random_state=1781828980),\n",
       " DecisionTreeClassifier(max_features='auto', random_state=1647094277),\n",
       " DecisionTreeClassifier(max_features='auto', random_state=1589819490),\n",
       " DecisionTreeClassifier(max_features='auto', random_state=1063944059),\n",
       " DecisionTreeClassifier(max_features='auto', random_state=66385640),\n",
       " DecisionTreeClassifier(max_features='auto', random_state=1945928740),\n",
       " DecisionTreeClassifier(max_features='auto', random_state=1839614231),\n",
       " DecisionTreeClassifier(max_features='auto', random_state=1420561756),\n",
       " DecisionTreeClassifier(max_features='auto', random_state=1839036912),\n",
       " DecisionTreeClassifier(max_features='auto', random_state=226623789),\n",
       " DecisionTreeClassifier(max_features='auto', random_state=2004267188),\n",
       " DecisionTreeClassifier(max_features='auto', random_state=310493790),\n",
       " DecisionTreeClassifier(max_features='auto', random_state=1991232610),\n",
       " DecisionTreeClassifier(max_features='auto', random_state=2063008443),\n",
       " DecisionTreeClassifier(max_features='auto', random_state=1516164064),\n",
       " DecisionTreeClassifier(max_features='auto', random_state=323609715),\n",
       " DecisionTreeClassifier(max_features='auto', random_state=1264648382),\n",
       " DecisionTreeClassifier(max_features='auto', random_state=1312958716),\n",
       " DecisionTreeClassifier(max_features='auto', random_state=1653982164),\n",
       " DecisionTreeClassifier(max_features='auto', random_state=819956639),\n",
       " DecisionTreeClassifier(max_features='auto', random_state=1508120534),\n",
       " DecisionTreeClassifier(max_features='auto', random_state=1153090720),\n",
       " DecisionTreeClassifier(max_features='auto', random_state=1361169663),\n",
       " DecisionTreeClassifier(max_features='auto', random_state=2084261186),\n",
       " DecisionTreeClassifier(max_features='auto', random_state=727965823),\n",
       " DecisionTreeClassifier(max_features='auto', random_state=1600677905),\n",
       " DecisionTreeClassifier(max_features='auto', random_state=243959576),\n",
       " DecisionTreeClassifier(max_features='auto', random_state=1695186921),\n",
       " DecisionTreeClassifier(max_features='auto', random_state=1873270494),\n",
       " DecisionTreeClassifier(max_features='auto', random_state=1478384181),\n",
       " DecisionTreeClassifier(max_features='auto', random_state=841941561),\n",
       " DecisionTreeClassifier(max_features='auto', random_state=1846908226),\n",
       " DecisionTreeClassifier(max_features='auto', random_state=300910439),\n",
       " DecisionTreeClassifier(max_features='auto', random_state=302434989),\n",
       " DecisionTreeClassifier(max_features='auto', random_state=417369879),\n",
       " DecisionTreeClassifier(max_features='auto', random_state=897299057),\n",
       " DecisionTreeClassifier(max_features='auto', random_state=493952287),\n",
       " DecisionTreeClassifier(max_features='auto', random_state=735055790),\n",
       " DecisionTreeClassifier(max_features='auto', random_state=2104765269),\n",
       " DecisionTreeClassifier(max_features='auto', random_state=1540376214),\n",
       " DecisionTreeClassifier(max_features='auto', random_state=601656257),\n",
       " DecisionTreeClassifier(max_features='auto', random_state=1091624574),\n",
       " DecisionTreeClassifier(max_features='auto', random_state=78725274),\n",
       " DecisionTreeClassifier(max_features='auto', random_state=1268263401),\n",
       " DecisionTreeClassifier(max_features='auto', random_state=1620804993),\n",
       " DecisionTreeClassifier(max_features='auto', random_state=1385344985),\n",
       " DecisionTreeClassifier(max_features='auto', random_state=1034093328),\n",
       " DecisionTreeClassifier(max_features='auto', random_state=1497525351),\n",
       " DecisionTreeClassifier(max_features='auto', random_state=846176160),\n",
       " DecisionTreeClassifier(max_features='auto', random_state=586784136),\n",
       " DecisionTreeClassifier(max_features='auto', random_state=869662506),\n",
       " DecisionTreeClassifier(max_features='auto', random_state=897265909),\n",
       " DecisionTreeClassifier(max_features='auto', random_state=1544002735),\n",
       " DecisionTreeClassifier(max_features='auto', random_state=226860070),\n",
       " DecisionTreeClassifier(max_features='auto', random_state=1260967388),\n",
       " DecisionTreeClassifier(max_features='auto', random_state=1273501353),\n",
       " DecisionTreeClassifier(max_features='auto', random_state=1328696054),\n",
       " DecisionTreeClassifier(max_features='auto', random_state=1802945049),\n",
       " DecisionTreeClassifier(max_features='auto', random_state=1331926882),\n",
       " DecisionTreeClassifier(max_features='auto', random_state=1100400433),\n",
       " DecisionTreeClassifier(max_features='auto', random_state=1576563608),\n",
       " DecisionTreeClassifier(max_features='auto', random_state=478947735),\n",
       " DecisionTreeClassifier(max_features='auto', random_state=1774854668),\n",
       " DecisionTreeClassifier(max_features='auto', random_state=350444347),\n",
       " DecisionTreeClassifier(max_features='auto', random_state=48715257),\n",
       " DecisionTreeClassifier(max_features='auto', random_state=22268806),\n",
       " DecisionTreeClassifier(max_features='auto', random_state=6512440),\n",
       " DecisionTreeClassifier(max_features='auto', random_state=549302307),\n",
       " DecisionTreeClassifier(max_features='auto', random_state=1281168044),\n",
       " DecisionTreeClassifier(max_features='auto', random_state=834400275),\n",
       " DecisionTreeClassifier(max_features='auto', random_state=644090176),\n",
       " DecisionTreeClassifier(max_features='auto', random_state=304688903),\n",
       " DecisionTreeClassifier(max_features='auto', random_state=867441151),\n",
       " DecisionTreeClassifier(max_features='auto', random_state=1704173549),\n",
       " DecisionTreeClassifier(max_features='auto', random_state=1270419855),\n",
       " DecisionTreeClassifier(max_features='auto', random_state=218049165),\n",
       " DecisionTreeClassifier(max_features='auto', random_state=1675060171),\n",
       " DecisionTreeClassifier(max_features='auto', random_state=1660508018),\n",
       " DecisionTreeClassifier(max_features='auto', random_state=1451678166),\n",
       " DecisionTreeClassifier(max_features='auto', random_state=118613134),\n",
       " DecisionTreeClassifier(max_features='auto', random_state=1613116507),\n",
       " DecisionTreeClassifier(max_features='auto', random_state=338722145),\n",
       " DecisionTreeClassifier(max_features='auto', random_state=403649345),\n",
       " DecisionTreeClassifier(max_features='auto', random_state=1883232031),\n",
       " DecisionTreeClassifier(max_features='auto', random_state=336210646),\n",
       " DecisionTreeClassifier(max_features='auto', random_state=738846654),\n",
       " DecisionTreeClassifier(max_features='auto', random_state=154370901),\n",
       " DecisionTreeClassifier(max_features='auto', random_state=1409404978),\n",
       " DecisionTreeClassifier(max_features='auto', random_state=1999728280),\n",
       " DecisionTreeClassifier(max_features='auto', random_state=665898681),\n",
       " DecisionTreeClassifier(max_features='auto', random_state=183157310),\n",
       " DecisionTreeClassifier(max_features='auto', random_state=2069490877),\n",
       " DecisionTreeClassifier(max_features='auto', random_state=1230685308),\n",
       " DecisionTreeClassifier(max_features='auto', random_state=1455708309),\n",
       " DecisionTreeClassifier(max_features='auto', random_state=390125881),\n",
       " DecisionTreeClassifier(max_features='auto', random_state=1547926073),\n",
       " DecisionTreeClassifier(max_features='auto', random_state=130997589),\n",
       " DecisionTreeClassifier(max_features='auto', random_state=1074821424),\n",
       " DecisionTreeClassifier(max_features='auto', random_state=160409267),\n",
       " DecisionTreeClassifier(max_features='auto', random_state=166793897),\n",
       " DecisionTreeClassifier(max_features='auto', random_state=1385558853),\n",
       " DecisionTreeClassifier(max_features='auto', random_state=1302515470),\n",
       " DecisionTreeClassifier(max_features='auto', random_state=1547007029),\n",
       " DecisionTreeClassifier(max_features='auto', random_state=159267818),\n",
       " DecisionTreeClassifier(max_features='auto', random_state=545720763),\n",
       " DecisionTreeClassifier(max_features='auto', random_state=1402956388),\n",
       " DecisionTreeClassifier(max_features='auto', random_state=95534048),\n",
       " DecisionTreeClassifier(max_features='auto', random_state=1408186631),\n",
       " DecisionTreeClassifier(max_features='auto', random_state=1159613492),\n",
       " DecisionTreeClassifier(max_features='auto', random_state=1166267963),\n",
       " DecisionTreeClassifier(max_features='auto', random_state=926944235),\n",
       " DecisionTreeClassifier(max_features='auto', random_state=1998241387),\n",
       " DecisionTreeClassifier(max_features='auto', random_state=527810564),\n",
       " DecisionTreeClassifier(max_features='auto', random_state=1963938918),\n",
       " DecisionTreeClassifier(max_features='auto', random_state=366564547),\n",
       " DecisionTreeClassifier(max_features='auto', random_state=1468977925),\n",
       " DecisionTreeClassifier(max_features='auto', random_state=221971308),\n",
       " DecisionTreeClassifier(max_features='auto', random_state=834855903),\n",
       " DecisionTreeClassifier(max_features='auto', random_state=134667123),\n",
       " DecisionTreeClassifier(max_features='auto', random_state=1766751581),\n",
       " DecisionTreeClassifier(max_features='auto', random_state=174526510),\n",
       " DecisionTreeClassifier(max_features='auto', random_state=856898402),\n",
       " DecisionTreeClassifier(max_features='auto', random_state=590256950),\n",
       " DecisionTreeClassifier(max_features='auto', random_state=594221991),\n",
       " DecisionTreeClassifier(max_features='auto', random_state=971054899),\n",
       " DecisionTreeClassifier(max_features='auto', random_state=570137231),\n",
       " DecisionTreeClassifier(max_features='auto', random_state=2043769100),\n",
       " DecisionTreeClassifier(max_features='auto', random_state=2016645489),\n",
       " DecisionTreeClassifier(max_features='auto', random_state=70009467),\n",
       " DecisionTreeClassifier(max_features='auto', random_state=921678953),\n",
       " DecisionTreeClassifier(max_features='auto', random_state=1387087517),\n",
       " DecisionTreeClassifier(max_features='auto', random_state=176383634),\n",
       " DecisionTreeClassifier(max_features='auto', random_state=1267815056),\n",
       " DecisionTreeClassifier(max_features='auto', random_state=1712922743),\n",
       " DecisionTreeClassifier(max_features='auto', random_state=1163215678),\n",
       " DecisionTreeClassifier(max_features='auto', random_state=1861957394),\n",
       " DecisionTreeClassifier(max_features='auto', random_state=1885367899),\n",
       " DecisionTreeClassifier(max_features='auto', random_state=1048155193),\n",
       " DecisionTreeClassifier(max_features='auto', random_state=336967606),\n",
       " DecisionTreeClassifier(max_features='auto', random_state=1077437785),\n",
       " DecisionTreeClassifier(max_features='auto', random_state=108880612),\n",
       " DecisionTreeClassifier(max_features='auto', random_state=791707097),\n",
       " DecisionTreeClassifier(max_features='auto', random_state=1987059828),\n",
       " DecisionTreeClassifier(max_features='auto', random_state=347346749),\n",
       " DecisionTreeClassifier(max_features='auto', random_state=1443023638),\n",
       " DecisionTreeClassifier(max_features='auto', random_state=1839596670),\n",
       " DecisionTreeClassifier(max_features='auto', random_state=841702792),\n",
       " DecisionTreeClassifier(max_features='auto', random_state=809600907),\n",
       " DecisionTreeClassifier(max_features='auto', random_state=1756439540),\n",
       " DecisionTreeClassifier(max_features='auto', random_state=249939584),\n",
       " DecisionTreeClassifier(max_features='auto', random_state=744293433),\n",
       " DecisionTreeClassifier(max_features='auto', random_state=1783329401),\n",
       " DecisionTreeClassifier(max_features='auto', random_state=671891968),\n",
       " DecisionTreeClassifier(max_features='auto', random_state=1899888366),\n",
       " DecisionTreeClassifier(max_features='auto', random_state=1074785057),\n",
       " DecisionTreeClassifier(max_features='auto', random_state=1029878879),\n",
       " DecisionTreeClassifier(max_features='auto', random_state=211426941),\n",
       " DecisionTreeClassifier(max_features='auto', random_state=403182709),\n",
       " DecisionTreeClassifier(max_features='auto', random_state=921682479),\n",
       " DecisionTreeClassifier(max_features='auto', random_state=785403480),\n",
       " DecisionTreeClassifier(max_features='auto', random_state=688042471),\n",
       " DecisionTreeClassifier(max_features='auto', random_state=1866652908),\n",
       " DecisionTreeClassifier(max_features='auto', random_state=1202306932),\n",
       " DecisionTreeClassifier(max_features='auto', random_state=593867648),\n",
       " DecisionTreeClassifier(max_features='auto', random_state=1953631503),\n",
       " DecisionTreeClassifier(max_features='auto', random_state=71709884),\n",
       " DecisionTreeClassifier(max_features='auto', random_state=1021759462),\n",
       " DecisionTreeClassifier(max_features='auto', random_state=674788031),\n",
       " DecisionTreeClassifier(max_features='auto', random_state=233448894),\n",
       " DecisionTreeClassifier(max_features='auto', random_state=1871200836),\n",
       " DecisionTreeClassifier(max_features='auto', random_state=479836949),\n",
       " DecisionTreeClassifier(max_features='auto', random_state=988011356),\n",
       " DecisionTreeClassifier(max_features='auto', random_state=1802168566),\n",
       " DecisionTreeClassifier(max_features='auto', random_state=204939202),\n",
       " DecisionTreeClassifier(max_features='auto', random_state=1063996491),\n",
       " DecisionTreeClassifier(max_features='auto', random_state=283627673),\n",
       " DecisionTreeClassifier(max_features='auto', random_state=1528891023),\n",
       " DecisionTreeClassifier(max_features='auto', random_state=681381298),\n",
       " DecisionTreeClassifier(max_features='auto', random_state=1107440612),\n",
       " DecisionTreeClassifier(max_features='auto', random_state=516103253),\n",
       " DecisionTreeClassifier(max_features='auto', random_state=61819576),\n",
       " DecisionTreeClassifier(max_features='auto', random_state=1468362012),\n",
       " DecisionTreeClassifier(max_features='auto', random_state=498528205),\n",
       " DecisionTreeClassifier(max_features='auto', random_state=394274011),\n",
       " DecisionTreeClassifier(max_features='auto', random_state=197579844),\n",
       " DecisionTreeClassifier(max_features='auto', random_state=404401198),\n",
       " DecisionTreeClassifier(max_features='auto', random_state=174928880),\n",
       " DecisionTreeClassifier(max_features='auto', random_state=1337509981),\n",
       " DecisionTreeClassifier(max_features='auto', random_state=1526691565),\n",
       " DecisionTreeClassifier(max_features='auto', random_state=2059482045),\n",
       " DecisionTreeClassifier(max_features='auto', random_state=874703859),\n",
       " DecisionTreeClassifier(max_features='auto', random_state=753037764),\n",
       " DecisionTreeClassifier(max_features='auto', random_state=2036561099),\n",
       " DecisionTreeClassifier(max_features='auto', random_state=73706383),\n",
       " DecisionTreeClassifier(max_features='auto', random_state=420194521),\n",
       " DecisionTreeClassifier(max_features='auto', random_state=1131141593),\n",
       " DecisionTreeClassifier(max_features='auto', random_state=2111474095),\n",
       " DecisionTreeClassifier(max_features='auto', random_state=1318181204),\n",
       " DecisionTreeClassifier(max_features='auto', random_state=2033545766),\n",
       " DecisionTreeClassifier(max_features='auto', random_state=1487365731),\n",
       " DecisionTreeClassifier(max_features='auto', random_state=743896352),\n",
       " DecisionTreeClassifier(max_features='auto', random_state=1995758845),\n",
       " DecisionTreeClassifier(max_features='auto', random_state=1863378653),\n",
       " DecisionTreeClassifier(max_features='auto', random_state=643273060),\n",
       " DecisionTreeClassifier(max_features='auto', random_state=1711564822),\n",
       " DecisionTreeClassifier(max_features='auto', random_state=206411513),\n",
       " DecisionTreeClassifier(max_features='auto', random_state=497572361),\n",
       " DecisionTreeClassifier(max_features='auto', random_state=1929066229),\n",
       " DecisionTreeClassifier(max_features='auto', random_state=580222788),\n",
       " DecisionTreeClassifier(max_features='auto', random_state=1660779619),\n",
       " DecisionTreeClassifier(max_features='auto', random_state=194579233),\n",
       " DecisionTreeClassifier(max_features='auto', random_state=1120529587),\n",
       " DecisionTreeClassifier(max_features='auto', random_state=1608948958),\n",
       " DecisionTreeClassifier(max_features='auto', random_state=65732489),\n",
       " DecisionTreeClassifier(max_features='auto', random_state=540564217),\n",
       " DecisionTreeClassifier(max_features='auto', random_state=1861594770),\n",
       " DecisionTreeClassifier(max_features='auto', random_state=13470137),\n",
       " DecisionTreeClassifier(max_features='auto', random_state=4466271),\n",
       " DecisionTreeClassifier(max_features='auto', random_state=1531112192),\n",
       " DecisionTreeClassifier(max_features='auto', random_state=169124855),\n",
       " DecisionTreeClassifier(max_features='auto', random_state=681583940),\n",
       " DecisionTreeClassifier(max_features='auto', random_state=790118380),\n",
       " DecisionTreeClassifier(max_features='auto', random_state=699798019),\n",
       " DecisionTreeClassifier(max_features='auto', random_state=497576975),\n",
       " DecisionTreeClassifier(max_features='auto', random_state=303090455),\n",
       " DecisionTreeClassifier(max_features='auto', random_state=1906499919),\n",
       " DecisionTreeClassifier(max_features='auto', random_state=611686134),\n",
       " DecisionTreeClassifier(max_features='auto', random_state=1908046081),\n",
       " DecisionTreeClassifier(max_features='auto', random_state=113865200),\n",
       " DecisionTreeClassifier(max_features='auto', random_state=1577107419),\n",
       " DecisionTreeClassifier(max_features='auto', random_state=368403327),\n",
       " DecisionTreeClassifier(max_features='auto', random_state=585848991),\n",
       " DecisionTreeClassifier(max_features='auto', random_state=1890774490),\n",
       " DecisionTreeClassifier(max_features='auto', random_state=1292567379),\n",
       " DecisionTreeClassifier(max_features='auto', random_state=324159127),\n",
       " DecisionTreeClassifier(max_features='auto', random_state=760932235),\n",
       " DecisionTreeClassifier(max_features='auto', random_state=1667177137),\n",
       " DecisionTreeClassifier(max_features='auto', random_state=315109026),\n",
       " DecisionTreeClassifier(max_features='auto', random_state=615418235),\n",
       " DecisionTreeClassifier(max_features='auto', random_state=551904800),\n",
       " DecisionTreeClassifier(max_features='auto', random_state=1968181152),\n",
       " DecisionTreeClassifier(max_features='auto', random_state=1336611772),\n",
       " DecisionTreeClassifier(max_features='auto', random_state=195922610),\n",
       " DecisionTreeClassifier(max_features='auto', random_state=1377136042),\n",
       " DecisionTreeClassifier(max_features='auto', random_state=1896076900),\n",
       " DecisionTreeClassifier(max_features='auto', random_state=540906763),\n",
       " DecisionTreeClassifier(max_features='auto', random_state=1658298178),\n",
       " DecisionTreeClassifier(max_features='auto', random_state=1376222784),\n",
       " DecisionTreeClassifier(max_features='auto', random_state=1980798368),\n",
       " DecisionTreeClassifier(max_features='auto', random_state=650622119),\n",
       " DecisionTreeClassifier(max_features='auto', random_state=1740967753),\n",
       " DecisionTreeClassifier(max_features='auto', random_state=887702570),\n",
       " DecisionTreeClassifier(max_features='auto', random_state=840916523),\n",
       " DecisionTreeClassifier(max_features='auto', random_state=1176654108),\n",
       " DecisionTreeClassifier(max_features='auto', random_state=297904524),\n",
       " DecisionTreeClassifier(max_features='auto', random_state=921653259),\n",
       " DecisionTreeClassifier(max_features='auto', random_state=432838238),\n",
       " DecisionTreeClassifier(max_features='auto', random_state=1620315437),\n",
       " DecisionTreeClassifier(max_features='auto', random_state=78262145),\n",
       " DecisionTreeClassifier(max_features='auto', random_state=167345404),\n",
       " DecisionTreeClassifier(max_features='auto', random_state=405629426),\n",
       " DecisionTreeClassifier(max_features='auto', random_state=507896561),\n",
       " DecisionTreeClassifier(max_features='auto', random_state=786008098),\n",
       " DecisionTreeClassifier(max_features='auto', random_state=1445489366),\n",
       " DecisionTreeClassifier(max_features='auto', random_state=305752912),\n",
       " DecisionTreeClassifier(max_features='auto', random_state=668823641),\n",
       " DecisionTreeClassifier(max_features='auto', random_state=1369989895),\n",
       " DecisionTreeClassifier(max_features='auto', random_state=1655265884),\n",
       " DecisionTreeClassifier(max_features='auto', random_state=1481228185),\n",
       " DecisionTreeClassifier(max_features='auto', random_state=780024777),\n",
       " DecisionTreeClassifier(max_features='auto', random_state=99952217),\n",
       " DecisionTreeClassifier(max_features='auto', random_state=1462971389),\n",
       " DecisionTreeClassifier(max_features='auto', random_state=1350631841),\n",
       " DecisionTreeClassifier(max_features='auto', random_state=1119674482),\n",
       " DecisionTreeClassifier(max_features='auto', random_state=1210557032),\n",
       " DecisionTreeClassifier(max_features='auto', random_state=2130464646),\n",
       " DecisionTreeClassifier(max_features='auto', random_state=507514051),\n",
       " DecisionTreeClassifier(max_features='auto', random_state=828457785),\n",
       " DecisionTreeClassifier(max_features='auto', random_state=844979700),\n",
       " DecisionTreeClassifier(max_features='auto', random_state=1496094321),\n",
       " DecisionTreeClassifier(max_features='auto', random_state=553805292),\n",
       " DecisionTreeClassifier(max_features='auto', random_state=1875389514),\n",
       " DecisionTreeClassifier(max_features='auto', random_state=1621229980),\n",
       " DecisionTreeClassifier(max_features='auto', random_state=168303991),\n",
       " DecisionTreeClassifier(max_features='auto', random_state=1009622435),\n",
       " DecisionTreeClassifier(max_features='auto', random_state=1795064536),\n",
       " DecisionTreeClassifier(max_features='auto', random_state=1303440660),\n",
       " DecisionTreeClassifier(max_features='auto', random_state=2008243196),\n",
       " DecisionTreeClassifier(max_features='auto', random_state=1211329272),\n",
       " DecisionTreeClassifier(max_features='auto', random_state=206037667),\n",
       " DecisionTreeClassifier(max_features='auto', random_state=762097033),\n",
       " DecisionTreeClassifier(max_features='auto', random_state=1818793828),\n",
       " DecisionTreeClassifier(max_features='auto', random_state=1076382152),\n",
       " DecisionTreeClassifier(max_features='auto', random_state=294292375),\n",
       " DecisionTreeClassifier(max_features='auto', random_state=1317845183),\n",
       " DecisionTreeClassifier(max_features='auto', random_state=326093538),\n",
       " DecisionTreeClassifier(max_features='auto', random_state=2106703536),\n",
       " DecisionTreeClassifier(max_features='auto', random_state=994919522),\n",
       " DecisionTreeClassifier(max_features='auto', random_state=1772179439),\n",
       " DecisionTreeClassifier(max_features='auto', random_state=548423203),\n",
       " DecisionTreeClassifier(max_features='auto', random_state=1597805521),\n",
       " DecisionTreeClassifier(max_features='auto', random_state=1073812464),\n",
       " DecisionTreeClassifier(max_features='auto', random_state=1187184614),\n",
       " DecisionTreeClassifier(max_features='auto', random_state=345933919),\n",
       " DecisionTreeClassifier(max_features='auto', random_state=1463740055),\n",
       " DecisionTreeClassifier(max_features='auto', random_state=1576753814),\n",
       " DecisionTreeClassifier(max_features='auto', random_state=1850088637),\n",
       " DecisionTreeClassifier(max_features='auto', random_state=265715423),\n",
       " DecisionTreeClassifier(max_features='auto', random_state=1539371044),\n",
       " DecisionTreeClassifier(max_features='auto', random_state=1024765707),\n",
       " DecisionTreeClassifier(max_features='auto', random_state=1842515312),\n",
       " DecisionTreeClassifier(max_features='auto', random_state=772427446),\n",
       " DecisionTreeClassifier(max_features='auto', random_state=1077483020),\n",
       " DecisionTreeClassifier(max_features='auto', random_state=1030400278),\n",
       " DecisionTreeClassifier(max_features='auto', random_state=1093253336),\n",
       " DecisionTreeClassifier(max_features='auto', random_state=1023216482),\n",
       " DecisionTreeClassifier(max_features='auto', random_state=442913640),\n",
       " DecisionTreeClassifier(max_features='auto', random_state=1622333213),\n",
       " DecisionTreeClassifier(max_features='auto', random_state=1728951568),\n",
       " DecisionTreeClassifier(max_features='auto', random_state=147435376),\n",
       " DecisionTreeClassifier(max_features='auto', random_state=22558781),\n",
       " DecisionTreeClassifier(max_features='auto', random_state=2132714067),\n",
       " DecisionTreeClassifier(max_features='auto', random_state=1402124143),\n",
       " DecisionTreeClassifier(max_features='auto', random_state=1673396952),\n",
       " DecisionTreeClassifier(max_features='auto', random_state=1374602581),\n",
       " DecisionTreeClassifier(max_features='auto', random_state=1278333324),\n",
       " DecisionTreeClassifier(max_features='auto', random_state=1698759354),\n",
       " DecisionTreeClassifier(max_features='auto', random_state=429431826),\n",
       " DecisionTreeClassifier(max_features='auto', random_state=1671608496),\n",
       " DecisionTreeClassifier(max_features='auto', random_state=229717603),\n",
       " DecisionTreeClassifier(max_features='auto', random_state=46547339),\n",
       " DecisionTreeClassifier(max_features='auto', random_state=1969420732),\n",
       " DecisionTreeClassifier(max_features='auto', random_state=1741102312),\n",
       " DecisionTreeClassifier(max_features='auto', random_state=1490968466),\n",
       " DecisionTreeClassifier(max_features='auto', random_state=392073291),\n",
       " DecisionTreeClassifier(max_features='auto', random_state=1524306184),\n",
       " DecisionTreeClassifier(max_features='auto', random_state=1371441606),\n",
       " DecisionTreeClassifier(max_features='auto', random_state=1961944859),\n",
       " DecisionTreeClassifier(max_features='auto', random_state=1933001421),\n",
       " DecisionTreeClassifier(max_features='auto', random_state=759220958),\n",
       " DecisionTreeClassifier(max_features='auto', random_state=1935342975),\n",
       " DecisionTreeClassifier(max_features='auto', random_state=2072411699),\n",
       " DecisionTreeClassifier(max_features='auto', random_state=315413330),\n",
       " DecisionTreeClassifier(max_features='auto', random_state=2117529081),\n",
       " DecisionTreeClassifier(max_features='auto', random_state=566236526),\n",
       " DecisionTreeClassifier(max_features='auto', random_state=357703823),\n",
       " DecisionTreeClassifier(max_features='auto', random_state=1926058868),\n",
       " DecisionTreeClassifier(max_features='auto', random_state=393866308),\n",
       " DecisionTreeClassifier(max_features='auto', random_state=1259330658),\n",
       " DecisionTreeClassifier(max_features='auto', random_state=439980427),\n",
       " DecisionTreeClassifier(max_features='auto', random_state=1411603480),\n",
       " DecisionTreeClassifier(max_features='auto', random_state=230652851),\n",
       " DecisionTreeClassifier(max_features='auto', random_state=740961146),\n",
       " DecisionTreeClassifier(max_features='auto', random_state=913659348),\n",
       " DecisionTreeClassifier(max_features='auto', random_state=1083940323),\n",
       " DecisionTreeClassifier(max_features='auto', random_state=1916390964),\n",
       " DecisionTreeClassifier(max_features='auto', random_state=1252322454),\n",
       " DecisionTreeClassifier(max_features='auto', random_state=1208157327),\n",
       " DecisionTreeClassifier(max_features='auto', random_state=1243900472),\n",
       " DecisionTreeClassifier(max_features='auto', random_state=487326758),\n",
       " DecisionTreeClassifier(max_features='auto', random_state=391727212),\n",
       " DecisionTreeClassifier(max_features='auto', random_state=1850826420),\n",
       " DecisionTreeClassifier(max_features='auto', random_state=2123519017),\n",
       " DecisionTreeClassifier(max_features='auto', random_state=2036880569),\n",
       " DecisionTreeClassifier(max_features='auto', random_state=247212966),\n",
       " DecisionTreeClassifier(max_features='auto', random_state=2130008461),\n",
       " DecisionTreeClassifier(max_features='auto', random_state=212724958),\n",
       " DecisionTreeClassifier(max_features='auto', random_state=239964793),\n",
       " DecisionTreeClassifier(max_features='auto', random_state=1896359044),\n",
       " DecisionTreeClassifier(max_features='auto', random_state=1018059938),\n",
       " DecisionTreeClassifier(max_features='auto', random_state=1665176790),\n",
       " DecisionTreeClassifier(max_features='auto', random_state=197206748),\n",
       " DecisionTreeClassifier(max_features='auto', random_state=1507168490),\n",
       " DecisionTreeClassifier(max_features='auto', random_state=884039498),\n",
       " DecisionTreeClassifier(max_features='auto', random_state=502798993),\n",
       " DecisionTreeClassifier(max_features='auto', random_state=2012844782),\n",
       " DecisionTreeClassifier(max_features='auto', random_state=614144587),\n",
       " DecisionTreeClassifier(max_features='auto', random_state=807582728),\n",
       " DecisionTreeClassifier(max_features='auto', random_state=1123179593),\n",
       " DecisionTreeClassifier(max_features='auto', random_state=1447248825),\n",
       " DecisionTreeClassifier(max_features='auto', random_state=507742699),\n",
       " DecisionTreeClassifier(max_features='auto', random_state=1575689104),\n",
       " DecisionTreeClassifier(max_features='auto', random_state=434318588),\n",
       " DecisionTreeClassifier(max_features='auto', random_state=1453763813),\n",
       " DecisionTreeClassifier(max_features='auto', random_state=361235974),\n",
       " DecisionTreeClassifier(max_features='auto', random_state=1830048941),\n",
       " DecisionTreeClassifier(max_features='auto', random_state=863155852),\n",
       " DecisionTreeClassifier(max_features='auto', random_state=955958439),\n",
       " DecisionTreeClassifier(max_features='auto', random_state=312514729),\n",
       " DecisionTreeClassifier(max_features='auto', random_state=1703605640),\n",
       " DecisionTreeClassifier(max_features='auto', random_state=1382378417),\n",
       " DecisionTreeClassifier(max_features='auto', random_state=1683184410),\n",
       " DecisionTreeClassifier(max_features='auto', random_state=885803641),\n",
       " DecisionTreeClassifier(max_features='auto', random_state=629662913),\n",
       " DecisionTreeClassifier(max_features='auto', random_state=349390340),\n",
       " DecisionTreeClassifier(max_features='auto', random_state=57235484),\n",
       " DecisionTreeClassifier(max_features='auto', random_state=364375204),\n",
       " DecisionTreeClassifier(max_features='auto', random_state=1001706917),\n",
       " DecisionTreeClassifier(max_features='auto', random_state=2090101074),\n",
       " DecisionTreeClassifier(max_features='auto', random_state=349204103),\n",
       " DecisionTreeClassifier(max_features='auto', random_state=1607480815),\n",
       " DecisionTreeClassifier(max_features='auto', random_state=1559668076),\n",
       " DecisionTreeClassifier(max_features='auto', random_state=1591895872),\n",
       " DecisionTreeClassifier(max_features='auto', random_state=1633633621),\n",
       " DecisionTreeClassifier(max_features='auto', random_state=1343463923),\n",
       " DecisionTreeClassifier(max_features='auto', random_state=1016555152),\n",
       " DecisionTreeClassifier(max_features='auto', random_state=1920918014),\n",
       " DecisionTreeClassifier(max_features='auto', random_state=1751031110),\n",
       " DecisionTreeClassifier(max_features='auto', random_state=2087358680),\n",
       " DecisionTreeClassifier(max_features='auto', random_state=394659116),\n",
       " DecisionTreeClassifier(max_features='auto', random_state=1088251011),\n",
       " DecisionTreeClassifier(max_features='auto', random_state=1504175907),\n",
       " DecisionTreeClassifier(max_features='auto', random_state=1616022597),\n",
       " DecisionTreeClassifier(max_features='auto', random_state=894131451),\n",
       " DecisionTreeClassifier(max_features='auto', random_state=358632862),\n",
       " DecisionTreeClassifier(max_features='auto', random_state=2068743954),\n",
       " DecisionTreeClassifier(max_features='auto', random_state=1190336956),\n",
       " DecisionTreeClassifier(max_features='auto', random_state=1623444331),\n",
       " DecisionTreeClassifier(max_features='auto', random_state=250844341),\n",
       " DecisionTreeClassifier(max_features='auto', random_state=880830630),\n",
       " DecisionTreeClassifier(max_features='auto', random_state=1822019674),\n",
       " DecisionTreeClassifier(max_features='auto', random_state=1068262089),\n",
       " DecisionTreeClassifier(max_features='auto', random_state=1745278809),\n",
       " DecisionTreeClassifier(max_features='auto', random_state=1418423826),\n",
       " DecisionTreeClassifier(max_features='auto', random_state=477589542),\n",
       " DecisionTreeClassifier(max_features='auto', random_state=1865956477),\n",
       " DecisionTreeClassifier(max_features='auto', random_state=2115808706),\n",
       " DecisionTreeClassifier(max_features='auto', random_state=1089556652),\n",
       " DecisionTreeClassifier(max_features='auto', random_state=48763532),\n",
       " DecisionTreeClassifier(max_features='auto', random_state=1740329713),\n",
       " DecisionTreeClassifier(max_features='auto', random_state=2012882139),\n",
       " DecisionTreeClassifier(max_features='auto', random_state=306974333),\n",
       " DecisionTreeClassifier(max_features='auto', random_state=241820729),\n",
       " DecisionTreeClassifier(max_features='auto', random_state=1034974867),\n",
       " DecisionTreeClassifier(max_features='auto', random_state=510319067),\n",
       " DecisionTreeClassifier(max_features='auto', random_state=1147593159),\n",
       " DecisionTreeClassifier(max_features='auto', random_state=504771388),\n",
       " DecisionTreeClassifier(max_features='auto', random_state=1386374014),\n",
       " DecisionTreeClassifier(max_features='auto', random_state=640853352),\n",
       " DecisionTreeClassifier(max_features='auto', random_state=1048881062),\n",
       " DecisionTreeClassifier(max_features='auto', random_state=1056754688),\n",
       " DecisionTreeClassifier(max_features='auto', random_state=777558402),\n",
       " DecisionTreeClassifier(max_features='auto', random_state=358066124),\n",
       " DecisionTreeClassifier(max_features='auto', random_state=1020082523),\n",
       " DecisionTreeClassifier(max_features='auto', random_state=1985015997),\n",
       " DecisionTreeClassifier(max_features='auto', random_state=1718944248),\n",
       " DecisionTreeClassifier(max_features='auto', random_state=1610056894),\n",
       " DecisionTreeClassifier(max_features='auto', random_state=2051769851),\n",
       " DecisionTreeClassifier(max_features='auto', random_state=1227124080),\n",
       " DecisionTreeClassifier(max_features='auto', random_state=356015512),\n",
       " DecisionTreeClassifier(max_features='auto', random_state=1583121207),\n",
       " DecisionTreeClassifier(max_features='auto', random_state=121848736),\n",
       " DecisionTreeClassifier(max_features='auto', random_state=960336805),\n",
       " DecisionTreeClassifier(max_features='auto', random_state=1874048116),\n",
       " DecisionTreeClassifier(max_features='auto', random_state=1989525637),\n",
       " DecisionTreeClassifier(max_features='auto', random_state=1297549369),\n",
       " DecisionTreeClassifier(max_features='auto', random_state=52203051),\n",
       " DecisionTreeClassifier(max_features='auto', random_state=2052567724),\n",
       " DecisionTreeClassifier(max_features='auto', random_state=2018114207),\n",
       " DecisionTreeClassifier(max_features='auto', random_state=240539820),\n",
       " DecisionTreeClassifier(max_features='auto', random_state=185370428),\n",
       " DecisionTreeClassifier(max_features='auto', random_state=1385927470),\n",
       " DecisionTreeClassifier(max_features='auto', random_state=1679946900),\n",
       " DecisionTreeClassifier(max_features='auto', random_state=186404943),\n",
       " DecisionTreeClassifier(max_features='auto', random_state=118975349),\n",
       " DecisionTreeClassifier(max_features='auto', random_state=1823829204),\n",
       " DecisionTreeClassifier(max_features='auto', random_state=2117267658),\n",
       " DecisionTreeClassifier(max_features='auto', random_state=1800088315),\n",
       " DecisionTreeClassifier(max_features='auto', random_state=316953828),\n",
       " DecisionTreeClassifier(max_features='auto', random_state=1086584483),\n",
       " DecisionTreeClassifier(max_features='auto', random_state=231302370),\n",
       " DecisionTreeClassifier(max_features='auto', random_state=839284370),\n",
       " DecisionTreeClassifier(max_features='auto', random_state=2015639059),\n",
       " DecisionTreeClassifier(max_features='auto', random_state=323988920),\n",
       " DecisionTreeClassifier(max_features='auto', random_state=99204497),\n",
       " DecisionTreeClassifier(max_features='auto', random_state=713889838),\n",
       " DecisionTreeClassifier(max_features='auto', random_state=555762920),\n",
       " DecisionTreeClassifier(max_features='auto', random_state=931188016),\n",
       " DecisionTreeClassifier(max_features='auto', random_state=840734221),\n",
       " DecisionTreeClassifier(max_features='auto', random_state=1264841870),\n",
       " DecisionTreeClassifier(max_features='auto', random_state=1952239006),\n",
       " DecisionTreeClassifier(max_features='auto', random_state=2129579520),\n",
       " DecisionTreeClassifier(max_features='auto', random_state=547857780),\n",
       " DecisionTreeClassifier(max_features='auto', random_state=845786677),\n",
       " DecisionTreeClassifier(max_features='auto', random_state=362127221),\n",
       " DecisionTreeClassifier(max_features='auto', random_state=1650134274),\n",
       " DecisionTreeClassifier(max_features='auto', random_state=1722960527),\n",
       " DecisionTreeClassifier(max_features='auto', random_state=1018339798),\n",
       " DecisionTreeClassifier(max_features='auto', random_state=195190712),\n",
       " DecisionTreeClassifier(max_features='auto', random_state=1783503818),\n",
       " DecisionTreeClassifier(max_features='auto', random_state=1206727691),\n",
       " DecisionTreeClassifier(max_features='auto', random_state=1970111817),\n",
       " DecisionTreeClassifier(max_features='auto', random_state=1934502623),\n",
       " DecisionTreeClassifier(max_features='auto', random_state=248523535),\n",
       " DecisionTreeClassifier(max_features='auto', random_state=1676170183),\n",
       " DecisionTreeClassifier(max_features='auto', random_state=1694458213),\n",
       " DecisionTreeClassifier(max_features='auto', random_state=1957030859),\n",
       " DecisionTreeClassifier(max_features='auto', random_state=458513815),\n",
       " DecisionTreeClassifier(max_features='auto', random_state=515965595),\n",
       " DecisionTreeClassifier(max_features='auto', random_state=1441649012),\n",
       " DecisionTreeClassifier(max_features='auto', random_state=1191343111),\n",
       " DecisionTreeClassifier(max_features='auto', random_state=728769657),\n",
       " DecisionTreeClassifier(max_features='auto', random_state=807974235),\n",
       " DecisionTreeClassifier(max_features='auto', random_state=630708899),\n",
       " DecisionTreeClassifier(max_features='auto', random_state=1991569497),\n",
       " DecisionTreeClassifier(max_features='auto', random_state=1667600007),\n",
       " DecisionTreeClassifier(max_features='auto', random_state=1517636281),\n",
       " DecisionTreeClassifier(max_features='auto', random_state=985242939),\n",
       " DecisionTreeClassifier(max_features='auto', random_state=359300273),\n",
       " DecisionTreeClassifier(max_features='auto', random_state=1142194715),\n",
       " DecisionTreeClassifier(max_features='auto', random_state=333867739),\n",
       " DecisionTreeClassifier(max_features='auto', random_state=1547670372),\n",
       " DecisionTreeClassifier(max_features='auto', random_state=2037510184),\n",
       " DecisionTreeClassifier(max_features='auto', random_state=1116476131),\n",
       " DecisionTreeClassifier(max_features='auto', random_state=2088259263),\n",
       " DecisionTreeClassifier(max_features='auto', random_state=1946654618)]"
      ]
     },
     "execution_count": 190,
     "metadata": {},
     "output_type": "execute_result"
    }
   ],
   "source": [
    "model_estimators = rfc.estimators_ \n",
    "print(len(model_estimators))\n",
    "model_estimators"
   ]
  },
  {
   "cell_type": "code",
   "execution_count": 191,
   "metadata": {
    "hidden": true
   },
   "outputs": [
    {
     "name": "stdout",
     "output_type": "stream",
     "text": [
      "Overall model's score was 0.773\n",
      "======================================================================\n"
     ]
    },
    {
     "data": {
      "text/plain": [
       "DecisionTreeClassifier(max_features='auto', random_state=1547670372)"
      ]
     },
     "metadata": {},
     "output_type": "display_data"
    },
    {
     "name": "stdout",
     "output_type": "stream",
     "text": [
      "\tModel gave score of 0.818\n"
     ]
    },
    {
     "data": {
      "text/plain": [
       "DecisionTreeClassifier(max_features='auto', random_state=2037510184)"
      ]
     },
     "metadata": {},
     "output_type": "display_data"
    },
    {
     "name": "stdout",
     "output_type": "stream",
     "text": [
      "\tModel gave score of 0.803\n"
     ]
    },
    {
     "data": {
      "text/plain": [
       "DecisionTreeClassifier(max_features='auto', random_state=1116476131)"
      ]
     },
     "metadata": {},
     "output_type": "display_data"
    },
    {
     "name": "stdout",
     "output_type": "stream",
     "text": [
      "\tModel gave score of 0.485\n"
     ]
    },
    {
     "data": {
      "text/plain": [
       "DecisionTreeClassifier(max_features='auto', random_state=2088259263)"
      ]
     },
     "metadata": {},
     "output_type": "display_data"
    },
    {
     "name": "stdout",
     "output_type": "stream",
     "text": [
      "\tModel gave score of 0.424\n"
     ]
    },
    {
     "data": {
      "text/plain": [
       "DecisionTreeClassifier(max_features='auto', random_state=1946654618)"
      ]
     },
     "metadata": {},
     "output_type": "display_data"
    },
    {
     "name": "stdout",
     "output_type": "stream",
     "text": [
      "\tModel gave score of 0.485\n"
     ]
    }
   ],
   "source": [
    "print(f'Overall model\\'s score was {rfc.score(X_te_im,y_test):.3f}')\n",
    "print('='*70)\n",
    "\n",
    "for model in model_estimators[-5:]:\n",
    "    display(model)\n",
    "    model_score = model.score(X_te_im, y_test)\n",
    "    print(f'\\tModel gave score of {model_score:.3f}')"
   ]
  },
  {
   "cell_type": "markdown",
   "metadata": {
    "heading_collapsed": true,
    "hidden": true
   },
   "source": [
    "#### Feature Importance"
   ]
  },
  {
   "cell_type": "markdown",
   "metadata": {
    "hidden": true
   },
   "source": [
    "We can use [`.feature_importances_`](https://scikit-learn.org/stable/modules/generated/sklearn.ensemble.RandomForestClassifier.html#sklearn.ensemble.RandomForestClassifier.feature_importances_) property of the trained model to get an idea of what features mattered the most"
   ]
  },
  {
   "cell_type": "code",
   "execution_count": 116,
   "metadata": {
    "hidden": true
   },
   "outputs": [
    {
     "data": {
      "text/plain": [
       "array([0.18970814, 0.12480799, 0.16589862, 0.12864823, 0.16973886,\n",
       "       0.10599078, 0.11520737])"
      ]
     },
     "execution_count": 116,
     "metadata": {},
     "output_type": "execute_result"
    }
   ],
   "source": [
    "rfc.feature_importances_"
   ]
  },
  {
   "cell_type": "code",
   "execution_count": 117,
   "metadata": {
    "hidden": true
   },
   "outputs": [
    {
     "data": {
      "text/plain": [
       "{'mpg': 0.18970814132104455,\n",
       " 'cylinders': 0.12480798771121351,\n",
       " 'cubicinches': 0.16589861751152074,\n",
       " 'hp': 0.12864823348694315,\n",
       " 'weightlbs': 0.16973886328725038,\n",
       " 'time-to-60': 0.10599078341013825,\n",
       " 'year': 0.1152073732718894}"
      ]
     },
     "execution_count": 117,
     "metadata": {},
     "output_type": "execute_result"
    }
   ],
   "source": [
    "feat_import = {name: score \n",
    "                   for name, score \n",
    "                       in zip(X_train.columns, rfc.feature_importances_)\n",
    "}\n",
    "feat_import"
   ]
  },
  {
   "cell_type": "markdown",
   "metadata": {
    "heading_collapsed": true,
    "hidden": true
   },
   "source": [
    "### Extremely Randomized Trees (Extra Trees)"
   ]
  },
  {
   "cell_type": "markdown",
   "metadata": {
    "hidden": true
   },
   "source": [
    "Sometimes we might want even one more bit of randomization. Instead of always choosing the *optimal* branching path, we might just choose a branching path at random. If we're doing that, then we've got extremely randomized trees.\n",
    "\n",
    "There are now **three** levels of randomization: sampling of data, sampling of features, and random selection of branching paths."
   ]
  },
  {
   "cell_type": "code",
   "execution_count": 118,
   "metadata": {
    "hidden": true
   },
   "outputs": [],
   "source": [
    "# Instantiate an ExtraTreesRegressor\n",
    "xtc = ExtraTreesClassifier(max_samples=3,bootstrap=True, random_state=42, verbose=1)"
   ]
  },
  {
   "cell_type": "code",
   "execution_count": 119,
   "metadata": {
    "hidden": true
   },
   "outputs": [
    {
     "name": "stderr",
     "output_type": "stream",
     "text": [
      "[Parallel(n_jobs=1)]: Using backend SequentialBackend with 1 concurrent workers.\n",
      "[Parallel(n_jobs=1)]: Done 100 out of 100 | elapsed:    0.0s finished\n"
     ]
    },
    {
     "data": {
      "text/plain": [
       "ExtraTreesClassifier(bootstrap=True, max_samples=3, random_state=42, verbose=1)"
      ]
     },
     "execution_count": 119,
     "metadata": {},
     "output_type": "execute_result"
    }
   ],
   "source": [
    "# Fit it\n",
    "xtc.fit(X_tr_im,y_train)"
   ]
  },
  {
   "cell_type": "code",
   "execution_count": 120,
   "metadata": {
    "hidden": true,
    "scrolled": true
   },
   "outputs": [
    {
     "name": "stderr",
     "output_type": "stream",
     "text": [
      "[Parallel(n_jobs=1)]: Using backend SequentialBackend with 1 concurrent workers.\n",
      "[Parallel(n_jobs=1)]: Done 100 out of 100 | elapsed:    0.0s finished\n",
      "[Parallel(n_jobs=1)]: Using backend SequentialBackend with 1 concurrent workers.\n",
      "[Parallel(n_jobs=1)]: Done 100 out of 100 | elapsed:    0.0s finished\n",
      "[Parallel(n_jobs=1)]: Using backend SequentialBackend with 1 concurrent workers.\n",
      "[Parallel(n_jobs=1)]: Done 100 out of 100 | elapsed:    0.0s finished\n",
      "[Parallel(n_jobs=1)]: Using backend SequentialBackend with 1 concurrent workers.\n",
      "[Parallel(n_jobs=1)]: Done 100 out of 100 | elapsed:    0.0s finished\n",
      "[Parallel(n_jobs=1)]: Using backend SequentialBackend with 1 concurrent workers.\n",
      "[Parallel(n_jobs=1)]: Done 100 out of 100 | elapsed:    0.0s finished\n",
      "[Parallel(n_jobs=1)]: Using backend SequentialBackend with 1 concurrent workers.\n",
      "[Parallel(n_jobs=1)]: Done 100 out of 100 | elapsed:    0.0s finished\n",
      "[Parallel(n_jobs=1)]: Using backend SequentialBackend with 1 concurrent workers.\n",
      "[Parallel(n_jobs=1)]: Done 100 out of 100 | elapsed:    0.0s finished\n",
      "[Parallel(n_jobs=1)]: Using backend SequentialBackend with 1 concurrent workers.\n",
      "[Parallel(n_jobs=1)]: Done 100 out of 100 | elapsed:    0.0s finished\n",
      "[Parallel(n_jobs=1)]: Using backend SequentialBackend with 1 concurrent workers.\n"
     ]
    },
    {
     "name": "stdout",
     "output_type": "stream",
     "text": [
      "Cross Val: [0.74358974 0.69230769 0.66666667 0.66666667 0.66666667]\n",
      "Median: 0.6666666666666666\n",
      "Test: 0.6666666666666666\n"
     ]
    },
    {
     "name": "stderr",
     "output_type": "stream",
     "text": [
      "[Parallel(n_jobs=1)]: Done 100 out of 100 | elapsed:    0.0s finished\n",
      "[Parallel(n_jobs=1)]: Using backend SequentialBackend with 1 concurrent workers.\n",
      "[Parallel(n_jobs=1)]: Done 100 out of 100 | elapsed:    0.0s finished\n",
      "[Parallel(n_jobs=1)]: Using backend SequentialBackend with 1 concurrent workers.\n",
      "[Parallel(n_jobs=1)]: Done 100 out of 100 | elapsed:    0.0s finished\n"
     ]
    }
   ],
   "source": [
    "# Print Scores\n",
    "print_scores(xtc,X_tr_im,X_te_im,y_train,y_test)"
   ]
  },
  {
   "cell_type": "code",
   "execution_count": 121,
   "metadata": {},
   "outputs": [
    {
     "data": {
      "text/plain": [
       "array([0.13671875, 0.12890625, 0.1640625 , 0.09375   , 0.1796875 ,\n",
       "       0.11328125, 0.18359375])"
      ]
     },
     "execution_count": 121,
     "metadata": {},
     "output_type": "execute_result"
    }
   ],
   "source": [
    "xtc.feature_importances_"
   ]
  },
  {
   "cell_type": "code",
   "execution_count": 122,
   "metadata": {},
   "outputs": [
    {
     "data": {
      "text/plain": [
       "{'mpg': 0.13671875,\n",
       " 'cylinders': 0.12890625,\n",
       " 'cubicinches': 0.1640625,\n",
       " 'hp': 0.09375,\n",
       " 'weightlbs': 0.1796875,\n",
       " 'time-to-60': 0.11328125,\n",
       " 'year': 0.18359375}"
      ]
     },
     "execution_count": 122,
     "metadata": {},
     "output_type": "execute_result"
    }
   ],
   "source": [
    "feat_import = {name: score \n",
    "                   for name, score \n",
    "                       in zip(X_train.columns, xtc.feature_importances_)\n",
    "}\n",
    "feat_import"
   ]
  },
  {
   "cell_type": "markdown",
   "metadata": {
    "heading_collapsed": true
   },
   "source": [
    "# Level Up: Stacking"
   ]
  },
  {
   "cell_type": "markdown",
   "metadata": {
    "heading_collapsed": true,
    "hidden": true
   },
   "source": [
    "#### Meta-Classifier/Meta-Regressor\n",
    "\n",
    "- First, we ask several different models to make predictions about the target\n",
    "- Rather than taking a simple average or vote to determine the outcome, feed these results into a final model that makes the prediction based on the other models’ predictions\n",
    "- If it seems like we are approaching a neural network...you are correct!"
   ]
  },
  {
   "cell_type": "markdown",
   "metadata": {
    "hidden": true
   },
   "source": [
    "Remember weighted averaging? Stacking is about using DS models to estimate those weights for us. This means we'll have one layer of base estimators and another layer that is \"**trained to optimally combine the model predictions to form a new set of predictions**\". See [this short blog post](https://blogs.sas.com/content/subconsciousmusings/2017/05/18/stacked-ensemble-models-win-data-science-competitions/) for more."
   ]
  },
  {
   "cell_type": "markdown",
   "metadata": {
    "heading_collapsed": true,
    "hidden": true
   },
   "source": [
    "## Initial Data Prep"
   ]
  },
  {
   "cell_type": "code",
   "execution_count": 192,
   "metadata": {
    "hidden": true
   },
   "outputs": [],
   "source": [
    "wb = xlrd.open_workbook('data/Sales Report.xls',\n",
    "                        logfile=open(os.devnull, 'w'))\n",
    "\n",
    "sales = pd.read_excel(wb)\n",
    "sales = sales.dropna()"
   ]
  },
  {
   "cell_type": "code",
   "execution_count": 193,
   "metadata": {
    "hidden": true
   },
   "outputs": [
    {
     "data": {
      "text/html": [
       "<div>\n",
       "<style scoped>\n",
       "    .dataframe tbody tr th:only-of-type {\n",
       "        vertical-align: middle;\n",
       "    }\n",
       "\n",
       "    .dataframe tbody tr th {\n",
       "        vertical-align: top;\n",
       "    }\n",
       "\n",
       "    .dataframe thead th {\n",
       "        text-align: right;\n",
       "    }\n",
       "</style>\n",
       "<table border=\"1\" class=\"dataframe\">\n",
       "  <thead>\n",
       "    <tr style=\"text-align: right;\">\n",
       "      <th></th>\n",
       "      <th>Row ID</th>\n",
       "      <th>Order ID</th>\n",
       "      <th>Order Date</th>\n",
       "      <th>Ship Date</th>\n",
       "      <th>Ship Mode</th>\n",
       "      <th>Customer ID</th>\n",
       "      <th>Customer Name</th>\n",
       "      <th>Segment</th>\n",
       "      <th>Country</th>\n",
       "      <th>City</th>\n",
       "      <th>...</th>\n",
       "      <th>Postal Code</th>\n",
       "      <th>Region</th>\n",
       "      <th>Product ID</th>\n",
       "      <th>Category</th>\n",
       "      <th>Sub-Category</th>\n",
       "      <th>Product Name</th>\n",
       "      <th>Sales</th>\n",
       "      <th>Quantity</th>\n",
       "      <th>Discount</th>\n",
       "      <th>Profit</th>\n",
       "    </tr>\n",
       "  </thead>\n",
       "  <tbody>\n",
       "    <tr>\n",
       "      <th>0</th>\n",
       "      <td>1</td>\n",
       "      <td>CA-2017-152156</td>\n",
       "      <td>2017-11-08</td>\n",
       "      <td>2017-11-11</td>\n",
       "      <td>Second Class</td>\n",
       "      <td>CG-12520</td>\n",
       "      <td>Claire Gute</td>\n",
       "      <td>Consumer</td>\n",
       "      <td>United States</td>\n",
       "      <td>Henderson</td>\n",
       "      <td>...</td>\n",
       "      <td>42420.0</td>\n",
       "      <td>South</td>\n",
       "      <td>FUR-BO-10001798</td>\n",
       "      <td>Furniture</td>\n",
       "      <td>Bookcases</td>\n",
       "      <td>Bush Somerset Collection Bookcase</td>\n",
       "      <td>261.9600</td>\n",
       "      <td>2</td>\n",
       "      <td>0.00</td>\n",
       "      <td>41.9136</td>\n",
       "    </tr>\n",
       "    <tr>\n",
       "      <th>1</th>\n",
       "      <td>2</td>\n",
       "      <td>CA-2017-152156</td>\n",
       "      <td>2017-11-08</td>\n",
       "      <td>2017-11-11</td>\n",
       "      <td>Second Class</td>\n",
       "      <td>CG-12520</td>\n",
       "      <td>Claire Gute</td>\n",
       "      <td>Consumer</td>\n",
       "      <td>United States</td>\n",
       "      <td>Henderson</td>\n",
       "      <td>...</td>\n",
       "      <td>42420.0</td>\n",
       "      <td>South</td>\n",
       "      <td>FUR-CH-10000454</td>\n",
       "      <td>Furniture</td>\n",
       "      <td>Chairs</td>\n",
       "      <td>Hon Deluxe Fabric Upholstered Stacking Chairs,...</td>\n",
       "      <td>731.9400</td>\n",
       "      <td>3</td>\n",
       "      <td>0.00</td>\n",
       "      <td>219.5820</td>\n",
       "    </tr>\n",
       "    <tr>\n",
       "      <th>2</th>\n",
       "      <td>3</td>\n",
       "      <td>CA-2017-138688</td>\n",
       "      <td>2017-06-12</td>\n",
       "      <td>2017-06-16</td>\n",
       "      <td>Second Class</td>\n",
       "      <td>DV-13045</td>\n",
       "      <td>Darrin Van Huff</td>\n",
       "      <td>Corporate</td>\n",
       "      <td>United States</td>\n",
       "      <td>Los Angeles</td>\n",
       "      <td>...</td>\n",
       "      <td>90036.0</td>\n",
       "      <td>West</td>\n",
       "      <td>OFF-LA-10000240</td>\n",
       "      <td>Office Supplies</td>\n",
       "      <td>Labels</td>\n",
       "      <td>Self-Adhesive Address Labels for Typewriters b...</td>\n",
       "      <td>14.6200</td>\n",
       "      <td>2</td>\n",
       "      <td>0.00</td>\n",
       "      <td>6.8714</td>\n",
       "    </tr>\n",
       "    <tr>\n",
       "      <th>3</th>\n",
       "      <td>4</td>\n",
       "      <td>US-2016-108966</td>\n",
       "      <td>2016-10-11</td>\n",
       "      <td>2016-10-18</td>\n",
       "      <td>Standard Class</td>\n",
       "      <td>SO-20335</td>\n",
       "      <td>Sean O'Donnell</td>\n",
       "      <td>Consumer</td>\n",
       "      <td>United States</td>\n",
       "      <td>Fort Lauderdale</td>\n",
       "      <td>...</td>\n",
       "      <td>33311.0</td>\n",
       "      <td>South</td>\n",
       "      <td>FUR-TA-10000577</td>\n",
       "      <td>Furniture</td>\n",
       "      <td>Tables</td>\n",
       "      <td>Bretford CR4500 Series Slim Rectangular Table</td>\n",
       "      <td>957.5775</td>\n",
       "      <td>5</td>\n",
       "      <td>0.45</td>\n",
       "      <td>-383.0310</td>\n",
       "    </tr>\n",
       "    <tr>\n",
       "      <th>4</th>\n",
       "      <td>5</td>\n",
       "      <td>US-2016-108966</td>\n",
       "      <td>2016-10-11</td>\n",
       "      <td>2016-10-18</td>\n",
       "      <td>Standard Class</td>\n",
       "      <td>SO-20335</td>\n",
       "      <td>Sean O'Donnell</td>\n",
       "      <td>Consumer</td>\n",
       "      <td>United States</td>\n",
       "      <td>Fort Lauderdale</td>\n",
       "      <td>...</td>\n",
       "      <td>33311.0</td>\n",
       "      <td>South</td>\n",
       "      <td>OFF-ST-10000760</td>\n",
       "      <td>Office Supplies</td>\n",
       "      <td>Storage</td>\n",
       "      <td>Eldon Fold 'N Roll Cart System</td>\n",
       "      <td>22.3680</td>\n",
       "      <td>2</td>\n",
       "      <td>0.20</td>\n",
       "      <td>2.5164</td>\n",
       "    </tr>\n",
       "  </tbody>\n",
       "</table>\n",
       "<p>5 rows × 21 columns</p>\n",
       "</div>"
      ],
      "text/plain": [
       "   Row ID        Order ID Order Date  Ship Date       Ship Mode Customer ID  \\\n",
       "0       1  CA-2017-152156 2017-11-08 2017-11-11    Second Class    CG-12520   \n",
       "1       2  CA-2017-152156 2017-11-08 2017-11-11    Second Class    CG-12520   \n",
       "2       3  CA-2017-138688 2017-06-12 2017-06-16    Second Class    DV-13045   \n",
       "3       4  US-2016-108966 2016-10-11 2016-10-18  Standard Class    SO-20335   \n",
       "4       5  US-2016-108966 2016-10-11 2016-10-18  Standard Class    SO-20335   \n",
       "\n",
       "     Customer Name    Segment        Country             City  ...  \\\n",
       "0      Claire Gute   Consumer  United States        Henderson  ...   \n",
       "1      Claire Gute   Consumer  United States        Henderson  ...   \n",
       "2  Darrin Van Huff  Corporate  United States      Los Angeles  ...   \n",
       "3   Sean O'Donnell   Consumer  United States  Fort Lauderdale  ...   \n",
       "4   Sean O'Donnell   Consumer  United States  Fort Lauderdale  ...   \n",
       "\n",
       "  Postal Code  Region       Product ID         Category Sub-Category  \\\n",
       "0     42420.0   South  FUR-BO-10001798        Furniture    Bookcases   \n",
       "1     42420.0   South  FUR-CH-10000454        Furniture       Chairs   \n",
       "2     90036.0    West  OFF-LA-10000240  Office Supplies       Labels   \n",
       "3     33311.0   South  FUR-TA-10000577        Furniture       Tables   \n",
       "4     33311.0   South  OFF-ST-10000760  Office Supplies      Storage   \n",
       "\n",
       "                                        Product Name     Sales  Quantity  \\\n",
       "0                  Bush Somerset Collection Bookcase  261.9600         2   \n",
       "1  Hon Deluxe Fabric Upholstered Stacking Chairs,...  731.9400         3   \n",
       "2  Self-Adhesive Address Labels for Typewriters b...   14.6200         2   \n",
       "3      Bretford CR4500 Series Slim Rectangular Table  957.5775         5   \n",
       "4                     Eldon Fold 'N Roll Cart System   22.3680         2   \n",
       "\n",
       "   Discount    Profit  \n",
       "0      0.00   41.9136  \n",
       "1      0.00  219.5820  \n",
       "2      0.00    6.8714  \n",
       "3      0.45 -383.0310  \n",
       "4      0.20    2.5164  \n",
       "\n",
       "[5 rows x 21 columns]"
      ]
     },
     "execution_count": 193,
     "metadata": {},
     "output_type": "execute_result"
    }
   ],
   "source": [
    "sales.head()"
   ]
  },
  {
   "cell_type": "code",
   "execution_count": 194,
   "metadata": {
    "hidden": true
   },
   "outputs": [
    {
     "data": {
      "text/plain": [
       "Row ID                    int64\n",
       "Order ID                 object\n",
       "Order Date       datetime64[ns]\n",
       "Ship Date        datetime64[ns]\n",
       "Ship Mode                object\n",
       "Customer ID              object\n",
       "Customer Name            object\n",
       "Segment                  object\n",
       "Country                  object\n",
       "City                     object\n",
       "State                    object\n",
       "Postal Code             float64\n",
       "Region                   object\n",
       "Product ID               object\n",
       "Category                 object\n",
       "Sub-Category             object\n",
       "Product Name             object\n",
       "Sales                   float64\n",
       "Quantity                  int64\n",
       "Discount                float64\n",
       "Profit                  float64\n",
       "dtype: object"
      ]
     },
     "execution_count": 194,
     "metadata": {},
     "output_type": "execute_result"
    }
   ],
   "source": [
    "sales.dtypes"
   ]
  },
  {
   "cell_type": "code",
   "execution_count": 195,
   "metadata": {
    "hidden": true
   },
   "outputs": [
    {
     "data": {
      "text/plain": [
       "Office Supplies    6020\n",
       "Furniture          2119\n",
       "Technology         1844\n",
       "Name: Category, dtype: int64"
      ]
     },
     "execution_count": 195,
     "metadata": {},
     "output_type": "execute_result"
    }
   ],
   "source": [
    "sales['Category'].value_counts()"
   ]
  },
  {
   "cell_type": "code",
   "execution_count": 196,
   "metadata": {
    "hidden": true
   },
   "outputs": [
    {
     "data": {
      "text/plain": [
       "Binders        1523\n",
       "Paper          1368\n",
       "Furnishings     957\n",
       "Phones          888\n",
       "Storage         845\n",
       "Art             795\n",
       "Accessories     773\n",
       "Chairs          616\n",
       "Appliances      465\n",
       "Labels          364\n",
       "Tables          319\n",
       "Envelopes       253\n",
       "Bookcases       227\n",
       "Fasteners       217\n",
       "Supplies        190\n",
       "Machines        115\n",
       "Copiers          68\n",
       "Name: Sub-Category, dtype: int64"
      ]
     },
     "execution_count": 196,
     "metadata": {},
     "output_type": "execute_result"
    }
   ],
   "source": [
    "sales['Sub-Category'].value_counts()"
   ]
  },
  {
   "cell_type": "code",
   "execution_count": 197,
   "metadata": {
    "hidden": true
   },
   "outputs": [],
   "source": [
    "X_num = sales[['Discount', 'Profit']].columns\n",
    "X_cat = sales[['Category', 'Sub-Category']].columns"
   ]
  },
  {
   "cell_type": "code",
   "execution_count": 198,
   "metadata": {
    "hidden": true
   },
   "outputs": [],
   "source": [
    "X = sales[['Discount', 'Profit',\n",
    "          'Category', 'Sub-Category']]\n",
    "y = sales['Sales']"
   ]
  },
  {
   "cell_type": "markdown",
   "metadata": {
    "heading_collapsed": true,
    "hidden": true
   },
   "source": [
    "## Splitting"
   ]
  },
  {
   "cell_type": "code",
   "execution_count": 199,
   "metadata": {
    "hidden": true
   },
   "outputs": [],
   "source": [
    "X_train, X_test, y_train, y_test = train_test_split(X, y, random_state=42)"
   ]
  },
  {
   "cell_type": "markdown",
   "metadata": {
    "heading_collapsed": true,
    "hidden": true
   },
   "source": [
    "## Setting Up a Pipeline"
   ]
  },
  {
   "cell_type": "code",
   "execution_count": 209,
   "metadata": {
    "hidden": true
   },
   "outputs": [],
   "source": [
    "# scale and ohe, column\n",
    "\n",
    "num_sub = Pipeline([\n",
    "    ('ss',StandardScaler())  \n",
    "])\n",
    "\n",
    "cat_sub = Pipeline([\n",
    "    ('ohe',OneHotEncoder(sparse=False,handle_unknown='ignore'))\n",
    "    \n",
    "    \n",
    "])\n"
   ]
  },
  {
   "cell_type": "code",
   "execution_count": 210,
   "metadata": {},
   "outputs": [],
   "source": [
    "CT = ColumnTransformer(transformers=[\n",
    "    ('num', num_sub,X_num),\n",
    "    ('cat',cat_sub,X_cat)\n",
    "    \n",
    "    \n",
    "])"
   ]
  },
  {
   "cell_type": "markdown",
   "metadata": {
    "heading_collapsed": true,
    "hidden": true
   },
   "source": [
    "## Setting Up a Stack"
   ]
  },
  {
   "cell_type": "code",
   "execution_count": 211,
   "metadata": {
    "hidden": true
   },
   "outputs": [],
   "source": [
    "# create stack\n",
    "\n",
    "sr = StackingRegressor(estimators=[\n",
    "    ('lr',LinearRegression()),\n",
    "    ('knn',KNeighborsRegressor()),\n",
    "    ('dt',DecisionTreeRegressor())\n",
    "    \n",
    "    \n",
    "])"
   ]
  },
  {
   "cell_type": "code",
   "execution_count": 212,
   "metadata": {},
   "outputs": [],
   "source": [
    "sr_pipe = Pipeline([\n",
    "    ('ct',CT),\n",
    "    ('sr',sr)\n",
    "    \n",
    "])"
   ]
  },
  {
   "cell_type": "code",
   "execution_count": 213,
   "metadata": {},
   "outputs": [
    {
     "data": {
      "text/plain": [
       "Pipeline(steps=[('ct',\n",
       "                 ColumnTransformer(transformers=[('num',\n",
       "                                                  Pipeline(steps=[('ss',\n",
       "                                                                   StandardScaler())]),\n",
       "                                                  Index(['Discount', 'Profit'], dtype='object')),\n",
       "                                                 ('cat',\n",
       "                                                  Pipeline(steps=[('ohe',\n",
       "                                                                   OneHotEncoder(handle_unknown='ignore',\n",
       "                                                                                 sparse=False))]),\n",
       "                                                  Index(['Category', 'Sub-Category'], dtype='object'))])),\n",
       "                ('sr',\n",
       "                 StackingRegressor(estimators=[('lr', LinearRegression()),\n",
       "                                               ('knn', KNeighborsRegressor()),\n",
       "                                               ('dt',\n",
       "                                                DecisionTreeRegressor())]))])"
      ]
     },
     "execution_count": 213,
     "metadata": {},
     "output_type": "execute_result"
    }
   ],
   "source": [
    "sr_pipe.fit(X_train,y_train)"
   ]
  },
  {
   "cell_type": "code",
   "execution_count": 214,
   "metadata": {},
   "outputs": [
    {
     "name": "stdout",
     "output_type": "stream",
     "text": [
      "Cross Val: [0.59353603 0.81979952 0.78667768 0.47701864 0.65786627]\n",
      "Median: 0.6578662698996639\n",
      "Test: 0.8203648881286641\n"
     ]
    }
   ],
   "source": [
    "print_scores(sr_pipe,X_train,X_test,y_train,y_test)"
   ]
  },
  {
   "cell_type": "markdown",
   "metadata": {
    "heading_collapsed": true,
    "hidden": true
   },
   "source": [
    "## Comparison with Base Estimators"
   ]
  },
  {
   "cell_type": "code",
   "execution_count": 215,
   "metadata": {
    "hidden": true
   },
   "outputs": [
    {
     "ename": "ValueError",
     "evalue": "could not convert string to float: 'Office Supplies'",
     "output_type": "error",
     "traceback": [
      "\u001b[1;31m---------------------------------------------------------------------------\u001b[0m",
      "\u001b[1;31mValueError\u001b[0m                                Traceback (most recent call last)",
      "\u001b[1;32m<ipython-input-215-72437608f2dc>\u001b[0m in \u001b[0;36m<module>\u001b[1;34m\u001b[0m\n\u001b[1;32m----> 1\u001b[1;33m \u001b[0mlr\u001b[0m \u001b[1;33m=\u001b[0m \u001b[0mLinearRegression\u001b[0m\u001b[1;33m(\u001b[0m\u001b[1;33m)\u001b[0m\u001b[1;33m.\u001b[0m\u001b[0mfit\u001b[0m\u001b[1;33m(\u001b[0m\u001b[0mX_train\u001b[0m\u001b[1;33m,\u001b[0m \u001b[0my_train\u001b[0m\u001b[1;33m)\u001b[0m\u001b[1;33m\u001b[0m\u001b[1;33m\u001b[0m\u001b[0m\n\u001b[0m\u001b[0;32m      2\u001b[0m \u001b[0mprint_scores\u001b[0m\u001b[1;33m(\u001b[0m\u001b[0mlr\u001b[0m\u001b[1;33m,\u001b[0m \u001b[0mX_train\u001b[0m\u001b[1;33m,\u001b[0m\u001b[0mX_test\u001b[0m\u001b[1;33m,\u001b[0m\u001b[0my_train\u001b[0m\u001b[1;33m,\u001b[0m\u001b[0my_test\u001b[0m\u001b[1;33m)\u001b[0m\u001b[1;33m\u001b[0m\u001b[1;33m\u001b[0m\u001b[0m\n",
      "\u001b[1;32m~\\anaconda3\\envs\\learn-env\\lib\\site-packages\\sklearn\\linear_model\\_base.py\u001b[0m in \u001b[0;36mfit\u001b[1;34m(self, X, y, sample_weight)\u001b[0m\n\u001b[0;32m    503\u001b[0m \u001b[1;33m\u001b[0m\u001b[0m\n\u001b[0;32m    504\u001b[0m         \u001b[0mn_jobs_\u001b[0m \u001b[1;33m=\u001b[0m \u001b[0mself\u001b[0m\u001b[1;33m.\u001b[0m\u001b[0mn_jobs\u001b[0m\u001b[1;33m\u001b[0m\u001b[1;33m\u001b[0m\u001b[0m\n\u001b[1;32m--> 505\u001b[1;33m         X, y = self._validate_data(X, y, accept_sparse=['csr', 'csc', 'coo'],\n\u001b[0m\u001b[0;32m    506\u001b[0m                                    y_numeric=True, multi_output=True)\n\u001b[0;32m    507\u001b[0m \u001b[1;33m\u001b[0m\u001b[0m\n",
      "\u001b[1;32m~\\anaconda3\\envs\\learn-env\\lib\\site-packages\\sklearn\\base.py\u001b[0m in \u001b[0;36m_validate_data\u001b[1;34m(self, X, y, reset, validate_separately, **check_params)\u001b[0m\n\u001b[0;32m    430\u001b[0m                 \u001b[0my\u001b[0m \u001b[1;33m=\u001b[0m \u001b[0mcheck_array\u001b[0m\u001b[1;33m(\u001b[0m\u001b[0my\u001b[0m\u001b[1;33m,\u001b[0m \u001b[1;33m**\u001b[0m\u001b[0mcheck_y_params\u001b[0m\u001b[1;33m)\u001b[0m\u001b[1;33m\u001b[0m\u001b[1;33m\u001b[0m\u001b[0m\n\u001b[0;32m    431\u001b[0m             \u001b[1;32melse\u001b[0m\u001b[1;33m:\u001b[0m\u001b[1;33m\u001b[0m\u001b[1;33m\u001b[0m\u001b[0m\n\u001b[1;32m--> 432\u001b[1;33m                 \u001b[0mX\u001b[0m\u001b[1;33m,\u001b[0m \u001b[0my\u001b[0m \u001b[1;33m=\u001b[0m \u001b[0mcheck_X_y\u001b[0m\u001b[1;33m(\u001b[0m\u001b[0mX\u001b[0m\u001b[1;33m,\u001b[0m \u001b[0my\u001b[0m\u001b[1;33m,\u001b[0m \u001b[1;33m**\u001b[0m\u001b[0mcheck_params\u001b[0m\u001b[1;33m)\u001b[0m\u001b[1;33m\u001b[0m\u001b[1;33m\u001b[0m\u001b[0m\n\u001b[0m\u001b[0;32m    433\u001b[0m             \u001b[0mout\u001b[0m \u001b[1;33m=\u001b[0m \u001b[0mX\u001b[0m\u001b[1;33m,\u001b[0m \u001b[0my\u001b[0m\u001b[1;33m\u001b[0m\u001b[1;33m\u001b[0m\u001b[0m\n\u001b[0;32m    434\u001b[0m \u001b[1;33m\u001b[0m\u001b[0m\n",
      "\u001b[1;32m~\\anaconda3\\envs\\learn-env\\lib\\site-packages\\sklearn\\utils\\validation.py\u001b[0m in \u001b[0;36minner_f\u001b[1;34m(*args, **kwargs)\u001b[0m\n\u001b[0;32m     70\u001b[0m                           FutureWarning)\n\u001b[0;32m     71\u001b[0m         \u001b[0mkwargs\u001b[0m\u001b[1;33m.\u001b[0m\u001b[0mupdate\u001b[0m\u001b[1;33m(\u001b[0m\u001b[1;33m{\u001b[0m\u001b[0mk\u001b[0m\u001b[1;33m:\u001b[0m \u001b[0marg\u001b[0m \u001b[1;32mfor\u001b[0m \u001b[0mk\u001b[0m\u001b[1;33m,\u001b[0m \u001b[0marg\u001b[0m \u001b[1;32min\u001b[0m \u001b[0mzip\u001b[0m\u001b[1;33m(\u001b[0m\u001b[0msig\u001b[0m\u001b[1;33m.\u001b[0m\u001b[0mparameters\u001b[0m\u001b[1;33m,\u001b[0m \u001b[0margs\u001b[0m\u001b[1;33m)\u001b[0m\u001b[1;33m}\u001b[0m\u001b[1;33m)\u001b[0m\u001b[1;33m\u001b[0m\u001b[1;33m\u001b[0m\u001b[0m\n\u001b[1;32m---> 72\u001b[1;33m         \u001b[1;32mreturn\u001b[0m \u001b[0mf\u001b[0m\u001b[1;33m(\u001b[0m\u001b[1;33m**\u001b[0m\u001b[0mkwargs\u001b[0m\u001b[1;33m)\u001b[0m\u001b[1;33m\u001b[0m\u001b[1;33m\u001b[0m\u001b[0m\n\u001b[0m\u001b[0;32m     73\u001b[0m     \u001b[1;32mreturn\u001b[0m \u001b[0minner_f\u001b[0m\u001b[1;33m\u001b[0m\u001b[1;33m\u001b[0m\u001b[0m\n\u001b[0;32m     74\u001b[0m \u001b[1;33m\u001b[0m\u001b[0m\n",
      "\u001b[1;32m~\\anaconda3\\envs\\learn-env\\lib\\site-packages\\sklearn\\utils\\validation.py\u001b[0m in \u001b[0;36mcheck_X_y\u001b[1;34m(X, y, accept_sparse, accept_large_sparse, dtype, order, copy, force_all_finite, ensure_2d, allow_nd, multi_output, ensure_min_samples, ensure_min_features, y_numeric, estimator)\u001b[0m\n\u001b[0;32m    793\u001b[0m         \u001b[1;32mraise\u001b[0m \u001b[0mValueError\u001b[0m\u001b[1;33m(\u001b[0m\u001b[1;34m\"y cannot be None\"\u001b[0m\u001b[1;33m)\u001b[0m\u001b[1;33m\u001b[0m\u001b[1;33m\u001b[0m\u001b[0m\n\u001b[0;32m    794\u001b[0m \u001b[1;33m\u001b[0m\u001b[0m\n\u001b[1;32m--> 795\u001b[1;33m     X = check_array(X, accept_sparse=accept_sparse,\n\u001b[0m\u001b[0;32m    796\u001b[0m                     \u001b[0maccept_large_sparse\u001b[0m\u001b[1;33m=\u001b[0m\u001b[0maccept_large_sparse\u001b[0m\u001b[1;33m,\u001b[0m\u001b[1;33m\u001b[0m\u001b[1;33m\u001b[0m\u001b[0m\n\u001b[0;32m    797\u001b[0m                     \u001b[0mdtype\u001b[0m\u001b[1;33m=\u001b[0m\u001b[0mdtype\u001b[0m\u001b[1;33m,\u001b[0m \u001b[0morder\u001b[0m\u001b[1;33m=\u001b[0m\u001b[0morder\u001b[0m\u001b[1;33m,\u001b[0m \u001b[0mcopy\u001b[0m\u001b[1;33m=\u001b[0m\u001b[0mcopy\u001b[0m\u001b[1;33m,\u001b[0m\u001b[1;33m\u001b[0m\u001b[1;33m\u001b[0m\u001b[0m\n",
      "\u001b[1;32m~\\anaconda3\\envs\\learn-env\\lib\\site-packages\\sklearn\\utils\\validation.py\u001b[0m in \u001b[0;36minner_f\u001b[1;34m(*args, **kwargs)\u001b[0m\n\u001b[0;32m     70\u001b[0m                           FutureWarning)\n\u001b[0;32m     71\u001b[0m         \u001b[0mkwargs\u001b[0m\u001b[1;33m.\u001b[0m\u001b[0mupdate\u001b[0m\u001b[1;33m(\u001b[0m\u001b[1;33m{\u001b[0m\u001b[0mk\u001b[0m\u001b[1;33m:\u001b[0m \u001b[0marg\u001b[0m \u001b[1;32mfor\u001b[0m \u001b[0mk\u001b[0m\u001b[1;33m,\u001b[0m \u001b[0marg\u001b[0m \u001b[1;32min\u001b[0m \u001b[0mzip\u001b[0m\u001b[1;33m(\u001b[0m\u001b[0msig\u001b[0m\u001b[1;33m.\u001b[0m\u001b[0mparameters\u001b[0m\u001b[1;33m,\u001b[0m \u001b[0margs\u001b[0m\u001b[1;33m)\u001b[0m\u001b[1;33m}\u001b[0m\u001b[1;33m)\u001b[0m\u001b[1;33m\u001b[0m\u001b[1;33m\u001b[0m\u001b[0m\n\u001b[1;32m---> 72\u001b[1;33m         \u001b[1;32mreturn\u001b[0m \u001b[0mf\u001b[0m\u001b[1;33m(\u001b[0m\u001b[1;33m**\u001b[0m\u001b[0mkwargs\u001b[0m\u001b[1;33m)\u001b[0m\u001b[1;33m\u001b[0m\u001b[1;33m\u001b[0m\u001b[0m\n\u001b[0m\u001b[0;32m     73\u001b[0m     \u001b[1;32mreturn\u001b[0m \u001b[0minner_f\u001b[0m\u001b[1;33m\u001b[0m\u001b[1;33m\u001b[0m\u001b[0m\n\u001b[0;32m     74\u001b[0m \u001b[1;33m\u001b[0m\u001b[0m\n",
      "\u001b[1;32m~\\anaconda3\\envs\\learn-env\\lib\\site-packages\\sklearn\\utils\\validation.py\u001b[0m in \u001b[0;36mcheck_array\u001b[1;34m(array, accept_sparse, accept_large_sparse, dtype, order, copy, force_all_finite, ensure_2d, allow_nd, ensure_min_samples, ensure_min_features, estimator)\u001b[0m\n\u001b[0;32m    596\u001b[0m                     \u001b[0marray\u001b[0m \u001b[1;33m=\u001b[0m \u001b[0marray\u001b[0m\u001b[1;33m.\u001b[0m\u001b[0mastype\u001b[0m\u001b[1;33m(\u001b[0m\u001b[0mdtype\u001b[0m\u001b[1;33m,\u001b[0m \u001b[0mcasting\u001b[0m\u001b[1;33m=\u001b[0m\u001b[1;34m\"unsafe\"\u001b[0m\u001b[1;33m,\u001b[0m \u001b[0mcopy\u001b[0m\u001b[1;33m=\u001b[0m\u001b[1;32mFalse\u001b[0m\u001b[1;33m)\u001b[0m\u001b[1;33m\u001b[0m\u001b[1;33m\u001b[0m\u001b[0m\n\u001b[0;32m    597\u001b[0m                 \u001b[1;32melse\u001b[0m\u001b[1;33m:\u001b[0m\u001b[1;33m\u001b[0m\u001b[1;33m\u001b[0m\u001b[0m\n\u001b[1;32m--> 598\u001b[1;33m                     \u001b[0marray\u001b[0m \u001b[1;33m=\u001b[0m \u001b[0mnp\u001b[0m\u001b[1;33m.\u001b[0m\u001b[0masarray\u001b[0m\u001b[1;33m(\u001b[0m\u001b[0marray\u001b[0m\u001b[1;33m,\u001b[0m \u001b[0morder\u001b[0m\u001b[1;33m=\u001b[0m\u001b[0morder\u001b[0m\u001b[1;33m,\u001b[0m \u001b[0mdtype\u001b[0m\u001b[1;33m=\u001b[0m\u001b[0mdtype\u001b[0m\u001b[1;33m)\u001b[0m\u001b[1;33m\u001b[0m\u001b[1;33m\u001b[0m\u001b[0m\n\u001b[0m\u001b[0;32m    599\u001b[0m             \u001b[1;32mexcept\u001b[0m \u001b[0mComplexWarning\u001b[0m\u001b[1;33m:\u001b[0m\u001b[1;33m\u001b[0m\u001b[1;33m\u001b[0m\u001b[0m\n\u001b[0;32m    600\u001b[0m                 raise ValueError(\"Complex data not supported\\n\"\n",
      "\u001b[1;32m~\\anaconda3\\envs\\learn-env\\lib\\site-packages\\numpy\\core\\_asarray.py\u001b[0m in \u001b[0;36masarray\u001b[1;34m(a, dtype, order)\u001b[0m\n\u001b[0;32m     83\u001b[0m \u001b[1;33m\u001b[0m\u001b[0m\n\u001b[0;32m     84\u001b[0m     \"\"\"\n\u001b[1;32m---> 85\u001b[1;33m     \u001b[1;32mreturn\u001b[0m \u001b[0marray\u001b[0m\u001b[1;33m(\u001b[0m\u001b[0ma\u001b[0m\u001b[1;33m,\u001b[0m \u001b[0mdtype\u001b[0m\u001b[1;33m,\u001b[0m \u001b[0mcopy\u001b[0m\u001b[1;33m=\u001b[0m\u001b[1;32mFalse\u001b[0m\u001b[1;33m,\u001b[0m \u001b[0morder\u001b[0m\u001b[1;33m=\u001b[0m\u001b[0morder\u001b[0m\u001b[1;33m)\u001b[0m\u001b[1;33m\u001b[0m\u001b[1;33m\u001b[0m\u001b[0m\n\u001b[0m\u001b[0;32m     86\u001b[0m \u001b[1;33m\u001b[0m\u001b[0m\n\u001b[0;32m     87\u001b[0m \u001b[1;33m\u001b[0m\u001b[0m\n",
      "\u001b[1;32m~\\anaconda3\\envs\\learn-env\\lib\\site-packages\\pandas\\core\\generic.py\u001b[0m in \u001b[0;36m__array__\u001b[1;34m(self, dtype)\u001b[0m\n\u001b[0;32m   1779\u001b[0m \u001b[1;33m\u001b[0m\u001b[0m\n\u001b[0;32m   1780\u001b[0m     \u001b[1;32mdef\u001b[0m \u001b[0m__array__\u001b[0m\u001b[1;33m(\u001b[0m\u001b[0mself\u001b[0m\u001b[1;33m,\u001b[0m \u001b[0mdtype\u001b[0m\u001b[1;33m=\u001b[0m\u001b[1;32mNone\u001b[0m\u001b[1;33m)\u001b[0m \u001b[1;33m->\u001b[0m \u001b[0mnp\u001b[0m\u001b[1;33m.\u001b[0m\u001b[0mndarray\u001b[0m\u001b[1;33m:\u001b[0m\u001b[1;33m\u001b[0m\u001b[1;33m\u001b[0m\u001b[0m\n\u001b[1;32m-> 1781\u001b[1;33m         \u001b[1;32mreturn\u001b[0m \u001b[0mnp\u001b[0m\u001b[1;33m.\u001b[0m\u001b[0masarray\u001b[0m\u001b[1;33m(\u001b[0m\u001b[0mself\u001b[0m\u001b[1;33m.\u001b[0m\u001b[0m_values\u001b[0m\u001b[1;33m,\u001b[0m \u001b[0mdtype\u001b[0m\u001b[1;33m=\u001b[0m\u001b[0mdtype\u001b[0m\u001b[1;33m)\u001b[0m\u001b[1;33m\u001b[0m\u001b[1;33m\u001b[0m\u001b[0m\n\u001b[0m\u001b[0;32m   1782\u001b[0m \u001b[1;33m\u001b[0m\u001b[0m\n\u001b[0;32m   1783\u001b[0m     \u001b[1;32mdef\u001b[0m \u001b[0m__array_wrap__\u001b[0m\u001b[1;33m(\u001b[0m\u001b[0mself\u001b[0m\u001b[1;33m,\u001b[0m \u001b[0mresult\u001b[0m\u001b[1;33m,\u001b[0m \u001b[0mcontext\u001b[0m\u001b[1;33m=\u001b[0m\u001b[1;32mNone\u001b[0m\u001b[1;33m)\u001b[0m\u001b[1;33m:\u001b[0m\u001b[1;33m\u001b[0m\u001b[1;33m\u001b[0m\u001b[0m\n",
      "\u001b[1;32m~\\anaconda3\\envs\\learn-env\\lib\\site-packages\\numpy\\core\\_asarray.py\u001b[0m in \u001b[0;36masarray\u001b[1;34m(a, dtype, order)\u001b[0m\n\u001b[0;32m     83\u001b[0m \u001b[1;33m\u001b[0m\u001b[0m\n\u001b[0;32m     84\u001b[0m     \"\"\"\n\u001b[1;32m---> 85\u001b[1;33m     \u001b[1;32mreturn\u001b[0m \u001b[0marray\u001b[0m\u001b[1;33m(\u001b[0m\u001b[0ma\u001b[0m\u001b[1;33m,\u001b[0m \u001b[0mdtype\u001b[0m\u001b[1;33m,\u001b[0m \u001b[0mcopy\u001b[0m\u001b[1;33m=\u001b[0m\u001b[1;32mFalse\u001b[0m\u001b[1;33m,\u001b[0m \u001b[0morder\u001b[0m\u001b[1;33m=\u001b[0m\u001b[0morder\u001b[0m\u001b[1;33m)\u001b[0m\u001b[1;33m\u001b[0m\u001b[1;33m\u001b[0m\u001b[0m\n\u001b[0m\u001b[0;32m     86\u001b[0m \u001b[1;33m\u001b[0m\u001b[0m\n\u001b[0;32m     87\u001b[0m \u001b[1;33m\u001b[0m\u001b[0m\n",
      "\u001b[1;31mValueError\u001b[0m: could not convert string to float: 'Office Supplies'"
     ]
    }
   ],
   "source": [
    "lr = LinearRegression().fit(X_train, y_train)\n",
    "print_scores(lr, X_train,X_test,y_train,y_test)"
   ]
  },
  {
   "cell_type": "code",
   "execution_count": 150,
   "metadata": {
    "hidden": true
   },
   "outputs": [
    {
     "ename": "NameError",
     "evalue": "name 'X_tr_pp' is not defined",
     "output_type": "error",
     "traceback": [
      "\u001b[1;31m---------------------------------------------------------------------------\u001b[0m",
      "\u001b[1;31mNameError\u001b[0m                                 Traceback (most recent call last)",
      "\u001b[1;32m<ipython-input-150-7090d270660e>\u001b[0m in \u001b[0;36m<module>\u001b[1;34m\u001b[0m\n\u001b[1;32m----> 1\u001b[1;33m \u001b[0mknn\u001b[0m \u001b[1;33m=\u001b[0m \u001b[0mKNeighborsRegressor\u001b[0m\u001b[1;33m(\u001b[0m\u001b[1;33m)\u001b[0m\u001b[1;33m.\u001b[0m\u001b[0mfit\u001b[0m\u001b[1;33m(\u001b[0m\u001b[0mX_tr_pp\u001b[0m\u001b[1;33m,\u001b[0m \u001b[0my_train\u001b[0m\u001b[1;33m)\u001b[0m\u001b[1;33m\u001b[0m\u001b[1;33m\u001b[0m\u001b[0m\n\u001b[0m\u001b[0;32m      2\u001b[0m \u001b[0mprint_scores\u001b[0m\u001b[1;33m(\u001b[0m\u001b[0mknn\u001b[0m\u001b[1;33m,\u001b[0m \u001b[0mX_tr_pp\u001b[0m\u001b[1;33m,\u001b[0m \u001b[0mX_te_pp\u001b[0m\u001b[1;33m,\u001b[0m \u001b[0my_train\u001b[0m\u001b[1;33m,\u001b[0m \u001b[0my_test\u001b[0m\u001b[1;33m)\u001b[0m\u001b[1;33m\u001b[0m\u001b[1;33m\u001b[0m\u001b[0m\n",
      "\u001b[1;31mNameError\u001b[0m: name 'X_tr_pp' is not defined"
     ]
    }
   ],
   "source": [
    "knn = KNeighborsRegressor().fit(X_tr_pp, y_train)\n",
    "print_scores(knn, X_tr_pp, X_te_pp, y_train, y_test)"
   ]
  },
  {
   "cell_type": "code",
   "execution_count": 151,
   "metadata": {
    "hidden": true
   },
   "outputs": [
    {
     "ename": "NameError",
     "evalue": "name 'X_tr_pp' is not defined",
     "output_type": "error",
     "traceback": [
      "\u001b[1;31m---------------------------------------------------------------------------\u001b[0m",
      "\u001b[1;31mNameError\u001b[0m                                 Traceback (most recent call last)",
      "\u001b[1;32m<ipython-input-151-7f195a427aad>\u001b[0m in \u001b[0;36m<module>\u001b[1;34m\u001b[0m\n\u001b[1;32m----> 1\u001b[1;33m \u001b[0mrt\u001b[0m \u001b[1;33m=\u001b[0m \u001b[0mDecisionTreeRegressor\u001b[0m\u001b[1;33m(\u001b[0m\u001b[1;33m)\u001b[0m\u001b[1;33m.\u001b[0m\u001b[0mfit\u001b[0m\u001b[1;33m(\u001b[0m\u001b[0mX_tr_pp\u001b[0m\u001b[1;33m,\u001b[0m \u001b[0my_train\u001b[0m\u001b[1;33m)\u001b[0m\u001b[1;33m\u001b[0m\u001b[1;33m\u001b[0m\u001b[0m\n\u001b[0m\u001b[0;32m      2\u001b[0m \u001b[0mprint_scores\u001b[0m\u001b[1;33m(\u001b[0m\u001b[0mrt\u001b[0m\u001b[1;33m,\u001b[0m \u001b[0mX_tr_pp\u001b[0m\u001b[1;33m,\u001b[0m \u001b[0mX_te_pp\u001b[0m\u001b[1;33m,\u001b[0m \u001b[0my_train\u001b[0m\u001b[1;33m,\u001b[0m \u001b[0my_test\u001b[0m\u001b[1;33m)\u001b[0m\u001b[1;33m\u001b[0m\u001b[1;33m\u001b[0m\u001b[0m\n",
      "\u001b[1;31mNameError\u001b[0m: name 'X_tr_pp' is not defined"
     ]
    }
   ],
   "source": [
    "rt = DecisionTreeRegressor().fit(X_tr_pp, y_train)\n",
    "print_scores(rt, X_tr_pp, X_te_pp, y_train, y_test)"
   ]
  },
  {
   "cell_type": "code",
   "execution_count": null,
   "metadata": {},
   "outputs": [],
   "source": []
  }
 ],
 "metadata": {
  "kernelspec": {
   "display_name": "Python (learn-env)",
   "language": "python",
   "name": "learn-env"
  },
  "language_info": {
   "codemirror_mode": {
    "name": "ipython",
    "version": 3
   },
   "file_extension": ".py",
   "mimetype": "text/x-python",
   "name": "python",
   "nbconvert_exporter": "python",
   "pygments_lexer": "ipython3",
   "version": "3.8.5"
  },
  "toc": {
   "base_numbering": 1,
   "nav_menu": {},
   "number_sections": true,
   "sideBar": true,
   "skip_h1_title": false,
   "title_cell": "Table of Contents",
   "title_sidebar": "TOC",
   "toc_cell": true,
   "toc_position": {
    "height": "calc(100% - 180px)",
    "left": "10px",
    "top": "150px",
    "width": "288px"
   },
   "toc_section_display": true,
   "toc_window_display": false
  },
  "varInspector": {
   "cols": {
    "lenName": 16,
    "lenType": 16,
    "lenVar": 40
   },
   "kernels_config": {
    "python": {
     "delete_cmd_postfix": "",
     "delete_cmd_prefix": "del ",
     "library": "var_list.py",
     "varRefreshCmd": "print(var_dic_list())"
    },
    "r": {
     "delete_cmd_postfix": ") ",
     "delete_cmd_prefix": "rm(",
     "library": "var_list.r",
     "varRefreshCmd": "cat(var_dic_list()) "
    }
   },
   "types_to_exclude": [
    "module",
    "function",
    "builtin_function_or_method",
    "instance",
    "_Feature"
   ],
   "window_display": false
  }
 },
 "nbformat": 4,
 "nbformat_minor": 4
}
