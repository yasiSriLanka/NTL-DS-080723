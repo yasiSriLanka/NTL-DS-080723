{
 "cells": [
  {
   "cell_type": "markdown",
   "metadata": {},
   "source": [
    "# Recommender Systems"
   ]
  },
  {
   "cell_type": "code",
   "execution_count": 3,
   "metadata": {
    "ExecuteTime": {
     "end_time": "2023-10-13T04:45:42.062767Z",
     "start_time": "2023-10-13T04:45:40.696816Z"
    }
   },
   "outputs": [],
   "source": [
    "from random import gauss as gs, uniform as uni, seed\n",
    "import numpy as np\n",
    "import pandas as pd\n",
    "from sklearn.linear_model import LinearRegression"
   ]
  },
  {
   "cell_type": "markdown",
   "metadata": {},
   "source": [
    "![Netflix](https://miro.medium.com/max/1400/1*jlQxemlP9Yim_rWTqlCFDQ.png)"
   ]
  },
  {
   "cell_type": "markdown",
   "metadata": {},
   "source": [
    "![Amazon](images/amazon_recommender.png)"
   ]
  },
  {
   "cell_type": "markdown",
   "metadata": {
    "heading_collapsed": true
   },
   "source": [
    "## Agenda"
   ]
  },
  {
   "cell_type": "markdown",
   "metadata": {
    "hidden": true
   },
   "source": [
    "- describe the difference between content-based and collaborative-filtering algorithms\n",
    "- explain and use the cosine similarity metric\n",
    "- describe the algorithm of alternating least-squares"
   ]
  },
  {
   "cell_type": "markdown",
   "metadata": {
    "heading_collapsed": true
   },
   "source": [
    "## Intro"
   ]
  },
  {
   "cell_type": "markdown",
   "metadata": {
    "hidden": true
   },
   "source": [
    "Recommender systems can be classified along various lines. One fundamental distinction is **content-based** vs. **collaborative-filtering** systems.\n",
    "\n",
    "To illustrate this, consider two different strategies: (a) I recommend items to you that are *similar to other items* you've used/bought/read/watched; and (b) I recommend items to you that people *similar to you* have used/bought/read/watched. The first is the **content-based strategy**; the second is the **collaborative-filtering strategy**. \n",
    "\n",
    "Another distinction drawn is in whether (a) the system uses existing ratings to compute user-user or item-item similarity, or (b) the system uses machine learning techniques to make predictions. Recommenders of the first sort are called **memory-based**; recommenders of the second sort are called **model-based**."
   ]
  },
  {
   "cell_type": "markdown",
   "metadata": {
    "heading_collapsed": true
   },
   "source": [
    "## Content-Based Systems"
   ]
  },
  {
   "cell_type": "markdown",
   "metadata": {
    "hidden": true
   },
   "source": [
    "The basic idea here is to recommend items to a user that are *similar to* items that the user has already enjoyed. Suppose we represent TV shows as rows, where the columns represent various features of these TV shows. These features might be things like the presence of a certain actor or the show fitting into a particular genre etc. We'll just use binary features here, perhaps the result of some one-hot encoding:"
   ]
  },
  {
   "cell_type": "code",
   "execution_count": 4,
   "metadata": {
    "ExecuteTime": {
     "end_time": "2023-10-13T04:45:42.078766Z",
     "start_time": "2023-10-13T04:45:42.063766Z"
    },
    "hidden": true
   },
   "outputs": [
    {
     "data": {
      "text/plain": [
       "array([[0, 1, 1, 0, 1, 1, 1],\n",
       "       [0, 0, 0, 1, 1, 1, 0],\n",
       "       [1, 1, 1, 0, 0, 1, 1],\n",
       "       [0, 1, 1, 1, 0, 0, 1]])"
      ]
     },
     "execution_count": 4,
     "metadata": {},
     "output_type": "execute_result"
    }
   ],
   "source": [
    "tv_shows = np.array([[0, 1, 1, 0, 1, 1, 1],\n",
    "                   [0, 0, 0, 1, 1, 1, 0],\n",
    "                   [1, 1, 1, 0, 0, 1, 1],\n",
    "                   [0, 1, 1, 1, 0, 0, 1]])\n",
    "\n",
    "tv_shows"
   ]
  },
  {
   "cell_type": "markdown",
   "metadata": {
    "hidden": true
   },
   "source": [
    "Bob likes the TV Show represented by Row \\#1. Which show (row) should we recommend to Bob?\n",
    "\n",
    "One natural way of measuring the similarity between two vectors is by the **cosine of the angle between them**. Two points near one another in feature space will correspond to vectors that nearly overlap, i.e. vectors that describe a small angle $\\theta$. And as $\\theta$ decreases, $\\cos(\\theta)$ *increases*. So we'll be looking for large values of the cosine (which ranges between -1 and 1). We can also think of the cosine between two vectors as the *projection of one vector onto the other*:\n",
    "\n",
    "![image.png](https://www.oreilly.com/api/v2/epubs/9781788295758/files/assets/2b4a7a82-ad4c-4b2a-b808-e423a334de6f.png)\n",
    "We can use this metric easily if we treat our rows (the items we're comparing for similarity) as vectors: We can calculate the cosine of the angle $\\theta$ between two vectors $\\vec{a}$ and $\\vec{b}$ as follows: $\\cos(\\theta) = \\frac{\\vec{a}\\cdot\\vec{b}}{|\\vec{a}||\\vec{b}|}$"
   ]
  },
  {
   "cell_type": "code",
   "execution_count": 5,
   "metadata": {
    "ExecuteTime": {
     "end_time": "2023-10-13T04:45:42.094767Z",
     "start_time": "2023-10-13T04:45:42.080767Z"
    },
    "hidden": true
   },
   "outputs": [],
   "source": [
    "numerators = np.array([tv_shows[0].dot(tv_show) for tv_show in tv_shows[1:]])"
   ]
  },
  {
   "cell_type": "code",
   "execution_count": 6,
   "metadata": {
    "ExecuteTime": {
     "end_time": "2023-10-13T04:45:42.109796Z",
     "start_time": "2023-10-13T04:45:42.096767Z"
    },
    "hidden": true
   },
   "outputs": [
    {
     "data": {
      "text/plain": [
       "array([2, 4, 3])"
      ]
     },
     "execution_count": 6,
     "metadata": {},
     "output_type": "execute_result"
    }
   ],
   "source": [
    "numerators"
   ]
  },
  {
   "cell_type": "code",
   "execution_count": 6,
   "metadata": {
    "ExecuteTime": {
     "end_time": "2023-10-13T04:45:42.125767Z",
     "start_time": "2023-10-13T04:45:42.111768Z"
    },
    "hidden": true
   },
   "outputs": [],
   "source": [
    "denominators = np.array(\n",
    "    [(np.linalg.norm(tv_shows[0]) * np.linalg.norm(tv_show)) for tv_show in tv_shows[1:]]\n",
    ")"
   ]
  },
  {
   "cell_type": "code",
   "execution_count": 7,
   "metadata": {
    "ExecuteTime": {
     "end_time": "2023-10-13T04:45:42.140765Z",
     "start_time": "2023-10-13T04:45:42.126767Z"
    },
    "hidden": true
   },
   "outputs": [
    {
     "data": {
      "text/plain": [
       "array([3.87298335, 5.        , 4.47213595])"
      ]
     },
     "execution_count": 7,
     "metadata": {},
     "output_type": "execute_result"
    }
   ],
   "source": [
    "denominators"
   ]
  },
  {
   "cell_type": "code",
   "execution_count": 8,
   "metadata": {
    "ExecuteTime": {
     "end_time": "2023-10-13T04:45:42.155766Z",
     "start_time": "2023-10-13T04:45:42.141767Z"
    },
    "hidden": true
   },
   "outputs": [
    {
     "data": {
      "text/plain": [
       "array([0.51639778, 0.8       , 0.67082039])"
      ]
     },
     "execution_count": 8,
     "metadata": {},
     "output_type": "execute_result"
    }
   ],
   "source": [
    "numerators / denominators"
   ]
  },
  {
   "cell_type": "markdown",
   "metadata": {
    "hidden": true
   },
   "source": [
    "Since the cosine similarity to Row \\#1 is highest for Row \\#3, we would recommend this TV show."
   ]
  },
  {
   "cell_type": "markdown",
   "metadata": {
    "hidden": true
   },
   "source": [
    "***"
   ]
  },
  {
   "cell_type": "markdown",
   "metadata": {
    "heading_collapsed": true
   },
   "source": [
    "## Collaborative Filtering"
   ]
  },
  {
   "cell_type": "markdown",
   "metadata": {
    "hidden": true
   },
   "source": [
    "Now the idea is to recommend items to a user based on what *similar* users have enjoyed. Suppose we have the following recording of explicit ratings of five items by three users:"
   ]
  },
  {
   "cell_type": "code",
   "execution_count": 9,
   "metadata": {
    "ExecuteTime": {
     "end_time": "2023-10-13T04:45:42.170795Z",
     "start_time": "2023-10-13T04:45:42.157766Z"
    },
    "hidden": true,
    "scrolled": true
   },
   "outputs": [
    {
     "data": {
      "text/plain": [
       "array([[5, 4, 3, 4, 5],\n",
       "       [3, 1, 1, 2, 5],\n",
       "       [4, 2, 3, 1, 4]])"
      ]
     },
     "execution_count": 9,
     "metadata": {},
     "output_type": "execute_result"
    }
   ],
   "source": [
    "users = np.array([[5, 4, 3, 4, 5], [3, 1, 1, 2, 5], [4, 2, 3, 1, 4]])\n",
    "\n",
    "new_user = np.array([5, 0, 0, 0, 0])\n",
    "users"
   ]
  },
  {
   "cell_type": "markdown",
   "metadata": {
    "hidden": true
   },
   "source": [
    "To which user is `new_user` most similar?\n",
    "\n",
    "One metric is cosine similarity:"
   ]
  },
  {
   "cell_type": "code",
   "execution_count": 10,
   "metadata": {
    "ExecuteTime": {
     "end_time": "2023-10-13T04:45:42.185799Z",
     "start_time": "2023-10-13T04:45:42.173767Z"
    },
    "hidden": true
   },
   "outputs": [],
   "source": [
    "new_user_mag = 5\n",
    "\n",
    "numerators = np.array([new_user.dot(user) for user in users])"
   ]
  },
  {
   "cell_type": "code",
   "execution_count": 11,
   "metadata": {
    "ExecuteTime": {
     "end_time": "2023-10-13T04:45:42.201767Z",
     "start_time": "2023-10-13T04:45:42.187768Z"
    },
    "hidden": true
   },
   "outputs": [
    {
     "data": {
      "text/plain": [
       "array([25, 15, 20])"
      ]
     },
     "execution_count": 11,
     "metadata": {},
     "output_type": "execute_result"
    }
   ],
   "source": [
    "numerators"
   ]
  },
  {
   "cell_type": "code",
   "execution_count": 12,
   "metadata": {
    "ExecuteTime": {
     "end_time": "2023-10-13T04:45:42.217801Z",
     "start_time": "2023-10-13T04:45:42.202766Z"
    },
    "hidden": true
   },
   "outputs": [],
   "source": [
    "denominators = np.array(\n",
    "    [(np.linalg.norm(new_user) * np.linalg.norm(user)) for user in users]\n",
    ")"
   ]
  },
  {
   "cell_type": "code",
   "execution_count": 13,
   "metadata": {
    "ExecuteTime": {
     "end_time": "2023-10-13T04:45:42.233795Z",
     "start_time": "2023-10-13T04:45:42.219767Z"
    },
    "hidden": true
   },
   "outputs": [
    {
     "data": {
      "text/plain": [
       "array([47.69696007, 31.6227766 , 33.91164992])"
      ]
     },
     "execution_count": 13,
     "metadata": {},
     "output_type": "execute_result"
    }
   ],
   "source": [
    "denominators"
   ]
  },
  {
   "cell_type": "code",
   "execution_count": 14,
   "metadata": {
    "ExecuteTime": {
     "end_time": "2023-10-13T04:45:42.249767Z",
     "start_time": "2023-10-13T04:45:42.235769Z"
    },
    "hidden": true
   },
   "outputs": [
    {
     "data": {
      "text/plain": [
       "array([0.52414242, 0.47434165, 0.58976782])"
      ]
     },
     "execution_count": 14,
     "metadata": {},
     "output_type": "execute_result"
    }
   ],
   "source": [
    "numerators / denominators"
   ]
  },
  {
   "cell_type": "markdown",
   "metadata": {
    "hidden": true
   },
   "source": [
    "But we could also use another metric, such as Pearson Correlation:"
   ]
  },
  {
   "cell_type": "code",
   "execution_count": 15,
   "metadata": {
    "ExecuteTime": {
     "end_time": "2023-10-13T04:45:42.265767Z",
     "start_time": "2023-10-13T04:45:42.251769Z"
    },
    "hidden": true
   },
   "outputs": [
    {
     "data": {
      "text/plain": [
       "[0.5345224838248488, 0.20044593143431824, 0.5144957554275266]"
      ]
     },
     "execution_count": 15,
     "metadata": {},
     "output_type": "execute_result"
    }
   ],
   "source": [
    "[np.corrcoef(new_user, user)[0, 1] for user in users]"
   ]
  },
  {
   "cell_type": "markdown",
   "metadata": {
    "hidden": true
   },
   "source": [
    "For more on content-based vs. collaborative systems, see [this Wikipedia article](https://en.wikipedia.org/wiki/Collaborative_filtering) and [this blog post](https://towardsdatascience.com/recommendation-systems-models-and-evaluation-84944a84fb8e). [This post](https://dataconomy.com/2015/03/an-introduction-to-recommendation-engines/) on dataconomy is also useful."
   ]
  },
  {
   "cell_type": "markdown",
   "metadata": {
    "hidden": true
   },
   "source": [
    "***"
   ]
  },
  {
   "cell_type": "markdown",
   "metadata": {
    "heading_collapsed": true
   },
   "source": [
    "## Matrix Factorization"
   ]
  },
  {
   "cell_type": "markdown",
   "metadata": {
    "hidden": true
   },
   "source": [
    "Suppose we start with a matrix $R$ of users and products, where each cell records the ranking the relevant user gave to the relevant product. Very often we'll be able to record this data as a sparse matrix, because many users will not have ranked many items.\n",
    "\n",
    "Imagine factoring this matrix into a user matrix $P$ and an item matrix $Q^T$: $R = PQ^T$. What would the shapes of $P$ and $Q^T$ be? Clearly $P$ must have as many rows as $R$, which is just the number of users who have given ratings. Similarly, $Q^T$ must have as many columns as $R$, which is just the number of items that have received ratings. We also know that the number of columns of $P$ must match the number of rows of $Q^T$ for the factorization to be possible, but this number could really be anything. In practice this will be a small number, and for reasons that will emerge shortly let's refer to these dimensions as **latent features** of the items in $R$. If $p$ is a row of $P$, i.e. a user-vector, and $q$ is a column of $Q^T$, i.e. an item-vector, then $p$ will record the user's particular weights or *preferences* with respect to the latent features, while $q$ will record how the item ranks with respect to those same latent features. This in turn means that we could predict a user's ranking of a particular item simply by calculating the dot-product of $p$ and $q$! \n",
    "\n",
    "If we could effect such a factorization, $R = PQ^T$, then we could calculate *all* predictions, i.e. fill in the gaps in $R$, by solving for $P$ and $Q$.\n",
    "\n",
    "The isolation of these latent features can be achieved in various ways. But this is at heart a matter of **dimensionality reduction**, and so one way is with the [SVD](https://hackernoon.com/introduction-to-recommender-system-part-1-collaborative-filtering-singular-value-decomposition-44c9659c5e75).\n",
    "\n",
    "An alternative is to use the method of Alternating Least Squares."
   ]
  },
  {
   "cell_type": "markdown",
   "metadata": {
    "heading_collapsed": true,
    "hidden": true
   },
   "source": [
    "### Alternating Least-Squares (ALS)"
   ]
  },
  {
   "cell_type": "markdown",
   "metadata": {
    "hidden": true
   },
   "source": [
    "ALS recommendation systems are often implemented in Spark architectures because of the appropriateness for distributed computing. ALS systems often involve very large datasets (consider how much data the recommendation engine for NETFLIX must have, for example!), and it is often useful to store them as sparse matrices, which Spark's ML library can handle. In fact, Spark's mllib even includes a \"Rating\" datatype! ALS is **collaborative** and **model-based**, and is especially useful for working with *implicit* ratings.\n",
    "\n",
    "We're looking for two matrices (a user matrix and an item matrix) into which we can factor our ratings matrix. We can't of course solve for two matrices at once. But here's what we can do:\n",
    "\n",
    "Make guesses of the values for $P$ and $Q$. Then hold the values of one *constant* so that we can optimize for the values of the other!\n",
    "\n",
    "Basically this converts our problem into a familiar *least-squares* problem. See [this page](https://textbooks.math.gatech.edu/ila/least-squares.html) and [this page](https://datasciencemadesimpler.wordpress.com/tag/alternating-least-squares/) for more details, but here's the basic idea:"
   ]
  },
  {
   "cell_type": "markdown",
   "metadata": {
    "hidden": true
   },
   "source": [
    "If we have an equation $Ax = b$ for *non-square* $A$, then we have:\n",
    "\n",
    "$A^TAx = A^Tb$ <br/>\n",
    "Thus: <br/>\n",
    "$x = (A^TA)^{-1}A^Tb$\n",
    "\n",
    "This $(A^TA)^{-1}A^T$ **is the pseudo-inverse of** $A$. We encountered this before in our whirlwind tour of linear algebra."
   ]
  },
  {
   "cell_type": "code",
   "execution_count": 16,
   "metadata": {
    "ExecuteTime": {
     "end_time": "2023-10-13T04:45:42.280766Z",
     "start_time": "2023-10-13T04:45:42.266768Z"
    },
    "hidden": true
   },
   "outputs": [],
   "source": [
    "np.random.seed(42)\n",
    "\n",
    "A = np.random.rand(5, 5)\n",
    "b = np.random.rand(5, 1)"
   ]
  },
  {
   "cell_type": "code",
   "execution_count": 17,
   "metadata": {
    "ExecuteTime": {
     "end_time": "2023-10-13T04:45:42.296766Z",
     "start_time": "2023-10-13T04:45:42.282767Z"
    },
    "hidden": true
   },
   "outputs": [
    {
     "data": {
      "text/plain": [
       "array([[-226.17808999],\n",
       "       [ 218.48756753],\n",
       "       [-362.5650656 ],\n",
       "       [ 147.90541505],\n",
       "       [ 350.1459072 ]])"
      ]
     },
     "execution_count": 17,
     "metadata": {},
     "output_type": "execute_result"
    }
   ],
   "source": [
    "np.linalg.inv(A.T.dot(A)).dot(A.T).dot(b)"
   ]
  },
  {
   "cell_type": "markdown",
   "metadata": {
    "hidden": true
   },
   "source": [
    "The `numpy` library has a shortcut for this: `numpy.linalg.pinv()`:"
   ]
  },
  {
   "cell_type": "code",
   "execution_count": 18,
   "metadata": {
    "ExecuteTime": {
     "end_time": "2023-10-13T04:45:42.312781Z",
     "start_time": "2023-10-13T04:45:42.298768Z"
    },
    "hidden": true
   },
   "outputs": [
    {
     "data": {
      "text/plain": [
       "array([[-226.17808981],\n",
       "       [ 218.48756735],\n",
       "       [-362.56506531],\n",
       "       [ 147.90541493],\n",
       "       [ 350.14590691]])"
      ]
     },
     "execution_count": 18,
     "metadata": {},
     "output_type": "execute_result"
    }
   ],
   "source": [
    "np.linalg.pinv(A).dot(b)"
   ]
  },
  {
   "cell_type": "markdown",
   "metadata": {
    "hidden": true
   },
   "source": [
    "\"When we talk about collaborative filtering for recommender systems we want to solve the problem of our original matrix having millions of different dimensions, but our 'tastes' not being nearly as complex. Even if i’ve \\[sic\\] viewed hundreds of items they might just express a couple of different tastes. Here we can actually use matrix factorization to mathematically reduce the dimensionality of our original 'all users by all items' matrix into something much smaller that represents 'all items by some taste dimensions' and 'all users by some taste dimensions'. These dimensions are called ***latent or hidden features*** and we learn them from our data\" ([Medium article: \"ALS Implicit Collaborative Filtering\"](https://medium.com/radon-dev/als-implicit-collaborative-filtering-5ed653ba39fe))."
   ]
  },
  {
   "cell_type": "markdown",
   "metadata": {
    "heading_collapsed": true,
    "hidden": true
   },
   "source": [
    "#### Simple Example\n",
    "\n",
    "Suppose Max and Erin have rated five films:"
   ]
  },
  {
   "cell_type": "code",
   "execution_count": 19,
   "metadata": {
    "ExecuteTime": {
     "end_time": "2023-10-13T04:45:42.328766Z",
     "start_time": "2023-10-13T04:45:42.314767Z"
    },
    "hidden": true
   },
   "outputs": [
    {
     "data": {
      "text/html": [
       "<div>\n",
       "<style scoped>\n",
       "    .dataframe tbody tr th:only-of-type {\n",
       "        vertical-align: middle;\n",
       "    }\n",
       "\n",
       "    .dataframe tbody tr th {\n",
       "        vertical-align: top;\n",
       "    }\n",
       "\n",
       "    .dataframe thead th {\n",
       "        text-align: right;\n",
       "    }\n",
       "</style>\n",
       "<table border=\"1\" class=\"dataframe\">\n",
       "  <thead>\n",
       "    <tr style=\"text-align: right;\">\n",
       "      <th></th>\n",
       "      <th>film1</th>\n",
       "      <th>film2</th>\n",
       "      <th>film3</th>\n",
       "      <th>film4</th>\n",
       "      <th>film5</th>\n",
       "    </tr>\n",
       "  </thead>\n",
       "  <tbody>\n",
       "    <tr>\n",
       "      <th>max</th>\n",
       "      <td>0</td>\n",
       "      <td>1</td>\n",
       "      <td>0</td>\n",
       "      <td>0</td>\n",
       "      <td>4</td>\n",
       "    </tr>\n",
       "    <tr>\n",
       "      <th>erin</th>\n",
       "      <td>0</td>\n",
       "      <td>0</td>\n",
       "      <td>0</td>\n",
       "      <td>5</td>\n",
       "      <td>0</td>\n",
       "    </tr>\n",
       "  </tbody>\n",
       "</table>\n",
       "</div>"
      ],
      "text/plain": [
       "      film1  film2  film3  film4  film5\n",
       "max       0      1      0      0      4\n",
       "erin      0      0      0      5      0"
      ]
     },
     "execution_count": 19,
     "metadata": {},
     "output_type": "execute_result"
    }
   ],
   "source": [
    "ratings_arr = pd.DataFrame([[0, 1, 0, 0, 4], [0, 0, 0, 5, 0]],\\\n",
    "                           index=['max', 'erin'],\n",
    "             columns=['film' + str(i) for i in range(1, 6)])\n",
    "ratings_arr"
   ]
  },
  {
   "cell_type": "markdown",
   "metadata": {
    "hidden": true
   },
   "source": [
    "Suppose now that we isolate ten latent features of these films, and that we can capture our users, i.e. the tastes of Max and Erin, according to these features. (We'll just fill out a matrix randomly.)"
   ]
  },
  {
   "cell_type": "code",
   "execution_count": 20,
   "metadata": {
    "ExecuteTime": {
     "end_time": "2023-10-13T04:45:42.344766Z",
     "start_time": "2023-10-13T04:45:42.329767Z"
    },
    "hidden": true
   },
   "outputs": [],
   "source": [
    "seed(100)\n",
    "users = []\n",
    "\n",
    "for _ in range(2):\n",
    "    user = []\n",
    "    for _ in range(10):\n",
    "        user.append(gs(0, 1))\n",
    "    users.append(user)\n",
    "users_arr = np.array(users)"
   ]
  },
  {
   "cell_type": "code",
   "execution_count": 21,
   "metadata": {
    "ExecuteTime": {
     "end_time": "2023-10-13T04:45:42.360767Z",
     "start_time": "2023-10-13T04:45:42.346768Z"
    },
    "hidden": true
   },
   "outputs": [
    {
     "data": {
      "text/plain": [
       "array([[ 0.67155333,  0.87331967,  0.20361655, -1.55034921, -0.12059128,\n",
       "        -1.05927574,  0.38143697, -1.17342904,  0.96637182,  0.53248343],\n",
       "       [ 2.22041991,  0.68901284,  0.85436449, -0.29504752, -0.62335055,\n",
       "         1.5917369 ,  0.17920475,  0.60086339,  0.3474319 ,  0.85537186]])"
      ]
     },
     "execution_count": 21,
     "metadata": {},
     "output_type": "execute_result"
    }
   ],
   "source": [
    "users_arr"
   ]
  },
  {
   "cell_type": "markdown",
   "metadata": {
    "hidden": true
   },
   "source": [
    "Now we'll make another random matrix that expresses *our items* in terms of these latent features."
   ]
  },
  {
   "cell_type": "code",
   "execution_count": 22,
   "metadata": {
    "ExecuteTime": {
     "end_time": "2023-10-13T04:45:42.376765Z",
     "start_time": "2023-10-13T04:45:42.361765Z"
    },
    "hidden": true
   },
   "outputs": [],
   "source": [
    "seed(100)\n",
    "items = []\n",
    "\n",
    "for _ in range(5):\n",
    "    item = []\n",
    "    for _ in range(10):\n",
    "        item.append(gs(0, 1))\n",
    "    items.append(item)\n",
    "items_arr = np.array(items)"
   ]
  },
  {
   "cell_type": "code",
   "execution_count": 23,
   "metadata": {
    "ExecuteTime": {
     "end_time": "2023-10-13T04:45:42.391766Z",
     "start_time": "2023-10-13T04:45:42.377767Z"
    },
    "hidden": true
   },
   "outputs": [
    {
     "data": {
      "text/plain": [
       "array([[ 0.67155333,  0.87331967,  0.20361655, -1.55034921, -0.12059128,\n",
       "        -1.05927574,  0.38143697, -1.17342904,  0.96637182,  0.53248343],\n",
       "       [ 2.22041991,  0.68901284,  0.85436449, -0.29504752, -0.62335055,\n",
       "         1.5917369 ,  0.17920475,  0.60086339,  0.3474319 ,  0.85537186],\n",
       "       [-1.80291827, -1.83311295,  0.60911087,  2.4250145 , -2.02233576,\n",
       "        -0.73382756,  0.24510831, -0.53817586, -0.30637608, -0.41367264],\n",
       "       [ 1.0027436 ,  0.03558136,  0.19013362, -1.27827915,  0.67648704,\n",
       "         1.79506722,  0.63054322, -0.37947302, -1.35033057,  0.45576721],\n",
       "       [ 0.42542416, -0.29962041, -2.48035968, -0.87457154, -1.23050164,\n",
       "        -1.00629648,  0.1857537 , -1.174924  , -0.33108494,  1.29437514]])"
      ]
     },
     "execution_count": 23,
     "metadata": {},
     "output_type": "execute_result"
    }
   ],
   "source": [
    "items_arr"
   ]
  },
  {
   "cell_type": "code",
   "execution_count": 24,
   "metadata": {
    "ExecuteTime": {
     "end_time": "2023-10-13T04:45:42.407766Z",
     "start_time": "2023-10-13T04:45:42.395767Z"
    },
    "hidden": true
   },
   "outputs": [
    {
     "data": {
      "text/plain": [
       "(2, 10)"
      ]
     },
     "execution_count": 24,
     "metadata": {},
     "output_type": "execute_result"
    }
   ],
   "source": [
    "users_arr.shape"
   ]
  },
  {
   "cell_type": "code",
   "execution_count": 25,
   "metadata": {
    "ExecuteTime": {
     "end_time": "2023-10-13T04:45:42.422766Z",
     "start_time": "2023-10-13T04:45:42.410767Z"
    },
    "hidden": true
   },
   "outputs": [
    {
     "data": {
      "text/plain": [
       "(5, 10)"
      ]
     },
     "execution_count": 25,
     "metadata": {},
     "output_type": "execute_result"
    }
   ],
   "source": [
    "items_arr.shape"
   ]
  },
  {
   "cell_type": "code",
   "execution_count": 27,
   "metadata": {},
   "outputs": [
    {
     "data": {
      "text/plain": [
       "(10, 5)"
      ]
     },
     "execution_count": 27,
     "metadata": {},
     "output_type": "execute_result"
    }
   ],
   "source": [
    "items_arr.T.shape"
   ]
  },
  {
   "cell_type": "markdown",
   "metadata": {
    "hidden": true
   },
   "source": [
    "To construct our large users-by-items matrix, we'll simply take the product of our two random matrices."
   ]
  },
  {
   "cell_type": "code",
   "execution_count": 26,
   "metadata": {
    "ExecuteTime": {
     "end_time": "2023-10-13T04:45:42.438766Z",
     "start_time": "2023-10-13T04:45:42.424766Z"
    },
    "hidden": true
   },
   "outputs": [
    {
     "data": {
      "text/plain": [
       "array([[ 7.53516384,  1.26783511, -5.21738432,  0.36547776,  3.90803828],\n",
       "       [ 1.26783511, 10.38970834, -6.10853643,  5.03189793, -1.63817674]])"
      ]
     },
     "execution_count": 26,
     "metadata": {},
     "output_type": "execute_result"
    }
   ],
   "source": [
    "users_arr.dot(items_arr.T)"
   ]
  },
  {
   "cell_type": "markdown",
   "metadata": {
    "hidden": true
   },
   "source": [
    "Now here's where the ALS really kicks in: We'll solve for Max's and Erin's preference vectors by multiplying the pseudo-inverse of the items array by their respective ratings vectors:"
   ]
  },
  {
   "cell_type": "markdown",
   "metadata": {
    "hidden": true
   },
   "source": [
    "$x = (A^TA)^{-1}A^Tb$\n",
    "\n",
    " $MaxPreferences = (items^Titems)^{-1}items^TMaxRatings$"
   ]
  },
  {
   "cell_type": "code",
   "execution_count": 28,
   "metadata": {
    "ExecuteTime": {
     "end_time": "2023-10-13T04:45:42.454766Z",
     "start_time": "2023-10-13T04:45:42.440767Z"
    },
    "hidden": true
   },
   "outputs": [
    {
     "name": "stdout",
     "output_type": "stream",
     "text": [
      "[ 0.47099573 -0.11214938 -0.98527859  0.09266666 -0.64747458  0.00854642\n",
      " -0.11601818  0.09586291 -0.08579953  0.55693307]\n",
      "[-0.23238655 -0.55138144  0.5415508  -0.71191248  0.27767197  0.81157767\n",
      "  0.78557579 -1.03623954 -1.25490079  0.02606555]\n"
     ]
    }
   ],
   "source": [
    "max_pref = np.linalg.pinv(items_arr).dot(ratings_arr.loc['max', :])\n",
    "print(max_pref)\n",
    "erin_pref = np.linalg.pinv(items_arr).dot(ratings_arr.loc['erin', :])\n",
    "print(erin_pref)"
   ]
  },
  {
   "cell_type": "code",
   "execution_count": 29,
   "metadata": {
    "ExecuteTime": {
     "end_time": "2023-10-13T04:45:42.470766Z",
     "start_time": "2023-10-13T04:45:42.456767Z"
    },
    "hidden": true
   },
   "outputs": [
    {
     "data": {
      "text/plain": [
       "(10, 5)"
      ]
     },
     "execution_count": 29,
     "metadata": {},
     "output_type": "execute_result"
    }
   ],
   "source": [
    "items_arr.T.shape"
   ]
  },
  {
   "cell_type": "markdown",
   "metadata": {
    "hidden": true
   },
   "source": [
    "We'll predict (or, in this case, reproduce) Max's and Erin's ratings for films by simply multiplying their preference vectors by the transpose of the items array:"
   ]
  },
  {
   "cell_type": "code",
   "execution_count": 30,
   "metadata": {
    "ExecuteTime": {
     "end_time": "2023-10-13T04:45:42.485767Z",
     "start_time": "2023-10-13T04:45:42.472766Z"
    },
    "hidden": true
   },
   "outputs": [
    {
     "data": {
      "text/plain": [
       "array([-1.24900090e-15,  1.00000000e+00,  3.30291350e-15,  1.80411242e-16,\n",
       "        4.00000000e+00])"
      ]
     },
     "execution_count": 30,
     "metadata": {},
     "output_type": "execute_result"
    }
   ],
   "source": [
    "newmax = max_pref.dot(items_arr.T)\n",
    "newmax"
   ]
  },
  {
   "cell_type": "markdown",
   "metadata": {
    "hidden": true
   },
   "source": [
    "This lines up with the ratings with which we began."
   ]
  },
  {
   "cell_type": "code",
   "execution_count": 31,
   "metadata": {
    "ExecuteTime": {
     "end_time": "2023-10-13T04:45:42.501765Z",
     "start_time": "2023-10-13T04:45:42.487767Z"
    },
    "hidden": true
   },
   "outputs": [
    {
     "data": {
      "text/plain": [
       "array([-2.22044605e-16, -3.77475828e-15, -1.11022302e-16,  5.00000000e+00,\n",
       "        2.22044605e-15])"
      ]
     },
     "execution_count": 31,
     "metadata": {},
     "output_type": "execute_result"
    }
   ],
   "source": [
    "newerin = erin_pref.dot(items_arr.T)\n",
    "newerin"
   ]
  },
  {
   "cell_type": "code",
   "execution_count": 32,
   "metadata": {
    "ExecuteTime": {
     "end_time": "2023-10-13T04:45:42.516765Z",
     "start_time": "2023-10-13T04:45:42.502766Z"
    },
    "hidden": true
   },
   "outputs": [
    {
     "data": {
      "text/html": [
       "<div>\n",
       "<style scoped>\n",
       "    .dataframe tbody tr th:only-of-type {\n",
       "        vertical-align: middle;\n",
       "    }\n",
       "\n",
       "    .dataframe tbody tr th {\n",
       "        vertical-align: top;\n",
       "    }\n",
       "\n",
       "    .dataframe thead th {\n",
       "        text-align: right;\n",
       "    }\n",
       "</style>\n",
       "<table border=\"1\" class=\"dataframe\">\n",
       "  <thead>\n",
       "    <tr style=\"text-align: right;\">\n",
       "      <th></th>\n",
       "      <th>film1</th>\n",
       "      <th>film2</th>\n",
       "      <th>film3</th>\n",
       "      <th>film4</th>\n",
       "      <th>film5</th>\n",
       "    </tr>\n",
       "  </thead>\n",
       "  <tbody>\n",
       "    <tr>\n",
       "      <th>max</th>\n",
       "      <td>0</td>\n",
       "      <td>1</td>\n",
       "      <td>0</td>\n",
       "      <td>0</td>\n",
       "      <td>4</td>\n",
       "    </tr>\n",
       "    <tr>\n",
       "      <th>erin</th>\n",
       "      <td>0</td>\n",
       "      <td>0</td>\n",
       "      <td>0</td>\n",
       "      <td>5</td>\n",
       "      <td>0</td>\n",
       "    </tr>\n",
       "  </tbody>\n",
       "</table>\n",
       "</div>"
      ],
      "text/plain": [
       "      film1  film2  film3  film4  film5\n",
       "max       0      1      0      0      4\n",
       "erin      0      0      0      5      0"
      ]
     },
     "execution_count": 32,
     "metadata": {},
     "output_type": "execute_result"
    }
   ],
   "source": [
    "ratings_arr"
   ]
  },
  {
   "cell_type": "markdown",
   "metadata": {
    "hidden": true
   },
   "source": [
    "Ditto!"
   ]
  },
  {
   "cell_type": "markdown",
   "metadata": {
    "hidden": true
   },
   "source": [
    "We'll make a quick error calculation:"
   ]
  },
  {
   "cell_type": "code",
   "execution_count": 33,
   "metadata": {
    "ExecuteTime": {
     "end_time": "2023-10-13T04:45:42.532766Z",
     "start_time": "2023-10-13T04:45:42.517766Z"
    },
    "hidden": true
   },
   "outputs": [
    {
     "name": "stdout",
     "output_type": "stream",
     "text": [
      "1.262177448353619e-29\n"
     ]
    }
   ],
   "source": [
    "guess = np.vstack([newmax, newerin])\n",
    "\n",
    "err = 0\n",
    "for i in range(2):\n",
    "    for j in range(len(ratings_arr.values[i, :])):\n",
    "        if ratings_arr.values[i, j] != 0:\n",
    "            err += (ratings_arr.values[i, j] - guess[i, j])**2\n",
    "print(err)"
   ]
  },
  {
   "cell_type": "markdown",
   "metadata": {
    "heading_collapsed": true,
    "hidden": true
   },
   "source": [
    "#### Second Example"
   ]
  },
  {
   "cell_type": "code",
   "execution_count": 34,
   "metadata": {
    "ExecuteTime": {
     "end_time": "2023-10-13T04:45:42.548768Z",
     "start_time": "2023-10-13T04:45:42.534770Z"
    },
    "hidden": true
   },
   "outputs": [],
   "source": [
    "# Users: m x n (m users)\n",
    "# Items: r x n (r items)\n",
    "# Ratings: m x r"
   ]
  },
  {
   "cell_type": "code",
   "execution_count": 35,
   "metadata": {
    "ExecuteTime": {
     "end_time": "2023-10-13T04:45:42.580767Z",
     "start_time": "2023-10-13T04:45:42.550766Z"
    },
    "hidden": true
   },
   "outputs": [],
   "source": [
    "# If P = users and Q = items, then we want to approximate R = PQ^T\n",
    "# Let's generate R.\n",
    "\n",
    "seed(42)\n",
    "ratings2 = []\n",
    "for _ in range(100):\n",
    "    user = []\n",
    "    for _ in range(100):\n",
    "        chance = gs(0, 0.4)\n",
    "        \n",
    "        # We'll fill our ratings matrix mostly with 0's to represent\n",
    "        # unrated films. This is NOT standard; we're doing this only\n",
    "        # to illustrate the general algorithm.\n",
    "        if chance > 0.5:\n",
    "            user.append(int(uni(1, 6)))\n",
    "        else:\n",
    "            user.append(0)\n",
    "        \n",
    "        # This 'if' will simply ensure that everyone has given at least\n",
    "        # one rating.\n",
    "        if user.count(0) == 10:\n",
    "            user[int(uni(0, 10))] = int(uni(1, 6))\n",
    "    ratings2.append(user)\n",
    "ratings_arr2 = np.array(ratings2)"
   ]
  },
  {
   "cell_type": "code",
   "execution_count": 36,
   "metadata": {
    "ExecuteTime": {
     "end_time": "2023-10-13T04:45:42.596769Z",
     "start_time": "2023-10-13T04:45:42.582770Z"
    },
    "hidden": true
   },
   "outputs": [
    {
     "data": {
      "text/plain": [
       "(100, 100)"
      ]
     },
     "execution_count": 36,
     "metadata": {},
     "output_type": "execute_result"
    }
   ],
   "source": [
    "ratings_arr2.shape"
   ]
  },
  {
   "cell_type": "code",
   "execution_count": 37,
   "metadata": {
    "ExecuteTime": {
     "end_time": "2023-10-13T04:45:42.612768Z",
     "start_time": "2023-10-13T04:45:42.598766Z"
    },
    "hidden": true
   },
   "outputs": [],
   "source": [
    "users2 = []\n",
    "\n",
    "# Random generation of values for the user matrix\n",
    "for _ in range(100):\n",
    "    user = []\n",
    "    for _ in range(10):\n",
    "        user.append(gs(0, 1))\n",
    "    users2.append(user)\n",
    "users_arr2 = np.array(users2)"
   ]
  },
  {
   "cell_type": "code",
   "execution_count": 38,
   "metadata": {
    "ExecuteTime": {
     "end_time": "2023-10-13T04:45:42.628765Z",
     "start_time": "2023-10-13T04:45:42.613766Z"
    },
    "hidden": true
   },
   "outputs": [
    {
     "data": {
      "text/plain": [
       "(100, 10)"
      ]
     },
     "execution_count": 38,
     "metadata": {},
     "output_type": "execute_result"
    }
   ],
   "source": [
    "users_arr2.shape"
   ]
  },
  {
   "cell_type": "code",
   "execution_count": 39,
   "metadata": {
    "ExecuteTime": {
     "end_time": "2023-10-13T04:45:42.643765Z",
     "start_time": "2023-10-13T04:45:42.629766Z"
    },
    "hidden": true
   },
   "outputs": [],
   "source": [
    "items2 = []\n",
    "\n",
    "# Random generation of values for the item matrix\n",
    "for _ in range(100):\n",
    "    item = []\n",
    "    for _ in range(10):\n",
    "        item.append(gs(0, 1))\n",
    "    items2.append(item)\n",
    "items_arr2 = np.array(items2)"
   ]
  },
  {
   "cell_type": "code",
   "execution_count": 40,
   "metadata": {
    "ExecuteTime": {
     "end_time": "2023-10-13T04:45:42.658767Z",
     "start_time": "2023-10-13T04:45:42.645770Z"
    },
    "hidden": true
   },
   "outputs": [
    {
     "data": {
      "text/plain": [
       "(100, 10)"
      ]
     },
     "execution_count": 40,
     "metadata": {},
     "output_type": "execute_result"
    }
   ],
   "source": [
    "items_arr2.shape"
   ]
  },
  {
   "cell_type": "markdown",
   "metadata": {
    "hidden": true
   },
   "source": [
    "Our first guess at filling in the matrix will simply be the matrix product:"
   ]
  },
  {
   "cell_type": "code",
   "execution_count": 41,
   "metadata": {
    "ExecuteTime": {
     "end_time": "2023-10-13T04:45:42.674766Z",
     "start_time": "2023-10-13T04:45:42.661767Z"
    },
    "hidden": true
   },
   "outputs": [],
   "source": [
    "guess = users_arr2.dot(items_arr2.T)"
   ]
  },
  {
   "cell_type": "code",
   "execution_count": 42,
   "metadata": {
    "ExecuteTime": {
     "end_time": "2023-10-13T04:45:42.689766Z",
     "start_time": "2023-10-13T04:45:42.675767Z"
    },
    "hidden": true
   },
   "outputs": [
    {
     "data": {
      "text/plain": [
       "True"
      ]
     },
     "execution_count": 42,
     "metadata": {},
     "output_type": "execute_result"
    }
   ],
   "source": [
    "guess.shape == ratings_arr2.shape"
   ]
  },
  {
   "cell_type": "markdown",
   "metadata": {
    "hidden": true
   },
   "source": [
    "Let's get a measure of error:"
   ]
  },
  {
   "cell_type": "code",
   "execution_count": 43,
   "metadata": {
    "ExecuteTime": {
     "end_time": "2023-10-13T04:45:42.705766Z",
     "start_time": "2023-10-13T04:45:42.690766Z"
    },
    "hidden": true
   },
   "outputs": [
    {
     "data": {
      "text/plain": [
       "array([[ 1.20022042, -4.79370844,  0.16745819, ...,  0.71515764,\n",
       "         5.29265957,  2.34612024],\n",
       "       [12.81954999,  1.09244517,  2.76883236, ...,  3.84048632,\n",
       "         3.63986143,  1.251285  ],\n",
       "       [-0.11924386,  0.1143655 , -0.52294795, ...,  3.37782545,\n",
       "        -2.46092459,  0.03240239],\n",
       "       ...,\n",
       "       [ 1.78409526, -0.16181232,  1.29355933, ...,  6.03771907,\n",
       "         1.97382977,  4.89026489],\n",
       "       [-1.85314949,  4.16815931,  3.84911175, ..., -0.0342376 ,\n",
       "        -5.73579374, -1.53629352],\n",
       "       [ 2.51939362,  5.31266136, -1.7857387 , ...,  5.18275941,\n",
       "        -2.55671716,  4.90783561]])"
      ]
     },
     "execution_count": 43,
     "metadata": {},
     "output_type": "execute_result"
    }
   ],
   "source": [
    "ratings_arr2 - guess"
   ]
  },
  {
   "cell_type": "code",
   "execution_count": 44,
   "metadata": {
    "ExecuteTime": {
     "end_time": "2023-10-13T04:45:42.721769Z",
     "start_time": "2023-10-13T04:45:42.707769Z"
    },
    "hidden": true
   },
   "outputs": [
    {
     "data": {
      "text/plain": [
       "122333.98763617325"
      ]
     },
     "execution_count": 44,
     "metadata": {},
     "output_type": "execute_result"
    }
   ],
   "source": [
    "err = (ratings_arr2 - guess)**2\n",
    "\n",
    "np.sum(err)"
   ]
  },
  {
   "cell_type": "markdown",
   "metadata": {
    "hidden": true
   },
   "source": [
    "Pretty terrible! But we started with random numbers and have only done one iteration. Let's see if we can do better:"
   ]
  },
  {
   "cell_type": "code",
   "execution_count": 45,
   "metadata": {
    "ExecuteTime": {
     "end_time": "2023-10-13T04:45:42.737767Z",
     "start_time": "2023-10-13T04:45:42.723768Z"
    },
    "hidden": true
   },
   "outputs": [],
   "source": [
    "def als(ratings, users, items, reps=10):\n",
    "    \n",
    "    ratings_cols = ratings.T\n",
    "    \n",
    "    for _ in range(reps):\n",
    "        new_users = []\n",
    "        \n",
    "        for i in range(len(ratings)):\n",
    "            \n",
    "            user = LinearRegression(fit_intercept=False)\\\n",
    "            .fit(items, ratings[i]).coef_\n",
    "            new_users.append(user)\n",
    "            \n",
    "        new_users = np.asarray(new_users)\n",
    "        \n",
    "        \n",
    "        \n",
    "        new_items = []\n",
    "        \n",
    "        for i in range(len(ratings)):\n",
    "            \n",
    "            item = LinearRegression(fit_intercept=False)\\\n",
    "            .fit(new_users, ratings_cols[i]).coef_\n",
    "            new_items.append(item)\n",
    "            \n",
    "        new_items = np.asarray(new_items)\n",
    "        \n",
    "        \n",
    "        \n",
    "        guess = new_users.dot(new_items.T)\n",
    "        err = 0\n",
    "        for i in range(len(ratings)):\n",
    "            for j in range(len(ratings[i])):\n",
    "                if ratings[i, j] != 0:\n",
    "                    err += (ratings[i, j] - guess[i, j])**2\n",
    "        print(err)\n",
    "        \n",
    "        items = new_items\n",
    "        \n",
    "    return new_users.dot(new_items.T)"
   ]
  },
  {
   "cell_type": "markdown",
   "metadata": {
    "hidden": true
   },
   "source": [
    "We should see our error decrease with more iterations:"
   ]
  },
  {
   "cell_type": "code",
   "execution_count": 46,
   "metadata": {
    "ExecuteTime": {
     "end_time": "2023-10-13T04:45:52.735767Z",
     "start_time": "2023-10-13T04:45:42.739767Z"
    },
    "hidden": true
   },
   "outputs": [
    {
     "name": "stdout",
     "output_type": "stream",
     "text": [
      "8679.959268046981\n",
      "6511.270608291891\n",
      "6272.528821101911\n",
      "6190.959718973226\n",
      "6153.14846089603\n",
      "6133.1582690963405\n",
      "6121.902204676268\n",
      "6115.079057339581\n",
      "6110.538074584971\n",
      "6107.255266508423\n",
      "6104.734553278027\n",
      "6102.714083690587\n",
      "6101.043135121949\n",
      "6099.629733317879\n",
      "6098.415398018758\n",
      "6097.361480021126\n",
      "6096.441351671079\n",
      "6095.635877355337\n",
      "6094.930768740716\n",
      "6094.314999501618\n",
      "6093.779790934051\n",
      "6093.3178952176195\n",
      "6092.923040928006\n",
      "6092.589488705114\n",
      "6092.31168871432\n",
      "6092.084047267302\n",
      "6091.900807755375\n",
      "6091.756039829786\n",
      "6091.6437178721735\n",
      "6091.55786028533\n",
      "6091.492697436173\n",
      "6091.442838288917\n",
      "6091.403412339849\n",
      "6091.370172185088\n",
      "6091.3395507945725\n",
      "6091.30867482006\n",
      "6091.275340271617\n",
      "6091.23795957393\n",
      "6091.195489713936\n",
      "6091.147350485177\n",
      "6091.093340304617\n",
      "6091.03355521943\n",
      "6090.968314883928\n",
      "6090.898097683233\n",
      "6090.8234859055565\n",
      "6090.74512093579\n",
      "6090.663667825522\n",
      "6090.579788234866\n",
      "6090.494120574919\n",
      "6090.407266150711\n",
      "6090.319780165162\n",
      "6090.23216655516\n",
      "6090.144875766744\n",
      "6090.058304718001\n",
      "6089.972798332969\n",
      "6089.888652152711\n",
      "6089.806115636621\n",
      "6089.725395857468\n",
      "6089.646661367726\n",
      "6089.570046076188\n",
      "6089.495653019977\n",
      "6089.423557955708\n",
      "6089.353812721256\n",
      "6089.2864483407975\n",
      "6089.2214778621965\n",
      "6089.158898925912\n",
      "6089.098696073565\n",
      "6089.040842808405\n",
      "6088.985303423838\n",
      "6088.932034617502\n",
      "6088.880986909205\n",
      "6088.832105880807\n",
      "6088.785333255752\n",
      "6088.74060783515\n",
      "6088.697866305418\n",
      "6088.657043932683\n",
      "6088.618075156445\n",
      "6088.580894094862\n",
      "6088.545434972027\n",
      "6088.511632477488\n",
      "6088.479422065761\n",
      "6088.448740204348\n",
      "6088.419524576425\n",
      "6088.391714244566\n",
      "6088.365249780574\n",
      "6088.340073365954\n",
      "6088.316128867692\n",
      "6088.293361892144\n",
      "6088.2717198206\n",
      "6088.251151829304\n",
      "6088.231608896126\n",
      "6088.213043795923\n",
      "6088.195411086734\n",
      "6088.178667087868\n",
      "6088.162769851855\n",
      "6088.147679130761\n",
      "6088.133356338638\n",
      "6088.119764510173\n",
      "6088.1068682571595\n",
      "6088.094633722611\n"
     ]
    }
   ],
   "source": [
    "new_users2 = als(ratings_arr2, users_arr2, items_arr2,100)"
   ]
  },
  {
   "cell_type": "code",
   "execution_count": 47,
   "metadata": {
    "ExecuteTime": {
     "end_time": "2023-10-13T04:45:52.750767Z",
     "start_time": "2023-10-13T04:45:52.737766Z"
    },
    "hidden": true
   },
   "outputs": [
    {
     "data": {
      "text/plain": [
       "(100, 100)"
      ]
     },
     "execution_count": 47,
     "metadata": {},
     "output_type": "execute_result"
    }
   ],
   "source": [
    "new_users2.shape"
   ]
  },
  {
   "cell_type": "code",
   "execution_count": 48,
   "metadata": {},
   "outputs": [
    {
     "data": {
      "text/plain": [
       "array([[False, False, False, ..., False, False, False],\n",
       "       [False, False, False, ..., False, False, False],\n",
       "       [False, False, False, ..., False, False, False],\n",
       "       ...,\n",
       "       [False, False, False, ..., False, False, False],\n",
       "       [False, False, False, ..., False, False, False],\n",
       "       [False, False, False, ..., False, False, False]])"
      ]
     },
     "execution_count": 48,
     "metadata": {},
     "output_type": "execute_result"
    }
   ],
   "source": [
    "guess == new_users2"
   ]
  },
  {
   "cell_type": "markdown",
   "metadata": {
    "heading_collapsed": true,
    "hidden": true
   },
   "source": [
    "#### ALS in `pyspark`"
   ]
  },
  {
   "cell_type": "markdown",
   "metadata": {
    "hidden": true
   },
   "source": [
    "We'll talk about Big Data and Spark soon, but I'll just note here that Spark has a recommendation submodule inside its ml (machine learning) module. Source code for `pyspark`'s version [here](https://spark.apache.org/docs/latest/api/python/_modules/pyspark/ml/recommendation.html)."
   ]
  }
 ],
 "metadata": {
  "kernelspec": {
   "display_name": "Python (learn-env)",
   "language": "python",
   "name": "learn-env"
  },
  "language_info": {
   "codemirror_mode": {
    "name": "ipython",
    "version": 3
   },
   "file_extension": ".py",
   "mimetype": "text/x-python",
   "name": "python",
   "nbconvert_exporter": "python",
   "pygments_lexer": "ipython3",
   "version": "3.8.5"
  },
  "toc": {
   "base_numbering": 1,
   "nav_menu": {},
   "number_sections": true,
   "sideBar": true,
   "skip_h1_title": false,
   "title_cell": "Table of Contents",
   "title_sidebar": "Contents",
   "toc_cell": false,
   "toc_position": {},
   "toc_section_display": true,
   "toc_window_display": false
  },
  "varInspector": {
   "cols": {
    "lenName": 16,
    "lenType": 16,
    "lenVar": 40
   },
   "kernels_config": {
    "python": {
     "delete_cmd_postfix": "",
     "delete_cmd_prefix": "del ",
     "library": "var_list.py",
     "varRefreshCmd": "print(var_dic_list())"
    },
    "r": {
     "delete_cmd_postfix": ") ",
     "delete_cmd_prefix": "rm(",
     "library": "var_list.r",
     "varRefreshCmd": "cat(var_dic_list()) "
    }
   },
   "types_to_exclude": [
    "module",
    "function",
    "builtin_function_or_method",
    "instance",
    "_Feature"
   ],
   "window_display": false
  }
 },
 "nbformat": 4,
 "nbformat_minor": 2
}
