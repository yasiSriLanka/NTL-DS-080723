{
 "cells": [
  {
   "cell_type": "markdown",
   "metadata": {
    "heading_collapsed": true
   },
   "source": [
    "# Classification Workflow with Pipelines"
   ]
  },
  {
   "cell_type": "markdown",
   "metadata": {
    "hidden": true
   },
   "source": [
    "Let's add pipelines into our workflow!"
   ]
  },
  {
   "cell_type": "code",
   "execution_count": 1,
   "metadata": {
    "ExecuteTime": {
     "end_time": "2023-10-17T23:35:28.630992Z",
     "start_time": "2023-10-17T23:35:24.923204Z"
    },
    "hidden": true,
    "scrolled": false
   },
   "outputs": [],
   "source": [
    "import pandas as pd\n",
    "import numpy as np\n",
    "from matplotlib import pyplot as plt\n",
    "import seaborn as sns\n",
    "\n",
    "from sklearn.model_selection import train_test_split, GridSearchCV, cross_val_score, RandomizedSearchCV\n",
    "from sklearn.pipeline import Pipeline\n",
    "from sklearn.preprocessing import StandardScaler, OneHotEncoder, FunctionTransformer, OrdinalEncoder\n",
    "from sklearn.impute import SimpleImputer\n",
    "from sklearn.compose import ColumnTransformer, make_column_selector as selector\n",
    "from sklearn.dummy import DummyClassifier\n",
    "from sklearn.linear_model import LogisticRegression\n",
    "from sklearn.tree import DecisionTreeClassifier\n",
    "from sklearn.metrics import ConfusionMatrixDisplay, recall_score,\\\n",
    "    accuracy_score, precision_score, f1_score, RocCurveDisplay\n",
    "\n",
    "from sklearn.neighbors import KNeighborsClassifier\n",
    "\n",
    "from sklearn.ensemble import VotingClassifier, StackingClassifier,\\\n",
    "        BaggingClassifier, RandomForestClassifier, ExtraTreesClassifier\n",
    "\n",
    "from scipy.stats import uniform, truncnorm, randint\n",
    "\n",
    "from imblearn.over_sampling import SMOTE\n",
    "from imblearn.pipeline import Pipeline as ImPipe\n",
    "\n",
    "from src.model_handling import ModelStorer, SaveModel\n",
    "\n",
    "from datetime import datetime\n",
    "\n",
    "from sklearn.datasets import load_sample_images\n",
    "from sklearn.datasets import load_digits\n",
    "import matplotlib.image as mpimg\n",
    "\n",
    "import tensorflow as tf\n",
    "from tensorflow.keras.models import Sequential\n",
    "from tensorflow.keras.layers import Dense, Dropout, Input\n",
    "from tensorflow.keras.regularizers import l2\n",
    "from tensorflow.keras.optimizers import SGD\n",
    "from tensorflow.keras.wrappers import scikit_learn\n",
    "from tensorflow.keras.callbacks import EarlyStopping\n",
    "from tensorflow.keras.metrics import Precision\n",
    "\n",
    "from tensorflow.keras.datasets import mnist\n",
    "\n",
    "from scikeras.wrappers import KerasClassifier\n",
    "\n",
    "import os\n",
    "import sys\n",
    "module_path = os.path.abspath(os.path.join(os.pardir, os.pardir))\n",
    "if module_path not in sys.path:\n",
    "    sys.path.append(module_path)\n",
    "    \n"
   ]
  },
  {
   "cell_type": "code",
   "execution_count": 2,
   "metadata": {
    "ExecuteTime": {
     "end_time": "2023-10-17T23:35:28.708960Z",
     "start_time": "2023-10-17T23:35:28.631960Z"
    },
    "hidden": true
   },
   "outputs": [
    {
     "name": "stdout",
     "output_type": "stream",
     "text": [
      "Num GPUs Available:  1\n"
     ]
    }
   ],
   "source": [
    "print(\"Num GPUs Available: \", len(tf.config.list_physical_devices('GPU')))"
   ]
  },
  {
   "cell_type": "markdown",
   "metadata": {
    "heading_collapsed": true,
    "hidden": true
   },
   "source": [
    "## Non-image Data"
   ]
  },
  {
   "cell_type": "code",
   "execution_count": 3,
   "metadata": {
    "ExecuteTime": {
     "end_time": "2023-10-17T23:35:28.802961Z",
     "start_time": "2023-10-17T23:35:28.709961Z"
    },
    "hidden": true,
    "scrolled": true
   },
   "outputs": [
    {
     "data": {
      "text/html": [
       "<div>\n",
       "<style scoped>\n",
       "    .dataframe tbody tr th:only-of-type {\n",
       "        vertical-align: middle;\n",
       "    }\n",
       "\n",
       "    .dataframe tbody tr th {\n",
       "        vertical-align: top;\n",
       "    }\n",
       "\n",
       "    .dataframe thead th {\n",
       "        text-align: right;\n",
       "    }\n",
       "</style>\n",
       "<table border=\"1\" class=\"dataframe\">\n",
       "  <thead>\n",
       "    <tr style=\"text-align: right;\">\n",
       "      <th></th>\n",
       "      <th>ID</th>\n",
       "      <th>LIMIT_BAL</th>\n",
       "      <th>SEX</th>\n",
       "      <th>EDUCATION</th>\n",
       "      <th>MARRIAGE</th>\n",
       "      <th>AGE</th>\n",
       "      <th>PAY_0</th>\n",
       "      <th>PAY_2</th>\n",
       "      <th>PAY_3</th>\n",
       "      <th>PAY_4</th>\n",
       "      <th>...</th>\n",
       "      <th>BILL_AMT4</th>\n",
       "      <th>BILL_AMT5</th>\n",
       "      <th>BILL_AMT6</th>\n",
       "      <th>PAY_AMT1</th>\n",
       "      <th>PAY_AMT2</th>\n",
       "      <th>PAY_AMT3</th>\n",
       "      <th>PAY_AMT4</th>\n",
       "      <th>PAY_AMT5</th>\n",
       "      <th>PAY_AMT6</th>\n",
       "      <th>default payment next month</th>\n",
       "    </tr>\n",
       "  </thead>\n",
       "  <tbody>\n",
       "    <tr>\n",
       "      <th>0</th>\n",
       "      <td>1</td>\n",
       "      <td>20000</td>\n",
       "      <td>2</td>\n",
       "      <td>2</td>\n",
       "      <td>1</td>\n",
       "      <td>24</td>\n",
       "      <td>2</td>\n",
       "      <td>2</td>\n",
       "      <td>-1</td>\n",
       "      <td>-1</td>\n",
       "      <td>...</td>\n",
       "      <td>0</td>\n",
       "      <td>0</td>\n",
       "      <td>0</td>\n",
       "      <td>0</td>\n",
       "      <td>689</td>\n",
       "      <td>0</td>\n",
       "      <td>0</td>\n",
       "      <td>0</td>\n",
       "      <td>0</td>\n",
       "      <td>1</td>\n",
       "    </tr>\n",
       "    <tr>\n",
       "      <th>1</th>\n",
       "      <td>2</td>\n",
       "      <td>120000</td>\n",
       "      <td>2</td>\n",
       "      <td>2</td>\n",
       "      <td>2</td>\n",
       "      <td>26</td>\n",
       "      <td>-1</td>\n",
       "      <td>2</td>\n",
       "      <td>0</td>\n",
       "      <td>0</td>\n",
       "      <td>...</td>\n",
       "      <td>3272</td>\n",
       "      <td>3455</td>\n",
       "      <td>3261</td>\n",
       "      <td>0</td>\n",
       "      <td>1000</td>\n",
       "      <td>1000</td>\n",
       "      <td>1000</td>\n",
       "      <td>0</td>\n",
       "      <td>2000</td>\n",
       "      <td>1</td>\n",
       "    </tr>\n",
       "    <tr>\n",
       "      <th>2</th>\n",
       "      <td>3</td>\n",
       "      <td>90000</td>\n",
       "      <td>2</td>\n",
       "      <td>2</td>\n",
       "      <td>2</td>\n",
       "      <td>34</td>\n",
       "      <td>0</td>\n",
       "      <td>0</td>\n",
       "      <td>0</td>\n",
       "      <td>0</td>\n",
       "      <td>...</td>\n",
       "      <td>14331</td>\n",
       "      <td>14948</td>\n",
       "      <td>15549</td>\n",
       "      <td>1518</td>\n",
       "      <td>1500</td>\n",
       "      <td>1000</td>\n",
       "      <td>1000</td>\n",
       "      <td>1000</td>\n",
       "      <td>5000</td>\n",
       "      <td>0</td>\n",
       "    </tr>\n",
       "    <tr>\n",
       "      <th>3</th>\n",
       "      <td>4</td>\n",
       "      <td>50000</td>\n",
       "      <td>2</td>\n",
       "      <td>2</td>\n",
       "      <td>1</td>\n",
       "      <td>37</td>\n",
       "      <td>0</td>\n",
       "      <td>0</td>\n",
       "      <td>0</td>\n",
       "      <td>0</td>\n",
       "      <td>...</td>\n",
       "      <td>28314</td>\n",
       "      <td>28959</td>\n",
       "      <td>29547</td>\n",
       "      <td>2000</td>\n",
       "      <td>2019</td>\n",
       "      <td>1200</td>\n",
       "      <td>1100</td>\n",
       "      <td>1069</td>\n",
       "      <td>1000</td>\n",
       "      <td>0</td>\n",
       "    </tr>\n",
       "    <tr>\n",
       "      <th>4</th>\n",
       "      <td>5</td>\n",
       "      <td>50000</td>\n",
       "      <td>1</td>\n",
       "      <td>2</td>\n",
       "      <td>1</td>\n",
       "      <td>57</td>\n",
       "      <td>-1</td>\n",
       "      <td>0</td>\n",
       "      <td>-1</td>\n",
       "      <td>0</td>\n",
       "      <td>...</td>\n",
       "      <td>20940</td>\n",
       "      <td>19146</td>\n",
       "      <td>19131</td>\n",
       "      <td>2000</td>\n",
       "      <td>36681</td>\n",
       "      <td>10000</td>\n",
       "      <td>9000</td>\n",
       "      <td>689</td>\n",
       "      <td>679</td>\n",
       "      <td>0</td>\n",
       "    </tr>\n",
       "  </tbody>\n",
       "</table>\n",
       "<p>5 rows × 25 columns</p>\n",
       "</div>"
      ],
      "text/plain": [
       "   ID  LIMIT_BAL  SEX  EDUCATION  MARRIAGE  AGE  PAY_0  PAY_2  PAY_3  PAY_4  \\\n",
       "0   1      20000    2          2         1   24      2      2     -1     -1   \n",
       "1   2     120000    2          2         2   26     -1      2      0      0   \n",
       "2   3      90000    2          2         2   34      0      0      0      0   \n",
       "3   4      50000    2          2         1   37      0      0      0      0   \n",
       "4   5      50000    1          2         1   57     -1      0     -1      0   \n",
       "\n",
       "   ...  BILL_AMT4  BILL_AMT5  BILL_AMT6  PAY_AMT1  PAY_AMT2  PAY_AMT3  \\\n",
       "0  ...          0          0          0         0       689         0   \n",
       "1  ...       3272       3455       3261         0      1000      1000   \n",
       "2  ...      14331      14948      15549      1518      1500      1000   \n",
       "3  ...      28314      28959      29547      2000      2019      1200   \n",
       "4  ...      20940      19146      19131      2000     36681     10000   \n",
       "\n",
       "   PAY_AMT4  PAY_AMT5  PAY_AMT6  default payment next month  \n",
       "0         0         0         0                           1  \n",
       "1      1000         0      2000                           1  \n",
       "2      1000      1000      5000                           0  \n",
       "3      1100      1069      1000                           0  \n",
       "4      9000       689       679                           0  \n",
       "\n",
       "[5 rows x 25 columns]"
      ]
     },
     "execution_count": 3,
     "metadata": {},
     "output_type": "execute_result"
    }
   ],
   "source": [
    "df = pd.read_csv('./data/default.csv', header=1)\n",
    "df.head()"
   ]
  },
  {
   "cell_type": "code",
   "execution_count": 4,
   "metadata": {
    "ExecuteTime": {
     "end_time": "2023-10-17T23:35:28.818990Z",
     "start_time": "2023-10-17T23:35:28.803961Z"
    },
    "hidden": true
   },
   "outputs": [
    {
     "name": "stdout",
     "output_type": "stream",
     "text": [
      "<class 'pandas.core.frame.DataFrame'>\n",
      "RangeIndex: 30000 entries, 0 to 29999\n",
      "Data columns (total 25 columns):\n",
      " #   Column                      Non-Null Count  Dtype\n",
      "---  ------                      --------------  -----\n",
      " 0   ID                          30000 non-null  int64\n",
      " 1   LIMIT_BAL                   30000 non-null  int64\n",
      " 2   SEX                         30000 non-null  int64\n",
      " 3   EDUCATION                   30000 non-null  int64\n",
      " 4   MARRIAGE                    30000 non-null  int64\n",
      " 5   AGE                         30000 non-null  int64\n",
      " 6   PAY_0                       30000 non-null  int64\n",
      " 7   PAY_2                       30000 non-null  int64\n",
      " 8   PAY_3                       30000 non-null  int64\n",
      " 9   PAY_4                       30000 non-null  int64\n",
      " 10  PAY_5                       30000 non-null  int64\n",
      " 11  PAY_6                       30000 non-null  int64\n",
      " 12  BILL_AMT1                   30000 non-null  int64\n",
      " 13  BILL_AMT2                   30000 non-null  int64\n",
      " 14  BILL_AMT3                   30000 non-null  int64\n",
      " 15  BILL_AMT4                   30000 non-null  int64\n",
      " 16  BILL_AMT5                   30000 non-null  int64\n",
      " 17  BILL_AMT6                   30000 non-null  int64\n",
      " 18  PAY_AMT1                    30000 non-null  int64\n",
      " 19  PAY_AMT2                    30000 non-null  int64\n",
      " 20  PAY_AMT3                    30000 non-null  int64\n",
      " 21  PAY_AMT4                    30000 non-null  int64\n",
      " 22  PAY_AMT5                    30000 non-null  int64\n",
      " 23  PAY_AMT6                    30000 non-null  int64\n",
      " 24  default payment next month  30000 non-null  int64\n",
      "dtypes: int64(25)\n",
      "memory usage: 5.7 MB\n"
     ]
    }
   ],
   "source": [
    "df.info()"
   ]
  },
  {
   "cell_type": "markdown",
   "metadata": {
    "hidden": true
   },
   "source": [
    "Amount of the given credit (NT dollar): it includes both the individual consumer credit and his/her family (supplementary) credit.\n",
    "\n",
    "Gender (1 = male; 2 = female).\n",
    "\n",
    "Education (1 = graduate school; 2 = university; 3 = high school; 4 = others).\n",
    "\n",
    "Marital status (1 = married; 2 = single; 3 = others).\n",
    "\n",
    "Age (year).\n",
    "\n",
    "History of past payment. We tracked the past monthly payment records (from April to September, 2005) as follows: \n",
    "- PAY_0 = the repayment status in September, 2005\n",
    "- PAY_1 = the repayment status in August, 2005 . . .\n",
    "- PAY_6 = the repayment status in April, 2005 \n",
    "\n",
    "The measurement scale for the repayment status is: \n",
    "- -1 = pay ontime; \n",
    "- 1 = payment delay for one month\n",
    "- 2 = payment delay for two months\n",
    "- 8 = payment delay for eight months\n",
    "- 9 = payment delay for nine months and above.\n",
    "\n",
    "Amount of bill statement. \n",
    "- BILL_AMT1 = amount of bill statement in September, 2005\n",
    "- BILL_AMT2 = amount of bill statement in August, 2005 . . .\n",
    "- BILL_AMT6 = amount of bill statement in April, 2005\n",
    "\n",
    "Amount of previous payment. \n",
    "- PAY_AMT1 = amount paid in September, 2005 \n",
    "- PAY_AMT2 = amount paid in August, 2005 . . .\n",
    "- PAY_AMT6 = amount paid in April, 2005\n",
    "\n"
   ]
  },
  {
   "cell_type": "code",
   "execution_count": 5,
   "metadata": {
    "ExecuteTime": {
     "end_time": "2023-10-17T23:35:28.833961Z",
     "start_time": "2023-10-17T23:35:28.819962Z"
    },
    "hidden": true
   },
   "outputs": [],
   "source": [
    "df.drop('ID', axis=1, inplace=True)"
   ]
  },
  {
   "cell_type": "code",
   "execution_count": 6,
   "metadata": {
    "ExecuteTime": {
     "end_time": "2023-10-17T23:35:28.849962Z",
     "start_time": "2023-10-17T23:35:28.834961Z"
    },
    "hidden": true
   },
   "outputs": [],
   "source": [
    "df.rename(columns = {'default payment next month':'default'}, inplace=True)"
   ]
  },
  {
   "cell_type": "code",
   "execution_count": 7,
   "metadata": {
    "ExecuteTime": {
     "end_time": "2023-10-17T23:35:28.865963Z",
     "start_time": "2023-10-17T23:35:28.850962Z"
    },
    "hidden": true
   },
   "outputs": [],
   "source": [
    "df.columns = [x.strip().lower() for x in df.columns]"
   ]
  },
  {
   "cell_type": "code",
   "execution_count": 8,
   "metadata": {
    "ExecuteTime": {
     "end_time": "2023-10-17T23:35:28.944990Z",
     "start_time": "2023-10-17T23:35:28.866962Z"
    },
    "hidden": true
   },
   "outputs": [
    {
     "data": {
      "text/html": [
       "<div>\n",
       "<style scoped>\n",
       "    .dataframe tbody tr th:only-of-type {\n",
       "        vertical-align: middle;\n",
       "    }\n",
       "\n",
       "    .dataframe tbody tr th {\n",
       "        vertical-align: top;\n",
       "    }\n",
       "\n",
       "    .dataframe thead th {\n",
       "        text-align: right;\n",
       "    }\n",
       "</style>\n",
       "<table border=\"1\" class=\"dataframe\">\n",
       "  <thead>\n",
       "    <tr style=\"text-align: right;\">\n",
       "      <th></th>\n",
       "      <th>limit_bal</th>\n",
       "      <th>sex</th>\n",
       "      <th>education</th>\n",
       "      <th>marriage</th>\n",
       "      <th>age</th>\n",
       "      <th>pay_0</th>\n",
       "      <th>pay_2</th>\n",
       "      <th>pay_3</th>\n",
       "      <th>pay_4</th>\n",
       "      <th>pay_5</th>\n",
       "      <th>...</th>\n",
       "      <th>bill_amt4</th>\n",
       "      <th>bill_amt5</th>\n",
       "      <th>bill_amt6</th>\n",
       "      <th>pay_amt1</th>\n",
       "      <th>pay_amt2</th>\n",
       "      <th>pay_amt3</th>\n",
       "      <th>pay_amt4</th>\n",
       "      <th>pay_amt5</th>\n",
       "      <th>pay_amt6</th>\n",
       "      <th>default</th>\n",
       "    </tr>\n",
       "  </thead>\n",
       "  <tbody>\n",
       "    <tr>\n",
       "      <th>count</th>\n",
       "      <td>30000.000000</td>\n",
       "      <td>30000.000000</td>\n",
       "      <td>30000.000000</td>\n",
       "      <td>30000.000000</td>\n",
       "      <td>30000.000000</td>\n",
       "      <td>30000.000000</td>\n",
       "      <td>30000.000000</td>\n",
       "      <td>30000.000000</td>\n",
       "      <td>30000.000000</td>\n",
       "      <td>30000.000000</td>\n",
       "      <td>...</td>\n",
       "      <td>30000.000000</td>\n",
       "      <td>30000.000000</td>\n",
       "      <td>30000.000000</td>\n",
       "      <td>30000.000000</td>\n",
       "      <td>3.000000e+04</td>\n",
       "      <td>30000.00000</td>\n",
       "      <td>30000.000000</td>\n",
       "      <td>30000.000000</td>\n",
       "      <td>30000.000000</td>\n",
       "      <td>30000.000000</td>\n",
       "    </tr>\n",
       "    <tr>\n",
       "      <th>mean</th>\n",
       "      <td>167484.322667</td>\n",
       "      <td>1.603733</td>\n",
       "      <td>1.853133</td>\n",
       "      <td>1.551867</td>\n",
       "      <td>35.485500</td>\n",
       "      <td>-0.016700</td>\n",
       "      <td>-0.133767</td>\n",
       "      <td>-0.166200</td>\n",
       "      <td>-0.220667</td>\n",
       "      <td>-0.266200</td>\n",
       "      <td>...</td>\n",
       "      <td>43262.948967</td>\n",
       "      <td>40311.400967</td>\n",
       "      <td>38871.760400</td>\n",
       "      <td>5663.580500</td>\n",
       "      <td>5.921163e+03</td>\n",
       "      <td>5225.68150</td>\n",
       "      <td>4826.076867</td>\n",
       "      <td>4799.387633</td>\n",
       "      <td>5215.502567</td>\n",
       "      <td>0.221200</td>\n",
       "    </tr>\n",
       "    <tr>\n",
       "      <th>std</th>\n",
       "      <td>129747.661567</td>\n",
       "      <td>0.489129</td>\n",
       "      <td>0.790349</td>\n",
       "      <td>0.521970</td>\n",
       "      <td>9.217904</td>\n",
       "      <td>1.123802</td>\n",
       "      <td>1.197186</td>\n",
       "      <td>1.196868</td>\n",
       "      <td>1.169139</td>\n",
       "      <td>1.133187</td>\n",
       "      <td>...</td>\n",
       "      <td>64332.856134</td>\n",
       "      <td>60797.155770</td>\n",
       "      <td>59554.107537</td>\n",
       "      <td>16563.280354</td>\n",
       "      <td>2.304087e+04</td>\n",
       "      <td>17606.96147</td>\n",
       "      <td>15666.159744</td>\n",
       "      <td>15278.305679</td>\n",
       "      <td>17777.465775</td>\n",
       "      <td>0.415062</td>\n",
       "    </tr>\n",
       "    <tr>\n",
       "      <th>min</th>\n",
       "      <td>10000.000000</td>\n",
       "      <td>1.000000</td>\n",
       "      <td>0.000000</td>\n",
       "      <td>0.000000</td>\n",
       "      <td>21.000000</td>\n",
       "      <td>-2.000000</td>\n",
       "      <td>-2.000000</td>\n",
       "      <td>-2.000000</td>\n",
       "      <td>-2.000000</td>\n",
       "      <td>-2.000000</td>\n",
       "      <td>...</td>\n",
       "      <td>-170000.000000</td>\n",
       "      <td>-81334.000000</td>\n",
       "      <td>-339603.000000</td>\n",
       "      <td>0.000000</td>\n",
       "      <td>0.000000e+00</td>\n",
       "      <td>0.00000</td>\n",
       "      <td>0.000000</td>\n",
       "      <td>0.000000</td>\n",
       "      <td>0.000000</td>\n",
       "      <td>0.000000</td>\n",
       "    </tr>\n",
       "    <tr>\n",
       "      <th>25%</th>\n",
       "      <td>50000.000000</td>\n",
       "      <td>1.000000</td>\n",
       "      <td>1.000000</td>\n",
       "      <td>1.000000</td>\n",
       "      <td>28.000000</td>\n",
       "      <td>-1.000000</td>\n",
       "      <td>-1.000000</td>\n",
       "      <td>-1.000000</td>\n",
       "      <td>-1.000000</td>\n",
       "      <td>-1.000000</td>\n",
       "      <td>...</td>\n",
       "      <td>2326.750000</td>\n",
       "      <td>1763.000000</td>\n",
       "      <td>1256.000000</td>\n",
       "      <td>1000.000000</td>\n",
       "      <td>8.330000e+02</td>\n",
       "      <td>390.00000</td>\n",
       "      <td>296.000000</td>\n",
       "      <td>252.500000</td>\n",
       "      <td>117.750000</td>\n",
       "      <td>0.000000</td>\n",
       "    </tr>\n",
       "    <tr>\n",
       "      <th>50%</th>\n",
       "      <td>140000.000000</td>\n",
       "      <td>2.000000</td>\n",
       "      <td>2.000000</td>\n",
       "      <td>2.000000</td>\n",
       "      <td>34.000000</td>\n",
       "      <td>0.000000</td>\n",
       "      <td>0.000000</td>\n",
       "      <td>0.000000</td>\n",
       "      <td>0.000000</td>\n",
       "      <td>0.000000</td>\n",
       "      <td>...</td>\n",
       "      <td>19052.000000</td>\n",
       "      <td>18104.500000</td>\n",
       "      <td>17071.000000</td>\n",
       "      <td>2100.000000</td>\n",
       "      <td>2.009000e+03</td>\n",
       "      <td>1800.00000</td>\n",
       "      <td>1500.000000</td>\n",
       "      <td>1500.000000</td>\n",
       "      <td>1500.000000</td>\n",
       "      <td>0.000000</td>\n",
       "    </tr>\n",
       "    <tr>\n",
       "      <th>75%</th>\n",
       "      <td>240000.000000</td>\n",
       "      <td>2.000000</td>\n",
       "      <td>2.000000</td>\n",
       "      <td>2.000000</td>\n",
       "      <td>41.000000</td>\n",
       "      <td>0.000000</td>\n",
       "      <td>0.000000</td>\n",
       "      <td>0.000000</td>\n",
       "      <td>0.000000</td>\n",
       "      <td>0.000000</td>\n",
       "      <td>...</td>\n",
       "      <td>54506.000000</td>\n",
       "      <td>50190.500000</td>\n",
       "      <td>49198.250000</td>\n",
       "      <td>5006.000000</td>\n",
       "      <td>5.000000e+03</td>\n",
       "      <td>4505.00000</td>\n",
       "      <td>4013.250000</td>\n",
       "      <td>4031.500000</td>\n",
       "      <td>4000.000000</td>\n",
       "      <td>0.000000</td>\n",
       "    </tr>\n",
       "    <tr>\n",
       "      <th>max</th>\n",
       "      <td>1000000.000000</td>\n",
       "      <td>2.000000</td>\n",
       "      <td>6.000000</td>\n",
       "      <td>3.000000</td>\n",
       "      <td>79.000000</td>\n",
       "      <td>8.000000</td>\n",
       "      <td>8.000000</td>\n",
       "      <td>8.000000</td>\n",
       "      <td>8.000000</td>\n",
       "      <td>8.000000</td>\n",
       "      <td>...</td>\n",
       "      <td>891586.000000</td>\n",
       "      <td>927171.000000</td>\n",
       "      <td>961664.000000</td>\n",
       "      <td>873552.000000</td>\n",
       "      <td>1.684259e+06</td>\n",
       "      <td>896040.00000</td>\n",
       "      <td>621000.000000</td>\n",
       "      <td>426529.000000</td>\n",
       "      <td>528666.000000</td>\n",
       "      <td>1.000000</td>\n",
       "    </tr>\n",
       "  </tbody>\n",
       "</table>\n",
       "<p>8 rows × 24 columns</p>\n",
       "</div>"
      ],
      "text/plain": [
       "            limit_bal           sex     education      marriage           age  \\\n",
       "count    30000.000000  30000.000000  30000.000000  30000.000000  30000.000000   \n",
       "mean    167484.322667      1.603733      1.853133      1.551867     35.485500   \n",
       "std     129747.661567      0.489129      0.790349      0.521970      9.217904   \n",
       "min      10000.000000      1.000000      0.000000      0.000000     21.000000   \n",
       "25%      50000.000000      1.000000      1.000000      1.000000     28.000000   \n",
       "50%     140000.000000      2.000000      2.000000      2.000000     34.000000   \n",
       "75%     240000.000000      2.000000      2.000000      2.000000     41.000000   \n",
       "max    1000000.000000      2.000000      6.000000      3.000000     79.000000   \n",
       "\n",
       "              pay_0         pay_2         pay_3         pay_4         pay_5  \\\n",
       "count  30000.000000  30000.000000  30000.000000  30000.000000  30000.000000   \n",
       "mean      -0.016700     -0.133767     -0.166200     -0.220667     -0.266200   \n",
       "std        1.123802      1.197186      1.196868      1.169139      1.133187   \n",
       "min       -2.000000     -2.000000     -2.000000     -2.000000     -2.000000   \n",
       "25%       -1.000000     -1.000000     -1.000000     -1.000000     -1.000000   \n",
       "50%        0.000000      0.000000      0.000000      0.000000      0.000000   \n",
       "75%        0.000000      0.000000      0.000000      0.000000      0.000000   \n",
       "max        8.000000      8.000000      8.000000      8.000000      8.000000   \n",
       "\n",
       "       ...      bill_amt4      bill_amt5      bill_amt6       pay_amt1  \\\n",
       "count  ...   30000.000000   30000.000000   30000.000000   30000.000000   \n",
       "mean   ...   43262.948967   40311.400967   38871.760400    5663.580500   \n",
       "std    ...   64332.856134   60797.155770   59554.107537   16563.280354   \n",
       "min    ... -170000.000000  -81334.000000 -339603.000000       0.000000   \n",
       "25%    ...    2326.750000    1763.000000    1256.000000    1000.000000   \n",
       "50%    ...   19052.000000   18104.500000   17071.000000    2100.000000   \n",
       "75%    ...   54506.000000   50190.500000   49198.250000    5006.000000   \n",
       "max    ...  891586.000000  927171.000000  961664.000000  873552.000000   \n",
       "\n",
       "           pay_amt2      pay_amt3       pay_amt4       pay_amt5  \\\n",
       "count  3.000000e+04   30000.00000   30000.000000   30000.000000   \n",
       "mean   5.921163e+03    5225.68150    4826.076867    4799.387633   \n",
       "std    2.304087e+04   17606.96147   15666.159744   15278.305679   \n",
       "min    0.000000e+00       0.00000       0.000000       0.000000   \n",
       "25%    8.330000e+02     390.00000     296.000000     252.500000   \n",
       "50%    2.009000e+03    1800.00000    1500.000000    1500.000000   \n",
       "75%    5.000000e+03    4505.00000    4013.250000    4031.500000   \n",
       "max    1.684259e+06  896040.00000  621000.000000  426529.000000   \n",
       "\n",
       "            pay_amt6       default  \n",
       "count   30000.000000  30000.000000  \n",
       "mean     5215.502567      0.221200  \n",
       "std     17777.465775      0.415062  \n",
       "min         0.000000      0.000000  \n",
       "25%       117.750000      0.000000  \n",
       "50%      1500.000000      0.000000  \n",
       "75%      4000.000000      0.000000  \n",
       "max    528666.000000      1.000000  \n",
       "\n",
       "[8 rows x 24 columns]"
      ]
     },
     "execution_count": 8,
     "metadata": {},
     "output_type": "execute_result"
    }
   ],
   "source": [
    "df.describe()"
   ]
  },
  {
   "cell_type": "code",
   "execution_count": 9,
   "metadata": {
    "ExecuteTime": {
     "end_time": "2023-10-17T23:35:28.960991Z",
     "start_time": "2023-10-17T23:35:28.945961Z"
    },
    "hidden": true,
    "scrolled": false
   },
   "outputs": [
    {
     "name": "stdout",
     "output_type": "stream",
     "text": [
      "<class 'pandas.core.frame.DataFrame'>\n",
      "RangeIndex: 30000 entries, 0 to 29999\n",
      "Data columns (total 24 columns):\n",
      " #   Column     Non-Null Count  Dtype\n",
      "---  ------     --------------  -----\n",
      " 0   limit_bal  30000 non-null  int64\n",
      " 1   sex        30000 non-null  int64\n",
      " 2   education  30000 non-null  int64\n",
      " 3   marriage   30000 non-null  int64\n",
      " 4   age        30000 non-null  int64\n",
      " 5   pay_0      30000 non-null  int64\n",
      " 6   pay_2      30000 non-null  int64\n",
      " 7   pay_3      30000 non-null  int64\n",
      " 8   pay_4      30000 non-null  int64\n",
      " 9   pay_5      30000 non-null  int64\n",
      " 10  pay_6      30000 non-null  int64\n",
      " 11  bill_amt1  30000 non-null  int64\n",
      " 12  bill_amt2  30000 non-null  int64\n",
      " 13  bill_amt3  30000 non-null  int64\n",
      " 14  bill_amt4  30000 non-null  int64\n",
      " 15  bill_amt5  30000 non-null  int64\n",
      " 16  bill_amt6  30000 non-null  int64\n",
      " 17  pay_amt1   30000 non-null  int64\n",
      " 18  pay_amt2   30000 non-null  int64\n",
      " 19  pay_amt3   30000 non-null  int64\n",
      " 20  pay_amt4   30000 non-null  int64\n",
      " 21  pay_amt5   30000 non-null  int64\n",
      " 22  pay_amt6   30000 non-null  int64\n",
      " 23  default    30000 non-null  int64\n",
      "dtypes: int64(24)\n",
      "memory usage: 5.5 MB\n"
     ]
    }
   ],
   "source": [
    "df.info()"
   ]
  },
  {
   "cell_type": "code",
   "execution_count": 10,
   "metadata": {
    "ExecuteTime": {
     "end_time": "2023-10-17T23:35:28.976962Z",
     "start_time": "2023-10-17T23:35:28.962961Z"
    },
    "hidden": true
   },
   "outputs": [],
   "source": [
    "X = df.drop(['default'], axis=1)\n",
    "y = df['default']"
   ]
  },
  {
   "cell_type": "code",
   "execution_count": 11,
   "metadata": {
    "ExecuteTime": {
     "end_time": "2023-10-17T23:35:28.991962Z",
     "start_time": "2023-10-17T23:35:28.977961Z"
    },
    "hidden": true
   },
   "outputs": [],
   "source": [
    "# Create holdout/validation set\n",
    "X_tt, X_val, y_tt, y_val = train_test_split(X, y, test_size=.17, random_state=42)"
   ]
  },
  {
   "cell_type": "code",
   "execution_count": 12,
   "metadata": {
    "ExecuteTime": {
     "end_time": "2023-10-17T23:35:29.006962Z",
     "start_time": "2023-10-17T23:35:28.992961Z"
    },
    "hidden": true,
    "scrolled": false
   },
   "outputs": [],
   "source": [
    "# Create Train Test Split for modeling\n",
    "X_train, X_test, y_train, y_test = train_test_split(X_tt, y_tt, test_size=.2, random_state=42)"
   ]
  },
  {
   "cell_type": "code",
   "execution_count": 13,
   "metadata": {
    "ExecuteTime": {
     "end_time": "2023-10-17T23:35:29.021985Z",
     "start_time": "2023-10-17T23:35:29.007962Z"
    },
    "hidden": true
   },
   "outputs": [
    {
     "name": "stdout",
     "output_type": "stream",
     "text": [
      "Total Shape:   (30000, 23)\n",
      "Train Shape:   (19920, 23)\n",
      "Test Shape:    (4980, 23)\n",
      "Holdout Shape: (5100, 23)\n"
     ]
    }
   ],
   "source": [
    "# Check Sizes:\n",
    "print(f'Total Shape:   {X.shape}')\n",
    "print(f'Train Shape:   {X_train.shape}')\n",
    "print(f'Test Shape:    {X_test.shape}')\n",
    "print(f'Holdout Shape: {X_val.shape}')"
   ]
  },
  {
   "cell_type": "code",
   "execution_count": 14,
   "metadata": {
    "ExecuteTime": {
     "end_time": "2023-10-17T23:35:29.037962Z",
     "start_time": "2023-10-17T23:35:29.022961Z"
    },
    "hidden": true
   },
   "outputs": [
    {
     "name": "stdout",
     "output_type": "stream",
     "text": [
      "Total target: \n",
      "0    0.7788\n",
      "1    0.2212\n",
      "Name: default, dtype: float64\n",
      "\n",
      "Total train: \n",
      "0    0.778112\n",
      "1    0.221888\n",
      "Name: default, dtype: float64\n",
      "\n",
      "Total test: \n",
      "0    0.782731\n",
      "1    0.217269\n",
      "Name: default, dtype: float64\n",
      "\n",
      "Total valn: \n",
      "0    0.777647\n",
      "1    0.222353\n",
      "Name: default, dtype: float64\n",
      "\n"
     ]
    }
   ],
   "source": [
    "# Check distributions\n",
    "print(f'Total target: \\n{y.value_counts(normalize=True)}\\n')\n",
    "print(f'Total train: \\n{y_train.value_counts(normalize=True)}\\n')\n",
    "print(f'Total test: \\n{y_test.value_counts(normalize=True)}\\n')\n",
    "print(f'Total valn: \\n{y_val.value_counts(normalize=True)}\\n')"
   ]
  },
  {
   "cell_type": "markdown",
   "metadata": {
    "heading_collapsed": true,
    "hidden": true
   },
   "source": [
    "### Using `Pipeline` and `ColumnTransformer`"
   ]
  },
  {
   "cell_type": "markdown",
   "metadata": {
    "hidden": true
   },
   "source": [
    "When we use the `ColumnTransformer` we'll want to choose the relevant column numbers, so let's remind ourselves which columns are where:"
   ]
  },
  {
   "cell_type": "code",
   "execution_count": 15,
   "metadata": {
    "ExecuteTime": {
     "end_time": "2023-10-17T23:35:29.053963Z",
     "start_time": "2023-10-17T23:35:29.039963Z"
    },
    "hidden": true
   },
   "outputs": [
    {
     "data": {
      "text/html": [
       "<div>\n",
       "<style scoped>\n",
       "    .dataframe tbody tr th:only-of-type {\n",
       "        vertical-align: middle;\n",
       "    }\n",
       "\n",
       "    .dataframe tbody tr th {\n",
       "        vertical-align: top;\n",
       "    }\n",
       "\n",
       "    .dataframe thead th {\n",
       "        text-align: right;\n",
       "    }\n",
       "</style>\n",
       "<table border=\"1\" class=\"dataframe\">\n",
       "  <thead>\n",
       "    <tr style=\"text-align: right;\">\n",
       "      <th></th>\n",
       "      <th>limit_bal</th>\n",
       "      <th>sex</th>\n",
       "      <th>education</th>\n",
       "      <th>marriage</th>\n",
       "      <th>age</th>\n",
       "      <th>pay_0</th>\n",
       "      <th>pay_2</th>\n",
       "      <th>pay_3</th>\n",
       "      <th>pay_4</th>\n",
       "      <th>pay_5</th>\n",
       "      <th>...</th>\n",
       "      <th>bill_amt3</th>\n",
       "      <th>bill_amt4</th>\n",
       "      <th>bill_amt5</th>\n",
       "      <th>bill_amt6</th>\n",
       "      <th>pay_amt1</th>\n",
       "      <th>pay_amt2</th>\n",
       "      <th>pay_amt3</th>\n",
       "      <th>pay_amt4</th>\n",
       "      <th>pay_amt5</th>\n",
       "      <th>pay_amt6</th>\n",
       "    </tr>\n",
       "  </thead>\n",
       "  <tbody>\n",
       "    <tr>\n",
       "      <th>0</th>\n",
       "      <td>20000</td>\n",
       "      <td>2</td>\n",
       "      <td>2</td>\n",
       "      <td>1</td>\n",
       "      <td>24</td>\n",
       "      <td>2</td>\n",
       "      <td>2</td>\n",
       "      <td>-1</td>\n",
       "      <td>-1</td>\n",
       "      <td>-2</td>\n",
       "      <td>...</td>\n",
       "      <td>689</td>\n",
       "      <td>0</td>\n",
       "      <td>0</td>\n",
       "      <td>0</td>\n",
       "      <td>0</td>\n",
       "      <td>689</td>\n",
       "      <td>0</td>\n",
       "      <td>0</td>\n",
       "      <td>0</td>\n",
       "      <td>0</td>\n",
       "    </tr>\n",
       "    <tr>\n",
       "      <th>1</th>\n",
       "      <td>120000</td>\n",
       "      <td>2</td>\n",
       "      <td>2</td>\n",
       "      <td>2</td>\n",
       "      <td>26</td>\n",
       "      <td>-1</td>\n",
       "      <td>2</td>\n",
       "      <td>0</td>\n",
       "      <td>0</td>\n",
       "      <td>0</td>\n",
       "      <td>...</td>\n",
       "      <td>2682</td>\n",
       "      <td>3272</td>\n",
       "      <td>3455</td>\n",
       "      <td>3261</td>\n",
       "      <td>0</td>\n",
       "      <td>1000</td>\n",
       "      <td>1000</td>\n",
       "      <td>1000</td>\n",
       "      <td>0</td>\n",
       "      <td>2000</td>\n",
       "    </tr>\n",
       "    <tr>\n",
       "      <th>2</th>\n",
       "      <td>90000</td>\n",
       "      <td>2</td>\n",
       "      <td>2</td>\n",
       "      <td>2</td>\n",
       "      <td>34</td>\n",
       "      <td>0</td>\n",
       "      <td>0</td>\n",
       "      <td>0</td>\n",
       "      <td>0</td>\n",
       "      <td>0</td>\n",
       "      <td>...</td>\n",
       "      <td>13559</td>\n",
       "      <td>14331</td>\n",
       "      <td>14948</td>\n",
       "      <td>15549</td>\n",
       "      <td>1518</td>\n",
       "      <td>1500</td>\n",
       "      <td>1000</td>\n",
       "      <td>1000</td>\n",
       "      <td>1000</td>\n",
       "      <td>5000</td>\n",
       "    </tr>\n",
       "    <tr>\n",
       "      <th>3</th>\n",
       "      <td>50000</td>\n",
       "      <td>2</td>\n",
       "      <td>2</td>\n",
       "      <td>1</td>\n",
       "      <td>37</td>\n",
       "      <td>0</td>\n",
       "      <td>0</td>\n",
       "      <td>0</td>\n",
       "      <td>0</td>\n",
       "      <td>0</td>\n",
       "      <td>...</td>\n",
       "      <td>49291</td>\n",
       "      <td>28314</td>\n",
       "      <td>28959</td>\n",
       "      <td>29547</td>\n",
       "      <td>2000</td>\n",
       "      <td>2019</td>\n",
       "      <td>1200</td>\n",
       "      <td>1100</td>\n",
       "      <td>1069</td>\n",
       "      <td>1000</td>\n",
       "    </tr>\n",
       "    <tr>\n",
       "      <th>4</th>\n",
       "      <td>50000</td>\n",
       "      <td>1</td>\n",
       "      <td>2</td>\n",
       "      <td>1</td>\n",
       "      <td>57</td>\n",
       "      <td>-1</td>\n",
       "      <td>0</td>\n",
       "      <td>-1</td>\n",
       "      <td>0</td>\n",
       "      <td>0</td>\n",
       "      <td>...</td>\n",
       "      <td>35835</td>\n",
       "      <td>20940</td>\n",
       "      <td>19146</td>\n",
       "      <td>19131</td>\n",
       "      <td>2000</td>\n",
       "      <td>36681</td>\n",
       "      <td>10000</td>\n",
       "      <td>9000</td>\n",
       "      <td>689</td>\n",
       "      <td>679</td>\n",
       "    </tr>\n",
       "  </tbody>\n",
       "</table>\n",
       "<p>5 rows × 23 columns</p>\n",
       "</div>"
      ],
      "text/plain": [
       "   limit_bal  sex  education  marriage  age  pay_0  pay_2  pay_3  pay_4  \\\n",
       "0      20000    2          2         1   24      2      2     -1     -1   \n",
       "1     120000    2          2         2   26     -1      2      0      0   \n",
       "2      90000    2          2         2   34      0      0      0      0   \n",
       "3      50000    2          2         1   37      0      0      0      0   \n",
       "4      50000    1          2         1   57     -1      0     -1      0   \n",
       "\n",
       "   pay_5  ...  bill_amt3  bill_amt4  bill_amt5  bill_amt6  pay_amt1  pay_amt2  \\\n",
       "0     -2  ...        689          0          0          0         0       689   \n",
       "1      0  ...       2682       3272       3455       3261         0      1000   \n",
       "2      0  ...      13559      14331      14948      15549      1518      1500   \n",
       "3      0  ...      49291      28314      28959      29547      2000      2019   \n",
       "4      0  ...      35835      20940      19146      19131      2000     36681   \n",
       "\n",
       "   pay_amt3  pay_amt4  pay_amt5  pay_amt6  \n",
       "0         0         0         0         0  \n",
       "1      1000      1000         0      2000  \n",
       "2      1000      1000      1000      5000  \n",
       "3      1200      1100      1069      1000  \n",
       "4     10000      9000       689       679  \n",
       "\n",
       "[5 rows x 23 columns]"
      ]
     },
     "execution_count": 15,
     "metadata": {},
     "output_type": "execute_result"
    }
   ],
   "source": [
    "X.head()"
   ]
  },
  {
   "cell_type": "code",
   "execution_count": 16,
   "metadata": {
    "ExecuteTime": {
     "end_time": "2023-10-17T23:35:29.069960Z",
     "start_time": "2023-10-17T23:35:29.054963Z"
    },
    "hidden": true
   },
   "outputs": [],
   "source": [
    "cat_features = ['sex','education','marriage']"
   ]
  },
  {
   "cell_type": "code",
   "execution_count": 17,
   "metadata": {
    "ExecuteTime": {
     "end_time": "2023-10-17T23:35:29.084987Z",
     "start_time": "2023-10-17T23:35:29.070991Z"
    },
    "hidden": true
   },
   "outputs": [
    {
     "data": {
      "text/plain": [
       "['limit_bal',\n",
       " 'age',\n",
       " 'bill_amt1',\n",
       " 'bill_amt2',\n",
       " 'bill_amt3',\n",
       " 'bill_amt4',\n",
       " 'bill_amt5',\n",
       " 'bill_amt6',\n",
       " 'pay_amt1',\n",
       " 'pay_amt2',\n",
       " 'pay_amt3',\n",
       " 'pay_amt4',\n",
       " 'pay_amt5',\n",
       " 'pay_amt6']"
      ]
     },
     "execution_count": 17,
     "metadata": {},
     "output_type": "execute_result"
    }
   ],
   "source": [
    "num_features = list(X.drop(['sex','education','marriage','pay_0','pay_2','pay_3','pay_4','pay_5','pay_6'], axis=1).columns)\n",
    "num_features"
   ]
  },
  {
   "cell_type": "code",
   "execution_count": 18,
   "metadata": {
    "ExecuteTime": {
     "end_time": "2023-10-17T23:35:29.100960Z",
     "start_time": "2023-10-17T23:35:29.085962Z"
    },
    "hidden": true
   },
   "outputs": [],
   "source": [
    "# We'll throw these mini-pipelines into our ColumnTransformer.\n",
    "\n",
    "subpipe_num = Pipeline(steps=[\n",
    "    ('num_impute', SimpleImputer(strategy='median')),\n",
    "    ('ss', StandardScaler())])\n",
    "\n",
    "subpipe_cat = Pipeline(steps=[\n",
    "    ('cat_impute', SimpleImputer(strategy='most_frequent')),\n",
    "    ('ohe', OneHotEncoder(sparse=False, handle_unknown='ignore'))])"
   ]
  },
  {
   "cell_type": "code",
   "execution_count": 19,
   "metadata": {
    "ExecuteTime": {
     "end_time": "2023-10-17T23:35:29.115960Z",
     "start_time": "2023-10-17T23:35:29.101960Z"
    },
    "hidden": true
   },
   "outputs": [],
   "source": [
    "# The \"remainder='passthrough'\" bit tells the compiler to leave\n",
    "# the other df columns unchanged.\n",
    "\n",
    "CT = ColumnTransformer(transformers=[\n",
    "        ('subpipe_num', subpipe_num, num_features),\n",
    "        ('subpipe_cat', subpipe_cat, cat_features)], remainder='passthrough')"
   ]
  },
  {
   "cell_type": "code",
   "execution_count": 20,
   "metadata": {
    "ExecuteTime": {
     "end_time": "2023-10-17T23:35:34.709082Z",
     "start_time": "2023-10-17T23:35:34.647911Z"
    },
    "hidden": true
   },
   "outputs": [
    {
     "data": {
      "text/plain": [
       "(19920, 33)"
      ]
     },
     "execution_count": 20,
     "metadata": {},
     "output_type": "execute_result"
    }
   ],
   "source": [
    "CT.fit_transform(X_train).shape"
   ]
  },
  {
   "cell_type": "markdown",
   "metadata": {
    "heading_collapsed": true,
    "hidden": true
   },
   "source": [
    "## Image Data"
   ]
  },
  {
   "cell_type": "code",
   "execution_count": null,
   "metadata": {
    "ExecuteTime": {
     "end_time": "2023-10-17T22:05:21.689696Z",
     "start_time": "2023-10-17T22:05:21.467689Z"
    },
    "hidden": true
   },
   "outputs": [],
   "source": [
    "(X_train, y_train), (X_test, y_test) = mnist.load_data()"
   ]
  },
  {
   "cell_type": "code",
   "execution_count": null,
   "metadata": {
    "ExecuteTime": {
     "end_time": "2023-10-17T22:05:21.943688Z",
     "start_time": "2023-10-17T22:05:21.832690Z"
    },
    "hidden": true,
    "scrolled": false
   },
   "outputs": [],
   "source": [
    "plt.imshow(X_train[0], cmap='gray')"
   ]
  },
  {
   "cell_type": "code",
   "execution_count": null,
   "metadata": {
    "ExecuteTime": {
     "end_time": "2023-10-17T22:05:22.197688Z",
     "start_time": "2023-10-17T22:05:22.178690Z"
    },
    "hidden": true,
    "scrolled": true
   },
   "outputs": [],
   "source": [
    "np.max(X_train[0])"
   ]
  },
  {
   "cell_type": "code",
   "execution_count": null,
   "metadata": {
    "ExecuteTime": {
     "end_time": "2023-10-17T22:05:22.733088Z",
     "start_time": "2023-10-17T22:05:22.601761Z"
    },
    "hidden": true
   },
   "outputs": [],
   "source": [
    "X = (np.vstack( (X_train.reshape(X_train.shape[0],-1), X_test.reshape(X_test.shape[0],-1)))) / 255"
   ]
  },
  {
   "cell_type": "code",
   "execution_count": null,
   "metadata": {
    "ExecuteTime": {
     "end_time": "2023-10-17T22:05:22.940118Z",
     "start_time": "2023-10-17T22:05:22.930090Z"
    },
    "hidden": true
   },
   "outputs": [],
   "source": [
    "y = np.hstack( (y_train, y_test))\n",
    "y = y % 2"
   ]
  },
  {
   "cell_type": "code",
   "execution_count": null,
   "metadata": {
    "ExecuteTime": {
     "end_time": "2023-10-17T22:05:23.507120Z",
     "start_time": "2023-10-17T22:05:23.374090Z"
    },
    "hidden": true
   },
   "outputs": [],
   "source": [
    "# Create holdout/validation set\n",
    "X_tt, X_val, y_tt, y_val = train_test_split(X, y, test_size=.17, random_state=42)"
   ]
  },
  {
   "cell_type": "code",
   "execution_count": null,
   "metadata": {
    "ExecuteTime": {
     "end_time": "2023-10-17T22:05:23.789090Z",
     "start_time": "2023-10-17T22:05:23.672091Z"
    },
    "hidden": true,
    "scrolled": false
   },
   "outputs": [],
   "source": [
    "# Create Train Test Split for modeling\n",
    "X_train, X_test, y_train, y_test = train_test_split(X_tt, y_tt, test_size=.2, random_state=42)"
   ]
  },
  {
   "cell_type": "code",
   "execution_count": null,
   "metadata": {
    "ExecuteTime": {
     "end_time": "2023-10-17T22:05:23.980090Z",
     "start_time": "2023-10-17T22:05:23.977091Z"
    },
    "hidden": true
   },
   "outputs": [],
   "source": [
    "# Check Sizes:\n",
    "print(f'Total Shape:   {X.shape}')\n",
    "print(f'Train Shape:   {X_train.shape}')\n",
    "print(f'Test Shape:    {X_test.shape}')\n",
    "print(f'Holdout Shape: {X_val.shape}')"
   ]
  },
  {
   "cell_type": "code",
   "execution_count": null,
   "metadata": {
    "ExecuteTime": {
     "end_time": "2023-10-17T22:05:24.923510Z",
     "start_time": "2023-10-17T22:05:24.910511Z"
    },
    "hidden": true
   },
   "outputs": [],
   "source": [
    "# Check distributions\n",
    "print(f'Total target: \\n{pd.Series(y).value_counts(normalize=True)}\\n')\n",
    "print(f'Total train: \\n{pd.Series(y_train).value_counts(normalize=True)}\\n')\n",
    "print(f'Total test: \\n{pd.Series(y_test).value_counts(normalize=True)}\\n')\n",
    "print(f'Total val: \\n{pd.Series(y_val).value_counts(normalize=True)}\\n')"
   ]
  },
  {
   "cell_type": "markdown",
   "metadata": {
    "heading_collapsed": true,
    "hidden": true
   },
   "source": [
    "## Dummy"
   ]
  },
  {
   "cell_type": "code",
   "execution_count": null,
   "metadata": {
    "ExecuteTime": {
     "end_time": "2023-10-17T18:29:16.037002Z",
     "start_time": "2023-10-17T18:29:15.371099Z"
    },
    "hidden": true
   },
   "outputs": [],
   "source": [
    "# Baseline Step1 \n",
    "\n",
    "dummy_model_pipe = Pipeline(steps=[('ct', CT),\n",
    "                            ('dummy', DummyClassifier(strategy='most_frequent'))])"
   ]
  },
  {
   "cell_type": "code",
   "execution_count": null,
   "metadata": {
    "ExecuteTime": {
     "end_time": "2023-10-17T22:05:26.740339Z",
     "start_time": "2023-10-17T22:05:26.733339Z"
    },
    "hidden": true
   },
   "outputs": [],
   "source": [
    "# Data2\n",
    "dummy_model_pipe = Pipeline(steps=[('dummy', DummyClassifier(strategy='most_frequent'))])"
   ]
  },
  {
   "cell_type": "code",
   "execution_count": null,
   "metadata": {
    "ExecuteTime": {
     "end_time": "2023-10-17T22:05:27.052510Z",
     "start_time": "2023-10-17T22:05:27.046513Z"
    },
    "hidden": true
   },
   "outputs": [],
   "source": [
    "dummy_model_pipe.fit(X_train, y_train)"
   ]
  },
  {
   "cell_type": "code",
   "execution_count": null,
   "metadata": {
    "ExecuteTime": {
     "end_time": "2023-10-17T22:05:27.432534Z",
     "start_time": "2023-10-17T22:05:27.421510Z"
    },
    "hidden": true
   },
   "outputs": [],
   "source": [
    "model_dict = ModelStorer()"
   ]
  },
  {
   "cell_type": "code",
   "execution_count": null,
   "metadata": {
    "ExecuteTime": {
     "end_time": "2023-10-17T22:05:27.748511Z",
     "start_time": "2023-10-17T22:05:27.734511Z"
    },
    "hidden": true
   },
   "outputs": [],
   "source": [
    "dummy_results = SaveModel(model=dummy_model_pipe, \n",
    "                          model_name='dummy',\n",
    "                          X_train=X_train,\n",
    "                          X_test=X_test,\n",
    "                          y_train=y_train,\n",
    "                          y_test=y_test,\n",
    "                          X_tt=X_tt,\n",
    "                          y_tt=y_tt,\n",
    "                          X_val=X_val,\n",
    "                          y_val=y_val)"
   ]
  },
  {
   "cell_type": "code",
   "execution_count": null,
   "metadata": {
    "ExecuteTime": {
     "end_time": "2023-10-17T22:05:28.266961Z",
     "start_time": "2023-10-17T22:05:28.209425Z"
    },
    "hidden": true
   },
   "outputs": [],
   "source": [
    "dummy_results.score_model_train_test()"
   ]
  },
  {
   "cell_type": "code",
   "execution_count": null,
   "metadata": {
    "ExecuteTime": {
     "end_time": "2023-10-17T22:05:28.582874Z",
     "start_time": "2023-10-17T22:05:28.564846Z"
    },
    "hidden": true
   },
   "outputs": [],
   "source": [
    "model_dict.add_model(dummy_results)"
   ]
  },
  {
   "cell_type": "code",
   "execution_count": null,
   "metadata": {
    "ExecuteTime": {
     "end_time": "2023-10-17T22:05:29.053240Z",
     "start_time": "2023-10-17T22:05:28.942213Z"
    },
    "hidden": true
   },
   "outputs": [],
   "source": [
    "model_dict.plot_models_roc_curves()"
   ]
  },
  {
   "cell_type": "code",
   "execution_count": null,
   "metadata": {
    "ExecuteTime": {
     "end_time": "2023-10-17T22:05:29.289625Z",
     "start_time": "2023-10-17T22:05:29.270625Z"
    },
    "hidden": true
   },
   "outputs": [],
   "source": [
    "model_dict.print_scores('accuracy_score')"
   ]
  },
  {
   "cell_type": "markdown",
   "metadata": {
    "heading_collapsed": true,
    "hidden": true
   },
   "source": [
    "## FSM"
   ]
  },
  {
   "cell_type": "code",
   "execution_count": null,
   "metadata": {
    "ExecuteTime": {
     "end_time": "2023-10-16T04:47:39.769210Z",
     "start_time": "2023-10-16T04:47:39.755211Z"
    },
    "hidden": true
   },
   "outputs": [],
   "source": [
    "# Step 2\n",
    "# The `ColumnTransformer` will take care of our preprocessing,\n",
    "# so now we can add our model at the end of the pipeline.\n",
    "# Upped max iter to get rid of error\n",
    "\n",
    "fsm_pipe = Pipeline(steps=[('ct', CT),  \n",
    "                            ('logreg', LogisticRegression(max_iter=1000, random_state=42))])"
   ]
  },
  {
   "cell_type": "code",
   "execution_count": null,
   "metadata": {
    "ExecuteTime": {
     "end_time": "2023-10-17T22:05:31.061365Z",
     "start_time": "2023-10-17T22:05:31.046339Z"
    },
    "hidden": true
   },
   "outputs": [],
   "source": [
    "fsm_pipe = Pipeline(steps=[('logreg', LogisticRegression(max_iter=1000, random_state=42))])"
   ]
  },
  {
   "cell_type": "code",
   "execution_count": null,
   "metadata": {
    "ExecuteTime": {
     "end_time": "2023-10-17T22:05:31.314730Z",
     "start_time": "2023-10-17T22:05:31.310701Z"
    },
    "hidden": true
   },
   "outputs": [],
   "source": [
    "fsm_results = SaveModel(model=fsm_pipe, \n",
    "                          model_name='fsm',\n",
    "                          X_train=X_train,\n",
    "                          X_test=X_test,\n",
    "                          y_train=y_train,\n",
    "                          y_test=y_test,\n",
    "                          X_tt=X_tt,\n",
    "                          y_tt=y_tt,\n",
    "                          X_val=X_val,\n",
    "                          y_val=y_val)"
   ]
  },
  {
   "cell_type": "code",
   "execution_count": null,
   "metadata": {
    "ExecuteTime": {
     "end_time": "2023-10-17T22:05:54.059600Z",
     "start_time": "2023-10-17T22:05:31.594601Z"
    },
    "hidden": true
   },
   "outputs": [],
   "source": [
    "fsm_results.score_model_train_test()"
   ]
  },
  {
   "cell_type": "code",
   "execution_count": null,
   "metadata": {
    "ExecuteTime": {
     "end_time": "2023-10-17T22:05:54.232599Z",
     "start_time": "2023-10-17T22:05:54.218600Z"
    },
    "hidden": true
   },
   "outputs": [],
   "source": [
    "model_dict.add_model(fsm_results)"
   ]
  },
  {
   "cell_type": "code",
   "execution_count": null,
   "metadata": {
    "ExecuteTime": {
     "end_time": "2023-10-17T22:05:54.720600Z",
     "start_time": "2023-10-17T22:05:54.375599Z"
    },
    "hidden": true
   },
   "outputs": [],
   "source": [
    " model_dict.plot_models_roc_curves()"
   ]
  },
  {
   "cell_type": "code",
   "execution_count": null,
   "metadata": {
    "ExecuteTime": {
     "end_time": "2023-10-17T22:05:54.879599Z",
     "start_time": "2023-10-17T22:05:54.864600Z"
    },
    "hidden": true
   },
   "outputs": [],
   "source": [
    "model_dict.print_scores()"
   ]
  },
  {
   "cell_type": "markdown",
   "metadata": {
    "heading_collapsed": true,
    "hidden": true
   },
   "source": [
    "## Trying Other Models at the End of the Pipeline"
   ]
  },
  {
   "cell_type": "markdown",
   "metadata": {
    "hidden": true
   },
   "source": [
    "Can I have multiple models in a single pipeline? Yes. We'll forgo this here, but for more on this see [here](https://stackoverflow.com/questions/48507651/multiple-classification-models-in-a-scikit-pipeline-python)."
   ]
  },
  {
   "cell_type": "markdown",
   "metadata": {
    "heading_collapsed": true,
    "hidden": true
   },
   "source": [
    "### kNN"
   ]
  },
  {
   "cell_type": "code",
   "execution_count": null,
   "metadata": {
    "ExecuteTime": {
     "end_time": "2023-10-16T04:47:41.198210Z",
     "start_time": "2023-10-16T04:47:41.183211Z"
    },
    "hidden": true
   },
   "outputs": [],
   "source": [
    "knn_pipe = Pipeline([('ct',CT),('knn',KNeighborsClassifier())])"
   ]
  },
  {
   "cell_type": "code",
   "execution_count": null,
   "metadata": {
    "ExecuteTime": {
     "end_time": "2023-10-17T22:05:55.036599Z",
     "start_time": "2023-10-17T22:05:55.021600Z"
    },
    "hidden": true
   },
   "outputs": [],
   "source": [
    "knn_pipe = Pipeline([('knn',KNeighborsClassifier())])"
   ]
  },
  {
   "cell_type": "code",
   "execution_count": null,
   "metadata": {
    "ExecuteTime": {
     "end_time": "2023-10-17T22:05:55.195632Z",
     "start_time": "2023-10-17T22:05:55.180602Z"
    },
    "hidden": true
   },
   "outputs": [],
   "source": [
    "knn_results = SaveModel(model=knn_pipe, \n",
    "                          model_name='knn',\n",
    "                          X_train=X_train,\n",
    "                          X_test=X_test,\n",
    "                          y_train=y_train,\n",
    "                          y_test=y_test,\n",
    "                          X_tt=X_tt,\n",
    "                          y_tt=y_tt,\n",
    "                          X_val=X_val,\n",
    "                          y_val=y_val)"
   ]
  },
  {
   "cell_type": "code",
   "execution_count": null,
   "metadata": {
    "ExecuteTime": {
     "end_time": "2023-10-17T22:07:06.548631Z",
     "start_time": "2023-10-17T22:05:55.339600Z"
    },
    "hidden": true
   },
   "outputs": [],
   "source": [
    "knn_results.score_model_train_test()"
   ]
  },
  {
   "cell_type": "code",
   "execution_count": null,
   "metadata": {
    "ExecuteTime": {
     "end_time": "2023-10-17T22:07:06.706599Z",
     "start_time": "2023-10-17T22:07:06.691600Z"
    },
    "hidden": true
   },
   "outputs": [],
   "source": [
    "model_dict.add_model(knn_results)"
   ]
  },
  {
   "cell_type": "code",
   "execution_count": null,
   "metadata": {
    "ExecuteTime": {
     "end_time": "2023-10-17T22:08:04.508631Z",
     "start_time": "2023-10-17T22:07:06.851600Z"
    },
    "hidden": true
   },
   "outputs": [],
   "source": [
    "model_dict.plot_models_roc_curves()"
   ]
  },
  {
   "cell_type": "code",
   "execution_count": null,
   "metadata": {
    "ExecuteTime": {
     "end_time": "2023-10-17T22:08:04.775599Z",
     "start_time": "2023-10-17T22:08:04.760646Z"
    },
    "hidden": true
   },
   "outputs": [],
   "source": [
    "model_dict.print_scores('accuracy_score')"
   ]
  },
  {
   "cell_type": "markdown",
   "metadata": {
    "heading_collapsed": true,
    "hidden": true
   },
   "source": [
    "### Decision Tree"
   ]
  },
  {
   "cell_type": "code",
   "execution_count": null,
   "metadata": {
    "ExecuteTime": {
     "end_time": "2023-10-16T04:47:58.162904Z",
     "start_time": "2023-10-16T04:47:58.147903Z"
    },
    "hidden": true
   },
   "outputs": [],
   "source": [
    "dtc = DecisionTreeClassifier(random_state=42)\n",
    "\n",
    "dtc_pipe = Pipeline([('ct', CT), ('dtc', dtc)])"
   ]
  },
  {
   "cell_type": "code",
   "execution_count": null,
   "metadata": {
    "ExecuteTime": {
     "end_time": "2023-10-17T22:08:04.935600Z",
     "start_time": "2023-10-17T22:08:04.920601Z"
    },
    "hidden": true
   },
   "outputs": [],
   "source": [
    "dtc = DecisionTreeClassifier(random_state=42)\n",
    "dtc_pipe = Pipeline([('dtc', dtc)])"
   ]
  },
  {
   "cell_type": "code",
   "execution_count": null,
   "metadata": {
    "ExecuteTime": {
     "end_time": "2023-10-17T22:08:05.094601Z",
     "start_time": "2023-10-17T22:08:05.079632Z"
    },
    "hidden": true
   },
   "outputs": [],
   "source": [
    "dtc_results = SaveModel(model=dtc_pipe, \n",
    "                          model_name='dtc',\n",
    "                          X_train=X_train,\n",
    "                          X_test=X_test,\n",
    "                          y_train=y_train,\n",
    "                          y_test=y_test,\n",
    "                          X_tt=X_tt,\n",
    "                          y_tt=y_tt,\n",
    "                          X_val=X_val,\n",
    "                          y_val=y_val)"
   ]
  },
  {
   "cell_type": "code",
   "execution_count": null,
   "metadata": {
    "ExecuteTime": {
     "end_time": "2023-10-17T22:08:22.603723Z",
     "start_time": "2023-10-17T22:08:05.238612Z"
    },
    "hidden": true
   },
   "outputs": [],
   "source": [
    "dtc_results.score_model_train_test()"
   ]
  },
  {
   "cell_type": "code",
   "execution_count": null,
   "metadata": {
    "ExecuteTime": {
     "end_time": "2023-10-17T22:08:22.776796Z",
     "start_time": "2023-10-17T22:08:22.765765Z"
    },
    "hidden": true
   },
   "outputs": [],
   "source": [
    "model_dict.add_model(dtc_results)"
   ]
  },
  {
   "cell_type": "code",
   "execution_count": null,
   "metadata": {
    "ExecuteTime": {
     "end_time": "2023-10-17T22:09:20.641793Z",
     "start_time": "2023-10-17T22:08:22.919765Z"
    },
    "hidden": true
   },
   "outputs": [],
   "source": [
    "model_dict.plot_models_roc_curves()"
   ]
  },
  {
   "cell_type": "code",
   "execution_count": null,
   "metadata": {
    "ExecuteTime": {
     "end_time": "2023-10-17T22:09:20.799763Z",
     "start_time": "2023-10-17T22:09:20.784763Z"
    },
    "hidden": true
   },
   "outputs": [],
   "source": [
    "model_dict.print_scores()"
   ]
  },
  {
   "cell_type": "markdown",
   "metadata": {
    "ExecuteTime": {
     "end_time": "2023-10-16T04:22:02.406317Z",
     "start_time": "2023-10-16T04:22:02.391318Z"
    },
    "heading_collapsed": true,
    "hidden": true
   },
   "source": [
    "### Let's do a bunch!"
   ]
  },
  {
   "cell_type": "code",
   "execution_count": null,
   "metadata": {
    "ExecuteTime": {
     "end_time": "2023-10-16T04:48:06.255906Z",
     "start_time": "2023-10-16T04:48:06.241905Z"
    },
    "hidden": true
   },
   "outputs": [],
   "source": [
    "# Must be 'voting=soft' to work with roc\n",
    "\n",
    "vc = VotingClassifier(estimators=[\n",
    "    ('lr' , LogisticRegression(max_iter=1000, random_state=42)),\n",
    "    ('dt' , DecisionTreeClassifier(random_state=42)),\n",
    "    ('knn' , KNeighborsClassifier())\n",
    "], verbose=True, voting='soft')"
   ]
  },
  {
   "cell_type": "code",
   "execution_count": null,
   "metadata": {
    "ExecuteTime": {
     "end_time": "2023-10-16T04:48:06.271905Z",
     "start_time": "2023-10-16T04:48:06.257904Z"
    },
    "hidden": true
   },
   "outputs": [],
   "source": [
    "bag = BaggingClassifier(random_state=42, verbose=1)"
   ]
  },
  {
   "cell_type": "code",
   "execution_count": null,
   "metadata": {
    "ExecuteTime": {
     "end_time": "2023-10-16T04:48:06.287904Z",
     "start_time": "2023-10-16T04:48:06.272905Z"
    },
    "hidden": true
   },
   "outputs": [],
   "source": [
    "rf = RandomForestClassifier(random_state=42, verbose=1)"
   ]
  },
  {
   "cell_type": "code",
   "execution_count": null,
   "metadata": {
    "ExecuteTime": {
     "end_time": "2023-10-16T04:48:06.302904Z",
     "start_time": "2023-10-16T04:48:06.290907Z"
    },
    "hidden": true
   },
   "outputs": [],
   "source": [
    "et = ExtraTreesClassifier(bootstrap=True, random_state=42, verbose=1)"
   ]
  },
  {
   "cell_type": "code",
   "execution_count": null,
   "metadata": {
    "ExecuteTime": {
     "end_time": "2023-10-16T04:48:06.318904Z",
     "start_time": "2023-10-16T04:48:06.305905Z"
    },
    "hidden": true
   },
   "outputs": [],
   "source": [
    "sc = StackingClassifier(estimators = [\n",
    "    ('lr',LogisticRegression(max_iter=1000, random_state=42)),\n",
    "    ('dt', DecisionTreeClassifier(random_state=42)),\n",
    "    ('knn', KNeighborsClassifier()),\n",
    "    ('bag', BaggingClassifier(random_state=42)),\n",
    "    ('rf', RandomForestClassifier(random_state=42))\n",
    "], verbose=1)"
   ]
  },
  {
   "cell_type": "code",
   "execution_count": null,
   "metadata": {
    "ExecuteTime": {
     "end_time": "2023-10-16T04:48:06.334903Z",
     "start_time": "2023-10-16T04:48:06.319905Z"
    },
    "hidden": true
   },
   "outputs": [],
   "source": [
    "model_list = [('voting',vc), ('bagging', bag), ('RandoCalForest',rf), ('ExtraTrees',et), ('stacking',sc)]"
   ]
  },
  {
   "cell_type": "code",
   "execution_count": null,
   "metadata": {
    "ExecuteTime": {
     "end_time": "2023-10-16T04:49:14.700886Z",
     "start_time": "2023-10-16T04:48:06.335904Z"
    },
    "hidden": true
   },
   "outputs": [],
   "source": [
    "# Loop, fit, record.\n",
    "# This was SHAMELESSLY stolen from Will Bennet from his Phase 3 project.\n",
    "\n",
    "for name, model in model_list:\n",
    "\n",
    "    starttime = datetime.now()\n",
    "    \n",
    "    print(f'Starting on model: {name}')\n",
    "    # Create baseline pipelines\n",
    "    loop_model_pipe = Pipeline(steps=[\n",
    "        ('ct', CT),\n",
    "        (name, model)\n",
    "    ])\n",
    "\n",
    "    # Create a saved model object\n",
    "    loop_model_results = SaveModel(model=loop_model_pipe, \n",
    "                          model_name=name,\n",
    "                          X_train=X_train,\n",
    "                          X_test=X_test,\n",
    "                          y_train=y_train,\n",
    "                          y_test=y_test,\n",
    "                          X_tt=X_tt,\n",
    "                          y_tt=y_tt,\n",
    "                          X_val=X_val,\n",
    "                          y_val=y_val)\n",
    "    # Fit and score on train and test data\n",
    "    loop_model_results.score_model_train_test()\n",
    "\n",
    "    # Add the model to the dictionary\n",
    "    model_dict.add_model(loop_model_results)\n",
    "    \n",
    "    print(f'{name} took {datetime.now()-starttime} to finish. \\n')\n",
    "    "
   ]
  },
  {
   "cell_type": "code",
   "execution_count": null,
   "metadata": {
    "ExecuteTime": {
     "end_time": "2023-10-16T04:49:36.867848Z",
     "start_time": "2023-10-16T04:49:14.701886Z"
    },
    "hidden": true
   },
   "outputs": [],
   "source": [
    "model_dict.plot_models_roc_curves()"
   ]
  },
  {
   "cell_type": "code",
   "execution_count": null,
   "metadata": {
    "ExecuteTime": {
     "end_time": "2023-10-16T04:49:36.897849Z",
     "start_time": "2023-10-16T04:49:36.868849Z"
    },
    "hidden": true
   },
   "outputs": [],
   "source": [
    "model_dict.print_scores('accuracy_score')"
   ]
  },
  {
   "cell_type": "markdown",
   "metadata": {
    "heading_collapsed": true,
    "hidden": true
   },
   "source": [
    "### Neural Network"
   ]
  },
  {
   "cell_type": "code",
   "execution_count": null,
   "metadata": {
    "ExecuteTime": {
     "end_time": "2023-10-17T18:15:17.178636Z",
     "start_time": "2023-10-17T18:15:17.172624Z"
    },
    "hidden": true
   },
   "outputs": [],
   "source": [
    "X_train.shape"
   ]
  },
  {
   "cell_type": "code",
   "execution_count": null,
   "metadata": {
    "ExecuteTime": {
     "end_time": "2023-10-17T22:34:22.240683Z",
     "start_time": "2023-10-17T22:34:22.226685Z"
    },
    "hidden": true
   },
   "outputs": [],
   "source": [
    "def build_model():\n",
    "    model = Sequential()\n",
    "    \n",
    "#     model.add(Dense(12, activation='relu', input_dim=33))\n",
    "    model.add(Input(784))\n",
    "    \n",
    "    model.add(Dense(12, activation='relu'))\n",
    "    \n",
    "    model.add(Dense(8, activation='relu'))\n",
    "    model.add(Dense(4, activation='relu'))\n",
    "    model.add(Dense(1, activation = 'sigmoid'))\n",
    "\n",
    "    model.compile(optimizer='adam',\n",
    "                  loss='binary_crossentropy',\n",
    "                  metrics=['accuracy'])\n",
    "    \n",
    "\n",
    "    return model"
   ]
  },
  {
   "cell_type": "code",
   "execution_count": null,
   "metadata": {
    "ExecuteTime": {
     "end_time": "2023-10-17T22:34:23.053684Z",
     "start_time": "2023-10-17T22:34:23.013686Z"
    },
    "hidden": true
   },
   "outputs": [],
   "source": [
    "model = build_model()"
   ]
  },
  {
   "cell_type": "code",
   "execution_count": null,
   "metadata": {
    "ExecuteTime": {
     "end_time": "2023-10-17T22:34:23.493693Z",
     "start_time": "2023-10-17T22:34:23.486723Z"
    },
    "hidden": true
   },
   "outputs": [],
   "source": [
    "model.summary()"
   ]
  },
  {
   "cell_type": "code",
   "execution_count": null,
   "metadata": {
    "ExecuteTime": {
     "end_time": "2023-10-17T22:34:27.380214Z",
     "start_time": "2023-10-17T22:34:27.376212Z"
    },
    "hidden": true
   },
   "outputs": [],
   "source": [
    "# Define the EarlyStopping object\n",
    "early_stop = EarlyStopping(monitor='loss', min_delta=1e-4,\n",
    "                       verbose=1,\n",
    "                       patience=5,\n",
    "                       mode='min')\n",
    "\n",
    "keras_model = KerasClassifier(build_model,\n",
    "                              epochs=50,\n",
    "                              batch_size=1024,\n",
    "                              verbose=2,\n",
    "                              callbacks = [early_stop])"
   ]
  },
  {
   "cell_type": "code",
   "execution_count": null,
   "metadata": {
    "ExecuteTime": {
     "end_time": "2023-10-17T22:34:28.039259Z",
     "start_time": "2023-10-17T22:34:28.023289Z"
    },
    "hidden": true
   },
   "outputs": [],
   "source": [
    "nn_pipe = Pipeline([('nn', keras_model)])"
   ]
  },
  {
   "cell_type": "code",
   "execution_count": null,
   "metadata": {
    "ExecuteTime": {
     "end_time": "2023-10-17T22:34:29.038376Z",
     "start_time": "2023-10-17T22:34:29.034375Z"
    },
    "hidden": true
   },
   "outputs": [],
   "source": [
    "nn_results = SaveModel(model=nn_pipe, \n",
    "                          model_name='nn',\n",
    "                          X_train=X_train,\n",
    "                          X_test=X_test,\n",
    "                          y_train=y_train,\n",
    "                          y_test=y_test,\n",
    "                          X_tt=X_tt,\n",
    "                          y_tt=y_tt,\n",
    "                          X_val=X_val,\n",
    "                          y_val=y_val)"
   ]
  },
  {
   "cell_type": "code",
   "execution_count": null,
   "metadata": {
    "ExecuteTime": {
     "end_time": "2023-10-17T22:34:40.285375Z",
     "start_time": "2023-10-17T22:34:29.567376Z"
    },
    "hidden": true,
    "scrolled": true
   },
   "outputs": [],
   "source": [
    "nn_results.score_model_train_test()"
   ]
  },
  {
   "cell_type": "code",
   "execution_count": null,
   "metadata": {
    "ExecuteTime": {
     "end_time": "2023-10-17T22:09:34.541764Z",
     "start_time": "2023-10-17T22:09:34.526763Z"
    },
    "hidden": true
   },
   "outputs": [],
   "source": [
    "model_dict.add_model(nn_results)"
   ]
  },
  {
   "cell_type": "code",
   "execution_count": null,
   "metadata": {
    "ExecuteTime": {
     "end_time": "2023-10-17T22:10:31.758728Z",
     "start_time": "2023-10-17T22:09:34.684764Z"
    },
    "hidden": true
   },
   "outputs": [],
   "source": [
    "model_dict.plot_models_roc_curves()"
   ]
  },
  {
   "cell_type": "code",
   "execution_count": null,
   "metadata": {
    "ExecuteTime": {
     "end_time": "2023-10-17T22:10:46.595757Z",
     "start_time": "2023-10-17T22:10:31.915727Z"
    },
    "hidden": true
   },
   "outputs": [],
   "source": [
    "model_dict.plot_models_roc_curves('test')"
   ]
  },
  {
   "cell_type": "code",
   "execution_count": null,
   "metadata": {
    "ExecuteTime": {
     "end_time": "2023-10-17T22:10:46.754751Z",
     "start_time": "2023-10-17T22:10:46.739727Z"
    },
    "hidden": true
   },
   "outputs": [],
   "source": [
    "model_dict.print_scores('accuracy_score')"
   ]
  },
  {
   "cell_type": "code",
   "execution_count": null,
   "metadata": {
    "ExecuteTime": {
     "end_time": "2023-10-17T22:12:07.682165Z",
     "start_time": "2023-10-17T22:11:10.484803Z"
    },
    "hidden": true
   },
   "outputs": [],
   "source": [
    "model_dict.plot_models_confusion_matricies()"
   ]
  },
  {
   "cell_type": "markdown",
   "metadata": {
    "heading_collapsed": true,
    "hidden": true
   },
   "source": [
    "## Tuning and with `RandomizedSearchCV`"
   ]
  },
  {
   "cell_type": "code",
   "execution_count": null,
   "metadata": {
    "ExecuteTime": {
     "end_time": "2023-10-16T04:52:18.971224Z",
     "start_time": "2023-10-16T04:52:18.956197Z"
    },
    "hidden": true
   },
   "outputs": [],
   "source": [
    "rf_pipe = Pipeline([\n",
    "    ('ct',CT),\n",
    "    ('rf',rf)\n",
    "])"
   ]
  },
  {
   "cell_type": "code",
   "execution_count": null,
   "metadata": {
    "ExecuteTime": {
     "end_time": "2023-10-16T04:52:21.918708Z",
     "start_time": "2023-10-16T04:52:21.895707Z"
    },
    "hidden": true
   },
   "outputs": [],
   "source": [
    "rf_pipe"
   ]
  },
  {
   "cell_type": "code",
   "execution_count": null,
   "metadata": {
    "ExecuteTime": {
     "end_time": "2023-10-16T04:53:41.271879Z",
     "start_time": "2023-10-16T04:53:41.266877Z"
    },
    "hidden": true
   },
   "outputs": [],
   "source": [
    "model_params = {\n",
    "    # randomly sample numbers from 4 to 204 estimators\n",
    "    'rf__n_estimators': randint(4,200),\n",
    "    \n",
    "    # normally distributed max_features, with mean .25 stddev 0.1, bounded between 0 and 1\n",
    "    'rf__max_features': truncnorm(a=0, b=1, loc=0.25, scale=0.1),\n",
    "    \n",
    "    # uniform distribution from 0.01 to 0.2 (0.01 + 0.199)\n",
    "    'rf__min_samples_split': uniform(0.01, 0.199)\n",
    "}"
   ]
  },
  {
   "cell_type": "code",
   "execution_count": null,
   "metadata": {
    "ExecuteTime": {
     "end_time": "2023-10-16T04:53:41.761903Z",
     "start_time": "2023-10-16T04:53:41.747877Z"
    },
    "hidden": true
   },
   "outputs": [],
   "source": [
    "model_params\n"
   ]
  },
  {
   "cell_type": "code",
   "execution_count": null,
   "metadata": {
    "ExecuteTime": {
     "end_time": "2023-10-16T04:55:03.664871Z",
     "start_time": "2023-10-16T04:55:03.660873Z"
    },
    "hidden": true
   },
   "outputs": [],
   "source": [
    "rgs=RandomizedSearchCV(rf_pipe,\n",
    "                       model_params,\n",
    "                       random_state=42,\n",
    "                       verbose=1,\n",
    "                       n_iter=50,\n",
    "                       n_jobs=-1)"
   ]
  },
  {
   "cell_type": "code",
   "execution_count": null,
   "metadata": {
    "ExecuteTime": {
     "end_time": "2023-10-16T04:56:51.158530Z",
     "start_time": "2023-10-16T04:55:04.832884Z"
    },
    "hidden": true,
    "scrolled": false
   },
   "outputs": [],
   "source": [
    "# 11min run time!\n",
    "rgs.fit(X_train, y_train)"
   ]
  },
  {
   "cell_type": "code",
   "execution_count": null,
   "metadata": {
    "ExecuteTime": {
     "end_time": "2023-06-06T00:18:44.565937Z",
     "start_time": "2023-06-06T00:18:44.551968Z"
    },
    "hidden": true
   },
   "outputs": [],
   "source": [
    "# {'rf__max_features': 0.29359252905971395,\n",
    "#  'rf__min_samples_split': 0.11402383304701681,\n",
    "#  'rf__n_estimators': 18}"
   ]
  },
  {
   "cell_type": "code",
   "execution_count": null,
   "metadata": {
    "ExecuteTime": {
     "end_time": "2023-10-16T04:56:58.432931Z",
     "start_time": "2023-10-16T04:56:58.418960Z"
    },
    "hidden": true
   },
   "outputs": [],
   "source": [
    "rgs.best_params_"
   ]
  },
  {
   "cell_type": "code",
   "execution_count": null,
   "metadata": {
    "ExecuteTime": {
     "end_time": "2023-10-16T04:57:10.290119Z",
     "start_time": "2023-10-16T04:57:10.276120Z"
    },
    "hidden": true
   },
   "outputs": [],
   "source": [
    "rgs_best = rgs.best_estimator_"
   ]
  },
  {
   "cell_type": "code",
   "execution_count": null,
   "metadata": {
    "ExecuteTime": {
     "end_time": "2023-10-16T04:57:17.003657Z",
     "start_time": "2023-10-16T04:57:16.951629Z"
    },
    "hidden": true
   },
   "outputs": [],
   "source": [
    "rgs_best.score(X_train,y_train)"
   ]
  },
  {
   "cell_type": "code",
   "execution_count": null,
   "metadata": {
    "ExecuteTime": {
     "end_time": "2023-10-16T04:57:23.013427Z",
     "start_time": "2023-10-16T04:57:22.982452Z"
    },
    "hidden": true
   },
   "outputs": [],
   "source": [
    "rgs_best.score(X_test, y_test)"
   ]
  },
  {
   "cell_type": "code",
   "execution_count": null,
   "metadata": {
    "ExecuteTime": {
     "end_time": "2023-10-16T05:01:51.953991Z",
     "start_time": "2023-10-16T05:01:51.938214Z"
    },
    "hidden": true
   },
   "outputs": [],
   "source": [
    "rgs_best = RandomForestClassifier(max_features=0.29359252905971395,\n",
    "                                  min_samples_split = 0.11402383304701681,\n",
    "                                  n_estimators = 18)"
   ]
  },
  {
   "cell_type": "code",
   "execution_count": null,
   "metadata": {
    "ExecuteTime": {
     "end_time": "2023-10-16T05:01:53.109244Z",
     "start_time": "2023-10-16T05:01:53.101275Z"
    },
    "hidden": true
   },
   "outputs": [],
   "source": [
    "rgs_pipe = Pipeline([('ct', CT), ('rgs', rgs_best)])"
   ]
  },
  {
   "cell_type": "code",
   "execution_count": null,
   "metadata": {
    "ExecuteTime": {
     "end_time": "2023-10-16T05:01:54.596251Z",
     "start_time": "2023-10-16T05:01:54.579258Z"
    },
    "hidden": true
   },
   "outputs": [],
   "source": [
    "rgs_results = SaveModel(model=rgs_pipe, \n",
    "                          model_name='rgs',\n",
    "                          X_train=X_train,\n",
    "                          X_test=X_test,\n",
    "                          y_train=y_train,\n",
    "                          y_test=y_test,\n",
    "                          X_tt=X_tt,\n",
    "                          y_tt=y_tt,\n",
    "                          X_val=X_val,\n",
    "                          y_val=y_val)"
   ]
  },
  {
   "cell_type": "code",
   "execution_count": null,
   "metadata": {
    "ExecuteTime": {
     "end_time": "2023-10-16T05:01:58.853651Z",
     "start_time": "2023-10-16T05:01:58.270404Z"
    },
    "hidden": true
   },
   "outputs": [],
   "source": [
    "rgs_results.score_model_train_test()"
   ]
  },
  {
   "cell_type": "code",
   "execution_count": null,
   "metadata": {
    "ExecuteTime": {
     "end_time": "2023-10-16T05:02:02.612289Z",
     "start_time": "2023-10-16T05:02:02.606289Z"
    },
    "hidden": true
   },
   "outputs": [],
   "source": [
    "model_dict.add_model(rgs_results)"
   ]
  },
  {
   "cell_type": "code",
   "execution_count": null,
   "metadata": {
    "ExecuteTime": {
     "end_time": "2023-10-16T05:02:29.766267Z",
     "start_time": "2023-10-16T05:02:06.646224Z"
    },
    "hidden": true
   },
   "outputs": [],
   "source": [
    "model_dict.plot_models_roc_curves()"
   ]
  },
  {
   "cell_type": "code",
   "execution_count": null,
   "metadata": {
    "ExecuteTime": {
     "end_time": "2023-10-16T05:06:24.501500Z",
     "start_time": "2023-10-16T05:06:17.495188Z"
    },
    "hidden": true
   },
   "outputs": [],
   "source": [
    "model_dict.plot_models_roc_curves('test')"
   ]
  },
  {
   "cell_type": "code",
   "execution_count": null,
   "metadata": {
    "ExecuteTime": {
     "end_time": "2023-10-16T05:02:30.296443Z",
     "start_time": "2023-10-16T05:02:30.281444Z"
    },
    "hidden": true
   },
   "outputs": [],
   "source": [
    "model_dict.print_scores('accuracy_score')"
   ]
  },
  {
   "cell_type": "code",
   "execution_count": null,
   "metadata": {
    "ExecuteTime": {
     "end_time": "2023-10-16T05:05:26.486200Z",
     "start_time": "2023-10-16T05:02:30.798442Z"
    },
    "hidden": true
   },
   "outputs": [],
   "source": [
    "model_dict.validate_models()"
   ]
  },
  {
   "cell_type": "code",
   "execution_count": null,
   "metadata": {
    "ExecuteTime": {
     "end_time": "2023-10-16T05:05:27.014203Z",
     "start_time": "2023-10-16T05:05:27.000203Z"
    },
    "hidden": true,
    "scrolled": false
   },
   "outputs": [],
   "source": [
    "model_dict.print_scores('accuracy_score')"
   ]
  },
  {
   "cell_type": "code",
   "execution_count": null,
   "metadata": {
    "ExecuteTime": {
     "end_time": "2023-10-16T05:05:27.534201Z",
     "start_time": "2023-10-16T05:05:27.519200Z"
    },
    "hidden": true,
    "scrolled": true
   },
   "outputs": [],
   "source": [
    "results_df  = model_dict.return_scores()"
   ]
  },
  {
   "cell_type": "markdown",
   "metadata": {
    "heading_collapsed": true,
    "hidden": true
   },
   "source": [
    "## NN Tuning"
   ]
  },
  {
   "cell_type": "markdown",
   "metadata": {
    "hidden": true
   },
   "source": [
    "This is stolen from [here](https://adriangb.com/scikeras/refs/heads/master/notebooks/Basic_Usage.html)\n",
    "\n",
    "[Here](https://github.com/tblatrille/Keras_GridSearch/tree/main) is a way to tune deeper into your NN."
   ]
  },
  {
   "cell_type": "code",
   "execution_count": 21,
   "metadata": {
    "ExecuteTime": {
     "end_time": "2023-10-17T23:35:45.812317Z",
     "start_time": "2023-10-17T23:35:45.799344Z"
    },
    "hidden": true
   },
   "outputs": [
    {
     "data": {
      "text/plain": [
       "(19920, 23)"
      ]
     },
     "execution_count": 21,
     "metadata": {},
     "output_type": "execute_result"
    }
   ],
   "source": [
    "X_train.shape"
   ]
  },
  {
   "cell_type": "code",
   "execution_count": 32,
   "metadata": {
    "ExecuteTime": {
     "end_time": "2023-10-17T23:38:01.083316Z",
     "start_time": "2023-10-17T23:38:01.068316Z"
    },
    "hidden": true
   },
   "outputs": [],
   "source": [
    "def build_model(nbr_features=23):\n",
    "    \n",
    "    model = Sequential()\n",
    "    \n",
    "    model.add(Input(nbr_features))\n",
    "    \n",
    "    model.add(Dense(units=12, activation='relu'))\n",
    "    \n",
    "    model.add(Dropout(.5))\n",
    "    model.add(Dense(8, activation='relu'))\n",
    "    model.add(Dense(4, activation='relu'))\n",
    "    model.add(Dense(1, activation = 'sigmoid'))\n",
    "\n",
    "    model.compile(loss='binary_crossentropy',\n",
    "                  metrics=['accuracy'])\n",
    "    \n",
    "\n",
    "    return model"
   ]
  },
  {
   "cell_type": "code",
   "execution_count": 33,
   "metadata": {
    "ExecuteTime": {
     "end_time": "2023-10-17T23:38:01.465315Z",
     "start_time": "2023-10-17T23:38:01.453286Z"
    },
    "hidden": true
   },
   "outputs": [],
   "source": [
    "# Define the EarlyStopping object\n",
    "early_stop = EarlyStopping(monitor='loss', \n",
    "                           min_delta=1e-4,\n",
    "                           verbose=1,\n",
    "                           patience=5,\n",
    "                           mode='min')\n",
    "\n",
    "keras_model = KerasClassifier(build_model,\n",
    "                              verbose=2,\n",
    "                              callbacks = [early_stop])"
   ]
  },
  {
   "cell_type": "code",
   "execution_count": 34,
   "metadata": {
    "ExecuteTime": {
     "end_time": "2023-10-17T23:38:01.891288Z",
     "start_time": "2023-10-17T23:38:01.888323Z"
    },
    "hidden": true
   },
   "outputs": [],
   "source": [
    "nn_gs_pipe = Pipeline([('nn', keras_model)])"
   ]
  },
  {
   "cell_type": "code",
   "execution_count": 35,
   "metadata": {
    "ExecuteTime": {
     "end_time": "2023-10-17T23:38:02.366314Z",
     "start_time": "2023-10-17T23:38:02.348316Z"
    },
    "hidden": true
   },
   "outputs": [],
   "source": [
    "param_grid = {\n",
    "    'nn__epochs': [10, 20, 30],\n",
    "    'nn__batch_size':[2, 16, 32],\n",
    "    'nn__optimizer':['Adam', 'sgd']\n",
    "}\n"
   ]
  },
  {
   "cell_type": "code",
   "execution_count": 38,
   "metadata": {
    "ExecuteTime": {
     "end_time": "2023-10-18T00:12:09.645133Z",
     "start_time": "2023-10-18T00:12:09.617133Z"
    },
    "hidden": true
   },
   "outputs": [],
   "source": [
    "nn_gs = GridSearchCV(nn_gs_pipe, param_grid, verbose=2, return_train_score=True, n_jobs=3, cv=3)"
   ]
  },
  {
   "cell_type": "code",
   "execution_count": 39,
   "metadata": {
    "ExecuteTime": {
     "end_time": "2023-10-18T05:16:12.347839Z",
     "start_time": "2023-10-18T00:12:11.752570Z"
    },
    "hidden": true,
    "scrolled": true
   },
   "outputs": [
    {
     "name": "stdout",
     "output_type": "stream",
     "text": [
      "Fitting 3 folds for each of 18 candidates, totalling 54 fits\n",
      "Epoch 1/10\n",
      "1245/1245 - 12s - loss: 379.4944 - accuracy: 0.7137 - 12s/epoch - 10ms/step\n",
      "Epoch 2/10\n",
      "1245/1245 - 4s - loss: 0.6599 - accuracy: 0.7768 - 4s/epoch - 3ms/step\n",
      "Epoch 3/10\n",
      "1245/1245 - 4s - loss: 0.5671 - accuracy: 0.7769 - 4s/epoch - 3ms/step\n",
      "Epoch 4/10\n",
      "1245/1245 - 4s - loss: 0.5644 - accuracy: 0.7773 - 4s/epoch - 3ms/step\n",
      "Epoch 5/10\n",
      "1245/1245 - 4s - loss: 0.5841 - accuracy: 0.7768 - 4s/epoch - 3ms/step\n",
      "Epoch 6/10\n",
      "1245/1245 - 4s - loss: 0.5660 - accuracy: 0.7768 - 4s/epoch - 3ms/step\n",
      "Epoch 7/10\n",
      "1245/1245 - 4s - loss: 0.7019 - accuracy: 0.7772 - 4s/epoch - 3ms/step\n",
      "Epoch 8/10\n",
      "1245/1245 - 4s - loss: 0.5750 - accuracy: 0.7774 - 4s/epoch - 3ms/step\n",
      "Epoch 9/10\n",
      "1245/1245 - 4s - loss: 0.6979 - accuracy: 0.7769 - 4s/epoch - 3ms/step\n",
      "Epoch 00009: early stopping\n"
     ]
    }
   ],
   "source": [
    "# 5 hour fit time!\n",
    "grid_result = nn_gs.fit(X_train, y_train)"
   ]
  },
  {
   "cell_type": "code",
   "execution_count": null,
   "metadata": {
    "hidden": true
   },
   "outputs": [],
   "source": [
    "# {'nn__batch_size': 16, 'nn__epochs': 10, 'nn__optimizer': 'sgd'}"
   ]
  },
  {
   "cell_type": "code",
   "execution_count": 52,
   "metadata": {
    "ExecuteTime": {
     "end_time": "2023-10-18T17:36:47.532911Z",
     "start_time": "2023-10-18T17:36:47.516913Z"
    },
    "hidden": true
   },
   "outputs": [],
   "source": [
    "early_stop = EarlyStopping(monitor='loss', \n",
    "                           min_delta=1e-4,\n",
    "                           verbose=1,\n",
    "                           patience=5,\n",
    "                           mode='min')\n",
    "\n",
    "best_nn = KerasClassifier(build_model,\n",
    "                              verbose=2,\n",
    "                              batch_size=16,\n",
    "                              epochs=10,\n",
    "                              optimizer='sgd',\n",
    "                              callbacks = [early_stop])"
   ]
  },
  {
   "cell_type": "code",
   "execution_count": 53,
   "metadata": {
    "ExecuteTime": {
     "end_time": "2023-10-18T17:36:50.064078Z",
     "start_time": "2023-10-18T17:36:50.048085Z"
    },
    "hidden": true
   },
   "outputs": [],
   "source": [
    "nn_gs_results = SaveModel(model=best_nn, \n",
    "                          model_name='best_nn',\n",
    "                          X_train=X_train,\n",
    "                          X_test=X_test,\n",
    "                          y_train=y_train,\n",
    "                          y_test=y_test,\n",
    "                          X_tt=X_tt,\n",
    "                          y_tt=y_tt,\n",
    "                          X_val=X_val,\n",
    "                          y_val=y_val)"
   ]
  },
  {
   "cell_type": "code",
   "execution_count": 54,
   "metadata": {
    "ExecuteTime": {
     "end_time": "2023-10-18T17:37:28.690979Z",
     "start_time": "2023-10-18T17:36:51.351523Z"
    },
    "hidden": true
   },
   "outputs": [
    {
     "name": "stdout",
     "output_type": "stream",
     "text": [
      "Epoch 1/10\n",
      "1245/1245 - 4s - loss: 503.0487 - accuracy: 0.7413 - 4s/epoch - 3ms/step\n",
      "Epoch 2/10\n",
      "1245/1245 - 3s - loss: 3.9017 - accuracy: 0.7740 - 3s/epoch - 3ms/step\n",
      "Epoch 3/10\n",
      "1245/1245 - 4s - loss: 2.0705 - accuracy: 0.7767 - 4s/epoch - 3ms/step\n",
      "Epoch 4/10\n",
      "1245/1245 - 3s - loss: 0.8834 - accuracy: 0.7779 - 3s/epoch - 3ms/step\n",
      "Epoch 5/10\n",
      "1245/1245 - 3s - loss: 0.7484 - accuracy: 0.7778 - 3s/epoch - 3ms/step\n",
      "Epoch 6/10\n",
      "1245/1245 - 3s - loss: 0.7587 - accuracy: 0.7779 - 3s/epoch - 3ms/step\n",
      "Epoch 7/10\n",
      "1245/1245 - 3s - loss: 0.8852 - accuracy: 0.7778 - 3s/epoch - 3ms/step\n",
      "Epoch 8/10\n",
      "1245/1245 - 3s - loss: 0.6012 - accuracy: 0.7779 - 3s/epoch - 3ms/step\n",
      "Epoch 9/10\n",
      "1245/1245 - 4s - loss: 1.1667 - accuracy: 0.7778 - 4s/epoch - 3ms/step\n",
      "Epoch 10/10\n",
      "1245/1245 - 4s - loss: 0.6706 - accuracy: 0.7778 - 4s/epoch - 3ms/step\n",
      "1245/1245 - 1s - 1s/epoch - 933us/step\n",
      "312/312 - 0s - 393ms/epoch - 1ms/step\n"
     ]
    },
    {
     "name": "stderr",
     "output_type": "stream",
     "text": [
      "E:\\python-envs\\tf-gpu\\lib\\site-packages\\sklearn\\metrics\\_classification.py:1318: UndefinedMetricWarning: Precision is ill-defined and being set to 0.0 due to no predicted samples. Use `zero_division` parameter to control this behavior.\n",
      "  _warn_prf(average, modifier, msg_start, len(result))\n",
      "E:\\python-envs\\tf-gpu\\lib\\site-packages\\sklearn\\metrics\\_classification.py:1318: UndefinedMetricWarning: Precision is ill-defined and being set to 0.0 due to no predicted samples. Use `zero_division` parameter to control this behavior.\n",
      "  _warn_prf(average, modifier, msg_start, len(result))\n"
     ]
    }
   ],
   "source": [
    "nn_gs_results.score_model_train_test()"
   ]
  },
  {
   "cell_type": "code",
   "execution_count": 50,
   "metadata": {
    "ExecuteTime": {
     "end_time": "2023-10-18T17:29:15.836832Z",
     "start_time": "2023-10-18T17:29:15.790832Z"
    },
    "hidden": true
   },
   "outputs": [
    {
     "ename": "NameError",
     "evalue": "name 'model_dict' is not defined",
     "output_type": "error",
     "traceback": [
      "\u001b[1;31m---------------------------------------------------------------------------\u001b[0m",
      "\u001b[1;31mNameError\u001b[0m                                 Traceback (most recent call last)",
      "\u001b[1;32m~\\AppData\\Local\\Temp/ipykernel_24916/4065964923.py\u001b[0m in \u001b[0;36m<module>\u001b[1;34m\u001b[0m\n\u001b[1;32m----> 1\u001b[1;33m \u001b[0mmodel_dict\u001b[0m\u001b[1;33m.\u001b[0m\u001b[0madd_model\u001b[0m\u001b[1;33m(\u001b[0m\u001b[0mnn_gs_results\u001b[0m\u001b[1;33m)\u001b[0m\u001b[1;33m\u001b[0m\u001b[1;33m\u001b[0m\u001b[0m\n\u001b[0m",
      "\u001b[1;31mNameError\u001b[0m: name 'model_dict' is not defined"
     ]
    }
   ],
   "source": [
    "model_dict.add_model(nn_gs_results)"
   ]
  },
  {
   "cell_type": "code",
   "execution_count": null,
   "metadata": {
    "ExecuteTime": {
     "end_time": "2023-10-18T17:29:15.844831Z",
     "start_time": "2023-10-18T17:29:15.844831Z"
    },
    "hidden": true
   },
   "outputs": [],
   "source": [
    "model_dict.plot_models_roc_curves()"
   ]
  },
  {
   "cell_type": "code",
   "execution_count": null,
   "metadata": {
    "ExecuteTime": {
     "end_time": "2023-10-18T17:29:15.854834Z",
     "start_time": "2023-10-18T17:29:15.854834Z"
    },
    "hidden": true
   },
   "outputs": [],
   "source": [
    "model_dict.plot_models_roc_curves('test')"
   ]
  },
  {
   "cell_type": "code",
   "execution_count": null,
   "metadata": {
    "hidden": true
   },
   "outputs": [],
   "source": [
    "model_dict.print_scores('accuracy_score')"
   ]
  },
  {
   "cell_type": "code",
   "execution_count": null,
   "metadata": {
    "hidden": true
   },
   "outputs": [],
   "source": [
    "results_df  = model_dict.return_scores()"
   ]
  }
 ],
 "metadata": {
  "kernelspec": {
   "display_name": "tf-gpu",
   "language": "python",
   "name": "tf-gpu"
  },
  "language_info": {
   "codemirror_mode": {
    "name": "ipython",
    "version": 3
   },
   "file_extension": ".py",
   "mimetype": "text/x-python",
   "name": "python",
   "nbconvert_exporter": "python",
   "pygments_lexer": "ipython3",
   "version": "3.9.9"
  },
  "toc": {
   "base_numbering": 1,
   "nav_menu": {},
   "number_sections": true,
   "sideBar": true,
   "skip_h1_title": false,
   "title_cell": "Table of Contents",
   "title_sidebar": "Contents",
   "toc_cell": false,
   "toc_position": {},
   "toc_section_display": true,
   "toc_window_display": false
  },
  "varInspector": {
   "cols": {
    "lenName": 16,
    "lenType": 16,
    "lenVar": 40
   },
   "kernels_config": {
    "python": {
     "delete_cmd_postfix": "",
     "delete_cmd_prefix": "del ",
     "library": "var_list.py",
     "varRefreshCmd": "print(var_dic_list())"
    },
    "r": {
     "delete_cmd_postfix": ") ",
     "delete_cmd_prefix": "rm(",
     "library": "var_list.r",
     "varRefreshCmd": "cat(var_dic_list()) "
    }
   },
   "types_to_exclude": [
    "module",
    "function",
    "builtin_function_or_method",
    "instance",
    "_Feature"
   ],
   "window_display": false
  }
 },
 "nbformat": 4,
 "nbformat_minor": 4
}
