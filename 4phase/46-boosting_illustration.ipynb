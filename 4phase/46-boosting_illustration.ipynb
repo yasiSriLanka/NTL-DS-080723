{
 "cells": [
  {
   "cell_type": "markdown",
   "metadata": {},
   "source": [
    "# An Illustration of Gradient Boosting"
   ]
  },
  {
   "cell_type": "code",
   "execution_count": null,
   "metadata": {
    "ExecuteTime": {
     "end_time": "2023-10-09T17:50:02.864239Z",
     "start_time": "2023-10-09T17:50:01.533427Z"
    }
   },
   "outputs": [],
   "source": [
    "import pandas as pd\n",
    "import numpy as np\n",
    "import matplotlib.pyplot as plt\n",
    "from sklearn.tree import DecisionTreeRegressor, plot_tree\n",
    "\n",
    "%matplotlib inline"
   ]
  },
  {
   "cell_type": "code",
   "execution_count": null,
   "metadata": {
    "ExecuteTime": {
     "end_time": "2023-10-09T17:50:03.068187Z",
     "start_time": "2023-10-09T17:50:02.897186Z"
    },
    "scrolled": true
   },
   "outputs": [],
   "source": [
    "X = np.linspace(0, 20, 201)\n",
    "y = np.sin(X)\n",
    "\n",
    "fig, ax = plt.subplots()\n",
    "ax.plot(X, y);"
   ]
  },
  {
   "cell_type": "markdown",
   "metadata": {},
   "source": [
    "### Step 1 \n",
    "\n",
    "Here, all we are doing is using an average of our values as a model of our data. Note that the \"actual function\" of our data is a sine curve. We are going to try to approximate that by way of gradient boosting and a decision tree regressor!"
   ]
  },
  {
   "cell_type": "code",
   "execution_count": null,
   "metadata": {
    "ExecuteTime": {
     "end_time": "2023-10-09T17:50:10.375623Z",
     "start_time": "2023-10-09T17:50:10.237596Z"
    },
    "scrolled": true
   },
   "outputs": [],
   "source": [
    "fig, ax = plt.subplots()\n",
    "ax.plot(X, y)\n",
    "f0 = y.mean()\n",
    "ax.hlines(f0, 0, 20);"
   ]
  },
  {
   "cell_type": "markdown",
   "metadata": {},
   "source": [
    "##### OK, so we have our extremely basic, extremely inaccurate model. Let's go ahead and build off of that."
   ]
  },
  {
   "cell_type": "code",
   "execution_count": null,
   "metadata": {
    "ExecuteTime": {
     "end_time": "2023-10-09T17:50:13.742363Z",
     "start_time": "2023-10-09T17:50:13.728362Z"
    }
   },
   "outputs": [],
   "source": [
    "f0"
   ]
  },
  {
   "cell_type": "code",
   "execution_count": null,
   "metadata": {
    "ExecuteTime": {
     "end_time": "2023-10-09T17:50:15.346135Z",
     "start_time": "2023-10-09T17:50:15.332137Z"
    }
   },
   "outputs": [],
   "source": [
    "# Residuals\n",
    "\n",
    "e0 = y - f0\n",
    "e0"
   ]
  },
  {
   "cell_type": "code",
   "execution_count": null,
   "metadata": {
    "ExecuteTime": {
     "end_time": "2023-10-09T17:50:18.567841Z",
     "start_time": "2023-10-09T17:50:18.423840Z"
    },
    "scrolled": true
   },
   "outputs": [],
   "source": [
    "## Plotting residuals\n",
    "\n",
    "fig, ax = plt.subplots()\n",
    "ax.scatter(X, e0);"
   ]
  },
  {
   "cell_type": "markdown",
   "metadata": {},
   "source": [
    "### Step 2: fitting a \"stump\" to the residuals"
   ]
  },
  {
   "cell_type": "code",
   "execution_count": null,
   "metadata": {
    "ExecuteTime": {
     "end_time": "2023-10-09T17:50:25.284232Z",
     "start_time": "2023-10-09T17:50:25.142233Z"
    },
    "scrolled": false
   },
   "outputs": [],
   "source": [
    "data = X.reshape(-1, 1)\n",
    "f1 = DecisionTreeRegressor(max_depth=1)\n",
    "\n",
    "f1.fit(data, e0)\n",
    "ensemble_preds_1 = f1.predict(data) + f0\n",
    "\n",
    "fig, ax = plt.subplots()\n",
    "ax.plot(X, y)\n",
    "ax.scatter(X, ensemble_preds_1,\n",
    "          c='r');"
   ]
  },
  {
   "cell_type": "code",
   "execution_count": null,
   "metadata": {
    "ExecuteTime": {
     "end_time": "2023-10-09T17:50:42.492595Z",
     "start_time": "2023-10-09T17:50:42.484565Z"
    }
   },
   "outputs": [],
   "source": [
    "# The DecisionTreeRegressor is minimizing\n",
    "# mean squared error. Since we're only\n",
    "# splitting once, we're simply predicting\n",
    "# the mean of each of the two groups formed\n",
    "# by the split.\n",
    "\n",
    "mses = []\n",
    "for j in range(1, 63):\n",
    "    mse = sum((e0[:j] - e0[:j].mean())**2)\n",
    "    mse += sum((e0[j:] - e0[j:].mean())**2)\n",
    "    mses.append(mse)\n",
    "mses.index(min(mses))"
   ]
  },
  {
   "cell_type": "code",
   "execution_count": null,
   "metadata": {
    "ExecuteTime": {
     "end_time": "2023-10-09T17:50:44.528854Z",
     "start_time": "2023-10-09T17:50:44.511854Z"
    }
   },
   "outputs": [],
   "source": [
    "mses"
   ]
  },
  {
   "cell_type": "code",
   "execution_count": null,
   "metadata": {
    "ExecuteTime": {
     "end_time": "2023-10-09T17:50:47.596777Z",
     "start_time": "2023-10-09T17:50:47.452752Z"
    }
   },
   "outputs": [],
   "source": [
    "plot_tree(f1);"
   ]
  },
  {
   "cell_type": "code",
   "execution_count": null,
   "metadata": {
    "ExecuteTime": {
     "end_time": "2023-10-09T17:50:57.306965Z",
     "start_time": "2023-10-09T17:50:57.291939Z"
    }
   },
   "outputs": [],
   "source": [
    "e0[:29].mean()"
   ]
  },
  {
   "cell_type": "code",
   "execution_count": null,
   "metadata": {
    "ExecuteTime": {
     "end_time": "2023-10-09T17:50:58.833224Z",
     "start_time": "2023-10-09T17:50:58.815222Z"
    }
   },
   "outputs": [],
   "source": [
    "e0[29:].mean()"
   ]
  },
  {
   "cell_type": "code",
   "execution_count": null,
   "metadata": {
    "ExecuteTime": {
     "end_time": "2023-10-09T17:51:02.598354Z",
     "start_time": "2023-10-09T17:51:02.578329Z"
    },
    "scrolled": true
   },
   "outputs": [],
   "source": [
    "f1.predict(data)"
   ]
  },
  {
   "cell_type": "markdown",
   "metadata": {},
   "source": [
    "### Step 3: fitting another \"stump\" to the residuals of the previous model"
   ]
  },
  {
   "cell_type": "code",
   "execution_count": null,
   "metadata": {
    "ExecuteTime": {
     "end_time": "2023-10-09T17:51:06.367088Z",
     "start_time": "2023-10-09T17:51:06.363088Z"
    }
   },
   "outputs": [],
   "source": [
    "e1 = y - (f0 + f1.predict(data))"
   ]
  },
  {
   "cell_type": "code",
   "execution_count": null,
   "metadata": {
    "ExecuteTime": {
     "end_time": "2023-10-09T17:51:07.051517Z",
     "start_time": "2023-10-09T17:51:06.883821Z"
    }
   },
   "outputs": [],
   "source": [
    "f2 = DecisionTreeRegressor(max_depth=1)\n",
    "f2.fit(data, e1)\n",
    "ensemble_preds_2 = f1.predict(data) + f2.predict(data) + f0\n",
    "\n",
    "fig, ax = plt.subplots()\n",
    "ax.scatter(X, e1)\n",
    "ax.scatter(X, ensemble_preds_2)\n",
    "plt.title('fitting to residuals (y - (f0(x) + f1(x)))');"
   ]
  },
  {
   "cell_type": "code",
   "execution_count": null,
   "metadata": {
    "ExecuteTime": {
     "end_time": "2023-10-09T17:51:11.232948Z",
     "start_time": "2023-10-09T17:51:11.075438Z"
    }
   },
   "outputs": [],
   "source": [
    "fig, ax = plt.subplots()\n",
    "ax.plot(X, y)\n",
    "ax.scatter(X, ensemble_preds_2,\n",
    "          c='r')\n",
    "plt.title('Model v. our data');"
   ]
  },
  {
   "cell_type": "markdown",
   "metadata": {},
   "source": [
    "### Fitting yet another \"stump\""
   ]
  },
  {
   "cell_type": "code",
   "execution_count": null,
   "metadata": {
    "ExecuteTime": {
     "end_time": "2023-10-09T17:51:13.011745Z",
     "start_time": "2023-10-09T17:51:12.798775Z"
    }
   },
   "outputs": [],
   "source": [
    "e2 = y - (f2.predict(data) + f1.predict(data) + f0)\n",
    "f3 = DecisionTreeRegressor(max_depth=1)\n",
    "f3.fit(data, e2)\n",
    "\n",
    "fig, ax = plt.subplots()\n",
    "ax.scatter(X, e2)\n",
    "ensemble_preds_3 = f3.predict(data) + f2.predict(data) + f1.predict(data) + f0\n",
    "ax.scatter(X, ensemble_preds_3)\n",
    "plt.title('fitting to residuals (y - (f0(x) + f1(x) + f2(x)))');"
   ]
  },
  {
   "cell_type": "code",
   "execution_count": null,
   "metadata": {
    "ExecuteTime": {
     "end_time": "2023-10-09T17:51:13.593330Z",
     "start_time": "2023-10-09T17:51:13.440268Z"
    },
    "scrolled": true
   },
   "outputs": [],
   "source": [
    "fig, ax = plt.subplots()\n",
    "ax.plot(X, np.sin(X))\n",
    "ax.scatter(X, ensemble_preds_3,\n",
    "          c='r')\n",
    "plt.title('Model v. our data');"
   ]
  },
  {
   "cell_type": "markdown",
   "metadata": {},
   "source": [
    "### Another one"
   ]
  },
  {
   "cell_type": "code",
   "execution_count": null,
   "metadata": {
    "ExecuteTime": {
     "end_time": "2023-10-09T17:51:16.385192Z",
     "start_time": "2023-10-09T17:51:16.247071Z"
    }
   },
   "outputs": [],
   "source": [
    "e3 = y - (f3.predict(data) + f2.predict(data) + f1.predict(data) + f0)\n",
    "f4 = DecisionTreeRegressor(max_depth=1)\n",
    "f4.fit(data, e3)\n",
    "\n",
    "fig, ax = plt.subplots()\n",
    "ax.scatter(X, e3)\n",
    "ensemble_preds_4 = f4.predict(data) + f3.predict(data) + f2.predict(data)\\\n",
    "    + f1.predict(data) + f0\n",
    "ax.scatter(X, ensemble_preds_4);"
   ]
  },
  {
   "cell_type": "code",
   "execution_count": null,
   "metadata": {
    "ExecuteTime": {
     "end_time": "2023-10-09T17:51:17.263419Z",
     "start_time": "2023-10-09T17:51:17.112331Z"
    },
    "scrolled": true
   },
   "outputs": [],
   "source": [
    "fig, ax = plt.subplots()\n",
    "ax.plot(X, np.sin(X))\n",
    "ax.scatter(X, ensemble_preds_4,\n",
    "          c='r')\n",
    "plt.title('Model v. our data');"
   ]
  },
  {
   "cell_type": "markdown",
   "metadata": {},
   "source": [
    "### and another"
   ]
  },
  {
   "cell_type": "code",
   "execution_count": null,
   "metadata": {
    "ExecuteTime": {
     "end_time": "2023-10-09T17:51:19.732369Z",
     "start_time": "2023-10-09T17:51:19.575274Z"
    }
   },
   "outputs": [],
   "source": [
    "e4 = np.sin(X) - (f4.predict(data) + f3.predict(data) + f2.predict(data)\\\n",
    "                  + f1.predict(data) + f0)\n",
    "f5 = DecisionTreeRegressor(max_depth=1)\n",
    "f5.fit(data, e4)\n",
    "\n",
    "fig, ax = plt.subplots()\n",
    "ax.scatter(X, e4)\n",
    "ensemble_preds_5 = f5.predict(data) + f4.predict(data) + f3.predict(data)\\\n",
    "    + f2.predict(data) + f1.predict(data) + f0\n",
    "ax.scatter(X, ensemble_preds_5);"
   ]
  },
  {
   "cell_type": "code",
   "execution_count": null,
   "metadata": {
    "ExecuteTime": {
     "end_time": "2023-10-09T17:51:20.496969Z",
     "start_time": "2023-10-09T17:51:20.346997Z"
    }
   },
   "outputs": [],
   "source": [
    "fig, ax = plt.subplots()\n",
    "ax.plot(X, np.sin(X))\n",
    "ax.scatter(X, ensemble_preds_5,\n",
    "          c='r')\n",
    "plt.title('Model v. our data');"
   ]
  },
  {
   "cell_type": "markdown",
   "metadata": {},
   "source": [
    "### Let's make a function already!"
   ]
  },
  {
   "cell_type": "code",
   "execution_count": null,
   "metadata": {
    "ExecuteTime": {
     "end_time": "2023-10-09T17:51:35.589309Z",
     "start_time": "2023-10-09T17:51:35.575305Z"
    }
   },
   "outputs": [],
   "source": [
    "def simple_boosting_algorithm(X, y, n_learners, learner,\n",
    "                              learning_rate, show_each_step=True):\n",
    "    \"\"\"Performs a simple ensemble boosting model \n",
    "    params: show_each_step - if True, will show with each additional learner\"\"\"\n",
    "    f0 = y.mean()\n",
    "    residuals = y - f0\n",
    "    \n",
    "    # This next line fills an array of len(y) with the mean of y.\n",
    "    ensemble_predictions = np.full(len(y), fill_value=f0)\n",
    "    fig, ax = plt.subplots(figsize=(20, 10))\n",
    "\n",
    "    for i in range(n_learners):\n",
    "        residuals = y - ensemble_predictions\n",
    "        f = learner.fit(X.reshape(-1, 1), residuals)\n",
    "        ensemble_predictions = learning_rate * f.predict(X.reshape(-1, 1)) +\\\n",
    "        ensemble_predictions\n",
    "        if show_each_step:\n",
    "            ax.plot(X, y)\n",
    "            ax.scatter(X, ensemble_predictions,\n",
    "                      c='r')\n",
    "            \n",
    "    ax.plot(X, y)\n",
    "    ax.scatter(X, ensemble_predictions,\n",
    "              c='r')\n",
    "            \n",
    "    plt.title('With ' + str(n_learners) + ' learners with a depth of '+\\\n",
    "              str(learner.max_depth) +\\\n",
    "              ' and a learning rate of '+ str(learning_rate))\n",
    "    \n",
    "   "
   ]
  },
  {
   "cell_type": "code",
   "execution_count": null,
   "metadata": {
    "ExecuteTime": {
     "end_time": "2023-10-09T17:59:54.490559Z",
     "start_time": "2023-10-09T17:59:54.302664Z"
    },
    "scrolled": false
   },
   "outputs": [],
   "source": [
    "simple_boosting_algorithm(X=X,\n",
    "                          y=y,\n",
    "                          n_learners=1,\n",
    "                          learner=DecisionTreeRegressor(max_depth=1),\n",
    "                          learning_rate=0.001,\n",
    "                          show_each_step=True)"
   ]
  },
  {
   "cell_type": "code",
   "execution_count": null,
   "metadata": {
    "ExecuteTime": {
     "end_time": "2023-10-09T18:00:03.036203Z",
     "start_time": "2023-10-09T18:00:01.914944Z"
    }
   },
   "outputs": [],
   "source": [
    "simple_boosting_algorithm(X=X,\n",
    "                          y=y,\n",
    "                          n_learners=100,\n",
    "                          learner=DecisionTreeRegressor(max_depth=1),\n",
    "                          learning_rate=0.01,\n",
    "                          show_each_step=True)"
   ]
  },
  {
   "cell_type": "code",
   "execution_count": null,
   "metadata": {
    "ExecuteTime": {
     "end_time": "2023-10-09T17:58:48.712745Z",
     "start_time": "2023-10-09T17:51:52.431806Z"
    }
   },
   "outputs": [],
   "source": [
    "# 7 min run time\n",
    "# simple_boosting_algorithm(X=X,\n",
    "#                           y=y,\n",
    "#                           n_learners=10000,\n",
    "#                           learner=DecisionTreeRegressor(max_depth=1),\n",
    "#                           learning_rate=0.001,\n",
    "#                           show_each_step=True)"
   ]
  },
  {
   "cell_type": "code",
   "execution_count": null,
   "metadata": {
    "ExecuteTime": {
     "end_time": "2023-10-09T17:58:53.513474Z",
     "start_time": "2023-10-09T17:58:53.147467Z"
    }
   },
   "outputs": [],
   "source": [
    "simple_boosting_algorithm(X=X,\n",
    "                          y=y,\n",
    "                          n_learners=20,\n",
    "                          learner=DecisionTreeRegressor(max_depth=1),\n",
    "                          learning_rate=0.1,\n",
    "                          show_each_step=True)"
   ]
  },
  {
   "cell_type": "code",
   "execution_count": null,
   "metadata": {
    "ExecuteTime": {
     "end_time": "2023-10-09T17:58:59.707910Z",
     "start_time": "2023-10-09T17:58:59.000911Z"
    }
   },
   "outputs": [],
   "source": [
    "simple_boosting_algorithm(X=X,\n",
    "                          y=y,\n",
    "                          n_learners=60,\n",
    "                          learner=DecisionTreeRegressor(max_depth=1),\n",
    "                          learning_rate=0.1,\n",
    "                          show_each_step=True)"
   ]
  },
  {
   "cell_type": "code",
   "execution_count": null,
   "metadata": {
    "ExecuteTime": {
     "end_time": "2023-10-09T17:59:03.376958Z",
     "start_time": "2023-10-09T17:59:02.451995Z"
    }
   },
   "outputs": [],
   "source": [
    "simple_boosting_algorithm(X=X,\n",
    "                          y=y,\n",
    "                          n_learners=80,\n",
    "                          learner=DecisionTreeRegressor(max_depth=1),\n",
    "                          learning_rate=0.1,\n",
    "                          show_each_step=True)"
   ]
  },
  {
   "cell_type": "code",
   "execution_count": null,
   "metadata": {
    "ExecuteTime": {
     "end_time": "2023-10-09T17:59:07.977372Z",
     "start_time": "2023-10-09T17:59:05.767373Z"
    },
    "scrolled": false
   },
   "outputs": [],
   "source": [
    "simple_boosting_algorithm(X=X,\n",
    "                          y=y,\n",
    "                          n_learners=200,\n",
    "                          learner=DecisionTreeRegressor(max_depth=1),\n",
    "                          learning_rate=0.1,\n",
    "                          show_each_step=True)"
   ]
  },
  {
   "cell_type": "code",
   "execution_count": null,
   "metadata": {
    "ExecuteTime": {
     "end_time": "2023-10-09T17:59:22.976307Z",
     "start_time": "2023-10-09T17:59:10.851307Z"
    },
    "scrolled": false
   },
   "outputs": [],
   "source": [
    "simple_boosting_algorithm(X=X,\n",
    "                          y=y,\n",
    "                          n_learners=1000,\n",
    "                          learner=DecisionTreeRegressor(max_depth=1),\n",
    "                          learning_rate=0.1,\n",
    "                          show_each_step=True)"
   ]
  }
 ],
 "metadata": {
  "kernelspec": {
   "display_name": "learn-env",
   "language": "python",
   "name": "learn-env"
  },
  "language_info": {
   "codemirror_mode": {
    "name": "ipython",
    "version": 3
   },
   "file_extension": ".py",
   "mimetype": "text/x-python",
   "name": "python",
   "nbconvert_exporter": "python",
   "pygments_lexer": "ipython3",
   "version": "3.8.5"
  },
  "toc": {
   "base_numbering": 1,
   "nav_menu": {},
   "number_sections": true,
   "sideBar": true,
   "skip_h1_title": false,
   "title_cell": "Table of Contents",
   "title_sidebar": "Contents",
   "toc_cell": false,
   "toc_position": {},
   "toc_section_display": true,
   "toc_window_display": false
  },
  "varInspector": {
   "cols": {
    "lenName": 16,
    "lenType": 16,
    "lenVar": 40
   },
   "kernels_config": {
    "python": {
     "delete_cmd_postfix": "",
     "delete_cmd_prefix": "del ",
     "library": "var_list.py",
     "varRefreshCmd": "print(var_dic_list())"
    },
    "r": {
     "delete_cmd_postfix": ") ",
     "delete_cmd_prefix": "rm(",
     "library": "var_list.r",
     "varRefreshCmd": "cat(var_dic_list()) "
    }
   },
   "position": {
    "height": "144.85px",
    "left": "1102.6px",
    "right": "20px",
    "top": "121px",
    "width": "350px"
   },
   "types_to_exclude": [
    "module",
    "function",
    "builtin_function_or_method",
    "instance",
    "_Feature"
   ],
   "window_display": false
  }
 },
 "nbformat": 4,
 "nbformat_minor": 2
}
