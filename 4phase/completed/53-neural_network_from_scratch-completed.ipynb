{
 "cells": [
  {
   "cell_type": "markdown",
   "metadata": {},
   "source": [
    "# NN by Hand"
   ]
  },
  {
   "cell_type": "code",
   "execution_count": 1,
   "metadata": {
    "ExecuteTime": {
     "end_time": "2023-10-17T16:28:31.159081Z",
     "start_time": "2023-10-17T16:28:30.055084Z"
    }
   },
   "outputs": [],
   "source": [
    "import numpy as np\n",
    "from sklearn.datasets import make_regression\n",
    "from sklearn.linear_model import LinearRegression\n",
    "from sklearn.metrics import mean_squared_error as mse"
   ]
  },
  {
   "cell_type": "markdown",
   "metadata": {},
   "source": [
    "We're going to make a very simple neural network by hand.\n",
    "\n",
    "Let's imagine that we have just a five-neuron network: two input neurons, two hidden-layer neurons, and a single output neuron.\n",
    "\n",
    "We'll start by giving ourselves a regression problem."
   ]
  },
  {
   "cell_type": "markdown",
   "metadata": {},
   "source": [
    "![example](./images/one-hidden-layer-simplest-neural-network.jpg)"
   ]
  },
  {
   "cell_type": "code",
   "execution_count": 2,
   "metadata": {
    "ExecuteTime": {
     "end_time": "2023-10-17T16:28:39.741086Z",
     "start_time": "2023-10-17T16:28:39.728083Z"
    }
   },
   "outputs": [],
   "source": [
    "X, y = make_regression(n_features=2,\n",
    "                       n_informative=1,\n",
    "                       noise=100,\n",
    "                       random_state=42)"
   ]
  },
  {
   "cell_type": "markdown",
   "metadata": {},
   "source": [
    "Let's first check to see how a vanilla linear regression model does:"
   ]
  },
  {
   "cell_type": "code",
   "execution_count": 3,
   "metadata": {
    "ExecuteTime": {
     "end_time": "2023-10-17T16:28:43.677082Z",
     "start_time": "2023-10-17T16:28:43.664084Z"
    }
   },
   "outputs": [
    {
     "data": {
      "text/plain": [
       "array([[-1.41537074, -0.42064532],\n",
       "       [ 0.52194157,  0.29698467],\n",
       "       [-0.88951443, -0.81581028],\n",
       "       [-0.88385744,  0.15372511],\n",
       "       [ 0.73846658,  0.17136828]])"
      ]
     },
     "execution_count": 3,
     "metadata": {},
     "output_type": "execute_result"
    }
   ],
   "source": [
    "X[:5]"
   ]
  },
  {
   "cell_type": "code",
   "execution_count": 4,
   "metadata": {
    "ExecuteTime": {
     "end_time": "2023-10-17T16:28:44.526085Z",
     "start_time": "2023-10-17T16:28:44.521083Z"
    }
   },
   "outputs": [
    {
     "data": {
      "text/plain": [
       "(100, 2)"
      ]
     },
     "execution_count": 4,
     "metadata": {},
     "output_type": "execute_result"
    }
   ],
   "source": [
    "X.shape"
   ]
  },
  {
   "cell_type": "code",
   "execution_count": 5,
   "metadata": {
    "ExecuteTime": {
     "end_time": "2023-10-17T16:28:52.714082Z",
     "start_time": "2023-10-17T16:28:52.601083Z"
    },
    "scrolled": true
   },
   "outputs": [
    {
     "data": {
      "text/plain": [
       "0.4144461358278726"
      ]
     },
     "execution_count": 5,
     "metadata": {},
     "output_type": "execute_result"
    }
   ],
   "source": [
    "simple_lr = LinearRegression().fit(X, y)\n",
    "\n",
    "simple_lr.score(X, y)"
   ]
  },
  {
   "cell_type": "code",
   "execution_count": 6,
   "metadata": {
    "ExecuteTime": {
     "end_time": "2023-10-17T16:28:52.837602Z",
     "start_time": "2023-10-17T16:28:52.831600Z"
    }
   },
   "outputs": [
    {
     "data": {
      "text/plain": [
       "101.32961290191164"
      ]
     },
     "execution_count": 6,
     "metadata": {},
     "output_type": "execute_result"
    }
   ],
   "source": [
    "mse(y, simple_lr.predict(X), squared=False)"
   ]
  },
  {
   "cell_type": "markdown",
   "metadata": {},
   "source": [
    "## Input Neurons"
   ]
  },
  {
   "cell_type": "markdown",
   "metadata": {},
   "source": [
    "We have just two features, so we'll have two input neurons."
   ]
  },
  {
   "cell_type": "code",
   "execution_count": 7,
   "metadata": {
    "ExecuteTime": {
     "end_time": "2023-10-17T16:29:10.710599Z",
     "start_time": "2023-10-17T16:29:10.702599Z"
    }
   },
   "outputs": [],
   "source": [
    "n_samples = X.shape[0]\n",
    "n_features = X.shape[1]\n",
    "\n",
    "# Initial inputs\n",
    "input1 = X[:, 0].reshape(-1, 1)\n",
    "input2 = X[:, 1].reshape(-1, 1)"
   ]
  },
  {
   "cell_type": "code",
   "execution_count": 8,
   "metadata": {
    "ExecuteTime": {
     "end_time": "2023-10-17T16:29:10.945602Z",
     "start_time": "2023-10-17T16:29:10.929599Z"
    }
   },
   "outputs": [
    {
     "data": {
      "text/plain": [
       "(100, 1)"
      ]
     },
     "execution_count": 8,
     "metadata": {},
     "output_type": "execute_result"
    }
   ],
   "source": [
    "input1.shape"
   ]
  },
  {
   "cell_type": "markdown",
   "metadata": {},
   "source": [
    "## Weights for the Connections Between the Input Neurons and the Hidden Neurons"
   ]
  },
  {
   "cell_type": "markdown",
   "metadata": {},
   "source": [
    "We'll just start by setting our weights randomly. The idea will be that we'll be able to use gradient descent to improve their values during network training."
   ]
  },
  {
   "cell_type": "code",
   "execution_count": 9,
   "metadata": {
    "ExecuteTime": {
     "end_time": "2023-10-17T16:29:32.207214Z",
     "start_time": "2023-10-17T16:29:32.202212Z"
    }
   },
   "outputs": [],
   "source": [
    "# Four weights to optimize for between input\n",
    "# and hidden layers\n",
    "\n",
    "# For simplicity let's assume biases of 0\n",
    "# throughout\n",
    "\n",
    "np.random.seed(42)\n",
    "\n",
    "\n",
    "in_hid_weights1 = np.random.rand(2)\n",
    "in_hid_weights2 = np.random.rand(2)"
   ]
  },
  {
   "cell_type": "code",
   "execution_count": 10,
   "metadata": {
    "ExecuteTime": {
     "end_time": "2023-10-17T16:29:32.746213Z",
     "start_time": "2023-10-17T16:29:32.735211Z"
    }
   },
   "outputs": [
    {
     "data": {
      "text/plain": [
       "array([0.37454012, 0.95071431])"
      ]
     },
     "execution_count": 10,
     "metadata": {},
     "output_type": "execute_result"
    }
   ],
   "source": [
    "in_hid_weights1"
   ]
  },
  {
   "cell_type": "markdown",
   "metadata": {},
   "source": [
    "## Hidden Neurons"
   ]
  },
  {
   "cell_type": "markdown",
   "metadata": {},
   "source": [
    "Each neuron in the hidden layer will take the two inputs and multiply them by a unique set of weights:"
   ]
  },
  {
   "cell_type": "code",
   "execution_count": 14,
   "metadata": {
    "ExecuteTime": {
     "end_time": "2023-10-17T16:30:45.739245Z",
     "start_time": "2023-10-17T16:30:45.729243Z"
    },
    "scrolled": true
   },
   "outputs": [
    {
     "data": {
      "text/plain": [
       "array([array([0.37454012, 0.95071431]),\n",
       "       array([[-1.41537074],\n",
       "       [ 0.52194157],\n",
       "       [-0.88951443],\n",
       "       [-0.88385744],\n",
       "       [ 0.73846658],\n",
       "       [-0.26465683],\n",
       "       [ 1.14282281],\n",
       "       [ 0.36139561],\n",
       "       [ 0.81252582],\n",
       "       [-0.22346279],\n",
       "       [-1.10633497],\n",
       "       [-0.84679372],\n",
       "       [-0.60063869],\n",
       "       [ 0.00511346],\n",
       "       [-0.23415337],\n",
       "       [-1.60748323],\n",
       "       [ 0.09707755],\n",
       "       [ 0.32408397],\n",
       "       [-0.39210815],\n",
       "       [-0.07201012],\n",
       "       [-0.46341769],\n",
       "       [ 1.8861859 ],\n",
       "       [ 1.57921282],\n",
       "       [ 0.09965137],\n",
       "       [ 0.81351722],\n",
       "       [-1.1913035 ],\n",
       "       [ 0.58685709],\n",
       "       [-1.32818605],\n",
       "       [-0.11564828],\n",
       "       [ 0.49671415],\n",
       "       [-0.21967189],\n",
       "       [-1.55066343],\n",
       "       [-1.72491783],\n",
       "       [ 1.86577451],\n",
       "       [-0.07710171],\n",
       "       [-1.91877122],\n",
       "       [ 0.64768854],\n",
       "       [-0.676922  ],\n",
       "       [ 1.15859558],\n",
       "       [ 0.09176078],\n",
       "       [-0.24538812],\n",
       "       [ 0.24196227],\n",
       "       [-2.6197451 ],\n",
       "       [ 0.2766908 ],\n",
       "       [ 0.91540212],\n",
       "       [-0.90802408],\n",
       "       [-0.68002472],\n",
       "       [ 0.29307247],\n",
       "       [-0.70205309],\n",
       "       [ 0.82254491],\n",
       "       [ 1.46564877],\n",
       "       [-0.8084936 ],\n",
       "       [-0.83921752],\n",
       "       [-1.06230371],\n",
       "       [ 0.36163603],\n",
       "       [-0.46947439],\n",
       "       [-0.47917424],\n",
       "       [-1.15099358],\n",
       "       [-0.99053633],\n",
       "       [-0.19236096],\n",
       "       [ 1.47789404],\n",
       "       [-0.91942423],\n",
       "       [-0.5297602 ],\n",
       "       [ 0.08704707],\n",
       "       [ 0.06023021],\n",
       "       [ 0.25988279],\n",
       "       [ 0.62566735],\n",
       "       [-0.16128571],\n",
       "       [-1.23695071],\n",
       "       [ 0.34361829],\n",
       "       [-0.97468167],\n",
       "       [-0.78325329],\n",
       "       [-0.60170661],\n",
       "       [-0.34271452],\n",
       "       [ 1.03099952],\n",
       "       [ 0.22745993],\n",
       "       [-1.01283112],\n",
       "       [ 0.25049285],\n",
       "       [ 0.96337613],\n",
       "       [ 0.79103195],\n",
       "       [ 0.47323762],\n",
       "       [ 0.29612028],\n",
       "       [ 0.2088636 ],\n",
       "       [-0.03471177],\n",
       "       [-1.0708925 ],\n",
       "       [ 0.82206016],\n",
       "       [ 0.21409374],\n",
       "       [-0.01349722],\n",
       "       [ 0.33126343],\n",
       "       [ 0.01300189],\n",
       "       [ 0.17318093],\n",
       "       [-0.54438272],\n",
       "       [ 0.25755039],\n",
       "       [ 0.0675282 ],\n",
       "       [-0.03582604],\n",
       "       [ 0.05820872],\n",
       "       [ 1.40279431],\n",
       "       [-1.47852199],\n",
       "       [-0.46063877],\n",
       "       [-0.44651495]])], dtype=object)"
      ]
     },
     "execution_count": 14,
     "metadata": {},
     "output_type": "execute_result"
    }
   ],
   "source": [
    "np.array([in_hid_weights1, input1], dtype=object)"
   ]
  },
  {
   "cell_type": "code",
   "execution_count": 13,
   "metadata": {
    "ExecuteTime": {
     "end_time": "2023-10-17T16:30:22.194243Z",
     "start_time": "2023-10-17T16:30:22.187245Z"
    }
   },
   "outputs": [
    {
     "data": {
      "text/plain": [
       "-0.5301131268040887"
      ]
     },
     "execution_count": 13,
     "metadata": {},
     "output_type": "execute_result"
    }
   ],
   "source": [
    "0.37454012 * -1.41537074"
   ]
  },
  {
   "cell_type": "code",
   "execution_count": 12,
   "metadata": {
    "ExecuteTime": {
     "end_time": "2023-10-17T16:30:19.747251Z",
     "start_time": "2023-10-17T16:30:19.734246Z"
    }
   },
   "outputs": [
    {
     "data": {
      "text/plain": [
       "array([[-5.30113126e-01, -1.34561321e+00],\n",
       "       [ 1.95488056e-01,  4.96217314e-01],\n",
       "       [-3.33158840e-01, -8.45674094e-01],\n",
       "       [-3.31040069e-01, -8.40295909e-01],\n",
       "       [ 2.76585361e-01,  7.02070742e-01],\n",
       "       [-9.91246018e-02, -2.51613038e-01],\n",
       "       [ 4.28032993e-01,  1.08649800e+00],\n",
       "       [ 1.35357153e-01,  3.43583972e-01],\n",
       "       [ 3.04323518e-01,  7.72479924e-01],\n",
       "       [-8.36957782e-02, -2.12449267e-01],\n",
       "       [-4.14366833e-01, -1.05180849e+00],\n",
       "       [-3.17158220e-01, -8.05058902e-01],\n",
       "       [-2.24963286e-01, -5.71035795e-01],\n",
       "       [ 1.91519466e-03,  4.86143639e-03],\n",
       "       [-8.76998328e-02, -2.22612963e-01],\n",
       "       [-6.02066962e-01, -1.52825731e+00],\n",
       "       [ 3.63594369e-02,  9.22930150e-02],\n",
       "       [ 1.21382448e-01,  3.08111266e-01],\n",
       "       [-1.46860234e-01, -3.72782831e-01],\n",
       "       [-2.69706795e-02, -6.84610528e-02],\n",
       "       [-1.73568518e-01, -4.40577830e-01],\n",
       "       [ 7.06452292e-01,  1.79322392e+00],\n",
       "       [ 5.91478556e-01,  1.50138022e+00],\n",
       "       [ 3.73234341e-02,  9.47399784e-02],\n",
       "       [ 3.04694835e-01,  7.73422457e-01],\n",
       "       [-4.46190953e-01, -1.13258928e+00],\n",
       "       [ 2.19801526e-01,  5.57933435e-01],\n",
       "       [-4.97458961e-01, -1.26272548e+00],\n",
       "       [-4.33149214e-02, -1.09948477e-01],\n",
       "       [ 1.86039378e-01,  4.72233251e-01],\n",
       "       [-8.22759350e-02, -2.08845206e-01],\n",
       "       [-5.80785666e-01, -1.47423791e+00],\n",
       "       [-6.46050930e-01, -1.63990406e+00],\n",
       "       [ 6.98807407e-01,  1.77381852e+00],\n",
       "       [-2.88776834e-02, -7.33016982e-02],\n",
       "       [-7.18656799e-01, -1.82420325e+00],\n",
       "       [ 2.42585342e-01,  6.15766759e-01],\n",
       "       [-2.53534446e-01, -6.43559430e-01],\n",
       "       [ 4.33940526e-01,  1.10149339e+00],\n",
       "       [ 3.43680921e-02,  8.72382830e-02],\n",
       "       [-9.19076941e-02, -2.33293993e-01],\n",
       "       [ 9.06245779e-02,  2.30036993e-01],\n",
       "       [-9.81199643e-01, -2.49062915e+00],\n",
       "       [ 1.03631805e-01,  2.63053901e-01],\n",
       "       [ 3.42854818e-01,  8.70285889e-01],\n",
       "       [-3.40091445e-01, -8.63271479e-01],\n",
       "       [-2.54696540e-01, -6.46509232e-01],\n",
       "       [ 1.09767399e-01,  2.78628193e-01],\n",
       "       [-2.62947049e-01, -6.67451920e-01],\n",
       "       [ 3.08076069e-01,  7.82005216e-01],\n",
       "       [ 5.48944264e-01,  1.39341325e+00],\n",
       "       [-3.02813290e-01, -7.68646435e-01],\n",
       "       [-3.14320631e-01, -7.97856106e-01],\n",
       "       [-3.97875359e-01, -1.00994734e+00],\n",
       "       [ 1.35447200e-01,  3.43812543e-01],\n",
       "       [-1.75836992e-01, -4.46336015e-01],\n",
       "       [-1.79469976e-01, -4.55557803e-01],\n",
       "       [-4.31093271e-01, -1.09426606e+00],\n",
       "       [-3.70995593e-01, -9.41717055e-01],\n",
       "       [-7.20468986e-02, -1.82880321e-01],\n",
       "       [ 5.53530611e-01,  1.40505501e+00],\n",
       "       [-3.44361262e-01, -8.74109773e-01],\n",
       "       [-1.98416450e-01, -5.03650605e-01],\n",
       "       [ 3.26026193e-02,  8.27568931e-02],\n",
       "       [ 2.25586300e-02,  5.72617223e-02],\n",
       "       [ 9.73365326e-02,  2.47074290e-01],\n",
       "       [ 2.34337523e-01,  5.94830899e-01],\n",
       "       [-6.04079696e-02, -1.53336634e-01],\n",
       "       [-4.63287666e-01, -1.17598674e+00],\n",
       "       [ 1.28698835e-01,  3.26682824e-01],\n",
       "       [-3.65057389e-01, -9.26643808e-01],\n",
       "       [-2.93359781e-01, -7.44650111e-01],\n",
       "       [-2.25363266e-01, -5.72051085e-01],\n",
       "       [-1.28360336e-01, -3.25823594e-01],\n",
       "       [ 3.86150684e-01,  9.80185996e-01],\n",
       "       [ 8.51928709e-02,  2.16249414e-01],\n",
       "       [-3.79345888e-01, -9.62913036e-01],\n",
       "       [ 9.38196219e-02,  2.38147136e-01],\n",
       "       [ 3.60823010e-01,  9.15895469e-01],\n",
       "       [ 2.96273199e-01,  7.52045389e-01],\n",
       "       [ 1.77246476e-01,  4.49913780e-01],\n",
       "       [ 1.10908924e-01,  2.81525784e-01],\n",
       "       [ 7.82277957e-02,  1.98569608e-01],\n",
       "       [-1.30009504e-02, -3.30009761e-02],\n",
       "       [-4.01092203e-01, -1.01811282e+00],\n",
       "       [ 3.07894510e-01,  7.81544355e-01],\n",
       "       [ 8.01866964e-02,  2.03541985e-01],\n",
       "       [-5.05525216e-03, -1.28320047e-02],\n",
       "       [ 1.24071445e-01,  3.14936883e-01],\n",
       "       [ 4.86973013e-03,  1.23610846e-02],\n",
       "       [ 6.48632046e-02,  1.64645584e-01],\n",
       "       [-2.03893170e-01, -5.17552444e-01],\n",
       "       [ 9.64629540e-02,  2.44856841e-01],\n",
       "       [ 2.52920218e-02,  6.42000303e-02],\n",
       "       [-1.34182889e-02, -3.40603279e-02],\n",
       "       [ 2.18015003e-02,  5.53398614e-02],\n",
       "       [ 5.25402748e-01,  1.33365662e+00],\n",
       "       [-5.53765802e-01, -1.40565201e+00],\n",
       "       [-1.72527700e-01, -4.37935870e-01],\n",
       "       [-1.67237763e-01, -4.24508153e-01]])"
      ]
     },
     "execution_count": 12,
     "metadata": {},
     "output_type": "execute_result"
    }
   ],
   "source": [
    "np.product(np.array([in_hid_weights1, input1], dtype=object), axis=0)"
   ]
  },
  {
   "cell_type": "code",
   "execution_count": 15,
   "metadata": {
    "ExecuteTime": {
     "end_time": "2023-10-17T16:31:04.587245Z",
     "start_time": "2023-10-17T16:31:04.581243Z"
    }
   },
   "outputs": [],
   "source": [
    "in1_to_hid = (np.sum(np.product(np.array([in_hid_weights1, input1], dtype=object), axis=0), axis=1)).reshape(-1, 1)\n",
    "in2_to_hid = (np.sum(np.product(np.array([in_hid_weights2, input2], dtype=object), axis=0), axis=1)).reshape(-1, 1)"
   ]
  },
  {
   "cell_type": "code",
   "execution_count": 16,
   "metadata": {
    "ExecuteTime": {
     "end_time": "2023-10-17T16:31:05.693244Z",
     "start_time": "2023-10-17T16:31:05.685241Z"
    }
   },
   "outputs": [
    {
     "data": {
      "text/plain": [
       "-1.875726336"
      ]
     },
     "execution_count": 16,
     "metadata": {},
     "output_type": "execute_result"
    }
   ],
   "source": [
    "-5.30113126e-01 + -1.34561321e+00"
   ]
  },
  {
   "cell_type": "code",
   "execution_count": 17,
   "metadata": {
    "ExecuteTime": {
     "end_time": "2023-10-17T16:31:06.298242Z",
     "start_time": "2023-10-17T16:31:06.277244Z"
    }
   },
   "outputs": [
    {
     "data": {
      "text/plain": [
       "array([[-1.87572634],\n",
       "       [ 0.69170537],\n",
       "       [-1.17883293],\n",
       "       [-1.17133598],\n",
       "       [ 0.9786561 ],\n",
       "       [-0.35073764],\n",
       "       [ 1.51453099],\n",
       "       [ 0.47894113],\n",
       "       [ 1.07680344],\n",
       "       [-0.29614505],\n",
       "       [-1.46617532],\n",
       "       [-1.12221712],\n",
       "       [-0.79599908],\n",
       "       [ 0.00677663],\n",
       "       [-0.3103128 ],\n",
       "       [-2.13032427],\n",
       "       [ 0.12865245],\n",
       "       [ 0.42949371],\n",
       "       [-0.51964307],\n",
       "       [-0.09543173],\n",
       "       [-0.61414635],\n",
       "       [ 2.49967621],\n",
       "       [ 2.09285877],\n",
       "       [ 0.13206341],\n",
       "       [ 1.07811729],\n",
       "       [-1.57878023],\n",
       "       [ 0.77773496],\n",
       "       [-1.76018444],\n",
       "       [-0.1532634 ],\n",
       "       [ 0.65827263],\n",
       "       [-0.29112114],\n",
       "       [-2.05502357],\n",
       "       [-2.28595499],\n",
       "       [ 2.47262593],\n",
       "       [-0.10217938],\n",
       "       [-2.54286004],\n",
       "       [ 0.8583521 ],\n",
       "       [-0.89709388],\n",
       "       [ 1.53543392],\n",
       "       [ 0.12160638],\n",
       "       [-0.32520169],\n",
       "       [ 0.32066157],\n",
       "       [-3.47182879],\n",
       "       [ 0.36668571],\n",
       "       [ 1.21314071],\n",
       "       [-1.20336292],\n",
       "       [-0.90120577],\n",
       "       [ 0.38839559],\n",
       "       [-0.93039897],\n",
       "       [ 1.09008128],\n",
       "       [ 1.94235752],\n",
       "       [-1.07145973],\n",
       "       [-1.11217674],\n",
       "       [-1.4078227 ],\n",
       "       [ 0.47925974],\n",
       "       [-0.62217301],\n",
       "       [-0.63502778],\n",
       "       [-1.52535933],\n",
       "       [-1.31271265],\n",
       "       [-0.25492722],\n",
       "       [ 1.95858562],\n",
       "       [-1.21847104],\n",
       "       [-0.70206705],\n",
       "       [ 0.11535951],\n",
       "       [ 0.07982035],\n",
       "       [ 0.34441082],\n",
       "       [ 0.82916842],\n",
       "       [-0.2137446 ],\n",
       "       [-1.6392744 ],\n",
       "       [ 0.45538166],\n",
       "       [-1.2917012 ],\n",
       "       [-1.03800989],\n",
       "       [-0.79741435],\n",
       "       [-0.45418393],\n",
       "       [ 1.36633668],\n",
       "       [ 0.30144228],\n",
       "       [-1.34225892],\n",
       "       [ 0.33196676],\n",
       "       [ 1.27671848],\n",
       "       [ 1.04831859],\n",
       "       [ 0.62716026],\n",
       "       [ 0.39243471],\n",
       "       [ 0.2767974 ],\n",
       "       [-0.04600193],\n",
       "       [-1.41920502],\n",
       "       [ 1.08943886],\n",
       "       [ 0.28372868],\n",
       "       [-0.01788726],\n",
       "       [ 0.43900833],\n",
       "       [ 0.01723081],\n",
       "       [ 0.22950879],\n",
       "       [-0.72144561],\n",
       "       [ 0.3413198 ],\n",
       "       [ 0.08949205],\n",
       "       [-0.04747862],\n",
       "       [ 0.07714136],\n",
       "       [ 1.85905937],\n",
       "       [-1.95941781],\n",
       "       [-0.61046357],\n",
       "       [-0.59174592]])"
      ]
     },
     "execution_count": 17,
     "metadata": {},
     "output_type": "execute_result"
    }
   ],
   "source": [
    "in1_to_hid "
   ]
  },
  {
   "cell_type": "code",
   "execution_count": 18,
   "metadata": {
    "ExecuteTime": {
     "end_time": "2023-10-17T16:31:06.842242Z",
     "start_time": "2023-10-17T16:31:06.829254Z"
    }
   },
   "outputs": [
    {
     "data": {
      "text/plain": [
       "(100, 1)"
      ]
     },
     "execution_count": 18,
     "metadata": {},
     "output_type": "execute_result"
    }
   ],
   "source": [
    "in1_to_hid.shape"
   ]
  },
  {
   "cell_type": "markdown",
   "metadata": {},
   "source": [
    "For simplicity let's assume a **linear activation function**, $f(x)=x$, in the hidden nodes."
   ]
  },
  {
   "cell_type": "markdown",
   "metadata": {},
   "source": [
    "## Weights for the Connections Between the Hidden Neurons and the Output Neuron"
   ]
  },
  {
   "cell_type": "markdown",
   "metadata": {},
   "source": [
    "Again we'll just set our weights randomly. Here there will be two weights: one governing the connection between each hidden neuron and the output neuron."
   ]
  },
  {
   "cell_type": "code",
   "execution_count": 19,
   "metadata": {
    "ExecuteTime": {
     "end_time": "2023-10-17T16:31:48.457783Z",
     "start_time": "2023-10-17T16:31:48.445783Z"
    }
   },
   "outputs": [],
   "source": [
    "np.random.seed(42)\n",
    "\n",
    "hid_out_weights = np.random.rand(2)"
   ]
  },
  {
   "cell_type": "code",
   "execution_count": 20,
   "metadata": {
    "ExecuteTime": {
     "end_time": "2023-10-17T16:31:49.326784Z",
     "start_time": "2023-10-17T16:31:49.320785Z"
    }
   },
   "outputs": [
    {
     "data": {
      "text/plain": [
       "array([0.37454012, 0.95071431])"
      ]
     },
     "execution_count": 20,
     "metadata": {},
     "output_type": "execute_result"
    }
   ],
   "source": [
    "hid_out_weights"
   ]
  },
  {
   "cell_type": "markdown",
   "metadata": {},
   "source": [
    "## Output Neuron"
   ]
  },
  {
   "cell_type": "markdown",
   "metadata": {},
   "source": [
    "Now we need to take the contribution from each hidden neuron and create a linear sum with the predetermined weights, just as above in the hidden neurons."
   ]
  },
  {
   "cell_type": "code",
   "execution_count": 21,
   "metadata": {
    "ExecuteTime": {
     "end_time": "2023-10-17T16:32:04.716783Z",
     "start_time": "2023-10-17T16:32:04.701784Z"
    }
   },
   "outputs": [],
   "source": [
    "joint_to_out = np.hstack((in1_to_hid, in2_to_hid))"
   ]
  },
  {
   "cell_type": "code",
   "execution_count": 22,
   "metadata": {
    "ExecuteTime": {
     "end_time": "2023-10-17T16:32:05.119784Z",
     "start_time": "2023-10-17T16:32:05.105790Z"
    }
   },
   "outputs": [
    {
     "data": {
      "text/plain": [
       "array([[-1.87572634, -0.55973272],\n",
       "       [ 0.69170537,  0.39518338],\n",
       "       [-1.17883293, -1.08555993],\n",
       "       [-1.17133598,  0.20455469],\n",
       "       [ 0.9786561 ,  0.22803162],\n",
       "       [-0.35073764,  3.6195997 ],\n",
       "       [ 1.51453099,  1.00056151],\n",
       "       [ 0.47894113,  2.04659209],\n",
       "       [ 1.07680344,  1.80468408],\n",
       "       [-0.29614505,  0.95008649],\n",
       "       [-1.46617532, -1.59173525],\n",
       "       [-1.12221712, -2.01573513],\n",
       "       [-0.79599908, -0.388143  ],\n",
       "       [ 0.00677663, -0.31215394],\n",
       "       [-0.3103128 , -0.31155491],\n",
       "       [-2.13032427,  0.24568349],\n",
       "       [ 0.12865245,  1.28892981],\n",
       "       [ 0.42949371, -0.51241067],\n",
       "       [-0.51964307, -1.94742972],\n",
       "       [-0.09543173,  1.33535349],\n",
       "       [-0.61414635, -0.61972443],\n",
       "       [ 2.49967621,  0.23230239],\n",
       "       [ 2.09285877,  1.02118888],\n",
       "       [ 0.13206341, -0.6699511 ],\n",
       "       [ 1.07811729, -1.63785259],\n",
       "       [-1.57878023,  0.87364465],\n",
       "       [ 0.77773496,  2.91473509],\n",
       "       [-1.76018444,  0.26195388],\n",
       "       [-0.1532634 , -0.40066436],\n",
       "       [ 0.65827263, -0.18398173],\n",
       "       [-0.29112114,  0.47519271],\n",
       "       [-2.05502357,  0.09123349],\n",
       "       [-2.28595499, -0.74820926],\n",
       "       [ 2.47262593,  0.63050693],\n",
       "       [-0.10217938,  0.4539547 ],\n",
       "       [-2.54286004, -0.03528075],\n",
       "       [ 0.8583521 ,  2.02662337],\n",
       "       [-0.89709388,  0.81392854],\n",
       "       [ 1.53543392, -1.09204292],\n",
       "       [ 0.12160638, -2.6447634 ],\n",
       "       [-0.32520169, -1.00296086],\n",
       "       [ 0.32066157, -2.545911  ],\n",
       "       [-3.47182879,  1.09366656],\n",
       "       [ 0.36668571,  1.1006934 ],\n",
       "       [ 1.21314071,  0.43745346],\n",
       "       [-1.20336292, -1.87928535],\n",
       "       [-0.90120577,  0.30904895],\n",
       "       [ 0.38839559, -0.95055345],\n",
       "       [-0.93039897, -0.43600443],\n",
       "       [ 1.09008128, -1.62451856],\n",
       "       [ 1.94235752, -0.30042978],\n",
       "       [-1.07145973, -0.66766423],\n",
       "       [-1.11217674, -0.4114542 ],\n",
       "       [-1.4078227 ,  0.63018692],\n",
       "       [ 0.47925974, -0.85843017],\n",
       "       [-0.62217301,  0.72195884],\n",
       "       [-0.63502778, -0.24704757],\n",
       "       [-1.52535933,  0.49992348],\n",
       "       [-1.31271265, -0.75354545],\n",
       "       [-0.25492722,  0.4012547 ],\n",
       "       [ 1.95858562, -0.68963752],\n",
       "       [-1.21847104,  2.06242398],\n",
       "       [-0.70206705,  0.68298056],\n",
       "       [ 0.11535951, -0.39787486],\n",
       "       [ 0.07982035,  3.27771909],\n",
       "       [ 0.34441082,  1.0403345 ],\n",
       "       [ 0.82916842, -1.14057878],\n",
       "       [-0.2137446 ,  0.53765125],\n",
       "       [-1.6392744 , -1.7570688 ],\n",
       "       [ 0.45538166, -2.34599366],\n",
       "       [-1.2917012 ,  1.04733604],\n",
       "       [-1.03800989, -0.42855194],\n",
       "       [-0.79741435,  2.46473846],\n",
       "       [-0.45418393, -1.06755219],\n",
       "       [ 1.36633668,  1.23921015],\n",
       "       [ 0.30144228,  1.73935268],\n",
       "       [-1.34225892,  0.41815398],\n",
       "       [ 0.33196676,  0.46100215],\n",
       "       [ 1.27671848,  0.54926794],\n",
       "       [ 1.04831859, -1.21007862],\n",
       "       [ 0.62716026, -0.09690997],\n",
       "       [ 0.39243471,  0.34737383],\n",
       "       [ 0.2767974 , -2.6076398 ],\n",
       "       [-0.04600193, -1.55510427],\n",
       "       [-1.41920502,  0.64200309],\n",
       "       [ 1.08943886,  2.52397218],\n",
       "       [ 0.28372868, -1.65764533],\n",
       "       [-0.01788726, -1.40744561],\n",
       "       [ 0.43900833,  1.29811149],\n",
       "       [ 0.01723081,  1.93414865],\n",
       "       [ 0.22950879,  0.51272351],\n",
       "       [-0.72144561,  0.14759941],\n",
       "       [ 0.3413198 , -0.09906164],\n",
       "       [ 0.08949205, -1.89584463],\n",
       "       [-0.04747862,  2.08199688],\n",
       "       [ 0.07714136, -1.5208962 ],\n",
       "       [ 1.85905937, -1.86537652],\n",
       "       [-1.95941781, -0.95786244],\n",
       "       [-0.61046357,  1.40666225],\n",
       "       [-0.59174592,  1.13956913]])"
      ]
     },
     "execution_count": 22,
     "metadata": {},
     "output_type": "execute_result"
    }
   ],
   "source": [
    "joint_to_out"
   ]
  },
  {
   "cell_type": "code",
   "execution_count": 23,
   "metadata": {
    "ExecuteTime": {
     "end_time": "2023-10-17T16:32:25.217783Z",
     "start_time": "2023-10-17T16:32:25.204785Z"
    }
   },
   "outputs": [],
   "source": [
    "output = (np.sum(np.product([hid_out_weights, joint_to_out],dtype=object, axis=0), axis=1)).reshape(-1, 1)"
   ]
  },
  {
   "cell_type": "code",
   "execution_count": 24,
   "metadata": {
    "ExecuteTime": {
     "end_time": "2023-10-17T16:32:25.835784Z",
     "start_time": "2023-10-17T16:32:25.827783Z"
    }
   },
   "outputs": [
    {
     "data": {
      "text/plain": [
       "array([[-1.23468067],\n",
       "       [ 0.6347779 ],\n",
       "       [-1.47357759],\n",
       "       [-0.24423925],\n",
       "       [ 0.5833389 ]])"
      ]
     },
     "execution_count": 24,
     "metadata": {},
     "output_type": "execute_result"
    }
   ],
   "source": [
    "output[:5]"
   ]
  },
  {
   "cell_type": "markdown",
   "metadata": {},
   "source": [
    "Again we'll assume a linear activation."
   ]
  },
  {
   "cell_type": "markdown",
   "metadata": {},
   "source": [
    "## Error Calculation"
   ]
  },
  {
   "cell_type": "markdown",
   "metadata": {},
   "source": [
    "Now we can compute a measure of error:"
   ]
  },
  {
   "cell_type": "code",
   "execution_count": 25,
   "metadata": {
    "ExecuteTime": {
     "end_time": "2023-10-17T16:32:51.924783Z",
     "start_time": "2023-10-17T16:32:51.906784Z"
    }
   },
   "outputs": [
    {
     "data": {
      "text/plain": [
       "132.0854176645698"
      ]
     },
     "execution_count": 25,
     "metadata": {},
     "output_type": "execute_result"
    }
   ],
   "source": [
    "output = output.flatten()\n",
    "\n",
    "np.sqrt(mse(y, output))"
   ]
  },
  {
   "cell_type": "markdown",
   "metadata": {},
   "source": [
    "### Backpropagation"
   ]
  },
  {
   "cell_type": "markdown",
   "metadata": {},
   "source": [
    "Now then: How do we make corrections to our weights to improve our model's performance? Our network looks like this:"
   ]
  },
  {
   "cell_type": "markdown",
   "metadata": {},
   "source": [
    "![nn](images/SimpleNN.png)"
   ]
  },
  {
   "cell_type": "markdown",
   "metadata": {},
   "source": [
    "Clearly our output is a function of these six weights. But what function, exactly?"
   ]
  },
  {
   "cell_type": "markdown",
   "metadata": {},
   "source": [
    "- In the top hidden node we construct: <br/> $H_1 = w_1X_1 + w_3X_2$ <br/> and in the bottom node we construct: <br/> $H_2 = w_2X_1 + w_4X_2$.\n",
    "<br/> <br/>\n",
    "- In the output node we construct: <br/> $\\hat{y} = w_5H_1 + w_6H_2$ <br/> i.e. <br/> $\\hat{y} = w_5(w_1X_1 + w_3X_2) + w_6(w_2X_1 + w_4X_2)$ <br/> or <br/> $\\hat{y} = X_1(w_1w_5 + w_2w_6) + X_2(w_3w_5 + w_4w_6)$."
   ]
  },
  {
   "cell_type": "markdown",
   "metadata": {},
   "source": [
    "#### Loss Function"
   ]
  },
  {
   "cell_type": "markdown",
   "metadata": {},
   "source": [
    "Our loss function (let's assume) is just $\\mathcal{L} = \\Sigma\\left(y - \\hat{y}\\right)^2$. What are the partial derivatives of this function?\n",
    "\n",
    "We have $\\mathcal{L} = \\Sigma\\left(y - [X_1(w_1w_5 + w_2w_6) + X_2(w_3w_5 + w_4w_6)]\\right)^2$.\n",
    "\n",
    "Therefore:\n",
    "\n",
    "- $\\frac{\\partial\\mathcal{L}}{\\partial w_1} = -2w_5X_1\\Sigma\\left(y - [X_1(w_1w_5 + w_2w_6) + X_2(w_3w_5 + w_4w_6)]\\right)$\n",
    "\n",
    "- $\\frac{\\partial\\mathcal{L}}{\\partial w_2} = -2w_6X_1\\Sigma\\left(y - [X_1(w_1w_5 + w_2w_6) + X_2(w_3w_5 + w_4w_6)]\\right)$\n",
    "\n",
    "- $\\frac{\\partial\\mathcal{L}}{\\partial w_3} = -2w_5X_2\\Sigma\\left(y - [X_1(w_1w_5 + w_2w_6) + X_2(w_3w_5 + w_4w_6)]\\right)$\n",
    "\n",
    "- $\\frac{\\partial\\mathcal{L}}{\\partial w_4} = -2w_6X_2\\Sigma\\left(y - [X_1(w_1w_5 + w_2w_6) + X_2(w_3w_5 + w_4w_6)]\\right)$\n",
    "\n",
    "- $\\frac{\\partial\\mathcal{L}}{\\partial w_5} = -2(w_1X_1 + w_3X_2)\\Sigma\\left(y - [X_1(w_1w_5 + w_2w_6) + X_2(w_3w_5 + w_4w_6)]\\right)$\n",
    "\n",
    "- $\\frac{\\partial\\mathcal{L}}{\\partial w_6} = -2(w_2X_1 + w_4X_2)\\Sigma\\left(y - [X_1(w_1w_5 + w_2w_6) + X_2(w_3w_5 + w_4w_6)]\\right)$"
   ]
  },
  {
   "cell_type": "markdown",
   "metadata": {},
   "source": [
    "So the goal now should just be to nudge each of our weights in (the opposites of) these directions."
   ]
  },
  {
   "cell_type": "markdown",
   "metadata": {},
   "source": [
    "Let's first isolate each of these six weights:"
   ]
  },
  {
   "cell_type": "code",
   "execution_count": 26,
   "metadata": {
    "ExecuteTime": {
     "end_time": "2023-10-17T16:33:26.231783Z",
     "start_time": "2023-10-17T16:33:26.219784Z"
    }
   },
   "outputs": [],
   "source": [
    "w1 = in_hid_weights1[0]\n",
    "w2 = in_hid_weights1[1]\n",
    "w3 = in_hid_weights2[0]\n",
    "w4 = in_hid_weights2[1]\n",
    "w5 = hid_out_weights[0]\n",
    "w6 = hid_out_weights[1]"
   ]
  },
  {
   "cell_type": "markdown",
   "metadata": {},
   "source": [
    "Let's build an SGD function that will adjust weights after each training sample runs through the network."
   ]
  },
  {
   "cell_type": "code",
   "execution_count": 27,
   "metadata": {
    "ExecuteTime": {
     "end_time": "2023-10-17T16:33:38.112781Z",
     "start_time": "2023-10-17T16:33:38.099784Z"
    }
   },
   "outputs": [],
   "source": [
    "def stoch_grad_desc(pred1=input1, pred2=input2, y=y,\n",
    "              w1=w1, w2=w2, w3=w3, w4=w4,\n",
    "              w5=w5, w6=w6, times_thru=1, lr=1e-4):\n",
    "\n",
    "    for k in range(times_thru):\n",
    "    \n",
    "        for j in range(pred1.shape[0]):\n",
    "            \n",
    "            in1_val = pred1[j]\n",
    "            in2_val = pred2[j]\n",
    "            \n",
    "            # This is stochastic gradient descent since we are updating\n",
    "            # our weights *after each data point* goes through the network.\n",
    "            \n",
    "            sum_ = y[j] - in1_val*(w1*w5 + w2*w6) - in2_val*(w3*w5 + w4*w6)\n",
    "\n",
    "            w5 += lr*(w1*in1_val + w3*in2_val)*sum_\n",
    "\n",
    "            w6 += lr*(w2*in1_val + w4*in2_val)*sum_\n",
    "\n",
    "            w1 += lr*w5*in1_val*sum_\n",
    "\n",
    "            w2 += lr*w6*in1_val*sum_\n",
    "\n",
    "            w3 += lr*w5*in2_val*sum_\n",
    "\n",
    "            w4 += lr*w6*in2_val*sum_\n",
    "            \n",
    "            output = pred1*(w1*w5 + w2*w6) + pred2*(w3*w5 + w4*w6)\n",
    "            \n",
    "            if j == 0 and k == 0:\n",
    "                print(f\"\"\"\n",
    "                After a single data point our RMSE is {np.sqrt(mse(y, output.flatten()))}\n",
    "                \"\"\")\n",
    "            \n",
    "        print(f\"\"\"\n",
    "                After {k+1} epochs our RMSE is {np.sqrt(mse(y, output.flatten()))}\n",
    "        \"\"\")\n",
    "        \n",
    "    return w1, w2, w3, w4, w5, w6"
   ]
  },
  {
   "cell_type": "code",
   "execution_count": 28,
   "metadata": {
    "ExecuteTime": {
     "end_time": "2023-10-17T16:33:42.475782Z",
     "start_time": "2023-10-17T16:33:42.441783Z"
    },
    "scrolled": false
   },
   "outputs": [
    {
     "name": "stdout",
     "output_type": "stream",
     "text": [
      "\n",
      "                After a single data point our RMSE is 131.80677685986092\n",
      "                \n",
      "\n",
      "                After 1 epochs our RMSE is 129.8450062254458\n",
      "        \n",
      "\n",
      "                After 2 epochs our RMSE is 123.33196509825842\n",
      "        \n",
      "\n",
      "                After 3 epochs our RMSE is 111.44619152943271\n",
      "        \n",
      "\n",
      "                After 4 epochs our RMSE is 104.25314828273383\n",
      "        \n",
      "\n",
      "                After 5 epochs our RMSE is 102.76034914846261\n",
      "        \n"
     ]
    },
    {
     "data": {
      "text/plain": [
       "(array([3.74787473]),\n",
       " array([8.65770675]),\n",
       " array([0.88442709]),\n",
       " array([0.92008411]),\n",
       " array([3.63496368]),\n",
       " array([8.36568275]))"
      ]
     },
     "execution_count": 28,
     "metadata": {},
     "output_type": "execute_result"
    }
   ],
   "source": [
    "stoch_grad_desc(times_thru=5)"
   ]
  },
  {
   "cell_type": "markdown",
   "metadata": {},
   "source": [
    "![backprop](images/ff-bb.gif)"
   ]
  },
  {
   "cell_type": "markdown",
   "metadata": {},
   "source": [
    "## Easy Regression Problem"
   ]
  },
  {
   "cell_type": "markdown",
   "metadata": {},
   "source": [
    "Our error has decreased with more epochs, but to illustrate the full power of our network let's see if it can find the right coefficients for an \"easy\" problem where there is a strong correlation between both of two input features and the target."
   ]
  },
  {
   "cell_type": "code",
   "execution_count": 29,
   "metadata": {
    "ExecuteTime": {
     "end_time": "2023-10-17T16:34:29.428783Z",
     "start_time": "2023-10-17T16:34:29.416785Z"
    }
   },
   "outputs": [],
   "source": [
    "# Setting up the problem\n",
    "\n",
    "X_easy, y_easy = make_regression(n_features=2, n_informative=2, random_state=42)"
   ]
  },
  {
   "cell_type": "code",
   "execution_count": 30,
   "metadata": {
    "ExecuteTime": {
     "end_time": "2023-10-17T16:34:30.377782Z",
     "start_time": "2023-10-17T16:34:30.372783Z"
    }
   },
   "outputs": [],
   "source": [
    "# Again defining weights randomly. We'll be using the same network, so we need\n",
    "# six weights.\n",
    "\n",
    "np.random.seed(42)\n",
    "\n",
    "w_easy = np.random.rand(6)"
   ]
  },
  {
   "cell_type": "code",
   "execution_count": 31,
   "metadata": {
    "ExecuteTime": {
     "end_time": "2023-10-17T16:34:32.203783Z",
     "start_time": "2023-10-17T16:34:32.190782Z"
    }
   },
   "outputs": [
    {
     "name": "stdout",
     "output_type": "stream",
     "text": [
      "\n",
      "                After a single data point our RMSE is 105.2827433708648\n",
      "                \n",
      "\n",
      "                After 1 epochs our RMSE is 0.0003058349135338318\n",
      "        \n",
      "\n",
      "                After 2 epochs our RMSE is 5.040642635748519e-09\n",
      "        \n",
      "\n",
      "                After 3 epochs our RMSE is 1.2706912599150398e-13\n",
      "        \n"
     ]
    },
    {
     "data": {
      "text/plain": [
       "(6.556340807199361,\n",
       " 10.75555705679945,\n",
       " 6.914105827696129,\n",
       " 7.997420739574159,\n",
       " 4.334717820507707,\n",
       " 5.515048597227902)"
      ]
     },
     "execution_count": 31,
     "metadata": {},
     "output_type": "execute_result"
    }
   ],
   "source": [
    "# Applying our stoch_grad_desc() function\n",
    "\n",
    "final_weights = stoch_grad_desc(pred1=X_easy[:, 0], pred2=X_easy[:, 1], y=y_easy,\n",
    "         w1=w_easy[0], w2=w_easy[1], w3=w_easy[2],\n",
    "         w4=w_easy[3], w5=w_easy[4], w6=w_easy[5],\n",
    "         lr=4e-3, times_thru=3)\n",
    "final_weights"
   ]
  },
  {
   "cell_type": "markdown",
   "metadata": {},
   "source": [
    "Wow! Look how small our error is after just three epochs!"
   ]
  },
  {
   "cell_type": "markdown",
   "metadata": {},
   "source": [
    "### Comparing with `LinearRegression()`"
   ]
  },
  {
   "cell_type": "markdown",
   "metadata": {},
   "source": [
    "We can translate these final weight values into $\\beta_1$ and $\\beta_2$ for a traditional linear regression $\\hat{y} = \\beta_1X_1 + \\beta_2X_2$.\n",
    "\n",
    "Above we calculated $\\hat{y} = X_1(w_1w_5 + w_2w_6) + X_2(w_3w_5 + w_4w_6)$.\n",
    "\n",
    "Thus we have:\n",
    "\n",
    "- $\\beta_1 = w_1w_5 + w_2w_6$, and\n",
    "- $\\beta_2 = w_3w_5 + w_4w_6$."
   ]
  },
  {
   "cell_type": "markdown",
   "metadata": {},
   "source": [
    "Plugging these in for our final calculated weights we have:"
   ]
  },
  {
   "cell_type": "code",
   "execution_count": 32,
   "metadata": {
    "ExecuteTime": {
     "end_time": "2023-10-17T16:35:13.149784Z",
     "start_time": "2023-10-17T16:35:13.131788Z"
    }
   },
   "outputs": [
    {
     "name": "stdout",
     "output_type": "stream",
     "text": [
      "Our mini-NN found coefficients of 87.73730719279541 and 74.07686177542038.\n"
     ]
    }
   ],
   "source": [
    "beta1 = final_weights[0]*final_weights[4] + final_weights[1]*final_weights[5]\n",
    "beta2 = final_weights[2]*final_weights[4] + final_weights[3]*final_weights[5]\n",
    "print(f\"Our mini-NN found coefficients of {beta1} and {beta2}.\")"
   ]
  },
  {
   "cell_type": "markdown",
   "metadata": {},
   "source": [
    "Let's compare these numbers with the results of `LinearRegression()`:"
   ]
  },
  {
   "cell_type": "code",
   "execution_count": 33,
   "metadata": {
    "ExecuteTime": {
     "end_time": "2023-10-17T16:35:17.728823Z",
     "start_time": "2023-10-17T16:35:17.712822Z"
    }
   },
   "outputs": [
    {
     "data": {
      "text/plain": [
       "array([87.73730719, 74.07686178])"
      ]
     },
     "execution_count": 33,
     "metadata": {},
     "output_type": "execute_result"
    }
   ],
   "source": [
    "LinearRegression(fit_intercept=False).fit(X_easy, y_easy).coef_"
   ]
  },
  {
   "cell_type": "markdown",
   "metadata": {},
   "source": [
    "Our little neural network, which has:\n",
    "- only five neurons;\n",
    "- randomly generated initial weights;\n",
    "- only linear activation functions; and\n",
    "- all biases set to 0\n",
    "\n",
    "can do the same job as a linear regression after just a couple of epochs!"
   ]
  }
 ],
 "metadata": {
  "kernelspec": {
   "display_name": "learn-env",
   "language": "python",
   "name": "learn-env"
  },
  "language_info": {
   "codemirror_mode": {
    "name": "ipython",
    "version": 3
   },
   "file_extension": ".py",
   "mimetype": "text/x-python",
   "name": "python",
   "nbconvert_exporter": "python",
   "pygments_lexer": "ipython3",
   "version": "3.8.5"
  },
  "toc": {
   "base_numbering": 1,
   "nav_menu": {},
   "number_sections": true,
   "sideBar": true,
   "skip_h1_title": false,
   "title_cell": "Table of Contents",
   "title_sidebar": "Contents",
   "toc_cell": false,
   "toc_position": {},
   "toc_section_display": true,
   "toc_window_display": false
  },
  "varInspector": {
   "cols": {
    "lenName": 16,
    "lenType": 16,
    "lenVar": 40
   },
   "kernels_config": {
    "python": {
     "delete_cmd_postfix": "",
     "delete_cmd_prefix": "del ",
     "library": "var_list.py",
     "varRefreshCmd": "print(var_dic_list())"
    },
    "r": {
     "delete_cmd_postfix": ") ",
     "delete_cmd_prefix": "rm(",
     "library": "var_list.r",
     "varRefreshCmd": "cat(var_dic_list()) "
    }
   },
   "types_to_exclude": [
    "module",
    "function",
    "builtin_function_or_method",
    "instance",
    "_Feature"
   ],
   "window_display": false
  }
 },
 "nbformat": 4,
 "nbformat_minor": 4
}
