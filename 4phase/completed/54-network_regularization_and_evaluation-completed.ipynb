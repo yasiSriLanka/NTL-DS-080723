{
 "cells": [
  {
   "cell_type": "markdown",
   "metadata": {
    "slideshow": {
     "slide_type": "slide"
    }
   },
   "source": [
    "# Regularization and Evaluation of Neural Networks"
   ]
  },
  {
   "cell_type": "markdown",
   "metadata": {},
   "source": [
    "<a href=\"https://colab.research.google.com/github/flatiron-school/NTL01-DTSC-LIVE-040323/blob/main/4phase/63-network_regularization_and_evaluation.ipynb\" \n",
    "target=\"_parent\"><img src=\"https://colab.research.google.com/assets/colab-badge.svg\" alt=\"Open In Colab\"/></a>"
   ]
  },
  {
   "cell_type": "code",
   "execution_count": 1,
   "metadata": {
    "ExecuteTime": {
     "end_time": "2023-10-17T19:12:12.479000Z",
     "start_time": "2023-10-17T19:12:07.121002Z"
    },
    "scrolled": true
   },
   "outputs": [],
   "source": [
    "from sklearn.datasets import load_sample_images\n",
    "from sklearn.datasets import load_digits\n",
    "from sklearn.model_selection import train_test_split, cross_val_score\n",
    "from sklearn.preprocessing import OneHotEncoder\n",
    "from sklearn.metrics import accuracy_score, confusion_matrix\n",
    "import matplotlib.pyplot as plt\n",
    "import matplotlib.image as mpimg\n",
    "import numpy as np\n",
    "import seaborn as sns\n",
    "\n",
    "\n",
    "from tensorflow.keras.models import Sequential\n",
    "from tensorflow.keras.layers import Dense, Dropout\n",
    "from tensorflow.keras.regularizers import l2\n",
    "from tensorflow.keras.optimizers import SGD\n",
    "from tensorflow.keras.wrappers import scikit_learn\n",
    "from tensorflow.keras.callbacks import EarlyStopping\n",
    "from tensorflow.keras.metrics import Precision\n",
    "\n",
    "from scikeras.wrappers import KerasClassifier\n",
    "\n",
    "import os\n",
    "import sys\n",
    "module_path = os.path.abspath(os.path.join(os.pardir, os.pardir))\n",
    "if module_path not in sys.path:\n",
    "    sys.path.append(module_path)\n",
    "    \n",
    "%load_ext autoreload\n",
    "%autoreload 2"
   ]
  },
  {
   "cell_type": "code",
   "execution_count": null,
   "metadata": {
    "ExecuteTime": {
     "end_time": "2023-10-16T02:54:41.782248Z",
     "start_time": "2023-10-16T02:54:41.673248Z"
    }
   },
   "outputs": [],
   "source": [
    "# !pip install scikeras"
   ]
  },
  {
   "cell_type": "code",
   "execution_count": 2,
   "metadata": {
    "ExecuteTime": {
     "end_time": "2023-10-17T19:12:12.992001Z",
     "start_time": "2023-10-17T19:12:12.811004Z"
    }
   },
   "outputs": [
    {
     "name": "stdout",
     "output_type": "stream",
     "text": [
      "Num GPUs Available:  1\n"
     ]
    }
   ],
   "source": [
    "import tensorflow as tf\n",
    "print(\"Num GPUs Available: \", len(tf.config.list_physical_devices('GPU')))"
   ]
  },
  {
   "cell_type": "markdown",
   "metadata": {},
   "source": [
    "## Learning Objectives\n",
    "\n",
    "- use `keras` to code up a neural network model;\n",
    "- explain dropout and early stopping as distinctive forms of regularization in neural networks;\n",
    "- use wrappers inside `keras` to make models that can jibe with `sklearn`."
   ]
  },
  {
   "cell_type": "markdown",
   "metadata": {},
   "source": [
    "### From last time"
   ]
  },
  {
   "cell_type": "code",
   "execution_count": 73,
   "metadata": {
    "ExecuteTime": {
     "end_time": "2023-10-17T19:50:54.985270Z",
     "start_time": "2023-10-17T19:50:54.760274Z"
    }
   },
   "outputs": [],
   "source": [
    "digits = load_digits()\n",
    "X = digits.data.astype('float32')\n",
    "y = digits.target.astype('float32')\n",
    "\n",
    "y_binary = y % 2"
   ]
  },
  {
   "cell_type": "code",
   "execution_count": 7,
   "metadata": {
    "ExecuteTime": {
     "end_time": "2023-10-17T19:14:44.065179Z",
     "start_time": "2023-10-17T19:14:43.938208Z"
    },
    "scrolled": true
   },
   "outputs": [
    {
     "data": {
      "text/plain": [
       "1.0"
      ]
     },
     "execution_count": 7,
     "metadata": {},
     "output_type": "execute_result"
    }
   ],
   "source": [
    "np.max(X[0])"
   ]
  },
  {
   "cell_type": "code",
   "execution_count": 8,
   "metadata": {
    "ExecuteTime": {
     "end_time": "2023-10-17T19:15:52.583896Z",
     "start_time": "2023-10-17T19:14:48.579179Z"
    },
    "scrolled": true
   },
   "outputs": [
    {
     "name": "stdout",
     "output_type": "stream",
     "text": [
      "Epoch 1/50\n",
      "180/180 [==============================] - 2s 7ms/step - loss: 0.6050 - accuracy: 0.6600: 0s - l\n",
      "Epoch 2/50\n",
      "180/180 [==============================] - 1s 6ms/step - loss: 0.4877 - accuracy: 0.8503\n",
      "Epoch 3/50\n",
      "180/180 [==============================] - 1s 7ms/step - loss: 0.4237 - accuracy: 0.8937\n",
      "Epoch 4/50\n",
      "180/180 [==============================] - 1s 7ms/step - loss: 0.3768 - accuracy: 0.9149\n",
      "Epoch 5/50\n",
      "180/180 [==============================] - 1s 7ms/step - loss: 0.3363 - accuracy: 0.9260\n",
      "Epoch 6/50\n",
      "180/180 [==============================] - 1s 6ms/step - loss: 0.3027 - accuracy: 0.9321\n",
      "Epoch 7/50\n",
      "180/180 [==============================] - 1s 7ms/step - loss: 0.2735 - accuracy: 0.9349\n",
      "Epoch 8/50\n",
      "180/180 [==============================] - 1s 8ms/step - loss: 0.2466 - accuracy: 0.9466\n",
      "Epoch 9/50\n",
      "180/180 [==============================] - 1s 7ms/step - loss: 0.2231 - accuracy: 0.9455\n",
      "Epoch 10/50\n",
      "180/180 [==============================] - 1s 7ms/step - loss: 0.2005 - accuracy: 0.9549\n",
      "Epoch 11/50\n",
      "180/180 [==============================] - 1s 7ms/step - loss: 0.1830 - accuracy: 0.9549\n",
      "Epoch 12/50\n",
      "180/180 [==============================] - 1s 7ms/step - loss: 0.1692 - accuracy: 0.9588\n",
      "Epoch 13/50\n",
      "180/180 [==============================] - 1s 7ms/step - loss: 0.1522 - accuracy: 0.9649\n",
      "Epoch 14/50\n",
      "180/180 [==============================] - 1s 7ms/step - loss: 0.1416 - accuracy: 0.9649\n",
      "Epoch 15/50\n",
      "180/180 [==============================] - 1s 6ms/step - loss: 0.1281 - accuracy: 0.9716\n",
      "Epoch 16/50\n",
      "180/180 [==============================] - 1s 6ms/step - loss: 0.1205 - accuracy: 0.9722\n",
      "Epoch 17/50\n",
      "180/180 [==============================] - 1s 7ms/step - loss: 0.1086 - accuracy: 0.9738\n",
      "Epoch 18/50\n",
      "180/180 [==============================] - 1s 6ms/step - loss: 0.1025 - accuracy: 0.9733: 0s - loss:\n",
      "Epoch 19/50\n",
      "180/180 [==============================] - 1s 7ms/step - loss: 0.0936 - accuracy: 0.9789\n",
      "Epoch 20/50\n",
      "180/180 [==============================] - 1s 7ms/step - loss: 0.0875 - accuracy: 0.9777\n",
      "Epoch 21/50\n",
      "180/180 [==============================] - 2s 9ms/step - loss: 0.0815 - accuracy: 0.9805: 0s - los\n",
      "Epoch 22/50\n",
      "180/180 [==============================] - 1s 7ms/step - loss: 0.0756 - accuracy: 0.9805\n",
      "Epoch 23/50\n",
      "180/180 [==============================] - 1s 7ms/step - loss: 0.0726 - accuracy: 0.9833\n",
      "Epoch 24/50\n",
      "180/180 [==============================] - 1s 7ms/step - loss: 0.0665 - accuracy: 0.9839: 0s - loss: 0.0636 \n",
      "Epoch 25/50\n",
      "180/180 [==============================] - 1s 8ms/step - loss: 0.0638 - accuracy: 0.9855\n",
      "Epoch 26/50\n",
      "180/180 [==============================] - 1s 7ms/step - loss: 0.0603 - accuracy: 0.9855\n",
      "Epoch 27/50\n",
      "180/180 [==============================] - 1s 7ms/step - loss: 0.0563 - accuracy: 0.9844\n",
      "Epoch 28/50\n",
      "180/180 [==============================] - 1s 7ms/step - loss: 0.0543 - accuracy: 0.9872\n",
      "Epoch 29/50\n",
      "180/180 [==============================] - 1s 7ms/step - loss: 0.0498 - accuracy: 0.9889\n",
      "Epoch 30/50\n",
      "180/180 [==============================] - 1s 7ms/step - loss: 0.0476 - accuracy: 0.9900: 0s - loss: 0.0430 - accu\n",
      "Epoch 31/50\n",
      "180/180 [==============================] - 1s 6ms/step - loss: 0.0456 - accuracy: 0.9878\n",
      "Epoch 32/50\n",
      "180/180 [==============================] - 1s 6ms/step - loss: 0.0441 - accuracy: 0.9889\n",
      "Epoch 33/50\n",
      "180/180 [==============================] - 1s 8ms/step - loss: 0.0392 - accuracy: 0.9911\n",
      "Epoch 34/50\n",
      "180/180 [==============================] - 1s 7ms/step - loss: 0.0369 - accuracy: 0.9905\n",
      "Epoch 35/50\n",
      "180/180 [==============================] - 1s 8ms/step - loss: 0.0372 - accuracy: 0.9905: 0s - loss: 0.0382 - accuracy: 0.\n",
      "Epoch 36/50\n",
      "180/180 [==============================] - 1s 7ms/step - loss: 0.0340 - accuracy: 0.9928\n",
      "Epoch 37/50\n",
      "180/180 [==============================] - 1s 8ms/step - loss: 0.0333 - accuracy: 0.9922: 0s - los\n",
      "Epoch 38/50\n",
      "180/180 [==============================] - 1s 7ms/step - loss: 0.0317 - accuracy: 0.9928\n",
      "Epoch 39/50\n",
      "180/180 [==============================] - 1s 7ms/step - loss: 0.0296 - accuracy: 0.9955\n",
      "Epoch 40/50\n",
      "180/180 [==============================] - 1s 7ms/step - loss: 0.0281 - accuracy: 0.9939\n",
      "Epoch 41/50\n",
      "180/180 [==============================] - 1s 7ms/step - loss: 0.0242 - accuracy: 0.9933\n",
      "Epoch 42/50\n",
      "180/180 [==============================] - 1s 7ms/step - loss: 0.0254 - accuracy: 0.9922: 0s - loss: 0.0231 - accura\n",
      "Epoch 43/50\n",
      "180/180 [==============================] - 1s 7ms/step - loss: 0.0224 - accuracy: 0.9944\n",
      "Epoch 44/50\n",
      "180/180 [==============================] - 1s 7ms/step - loss: 0.0222 - accuracy: 0.9950\n",
      "Epoch 45/50\n",
      "180/180 [==============================] - 1s 7ms/step - loss: 0.0212 - accuracy: 0.9944\n",
      "Epoch 46/50\n",
      "180/180 [==============================] - 1s 7ms/step - loss: 0.0190 - accuracy: 0.9961\n",
      "Epoch 47/50\n",
      "180/180 [==============================] - 1s 6ms/step - loss: 0.0194 - accuracy: 0.9950\n",
      "Epoch 48/50\n",
      "180/180 [==============================] - 1s 6ms/step - loss: 0.0169 - accuracy: 0.9961\n",
      "Epoch 49/50\n",
      "180/180 [==============================] - 1s 6ms/step - loss: 0.0156 - accuracy: 0.9961\n",
      "Epoch 50/50\n",
      "180/180 [==============================] - 1s 6ms/step - loss: 0.0162 - accuracy: 0.9961\n"
     ]
    },
    {
     "data": {
      "text/plain": [
       "<keras.callbacks.History at 0x276f02d7b20>"
      ]
     },
     "execution_count": 8,
     "metadata": {},
     "output_type": "execute_result"
    }
   ],
   "source": [
    "model = Sequential()\n",
    "model.add(Dense(12, activation='relu', input_dim=64))\n",
    "model.add(Dense(8, activation='relu'))\n",
    "model.add(Dense(1, activation='sigmoid'))\n",
    "\n",
    "model.compile(optimizer='rmsprop',\n",
    "              loss='binary_crossentropy',\n",
    "              metrics=['accuracy'])\n",
    "\n",
    "model.fit(X, y_binary, epochs=50, batch_size=10)"
   ]
  },
  {
   "cell_type": "markdown",
   "metadata": {},
   "source": [
    "### Things to know:"
   ]
  },
  {
   "cell_type": "markdown",
   "metadata": {},
   "source": [
    "- The data and labels in `fit()` need to be numpy arrays, not `pandas` dfs.\n",
    "- Scaling your data will have a large impact on your model.\n",
    "   > For our traditional input features, we would use a scaler object. For images, as long as the minimum value is 0, we can simply divide through by the maximum pixel intensity."
   ]
  },
  {
   "cell_type": "markdown",
   "metadata": {},
   "source": [
    "#### Getting data ready for modeling"
   ]
  },
  {
   "cell_type": "markdown",
   "metadata": {},
   "source": [
    "**Preprocessing**:\n",
    "\n",
    "- use train_test_split to create X_train, y_train, X_test, and y_test\n",
    "- Split training data into pure_train and validation sets.\n",
    "- Scale the pixel intensity to a value between 0 and 1."
   ]
  },
  {
   "cell_type": "markdown",
   "metadata": {},
   "source": [
    "Scaling our input variables will help speed up our neural network.\n",
    "\n",
    "Since our minimum intensity is 0, we can normalize the inputs by dividing each value by the max value (16)."
   ]
  },
  {
   "cell_type": "code",
   "execution_count": 74,
   "metadata": {
    "ExecuteTime": {
     "end_time": "2023-10-17T19:50:58.071272Z",
     "start_time": "2023-10-17T19:50:57.933273Z"
    }
   },
   "outputs": [],
   "source": [
    "X_train, X_test, y_train, y_test =\\\n",
    "    train_test_split(X, y_binary, random_state=42, test_size=0.2)\n",
    "\n",
    "X_pure_train, X_val, y_pure_train, y_val =\\\n",
    "    train_test_split(X_train, y_train, random_state=42, test_size=0.2)\n",
    "\n",
    "X_pure_train, X_val, X_test = X_pure_train/16, X_val/16, X_test/16"
   ]
  },
  {
   "cell_type": "markdown",
   "metadata": {},
   "source": [
    "For activation, let's start with the familiar sigmoid function, and see how it performs."
   ]
  },
  {
   "cell_type": "code",
   "execution_count": 10,
   "metadata": {
    "ExecuteTime": {
     "end_time": "2023-10-17T19:15:55.036898Z",
     "start_time": "2023-10-17T19:15:53.504894Z"
    },
    "collapsed": true
   },
   "outputs": [
    {
     "name": "stdout",
     "output_type": "stream",
     "text": [
      "Epoch 1/10\n",
      "12/12 [==============================] - 1s 6ms/step - loss: 0.6985 - accuracy: 0.5039\n",
      "Epoch 2/10\n",
      "12/12 [==============================] - 0s 5ms/step - loss: 0.6974 - accuracy: 0.5039\n",
      "Epoch 3/10\n",
      "12/12 [==============================] - 0s 4ms/step - loss: 0.6964 - accuracy: 0.5039\n",
      "Epoch 4/10\n",
      "12/12 [==============================] - 0s 6ms/step - loss: 0.6957 - accuracy: 0.5039\n",
      "Epoch 5/10\n",
      "12/12 [==============================] - 0s 6ms/step - loss: 0.6952 - accuracy: 0.5039\n",
      "Epoch 6/10\n",
      "12/12 [==============================] - 0s 5ms/step - loss: 0.6947 - accuracy: 0.5039\n",
      "Epoch 7/10\n",
      "12/12 [==============================] - 0s 6ms/step - loss: 0.6943 - accuracy: 0.5039\n",
      "Epoch 8/10\n",
      "12/12 [==============================] - 0s 7ms/step - loss: 0.6941 - accuracy: 0.5039\n",
      "Epoch 9/10\n",
      "12/12 [==============================] - 0s 5ms/step - loss: 0.6939 - accuracy: 0.5039\n",
      "Epoch 10/10\n",
      "12/12 [==============================] - 0s 7ms/step - loss: 0.6937 - accuracy: 0.5039\n"
     ]
    }
   ],
   "source": [
    "model = Sequential()\n",
    "# We will start with our trusty sigmoid function.\n",
    "# What does input dimension correspond to?\n",
    "model.add(Dense(12, activation='sigmoid', input_dim=64))\n",
    "model.add(Dense(8, activation='sigmoid'))\n",
    "model.add(Dense(1, activation='sigmoid'))\n",
    "\n",
    "model.compile(optimizer='SGD' ,\n",
    "              # We use binary_crossentropy for a binary loss function\n",
    "              loss='binary_crossentropy',\n",
    "              metrics=['accuracy'])\n",
    "\n",
    "# Assign the variable history to store the results,\n",
    "# and set verbose=1 so we can see the output. To see\n",
    "# only the metrics at the end of each epoch, set verbose=2.\n",
    "results = model.fit(X_pure_train, y_pure_train, epochs=10, batch_size=100, verbose=1)"
   ]
  },
  {
   "cell_type": "markdown",
   "metadata": {},
   "source": [
    "We can access the history of our model via `results.history`.\n",
    "Use __dict__ to take a tour."
   ]
  },
  {
   "cell_type": "code",
   "execution_count": 11,
   "metadata": {
    "ExecuteTime": {
     "end_time": "2023-10-17T19:16:05.733895Z",
     "start_time": "2023-10-17T19:16:05.585896Z"
    }
   },
   "outputs": [
    {
     "data": {
      "text/plain": [
       "{'validation_data': None,\n",
       " 'model': <keras.engine.sequential.Sequential at 0x276b69c8ca0>,\n",
       " '_chief_worker_only': None,\n",
       " '_supports_tf_logs': False,\n",
       " 'history': {'loss': [0.6985024809837341,\n",
       "   0.6973602771759033,\n",
       "   0.6963855028152466,\n",
       "   0.6956640481948853,\n",
       "   0.6951857805252075,\n",
       "   0.6947029829025269,\n",
       "   0.6943274140357971,\n",
       "   0.6940861940383911,\n",
       "   0.6938678622245789,\n",
       "   0.6936861276626587],\n",
       "  'accuracy': [0.5039164423942566,\n",
       "   0.5039164423942566,\n",
       "   0.5039164423942566,\n",
       "   0.5039164423942566,\n",
       "   0.5039164423942566,\n",
       "   0.5039164423942566,\n",
       "   0.5039164423942566,\n",
       "   0.5039164423942566,\n",
       "   0.5039164423942566,\n",
       "   0.5039164423942566]},\n",
       " 'params': {'verbose': 1, 'epochs': 10, 'steps': 12},\n",
       " 'epoch': [0, 1, 2, 3, 4, 5, 6, 7, 8, 9]}"
      ]
     },
     "execution_count": 11,
     "metadata": {},
     "output_type": "execute_result"
    }
   ],
   "source": [
    "results.__dict__"
   ]
  },
  {
   "cell_type": "code",
   "execution_count": 12,
   "metadata": {
    "ExecuteTime": {
     "end_time": "2023-10-17T19:16:26.248894Z",
     "start_time": "2023-10-17T19:16:25.852894Z"
    }
   },
   "outputs": [
    {
     "data": {
      "image/png": "[encoded data removed]",
      "text/plain": [
       "<Figure size 720x360 with 2 Axes>"
      ]
     },
     "metadata": {
      "needs_background": "light"
     },
     "output_type": "display_data"
    }
   ],
   "source": [
    "sigmoid_loss = results.history['loss']\n",
    "sigmoid_accuracy = results.history['accuracy']\n",
    "\n",
    "fig, (ax1, ax2) = plt.subplots(1, 2, figsize=(10, 5))\n",
    "sns.lineplot(x=results.epoch, y=sigmoid_loss, ax=ax1, label='loss')\n",
    "sns.lineplot(x=results.epoch, y=sigmoid_accuracy, ax=ax2, label='accuracy');"
   ]
  },
  {
   "cell_type": "markdown",
   "metadata": {},
   "source": [
    "We have two plots above both relating to the quality of our model.  The left-hand plot is our loss. It uses the probabilities associated with our predictions to judge how well our prediction fits reality. We want it to decrease as far as possible.\n",
    "\n",
    "The accuracy judges how well the predictions are after applying the threshold at the output layer.  We want accuracy to increase."
   ]
  },
  {
   "cell_type": "markdown",
   "metadata": {},
   "source": [
    "If we look at our loss, it is still decreasing. That is a signal that our model is **still learning**. If our model is still learning, we can allow it to get better by turning a few dials.\n",
    "\n",
    "Let's:\n",
    "- increase the number of epochs;\n",
    "- change sigmoid activation in the hidden layers to ReLU; and\n",
    "- decrease the batch size."
   ]
  },
  {
   "cell_type": "code",
   "execution_count": 13,
   "metadata": {
    "ExecuteTime": {
     "end_time": "2023-10-17T19:16:53.999896Z",
     "start_time": "2023-10-17T19:16:53.858895Z"
    }
   },
   "outputs": [
    {
     "data": {
      "text/plain": [
       "1149"
      ]
     },
     "execution_count": 13,
     "metadata": {},
     "output_type": "execute_result"
    }
   ],
   "source": [
    "X_pure_train.shape[0]"
   ]
  },
  {
   "cell_type": "code",
   "execution_count": 22,
   "metadata": {
    "ExecuteTime": {
     "end_time": "2023-10-17T19:21:40.616825Z",
     "start_time": "2023-10-17T19:21:13.544311Z"
    },
    "collapsed": true
   },
   "outputs": [
    {
     "name": "stdout",
     "output_type": "stream",
     "text": [
      "Epoch 1/100\n",
      "36/36 [==============================] - 1s 8ms/step - loss: 0.6929 - accuracy: 0.5030\n",
      "Epoch 2/100\n",
      "36/36 [==============================] - 0s 10ms/step - loss: 0.6913 - accuracy: 0.5074\n",
      "Epoch 3/100\n",
      "36/36 [==============================] - 0s 11ms/step - loss: 0.6898 - accuracy: 0.5152\n",
      "Epoch 4/100\n",
      "36/36 [==============================] - 0s 7ms/step - loss: 0.6886 - accuracy: 0.5213\n",
      "Epoch 5/100\n",
      "36/36 [==============================] - 0s 7ms/step - loss: 0.6879 - accuracy: 0.5274\n",
      "Epoch 6/100\n",
      "36/36 [==============================] - 0s 7ms/step - loss: 0.6873 - accuracy: 0.5457\n",
      "Epoch 7/100\n",
      "36/36 [==============================] - 0s 6ms/step - loss: 0.6868 - accuracy: 0.5283\n",
      "Epoch 8/100\n",
      "36/36 [==============================] - 0s 8ms/step - loss: 0.6863 - accuracy: 0.5735\n",
      "Epoch 9/100\n",
      "36/36 [==============================] - 0s 9ms/step - loss: 0.6859 - accuracy: 0.5614\n",
      "Epoch 10/100\n",
      "36/36 [==============================] - 0s 7ms/step - loss: 0.6854 - accuracy: 0.5648\n",
      "Epoch 11/100\n",
      "36/36 [==============================] - 0s 9ms/step - loss: 0.6850 - accuracy: 0.5657\n",
      "Epoch 12/100\n",
      "36/36 [==============================] - 0s 8ms/step - loss: 0.6846 - accuracy: 0.5936\n",
      "Epoch 13/100\n",
      "36/36 [==============================] - 0s 8ms/step - loss: 0.6842 - accuracy: 0.6066\n",
      "Epoch 14/100\n",
      "36/36 [==============================] - 0s 7ms/step - loss: 0.6839 - accuracy: 0.6057\n",
      "Epoch 15/100\n",
      "36/36 [==============================] - 0s 6ms/step - loss: 0.6835 - accuracy: 0.5849\n",
      "Epoch 16/100\n",
      "36/36 [==============================] - 0s 7ms/step - loss: 0.6832 - accuracy: 0.6336\n",
      "Epoch 17/100\n",
      "36/36 [==============================] - 0s 8ms/step - loss: 0.6829 - accuracy: 0.6327\n",
      "Epoch 18/100\n",
      "36/36 [==============================] - 0s 6ms/step - loss: 0.6825 - accuracy: 0.6179\n",
      "Epoch 19/100\n",
      "36/36 [==============================] - 0s 5ms/step - loss: 0.6821 - accuracy: 0.6484\n",
      "Epoch 20/100\n",
      "36/36 [==============================] - 0s 7ms/step - loss: 0.6818 - accuracy: 0.6449\n",
      "Epoch 21/100\n",
      "36/36 [==============================] - 0s 10ms/step - loss: 0.6813 - accuracy: 0.6641 0s - loss: 0.6817 - accuracy: 0.\n",
      "Epoch 22/100\n",
      "36/36 [==============================] - 0s 6ms/step - loss: 0.6809 - accuracy: 0.6336: 0s - loss: 0.6802 - accuracy: 0.\n",
      "Epoch 23/100\n",
      "36/36 [==============================] - 0s 6ms/step - loss: 0.6805 - accuracy: 0.6684\n",
      "Epoch 24/100\n",
      "36/36 [==============================] - 0s 7ms/step - loss: 0.6801 - accuracy: 0.6884\n",
      "Epoch 25/100\n",
      "36/36 [==============================] - 0s 10ms/step - loss: 0.6796 - accuracy: 0.7093\n",
      "Epoch 26/100\n",
      "36/36 [==============================] - 0s 8ms/step - loss: 0.6793 - accuracy: 0.6876\n",
      "Epoch 27/100\n",
      "36/36 [==============================] - 0s 8ms/step - loss: 0.6788 - accuracy: 0.6980\n",
      "Epoch 28/100\n",
      "36/36 [==============================] - 0s 7ms/step - loss: 0.6785 - accuracy: 0.7145\n",
      "Epoch 29/100\n",
      "36/36 [==============================] - 0s 8ms/step - loss: 0.6780 - accuracy: 0.7076\n",
      "Epoch 30/100\n",
      "36/36 [==============================] - 0s 5ms/step - loss: 0.6775 - accuracy: 0.6936\n",
      "Epoch 31/100\n",
      "36/36 [==============================] - 0s 6ms/step - loss: 0.6771 - accuracy: 0.7241\n",
      "Epoch 32/100\n",
      "36/36 [==============================] - 0s 6ms/step - loss: 0.6767 - accuracy: 0.7250\n",
      "Epoch 33/100\n",
      "36/36 [==============================] - 0s 5ms/step - loss: 0.6762 - accuracy: 0.7241\n",
      "Epoch 34/100\n",
      "36/36 [==============================] - 0s 7ms/step - loss: 0.6758 - accuracy: 0.7311\n",
      "Epoch 35/100\n",
      "36/36 [==============================] - 0s 7ms/step - loss: 0.6752 - accuracy: 0.7467\n",
      "Epoch 36/100\n",
      "36/36 [==============================] - 0s 7ms/step - loss: 0.6748 - accuracy: 0.7145: 0s - loss: 0.6748 - accuracy: 0.71\n",
      "Epoch 37/100\n",
      "36/36 [==============================] - 0s 7ms/step - loss: 0.6743 - accuracy: 0.7581\n",
      "Epoch 38/100\n",
      "36/36 [==============================] - ETA: 0s - loss: 0.6737 - accuracy: 0.73 - 0s 7ms/step - loss: 0.6737 - accuracy: 0.7389\n",
      "Epoch 39/100\n",
      "36/36 [==============================] - 0s 7ms/step - loss: 0.6733 - accuracy: 0.7389\n",
      "Epoch 40/100\n",
      "36/36 [==============================] - 0s 8ms/step - loss: 0.6727 - accuracy: 0.7685\n",
      "Epoch 41/100\n",
      "36/36 [==============================] - 0s 4ms/step - loss: 0.6722 - accuracy: 0.7319\n",
      "Epoch 42/100\n",
      "36/36 [==============================] - 0s 6ms/step - loss: 0.6716 - accuracy: 0.7772\n",
      "Epoch 43/100\n",
      "36/36 [==============================] - 0s 6ms/step - loss: 0.6710 - accuracy: 0.7737\n",
      "Epoch 44/100\n",
      "36/36 [==============================] - 0s 7ms/step - loss: 0.6705 - accuracy: 0.7058\n",
      "Epoch 45/100\n",
      "36/36 [==============================] - 0s 8ms/step - loss: 0.6699 - accuracy: 0.7833: 0s - loss: 0.6718 - accuracy: \n",
      "Epoch 46/100\n",
      "36/36 [==============================] - 0s 6ms/step - loss: 0.6692 - accuracy: 0.7746\n",
      "Epoch 47/100\n",
      "36/36 [==============================] - 0s 5ms/step - loss: 0.6687 - accuracy: 0.7537\n",
      "Epoch 48/100\n",
      "36/36 [==============================] - 0s 7ms/step - loss: 0.6679 - accuracy: 0.7789\n",
      "Epoch 49/100\n",
      "36/36 [==============================] - 0s 7ms/step - loss: 0.6672 - accuracy: 0.7389\n",
      "Epoch 50/100\n",
      "36/36 [==============================] - 0s 6ms/step - loss: 0.6666 - accuracy: 0.7911\n",
      "Epoch 51/100\n",
      "36/36 [==============================] - 0s 5ms/step - loss: 0.6659 - accuracy: 0.7763\n",
      "Epoch 52/100\n",
      "36/36 [==============================] - 0s 6ms/step - loss: 0.6651 - accuracy: 0.7963\n",
      "Epoch 53/100\n",
      "36/36 [==============================] - 0s 11ms/step - loss: 0.6646 - accuracy: 0.7668\n",
      "Epoch 54/100\n",
      "36/36 [==============================] - 0s 11ms/step - loss: 0.6637 - accuracy: 0.7972\n",
      "Epoch 55/100\n",
      "36/36 [==============================] - 0s 6ms/step - loss: 0.6630 - accuracy: 0.7894\n",
      "Epoch 56/100\n",
      "36/36 [==============================] - 0s 7ms/step - loss: 0.6621 - accuracy: 0.7911: 0s - loss: 0.6640 - accuracy: \n",
      "Epoch 57/100\n",
      "36/36 [==============================] - 0s 8ms/step - loss: 0.6613 - accuracy: 0.7885\n",
      "Epoch 58/100\n",
      "36/36 [==============================] - 0s 8ms/step - loss: 0.6605 - accuracy: 0.7972\n",
      "Epoch 59/100\n",
      "36/36 [==============================] - 0s 7ms/step - loss: 0.6597 - accuracy: 0.8024: 0s - loss: 0.6598 - accuracy: 0.\n",
      "Epoch 60/100\n",
      "36/36 [==============================] - 0s 6ms/step - loss: 0.6589 - accuracy: 0.7963\n",
      "Epoch 61/100\n",
      "36/36 [==============================] - 0s 8ms/step - loss: 0.6578 - accuracy: 0.7702\n",
      "Epoch 62/100\n",
      "36/36 [==============================] - 0s 10ms/step - loss: 0.6568 - accuracy: 0.8190\n",
      "Epoch 63/100\n",
      "36/36 [==============================] - 0s 8ms/step - loss: 0.6560 - accuracy: 0.7911\n",
      "Epoch 64/100\n",
      "36/36 [==============================] - 0s 6ms/step - loss: 0.6549 - accuracy: 0.7929\n",
      "Epoch 65/100\n",
      "36/36 [==============================] - 0s 10ms/step - loss: 0.6540 - accuracy: 0.7963\n",
      "Epoch 66/100\n",
      "36/36 [==============================] - 0s 9ms/step - loss: 0.6529 - accuracy: 0.8146\n",
      "Epoch 67/100\n",
      "36/36 [==============================] - 0s 5ms/step - loss: 0.6519 - accuracy: 0.8042\n",
      "Epoch 68/100\n",
      "36/36 [==============================] - 0s 5ms/step - loss: 0.6509 - accuracy: 0.8042\n",
      "Epoch 69/100\n",
      "36/36 [==============================] - 0s 6ms/step - loss: 0.6496 - accuracy: 0.8068\n",
      "Epoch 70/100\n",
      "36/36 [==============================] - 0s 8ms/step - loss: 0.6485 - accuracy: 0.8233: 0s - loss: 0.6508 - accuracy: \n",
      "Epoch 71/100\n",
      "36/36 [==============================] - 0s 7ms/step - loss: 0.6474 - accuracy: 0.8077\n",
      "Epoch 72/100\n",
      "36/36 [==============================] - 0s 6ms/step - loss: 0.6461 - accuracy: 0.8164\n",
      "Epoch 73/100\n",
      "36/36 [==============================] - 0s 7ms/step - loss: 0.6449 - accuracy: 0.8251\n",
      "Epoch 74/100\n",
      "36/36 [==============================] - 0s 5ms/step - loss: 0.6436 - accuracy: 0.7981\n",
      "Epoch 75/100\n",
      "36/36 [==============================] - 0s 7ms/step - loss: 0.6423 - accuracy: 0.8085\n",
      "Epoch 76/100\n",
      "36/36 [==============================] - 0s 6ms/step - loss: 0.6411 - accuracy: 0.8190\n",
      "Epoch 77/100\n",
      "36/36 [==============================] - 0s 5ms/step - loss: 0.6395 - accuracy: 0.8268\n",
      "Epoch 78/100\n",
      "36/36 [==============================] - 0s 10ms/step - loss: 0.6384 - accuracy: 0.8059 0s - loss: 0.6377 - accu\n",
      "Epoch 79/100\n"
     ]
    },
    {
     "name": "stdout",
     "output_type": "stream",
     "text": [
      "36/36 [==============================] - 0s 9ms/step - loss: 0.6368 - accuracy: 0.8285\n",
      "Epoch 80/100\n",
      "36/36 [==============================] - 0s 6ms/step - loss: 0.6355 - accuracy: 0.8225\n",
      "Epoch 81/100\n",
      "36/36 [==============================] - 0s 6ms/step - loss: 0.6338 - accuracy: 0.8259\n",
      "Epoch 82/100\n",
      "36/36 [==============================] - 0s 7ms/step - loss: 0.6323 - accuracy: 0.8225\n",
      "Epoch 83/100\n",
      "36/36 [==============================] - 0s 6ms/step - loss: 0.6308 - accuracy: 0.8233\n",
      "Epoch 84/100\n",
      "36/36 [==============================] - 0s 11ms/step - loss: 0.6291 - accuracy: 0.8312 0s - loss: 0.6329 - accura\n",
      "Epoch 85/100\n",
      "36/36 [==============================] - 0s 8ms/step - loss: 0.6274 - accuracy: 0.8225\n",
      "Epoch 86/100\n",
      "36/36 [==============================] - 0s 8ms/step - loss: 0.6256 - accuracy: 0.8355\n",
      "Epoch 87/100\n",
      "36/36 [==============================] - 0s 7ms/step - loss: 0.6240 - accuracy: 0.8268\n",
      "Epoch 88/100\n",
      "36/36 [==============================] - 0s 8ms/step - loss: 0.6222 - accuracy: 0.8259\n",
      "Epoch 89/100\n",
      "36/36 [==============================] - 0s 7ms/step - loss: 0.6202 - accuracy: 0.8268\n",
      "Epoch 90/100\n",
      "36/36 [==============================] - 0s 7ms/step - loss: 0.6184 - accuracy: 0.8320\n",
      "Epoch 91/100\n",
      "36/36 [==============================] - 0s 5ms/step - loss: 0.6166 - accuracy: 0.8268\n",
      "Epoch 92/100\n",
      "36/36 [==============================] - 0s 5ms/step - loss: 0.6145 - accuracy: 0.8320\n",
      "Epoch 93/100\n",
      "36/36 [==============================] - 0s 9ms/step - loss: 0.6125 - accuracy: 0.8216\n",
      "Epoch 94/100\n",
      "36/36 [==============================] - 0s 7ms/step - loss: 0.6107 - accuracy: 0.8303\n",
      "Epoch 95/100\n",
      "36/36 [==============================] - 0s 7ms/step - loss: 0.6086 - accuracy: 0.8346\n",
      "Epoch 96/100\n",
      "36/36 [==============================] - 0s 6ms/step - loss: 0.6063 - accuracy: 0.8355: 0s - loss: 0.6086 - accuracy: 0.82\n",
      "Epoch 97/100\n",
      "36/36 [==============================] - 0s 6ms/step - loss: 0.6043 - accuracy: 0.8277\n",
      "Epoch 98/100\n",
      "36/36 [==============================] - 0s 8ms/step - loss: 0.6020 - accuracy: 0.8390\n",
      "Epoch 99/100\n",
      "36/36 [==============================] - 0s 6ms/step - loss: 0.5997 - accuracy: 0.8364: 0s - loss: 0.6011 - accuracy: 0. - ETA: 0s - loss: 0.5996 - accuracy: 0.83\n",
      "Epoch 100/100\n",
      "36/36 [==============================] - 0s 6ms/step - loss: 0.5976 - accuracy: 0.8381\n"
     ]
    }
   ],
   "source": [
    "model = Sequential()\n",
    "model.add(Dense(12, activation='relu', input_dim=64))\n",
    "model.add(Dense(8, activation='relu'))\n",
    "model.add(Dense(1, activation='sigmoid'))\n",
    "\n",
    "model.compile(optimizer='SGD',\n",
    "              loss='binary_crossentropy',\n",
    "              metrics=['accuracy'])\n",
    "\n",
    "# Assign the variable history to store the results,\n",
    "# and set verbose=1 so we can see the output.\n",
    "results = model.fit(X_pure_train, y_pure_train, epochs=100, batch_size=None, verbose=1)"
   ]
  },
  {
   "cell_type": "code",
   "execution_count": 24,
   "metadata": {
    "ExecuteTime": {
     "end_time": "2023-10-17T19:25:40.856762Z",
     "start_time": "2023-10-17T19:25:40.475762Z"
    }
   },
   "outputs": [
    {
     "data": {
      "image/png": "[encoded data removed]",
      "text/plain": [
       "<Figure size 720x360 with 2 Axes>"
      ]
     },
     "metadata": {
      "needs_background": "light"
     },
     "output_type": "display_data"
    }
   ],
   "source": [
    "sigmoid_loss = results.history['loss']\n",
    "sigmoid_accuracy = results.history['accuracy']\n",
    "\n",
    "fig, (ax1, ax2) = plt.subplots(1, 2, figsize=(10, 5))\n",
    "sns.lineplot(x=results.epoch, y=sigmoid_loss, ax=ax1, label='loss')\n",
    "sns.lineplot(x=results.epoch, y=sigmoid_accuracy, ax=ax2, label='accuracy');"
   ]
  },
  {
   "cell_type": "markdown",
   "metadata": {},
   "source": [
    "If we increase the learning rate to a very high number, we see that our model overshoots the minimum, and starts bouncing all around."
   ]
  },
  {
   "cell_type": "code",
   "execution_count": 16,
   "metadata": {
    "ExecuteTime": {
     "end_time": "2023-10-17T19:18:43.654411Z",
     "start_time": "2023-10-17T19:18:21.488412Z"
    },
    "collapsed": true
   },
   "outputs": [
    {
     "name": "stdout",
     "output_type": "stream",
     "text": [
      "Epoch 1/30\n",
      "115/115 [==============================] - 1s 6ms/step - loss: 1.0163 - accuracy: 0.5065\n",
      "Epoch 2/30\n",
      "115/115 [==============================] - 1s 6ms/step - loss: 0.8930 - accuracy: 0.5213: 0s - loss: 0.9824 \n",
      "Epoch 3/30\n",
      "115/115 [==============================] - 1s 6ms/step - loss: 1.0173 - accuracy: 0.4909\n",
      "Epoch 4/30\n",
      "115/115 [==============================] - 1s 7ms/step - loss: 1.0731 - accuracy: 0.4874: 1s - loss:\n",
      "Epoch 5/30\n",
      "115/115 [==============================] - 1s 7ms/step - loss: 0.9809 - accuracy: 0.4909\n",
      "Epoch 6/30\n",
      "115/115 [==============================] - 1s 7ms/step - loss: 1.0019 - accuracy: 0.4978\n",
      "Epoch 7/30\n",
      "115/115 [==============================] - 1s 6ms/step - loss: 1.0109 - accuracy: 0.4935\n",
      "Epoch 8/30\n",
      "115/115 [==============================] - 1s 6ms/step - loss: 0.9896 - accuracy: 0.4961\n",
      "Epoch 9/30\n",
      "115/115 [==============================] - 1s 6ms/step - loss: 1.0202 - accuracy: 0.4935: 0s - loss: 1.0310 - accura\n",
      "Epoch 10/30\n",
      "115/115 [==============================] - 1s 7ms/step - loss: 1.0958 - accuracy: 0.4691\n",
      "Epoch 11/30\n",
      "115/115 [==============================] - 1s 8ms/step - loss: 0.9822 - accuracy: 0.5074\n",
      "Epoch 12/30\n",
      "115/115 [==============================] - 1s 6ms/step - loss: 1.0059 - accuracy: 0.4987\n",
      "Epoch 13/30\n",
      "115/115 [==============================] - 1s 7ms/step - loss: 1.0354 - accuracy: 0.4970\n",
      "Epoch 14/30\n",
      "115/115 [==============================] - 1s 7ms/step - loss: 0.9541 - accuracy: 0.5109\n",
      "Epoch 15/30\n",
      "115/115 [==============================] - 1s 6ms/step - loss: 1.0353 - accuracy: 0.4961\n",
      "Epoch 16/30\n",
      "115/115 [==============================] - 1s 6ms/step - loss: 0.9574 - accuracy: 0.5205\n",
      "Epoch 17/30\n",
      "115/115 [==============================] - 1s 6ms/step - loss: 1.0261 - accuracy: 0.4926\n",
      "Epoch 18/30\n",
      "115/115 [==============================] - 1s 6ms/step - loss: 0.9749 - accuracy: 0.5057\n",
      "Epoch 19/30\n",
      "115/115 [==============================] - 1s 6ms/step - loss: 1.0281 - accuracy: 0.4822\n",
      "Epoch 20/30\n",
      "115/115 [==============================] - 1s 6ms/step - loss: 1.0724 - accuracy: 0.4883\n",
      "Epoch 21/30\n",
      "115/115 [==============================] - 1s 6ms/step - loss: 0.9742 - accuracy: 0.5013\n",
      "Epoch 22/30\n",
      "115/115 [==============================] - 1s 6ms/step - loss: 0.9398 - accuracy: 0.5117\n",
      "Epoch 23/30\n",
      "115/115 [==============================] - 1s 6ms/step - loss: 0.9700 - accuracy: 0.4961\n",
      "Epoch 24/30\n",
      "115/115 [==============================] - 1s 6ms/step - loss: 0.9737 - accuracy: 0.5039\n",
      "Epoch 25/30\n",
      "115/115 [==============================] - 1s 7ms/step - loss: 1.0767 - accuracy: 0.4865\n",
      "Epoch 26/30\n",
      "115/115 [==============================] - 1s 6ms/step - loss: 0.9711 - accuracy: 0.5030\n",
      "Epoch 27/30\n",
      "115/115 [==============================] - 1s 5ms/step - loss: 1.0130 - accuracy: 0.4935: 0s - loss: 0.9344 \n",
      "Epoch 28/30\n",
      "115/115 [==============================] - 1s 4ms/step - loss: 1.0447 - accuracy: 0.4943\n",
      "Epoch 29/30\n",
      "115/115 [==============================] - 1s 5ms/step - loss: 0.9392 - accuracy: 0.5091: 0s - loss: 0.922\n",
      "Epoch 30/30\n",
      "115/115 [==============================] - 1s 5ms/step - loss: 1.0307 - accuracy: 0.4926\n"
     ]
    },
    {
     "data": {
      "image/png": "[encoded data removed]",
      "text/plain": [
       "<Figure size 720x360 with 2 Axes>"
      ]
     },
     "metadata": {
      "needs_background": "light"
     },
     "output_type": "display_data"
    }
   ],
   "source": [
    "model = Sequential()\n",
    "\n",
    "# sgd = SGD(learning_rate=9)\n",
    "model.add(Dense(12, activation='relu', input_dim=64))\n",
    "model.add(Dense(8, activation='relu'))\n",
    "model.add(Dense(1, activation='sigmoid'))\n",
    "\n",
    "model.compile(optimizer=SGD(learning_rate=9),\n",
    "              loss='binary_crossentropy',\n",
    "              metrics=['accuracy'])\n",
    "\n",
    "results = model.fit(X_pure_train, y_pure_train,\n",
    "                    epochs=30, batch_size=10, verbose=1)\n",
    "\n",
    "relu_loss = results.history['loss']\n",
    "relu_accuracy = results.history['accuracy']\n",
    "\n",
    "fig, (ax1, ax2) = plt.subplots(1, 2, figsize=(10, 5))\n",
    "sns.lineplot(x=results.epoch, y=relu_loss, ax=ax1, label='loss')\n",
    "sns.lineplot(x=results.epoch, y=relu_accuracy, ax=ax2, label='accuracy');"
   ]
  },
  {
   "cell_type": "markdown",
   "metadata": {},
   "source": [
    "### Exercise"
   ]
  },
  {
   "cell_type": "markdown",
   "metadata": {},
   "source": [
    "We have been looking only at our training set. Let's add in our validation set to the picture. Check the docstring for the `.fit()` method and add in our validation data."
   ]
  },
  {
   "cell_type": "code",
   "execution_count": 77,
   "metadata": {
    "ExecuteTime": {
     "end_time": "2023-10-17T19:51:57.672271Z",
     "start_time": "2023-10-17T19:51:57.470274Z"
    }
   },
   "outputs": [],
   "source": [
    "model = Sequential()\n",
    "model.add(Dense(12, activation='relu', input_dim=64))\n",
    "model.add(Dense(8, activation='relu'))\n",
    "model.add(Dense(4, activation='relu'))\n",
    "model.add(Dense(1, activation='sigmoid'))\n",
    "\n",
    "model.compile(optimizer='adam',\n",
    "              loss='binary_crossentropy',\n",
    "              metrics=['accuracy'])"
   ]
  },
  {
   "cell_type": "code",
   "execution_count": 78,
   "metadata": {
    "ExecuteTime": {
     "end_time": "2023-10-17T19:52:28.517788Z",
     "start_time": "2023-10-17T19:51:58.079271Z"
    }
   },
   "outputs": [
    {
     "name": "stdout",
     "output_type": "stream",
     "text": [
      "Epoch 1/30\n",
      "115/115 [==============================] - 2s 11ms/step - loss: 0.6158 - accuracy: 0.7415 - val_loss: 0.5292 - val_accuracy: 0.8194\n",
      "Epoch 2/30\n",
      "115/115 [==============================] - 1s 9ms/step - loss: 0.4134 - accuracy: 0.8634 - val_loss: 0.3429 - val_accuracy: 0.8819\n",
      "Epoch 3/30\n",
      "115/115 [==============================] - 1s 9ms/step - loss: 0.2903 - accuracy: 0.8912 - val_loss: 0.2773 - val_accuracy: 0.8889\n",
      "Epoch 4/30\n",
      "115/115 [==============================] - 1s 8ms/step - loss: 0.2418 - accuracy: 0.8982 - val_loss: 0.2475 - val_accuracy: 0.9028\n",
      "Epoch 5/30\n",
      "115/115 [==============================] - 1s 7ms/step - loss: 0.2204 - accuracy: 0.9060 - val_loss: 0.2500 - val_accuracy: 0.9028\n",
      "Epoch 6/30\n",
      "115/115 [==============================] - 1s 8ms/step - loss: 0.1964 - accuracy: 0.9164 - val_loss: 0.2188 - val_accuracy: 0.9132\n",
      "Epoch 7/30\n",
      "115/115 [==============================] - 1s 9ms/step - loss: 0.1798 - accuracy: 0.9164 - val_loss: 0.2049 - val_accuracy: 0.9132\n",
      "Epoch 8/30\n",
      "115/115 [==============================] - 1s 8ms/step - loss: 0.1699 - accuracy: 0.9234 - val_loss: 0.1873 - val_accuracy: 0.9340\n",
      "Epoch 9/30\n",
      "115/115 [==============================] - 1s 8ms/step - loss: 0.1592 - accuracy: 0.9312 - val_loss: 0.1754 - val_accuracy: 0.9306\n",
      "Epoch 10/30\n",
      "115/115 [==============================] - 1s 8ms/step - loss: 0.1441 - accuracy: 0.9365 - val_loss: 0.1601 - val_accuracy: 0.9410\n",
      "Epoch 11/30\n",
      "115/115 [==============================] - 1s 8ms/step - loss: 0.1352 - accuracy: 0.9452 - val_loss: 0.1581 - val_accuracy: 0.9410\n",
      "Epoch 12/30\n",
      "115/115 [==============================] - 1s 8ms/step - loss: 0.1237 - accuracy: 0.9495 - val_loss: 0.1474 - val_accuracy: 0.9479\n",
      "Epoch 13/30\n",
      "115/115 [==============================] - 1s 8ms/step - loss: 0.1148 - accuracy: 0.9539 - val_loss: 0.1379 - val_accuracy: 0.9514\n",
      "Epoch 14/30\n",
      "115/115 [==============================] - 1s 8ms/step - loss: 0.1038 - accuracy: 0.9643 - val_loss: 0.1315 - val_accuracy: 0.9549\n",
      "Epoch 15/30\n",
      "115/115 [==============================] - 1s 8ms/step - loss: 0.0981 - accuracy: 0.9626 - val_loss: 0.1553 - val_accuracy: 0.9201\n",
      "Epoch 16/30\n",
      "115/115 [==============================] - 1s 9ms/step - loss: 0.0944 - accuracy: 0.9687 - val_loss: 0.1196 - val_accuracy: 0.9514\n",
      "Epoch 17/30\n",
      "115/115 [==============================] - 1s 10ms/step - loss: 0.0836 - accuracy: 0.9695 - val_loss: 0.1141 - val_accuracy: 0.9583\n",
      "Epoch 18/30\n",
      "115/115 [==============================] - 1s 8ms/step - loss: 0.0774 - accuracy: 0.9739 - val_loss: 0.1087 - val_accuracy: 0.9618\n",
      "Epoch 19/30\n",
      "115/115 [==============================] - 1s 9ms/step - loss: 0.0738 - accuracy: 0.9748 - val_loss: 0.1228 - val_accuracy: 0.9653\n",
      "Epoch 20/30\n",
      "115/115 [==============================] - 1s 10ms/step - loss: 0.0673 - accuracy: 0.9739 - val_loss: 0.1003 - val_accuracy: 0.9722\n",
      "Epoch 21/30\n",
      "115/115 [==============================] - 1s 9ms/step - loss: 0.0611 - accuracy: 0.9791 - val_loss: 0.0944 - val_accuracy: 0.9583\n",
      "Epoch 22/30\n",
      "115/115 [==============================] - 1s 8ms/step - loss: 0.0573 - accuracy: 0.9843 - val_loss: 0.0929 - val_accuracy: 0.9618\n",
      "Epoch 23/30\n",
      "115/115 [==============================] - 1s 8ms/step - loss: 0.0542 - accuracy: 0.9800 - val_loss: 0.0884 - val_accuracy: 0.9688\n",
      "Epoch 24/30\n",
      "115/115 [==============================] - 1s 8ms/step - loss: 0.0492 - accuracy: 0.9843 - val_loss: 0.0872 - val_accuracy: 0.9722\n",
      "Epoch 25/30\n",
      "115/115 [==============================] - 1s 8ms/step - loss: 0.0491 - accuracy: 0.9809 - val_loss: 0.0902 - val_accuracy: 0.9722\n",
      "Epoch 26/30\n",
      "115/115 [==============================] - 1s 8ms/step - loss: 0.0451 - accuracy: 0.9852 - val_loss: 0.0833 - val_accuracy: 0.9722\n",
      "Epoch 27/30\n",
      "115/115 [==============================] - 1s 9ms/step - loss: 0.0403 - accuracy: 0.9896 - val_loss: 0.0818 - val_accuracy: 0.9722\n",
      "Epoch 28/30\n",
      "115/115 [==============================] - 1s 8ms/step - loss: 0.0381 - accuracy: 0.9904 - val_loss: 0.0826 - val_accuracy: 0.9722\n",
      "Epoch 29/30\n",
      "115/115 [==============================] - 1s 8ms/step - loss: 0.0349 - accuracy: 0.9913 - val_loss: 0.0828 - val_accuracy: 0.9688\n",
      "Epoch 30/30\n",
      "115/115 [==============================] - 1s 9ms/step - loss: 0.0340 - accuracy: 0.9922 - val_loss: 0.0838 - val_accuracy: 0.9757\n"
     ]
    }
   ],
   "source": [
    "results = model.fit(X_pure_train, y_pure_train,\n",
    "                   validation_data=(X_val, y_val),\n",
    "                   epochs=30, batch_size=10)"
   ]
  },
  {
   "cell_type": "code",
   "execution_count": 79,
   "metadata": {
    "ExecuteTime": {
     "end_time": "2023-10-17T19:52:29.432785Z",
     "start_time": "2023-10-17T19:52:28.927789Z"
    }
   },
   "outputs": [
    {
     "data": {
      "image/png": "[encoded data removed]",
      "text/plain": [
       "<Figure size 720x360 with 2 Axes>"
      ]
     },
     "metadata": {
      "needs_background": "light"
     },
     "output_type": "display_data"
    }
   ],
   "source": [
    "train_loss = results.history['loss']\n",
    "train_acc = results.history['accuracy']\n",
    "val_loss = results.history['val_loss']\n",
    "val_acc = results.history['val_accuracy']\n",
    "\n",
    "fig, (ax1, ax2) = plt.subplots(1, 2, figsize=(10, 5))\n",
    "sns.lineplot(x=results.epoch, y=train_loss, ax=ax1, label='train_loss')\n",
    "sns.lineplot(x=results.epoch, y=train_acc, ax=ax2, label='train_accuracy')\n",
    "\n",
    "sns.lineplot(x=results.epoch, y=val_loss, ax=ax1, label='val_loss')\n",
    "sns.lineplot(x=results.epoch, y=val_acc, ax=ax2, label='val_accuracy');"
   ]
  },
  {
   "cell_type": "markdown",
   "metadata": {},
   "source": [
    "<details>\n",
    "    <summary>One answer here</summary>\n",
    "<code>model = Sequential()\n",
    "model.add(Dense(12, activation='relu', input_dim=64))\n",
    "model.add(Dense(8, activation='relu'))\n",
    "model.add(Dense(4, activation='relu'))\n",
    "model.add(Dense(1, activation='sigmoid'))\n",
    "model.compile(optimizer='adam',\n",
    "              loss='binary_crossentropy',\n",
    "              metrics=['accuracy'])\n",
    "results = model.fit(X_pure_train, y_pure_train,\n",
    "                   validation_data=(X_val, y_val),\n",
    "                   epochs=30, batch_size=10)\n",
    "train_loss = results.history['loss']\n",
    "train_acc = results.history['accuracy']\n",
    "val_loss = results.history['val_loss']\n",
    "val_acc = results.history['val_accuracy']\n",
    "fig, (ax1, ax2) = plt.subplots(1, 2, figsize=(10, 5))\n",
    "sns.lineplot(x=results.epoch, y=train_loss, ax=ax1, label='train_loss')\n",
    "sns.lineplot(x=results.epoch, y=train_acc, ax=ax2, label='train_accuracy')\n",
    "sns.lineplot(x=results.epoch, y=val_loss, ax=ax1, label='val_loss')\n",
    "sns.lineplot(x=results.epoch, y=val_acc, ax=ax2, label='val_accuracy');</code>\n",
    "</details>"
   ]
  },
  {
   "cell_type": "code",
   "execution_count": 80,
   "metadata": {
    "ExecuteTime": {
     "end_time": "2023-10-17T19:53:10.265788Z",
     "start_time": "2023-10-17T19:53:10.104789Z"
    }
   },
   "outputs": [
    {
     "data": {
      "text/plain": [
       "0.9756944179534912"
      ]
     },
     "execution_count": 80,
     "metadata": {},
     "output_type": "execute_result"
    }
   ],
   "source": [
    "results.history['val_accuracy'][-1]"
   ]
  },
  {
   "cell_type": "code",
   "execution_count": 81,
   "metadata": {
    "ExecuteTime": {
     "end_time": "2023-10-17T19:53:10.885786Z",
     "start_time": "2023-10-17T19:53:10.718787Z"
    }
   },
   "outputs": [
    {
     "data": {
      "text/plain": [
       "0.9921671152114868"
      ]
     },
     "execution_count": 81,
     "metadata": {},
     "output_type": "execute_result"
    }
   ],
   "source": [
    "results.history['accuracy'][-1]"
   ]
  },
  {
   "cell_type": "markdown",
   "metadata": {},
   "source": [
    "## Connecting with `sklearn`"
   ]
  },
  {
   "cell_type": "markdown",
   "metadata": {},
   "source": [
    "The `keras.wrappers` submodule means that we can turn `keras` models into estimators that `sklearn` tools will recognize."
   ]
  },
  {
   "cell_type": "code",
   "execution_count": 25,
   "metadata": {
    "ExecuteTime": {
     "end_time": "2023-10-17T19:26:39.923765Z",
     "start_time": "2023-10-17T19:26:39.053762Z"
    }
   },
   "outputs": [
    {
     "ename": "TypeError",
     "evalue": "If no scoring is specified, the estimator passed should have a 'score' method. The estimator <keras.engine.sequential.Sequential object at 0x00000278E89E2E80> does not.",
     "output_type": "error",
     "traceback": [
      "\u001b[1;31m---------------------------------------------------------------------------\u001b[0m",
      "\u001b[1;31mTypeError\u001b[0m                                 Traceback (most recent call last)",
      "\u001b[1;32m~\\AppData\\Local\\Temp/ipykernel_45484/1197616762.py\u001b[0m in \u001b[0;36m<module>\u001b[1;34m\u001b[0m\n\u001b[0;32m      1\u001b[0m \u001b[1;31m# This will throw an error.\u001b[0m\u001b[1;33m\u001b[0m\u001b[1;33m\u001b[0m\u001b[0m\n\u001b[0;32m      2\u001b[0m \u001b[1;33m\u001b[0m\u001b[0m\n\u001b[1;32m----> 3\u001b[1;33m \u001b[0mcross_val_score\u001b[0m\u001b[1;33m(\u001b[0m\u001b[0mmodel\u001b[0m\u001b[1;33m,\u001b[0m \u001b[0mX_pure_train\u001b[0m\u001b[1;33m,\u001b[0m \u001b[0my_pure_train\u001b[0m\u001b[1;33m)\u001b[0m\u001b[1;33m\u001b[0m\u001b[1;33m\u001b[0m\u001b[0m\n\u001b[0m",
      "\u001b[1;32mE:\\python-envs\\tf-gpu\\lib\\site-packages\\sklearn\\model_selection\\_validation.py\u001b[0m in \u001b[0;36mcross_val_score\u001b[1;34m(estimator, X, y, groups, scoring, cv, n_jobs, verbose, fit_params, pre_dispatch, error_score)\u001b[0m\n\u001b[0;32m    505\u001b[0m     \"\"\"\n\u001b[0;32m    506\u001b[0m     \u001b[1;31m# To ensure multimetric format is not supported\u001b[0m\u001b[1;33m\u001b[0m\u001b[1;33m\u001b[0m\u001b[0m\n\u001b[1;32m--> 507\u001b[1;33m     \u001b[0mscorer\u001b[0m \u001b[1;33m=\u001b[0m \u001b[0mcheck_scoring\u001b[0m\u001b[1;33m(\u001b[0m\u001b[0mestimator\u001b[0m\u001b[1;33m,\u001b[0m \u001b[0mscoring\u001b[0m\u001b[1;33m=\u001b[0m\u001b[0mscoring\u001b[0m\u001b[1;33m)\u001b[0m\u001b[1;33m\u001b[0m\u001b[1;33m\u001b[0m\u001b[0m\n\u001b[0m\u001b[0;32m    508\u001b[0m \u001b[1;33m\u001b[0m\u001b[0m\n\u001b[0;32m    509\u001b[0m     cv_results = cross_validate(\n",
      "\u001b[1;32mE:\\python-envs\\tf-gpu\\lib\\site-packages\\sklearn\\metrics\\_scorer.py\u001b[0m in \u001b[0;36mcheck_scoring\u001b[1;34m(estimator, scoring, allow_none)\u001b[0m\n\u001b[0;32m    475\u001b[0m             \u001b[1;32mreturn\u001b[0m \u001b[1;32mNone\u001b[0m\u001b[1;33m\u001b[0m\u001b[1;33m\u001b[0m\u001b[0m\n\u001b[0;32m    476\u001b[0m         \u001b[1;32melse\u001b[0m\u001b[1;33m:\u001b[0m\u001b[1;33m\u001b[0m\u001b[1;33m\u001b[0m\u001b[0m\n\u001b[1;32m--> 477\u001b[1;33m             raise TypeError(\n\u001b[0m\u001b[0;32m    478\u001b[0m                 \u001b[1;34m\"If no scoring is specified, the estimator passed should \"\u001b[0m\u001b[1;33m\u001b[0m\u001b[1;33m\u001b[0m\u001b[0m\n\u001b[0;32m    479\u001b[0m                 \u001b[1;34m\"have a 'score' method. The estimator %r does not.\"\u001b[0m \u001b[1;33m%\u001b[0m \u001b[0mestimator\u001b[0m\u001b[1;33m\u001b[0m\u001b[1;33m\u001b[0m\u001b[0m\n",
      "\u001b[1;31mTypeError\u001b[0m: If no scoring is specified, the estimator passed should have a 'score' method. The estimator <keras.engine.sequential.Sequential object at 0x00000278E89E2E80> does not."
     ]
    }
   ],
   "source": [
    "# This will throw an error.\n",
    "\n",
    "cross_val_score(model, X_pure_train, y_pure_train)"
   ]
  },
  {
   "cell_type": "code",
   "execution_count": null,
   "metadata": {},
   "outputs": [],
   "source": []
  },
  {
   "cell_type": "code",
   "execution_count": 68,
   "metadata": {
    "ExecuteTime": {
     "end_time": "2023-10-17T19:50:15.335757Z",
     "start_time": "2023-10-17T19:50:15.158756Z"
    }
   },
   "outputs": [],
   "source": [
    "def build_model():\n",
    "    model = Sequential()\n",
    "    model.add(Dense(12, activation='relu', input_dim=64))\n",
    "    model.add(Dense(8, activation='relu'))\n",
    "    model.add(Dense(4, activation='relu'))\n",
    "    model.add(Dense(1, activation = 'sigmoid'))\n",
    "\n",
    "    model.compile(optimizer='adam',\n",
    "                  loss='binary_crossentropy',\n",
    "                  metrics=['accuracy'])\n",
    "    return model"
   ]
  },
  {
   "cell_type": "code",
   "execution_count": 75,
   "metadata": {
    "ExecuteTime": {
     "end_time": "2023-10-17T19:51:09.165270Z",
     "start_time": "2023-10-17T19:51:09.019274Z"
    }
   },
   "outputs": [],
   "source": [
    "\n",
    "# Define the EarlyStopping object\n",
    "early_stop = EarlyStopping(monitor='val_loss', min_delta=1e-4,\n",
    "                           verbose=1,\n",
    "                           mode='min')\n",
    "\n",
    "\n",
    "keras_model = KerasClassifier(build_model,\n",
    "                                          epochs=5,\n",
    "                                          batch_size=32,\n",
    "                                          verbose=2,\n",
    "                              validation_split=.2,\n",
    "                             callbacks=[early_stop])"
   ]
  },
  {
   "cell_type": "code",
   "execution_count": 70,
   "metadata": {
    "ExecuteTime": {
     "end_time": "2023-10-17T19:50:21.306757Z",
     "start_time": "2023-10-17T19:50:21.138757Z"
    }
   },
   "outputs": [
    {
     "data": {
      "text/plain": [
       "keras.engine.sequential.Sequential"
      ]
     },
     "execution_count": 70,
     "metadata": {},
     "output_type": "execute_result"
    }
   ],
   "source": [
    "type(model)"
   ]
  },
  {
   "cell_type": "code",
   "execution_count": 71,
   "metadata": {
    "ExecuteTime": {
     "end_time": "2023-10-17T19:50:21.774754Z",
     "start_time": "2023-10-17T19:50:21.623758Z"
    }
   },
   "outputs": [
    {
     "data": {
      "text/plain": [
       "scikeras.wrappers.KerasClassifier"
      ]
     },
     "execution_count": 71,
     "metadata": {},
     "output_type": "execute_result"
    }
   ],
   "source": [
    "type(keras_model)"
   ]
  },
  {
   "cell_type": "code",
   "execution_count": 76,
   "metadata": {
    "ExecuteTime": {
     "end_time": "2023-10-17T19:51:18.756271Z",
     "start_time": "2023-10-17T19:51:10.139272Z"
    }
   },
   "outputs": [
    {
     "name": "stdout",
     "output_type": "stream",
     "text": [
      "Epoch 1/5\n",
      "23/23 - 1s - loss: 0.6320 - accuracy: 0.6204 - val_loss: 0.6170 - val_accuracy: 0.6250 - 1s/epoch - 45ms/step\n",
      "Epoch 2/5\n",
      "23/23 - 0s - loss: 0.5826 - accuracy: 0.6762 - val_loss: 0.5874 - val_accuracy: 0.6902 - 175ms/epoch - 8ms/step\n",
      "Epoch 00002: early stopping\n",
      "8/8 - 0s - 91ms/epoch - 11ms/step\n",
      "Epoch 1/5\n",
      "23/23 - 1s - loss: 0.6601 - accuracy: 0.6449 - val_loss: 0.6629 - val_accuracy: 0.6576 - 979ms/epoch - 43ms/step\n",
      "Epoch 2/5\n",
      "23/23 - 0s - loss: 0.6336 - accuracy: 0.7170 - val_loss: 0.6410 - val_accuracy: 0.6848 - 213ms/epoch - 9ms/step\n",
      "Epoch 00002: early stopping\n",
      "8/8 - 0s - 105ms/epoch - 13ms/step\n",
      "Epoch 1/5\n",
      "23/23 - 1s - loss: 0.6739 - accuracy: 0.5306 - val_loss: 0.6604 - val_accuracy: 0.6250 - 973ms/epoch - 42ms/step\n",
      "Epoch 2/5\n",
      "23/23 - 0s - loss: 0.6513 - accuracy: 0.6313 - val_loss: 0.6350 - val_accuracy: 0.7120 - 314ms/epoch - 14ms/step\n",
      "Epoch 00002: early stopping\n",
      "8/8 - 0s - 141ms/epoch - 18ms/step\n",
      "Epoch 1/5\n",
      "23/23 - 1s - loss: 0.6954 - accuracy: 0.5088 - val_loss: 0.6927 - val_accuracy: 0.4891 - 1s/epoch - 50ms/step\n",
      "Epoch 2/5\n",
      "23/23 - 0s - loss: 0.6914 - accuracy: 0.5102 - val_loss: 0.6909 - val_accuracy: 0.4837 - 180ms/epoch - 8ms/step\n",
      "Epoch 00002: early stopping\n",
      "8/8 - 0s - 76ms/epoch - 9ms/step\n",
      "Epoch 1/5\n",
      "23/23 - 1s - loss: 0.6950 - accuracy: 0.4674 - val_loss: 0.6683 - val_accuracy: 0.5707 - 907ms/epoch - 39ms/step\n",
      "Epoch 2/5\n",
      "23/23 - 0s - loss: 0.6527 - accuracy: 0.5856 - val_loss: 0.6332 - val_accuracy: 0.6848 - 140ms/epoch - 6ms/step\n",
      "Epoch 00002: early stopping\n",
      "8/8 - 0s - 89ms/epoch - 11ms/step\n"
     ]
    },
    {
     "data": {
      "text/plain": [
       "array([0.70869565, 0.75217391, 0.72608696, 0.50434783, 0.63318777])"
      ]
     },
     "execution_count": 76,
     "metadata": {},
     "output_type": "execute_result"
    }
   ],
   "source": [
    "cross_val_score(keras_model, X_pure_train, y_pure_train)"
   ]
  },
  {
   "cell_type": "markdown",
   "metadata": {},
   "source": [
    "## Regularization"
   ]
  },
  {
   "cell_type": "markdown",
   "metadata": {},
   "source": [
    "Does regularization make sense in the context of neural networks? <br/>\n",
    "\n",
    "Yes! We still have all of the salient ingredients: a loss function, overfitting vs. underfitting, and coefficients (weights) that could get too large.\n",
    "\n",
    "But there are now a few different flavors besides L1 and L2 regularization. (Note that L1 regularization is not common in the context of  neural networks.)\n",
    "\n",
    "We'll add a few more layers to give regularization a better chance of making a difference!"
   ]
  },
  {
   "cell_type": "code",
   "execution_count": 32,
   "metadata": {
    "ExecuteTime": {
     "end_time": "2023-10-17T19:32:07.831472Z",
     "start_time": "2023-10-17T19:32:00.591474Z"
    }
   },
   "outputs": [
    {
     "data": {
      "image/png": "[encoded data removed]",
      "text/plain": [
       "<Figure size 720x360 with 2 Axes>"
      ]
     },
     "metadata": {
      "needs_background": "light"
     },
     "output_type": "display_data"
    }
   ],
   "source": [
    "model = Sequential()\n",
    "model.add(Dense(30, activation='relu', input_dim=64))\n",
    "\n",
    "# We can add L2 (or L1) regularization right into\n",
    "# the layer with the kernel_regularizer parameter.\n",
    "\n",
    "model.add(Dense(20, activation='relu',\n",
    "                kernel_regularizer=l2(l2=0.05)))\n",
    "\n",
    "# Note that there is also a bias_regularizer,\n",
    "# but this tends to have less effect.\n",
    "\n",
    "model.add(Dense(12, activation='relu'))\n",
    "model.add(Dense(12, activation='relu'))\n",
    "model.add(Dense(12, activation='relu'))\n",
    "model.add(Dense(8, activation='relu'))\n",
    "model.add(Dense(4, activation='relu'))\n",
    "model.add(Dense(1, activation ='sigmoid'))\n",
    "\n",
    "model.compile(optimizer='adam',\n",
    "              loss='binary_crossentropy',\n",
    "              metrics=['accuracy'])\n",
    "\n",
    "results = model.fit(X_pure_train, y_pure_train, epochs=20, batch_size=32,\n",
    "                    verbose=0, validation_data=(X_val, y_val))\n",
    "\n",
    "train_loss = results.history['loss']\n",
    "train_acc = results.history['accuracy']\n",
    "val_loss = results.history['val_loss']\n",
    "val_acc = results.history['val_accuracy']\n",
    "\n",
    "\n",
    "fig, (ax1, ax2) = plt.subplots(1, 2, figsize=(10, 5))\n",
    "sns.lineplot(x=results.epoch, y=train_loss, ax=ax1, label='train_loss')\n",
    "sns.lineplot(x=results.epoch, y=train_acc, ax=ax2, label='train_accuracy')\n",
    "\n",
    "sns.lineplot(x=results.epoch, y=val_loss, ax=ax1, label='val_loss')\n",
    "sns.lineplot(x=results.epoch, y=val_acc, ax=ax2, label='val_accuracy');"
   ]
  },
  {
   "cell_type": "code",
   "execution_count": 33,
   "metadata": {
    "ExecuteTime": {
     "end_time": "2023-10-17T19:32:08.329472Z",
     "start_time": "2023-10-17T19:32:08.191474Z"
    }
   },
   "outputs": [
    {
     "name": "stdout",
     "output_type": "stream",
     "text": [
      "Model: \"sequential_12\"\n",
      "_________________________________________________________________\n",
      " Layer (type)                Output Shape              Param #   \n",
      "=================================================================\n",
      " dense_42 (Dense)            (None, 30)                1950      \n",
      "                                                                 \n",
      " dense_43 (Dense)            (None, 20)                620       \n",
      "                                                                 \n",
      " dense_44 (Dense)            (None, 12)                252       \n",
      "                                                                 \n",
      " dense_45 (Dense)            (None, 12)                156       \n",
      "                                                                 \n",
      " dense_46 (Dense)            (None, 12)                156       \n",
      "                                                                 \n",
      " dense_47 (Dense)            (None, 8)                 104       \n",
      "                                                                 \n",
      " dense_48 (Dense)            (None, 4)                 36        \n",
      "                                                                 \n",
      " dense_49 (Dense)            (None, 1)                 5         \n",
      "                                                                 \n",
      "=================================================================\n",
      "Total params: 3,279\n",
      "Trainable params: 3,279\n",
      "Non-trainable params: 0\n",
      "_________________________________________________________________\n"
     ]
    }
   ],
   "source": [
    "model.summary()"
   ]
  },
  {
   "cell_type": "markdown",
   "metadata": {},
   "source": [
    "Adding L2 to multiple layers:"
   ]
  },
  {
   "cell_type": "code",
   "execution_count": 36,
   "metadata": {
    "ExecuteTime": {
     "end_time": "2023-10-17T19:33:48.446504Z",
     "start_time": "2023-10-17T19:33:41.229502Z"
    }
   },
   "outputs": [
    {
     "data": {
      "image/png": "[encoded data removed]",
      "text/plain": [
       "<Figure size 720x360 with 2 Axes>"
      ]
     },
     "metadata": {
      "needs_background": "light"
     },
     "output_type": "display_data"
    }
   ],
   "source": [
    "model = Sequential()\n",
    "model.add(Dense(30, activation='relu',\n",
    "                input_dim=64))\n",
    "model.add(Dense(20, activation='relu',\n",
    "                kernel_regularizer=l2(l2=0.01)))\n",
    "\n",
    "model.add(Dense(12, activation='relu',\n",
    "                kernel_regularizer=l2(l2=0.01)))\n",
    "model.add(Dense(12, activation='relu',\n",
    "                kernel_regularizer=l2(l2=0.01)))\n",
    "model.add(Dense(12, activation='relu',\n",
    "                kernel_regularizer=l2(l2=0.01)))\n",
    "model.add(Dense(8, activation='relu',\n",
    "                kernel_regularizer=l2(l2=0.01)))\n",
    "model.add(Dense(4, activation='relu',\n",
    "                kernel_regularizer=l2(l2=0.01)))\n",
    "model.add(Dense(1, activation='sigmoid'))\n",
    "\n",
    "model.compile(optimizer='adam',\n",
    "              loss='binary_crossentropy',\n",
    "              metrics=['accuracy'])\n",
    "\n",
    "results = model.fit(X_pure_train, y_pure_train, epochs=20, batch_size=32,\n",
    "                    verbose=0, validation_data=(X_val, y_val))\n",
    "\n",
    "train_loss = results.history['loss']\n",
    "train_acc = results.history['accuracy']\n",
    "val_loss = results.history['val_loss']\n",
    "val_acc = results.history['val_accuracy']\n",
    "\n",
    "\n",
    "fig, (ax1, ax2) = plt.subplots(1, 2, figsize=(10, 5))\n",
    "sns.lineplot(x=results.epoch, y=train_loss, ax=ax1, label='train_loss')\n",
    "sns.lineplot(x=results.epoch, y=train_acc, ax=ax2, label='train_accuracy')\n",
    "\n",
    "sns.lineplot(x=results.epoch, y=val_loss, ax=ax1, label='val_loss')\n",
    "sns.lineplot(x=results.epoch, y=val_acc, ax=ax2, label='val_accuracy');"
   ]
  },
  {
   "cell_type": "markdown",
   "metadata": {},
   "source": [
    "### Dropout"
   ]
  },
  {
   "cell_type": "markdown",
   "metadata": {},
   "source": [
    "We can also specify a dropout layer in keras, which randomly shuts off different nodes during training. This can help to prevent overfitting.\n",
    "\n",
    "![drop_out](images/drop_out.png)"
   ]
  },
  {
   "cell_type": "markdown",
   "metadata": {},
   "source": [
    "### Exercise"
   ]
  },
  {
   "cell_type": "markdown",
   "metadata": {},
   "source": [
    "To add dropout to a `keras` network, simply add it as though it were a layer. It will apply to the immediately preceding layer.\n",
    "\n",
    "Add Dropout to one or more layers below."
   ]
  },
  {
   "cell_type": "code",
   "execution_count": 37,
   "metadata": {
    "ExecuteTime": {
     "end_time": "2023-10-17T19:35:36.383573Z",
     "start_time": "2023-10-17T19:35:20.120574Z"
    },
    "scrolled": false
   },
   "outputs": [
    {
     "data": {
      "image/png": "[encoded data removed]",
      "text/plain": [
       "<Figure size 720x360 with 2 Axes>"
      ]
     },
     "metadata": {
      "needs_background": "light"
     },
     "output_type": "display_data"
    }
   ],
   "source": [
    "# model.add(Dropout(0.5))\n",
    "\n",
    "model = Sequential()\n",
    "model.add(Dense(30, activation='relu', input_dim=64))\n",
    "model.add(Dense(20, activation='relu'))\n",
    "\n",
    "model.add(Dropout(0.5))\n",
    "\n",
    "model.add(Dense(12, activation='relu'))\n",
    "\n",
    "model.add(Dropout(0.2))\n",
    "\n",
    "model.add(Dense(12, activation='relu'))\n",
    "model.add(Dense(12, activation='relu'))\n",
    "model.add(Dense(8, activation='relu'))\n",
    "model.add(Dense(4, activation='relu'))\n",
    "model.add(Dense(1, activation ='sigmoid'))\n",
    "\n",
    "model.compile(optimizer='adam',\n",
    "              loss='binary_crossentropy',\n",
    "              metrics=['accuracy'])\n",
    "\n",
    "results = model.fit(X_pure_train, y_pure_train, epochs=50,\n",
    "                    batch_size= 32, verbose=0,\n",
    "                    validation_data=(X_val, y_val))\n",
    "\n",
    "\n",
    "\n",
    "\n",
    "\n",
    "\n",
    "\n",
    "\n",
    "train_loss = results.history['loss']\n",
    "train_acc = results.history['accuracy']\n",
    "val_loss = results.history['val_loss']\n",
    "val_acc = results.history['val_accuracy']\n",
    "\n",
    "\n",
    "fig, (ax1, ax2) = plt.subplots(1, 2, figsize=(10, 5))\n",
    "sns.lineplot(x=results.epoch, y=train_loss, ax=ax1, label='train_loss')\n",
    "sns.lineplot(x=results.epoch, y=train_acc, ax=ax2, label='train_accuracy')\n",
    "\n",
    "sns.lineplot(x=results.epoch, y=val_loss, ax=ax1, label='val_loss')\n",
    "sns.lineplot(x=results.epoch, y=val_acc, ax=ax2, label='val_accuracy');"
   ]
  },
  {
   "cell_type": "markdown",
   "metadata": {},
   "source": [
    "<details>\n",
    "    <summary>One answer here</summary>\n",
    "<code>model = Sequential()\n",
    "model.add(Dense(30, activation='relu', input_dim=64))\n",
    "model.add(Dense(20, activation='relu'))\n",
    "model.add(Dropout(0.5))\n",
    "model.add(Dense(12, activation='relu'))\n",
    "model.add(Dropout(0.2))\n",
    "model.add(Dense(12, activation='relu'))\n",
    "model.add(Dense(12, activation='relu'))\n",
    "model.add(Dense(8, activation='relu'))\n",
    "model.add(Dense(4, activation='relu'))\n",
    "model.add(Dense(1, activation ='sigmoid'))\n",
    "\n",
    "model.compile(optimizer='adam',\n",
    "              loss='binary_crossentropy',\n",
    "              metrics=['accuracy'])\n",
    "\n",
    "results = model.fit(X_pure_train, y_pure_train, epochs=50,\n",
    "                    batch_size= 32, verbose=0,\n",
    "                    validation_data=(X_val, y_val))\n",
    "\n",
    "train_loss = results.history['loss']\n",
    "train_acc = results.history['accuracy']\n",
    "val_loss = results.history['val_loss']\n",
    "val_acc = results.history['val_accuracy']\n",
    "\n",
    "\n",
    "fig, (ax1, ax2) = plt.subplots(1, 2, figsize=(10, 5))\n",
    "sns.lineplot(x=results.epoch, y=train_loss, ax=ax1, label='train_loss')\n",
    "sns.lineplot(x=results.epoch, y=train_acc, ax=ax2, label='train_accuracy')\n",
    "\n",
    "sns.lineplot(x=results.epoch, y=val_loss, ax=ax1, label='val_loss')\n",
    "sns.lineplot(x=results.epoch, y=val_acc, ax=ax2, label='val_accuracy');</code>\n",
    "</details>"
   ]
  },
  {
   "cell_type": "code",
   "execution_count": 38,
   "metadata": {
    "ExecuteTime": {
     "end_time": "2023-10-17T19:35:49.108574Z",
     "start_time": "2023-10-17T19:35:48.983573Z"
    }
   },
   "outputs": [
    {
     "data": {
      "text/plain": [
       "0.9826388955116272"
      ]
     },
     "execution_count": 38,
     "metadata": {},
     "output_type": "execute_result"
    }
   ],
   "source": [
    "results.history['val_accuracy'][-1]"
   ]
  },
  {
   "cell_type": "code",
   "execution_count": 39,
   "metadata": {
    "ExecuteTime": {
     "end_time": "2023-10-17T19:35:49.622578Z",
     "start_time": "2023-10-17T19:35:49.470574Z"
    }
   },
   "outputs": [
    {
     "data": {
      "text/plain": [
       "0.9886857867240906"
      ]
     },
     "execution_count": 39,
     "metadata": {},
     "output_type": "execute_result"
    }
   ],
   "source": [
    "results.history['accuracy'][-1]"
   ]
  },
  {
   "cell_type": "markdown",
   "metadata": {},
   "source": [
    "### Early Stopping"
   ]
  },
  {
   "cell_type": "markdown",
   "metadata": {},
   "source": [
    "We can also tell our neural network to stop once it stops realizing any gain.\n",
    "\n",
    "Here we tell it to stop once the a very small positive change in the validation loss occurs:"
   ]
  },
  {
   "cell_type": "code",
   "execution_count": 40,
   "metadata": {
    "ExecuteTime": {
     "end_time": "2023-10-17T19:38:19.621131Z",
     "start_time": "2023-10-17T19:38:17.003132Z"
    }
   },
   "outputs": [
    {
     "name": "stdout",
     "output_type": "stream",
     "text": [
      "Epoch 1/20\n",
      "36/36 [==============================] - 1s 15ms/step - loss: 10.6597 - accuracy: 0.5596 - val_loss: 9.0420 - val_accuracy: 0.6493\n",
      "Epoch 2/20\n",
      "36/36 [==============================] - ETA: 0s - loss: 7.8586 - accuracy: 0.67 - 0s 10ms/step - loss: 7.7949 - accuracy: 0.6789 - val_loss: 6.5888 - val_accuracy: 0.8299\n",
      "Epoch 00002: early stopping\n"
     ]
    },
    {
     "data": {
      "image/png": "[encoded data removed]",
      "text/plain": [
       "<Figure size 720x360 with 2 Axes>"
      ]
     },
     "metadata": {
      "needs_background": "light"
     },
     "output_type": "display_data"
    }
   ],
   "source": [
    "model = Sequential()\n",
    "model.add(Dense(30, activation='relu', input_dim=64))\n",
    "model.add(Dense(20, activation='relu', kernel_regularizer=l2(.5)))\n",
    "model.add(Dropout(0.5))\n",
    "model.add(Dense(12, activation='relu'))\n",
    "model.add(Dense(12, activation='relu'))\n",
    "model.add(Dense(12, activation='relu'))\n",
    "model.add(Dense(8, activation='relu'))\n",
    "model.add(Dense(4, activation='relu'))\n",
    "model.add(Dense(1, activation ='sigmoid'))\n",
    "\n",
    "model.compile(optimizer='adam',\n",
    "              loss='binary_crossentropy',\n",
    "              metrics=['accuracy'])\n",
    "\n",
    "# Define the EarlyStopping object\n",
    "early_stop = EarlyStopping(monitor='val_loss', min_delta=1e-4,\n",
    "                           verbose=1,\n",
    "                           mode='min')\n",
    "\n",
    "# Place this in a list as the value of the `callbacks` parameter\n",
    "# in the `.fit()` method.\n",
    "results = model.fit(X_pure_train, y_pure_train,\n",
    "                    epochs=20, batch_size=32,\n",
    "                    verbose=1, validation_data=(X_val, y_val),\n",
    "                    callbacks=[early_stop])\n",
    "\n",
    "train_loss = results.history['loss']\n",
    "train_acc = results.history['accuracy']\n",
    "val_loss = results.history['val_loss']\n",
    "val_acc = results.history['val_accuracy']\n",
    "\n",
    "\n",
    "fig, (ax1, ax2) = plt.subplots(1, 2, figsize=(10, 5))\n",
    "sns.lineplot(x=results.epoch, y=train_loss, ax=ax1, label='train_loss')\n",
    "sns.lineplot(x=results.epoch, y=train_acc, ax=ax2, label='train_accuracy')\n",
    "\n",
    "sns.lineplot(x=results.epoch, y=val_loss, ax=ax1, label='val_loss')\n",
    "sns.lineplot(x=results.epoch, y=val_acc, ax=ax2, label='val_accuracy');"
   ]
  },
  {
   "cell_type": "markdown",
   "metadata": {},
   "source": [
    "### Exercise"
   ]
  },
  {
   "cell_type": "markdown",
   "metadata": {},
   "source": [
    "That probably stopped too early. We can specify the number of epochs in which it doesn't see decrease in the loss with the `patience` parameter. Modify the code below to include an Early Stop with a patience of 5 epochs."
   ]
  },
  {
   "cell_type": "code",
   "execution_count": 41,
   "metadata": {
    "ExecuteTime": {
     "end_time": "2023-10-17T19:39:16.006751Z",
     "start_time": "2023-10-17T19:38:59.170133Z"
    }
   },
   "outputs": [
    {
     "name": "stdout",
     "output_type": "stream",
     "text": [
      "Epoch 00047: early stopping\n"
     ]
    },
    {
     "data": {
      "image/png": "[encoded data removed]",
      "text/plain": [
       "<Figure size 720x360 with 2 Axes>"
      ]
     },
     "metadata": {
      "needs_background": "light"
     },
     "output_type": "display_data"
    }
   ],
   "source": [
    "model = Sequential()\n",
    "model.add(Dense(30, activation='relu', input_dim=64))\n",
    "model.add(Dense(20, activation='relu'))\n",
    "model.add(Dropout(0.5))\n",
    "model.add(Dense(12, activation='relu'))\n",
    "model.add(Dense(12, activation='relu'))\n",
    "model.add(Dense(12, activation='relu'))\n",
    "model.add(Dense(8, activation='relu'))\n",
    "model.add(Dense(4, activation='relu'))\n",
    "model.add(Dense(1, activation ='sigmoid'))\n",
    "\n",
    "model.compile(optimizer='adam',\n",
    "              loss='binary_crossentropy',\n",
    "              metrics=['accuracy'])\n",
    "\n",
    "# Define the EarlyStopping object\n",
    "early_stop = EarlyStopping(monitor='val_loss', min_delta=1e-8,\n",
    "                           verbose=1, \n",
    "                           patience=5,\n",
    "                           mode='min')\n",
    "\n",
    "# Place this in a list as the value of the `callbacks` parameter\n",
    "# in the `.fit()` method.\n",
    "results = model.fit(X_pure_train, y_pure_train,\n",
    "                    epochs=50, batch_size= 32,\n",
    "                    verbose=0, validation_data=(X_val, y_val),\n",
    "                    callbacks=[early_stop])\n",
    "\n",
    "train_loss = results.history['loss']\n",
    "train_acc = results.history['accuracy']\n",
    "val_loss = results.history['val_loss']\n",
    "val_acc = results.history['val_accuracy']\n",
    "\n",
    "\n",
    "fig, (ax1, ax2) = plt.subplots(1, 2, figsize=(10, 5))\n",
    "sns.lineplot(x=results.epoch, y=train_loss, ax=ax1, label='train_loss')\n",
    "sns.lineplot(x=results.epoch, y=train_acc, ax=ax2, label='train_accuracy')\n",
    "\n",
    "sns.lineplot(x=results.epoch, y=val_loss, ax=ax1, label='val_loss')\n",
    "sns.lineplot(x=results.epoch, y=val_acc, ax=ax2, label='val_accuracy');"
   ]
  },
  {
   "cell_type": "markdown",
   "metadata": {},
   "source": [
    "<details>\n",
    "    <summary>One answer here</summary>\n",
    "<code>model = Sequential()\n",
    "model.add(Dense(30, activation='relu', input_dim=64))\n",
    "model.add(Dense(20, activation='relu'))\n",
    "model.add(Dropout(0.5))\n",
    "model.add(Dense(12, activation='relu'))\n",
    "model.add(Dense(12, activation='relu'))\n",
    "model.add(Dense(12, activation='relu'))\n",
    "model.add(Dense(8, activation='relu'))\n",
    "model.add(Dense(4, activation='relu'))\n",
    "model.add(Dense(1, activation ='sigmoid'))\n",
    "\n",
    "model.compile(optimizer='adam',\n",
    "              loss='binary_crossentropy',\n",
    "              metrics=['accuracy'])\n",
    "\n",
    "# Define the EarlyStopping object\n",
    "\n",
    "\n",
    "\n",
    "# Place this in a list as the value of the `callbacks` parameter\n",
    "# in the `.fit()` method.\n",
    "results = model.fit(X_pure_train, y_pure_train,\n",
    "                    epochs=50, batch_size= 32,\n",
    "                    verbose=0, validation_data=(X_val, y_val),\n",
    "                    callbacks=[early_stop])\n",
    "\n",
    "train_loss = results.history['loss']\n",
    "train_acc = results.history['accuracy']\n",
    "val_loss = results.history['val_loss']\n",
    "val_acc = results.history['val_accuracy']\n",
    "\n",
    "\n",
    "fig, (ax1, ax2) = plt.subplots(1, 2, figsize=(10, 5))\n",
    "sns.lineplot(x=results.epoch, y=train_loss, ax=ax1, label='train_loss')\n",
    "sns.lineplot(x=results.epoch, y=train_acc, ax=ax2, label='train_accuracy')\n",
    "\n",
    "sns.lineplot(x=results.epoch, y=val_loss, ax=ax1, label='val_loss')\n",
    "sns.lineplot(x=results.epoch, y=val_acc, ax=ax2, label='val_accuracy');</code>\n",
    "</details>"
   ]
  },
  {
   "cell_type": "code",
   "execution_count": 42,
   "metadata": {
    "ExecuteTime": {
     "end_time": "2023-10-17T19:39:24.970263Z",
     "start_time": "2023-10-17T19:39:24.816264Z"
    }
   },
   "outputs": [
    {
     "data": {
      "text/plain": [
       "0.9513888955116272"
      ]
     },
     "execution_count": 42,
     "metadata": {},
     "output_type": "execute_result"
    }
   ],
   "source": [
    "results.history['val_accuracy'][-1]"
   ]
  },
  {
   "cell_type": "code",
   "execution_count": 43,
   "metadata": {
    "ExecuteTime": {
     "end_time": "2023-10-17T19:39:25.592263Z",
     "start_time": "2023-10-17T19:39:25.442265Z"
    }
   },
   "outputs": [
    {
     "data": {
      "text/plain": [
       "0.9686684012413025"
      ]
     },
     "execution_count": 43,
     "metadata": {},
     "output_type": "execute_result"
    }
   ],
   "source": [
    "results.history['accuracy'][-1]"
   ]
  },
  {
   "cell_type": "markdown",
   "metadata": {},
   "source": [
    "## Multiclass Classification and Softmax"
   ]
  },
  {
   "cell_type": "markdown",
   "metadata": {},
   "source": [
    "Now let's return to the problem of predicting digits 0 through 9."
   ]
  },
  {
   "cell_type": "code",
   "execution_count": 44,
   "metadata": {
    "ExecuteTime": {
     "end_time": "2023-10-17T19:40:22.364659Z",
     "start_time": "2023-10-17T19:40:22.151653Z"
    }
   },
   "outputs": [],
   "source": [
    "digits = load_digits()\n",
    "X = digits.data\n",
    "y = digits.target"
   ]
  },
  {
   "cell_type": "code",
   "execution_count": 45,
   "metadata": {
    "ExecuteTime": {
     "end_time": "2023-10-17T19:40:26.822653Z",
     "start_time": "2023-10-17T19:40:26.696653Z"
    }
   },
   "outputs": [],
   "source": [
    "X_train, X_test, y_train, y_test = train_test_split(X, y,\n",
    "                                                    random_state=42,\n",
    "                                                    test_size=0.2)\n",
    "X_pure_train, X_val, y_pure_train, y_val =\\\n",
    "    train_test_split(X_train, y_train,\n",
    "                     random_state=42, test_size=0.2)\n",
    "X_pure_train, X_val, X_test = X_pure_train/16, X_val/16, X_test/16"
   ]
  },
  {
   "cell_type": "markdown",
   "metadata": {},
   "source": [
    "For a multiclass output, our neural net expects our target to be in a certain form."
   ]
  },
  {
   "cell_type": "code",
   "execution_count": 46,
   "metadata": {
    "ExecuteTime": {
     "end_time": "2023-10-17T19:40:28.225655Z",
     "start_time": "2023-10-17T19:40:28.063654Z"
    }
   },
   "outputs": [
    {
     "data": {
      "text/plain": [
       "6"
      ]
     },
     "execution_count": 46,
     "metadata": {},
     "output_type": "execute_result"
    }
   ],
   "source": [
    "y_test[0]"
   ]
  },
  {
   "cell_type": "code",
   "execution_count": 47,
   "metadata": {
    "ExecuteTime": {
     "end_time": "2023-10-17T19:40:45.089651Z",
     "start_time": "2023-10-17T19:40:44.919655Z"
    }
   },
   "outputs": [],
   "source": [
    "ohe = OneHotEncoder(sparse=False)\n",
    "y_pure_train = ohe.fit_transform(y_pure_train.reshape(-1,1))\n",
    "y_val = ohe.transform(y_val.reshape(-1,1))\n",
    "y_test = ohe.transform(y_test.reshape(-1,1))"
   ]
  },
  {
   "cell_type": "code",
   "execution_count": 48,
   "metadata": {
    "ExecuteTime": {
     "end_time": "2023-10-17T19:40:45.696655Z",
     "start_time": "2023-10-17T19:40:45.502655Z"
    }
   },
   "outputs": [
    {
     "data": {
      "text/plain": [
       "array([0., 0., 0., 0., 0., 0., 1., 0., 0., 0.])"
      ]
     },
     "execution_count": 48,
     "metadata": {},
     "output_type": "execute_result"
    }
   ],
   "source": [
    "y_test[0]"
   ]
  },
  {
   "cell_type": "code",
   "execution_count": 49,
   "metadata": {
    "ExecuteTime": {
     "end_time": "2023-10-17T19:43:03.865680Z",
     "start_time": "2023-10-17T19:42:07.126653Z"
    }
   },
   "outputs": [
    {
     "name": "stdout",
     "output_type": "stream",
     "text": [
      "Epoch 1/50\n",
      "115/115 [==============================] - 2s 14ms/step - loss: 2.2837 - accuracy: 0.1532 - precision: 0.0000e+00 - val_loss: 2.1953 - val_accuracy: 0.2188 - val_precision: 0.0000e+00\n",
      "Epoch 2/50\n",
      "115/115 [==============================] - 1s 9ms/step - loss: 2.0991 - accuracy: 0.2889 - precision: 1.0000 - val_loss: 2.0033 - val_accuracy: 0.2743 - val_precision: 0.0000e+00\n",
      "Epoch 3/50\n",
      "115/115 [==============================] - 1s 10ms/step - loss: 1.8326 - accuracy: 0.3951 - precision: 1.0000 - val_loss: 1.7105 - val_accuracy: 0.4479 - val_precision: 1.0000\n",
      "Epoch 4/50\n",
      "115/115 [==============================] - 1s 11ms/step - loss: 1.4806 - accuracy: 0.5544 - precision: 0.9924 - val_loss: 1.3214 - val_accuracy: 0.6493 - val_precision: 0.9836\n",
      "Epoch 5/50\n",
      "115/115 [==============================] - 1s 12ms/step - loss: 1.0840 - accuracy: 0.7293 - precision: 0.9901 - val_loss: 0.9467 - val_accuracy: 0.7639 - val_precision: 0.9925\n",
      "Epoch 6/50\n",
      "115/115 [==============================] - 1s 12ms/step - loss: 0.7827 - accuracy: 0.8225 - precision: 0.9714 - val_loss: 0.7167 - val_accuracy: 0.8264 - val_precision: 0.9735\n",
      "Epoch 7/50\n",
      "115/115 [==============================] - 1s 8ms/step - loss: 0.6028 - accuracy: 0.8625 - precision: 0.9555 - val_loss: 0.5847 - val_accuracy: 0.8611 - val_precision: 0.9756\n",
      "Epoch 8/50\n",
      "115/115 [==============================] - 1s 9ms/step - loss: 0.4904 - accuracy: 0.8842 - precision: 0.9561 - val_loss: 0.4876 - val_accuracy: 0.8542 - val_precision: 0.9605\n",
      "Epoch 9/50\n",
      "115/115 [==============================] - 1s 9ms/step - loss: 0.4137 - accuracy: 0.9043 - precision: 0.9481 - val_loss: 0.4198 - val_accuracy: 0.8958 - val_precision: 0.9707\n",
      "Epoch 10/50\n",
      "115/115 [==============================] - 1s 9ms/step - loss: 0.3629 - accuracy: 0.9147 - precision: 0.9516 - val_loss: 0.3721 - val_accuracy: 0.9028 - val_precision: 0.9721\n",
      "Epoch 11/50\n",
      "115/115 [==============================] - 1s 9ms/step - loss: 0.3273 - accuracy: 0.9156 - precision: 0.9526 - val_loss: 0.3348 - val_accuracy: 0.9132 - val_precision: 0.9653\n",
      "Epoch 12/50\n",
      "115/115 [==============================] - 1s 9ms/step - loss: 0.2982 - accuracy: 0.9286 - precision: 0.9542 - val_loss: 0.3113 - val_accuracy: 0.9167 - val_precision: 0.9695\n",
      "Epoch 13/50\n",
      "115/115 [==============================] - 1s 9ms/step - loss: 0.2782 - accuracy: 0.9339 - precision: 0.9530 - val_loss: 0.2854 - val_accuracy: 0.9271 - val_precision: 0.9590accuracy: 0.9337 - precision: \n",
      "Epoch 14/50\n",
      "115/115 [==============================] - 1s 8ms/step - loss: 0.2635 - accuracy: 0.9278 - precision: 0.9609 - val_loss: 0.2686 - val_accuracy: 0.9236 - val_precision: 0.9590\n",
      "Epoch 15/50\n",
      "115/115 [==============================] - 1s 11ms/step - loss: 0.2433 - accuracy: 0.9399 - precision: 0.9588 - val_loss: 0.2647 - val_accuracy: 0.9306 - val_precision: 0.9663\n",
      "Epoch 16/50\n",
      "115/115 [==============================] - 1s 9ms/step - loss: 0.2301 - accuracy: 0.9408 - precision: 0.9588 - val_loss: 0.2569 - val_accuracy: 0.9306 - val_precision: 0.9527\n",
      "Epoch 17/50\n",
      "115/115 [==============================] - 1s 9ms/step - loss: 0.2226 - accuracy: 0.9399 - precision: 0.9555 - val_loss: 0.2318 - val_accuracy: 0.9444 - val_precision: 0.9600\n",
      "Epoch 18/50\n",
      "115/115 [==============================] - 1s 10ms/step - loss: 0.2117 - accuracy: 0.9434 - precision: 0.9612 - val_loss: 0.2319 - val_accuracy: 0.9340 - val_precision: 0.9634\n",
      "Epoch 19/50\n",
      "115/115 [==============================] - 1s 9ms/step - loss: 0.2016 - accuracy: 0.9478 - precision: 0.9648 - val_loss: 0.2233 - val_accuracy: 0.9271 - val_precision: 0.9568\n",
      "Epoch 20/50\n",
      "115/115 [==============================] - 1s 9ms/step - loss: 0.1944 - accuracy: 0.9478 - precision: 0.9622 - val_loss: 0.2232 - val_accuracy: 0.9306 - val_precision: 0.9531\n",
      "Epoch 21/50\n",
      "115/115 [==============================] - 1s 10ms/step - loss: 0.1877 - accuracy: 0.9495 - precision: 0.9641 - val_loss: 0.2185 - val_accuracy: 0.9375 - val_precision: 0.9601\n",
      "Epoch 22/50\n",
      "115/115 [==============================] - 1s 9ms/step - loss: 0.1834 - accuracy: 0.9469 - precision: 0.9675 - val_loss: 0.2023 - val_accuracy: 0.9410 - val_precision: 0.9601\n",
      "Epoch 23/50\n",
      "115/115 [==============================] - 1s 9ms/step - loss: 0.1725 - accuracy: 0.9556 - precision: 0.9652 - val_loss: 0.1966 - val_accuracy: 0.9375 - val_precision: 0.9570\n",
      "Epoch 24/50\n",
      "115/115 [==============================] - 1s 9ms/step - loss: 0.1668 - accuracy: 0.9600 - precision: 0.9697 - val_loss: 0.1960 - val_accuracy: 0.9479 - val_precision: 0.9638\n",
      "Epoch 25/50\n",
      "115/115 [==============================] - 1s 11ms/step - loss: 0.1655 - accuracy: 0.9556 - precision: 0.9660 - val_loss: 0.1915 - val_accuracy: 0.9306 - val_precision: 0.9532\n",
      "Epoch 26/50\n",
      "115/115 [==============================] - 1s 9ms/step - loss: 0.1601 - accuracy: 0.9600 - precision: 0.9679 - val_loss: 0.1936 - val_accuracy: 0.9375 - val_precision: 0.9603\n",
      "Epoch 27/50\n",
      "115/115 [==============================] - 1s 10ms/step - loss: 0.1534 - accuracy: 0.9591 - precision: 0.9647 - val_loss: 0.1863 - val_accuracy: 0.9444 - val_precision: 0.9607\n",
      "Epoch 28/50\n",
      "115/115 [==============================] - 1s 9ms/step - loss: 0.1487 - accuracy: 0.9643 - precision: 0.9734 - val_loss: 0.1774 - val_accuracy: 0.9549 - val_precision: 0.9676\n",
      "Epoch 29/50\n",
      "115/115 [==============================] - 1s 9ms/step - loss: 0.1456 - accuracy: 0.9634 - precision: 0.9699 - val_loss: 0.1747 - val_accuracy: 0.9549 - val_precision: 0.9606\n",
      "Epoch 30/50\n",
      "115/115 [==============================] - 1s 9ms/step - loss: 0.1413 - accuracy: 0.9652 - precision: 0.9733 - val_loss: 0.1735 - val_accuracy: 0.9549 - val_precision: 0.9679\n",
      "Epoch 31/50\n",
      "115/115 [==============================] - 1s 9ms/step - loss: 0.1378 - accuracy: 0.9652 - precision: 0.9743 - val_loss: 0.1740 - val_accuracy: 0.9479 - val_precision: 0.9606\n",
      "Epoch 32/50\n",
      "115/115 [==============================] - 1s 10ms/step - loss: 0.1340 - accuracy: 0.9669 - precision: 0.9719 - val_loss: 0.1728 - val_accuracy: 0.9444 - val_precision: 0.9573\n",
      "Epoch 33/50\n",
      "115/115 [==============================] - 1s 10ms/step - loss: 0.1323 - accuracy: 0.9678 - precision: 0.9744 - val_loss: 0.1727 - val_accuracy: 0.9375 - val_precision: 0.9472\n",
      "Epoch 34/50\n",
      "115/115 [==============================] - 1s 10ms/step - loss: 0.1272 - accuracy: 0.9678 - precision: 0.9735 - val_loss: 0.1545 - val_accuracy: 0.9549 - val_precision: 0.9679\n",
      "Epoch 35/50\n",
      "115/115 [==============================] - 1s 9ms/step - loss: 0.1217 - accuracy: 0.9713 - precision: 0.9770 - val_loss: 0.1798 - val_accuracy: 0.9375 - val_precision: 0.9507\n",
      "Epoch 36/50\n",
      "115/115 [==============================] - 1s 9ms/step - loss: 0.1228 - accuracy: 0.9730 - precision: 0.9806 - val_loss: 0.1617 - val_accuracy: 0.9444 - val_precision: 0.9640\n",
      "Epoch 37/50\n",
      "115/115 [==============================] - 1s 10ms/step - loss: 0.1201 - accuracy: 0.9695 - precision: 0.9788 - val_loss: 0.1575 - val_accuracy: 0.9514 - val_precision: 0.9609\n",
      "Epoch 38/50\n",
      "115/115 [==============================] - 1s 10ms/step - loss: 0.1171 - accuracy: 0.9730 - precision: 0.9787 - val_loss: 0.1596 - val_accuracy: 0.9410 - val_precision: 0.9574\n",
      "Epoch 39/50\n",
      "115/115 [==============================] - 1s 9ms/step - loss: 0.1112 - accuracy: 0.9739 - precision: 0.9780 - val_loss: 0.1484 - val_accuracy: 0.9514 - val_precision: 0.9610\n",
      "Epoch 40/50\n",
      "115/115 [==============================] - 1s 10ms/step - loss: 0.1105 - accuracy: 0.9730 - precision: 0.9763 - val_loss: 0.1432 - val_accuracy: 0.9549 - val_precision: 0.9682\n",
      "Epoch 41/50\n",
      "115/115 [==============================] - 1s 10ms/step - loss: 0.1092 - accuracy: 0.9704 - precision: 0.9789 - val_loss: 0.1474 - val_accuracy: 0.9514 - val_precision: 0.9610\n",
      "Epoch 42/50\n",
      "115/115 [==============================] - 1s 10ms/step - loss: 0.1056 - accuracy: 0.9713 - precision: 0.9806 - val_loss: 0.1544 - val_accuracy: 0.9479 - val_precision: 0.9576\n",
      "Epoch 43/50\n",
      "115/115 [==============================] - 1s 10ms/step - loss: 0.1033 - accuracy: 0.9721 - precision: 0.9789 - val_loss: 0.1516 - val_accuracy: 0.9514 - val_precision: 0.9611\n",
      "Epoch 44/50\n"
     ]
    },
    {
     "name": "stdout",
     "output_type": "stream",
     "text": [
      "115/115 [==============================] - 1s 10ms/step - loss: 0.1010 - accuracy: 0.9765 - precision: 0.9824 - val_loss: 0.1380 - val_accuracy: 0.9514 - val_precision: 0.9681\n",
      "Epoch 45/50\n",
      "115/115 [==============================] - 1s 10ms/step - loss: 0.0991 - accuracy: 0.9774 - precision: 0.9815 - val_loss: 0.1357 - val_accuracy: 0.9583 - val_precision: 0.9684\n",
      "Epoch 46/50\n",
      "115/115 [==============================] - 1s 9ms/step - loss: 0.0984 - accuracy: 0.9748 - precision: 0.9781 - val_loss: 0.1362 - val_accuracy: 0.9444 - val_precision: 0.9680\n",
      "Epoch 47/50\n",
      "115/115 [==============================] - 1s 9ms/step - loss: 0.0942 - accuracy: 0.9774 - precision: 0.9833 - val_loss: 0.1363 - val_accuracy: 0.9514 - val_precision: 0.9749\n",
      "Epoch 48/50\n",
      "115/115 [==============================] - 1s 8ms/step - loss: 0.0920 - accuracy: 0.9748 - precision: 0.9807 - val_loss: 0.1422 - val_accuracy: 0.9514 - val_precision: 0.9647\n",
      "Epoch 49/50\n",
      "115/115 [==============================] - 1s 8ms/step - loss: 0.0917 - accuracy: 0.9756 - precision: 0.9824 - val_loss: 0.1312 - val_accuracy: 0.9549 - val_precision: 0.9613\n",
      "Epoch 50/50\n",
      "115/115 [==============================] - 1s 10ms/step - loss: 0.0887 - accuracy: 0.9765 - precision: 0.9815 - val_loss: 0.1396 - val_accuracy: 0.9549 - val_precision: 0.9647uracy: 0.9760 - precision: 0.\n"
     ]
    }
   ],
   "source": [
    "# Model from above, but now with ten output neurons:\n",
    "\n",
    "model = Sequential()\n",
    "model.add(Dense(12, activation='relu', input_dim=64))\n",
    "model.add(Dense(8, activation='relu'))\n",
    "model.add(Dense(10, activation='softmax'))\n",
    "\n",
    "model.compile(optimizer='adam',\n",
    "              loss='categorical_crossentropy',\n",
    "              metrics=['accuracy', Precision()])\n",
    "\n",
    "results = model.fit(X_pure_train, y_pure_train,\n",
    "                   epochs=50, batch_size=10,\n",
    "                   validation_data=(X_val, y_val))"
   ]
  },
  {
   "cell_type": "markdown",
   "metadata": {},
   "source": [
    "$$\\large \\text{Softmax}(x_{i}) = \\frac{\\exp(x_i)}{\\sum_j \\exp(x_j)}$$\n",
    "\n",
    "The sofmax function outputs a number between 0 and 1 for each of our classes.  All of the probabilities of the classes sum up to 1.\n",
    "\n",
    "The number of nodes in our output layer equals the number of categories in our dataset.\n",
    "\n",
    "We also need a new loss function: **categorical crossentropy**, which calculates a separate loss for each label and then sums the results."
   ]
  },
  {
   "cell_type": "code",
   "execution_count": 50,
   "metadata": {
    "ExecuteTime": {
     "end_time": "2023-10-17T19:43:04.444681Z",
     "start_time": "2023-10-17T19:43:04.308685Z"
    }
   },
   "outputs": [],
   "source": [
    "history = results.history\n",
    "training_loss = history['loss']\n",
    "val_loss = history['val_loss']\n",
    "training_accuracy = history['accuracy']\n",
    "val_accuracy = history['val_accuracy']"
   ]
  },
  {
   "cell_type": "code",
   "execution_count": 51,
   "metadata": {
    "ExecuteTime": {
     "end_time": "2023-10-17T19:43:05.485680Z",
     "start_time": "2023-10-17T19:43:04.818683Z"
    }
   },
   "outputs": [
    {
     "data": {
      "image/png": "[encoded data removed]",
      "text/plain": [
       "<Figure size 1080x360 with 2 Axes>"
      ]
     },
     "metadata": {
      "needs_background": "light"
     },
     "output_type": "display_data"
    }
   ],
   "source": [
    "fig, (ax1,ax2) = plt.subplots(1,2,figsize=(15,5))\n",
    "\n",
    "\n",
    "sns.lineplot(x=list(range(len(training_loss))),\n",
    "             y=training_loss, color='r', label='training', ax=ax1)\n",
    "sns.lineplot(x=list(range(len(val_loss))),\n",
    "             y=val_loss, color='b', label='validation', ax=ax1)\n",
    "sns.lineplot(x=list(range(len(training_loss))),\n",
    "             y=training_accuracy, color='r', label='training',ax=ax2)\n",
    "sns.lineplot(x=list(range(len(val_loss))),\n",
    "             y=val_accuracy, color='b', label='validation',ax=ax2)\n",
    "ax1.legend();"
   ]
  },
  {
   "cell_type": "code",
   "execution_count": 52,
   "metadata": {
    "ExecuteTime": {
     "end_time": "2023-10-17T19:43:15.201193Z",
     "start_time": "2023-10-17T19:43:14.877196Z"
    }
   },
   "outputs": [],
   "source": [
    "y_hat_test = np.argmax(model.predict(X_test), axis=-1)"
   ]
  },
  {
   "cell_type": "code",
   "execution_count": 56,
   "metadata": {
    "ExecuteTime": {
     "end_time": "2023-10-17T19:45:12.967729Z",
     "start_time": "2023-10-17T19:45:12.831730Z"
    }
   },
   "outputs": [
    {
     "data": {
      "text/plain": [
       "6"
      ]
     },
     "execution_count": 56,
     "metadata": {},
     "output_type": "execute_result"
    }
   ],
   "source": [
    "y_hat_test[0]"
   ]
  },
  {
   "cell_type": "code",
   "execution_count": 55,
   "metadata": {
    "ExecuteTime": {
     "end_time": "2023-10-17T19:44:38.680730Z",
     "start_time": "2023-10-17T19:44:38.445730Z"
    }
   },
   "outputs": [
    {
     "data": {
      "text/plain": [
       "0.999999985652751"
      ]
     },
     "execution_count": 55,
     "metadata": {},
     "output_type": "execute_result"
    }
   ],
   "source": [
    "sum(model.predict(X_test)[0])"
   ]
  },
  {
   "cell_type": "code",
   "execution_count": 57,
   "metadata": {
    "ExecuteTime": {
     "end_time": "2023-10-17T19:45:23.947733Z",
     "start_time": "2023-10-17T19:45:23.781731Z"
    }
   },
   "outputs": [
    {
     "data": {
      "text/plain": [
       "array([[30,  0,  0,  0,  0,  1,  0,  0,  0,  2],\n",
       "       [ 0, 23,  2,  1,  0,  0,  0,  0,  1,  1],\n",
       "       [ 0,  1, 31,  0,  0,  0,  0,  0,  1,  0],\n",
       "       [ 1,  0,  0, 32,  0,  0,  0,  0,  0,  1],\n",
       "       [ 0,  0,  0,  0, 46,  0,  0,  0,  0,  0],\n",
       "       [ 0,  0,  1,  0,  0, 43,  1,  0,  0,  2],\n",
       "       [ 0,  0,  0,  0,  1,  0, 34,  0,  0,  0],\n",
       "       [ 0,  0,  0,  0,  0,  1,  0, 33,  0,  0],\n",
       "       [ 0,  2,  1,  0,  0,  1,  0,  0, 26,  0],\n",
       "       [ 0,  1,  0,  2,  0,  0,  0,  0,  2, 35]], dtype=int64)"
      ]
     },
     "execution_count": 57,
     "metadata": {},
     "output_type": "execute_result"
    }
   ],
   "source": [
    "y_test_restore = ohe.inverse_transform(y_test)\n",
    "confusion_matrix(y_test_restore, y_hat_test)"
   ]
  },
  {
   "cell_type": "code",
   "execution_count": 58,
   "metadata": {
    "ExecuteTime": {
     "end_time": "2023-10-17T19:45:58.042730Z",
     "start_time": "2023-10-17T19:45:57.902731Z"
    }
   },
   "outputs": [
    {
     "data": {
      "text/plain": [
       "(1437, 64)"
      ]
     },
     "execution_count": 58,
     "metadata": {},
     "output_type": "execute_result"
    }
   ],
   "source": [
    "X_train.shape"
   ]
  },
  {
   "cell_type": "code",
   "execution_count": 59,
   "metadata": {
    "ExecuteTime": {
     "end_time": "2023-10-17T19:46:25.383729Z",
     "start_time": "2023-10-17T19:46:25.233732Z"
    }
   },
   "outputs": [
    {
     "name": "stdout",
     "output_type": "stream",
     "text": [
      "Model: \"sequential_19\"\n",
      "_________________________________________________________________\n",
      " Layer (type)                Output Shape              Param #   \n",
      "=================================================================\n",
      " dense_98 (Dense)            (None, 12)                780       \n",
      "                                                                 \n",
      " dense_99 (Dense)            (None, 8)                 104       \n",
      "                                                                 \n",
      " dense_100 (Dense)           (None, 10)                90        \n",
      "                                                                 \n",
      "=================================================================\n",
      "Total params: 974\n",
      "Trainable params: 974\n",
      "Non-trainable params: 0\n",
      "_________________________________________________________________\n"
     ]
    }
   ],
   "source": [
    "model.summary()"
   ]
  },
  {
   "cell_type": "markdown",
   "metadata": {},
   "source": [
    "Wow, look at that performance!  \n",
    "\n",
    "That is great, but remember, we were dealing with simple black and white images.  With color, our basic neural net will have less success.\n",
    "\n",
    "We will explore more advanced tools in the coming days.\n"
   ]
  }
 ],
 "metadata": {
  "celltoolbar": "Raw Cell Format",
  "colab": {
   "collapsed_sections": [],
   "name": "intro-to-keras.ipynb",
   "provenance": []
  },
  "kernelspec": {
   "display_name": "tf-gpu",
   "language": "python",
   "name": "tf-gpu"
  },
  "language_info": {
   "codemirror_mode": {
    "name": "ipython",
    "version": 3
   },
   "file_extension": ".py",
   "mimetype": "text/x-python",
   "name": "python",
   "nbconvert_exporter": "python",
   "pygments_lexer": "ipython3",
   "version": "3.9.9"
  },
  "toc": {
   "base_numbering": 1,
   "nav_menu": {},
   "number_sections": true,
   "sideBar": true,
   "skip_h1_title": false,
   "title_cell": "Table of Contents",
   "title_sidebar": "Contents",
   "toc_cell": false,
   "toc_position": {},
   "toc_section_display": true,
   "toc_window_display": false
  },
  "varInspector": {
   "cols": {
    "lenName": 16,
    "lenType": 16,
    "lenVar": 40
   },
   "kernels_config": {
    "python": {
     "delete_cmd_postfix": "",
     "delete_cmd_prefix": "del ",
     "library": "var_list.py",
     "varRefreshCmd": "print(var_dic_list())"
    },
    "r": {
     "delete_cmd_postfix": ") ",
     "delete_cmd_prefix": "rm(",
     "library": "var_list.r",
     "varRefreshCmd": "cat(var_dic_list()) "
    }
   },
   "types_to_exclude": [
    "module",
    "function",
    "builtin_function_or_method",
    "instance",
    "_Feature"
   ],
   "window_display": false
  }
 },
 "nbformat": 4,
 "nbformat_minor": 4
}
