{
 "cells": [
  {
   "cell_type": "markdown",
   "metadata": {},
   "source": [
    "# Classification Workflow with Pipelines"
   ]
  },
  {
   "cell_type": "markdown",
   "metadata": {},
   "source": [
    "Let's add pipelines into our workflow!"
   ]
  },
  {
   "cell_type": "code",
   "execution_count": 1,
   "metadata": {
    "ExecuteTime": {
     "end_time": "2023-10-19T14:10:17.253285Z",
     "start_time": "2023-10-19T14:09:54.765258Z"
    },
    "scrolled": false
   },
   "outputs": [],
   "source": [
    "import pandas as pd\n",
    "import numpy as np\n",
    "from matplotlib import pyplot as plt\n",
    "import seaborn as sns\n",
    "\n",
    "from sklearn.model_selection import train_test_split, GridSearchCV, cross_val_score, RandomizedSearchCV\n",
    "from sklearn.pipeline import Pipeline\n",
    "from sklearn.preprocessing import StandardScaler, OneHotEncoder, FunctionTransformer, OrdinalEncoder\n",
    "from sklearn.impute import SimpleImputer\n",
    "from sklearn.compose import ColumnTransformer, make_column_selector as selector\n",
    "from sklearn.dummy import DummyClassifier\n",
    "from sklearn.linear_model import LogisticRegression\n",
    "from sklearn.tree import DecisionTreeClassifier\n",
    "from sklearn.metrics import ConfusionMatrixDisplay, recall_score,\\\n",
    "    accuracy_score, precision_score, f1_score, RocCurveDisplay\n",
    "\n",
    "from sklearn.neighbors import KNeighborsClassifier\n",
    "\n",
    "from sklearn.ensemble import VotingClassifier, StackingClassifier,\\\n",
    "        BaggingClassifier, RandomForestClassifier, ExtraTreesClassifier\n",
    "\n",
    "from scipy.stats import uniform, truncnorm, randint\n",
    "\n",
    "from imblearn.over_sampling import SMOTE\n",
    "from imblearn.pipeline import Pipeline as ImPipe\n",
    "\n",
    "from src.model_handling import ModelStorer, SaveModel\n",
    "\n",
    "from datetime import datetime\n",
    "\n",
    "from sklearn.datasets import load_sample_images\n",
    "from sklearn.datasets import load_digits\n",
    "import matplotlib.image as mpimg\n",
    "\n",
    "import tensorflow as tf\n",
    "from tensorflow.keras.models import Sequential\n",
    "from tensorflow.keras.layers import Dense, Dropout, Input\n",
    "from tensorflow.keras.regularizers import l2\n",
    "from tensorflow.keras.optimizers import SGD\n",
    "from tensorflow.keras.wrappers import scikit_learn\n",
    "from tensorflow.keras.callbacks import EarlyStopping\n",
    "from tensorflow.keras.metrics import Precision\n",
    "\n",
    "from tensorflow.keras.datasets import mnist\n",
    "\n",
    "from scikeras.wrappers import KerasClassifier\n",
    "\n",
    "import os\n",
    "import sys\n",
    "module_path = os.path.abspath(os.path.join(os.pardir, os.pardir))\n",
    "if module_path not in sys.path:\n",
    "    sys.path.append(module_path)\n",
    "    \n"
   ]
  },
  {
   "cell_type": "code",
   "execution_count": 2,
   "metadata": {
    "ExecuteTime": {
     "end_time": "2023-10-19T14:10:19.158277Z",
     "start_time": "2023-10-19T14:10:17.271255Z"
    }
   },
   "outputs": [
    {
     "name": "stdout",
     "output_type": "stream",
     "text": [
      "Num GPUs Available:  1\n"
     ]
    }
   ],
   "source": [
    "print(\"Num GPUs Available: \", len(tf.config.list_physical_devices('GPU')))"
   ]
  },
  {
   "cell_type": "markdown",
   "metadata": {
    "heading_collapsed": true
   },
   "source": [
    "## Non-image Data"
   ]
  },
  {
   "cell_type": "code",
   "execution_count": 88,
   "metadata": {
    "ExecuteTime": {
     "end_time": "2023-10-19T14:38:43.019297Z",
     "start_time": "2023-10-19T14:38:42.829294Z"
    },
    "hidden": true,
    "scrolled": true
   },
   "outputs": [
    {
     "data": {
      "text/html": [
       "<div>\n",
       "<style scoped>\n",
       "    .dataframe tbody tr th:only-of-type {\n",
       "        vertical-align: middle;\n",
       "    }\n",
       "\n",
       "    .dataframe tbody tr th {\n",
       "        vertical-align: top;\n",
       "    }\n",
       "\n",
       "    .dataframe thead th {\n",
       "        text-align: right;\n",
       "    }\n",
       "</style>\n",
       "<table border=\"1\" class=\"dataframe\">\n",
       "  <thead>\n",
       "    <tr style=\"text-align: right;\">\n",
       "      <th></th>\n",
       "      <th>ID</th>\n",
       "      <th>LIMIT_BAL</th>\n",
       "      <th>SEX</th>\n",
       "      <th>EDUCATION</th>\n",
       "      <th>MARRIAGE</th>\n",
       "      <th>AGE</th>\n",
       "      <th>PAY_0</th>\n",
       "      <th>PAY_2</th>\n",
       "      <th>PAY_3</th>\n",
       "      <th>PAY_4</th>\n",
       "      <th>...</th>\n",
       "      <th>BILL_AMT4</th>\n",
       "      <th>BILL_AMT5</th>\n",
       "      <th>BILL_AMT6</th>\n",
       "      <th>PAY_AMT1</th>\n",
       "      <th>PAY_AMT2</th>\n",
       "      <th>PAY_AMT3</th>\n",
       "      <th>PAY_AMT4</th>\n",
       "      <th>PAY_AMT5</th>\n",
       "      <th>PAY_AMT6</th>\n",
       "      <th>default payment next month</th>\n",
       "    </tr>\n",
       "  </thead>\n",
       "  <tbody>\n",
       "    <tr>\n",
       "      <th>0</th>\n",
       "      <td>1</td>\n",
       "      <td>20000</td>\n",
       "      <td>2</td>\n",
       "      <td>2</td>\n",
       "      <td>1</td>\n",
       "      <td>24</td>\n",
       "      <td>2</td>\n",
       "      <td>2</td>\n",
       "      <td>-1</td>\n",
       "      <td>-1</td>\n",
       "      <td>...</td>\n",
       "      <td>0</td>\n",
       "      <td>0</td>\n",
       "      <td>0</td>\n",
       "      <td>0</td>\n",
       "      <td>689</td>\n",
       "      <td>0</td>\n",
       "      <td>0</td>\n",
       "      <td>0</td>\n",
       "      <td>0</td>\n",
       "      <td>1</td>\n",
       "    </tr>\n",
       "    <tr>\n",
       "      <th>1</th>\n",
       "      <td>2</td>\n",
       "      <td>120000</td>\n",
       "      <td>2</td>\n",
       "      <td>2</td>\n",
       "      <td>2</td>\n",
       "      <td>26</td>\n",
       "      <td>-1</td>\n",
       "      <td>2</td>\n",
       "      <td>0</td>\n",
       "      <td>0</td>\n",
       "      <td>...</td>\n",
       "      <td>3272</td>\n",
       "      <td>3455</td>\n",
       "      <td>3261</td>\n",
       "      <td>0</td>\n",
       "      <td>1000</td>\n",
       "      <td>1000</td>\n",
       "      <td>1000</td>\n",
       "      <td>0</td>\n",
       "      <td>2000</td>\n",
       "      <td>1</td>\n",
       "    </tr>\n",
       "    <tr>\n",
       "      <th>2</th>\n",
       "      <td>3</td>\n",
       "      <td>90000</td>\n",
       "      <td>2</td>\n",
       "      <td>2</td>\n",
       "      <td>2</td>\n",
       "      <td>34</td>\n",
       "      <td>0</td>\n",
       "      <td>0</td>\n",
       "      <td>0</td>\n",
       "      <td>0</td>\n",
       "      <td>...</td>\n",
       "      <td>14331</td>\n",
       "      <td>14948</td>\n",
       "      <td>15549</td>\n",
       "      <td>1518</td>\n",
       "      <td>1500</td>\n",
       "      <td>1000</td>\n",
       "      <td>1000</td>\n",
       "      <td>1000</td>\n",
       "      <td>5000</td>\n",
       "      <td>0</td>\n",
       "    </tr>\n",
       "    <tr>\n",
       "      <th>3</th>\n",
       "      <td>4</td>\n",
       "      <td>50000</td>\n",
       "      <td>2</td>\n",
       "      <td>2</td>\n",
       "      <td>1</td>\n",
       "      <td>37</td>\n",
       "      <td>0</td>\n",
       "      <td>0</td>\n",
       "      <td>0</td>\n",
       "      <td>0</td>\n",
       "      <td>...</td>\n",
       "      <td>28314</td>\n",
       "      <td>28959</td>\n",
       "      <td>29547</td>\n",
       "      <td>2000</td>\n",
       "      <td>2019</td>\n",
       "      <td>1200</td>\n",
       "      <td>1100</td>\n",
       "      <td>1069</td>\n",
       "      <td>1000</td>\n",
       "      <td>0</td>\n",
       "    </tr>\n",
       "    <tr>\n",
       "      <th>4</th>\n",
       "      <td>5</td>\n",
       "      <td>50000</td>\n",
       "      <td>1</td>\n",
       "      <td>2</td>\n",
       "      <td>1</td>\n",
       "      <td>57</td>\n",
       "      <td>-1</td>\n",
       "      <td>0</td>\n",
       "      <td>-1</td>\n",
       "      <td>0</td>\n",
       "      <td>...</td>\n",
       "      <td>20940</td>\n",
       "      <td>19146</td>\n",
       "      <td>19131</td>\n",
       "      <td>2000</td>\n",
       "      <td>36681</td>\n",
       "      <td>10000</td>\n",
       "      <td>9000</td>\n",
       "      <td>689</td>\n",
       "      <td>679</td>\n",
       "      <td>0</td>\n",
       "    </tr>\n",
       "  </tbody>\n",
       "</table>\n",
       "<p>5 rows × 25 columns</p>\n",
       "</div>"
      ],
      "text/plain": [
       "   ID  LIMIT_BAL  SEX  EDUCATION  MARRIAGE  AGE  PAY_0  PAY_2  PAY_3  PAY_4  \\\n",
       "0   1      20000    2          2         1   24      2      2     -1     -1   \n",
       "1   2     120000    2          2         2   26     -1      2      0      0   \n",
       "2   3      90000    2          2         2   34      0      0      0      0   \n",
       "3   4      50000    2          2         1   37      0      0      0      0   \n",
       "4   5      50000    1          2         1   57     -1      0     -1      0   \n",
       "\n",
       "   ...  BILL_AMT4  BILL_AMT5  BILL_AMT6  PAY_AMT1  PAY_AMT2  PAY_AMT3  \\\n",
       "0  ...          0          0          0         0       689         0   \n",
       "1  ...       3272       3455       3261         0      1000      1000   \n",
       "2  ...      14331      14948      15549      1518      1500      1000   \n",
       "3  ...      28314      28959      29547      2000      2019      1200   \n",
       "4  ...      20940      19146      19131      2000     36681     10000   \n",
       "\n",
       "   PAY_AMT4  PAY_AMT5  PAY_AMT6  default payment next month  \n",
       "0         0         0         0                           1  \n",
       "1      1000         0      2000                           1  \n",
       "2      1000      1000      5000                           0  \n",
       "3      1100      1069      1000                           0  \n",
       "4      9000       689       679                           0  \n",
       "\n",
       "[5 rows x 25 columns]"
      ]
     },
     "execution_count": 88,
     "metadata": {},
     "output_type": "execute_result"
    }
   ],
   "source": [
    "df = pd.read_csv('./data/default.csv', header=1)\n",
    "df.head()"
   ]
  },
  {
   "cell_type": "code",
   "execution_count": 4,
   "metadata": {
    "ExecuteTime": {
     "end_time": "2023-10-17T23:35:28.818990Z",
     "start_time": "2023-10-17T23:35:28.803961Z"
    },
    "hidden": true
   },
   "outputs": [
    {
     "name": "stdout",
     "output_type": "stream",
     "text": [
      "<class 'pandas.core.frame.DataFrame'>\n",
      "RangeIndex: 30000 entries, 0 to 29999\n",
      "Data columns (total 25 columns):\n",
      " #   Column                      Non-Null Count  Dtype\n",
      "---  ------                      --------------  -----\n",
      " 0   ID                          30000 non-null  int64\n",
      " 1   LIMIT_BAL                   30000 non-null  int64\n",
      " 2   SEX                         30000 non-null  int64\n",
      " 3   EDUCATION                   30000 non-null  int64\n",
      " 4   MARRIAGE                    30000 non-null  int64\n",
      " 5   AGE                         30000 non-null  int64\n",
      " 6   PAY_0                       30000 non-null  int64\n",
      " 7   PAY_2                       30000 non-null  int64\n",
      " 8   PAY_3                       30000 non-null  int64\n",
      " 9   PAY_4                       30000 non-null  int64\n",
      " 10  PAY_5                       30000 non-null  int64\n",
      " 11  PAY_6                       30000 non-null  int64\n",
      " 12  BILL_AMT1                   30000 non-null  int64\n",
      " 13  BILL_AMT2                   30000 non-null  int64\n",
      " 14  BILL_AMT3                   30000 non-null  int64\n",
      " 15  BILL_AMT4                   30000 non-null  int64\n",
      " 16  BILL_AMT5                   30000 non-null  int64\n",
      " 17  BILL_AMT6                   30000 non-null  int64\n",
      " 18  PAY_AMT1                    30000 non-null  int64\n",
      " 19  PAY_AMT2                    30000 non-null  int64\n",
      " 20  PAY_AMT3                    30000 non-null  int64\n",
      " 21  PAY_AMT4                    30000 non-null  int64\n",
      " 22  PAY_AMT5                    30000 non-null  int64\n",
      " 23  PAY_AMT6                    30000 non-null  int64\n",
      " 24  default payment next month  30000 non-null  int64\n",
      "dtypes: int64(25)\n",
      "memory usage: 5.7 MB\n"
     ]
    }
   ],
   "source": [
    "df.info()"
   ]
  },
  {
   "cell_type": "markdown",
   "metadata": {
    "hidden": true
   },
   "source": [
    "Amount of the given credit (NT dollar): it includes both the individual consumer credit and his/her family (supplementary) credit.\n",
    "\n",
    "Gender (1 = male; 2 = female).\n",
    "\n",
    "Education (1 = graduate school; 2 = university; 3 = high school; 4 = others).\n",
    "\n",
    "Marital status (1 = married; 2 = single; 3 = others).\n",
    "\n",
    "Age (year).\n",
    "\n",
    "History of past payment. We tracked the past monthly payment records (from April to September, 2005) as follows: \n",
    "- PAY_0 = the repayment status in September, 2005\n",
    "- PAY_1 = the repayment status in August, 2005 . . .\n",
    "- PAY_6 = the repayment status in April, 2005 \n",
    "\n",
    "The measurement scale for the repayment status is: \n",
    "- -1 = pay ontime; \n",
    "- 1 = payment delay for one month\n",
    "- 2 = payment delay for two months\n",
    "- 8 = payment delay for eight months\n",
    "- 9 = payment delay for nine months and above.\n",
    "\n",
    "Amount of bill statement. \n",
    "- BILL_AMT1 = amount of bill statement in September, 2005\n",
    "- BILL_AMT2 = amount of bill statement in August, 2005 . . .\n",
    "- BILL_AMT6 = amount of bill statement in April, 2005\n",
    "\n",
    "Amount of previous payment. \n",
    "- PAY_AMT1 = amount paid in September, 2005 \n",
    "- PAY_AMT2 = amount paid in August, 2005 . . .\n",
    "- PAY_AMT6 = amount paid in April, 2005\n",
    "\n"
   ]
  },
  {
   "cell_type": "code",
   "execution_count": 89,
   "metadata": {
    "ExecuteTime": {
     "end_time": "2023-10-19T14:39:07.642294Z",
     "start_time": "2023-10-19T14:39:07.619293Z"
    },
    "hidden": true
   },
   "outputs": [],
   "source": [
    "df.drop('ID', axis=1, inplace=True)"
   ]
  },
  {
   "cell_type": "code",
   "execution_count": 90,
   "metadata": {
    "ExecuteTime": {
     "end_time": "2023-10-19T14:39:08.819298Z",
     "start_time": "2023-10-19T14:39:08.804297Z"
    },
    "hidden": true
   },
   "outputs": [],
   "source": [
    "df.rename(columns = {'default payment next month':'default'}, inplace=True)"
   ]
  },
  {
   "cell_type": "code",
   "execution_count": 91,
   "metadata": {
    "ExecuteTime": {
     "end_time": "2023-10-19T14:39:12.295293Z",
     "start_time": "2023-10-19T14:39:12.282296Z"
    },
    "hidden": true
   },
   "outputs": [],
   "source": [
    "df.columns = [x.strip().lower() for x in df.columns]"
   ]
  },
  {
   "cell_type": "code",
   "execution_count": 92,
   "metadata": {
    "ExecuteTime": {
     "end_time": "2023-10-19T14:39:13.379297Z",
     "start_time": "2023-10-19T14:39:13.240297Z"
    },
    "hidden": true
   },
   "outputs": [
    {
     "data": {
      "text/html": [
       "<div>\n",
       "<style scoped>\n",
       "    .dataframe tbody tr th:only-of-type {\n",
       "        vertical-align: middle;\n",
       "    }\n",
       "\n",
       "    .dataframe tbody tr th {\n",
       "        vertical-align: top;\n",
       "    }\n",
       "\n",
       "    .dataframe thead th {\n",
       "        text-align: right;\n",
       "    }\n",
       "</style>\n",
       "<table border=\"1\" class=\"dataframe\">\n",
       "  <thead>\n",
       "    <tr style=\"text-align: right;\">\n",
       "      <th></th>\n",
       "      <th>limit_bal</th>\n",
       "      <th>sex</th>\n",
       "      <th>education</th>\n",
       "      <th>marriage</th>\n",
       "      <th>age</th>\n",
       "      <th>pay_0</th>\n",
       "      <th>pay_2</th>\n",
       "      <th>pay_3</th>\n",
       "      <th>pay_4</th>\n",
       "      <th>pay_5</th>\n",
       "      <th>...</th>\n",
       "      <th>bill_amt4</th>\n",
       "      <th>bill_amt5</th>\n",
       "      <th>bill_amt6</th>\n",
       "      <th>pay_amt1</th>\n",
       "      <th>pay_amt2</th>\n",
       "      <th>pay_amt3</th>\n",
       "      <th>pay_amt4</th>\n",
       "      <th>pay_amt5</th>\n",
       "      <th>pay_amt6</th>\n",
       "      <th>default</th>\n",
       "    </tr>\n",
       "  </thead>\n",
       "  <tbody>\n",
       "    <tr>\n",
       "      <th>count</th>\n",
       "      <td>30000.000000</td>\n",
       "      <td>30000.000000</td>\n",
       "      <td>30000.000000</td>\n",
       "      <td>30000.000000</td>\n",
       "      <td>30000.000000</td>\n",
       "      <td>30000.000000</td>\n",
       "      <td>30000.000000</td>\n",
       "      <td>30000.000000</td>\n",
       "      <td>30000.000000</td>\n",
       "      <td>30000.000000</td>\n",
       "      <td>...</td>\n",
       "      <td>30000.000000</td>\n",
       "      <td>30000.000000</td>\n",
       "      <td>30000.000000</td>\n",
       "      <td>30000.000000</td>\n",
       "      <td>3.000000e+04</td>\n",
       "      <td>30000.00000</td>\n",
       "      <td>30000.000000</td>\n",
       "      <td>30000.000000</td>\n",
       "      <td>30000.000000</td>\n",
       "      <td>30000.000000</td>\n",
       "    </tr>\n",
       "    <tr>\n",
       "      <th>mean</th>\n",
       "      <td>167484.322667</td>\n",
       "      <td>1.603733</td>\n",
       "      <td>1.853133</td>\n",
       "      <td>1.551867</td>\n",
       "      <td>35.485500</td>\n",
       "      <td>-0.016700</td>\n",
       "      <td>-0.133767</td>\n",
       "      <td>-0.166200</td>\n",
       "      <td>-0.220667</td>\n",
       "      <td>-0.266200</td>\n",
       "      <td>...</td>\n",
       "      <td>43262.948967</td>\n",
       "      <td>40311.400967</td>\n",
       "      <td>38871.760400</td>\n",
       "      <td>5663.580500</td>\n",
       "      <td>5.921163e+03</td>\n",
       "      <td>5225.68150</td>\n",
       "      <td>4826.076867</td>\n",
       "      <td>4799.387633</td>\n",
       "      <td>5215.502567</td>\n",
       "      <td>0.221200</td>\n",
       "    </tr>\n",
       "    <tr>\n",
       "      <th>std</th>\n",
       "      <td>129747.661567</td>\n",
       "      <td>0.489129</td>\n",
       "      <td>0.790349</td>\n",
       "      <td>0.521970</td>\n",
       "      <td>9.217904</td>\n",
       "      <td>1.123802</td>\n",
       "      <td>1.197186</td>\n",
       "      <td>1.196868</td>\n",
       "      <td>1.169139</td>\n",
       "      <td>1.133187</td>\n",
       "      <td>...</td>\n",
       "      <td>64332.856134</td>\n",
       "      <td>60797.155770</td>\n",
       "      <td>59554.107537</td>\n",
       "      <td>16563.280354</td>\n",
       "      <td>2.304087e+04</td>\n",
       "      <td>17606.96147</td>\n",
       "      <td>15666.159744</td>\n",
       "      <td>15278.305679</td>\n",
       "      <td>17777.465775</td>\n",
       "      <td>0.415062</td>\n",
       "    </tr>\n",
       "    <tr>\n",
       "      <th>min</th>\n",
       "      <td>10000.000000</td>\n",
       "      <td>1.000000</td>\n",
       "      <td>0.000000</td>\n",
       "      <td>0.000000</td>\n",
       "      <td>21.000000</td>\n",
       "      <td>-2.000000</td>\n",
       "      <td>-2.000000</td>\n",
       "      <td>-2.000000</td>\n",
       "      <td>-2.000000</td>\n",
       "      <td>-2.000000</td>\n",
       "      <td>...</td>\n",
       "      <td>-170000.000000</td>\n",
       "      <td>-81334.000000</td>\n",
       "      <td>-339603.000000</td>\n",
       "      <td>0.000000</td>\n",
       "      <td>0.000000e+00</td>\n",
       "      <td>0.00000</td>\n",
       "      <td>0.000000</td>\n",
       "      <td>0.000000</td>\n",
       "      <td>0.000000</td>\n",
       "      <td>0.000000</td>\n",
       "    </tr>\n",
       "    <tr>\n",
       "      <th>25%</th>\n",
       "      <td>50000.000000</td>\n",
       "      <td>1.000000</td>\n",
       "      <td>1.000000</td>\n",
       "      <td>1.000000</td>\n",
       "      <td>28.000000</td>\n",
       "      <td>-1.000000</td>\n",
       "      <td>-1.000000</td>\n",
       "      <td>-1.000000</td>\n",
       "      <td>-1.000000</td>\n",
       "      <td>-1.000000</td>\n",
       "      <td>...</td>\n",
       "      <td>2326.750000</td>\n",
       "      <td>1763.000000</td>\n",
       "      <td>1256.000000</td>\n",
       "      <td>1000.000000</td>\n",
       "      <td>8.330000e+02</td>\n",
       "      <td>390.00000</td>\n",
       "      <td>296.000000</td>\n",
       "      <td>252.500000</td>\n",
       "      <td>117.750000</td>\n",
       "      <td>0.000000</td>\n",
       "    </tr>\n",
       "    <tr>\n",
       "      <th>50%</th>\n",
       "      <td>140000.000000</td>\n",
       "      <td>2.000000</td>\n",
       "      <td>2.000000</td>\n",
       "      <td>2.000000</td>\n",
       "      <td>34.000000</td>\n",
       "      <td>0.000000</td>\n",
       "      <td>0.000000</td>\n",
       "      <td>0.000000</td>\n",
       "      <td>0.000000</td>\n",
       "      <td>0.000000</td>\n",
       "      <td>...</td>\n",
       "      <td>19052.000000</td>\n",
       "      <td>18104.500000</td>\n",
       "      <td>17071.000000</td>\n",
       "      <td>2100.000000</td>\n",
       "      <td>2.009000e+03</td>\n",
       "      <td>1800.00000</td>\n",
       "      <td>1500.000000</td>\n",
       "      <td>1500.000000</td>\n",
       "      <td>1500.000000</td>\n",
       "      <td>0.000000</td>\n",
       "    </tr>\n",
       "    <tr>\n",
       "      <th>75%</th>\n",
       "      <td>240000.000000</td>\n",
       "      <td>2.000000</td>\n",
       "      <td>2.000000</td>\n",
       "      <td>2.000000</td>\n",
       "      <td>41.000000</td>\n",
       "      <td>0.000000</td>\n",
       "      <td>0.000000</td>\n",
       "      <td>0.000000</td>\n",
       "      <td>0.000000</td>\n",
       "      <td>0.000000</td>\n",
       "      <td>...</td>\n",
       "      <td>54506.000000</td>\n",
       "      <td>50190.500000</td>\n",
       "      <td>49198.250000</td>\n",
       "      <td>5006.000000</td>\n",
       "      <td>5.000000e+03</td>\n",
       "      <td>4505.00000</td>\n",
       "      <td>4013.250000</td>\n",
       "      <td>4031.500000</td>\n",
       "      <td>4000.000000</td>\n",
       "      <td>0.000000</td>\n",
       "    </tr>\n",
       "    <tr>\n",
       "      <th>max</th>\n",
       "      <td>1000000.000000</td>\n",
       "      <td>2.000000</td>\n",
       "      <td>6.000000</td>\n",
       "      <td>3.000000</td>\n",
       "      <td>79.000000</td>\n",
       "      <td>8.000000</td>\n",
       "      <td>8.000000</td>\n",
       "      <td>8.000000</td>\n",
       "      <td>8.000000</td>\n",
       "      <td>8.000000</td>\n",
       "      <td>...</td>\n",
       "      <td>891586.000000</td>\n",
       "      <td>927171.000000</td>\n",
       "      <td>961664.000000</td>\n",
       "      <td>873552.000000</td>\n",
       "      <td>1.684259e+06</td>\n",
       "      <td>896040.00000</td>\n",
       "      <td>621000.000000</td>\n",
       "      <td>426529.000000</td>\n",
       "      <td>528666.000000</td>\n",
       "      <td>1.000000</td>\n",
       "    </tr>\n",
       "  </tbody>\n",
       "</table>\n",
       "<p>8 rows × 24 columns</p>\n",
       "</div>"
      ],
      "text/plain": [
       "            limit_bal           sex     education      marriage           age  \\\n",
       "count    30000.000000  30000.000000  30000.000000  30000.000000  30000.000000   \n",
       "mean    167484.322667      1.603733      1.853133      1.551867     35.485500   \n",
       "std     129747.661567      0.489129      0.790349      0.521970      9.217904   \n",
       "min      10000.000000      1.000000      0.000000      0.000000     21.000000   \n",
       "25%      50000.000000      1.000000      1.000000      1.000000     28.000000   \n",
       "50%     140000.000000      2.000000      2.000000      2.000000     34.000000   \n",
       "75%     240000.000000      2.000000      2.000000      2.000000     41.000000   \n",
       "max    1000000.000000      2.000000      6.000000      3.000000     79.000000   \n",
       "\n",
       "              pay_0         pay_2         pay_3         pay_4         pay_5  \\\n",
       "count  30000.000000  30000.000000  30000.000000  30000.000000  30000.000000   \n",
       "mean      -0.016700     -0.133767     -0.166200     -0.220667     -0.266200   \n",
       "std        1.123802      1.197186      1.196868      1.169139      1.133187   \n",
       "min       -2.000000     -2.000000     -2.000000     -2.000000     -2.000000   \n",
       "25%       -1.000000     -1.000000     -1.000000     -1.000000     -1.000000   \n",
       "50%        0.000000      0.000000      0.000000      0.000000      0.000000   \n",
       "75%        0.000000      0.000000      0.000000      0.000000      0.000000   \n",
       "max        8.000000      8.000000      8.000000      8.000000      8.000000   \n",
       "\n",
       "       ...      bill_amt4      bill_amt5      bill_amt6       pay_amt1  \\\n",
       "count  ...   30000.000000   30000.000000   30000.000000   30000.000000   \n",
       "mean   ...   43262.948967   40311.400967   38871.760400    5663.580500   \n",
       "std    ...   64332.856134   60797.155770   59554.107537   16563.280354   \n",
       "min    ... -170000.000000  -81334.000000 -339603.000000       0.000000   \n",
       "25%    ...    2326.750000    1763.000000    1256.000000    1000.000000   \n",
       "50%    ...   19052.000000   18104.500000   17071.000000    2100.000000   \n",
       "75%    ...   54506.000000   50190.500000   49198.250000    5006.000000   \n",
       "max    ...  891586.000000  927171.000000  961664.000000  873552.000000   \n",
       "\n",
       "           pay_amt2      pay_amt3       pay_amt4       pay_amt5  \\\n",
       "count  3.000000e+04   30000.00000   30000.000000   30000.000000   \n",
       "mean   5.921163e+03    5225.68150    4826.076867    4799.387633   \n",
       "std    2.304087e+04   17606.96147   15666.159744   15278.305679   \n",
       "min    0.000000e+00       0.00000       0.000000       0.000000   \n",
       "25%    8.330000e+02     390.00000     296.000000     252.500000   \n",
       "50%    2.009000e+03    1800.00000    1500.000000    1500.000000   \n",
       "75%    5.000000e+03    4505.00000    4013.250000    4031.500000   \n",
       "max    1.684259e+06  896040.00000  621000.000000  426529.000000   \n",
       "\n",
       "            pay_amt6       default  \n",
       "count   30000.000000  30000.000000  \n",
       "mean     5215.502567      0.221200  \n",
       "std     17777.465775      0.415062  \n",
       "min         0.000000      0.000000  \n",
       "25%       117.750000      0.000000  \n",
       "50%      1500.000000      0.000000  \n",
       "75%      4000.000000      0.000000  \n",
       "max    528666.000000      1.000000  \n",
       "\n",
       "[8 rows x 24 columns]"
      ]
     },
     "execution_count": 92,
     "metadata": {},
     "output_type": "execute_result"
    }
   ],
   "source": [
    "df.describe()"
   ]
  },
  {
   "cell_type": "code",
   "execution_count": 93,
   "metadata": {
    "ExecuteTime": {
     "end_time": "2023-10-19T14:39:19.316295Z",
     "start_time": "2023-10-19T14:39:19.295295Z"
    },
    "hidden": true,
    "scrolled": false
   },
   "outputs": [
    {
     "name": "stdout",
     "output_type": "stream",
     "text": [
      "<class 'pandas.core.frame.DataFrame'>\n",
      "RangeIndex: 30000 entries, 0 to 29999\n",
      "Data columns (total 24 columns):\n",
      " #   Column     Non-Null Count  Dtype\n",
      "---  ------     --------------  -----\n",
      " 0   limit_bal  30000 non-null  int64\n",
      " 1   sex        30000 non-null  int64\n",
      " 2   education  30000 non-null  int64\n",
      " 3   marriage   30000 non-null  int64\n",
      " 4   age        30000 non-null  int64\n",
      " 5   pay_0      30000 non-null  int64\n",
      " 6   pay_2      30000 non-null  int64\n",
      " 7   pay_3      30000 non-null  int64\n",
      " 8   pay_4      30000 non-null  int64\n",
      " 9   pay_5      30000 non-null  int64\n",
      " 10  pay_6      30000 non-null  int64\n",
      " 11  bill_amt1  30000 non-null  int64\n",
      " 12  bill_amt2  30000 non-null  int64\n",
      " 13  bill_amt3  30000 non-null  int64\n",
      " 14  bill_amt4  30000 non-null  int64\n",
      " 15  bill_amt5  30000 non-null  int64\n",
      " 16  bill_amt6  30000 non-null  int64\n",
      " 17  pay_amt1   30000 non-null  int64\n",
      " 18  pay_amt2   30000 non-null  int64\n",
      " 19  pay_amt3   30000 non-null  int64\n",
      " 20  pay_amt4   30000 non-null  int64\n",
      " 21  pay_amt5   30000 non-null  int64\n",
      " 22  pay_amt6   30000 non-null  int64\n",
      " 23  default    30000 non-null  int64\n",
      "dtypes: int64(24)\n",
      "memory usage: 5.5 MB\n"
     ]
    }
   ],
   "source": [
    "df.info()"
   ]
  },
  {
   "cell_type": "code",
   "execution_count": 94,
   "metadata": {
    "ExecuteTime": {
     "end_time": "2023-10-19T14:39:21.498294Z",
     "start_time": "2023-10-19T14:39:21.436293Z"
    },
    "hidden": true
   },
   "outputs": [],
   "source": [
    "X = df.drop(['default'], axis=1)\n",
    "y = df['default']"
   ]
  },
  {
   "cell_type": "code",
   "execution_count": 95,
   "metadata": {
    "ExecuteTime": {
     "end_time": "2023-10-19T14:39:25.212296Z",
     "start_time": "2023-10-19T14:39:25.188296Z"
    },
    "hidden": true
   },
   "outputs": [],
   "source": [
    "# Create holdout/validation set\n",
    "X_tt, X_val, y_tt, y_val = train_test_split(X, y, test_size=.17, random_state=42)"
   ]
  },
  {
   "cell_type": "code",
   "execution_count": 96,
   "metadata": {
    "ExecuteTime": {
     "end_time": "2023-10-19T14:39:25.660293Z",
     "start_time": "2023-10-19T14:39:25.643298Z"
    },
    "hidden": true,
    "scrolled": false
   },
   "outputs": [],
   "source": [
    "# Create Train Test Split for modeling\n",
    "X_train, X_test, y_train, y_test = train_test_split(X_tt, y_tt, test_size=.2, random_state=42)"
   ]
  },
  {
   "cell_type": "code",
   "execution_count": 97,
   "metadata": {
    "ExecuteTime": {
     "end_time": "2023-10-19T14:39:26.049294Z",
     "start_time": "2023-10-19T14:39:26.031298Z"
    },
    "hidden": true
   },
   "outputs": [
    {
     "name": "stdout",
     "output_type": "stream",
     "text": [
      "Total Shape:   (30000, 23)\n",
      "Train Shape:   (19920, 23)\n",
      "Test Shape:    (4980, 23)\n",
      "Holdout Shape: (5100, 23)\n"
     ]
    }
   ],
   "source": [
    "# Check Sizes:\n",
    "print(f'Total Shape:   {X.shape}')\n",
    "print(f'Train Shape:   {X_train.shape}')\n",
    "print(f'Test Shape:    {X_test.shape}')\n",
    "print(f'Holdout Shape: {X_val.shape}')"
   ]
  },
  {
   "cell_type": "code",
   "execution_count": 98,
   "metadata": {
    "ExecuteTime": {
     "end_time": "2023-10-19T14:39:26.857293Z",
     "start_time": "2023-10-19T14:39:26.846293Z"
    },
    "hidden": true
   },
   "outputs": [
    {
     "name": "stdout",
     "output_type": "stream",
     "text": [
      "Total target: \n",
      "0    0.7788\n",
      "1    0.2212\n",
      "Name: default, dtype: float64\n",
      "\n",
      "Total train: \n",
      "0    0.778112\n",
      "1    0.221888\n",
      "Name: default, dtype: float64\n",
      "\n",
      "Total test: \n",
      "0    0.782731\n",
      "1    0.217269\n",
      "Name: default, dtype: float64\n",
      "\n",
      "Total valn: \n",
      "0    0.777647\n",
      "1    0.222353\n",
      "Name: default, dtype: float64\n",
      "\n"
     ]
    }
   ],
   "source": [
    "# Check distributions\n",
    "print(f'Total target: \\n{y.value_counts(normalize=True)}\\n')\n",
    "print(f'Total train: \\n{y_train.value_counts(normalize=True)}\\n')\n",
    "print(f'Total test: \\n{y_test.value_counts(normalize=True)}\\n')\n",
    "print(f'Total valn: \\n{y_val.value_counts(normalize=True)}\\n')"
   ]
  },
  {
   "cell_type": "markdown",
   "metadata": {
    "hidden": true
   },
   "source": [
    "### Using `Pipeline` and `ColumnTransformer`"
   ]
  },
  {
   "cell_type": "markdown",
   "metadata": {
    "hidden": true
   },
   "source": [
    "When we use the `ColumnTransformer` we'll want to choose the relevant column numbers, so let's remind ourselves which columns are where:"
   ]
  },
  {
   "cell_type": "code",
   "execution_count": 15,
   "metadata": {
    "ExecuteTime": {
     "end_time": "2023-10-17T23:35:29.053963Z",
     "start_time": "2023-10-17T23:35:29.039963Z"
    },
    "hidden": true
   },
   "outputs": [
    {
     "data": {
      "text/html": [
       "<div>\n",
       "<style scoped>\n",
       "    .dataframe tbody tr th:only-of-type {\n",
       "        vertical-align: middle;\n",
       "    }\n",
       "\n",
       "    .dataframe tbody tr th {\n",
       "        vertical-align: top;\n",
       "    }\n",
       "\n",
       "    .dataframe thead th {\n",
       "        text-align: right;\n",
       "    }\n",
       "</style>\n",
       "<table border=\"1\" class=\"dataframe\">\n",
       "  <thead>\n",
       "    <tr style=\"text-align: right;\">\n",
       "      <th></th>\n",
       "      <th>limit_bal</th>\n",
       "      <th>sex</th>\n",
       "      <th>education</th>\n",
       "      <th>marriage</th>\n",
       "      <th>age</th>\n",
       "      <th>pay_0</th>\n",
       "      <th>pay_2</th>\n",
       "      <th>pay_3</th>\n",
       "      <th>pay_4</th>\n",
       "      <th>pay_5</th>\n",
       "      <th>...</th>\n",
       "      <th>bill_amt3</th>\n",
       "      <th>bill_amt4</th>\n",
       "      <th>bill_amt5</th>\n",
       "      <th>bill_amt6</th>\n",
       "      <th>pay_amt1</th>\n",
       "      <th>pay_amt2</th>\n",
       "      <th>pay_amt3</th>\n",
       "      <th>pay_amt4</th>\n",
       "      <th>pay_amt5</th>\n",
       "      <th>pay_amt6</th>\n",
       "    </tr>\n",
       "  </thead>\n",
       "  <tbody>\n",
       "    <tr>\n",
       "      <th>0</th>\n",
       "      <td>20000</td>\n",
       "      <td>2</td>\n",
       "      <td>2</td>\n",
       "      <td>1</td>\n",
       "      <td>24</td>\n",
       "      <td>2</td>\n",
       "      <td>2</td>\n",
       "      <td>-1</td>\n",
       "      <td>-1</td>\n",
       "      <td>-2</td>\n",
       "      <td>...</td>\n",
       "      <td>689</td>\n",
       "      <td>0</td>\n",
       "      <td>0</td>\n",
       "      <td>0</td>\n",
       "      <td>0</td>\n",
       "      <td>689</td>\n",
       "      <td>0</td>\n",
       "      <td>0</td>\n",
       "      <td>0</td>\n",
       "      <td>0</td>\n",
       "    </tr>\n",
       "    <tr>\n",
       "      <th>1</th>\n",
       "      <td>120000</td>\n",
       "      <td>2</td>\n",
       "      <td>2</td>\n",
       "      <td>2</td>\n",
       "      <td>26</td>\n",
       "      <td>-1</td>\n",
       "      <td>2</td>\n",
       "      <td>0</td>\n",
       "      <td>0</td>\n",
       "      <td>0</td>\n",
       "      <td>...</td>\n",
       "      <td>2682</td>\n",
       "      <td>3272</td>\n",
       "      <td>3455</td>\n",
       "      <td>3261</td>\n",
       "      <td>0</td>\n",
       "      <td>1000</td>\n",
       "      <td>1000</td>\n",
       "      <td>1000</td>\n",
       "      <td>0</td>\n",
       "      <td>2000</td>\n",
       "    </tr>\n",
       "    <tr>\n",
       "      <th>2</th>\n",
       "      <td>90000</td>\n",
       "      <td>2</td>\n",
       "      <td>2</td>\n",
       "      <td>2</td>\n",
       "      <td>34</td>\n",
       "      <td>0</td>\n",
       "      <td>0</td>\n",
       "      <td>0</td>\n",
       "      <td>0</td>\n",
       "      <td>0</td>\n",
       "      <td>...</td>\n",
       "      <td>13559</td>\n",
       "      <td>14331</td>\n",
       "      <td>14948</td>\n",
       "      <td>15549</td>\n",
       "      <td>1518</td>\n",
       "      <td>1500</td>\n",
       "      <td>1000</td>\n",
       "      <td>1000</td>\n",
       "      <td>1000</td>\n",
       "      <td>5000</td>\n",
       "    </tr>\n",
       "    <tr>\n",
       "      <th>3</th>\n",
       "      <td>50000</td>\n",
       "      <td>2</td>\n",
       "      <td>2</td>\n",
       "      <td>1</td>\n",
       "      <td>37</td>\n",
       "      <td>0</td>\n",
       "      <td>0</td>\n",
       "      <td>0</td>\n",
       "      <td>0</td>\n",
       "      <td>0</td>\n",
       "      <td>...</td>\n",
       "      <td>49291</td>\n",
       "      <td>28314</td>\n",
       "      <td>28959</td>\n",
       "      <td>29547</td>\n",
       "      <td>2000</td>\n",
       "      <td>2019</td>\n",
       "      <td>1200</td>\n",
       "      <td>1100</td>\n",
       "      <td>1069</td>\n",
       "      <td>1000</td>\n",
       "    </tr>\n",
       "    <tr>\n",
       "      <th>4</th>\n",
       "      <td>50000</td>\n",
       "      <td>1</td>\n",
       "      <td>2</td>\n",
       "      <td>1</td>\n",
       "      <td>57</td>\n",
       "      <td>-1</td>\n",
       "      <td>0</td>\n",
       "      <td>-1</td>\n",
       "      <td>0</td>\n",
       "      <td>0</td>\n",
       "      <td>...</td>\n",
       "      <td>35835</td>\n",
       "      <td>20940</td>\n",
       "      <td>19146</td>\n",
       "      <td>19131</td>\n",
       "      <td>2000</td>\n",
       "      <td>36681</td>\n",
       "      <td>10000</td>\n",
       "      <td>9000</td>\n",
       "      <td>689</td>\n",
       "      <td>679</td>\n",
       "    </tr>\n",
       "  </tbody>\n",
       "</table>\n",
       "<p>5 rows × 23 columns</p>\n",
       "</div>"
      ],
      "text/plain": [
       "   limit_bal  sex  education  marriage  age  pay_0  pay_2  pay_3  pay_4  \\\n",
       "0      20000    2          2         1   24      2      2     -1     -1   \n",
       "1     120000    2          2         2   26     -1      2      0      0   \n",
       "2      90000    2          2         2   34      0      0      0      0   \n",
       "3      50000    2          2         1   37      0      0      0      0   \n",
       "4      50000    1          2         1   57     -1      0     -1      0   \n",
       "\n",
       "   pay_5  ...  bill_amt3  bill_amt4  bill_amt5  bill_amt6  pay_amt1  pay_amt2  \\\n",
       "0     -2  ...        689          0          0          0         0       689   \n",
       "1      0  ...       2682       3272       3455       3261         0      1000   \n",
       "2      0  ...      13559      14331      14948      15549      1518      1500   \n",
       "3      0  ...      49291      28314      28959      29547      2000      2019   \n",
       "4      0  ...      35835      20940      19146      19131      2000     36681   \n",
       "\n",
       "   pay_amt3  pay_amt4  pay_amt5  pay_amt6  \n",
       "0         0         0         0         0  \n",
       "1      1000      1000         0      2000  \n",
       "2      1000      1000      1000      5000  \n",
       "3      1200      1100      1069      1000  \n",
       "4     10000      9000       689       679  \n",
       "\n",
       "[5 rows x 23 columns]"
      ]
     },
     "execution_count": 15,
     "metadata": {},
     "output_type": "execute_result"
    }
   ],
   "source": [
    "X.head()"
   ]
  },
  {
   "cell_type": "code",
   "execution_count": 99,
   "metadata": {
    "ExecuteTime": {
     "end_time": "2023-10-19T14:39:36.602298Z",
     "start_time": "2023-10-19T14:39:36.592292Z"
    },
    "hidden": true
   },
   "outputs": [],
   "source": [
    "cat_features = ['sex','education','marriage']"
   ]
  },
  {
   "cell_type": "code",
   "execution_count": 100,
   "metadata": {
    "ExecuteTime": {
     "end_time": "2023-10-19T14:39:37.052295Z",
     "start_time": "2023-10-19T14:39:37.040299Z"
    },
    "hidden": true
   },
   "outputs": [
    {
     "data": {
      "text/plain": [
       "['limit_bal',\n",
       " 'age',\n",
       " 'bill_amt1',\n",
       " 'bill_amt2',\n",
       " 'bill_amt3',\n",
       " 'bill_amt4',\n",
       " 'bill_amt5',\n",
       " 'bill_amt6',\n",
       " 'pay_amt1',\n",
       " 'pay_amt2',\n",
       " 'pay_amt3',\n",
       " 'pay_amt4',\n",
       " 'pay_amt5',\n",
       " 'pay_amt6']"
      ]
     },
     "execution_count": 100,
     "metadata": {},
     "output_type": "execute_result"
    }
   ],
   "source": [
    "num_features = list(X.drop(['sex','education','marriage','pay_0','pay_2','pay_3','pay_4','pay_5','pay_6'], axis=1).columns)\n",
    "num_features"
   ]
  },
  {
   "cell_type": "code",
   "execution_count": 101,
   "metadata": {
    "ExecuteTime": {
     "end_time": "2023-10-19T14:39:45.252294Z",
     "start_time": "2023-10-19T14:39:45.239295Z"
    },
    "hidden": true
   },
   "outputs": [],
   "source": [
    "# We'll throw these mini-pipelines into our ColumnTransformer.\n",
    "\n",
    "subpipe_num = Pipeline(steps=[\n",
    "    ('num_impute', SimpleImputer(strategy='median')),\n",
    "    ('ss', StandardScaler())])\n",
    "\n",
    "subpipe_cat = Pipeline(steps=[\n",
    "    ('cat_impute', SimpleImputer(strategy='most_frequent')),\n",
    "    ('ohe', OneHotEncoder(sparse=False, handle_unknown='ignore'))])"
   ]
  },
  {
   "cell_type": "code",
   "execution_count": 102,
   "metadata": {
    "ExecuteTime": {
     "end_time": "2023-10-19T14:39:45.674293Z",
     "start_time": "2023-10-19T14:39:45.667295Z"
    },
    "hidden": true
   },
   "outputs": [],
   "source": [
    "# The \"remainder='passthrough'\" bit tells the compiler to leave\n",
    "# the other df columns unchanged.\n",
    "\n",
    "CT = ColumnTransformer(transformers=[\n",
    "        ('subpipe_num', subpipe_num, num_features),\n",
    "        ('subpipe_cat', subpipe_cat, cat_features)], remainder='passthrough')"
   ]
  },
  {
   "cell_type": "code",
   "execution_count": 103,
   "metadata": {
    "ExecuteTime": {
     "end_time": "2023-10-19T14:40:00.962294Z",
     "start_time": "2023-10-19T14:40:00.845296Z"
    },
    "hidden": true
   },
   "outputs": [
    {
     "data": {
      "text/plain": [
       "(19920, 33)"
      ]
     },
     "execution_count": 103,
     "metadata": {},
     "output_type": "execute_result"
    }
   ],
   "source": [
    "CT.fit_transform(X_train).shape"
   ]
  },
  {
   "cell_type": "markdown",
   "metadata": {},
   "source": [
    "## Image Data"
   ]
  },
  {
   "cell_type": "code",
   "execution_count": 129,
   "metadata": {
    "ExecuteTime": {
     "end_time": "2023-10-19T14:56:09.061972Z",
     "start_time": "2023-10-19T14:56:08.563977Z"
    }
   },
   "outputs": [],
   "source": [
    "(X_train, y_train), (X_test, y_test) = mnist.load_data()"
   ]
  },
  {
   "cell_type": "code",
   "execution_count": 130,
   "metadata": {
    "ExecuteTime": {
     "end_time": "2023-10-19T14:56:09.278972Z",
     "start_time": "2023-10-19T14:56:09.065972Z"
    },
    "scrolled": false
   },
   "outputs": [
    {
     "data": {
      "text/plain": [
       "<matplotlib.image.AxesImage at 0x23133744310>"
      ]
     },
     "execution_count": 130,
     "metadata": {},
     "output_type": "execute_result"
    },
    {
     "data": {
      "image/png": "[encoded data removed]",
      "text/plain": [
       "<Figure size 432x288 with 1 Axes>"
      ]
     },
     "metadata": {
      "needs_background": "light"
     },
     "output_type": "display_data"
    }
   ],
   "source": [
    "plt.imshow(X_train[0], cmap='gray')"
   ]
  },
  {
   "cell_type": "code",
   "execution_count": 131,
   "metadata": {
    "ExecuteTime": {
     "end_time": "2023-10-19T14:56:09.675970Z",
     "start_time": "2023-10-19T14:56:09.663972Z"
    },
    "scrolled": true
   },
   "outputs": [
    {
     "data": {
      "text/plain": [
       "255"
      ]
     },
     "execution_count": 131,
     "metadata": {},
     "output_type": "execute_result"
    }
   ],
   "source": [
    "np.max(X_train[0])"
   ]
  },
  {
   "cell_type": "code",
   "execution_count": 132,
   "metadata": {
    "ExecuteTime": {
     "end_time": "2023-10-19T14:56:10.340973Z",
     "start_time": "2023-10-19T14:56:09.850971Z"
    }
   },
   "outputs": [],
   "source": [
    "X = (np.vstack( (X_train.reshape(X_train.shape[0],-1), X_test.reshape(X_test.shape[0],-1)))) / 255"
   ]
  },
  {
   "cell_type": "code",
   "execution_count": 133,
   "metadata": {
    "ExecuteTime": {
     "end_time": "2023-10-19T14:56:10.528969Z",
     "start_time": "2023-10-19T14:56:10.516973Z"
    }
   },
   "outputs": [],
   "source": [
    "y = np.hstack( (y_train, y_test))\n",
    "y = y % 2"
   ]
  },
  {
   "cell_type": "code",
   "execution_count": 134,
   "metadata": {
    "ExecuteTime": {
     "end_time": "2023-10-19T14:56:10.763971Z",
     "start_time": "2023-10-19T14:56:10.751970Z"
    }
   },
   "outputs": [
    {
     "data": {
      "text/plain": [
       "(70000, 784)"
      ]
     },
     "execution_count": 134,
     "metadata": {},
     "output_type": "execute_result"
    }
   ],
   "source": [
    "X.shape"
   ]
  },
  {
   "cell_type": "code",
   "execution_count": 135,
   "metadata": {
    "ExecuteTime": {
     "end_time": "2023-10-19T14:56:10.950974Z",
     "start_time": "2023-10-19T14:56:10.937975Z"
    }
   },
   "outputs": [],
   "source": [
    "X = X[:10_000]\n",
    "y = y[:10_000]"
   ]
  },
  {
   "cell_type": "code",
   "execution_count": 136,
   "metadata": {
    "ExecuteTime": {
     "end_time": "2023-10-19T14:56:11.202969Z",
     "start_time": "2023-10-19T14:56:11.129972Z"
    }
   },
   "outputs": [],
   "source": [
    "# Create holdout/validation set\n",
    "X_tt, X_val, y_tt, y_val = train_test_split(X, y, test_size=.17, random_state=42)"
   ]
  },
  {
   "cell_type": "code",
   "execution_count": 137,
   "metadata": {
    "ExecuteTime": {
     "end_time": "2023-10-19T14:56:11.436971Z",
     "start_time": "2023-10-19T14:56:11.363971Z"
    },
    "scrolled": false
   },
   "outputs": [],
   "source": [
    "# Create Train Test Split for modeling\n",
    "X_train, X_test, y_train, y_test = train_test_split(X_tt, y_tt, test_size=.2, random_state=42)"
   ]
  },
  {
   "cell_type": "code",
   "execution_count": 138,
   "metadata": {
    "ExecuteTime": {
     "end_time": "2023-10-19T14:56:12.165971Z",
     "start_time": "2023-10-19T14:56:12.152971Z"
    }
   },
   "outputs": [
    {
     "name": "stdout",
     "output_type": "stream",
     "text": [
      "Total Shape:   (10000, 784)\n",
      "Train Shape:   (6639, 784)\n",
      "Test Shape:    (1660, 784)\n",
      "Holdout Shape: (1701, 784)\n"
     ]
    }
   ],
   "source": [
    "# Check Sizes:\n",
    "print(f'Total Shape:   {X.shape}')\n",
    "print(f'Train Shape:   {X_train.shape}')\n",
    "print(f'Test Shape:    {X_test.shape}')\n",
    "print(f'Holdout Shape: {X_val.shape}')"
   ]
  },
  {
   "cell_type": "code",
   "execution_count": 139,
   "metadata": {
    "ExecuteTime": {
     "end_time": "2023-10-19T14:56:12.709971Z",
     "start_time": "2023-10-19T14:56:12.681972Z"
    }
   },
   "outputs": [
    {
     "name": "stdout",
     "output_type": "stream",
     "text": [
      "Total target: \n",
      "1    0.507\n",
      "0    0.493\n",
      "dtype: float64\n",
      "\n",
      "Total train: \n",
      "1    0.510619\n",
      "0    0.489381\n",
      "dtype: float64\n",
      "\n",
      "Total test: \n",
      "1    0.501807\n",
      "0    0.498193\n",
      "dtype: float64\n",
      "\n",
      "Total val: \n",
      "0    0.502058\n",
      "1    0.497942\n",
      "dtype: float64\n",
      "\n"
     ]
    }
   ],
   "source": [
    "# Check distributions\n",
    "print(f'Total target: \\n{pd.Series(y).value_counts(normalize=True)}\\n')\n",
    "print(f'Total train: \\n{pd.Series(y_train).value_counts(normalize=True)}\\n')\n",
    "print(f'Total test: \\n{pd.Series(y_test).value_counts(normalize=True)}\\n')\n",
    "print(f'Total val: \\n{pd.Series(y_val).value_counts(normalize=True)}\\n')"
   ]
  },
  {
   "cell_type": "markdown",
   "metadata": {},
   "source": [
    "## Dummy"
   ]
  },
  {
   "cell_type": "code",
   "execution_count": 16,
   "metadata": {
    "ExecuteTime": {
     "end_time": "2023-10-19T14:11:20.420258Z",
     "start_time": "2023-10-19T14:11:20.390260Z"
    }
   },
   "outputs": [
    {
     "ename": "NameError",
     "evalue": "name 'CT' is not defined",
     "output_type": "error",
     "traceback": [
      "\u001b[1;31m---------------------------------------------------------------------------\u001b[0m",
      "\u001b[1;31mNameError\u001b[0m                                 Traceback (most recent call last)",
      "\u001b[1;32m~\\AppData\\Local\\Temp/ipykernel_2760/3222353884.py\u001b[0m in \u001b[0;36m<module>\u001b[1;34m\u001b[0m\n\u001b[0;32m      1\u001b[0m \u001b[1;31m# Baseline Step1\u001b[0m\u001b[1;33m\u001b[0m\u001b[1;33m\u001b[0m\u001b[0m\n\u001b[0;32m      2\u001b[0m \u001b[1;33m\u001b[0m\u001b[0m\n\u001b[1;32m----> 3\u001b[1;33m dummy_model_pipe = Pipeline(steps=[('ct', CT),\n\u001b[0m\u001b[0;32m      4\u001b[0m                             ('dummy', DummyClassifier(strategy='most_frequent'))])\n",
      "\u001b[1;31mNameError\u001b[0m: name 'CT' is not defined"
     ]
    }
   ],
   "source": [
    "# Baseline Step1 \n",
    "\n",
    "# dummy_model_pipe = Pipeline(steps=[('ct', CT),\n",
    "#                             ('dummy', DummyClassifier(strategy='most_frequent'))])"
   ]
  },
  {
   "cell_type": "code",
   "execution_count": 17,
   "metadata": {
    "ExecuteTime": {
     "end_time": "2023-10-19T14:11:35.303257Z",
     "start_time": "2023-10-19T14:11:35.286257Z"
    }
   },
   "outputs": [],
   "source": [
    "# Data2\n",
    "dummy_model_pipe = Pipeline(steps=[('dummy', DummyClassifier(strategy='most_frequent'))])"
   ]
  },
  {
   "cell_type": "code",
   "execution_count": 18,
   "metadata": {
    "ExecuteTime": {
     "end_time": "2023-10-19T14:11:35.927256Z",
     "start_time": "2023-10-19T14:11:35.910287Z"
    }
   },
   "outputs": [
    {
     "data": {
      "text/plain": [
       "Pipeline(steps=[('dummy', DummyClassifier(strategy='most_frequent'))])"
      ]
     },
     "execution_count": 18,
     "metadata": {},
     "output_type": "execute_result"
    }
   ],
   "source": [
    "dummy_model_pipe.fit(X_train, y_train)"
   ]
  },
  {
   "cell_type": "code",
   "execution_count": 19,
   "metadata": {
    "ExecuteTime": {
     "end_time": "2023-10-19T14:11:36.530286Z",
     "start_time": "2023-10-19T14:11:36.511257Z"
    }
   },
   "outputs": [],
   "source": [
    "model_dict = ModelStorer()"
   ]
  },
  {
   "cell_type": "code",
   "execution_count": 20,
   "metadata": {
    "ExecuteTime": {
     "end_time": "2023-10-19T14:11:37.072258Z",
     "start_time": "2023-10-19T14:11:37.066256Z"
    }
   },
   "outputs": [],
   "source": [
    "dummy_results = SaveModel(model=dummy_model_pipe, \n",
    "                          model_name='dummy',\n",
    "                          X_train=X_train,\n",
    "                          X_test=X_test,\n",
    "                          y_train=y_train,\n",
    "                          y_test=y_test,\n",
    "                          X_tt=X_tt,\n",
    "                          y_tt=y_tt,\n",
    "                          X_val=X_val,\n",
    "                          y_val=y_val)"
   ]
  },
  {
   "cell_type": "code",
   "execution_count": 21,
   "metadata": {
    "ExecuteTime": {
     "end_time": "2023-10-19T14:11:37.598257Z",
     "start_time": "2023-10-19T14:11:37.578259Z"
    }
   },
   "outputs": [],
   "source": [
    "dummy_results.score_model_train_test()"
   ]
  },
  {
   "cell_type": "code",
   "execution_count": 22,
   "metadata": {
    "ExecuteTime": {
     "end_time": "2023-10-19T14:11:38.181305Z",
     "start_time": "2023-10-19T14:11:38.161258Z"
    }
   },
   "outputs": [],
   "source": [
    "model_dict.add_model(dummy_results)"
   ]
  },
  {
   "cell_type": "code",
   "execution_count": 23,
   "metadata": {
    "ExecuteTime": {
     "end_time": "2023-10-19T14:11:38.722257Z",
     "start_time": "2023-10-19T14:11:38.606258Z"
    }
   },
   "outputs": [
    {
     "data": {
      "image/png": "[encoded data removed]",
      "text/plain": [
       "<Figure size 432x432 with 1 Axes>"
      ]
     },
     "metadata": {
      "needs_background": "light"
     },
     "output_type": "display_data"
    }
   ],
   "source": [
    "model_dict.plot_models_roc_curves()"
   ]
  },
  {
   "cell_type": "code",
   "execution_count": 24,
   "metadata": {
    "ExecuteTime": {
     "end_time": "2023-10-19T14:11:41.525168Z",
     "start_time": "2023-10-19T14:11:41.503169Z"
    }
   },
   "outputs": [
    {
     "data": {
      "text/html": [
       "<div>\n",
       "<style scoped>\n",
       "    .dataframe tbody tr th:only-of-type {\n",
       "        vertical-align: middle;\n",
       "    }\n",
       "\n",
       "    .dataframe tbody tr th {\n",
       "        vertical-align: top;\n",
       "    }\n",
       "\n",
       "    .dataframe thead th {\n",
       "        text-align: right;\n",
       "    }\n",
       "</style>\n",
       "<table border=\"1\" class=\"dataframe\">\n",
       "  <thead>\n",
       "    <tr style=\"text-align: right;\">\n",
       "      <th></th>\n",
       "      <th>model</th>\n",
       "      <th>dataset</th>\n",
       "      <th>metric</th>\n",
       "      <th>value</th>\n",
       "    </tr>\n",
       "  </thead>\n",
       "  <tbody>\n",
       "    <tr>\n",
       "      <th>0</th>\n",
       "      <td>dummy</td>\n",
       "      <td>train</td>\n",
       "      <td>accuracy_score</td>\n",
       "      <td>0.510619</td>\n",
       "    </tr>\n",
       "    <tr>\n",
       "      <th>4</th>\n",
       "      <td>dummy</td>\n",
       "      <td>test</td>\n",
       "      <td>accuracy_score</td>\n",
       "      <td>0.501807</td>\n",
       "    </tr>\n",
       "  </tbody>\n",
       "</table>\n",
       "</div>"
      ],
      "text/plain": [
       "   model dataset          metric     value\n",
       "0  dummy   train  accuracy_score  0.510619\n",
       "4  dummy    test  accuracy_score  0.501807"
      ]
     },
     "metadata": {},
     "output_type": "display_data"
    }
   ],
   "source": [
    "model_dict.print_scores('accuracy_score')"
   ]
  },
  {
   "cell_type": "markdown",
   "metadata": {},
   "source": [
    "## FSM"
   ]
  },
  {
   "cell_type": "code",
   "execution_count": null,
   "metadata": {
    "ExecuteTime": {
     "end_time": "2023-10-16T04:47:39.769210Z",
     "start_time": "2023-10-16T04:47:39.755211Z"
    }
   },
   "outputs": [],
   "source": [
    "# Step 2\n",
    "# The `ColumnTransformer` will take care of our preprocessing,\n",
    "# so now we can add our model at the end of the pipeline.\n",
    "# Upped max iter to get rid of error\n",
    "\n",
    "fsm_pipe = Pipeline(steps=[('ct', CT),  \n",
    "                            ('logreg', LogisticRegression(max_iter=1000, random_state=42))])"
   ]
  },
  {
   "cell_type": "code",
   "execution_count": 25,
   "metadata": {
    "ExecuteTime": {
     "end_time": "2023-10-19T14:11:43.901270Z",
     "start_time": "2023-10-19T14:11:43.889270Z"
    }
   },
   "outputs": [],
   "source": [
    "fsm_pipe = Pipeline(steps=[('logreg', LogisticRegression(max_iter=1000, random_state=42))])"
   ]
  },
  {
   "cell_type": "code",
   "execution_count": 26,
   "metadata": {
    "ExecuteTime": {
     "end_time": "2023-10-19T14:11:44.551271Z",
     "start_time": "2023-10-19T14:11:44.543273Z"
    }
   },
   "outputs": [],
   "source": [
    "fsm_results = SaveModel(model=fsm_pipe, \n",
    "                          model_name='fsm',\n",
    "                          X_train=X_train,\n",
    "                          X_test=X_test,\n",
    "                          y_train=y_train,\n",
    "                          y_test=y_test,\n",
    "                          X_tt=X_tt,\n",
    "                          y_tt=y_tt,\n",
    "                          X_val=X_val,\n",
    "                          y_val=y_val)"
   ]
  },
  {
   "cell_type": "code",
   "execution_count": 27,
   "metadata": {
    "ExecuteTime": {
     "end_time": "2023-10-19T14:11:46.739904Z",
     "start_time": "2023-10-19T14:11:45.089935Z"
    }
   },
   "outputs": [],
   "source": [
    "fsm_results.score_model_train_test()"
   ]
  },
  {
   "cell_type": "code",
   "execution_count": 28,
   "metadata": {
    "ExecuteTime": {
     "end_time": "2023-10-19T14:11:46.770905Z",
     "start_time": "2023-10-19T14:11:46.756905Z"
    }
   },
   "outputs": [],
   "source": [
    "model_dict.add_model(fsm_results)"
   ]
  },
  {
   "cell_type": "code",
   "execution_count": 29,
   "metadata": {
    "ExecuteTime": {
     "end_time": "2023-10-19T14:11:46.940906Z",
     "start_time": "2023-10-19T14:11:46.787906Z"
    }
   },
   "outputs": [
    {
     "data": {
      "image/png": "[encoded data removed]",
      "text/plain": [
       "<Figure size 432x432 with 1 Axes>"
      ]
     },
     "metadata": {
      "needs_background": "light"
     },
     "output_type": "display_data"
    }
   ],
   "source": [
    " model_dict.plot_models_roc_curves()"
   ]
  },
  {
   "cell_type": "code",
   "execution_count": 30,
   "metadata": {
    "ExecuteTime": {
     "end_time": "2023-10-19T14:11:47.018905Z",
     "start_time": "2023-10-19T14:11:47.006906Z"
    }
   },
   "outputs": [
    {
     "data": {
      "text/html": [
       "<div>\n",
       "<style scoped>\n",
       "    .dataframe tbody tr th:only-of-type {\n",
       "        vertical-align: middle;\n",
       "    }\n",
       "\n",
       "    .dataframe tbody tr th {\n",
       "        vertical-align: top;\n",
       "    }\n",
       "\n",
       "    .dataframe thead th {\n",
       "        text-align: right;\n",
       "    }\n",
       "</style>\n",
       "<table border=\"1\" class=\"dataframe\">\n",
       "  <thead>\n",
       "    <tr style=\"text-align: right;\">\n",
       "      <th></th>\n",
       "      <th>model</th>\n",
       "      <th>dataset</th>\n",
       "      <th>metric</th>\n",
       "      <th>value</th>\n",
       "    </tr>\n",
       "  </thead>\n",
       "  <tbody>\n",
       "    <tr>\n",
       "      <th>0</th>\n",
       "      <td>dummy</td>\n",
       "      <td>train</td>\n",
       "      <td>accuracy_score</td>\n",
       "      <td>0.510619</td>\n",
       "    </tr>\n",
       "    <tr>\n",
       "      <th>4</th>\n",
       "      <td>dummy</td>\n",
       "      <td>test</td>\n",
       "      <td>accuracy_score</td>\n",
       "      <td>0.501807</td>\n",
       "    </tr>\n",
       "    <tr>\n",
       "      <th>0</th>\n",
       "      <td>fsm</td>\n",
       "      <td>train</td>\n",
       "      <td>accuracy_score</td>\n",
       "      <td>0.918512</td>\n",
       "    </tr>\n",
       "    <tr>\n",
       "      <th>4</th>\n",
       "      <td>fsm</td>\n",
       "      <td>test</td>\n",
       "      <td>accuracy_score</td>\n",
       "      <td>0.885542</td>\n",
       "    </tr>\n",
       "  </tbody>\n",
       "</table>\n",
       "</div>"
      ],
      "text/plain": [
       "   model dataset          metric     value\n",
       "0  dummy   train  accuracy_score  0.510619\n",
       "4  dummy    test  accuracy_score  0.501807\n",
       "0    fsm   train  accuracy_score  0.918512\n",
       "4    fsm    test  accuracy_score  0.885542"
      ]
     },
     "metadata": {},
     "output_type": "display_data"
    }
   ],
   "source": [
    "model_dict.print_scores()"
   ]
  },
  {
   "cell_type": "markdown",
   "metadata": {},
   "source": [
    "## Trying Other Models at the End of the Pipeline"
   ]
  },
  {
   "cell_type": "markdown",
   "metadata": {},
   "source": [
    "Can I have multiple models in a single pipeline? Yes. We'll forgo this here, but for more on this see [here](https://stackoverflow.com/questions/48507651/multiple-classification-models-in-a-scikit-pipeline-python)."
   ]
  },
  {
   "cell_type": "markdown",
   "metadata": {},
   "source": [
    "### kNN"
   ]
  },
  {
   "cell_type": "code",
   "execution_count": null,
   "metadata": {
    "ExecuteTime": {
     "end_time": "2023-10-16T04:47:41.198210Z",
     "start_time": "2023-10-16T04:47:41.183211Z"
    }
   },
   "outputs": [],
   "source": [
    "knn_pipe = Pipeline([('ct',CT),('knn',KNeighborsClassifier())])"
   ]
  },
  {
   "cell_type": "code",
   "execution_count": 31,
   "metadata": {
    "ExecuteTime": {
     "end_time": "2023-10-19T14:11:58.020839Z",
     "start_time": "2023-10-19T14:11:58.004840Z"
    }
   },
   "outputs": [],
   "source": [
    "knn_pipe = Pipeline([('knn',KNeighborsClassifier())])"
   ]
  },
  {
   "cell_type": "code",
   "execution_count": 32,
   "metadata": {
    "ExecuteTime": {
     "end_time": "2023-10-19T14:11:58.476839Z",
     "start_time": "2023-10-19T14:11:58.457839Z"
    }
   },
   "outputs": [],
   "source": [
    "knn_results = SaveModel(model=knn_pipe, \n",
    "                          model_name='knn',\n",
    "                          X_train=X_train,\n",
    "                          X_test=X_test,\n",
    "                          y_train=y_train,\n",
    "                          y_test=y_test,\n",
    "                          X_tt=X_tt,\n",
    "                          y_tt=y_tt,\n",
    "                          X_val=X_val,\n",
    "                          y_val=y_val)"
   ]
  },
  {
   "cell_type": "code",
   "execution_count": 33,
   "metadata": {
    "ExecuteTime": {
     "end_time": "2023-10-19T14:12:00.589840Z",
     "start_time": "2023-10-19T14:11:58.877840Z"
    }
   },
   "outputs": [],
   "source": [
    "knn_results.score_model_train_test()"
   ]
  },
  {
   "cell_type": "code",
   "execution_count": 34,
   "metadata": {
    "ExecuteTime": {
     "end_time": "2023-10-19T14:12:00.621840Z",
     "start_time": "2023-10-19T14:12:00.606842Z"
    }
   },
   "outputs": [],
   "source": [
    "model_dict.add_model(knn_results)"
   ]
  },
  {
   "cell_type": "code",
   "execution_count": 35,
   "metadata": {
    "ExecuteTime": {
     "end_time": "2023-10-19T14:12:01.991840Z",
     "start_time": "2023-10-19T14:12:00.637839Z"
    }
   },
   "outputs": [
    {
     "data": {
      "image/png": "[encoded data removed]",
      "text/plain": [
       "<Figure size 432x432 with 1 Axes>"
      ]
     },
     "metadata": {
      "needs_background": "light"
     },
     "output_type": "display_data"
    }
   ],
   "source": [
    "model_dict.plot_models_roc_curves()"
   ]
  },
  {
   "cell_type": "code",
   "execution_count": 36,
   "metadata": {
    "ExecuteTime": {
     "end_time": "2023-10-19T14:12:02.039839Z",
     "start_time": "2023-10-19T14:12:02.017842Z"
    }
   },
   "outputs": [
    {
     "data": {
      "text/html": [
       "<div>\n",
       "<style scoped>\n",
       "    .dataframe tbody tr th:only-of-type {\n",
       "        vertical-align: middle;\n",
       "    }\n",
       "\n",
       "    .dataframe tbody tr th {\n",
       "        vertical-align: top;\n",
       "    }\n",
       "\n",
       "    .dataframe thead th {\n",
       "        text-align: right;\n",
       "    }\n",
       "</style>\n",
       "<table border=\"1\" class=\"dataframe\">\n",
       "  <thead>\n",
       "    <tr style=\"text-align: right;\">\n",
       "      <th></th>\n",
       "      <th>model</th>\n",
       "      <th>dataset</th>\n",
       "      <th>metric</th>\n",
       "      <th>value</th>\n",
       "    </tr>\n",
       "  </thead>\n",
       "  <tbody>\n",
       "    <tr>\n",
       "      <th>0</th>\n",
       "      <td>dummy</td>\n",
       "      <td>train</td>\n",
       "      <td>accuracy_score</td>\n",
       "      <td>0.510619</td>\n",
       "    </tr>\n",
       "    <tr>\n",
       "      <th>4</th>\n",
       "      <td>dummy</td>\n",
       "      <td>test</td>\n",
       "      <td>accuracy_score</td>\n",
       "      <td>0.501807</td>\n",
       "    </tr>\n",
       "    <tr>\n",
       "      <th>0</th>\n",
       "      <td>fsm</td>\n",
       "      <td>train</td>\n",
       "      <td>accuracy_score</td>\n",
       "      <td>0.918512</td>\n",
       "    </tr>\n",
       "    <tr>\n",
       "      <th>4</th>\n",
       "      <td>fsm</td>\n",
       "      <td>test</td>\n",
       "      <td>accuracy_score</td>\n",
       "      <td>0.885542</td>\n",
       "    </tr>\n",
       "    <tr>\n",
       "      <th>0</th>\n",
       "      <td>knn</td>\n",
       "      <td>train</td>\n",
       "      <td>accuracy_score</td>\n",
       "      <td>0.975900</td>\n",
       "    </tr>\n",
       "    <tr>\n",
       "      <th>4</th>\n",
       "      <td>knn</td>\n",
       "      <td>test</td>\n",
       "      <td>accuracy_score</td>\n",
       "      <td>0.971084</td>\n",
       "    </tr>\n",
       "  </tbody>\n",
       "</table>\n",
       "</div>"
      ],
      "text/plain": [
       "   model dataset          metric     value\n",
       "0  dummy   train  accuracy_score  0.510619\n",
       "4  dummy    test  accuracy_score  0.501807\n",
       "0    fsm   train  accuracy_score  0.918512\n",
       "4    fsm    test  accuracy_score  0.885542\n",
       "0    knn   train  accuracy_score  0.975900\n",
       "4    knn    test  accuracy_score  0.971084"
      ]
     },
     "metadata": {},
     "output_type": "display_data"
    }
   ],
   "source": [
    "model_dict.print_scores('accuracy_score')"
   ]
  },
  {
   "cell_type": "markdown",
   "metadata": {},
   "source": [
    "### Decision Tree"
   ]
  },
  {
   "cell_type": "code",
   "execution_count": null,
   "metadata": {
    "ExecuteTime": {
     "end_time": "2023-10-16T04:47:58.162904Z",
     "start_time": "2023-10-16T04:47:58.147903Z"
    }
   },
   "outputs": [],
   "source": [
    "dtc = DecisionTreeClassifier(random_state=42)\n",
    "\n",
    "dtc_pipe = Pipeline([('ct', CT), ('dtc', dtc)])"
   ]
  },
  {
   "cell_type": "code",
   "execution_count": 37,
   "metadata": {
    "ExecuteTime": {
     "end_time": "2023-10-19T14:12:16.502841Z",
     "start_time": "2023-10-19T14:12:16.497840Z"
    }
   },
   "outputs": [],
   "source": [
    "dtc = DecisionTreeClassifier(random_state=42)\n",
    "dtc_pipe = Pipeline([('dtc', dtc)])"
   ]
  },
  {
   "cell_type": "code",
   "execution_count": 38,
   "metadata": {
    "ExecuteTime": {
     "end_time": "2023-10-19T14:12:17.316841Z",
     "start_time": "2023-10-19T14:12:17.302841Z"
    }
   },
   "outputs": [],
   "source": [
    "dtc_results = SaveModel(model=dtc_pipe, \n",
    "                          model_name='dtc',\n",
    "                          X_train=X_train,\n",
    "                          X_test=X_test,\n",
    "                          y_train=y_train,\n",
    "                          y_test=y_test,\n",
    "                          X_tt=X_tt,\n",
    "                          y_tt=y_tt,\n",
    "                          X_val=X_val,\n",
    "                          y_val=y_val)"
   ]
  },
  {
   "cell_type": "code",
   "execution_count": 39,
   "metadata": {
    "ExecuteTime": {
     "end_time": "2023-10-19T14:12:19.158840Z",
     "start_time": "2023-10-19T14:12:17.706841Z"
    }
   },
   "outputs": [],
   "source": [
    "dtc_results.score_model_train_test()"
   ]
  },
  {
   "cell_type": "code",
   "execution_count": 40,
   "metadata": {
    "ExecuteTime": {
     "end_time": "2023-10-19T14:12:19.190840Z",
     "start_time": "2023-10-19T14:12:19.176842Z"
    }
   },
   "outputs": [],
   "source": [
    "model_dict.add_model(dtc_results)"
   ]
  },
  {
   "cell_type": "code",
   "execution_count": 41,
   "metadata": {
    "ExecuteTime": {
     "end_time": "2023-10-19T14:12:20.713840Z",
     "start_time": "2023-10-19T14:12:19.207839Z"
    }
   },
   "outputs": [
    {
     "data": {
      "image/png": "[encoded data removed]",
      "text/plain": [
       "<Figure size 432x432 with 1 Axes>"
      ]
     },
     "metadata": {
      "needs_background": "light"
     },
     "output_type": "display_data"
    }
   ],
   "source": [
    "model_dict.plot_models_roc_curves()"
   ]
  },
  {
   "cell_type": "code",
   "execution_count": 42,
   "metadata": {
    "ExecuteTime": {
     "end_time": "2023-10-19T14:12:20.745840Z",
     "start_time": "2023-10-19T14:12:20.732841Z"
    }
   },
   "outputs": [
    {
     "data": {
      "text/html": [
       "<div>\n",
       "<style scoped>\n",
       "    .dataframe tbody tr th:only-of-type {\n",
       "        vertical-align: middle;\n",
       "    }\n",
       "\n",
       "    .dataframe tbody tr th {\n",
       "        vertical-align: top;\n",
       "    }\n",
       "\n",
       "    .dataframe thead th {\n",
       "        text-align: right;\n",
       "    }\n",
       "</style>\n",
       "<table border=\"1\" class=\"dataframe\">\n",
       "  <thead>\n",
       "    <tr style=\"text-align: right;\">\n",
       "      <th></th>\n",
       "      <th>model</th>\n",
       "      <th>dataset</th>\n",
       "      <th>metric</th>\n",
       "      <th>value</th>\n",
       "    </tr>\n",
       "  </thead>\n",
       "  <tbody>\n",
       "    <tr>\n",
       "      <th>0</th>\n",
       "      <td>dummy</td>\n",
       "      <td>train</td>\n",
       "      <td>accuracy_score</td>\n",
       "      <td>0.510619</td>\n",
       "    </tr>\n",
       "    <tr>\n",
       "      <th>4</th>\n",
       "      <td>dummy</td>\n",
       "      <td>test</td>\n",
       "      <td>accuracy_score</td>\n",
       "      <td>0.501807</td>\n",
       "    </tr>\n",
       "    <tr>\n",
       "      <th>0</th>\n",
       "      <td>fsm</td>\n",
       "      <td>train</td>\n",
       "      <td>accuracy_score</td>\n",
       "      <td>0.918512</td>\n",
       "    </tr>\n",
       "    <tr>\n",
       "      <th>4</th>\n",
       "      <td>fsm</td>\n",
       "      <td>test</td>\n",
       "      <td>accuracy_score</td>\n",
       "      <td>0.885542</td>\n",
       "    </tr>\n",
       "    <tr>\n",
       "      <th>0</th>\n",
       "      <td>knn</td>\n",
       "      <td>train</td>\n",
       "      <td>accuracy_score</td>\n",
       "      <td>0.975900</td>\n",
       "    </tr>\n",
       "    <tr>\n",
       "      <th>4</th>\n",
       "      <td>knn</td>\n",
       "      <td>test</td>\n",
       "      <td>accuracy_score</td>\n",
       "      <td>0.971084</td>\n",
       "    </tr>\n",
       "    <tr>\n",
       "      <th>0</th>\n",
       "      <td>dtc</td>\n",
       "      <td>train</td>\n",
       "      <td>accuracy_score</td>\n",
       "      <td>1.000000</td>\n",
       "    </tr>\n",
       "    <tr>\n",
       "      <th>4</th>\n",
       "      <td>dtc</td>\n",
       "      <td>test</td>\n",
       "      <td>accuracy_score</td>\n",
       "      <td>0.902410</td>\n",
       "    </tr>\n",
       "  </tbody>\n",
       "</table>\n",
       "</div>"
      ],
      "text/plain": [
       "   model dataset          metric     value\n",
       "0  dummy   train  accuracy_score  0.510619\n",
       "4  dummy    test  accuracy_score  0.501807\n",
       "0    fsm   train  accuracy_score  0.918512\n",
       "4    fsm    test  accuracy_score  0.885542\n",
       "0    knn   train  accuracy_score  0.975900\n",
       "4    knn    test  accuracy_score  0.971084\n",
       "0    dtc   train  accuracy_score  1.000000\n",
       "4    dtc    test  accuracy_score  0.902410"
      ]
     },
     "metadata": {},
     "output_type": "display_data"
    }
   ],
   "source": [
    "model_dict.print_scores()"
   ]
  },
  {
   "cell_type": "markdown",
   "metadata": {
    "ExecuteTime": {
     "end_time": "2023-10-16T04:22:02.406317Z",
     "start_time": "2023-10-16T04:22:02.391318Z"
    }
   },
   "source": [
    "### Let's do a bunch!"
   ]
  },
  {
   "cell_type": "code",
   "execution_count": 43,
   "metadata": {
    "ExecuteTime": {
     "end_time": "2023-10-19T14:12:36.113840Z",
     "start_time": "2023-10-19T14:12:36.101839Z"
    }
   },
   "outputs": [],
   "source": [
    "# Must be 'voting=soft' to work with roc\n",
    "\n",
    "vc = VotingClassifier(estimators=[\n",
    "    ('lr' , LogisticRegression(max_iter=1000, random_state=42)),\n",
    "    ('dt' , DecisionTreeClassifier(random_state=42)),\n",
    "    ('knn' , KNeighborsClassifier())\n",
    "], verbose=True, voting='soft')"
   ]
  },
  {
   "cell_type": "code",
   "execution_count": 44,
   "metadata": {
    "ExecuteTime": {
     "end_time": "2023-10-19T14:12:36.616839Z",
     "start_time": "2023-10-19T14:12:36.605840Z"
    }
   },
   "outputs": [],
   "source": [
    "bag = BaggingClassifier(random_state=42, verbose=1)"
   ]
  },
  {
   "cell_type": "code",
   "execution_count": 45,
   "metadata": {
    "ExecuteTime": {
     "end_time": "2023-10-19T14:12:37.092840Z",
     "start_time": "2023-10-19T14:12:37.081841Z"
    }
   },
   "outputs": [],
   "source": [
    "rf = RandomForestClassifier(random_state=42, verbose=1)"
   ]
  },
  {
   "cell_type": "code",
   "execution_count": 46,
   "metadata": {
    "ExecuteTime": {
     "end_time": "2023-10-19T14:12:37.599839Z",
     "start_time": "2023-10-19T14:12:37.584841Z"
    }
   },
   "outputs": [],
   "source": [
    "et = ExtraTreesClassifier(bootstrap=True, random_state=42, verbose=1)"
   ]
  },
  {
   "cell_type": "code",
   "execution_count": 47,
   "metadata": {
    "ExecuteTime": {
     "end_time": "2023-10-19T14:12:38.120840Z",
     "start_time": "2023-10-19T14:12:38.115840Z"
    }
   },
   "outputs": [],
   "source": [
    "sc = StackingClassifier(estimators = [\n",
    "    ('lr',LogisticRegression(max_iter=1000, random_state=42)),\n",
    "    ('dt', DecisionTreeClassifier(random_state=42)),\n",
    "    ('knn', KNeighborsClassifier()),\n",
    "    ('bag', BaggingClassifier(random_state=42)),\n",
    "    ('rf', RandomForestClassifier(random_state=42))\n",
    "], verbose=1)"
   ]
  },
  {
   "cell_type": "code",
   "execution_count": 48,
   "metadata": {
    "ExecuteTime": {
     "end_time": "2023-10-19T14:12:38.595840Z",
     "start_time": "2023-10-19T14:12:38.581841Z"
    }
   },
   "outputs": [],
   "source": [
    "model_list = [('voting',vc), ('bagging', bag), ('RandoCalForest',rf), ('ExtraTrees',et), ('stacking',sc)]"
   ]
  },
  {
   "cell_type": "code",
   "execution_count": 49,
   "metadata": {
    "ExecuteTime": {
     "end_time": "2023-10-19T14:14:29.255842Z",
     "start_time": "2023-10-19T14:13:01.544839Z"
    }
   },
   "outputs": [
    {
     "name": "stdout",
     "output_type": "stream",
     "text": [
      "Starting on model: voting\n",
      "[Voting] ....................... (1 of 3) Processing lr, total=   1.6s\n",
      "[Voting] ....................... (2 of 3) Processing dt, total=   1.3s\n",
      "[Voting] ...................... (3 of 3) Processing knn, total=   0.0s\n",
      "voting took 0:00:04.448001 to finish. \n",
      "\n",
      "Starting on model: bagging\n",
      "bagging took 0:00:08.992001 to finish. \n",
      "\n",
      "Starting on model: RandoCalForest\n"
     ]
    },
    {
     "name": "stderr",
     "output_type": "stream",
     "text": [
      "[Parallel(n_jobs=1)]: Done  49 tasks      | elapsed:    1.1s\n",
      "[Parallel(n_jobs=1)]: Done  49 tasks      | elapsed:    0.0s\n",
      "[Parallel(n_jobs=1)]: Done  49 tasks      | elapsed:    0.0s\n"
     ]
    },
    {
     "name": "stdout",
     "output_type": "stream",
     "text": [
      "RandoCalForest took 0:00:02.717998 to finish. \n",
      "\n",
      "Starting on model: ExtraTrees\n"
     ]
    },
    {
     "name": "stderr",
     "output_type": "stream",
     "text": [
      "[Parallel(n_jobs=1)]: Done  49 tasks      | elapsed:    0.7s\n",
      "[Parallel(n_jobs=1)]: Done  49 tasks      | elapsed:    0.0s\n",
      "[Parallel(n_jobs=1)]: Done  49 tasks      | elapsed:    0.0s\n"
     ]
    },
    {
     "name": "stdout",
     "output_type": "stream",
     "text": [
      "ExtraTrees took 0:00:01.797000 to finish. \n",
      "\n",
      "Starting on model: stacking\n",
      "stacking took 0:01:09.749000 to finish. \n",
      "\n"
     ]
    }
   ],
   "source": [
    "# Loop, fit, record.\n",
    "# This was SHAMELESSLY stolen from Will Bennet from his Phase 3 project.\n",
    "\n",
    "for name, model in model_list:\n",
    "\n",
    "    starttime = datetime.now()\n",
    "    \n",
    "    print(f'Starting on model: {name}')\n",
    "    # Create baseline pipelines\n",
    "#     loop_model_pipe = Pipeline(steps=[\n",
    "#         ('ct', CT),\n",
    "#         (name, model)\n",
    "#     ])\n",
    "    \n",
    "    loop_model_pipe = Pipeline(steps=[\n",
    "        (name, model)\n",
    "    ])\n",
    "\n",
    "    # Create a saved model object\n",
    "    loop_model_results = SaveModel(model=loop_model_pipe, \n",
    "                          model_name=name,\n",
    "                          X_train=X_train,\n",
    "                          X_test=X_test,\n",
    "                          y_train=y_train,\n",
    "                          y_test=y_test,\n",
    "                          X_tt=X_tt,\n",
    "                          y_tt=y_tt,\n",
    "                          X_val=X_val,\n",
    "                          y_val=y_val)\n",
    "    # Fit and score on train and test data\n",
    "    loop_model_results.score_model_train_test()\n",
    "\n",
    "    # Add the model to the dictionary\n",
    "    model_dict.add_model(loop_model_results)\n",
    "    \n",
    "    print(f'{name} took {datetime.now()-starttime} to finish. \\n')\n",
    "    "
   ]
  },
  {
   "cell_type": "code",
   "execution_count": 50,
   "metadata": {
    "ExecuteTime": {
     "end_time": "2023-10-19T14:15:12.519283Z",
     "start_time": "2023-10-19T14:15:06.516282Z"
    }
   },
   "outputs": [
    {
     "name": "stderr",
     "output_type": "stream",
     "text": [
      "[Parallel(n_jobs=1)]: Done  49 tasks      | elapsed:    0.0s\n",
      "[Parallel(n_jobs=1)]: Done  49 tasks      | elapsed:    0.0s\n"
     ]
    },
    {
     "data": {
      "image/png": "[encoded data removed]",
      "text/plain": [
       "<Figure size 432x432 with 1 Axes>"
      ]
     },
     "metadata": {
      "needs_background": "light"
     },
     "output_type": "display_data"
    }
   ],
   "source": [
    "model_dict.plot_models_roc_curves()"
   ]
  },
  {
   "cell_type": "code",
   "execution_count": 51,
   "metadata": {
    "ExecuteTime": {
     "end_time": "2023-10-19T14:15:12.583285Z",
     "start_time": "2023-10-19T14:15:12.569283Z"
    }
   },
   "outputs": [
    {
     "data": {
      "text/html": [
       "<div>\n",
       "<style scoped>\n",
       "    .dataframe tbody tr th:only-of-type {\n",
       "        vertical-align: middle;\n",
       "    }\n",
       "\n",
       "    .dataframe tbody tr th {\n",
       "        vertical-align: top;\n",
       "    }\n",
       "\n",
       "    .dataframe thead th {\n",
       "        text-align: right;\n",
       "    }\n",
       "</style>\n",
       "<table border=\"1\" class=\"dataframe\">\n",
       "  <thead>\n",
       "    <tr style=\"text-align: right;\">\n",
       "      <th></th>\n",
       "      <th>model</th>\n",
       "      <th>dataset</th>\n",
       "      <th>metric</th>\n",
       "      <th>value</th>\n",
       "    </tr>\n",
       "  </thead>\n",
       "  <tbody>\n",
       "    <tr>\n",
       "      <th>0</th>\n",
       "      <td>dummy</td>\n",
       "      <td>train</td>\n",
       "      <td>accuracy_score</td>\n",
       "      <td>0.510619</td>\n",
       "    </tr>\n",
       "    <tr>\n",
       "      <th>4</th>\n",
       "      <td>dummy</td>\n",
       "      <td>test</td>\n",
       "      <td>accuracy_score</td>\n",
       "      <td>0.501807</td>\n",
       "    </tr>\n",
       "    <tr>\n",
       "      <th>0</th>\n",
       "      <td>fsm</td>\n",
       "      <td>train</td>\n",
       "      <td>accuracy_score</td>\n",
       "      <td>0.918512</td>\n",
       "    </tr>\n",
       "    <tr>\n",
       "      <th>4</th>\n",
       "      <td>fsm</td>\n",
       "      <td>test</td>\n",
       "      <td>accuracy_score</td>\n",
       "      <td>0.885542</td>\n",
       "    </tr>\n",
       "    <tr>\n",
       "      <th>0</th>\n",
       "      <td>knn</td>\n",
       "      <td>train</td>\n",
       "      <td>accuracy_score</td>\n",
       "      <td>0.975900</td>\n",
       "    </tr>\n",
       "    <tr>\n",
       "      <th>4</th>\n",
       "      <td>knn</td>\n",
       "      <td>test</td>\n",
       "      <td>accuracy_score</td>\n",
       "      <td>0.971084</td>\n",
       "    </tr>\n",
       "    <tr>\n",
       "      <th>0</th>\n",
       "      <td>dtc</td>\n",
       "      <td>train</td>\n",
       "      <td>accuracy_score</td>\n",
       "      <td>1.000000</td>\n",
       "    </tr>\n",
       "    <tr>\n",
       "      <th>4</th>\n",
       "      <td>dtc</td>\n",
       "      <td>test</td>\n",
       "      <td>accuracy_score</td>\n",
       "      <td>0.902410</td>\n",
       "    </tr>\n",
       "    <tr>\n",
       "      <th>0</th>\n",
       "      <td>voting</td>\n",
       "      <td>train</td>\n",
       "      <td>accuracy_score</td>\n",
       "      <td>0.995180</td>\n",
       "    </tr>\n",
       "    <tr>\n",
       "      <th>4</th>\n",
       "      <td>voting</td>\n",
       "      <td>test</td>\n",
       "      <td>accuracy_score</td>\n",
       "      <td>0.949398</td>\n",
       "    </tr>\n",
       "    <tr>\n",
       "      <th>0</th>\n",
       "      <td>bagging</td>\n",
       "      <td>train</td>\n",
       "      <td>accuracy_score</td>\n",
       "      <td>0.997590</td>\n",
       "    </tr>\n",
       "    <tr>\n",
       "      <th>4</th>\n",
       "      <td>bagging</td>\n",
       "      <td>test</td>\n",
       "      <td>accuracy_score</td>\n",
       "      <td>0.940964</td>\n",
       "    </tr>\n",
       "    <tr>\n",
       "      <th>0</th>\n",
       "      <td>RandoCalForest</td>\n",
       "      <td>train</td>\n",
       "      <td>accuracy_score</td>\n",
       "      <td>1.000000</td>\n",
       "    </tr>\n",
       "    <tr>\n",
       "      <th>4</th>\n",
       "      <td>RandoCalForest</td>\n",
       "      <td>test</td>\n",
       "      <td>accuracy_score</td>\n",
       "      <td>0.960241</td>\n",
       "    </tr>\n",
       "    <tr>\n",
       "      <th>0</th>\n",
       "      <td>ExtraTrees</td>\n",
       "      <td>train</td>\n",
       "      <td>accuracy_score</td>\n",
       "      <td>1.000000</td>\n",
       "    </tr>\n",
       "    <tr>\n",
       "      <th>4</th>\n",
       "      <td>ExtraTrees</td>\n",
       "      <td>test</td>\n",
       "      <td>accuracy_score</td>\n",
       "      <td>0.957831</td>\n",
       "    </tr>\n",
       "    <tr>\n",
       "      <th>0</th>\n",
       "      <td>stacking</td>\n",
       "      <td>train</td>\n",
       "      <td>accuracy_score</td>\n",
       "      <td>0.999096</td>\n",
       "    </tr>\n",
       "    <tr>\n",
       "      <th>4</th>\n",
       "      <td>stacking</td>\n",
       "      <td>test</td>\n",
       "      <td>accuracy_score</td>\n",
       "      <td>0.975904</td>\n",
       "    </tr>\n",
       "  </tbody>\n",
       "</table>\n",
       "</div>"
      ],
      "text/plain": [
       "            model dataset          metric     value\n",
       "0           dummy   train  accuracy_score  0.510619\n",
       "4           dummy    test  accuracy_score  0.501807\n",
       "0             fsm   train  accuracy_score  0.918512\n",
       "4             fsm    test  accuracy_score  0.885542\n",
       "0             knn   train  accuracy_score  0.975900\n",
       "4             knn    test  accuracy_score  0.971084\n",
       "0             dtc   train  accuracy_score  1.000000\n",
       "4             dtc    test  accuracy_score  0.902410\n",
       "0          voting   train  accuracy_score  0.995180\n",
       "4          voting    test  accuracy_score  0.949398\n",
       "0         bagging   train  accuracy_score  0.997590\n",
       "4         bagging    test  accuracy_score  0.940964\n",
       "0  RandoCalForest   train  accuracy_score  1.000000\n",
       "4  RandoCalForest    test  accuracy_score  0.960241\n",
       "0      ExtraTrees   train  accuracy_score  1.000000\n",
       "4      ExtraTrees    test  accuracy_score  0.957831\n",
       "0        stacking   train  accuracy_score  0.999096\n",
       "4        stacking    test  accuracy_score  0.975904"
      ]
     },
     "metadata": {},
     "output_type": "display_data"
    }
   ],
   "source": [
    "model_dict.print_scores('accuracy_score')"
   ]
  },
  {
   "cell_type": "markdown",
   "metadata": {},
   "source": [
    "### Neural Network"
   ]
  },
  {
   "cell_type": "code",
   "execution_count": 140,
   "metadata": {
    "ExecuteTime": {
     "end_time": "2023-10-19T14:56:22.435974Z",
     "start_time": "2023-10-19T14:56:22.419971Z"
    }
   },
   "outputs": [
    {
     "data": {
      "text/plain": [
       "(6639, 784)"
      ]
     },
     "execution_count": 140,
     "metadata": {},
     "output_type": "execute_result"
    }
   ],
   "source": [
    "X_train.shape"
   ]
  },
  {
   "cell_type": "code",
   "execution_count": 141,
   "metadata": {
    "ExecuteTime": {
     "end_time": "2023-10-19T14:56:22.946971Z",
     "start_time": "2023-10-19T14:56:22.933972Z"
    }
   },
   "outputs": [],
   "source": [
    "def build_model():\n",
    "    model = Sequential()\n",
    "    \n",
    "#     model.add(Dense(12, activation='relu', input_dim=33))\n",
    "\n",
    "\n",
    "    model.add(Input(784))\n",
    "    \n",
    "    model.add(Dense(12, activation='relu'))\n",
    "    \n",
    "    model.add(Dense(8, activation='relu'))\n",
    "    model.add(Dense(4, activation='relu'))\n",
    "    model.add(Dense(1, activation = 'sigmoid'))\n",
    "\n",
    "    model.compile(optimizer='adam',\n",
    "                  loss='binary_crossentropy',\n",
    "                  metrics=['accuracy'])\n",
    "    \n",
    "\n",
    "    return model"
   ]
  },
  {
   "cell_type": "code",
   "execution_count": 142,
   "metadata": {
    "ExecuteTime": {
     "end_time": "2023-10-19T14:56:23.460971Z",
     "start_time": "2023-10-19T14:56:23.382973Z"
    }
   },
   "outputs": [],
   "source": [
    "model = build_model()"
   ]
  },
  {
   "cell_type": "code",
   "execution_count": 143,
   "metadata": {
    "ExecuteTime": {
     "end_time": "2023-10-19T14:56:23.754972Z",
     "start_time": "2023-10-19T14:56:23.734975Z"
    }
   },
   "outputs": [
    {
     "name": "stdout",
     "output_type": "stream",
     "text": [
      "Model: \"sequential_6\"\n",
      "_________________________________________________________________\n",
      " Layer (type)                Output Shape              Param #   \n",
      "=================================================================\n",
      " dense_24 (Dense)            (None, 12)                9420      \n",
      "                                                                 \n",
      " dense_25 (Dense)            (None, 8)                 104       \n",
      "                                                                 \n",
      " dense_26 (Dense)            (None, 4)                 36        \n",
      "                                                                 \n",
      " dense_27 (Dense)            (None, 1)                 5         \n",
      "                                                                 \n",
      "=================================================================\n",
      "Total params: 9,565\n",
      "Trainable params: 9,565\n",
      "Non-trainable params: 0\n",
      "_________________________________________________________________\n"
     ]
    }
   ],
   "source": [
    "model.summary()"
   ]
  },
  {
   "cell_type": "code",
   "execution_count": 144,
   "metadata": {
    "ExecuteTime": {
     "end_time": "2023-10-19T14:56:24.193969Z",
     "start_time": "2023-10-19T14:56:24.181970Z"
    }
   },
   "outputs": [],
   "source": [
    "# Define the EarlyStopping object\n",
    "early_stop = EarlyStopping(monitor='loss', min_delta=1e-4,\n",
    "                       verbose=1,\n",
    "                       patience=5,\n",
    "                       mode='min')\n",
    "\n",
    "keras_model = KerasClassifier(build_model,\n",
    "                              epochs=50,\n",
    "                              batch_size=1024,\n",
    "                              verbose=2,\n",
    "                              callbacks = [early_stop])"
   ]
  },
  {
   "cell_type": "code",
   "execution_count": 145,
   "metadata": {
    "ExecuteTime": {
     "end_time": "2023-10-19T14:56:24.691969Z",
     "start_time": "2023-10-19T14:56:24.675971Z"
    }
   },
   "outputs": [],
   "source": [
    "nn_pipe = Pipeline([('nn', keras_model)])"
   ]
  },
  {
   "cell_type": "code",
   "execution_count": 146,
   "metadata": {
    "ExecuteTime": {
     "end_time": "2023-10-19T14:56:25.188969Z",
     "start_time": "2023-10-19T14:56:25.170969Z"
    }
   },
   "outputs": [],
   "source": [
    "nn_results = SaveModel(model=nn_pipe, \n",
    "                          model_name='nn',\n",
    "                          X_train=X_train,\n",
    "                          X_test=X_test,\n",
    "                          y_train=y_train,\n",
    "                          y_test=y_test,\n",
    "                          X_tt=X_tt,\n",
    "                          y_tt=y_tt,\n",
    "                          X_val=X_val,\n",
    "                          y_val=y_val)"
   ]
  },
  {
   "cell_type": "code",
   "execution_count": 147,
   "metadata": {
    "ExecuteTime": {
     "end_time": "2023-10-19T14:56:31.558968Z",
     "start_time": "2023-10-19T14:56:25.987972Z"
    },
    "scrolled": true
   },
   "outputs": [
    {
     "name": "stdout",
     "output_type": "stream",
     "text": [
      "Epoch 1/50\n",
      "7/7 - 1s - loss: 0.6861 - accuracy: 0.5180 - 877ms/epoch - 125ms/step\n",
      "Epoch 2/50\n",
      "7/7 - 0s - loss: 0.6626 - accuracy: 0.6067 - 106ms/epoch - 15ms/step\n",
      "Epoch 3/50\n",
      "7/7 - 0s - loss: 0.6304 - accuracy: 0.6927 - 78ms/epoch - 11ms/step\n",
      "Epoch 4/50\n",
      "7/7 - 0s - loss: 0.5975 - accuracy: 0.7262 - 73ms/epoch - 10ms/step\n",
      "Epoch 5/50\n",
      "7/7 - 0s - loss: 0.5667 - accuracy: 0.7593 - 85ms/epoch - 12ms/step\n",
      "Epoch 6/50\n",
      "7/7 - 0s - loss: 0.5392 - accuracy: 0.7848 - 107ms/epoch - 15ms/step\n",
      "Epoch 7/50\n",
      "7/7 - 0s - loss: 0.5152 - accuracy: 0.8018 - 81ms/epoch - 12ms/step\n",
      "Epoch 8/50\n",
      "7/7 - 0s - loss: 0.4947 - accuracy: 0.8322 - 80ms/epoch - 11ms/step\n",
      "Epoch 9/50\n",
      "7/7 - 0s - loss: 0.4771 - accuracy: 0.8429 - 110ms/epoch - 16ms/step\n",
      "Epoch 10/50\n",
      "7/7 - 0s - loss: 0.4621 - accuracy: 0.8623 - 76ms/epoch - 11ms/step\n",
      "Epoch 11/50\n",
      "7/7 - 0s - loss: 0.4490 - accuracy: 0.8768 - 63ms/epoch - 9ms/step\n",
      "Epoch 12/50\n",
      "7/7 - 0s - loss: 0.4382 - accuracy: 0.8848 - 74ms/epoch - 11ms/step\n",
      "Epoch 13/50\n",
      "7/7 - 0s - loss: 0.4285 - accuracy: 0.8976 - 73ms/epoch - 10ms/step\n",
      "Epoch 14/50\n",
      "7/7 - 0s - loss: 0.4200 - accuracy: 0.8994 - 74ms/epoch - 11ms/step\n",
      "Epoch 15/50\n",
      "7/7 - 0s - loss: 0.4122 - accuracy: 0.9090 - 49ms/epoch - 7ms/step\n",
      "Epoch 16/50\n",
      "7/7 - 0s - loss: 0.4053 - accuracy: 0.9203 - 69ms/epoch - 10ms/step\n",
      "Epoch 17/50\n",
      "7/7 - 0s - loss: 0.3989 - accuracy: 0.9185 - 83ms/epoch - 12ms/step\n",
      "Epoch 18/50\n",
      "7/7 - 0s - loss: 0.3931 - accuracy: 0.9218 - 68ms/epoch - 10ms/step\n",
      "Epoch 19/50\n",
      "7/7 - 0s - loss: 0.3877 - accuracy: 0.9334 - 60ms/epoch - 9ms/step\n",
      "Epoch 20/50\n",
      "7/7 - 0s - loss: 0.3827 - accuracy: 0.9304 - 78ms/epoch - 11ms/step\n",
      "Epoch 21/50\n",
      "7/7 - 0s - loss: 0.3780 - accuracy: 0.9369 - 78ms/epoch - 11ms/step\n",
      "Epoch 22/50\n",
      "7/7 - 0s - loss: 0.3732 - accuracy: 0.9387 - 86ms/epoch - 12ms/step\n",
      "Epoch 23/50\n",
      "7/7 - 0s - loss: 0.3691 - accuracy: 0.9382 - 90ms/epoch - 13ms/step\n",
      "Epoch 24/50\n",
      "7/7 - 0s - loss: 0.3650 - accuracy: 0.9422 - 91ms/epoch - 13ms/step\n",
      "Epoch 25/50\n",
      "7/7 - 0s - loss: 0.3614 - accuracy: 0.9444 - 82ms/epoch - 12ms/step\n",
      "Epoch 26/50\n",
      "7/7 - 0s - loss: 0.3575 - accuracy: 0.9450 - 69ms/epoch - 10ms/step\n",
      "Epoch 27/50\n",
      "7/7 - 0s - loss: 0.3539 - accuracy: 0.9482 - 60ms/epoch - 9ms/step\n",
      "Epoch 28/50\n",
      "7/7 - 0s - loss: 0.3503 - accuracy: 0.9491 - 65ms/epoch - 9ms/step\n",
      "Epoch 29/50\n",
      "7/7 - 0s - loss: 0.3469 - accuracy: 0.9520 - 55ms/epoch - 8ms/step\n",
      "Epoch 30/50\n",
      "7/7 - 0s - loss: 0.3440 - accuracy: 0.9516 - 61ms/epoch - 9ms/step\n",
      "Epoch 31/50\n",
      "7/7 - 0s - loss: 0.3414 - accuracy: 0.9532 - 77ms/epoch - 11ms/step\n",
      "Epoch 32/50\n",
      "7/7 - 0s - loss: 0.3381 - accuracy: 0.9560 - 67ms/epoch - 10ms/step\n",
      "Epoch 33/50\n",
      "7/7 - 0s - loss: 0.3350 - accuracy: 0.9559 - 84ms/epoch - 12ms/step\n",
      "Epoch 34/50\n",
      "7/7 - 0s - loss: 0.3322 - accuracy: 0.9617 - 70ms/epoch - 10ms/step\n",
      "Epoch 35/50\n",
      "7/7 - 0s - loss: 0.3292 - accuracy: 0.9583 - 48ms/epoch - 7ms/step\n",
      "Epoch 36/50\n",
      "7/7 - 0s - loss: 0.3263 - accuracy: 0.9610 - 90ms/epoch - 13ms/step\n",
      "Epoch 37/50\n",
      "7/7 - 0s - loss: 0.3236 - accuracy: 0.9620 - 83ms/epoch - 12ms/step\n",
      "Epoch 38/50\n",
      "7/7 - 0s - loss: 0.3211 - accuracy: 0.9625 - 94ms/epoch - 13ms/step\n",
      "Epoch 39/50\n",
      "7/7 - 0s - loss: 0.3188 - accuracy: 0.9625 - 87ms/epoch - 12ms/step\n",
      "Epoch 40/50\n",
      "7/7 - 0s - loss: 0.3162 - accuracy: 0.9654 - 58ms/epoch - 8ms/step\n",
      "Epoch 41/50\n",
      "7/7 - 0s - loss: 0.3140 - accuracy: 0.9646 - 69ms/epoch - 10ms/step\n",
      "Epoch 42/50\n",
      "7/7 - 0s - loss: 0.3113 - accuracy: 0.9666 - 50ms/epoch - 7ms/step\n",
      "Epoch 43/50\n",
      "7/7 - 0s - loss: 0.3089 - accuracy: 0.9678 - 81ms/epoch - 12ms/step\n",
      "Epoch 44/50\n",
      "7/7 - 0s - loss: 0.3067 - accuracy: 0.9661 - 68ms/epoch - 10ms/step\n",
      "Epoch 45/50\n",
      "7/7 - 0s - loss: 0.3044 - accuracy: 0.9699 - 92ms/epoch - 13ms/step\n",
      "Epoch 46/50\n",
      "7/7 - 0s - loss: 0.3019 - accuracy: 0.9696 - 97ms/epoch - 14ms/step\n",
      "Epoch 47/50\n",
      "7/7 - 0s - loss: 0.2997 - accuracy: 0.9688 - 88ms/epoch - 13ms/step\n",
      "Epoch 48/50\n",
      "7/7 - 0s - loss: 0.2975 - accuracy: 0.9703 - 63ms/epoch - 9ms/step\n",
      "Epoch 49/50\n",
      "7/7 - 0s - loss: 0.2954 - accuracy: 0.9703 - 98ms/epoch - 14ms/step\n",
      "Epoch 50/50\n",
      "7/7 - 0s - loss: 0.2932 - accuracy: 0.9711 - 52ms/epoch - 7ms/step\n",
      "7/7 - 0s - 141ms/epoch - 20ms/step\n",
      "2/2 - 0s - 29ms/epoch - 14ms/step\n"
     ]
    }
   ],
   "source": [
    "nn_results.score_model_train_test()"
   ]
  },
  {
   "cell_type": "code",
   "execution_count": 60,
   "metadata": {
    "ExecuteTime": {
     "end_time": "2023-10-19T14:15:57.567501Z",
     "start_time": "2023-10-19T14:15:57.563502Z"
    }
   },
   "outputs": [],
   "source": [
    "model_dict.add_model(nn_results)"
   ]
  },
  {
   "cell_type": "code",
   "execution_count": 61,
   "metadata": {
    "ExecuteTime": {
     "end_time": "2023-10-19T14:16:04.535621Z",
     "start_time": "2023-10-19T14:15:58.117593Z"
    }
   },
   "outputs": [
    {
     "name": "stderr",
     "output_type": "stream",
     "text": [
      "[Parallel(n_jobs=1)]: Done  49 tasks      | elapsed:    0.0s\n",
      "[Parallel(n_jobs=1)]: Done  49 tasks      | elapsed:    0.0s\n"
     ]
    },
    {
     "name": "stdout",
     "output_type": "stream",
     "text": [
      "7/7 - 0s - 30ms/epoch - 4ms/step\n"
     ]
    },
    {
     "data": {
      "image/png": "[encoded data removed]",
      "text/plain": [
       "<Figure size 432x432 with 1 Axes>"
      ]
     },
     "metadata": {
      "needs_background": "light"
     },
     "output_type": "display_data"
    }
   ],
   "source": [
    "model_dict.plot_models_roc_curves()"
   ]
  },
  {
   "cell_type": "code",
   "execution_count": 62,
   "metadata": {
    "ExecuteTime": {
     "end_time": "2023-10-19T14:16:06.345592Z",
     "start_time": "2023-10-19T14:16:04.583629Z"
    }
   },
   "outputs": [
    {
     "name": "stderr",
     "output_type": "stream",
     "text": [
      "[Parallel(n_jobs=1)]: Done  49 tasks      | elapsed:    0.0s\n",
      "[Parallel(n_jobs=1)]: Done  49 tasks      | elapsed:    0.0s\n"
     ]
    },
    {
     "name": "stdout",
     "output_type": "stream",
     "text": [
      "2/2 - 0s - 21ms/epoch - 10ms/step\n"
     ]
    },
    {
     "data": {
      "image/png": "[encoded data removed]",
      "text/plain": [
       "<Figure size 432x432 with 1 Axes>"
      ]
     },
     "metadata": {
      "needs_background": "light"
     },
     "output_type": "display_data"
    }
   ],
   "source": [
    "model_dict.plot_models_roc_curves('test')"
   ]
  },
  {
   "cell_type": "code",
   "execution_count": 63,
   "metadata": {
    "ExecuteTime": {
     "end_time": "2023-10-19T14:16:06.408593Z",
     "start_time": "2023-10-19T14:16:06.393591Z"
    }
   },
   "outputs": [
    {
     "data": {
      "text/html": [
       "<div>\n",
       "<style scoped>\n",
       "    .dataframe tbody tr th:only-of-type {\n",
       "        vertical-align: middle;\n",
       "    }\n",
       "\n",
       "    .dataframe tbody tr th {\n",
       "        vertical-align: top;\n",
       "    }\n",
       "\n",
       "    .dataframe thead th {\n",
       "        text-align: right;\n",
       "    }\n",
       "</style>\n",
       "<table border=\"1\" class=\"dataframe\">\n",
       "  <thead>\n",
       "    <tr style=\"text-align: right;\">\n",
       "      <th></th>\n",
       "      <th>model</th>\n",
       "      <th>dataset</th>\n",
       "      <th>metric</th>\n",
       "      <th>value</th>\n",
       "    </tr>\n",
       "  </thead>\n",
       "  <tbody>\n",
       "    <tr>\n",
       "      <th>0</th>\n",
       "      <td>dummy</td>\n",
       "      <td>train</td>\n",
       "      <td>accuracy_score</td>\n",
       "      <td>0.510619</td>\n",
       "    </tr>\n",
       "    <tr>\n",
       "      <th>4</th>\n",
       "      <td>dummy</td>\n",
       "      <td>test</td>\n",
       "      <td>accuracy_score</td>\n",
       "      <td>0.501807</td>\n",
       "    </tr>\n",
       "    <tr>\n",
       "      <th>0</th>\n",
       "      <td>fsm</td>\n",
       "      <td>train</td>\n",
       "      <td>accuracy_score</td>\n",
       "      <td>0.918512</td>\n",
       "    </tr>\n",
       "    <tr>\n",
       "      <th>4</th>\n",
       "      <td>fsm</td>\n",
       "      <td>test</td>\n",
       "      <td>accuracy_score</td>\n",
       "      <td>0.885542</td>\n",
       "    </tr>\n",
       "    <tr>\n",
       "      <th>0</th>\n",
       "      <td>knn</td>\n",
       "      <td>train</td>\n",
       "      <td>accuracy_score</td>\n",
       "      <td>0.975900</td>\n",
       "    </tr>\n",
       "    <tr>\n",
       "      <th>4</th>\n",
       "      <td>knn</td>\n",
       "      <td>test</td>\n",
       "      <td>accuracy_score</td>\n",
       "      <td>0.971084</td>\n",
       "    </tr>\n",
       "    <tr>\n",
       "      <th>0</th>\n",
       "      <td>dtc</td>\n",
       "      <td>train</td>\n",
       "      <td>accuracy_score</td>\n",
       "      <td>1.000000</td>\n",
       "    </tr>\n",
       "    <tr>\n",
       "      <th>4</th>\n",
       "      <td>dtc</td>\n",
       "      <td>test</td>\n",
       "      <td>accuracy_score</td>\n",
       "      <td>0.902410</td>\n",
       "    </tr>\n",
       "    <tr>\n",
       "      <th>0</th>\n",
       "      <td>voting</td>\n",
       "      <td>train</td>\n",
       "      <td>accuracy_score</td>\n",
       "      <td>0.995180</td>\n",
       "    </tr>\n",
       "    <tr>\n",
       "      <th>4</th>\n",
       "      <td>voting</td>\n",
       "      <td>test</td>\n",
       "      <td>accuracy_score</td>\n",
       "      <td>0.949398</td>\n",
       "    </tr>\n",
       "    <tr>\n",
       "      <th>0</th>\n",
       "      <td>bagging</td>\n",
       "      <td>train</td>\n",
       "      <td>accuracy_score</td>\n",
       "      <td>0.997590</td>\n",
       "    </tr>\n",
       "    <tr>\n",
       "      <th>4</th>\n",
       "      <td>bagging</td>\n",
       "      <td>test</td>\n",
       "      <td>accuracy_score</td>\n",
       "      <td>0.940964</td>\n",
       "    </tr>\n",
       "    <tr>\n",
       "      <th>0</th>\n",
       "      <td>RandoCalForest</td>\n",
       "      <td>train</td>\n",
       "      <td>accuracy_score</td>\n",
       "      <td>1.000000</td>\n",
       "    </tr>\n",
       "    <tr>\n",
       "      <th>4</th>\n",
       "      <td>RandoCalForest</td>\n",
       "      <td>test</td>\n",
       "      <td>accuracy_score</td>\n",
       "      <td>0.960241</td>\n",
       "    </tr>\n",
       "    <tr>\n",
       "      <th>0</th>\n",
       "      <td>ExtraTrees</td>\n",
       "      <td>train</td>\n",
       "      <td>accuracy_score</td>\n",
       "      <td>1.000000</td>\n",
       "    </tr>\n",
       "    <tr>\n",
       "      <th>4</th>\n",
       "      <td>ExtraTrees</td>\n",
       "      <td>test</td>\n",
       "      <td>accuracy_score</td>\n",
       "      <td>0.957831</td>\n",
       "    </tr>\n",
       "    <tr>\n",
       "      <th>0</th>\n",
       "      <td>stacking</td>\n",
       "      <td>train</td>\n",
       "      <td>accuracy_score</td>\n",
       "      <td>0.999096</td>\n",
       "    </tr>\n",
       "    <tr>\n",
       "      <th>4</th>\n",
       "      <td>stacking</td>\n",
       "      <td>test</td>\n",
       "      <td>accuracy_score</td>\n",
       "      <td>0.975904</td>\n",
       "    </tr>\n",
       "    <tr>\n",
       "      <th>0</th>\n",
       "      <td>nn</td>\n",
       "      <td>train</td>\n",
       "      <td>accuracy_score</td>\n",
       "      <td>0.969875</td>\n",
       "    </tr>\n",
       "    <tr>\n",
       "      <th>4</th>\n",
       "      <td>nn</td>\n",
       "      <td>test</td>\n",
       "      <td>accuracy_score</td>\n",
       "      <td>0.951807</td>\n",
       "    </tr>\n",
       "  </tbody>\n",
       "</table>\n",
       "</div>"
      ],
      "text/plain": [
       "            model dataset          metric     value\n",
       "0           dummy   train  accuracy_score  0.510619\n",
       "4           dummy    test  accuracy_score  0.501807\n",
       "0             fsm   train  accuracy_score  0.918512\n",
       "4             fsm    test  accuracy_score  0.885542\n",
       "0             knn   train  accuracy_score  0.975900\n",
       "4             knn    test  accuracy_score  0.971084\n",
       "0             dtc   train  accuracy_score  1.000000\n",
       "4             dtc    test  accuracy_score  0.902410\n",
       "0          voting   train  accuracy_score  0.995180\n",
       "4          voting    test  accuracy_score  0.949398\n",
       "0         bagging   train  accuracy_score  0.997590\n",
       "4         bagging    test  accuracy_score  0.940964\n",
       "0  RandoCalForest   train  accuracy_score  1.000000\n",
       "4  RandoCalForest    test  accuracy_score  0.960241\n",
       "0      ExtraTrees   train  accuracy_score  1.000000\n",
       "4      ExtraTrees    test  accuracy_score  0.957831\n",
       "0        stacking   train  accuracy_score  0.999096\n",
       "4        stacking    test  accuracy_score  0.975904\n",
       "0              nn   train  accuracy_score  0.969875\n",
       "4              nn    test  accuracy_score  0.951807"
      ]
     },
     "metadata": {},
     "output_type": "display_data"
    }
   ],
   "source": [
    "model_dict.print_scores('accuracy_score')"
   ]
  },
  {
   "cell_type": "code",
   "execution_count": 64,
   "metadata": {
    "ExecuteTime": {
     "end_time": "2023-10-19T14:16:13.880592Z",
     "start_time": "2023-10-19T14:16:06.457591Z"
    }
   },
   "outputs": [
    {
     "name": "stderr",
     "output_type": "stream",
     "text": [
      "[Parallel(n_jobs=1)]: Done  49 tasks      | elapsed:    0.0s\n",
      "[Parallel(n_jobs=1)]: Done  49 tasks      | elapsed:    0.0s\n"
     ]
    },
    {
     "name": "stdout",
     "output_type": "stream",
     "text": [
      "7/7 - 0s - 42ms/epoch - 6ms/step\n"
     ]
    },
    {
     "data": {
      "image/png": "[encoded data removed]",
      "text/plain": [
       "<Figure size 1080x432 with 20 Axes>"
      ]
     },
     "metadata": {
      "needs_background": "light"
     },
     "output_type": "display_data"
    }
   ],
   "source": [
    "model_dict.plot_models_confusion_matricies()"
   ]
  },
  {
   "cell_type": "markdown",
   "metadata": {},
   "source": [
    "## Tuning and with `RandomizedSearchCV`"
   ]
  },
  {
   "cell_type": "code",
   "execution_count": null,
   "metadata": {
    "ExecuteTime": {
     "end_time": "2023-10-16T04:52:18.971224Z",
     "start_time": "2023-10-16T04:52:18.956197Z"
    }
   },
   "outputs": [],
   "source": [
    "# rf_pipe = Pipeline([\n",
    "#     ('ct',CT),\n",
    "#     ('rf',rf)\n",
    "# ])"
   ]
  },
  {
   "cell_type": "code",
   "execution_count": 66,
   "metadata": {
    "ExecuteTime": {
     "end_time": "2023-10-19T14:17:12.673065Z",
     "start_time": "2023-10-19T14:17:12.657067Z"
    }
   },
   "outputs": [],
   "source": [
    "rf_pipe = Pipeline([\n",
    "    ('rf',rf)\n",
    "])"
   ]
  },
  {
   "cell_type": "code",
   "execution_count": 67,
   "metadata": {
    "ExecuteTime": {
     "end_time": "2023-10-19T14:17:13.446066Z",
     "start_time": "2023-10-19T14:17:13.437095Z"
    }
   },
   "outputs": [
    {
     "data": {
      "text/plain": [
       "Pipeline(steps=[('rf', RandomForestClassifier(random_state=42, verbose=1))])"
      ]
     },
     "execution_count": 67,
     "metadata": {},
     "output_type": "execute_result"
    }
   ],
   "source": [
    "rf_pipe"
   ]
  },
  {
   "cell_type": "code",
   "execution_count": 104,
   "metadata": {
    "ExecuteTime": {
     "end_time": "2023-10-19T14:42:57.288946Z",
     "start_time": "2023-10-19T14:42:57.267946Z"
    }
   },
   "outputs": [],
   "source": [
    "model_params = {\n",
    "    # randomly sample numbers from 4 to 204 estimators\n",
    "    'rf__n_estimators': randint(4,200),\n",
    "    \n",
    "    # normally distributed max_features, with mean .25 stddev 0.1, bounded between 0 and 1\n",
    "    'rf__max_features': truncnorm(a=0, b=1, loc=0.25, scale=0.1),\n",
    "    \n",
    "    # uniform distribution from 0.01 to 0.2 (0.01 + 0.199)\n",
    "    'rf__min_samples_split': uniform(0.01, 0.199)\n",
    "}"
   ]
  },
  {
   "cell_type": "code",
   "execution_count": 105,
   "metadata": {
    "ExecuteTime": {
     "end_time": "2023-10-19T14:42:57.783948Z",
     "start_time": "2023-10-19T14:42:57.774948Z"
    }
   },
   "outputs": [
    {
     "data": {
      "text/plain": [
       "{'rf__n_estimators': <scipy.stats._distn_infrastructure.rv_frozen at 0x231323f27f0>,\n",
       " 'rf__max_features': <scipy.stats._distn_infrastructure.rv_frozen at 0x2313242b700>,\n",
       " 'rf__min_samples_split': <scipy.stats._distn_infrastructure.rv_frozen at 0x231323f2700>}"
      ]
     },
     "execution_count": 105,
     "metadata": {},
     "output_type": "execute_result"
    }
   ],
   "source": [
    "model_params\n"
   ]
  },
  {
   "cell_type": "code",
   "execution_count": 114,
   "metadata": {
    "ExecuteTime": {
     "end_time": "2023-10-19T14:46:50.533805Z",
     "start_time": "2023-10-19T14:46:50.518805Z"
    }
   },
   "outputs": [],
   "source": [
    "rgs=RandomizedSearchCV(rf_pipe,\n",
    "                       model_params,\n",
    "                       random_state=42,\n",
    "                       verbose=2,\n",
    "                       n_iter=10,\n",
    "                       n_jobs=-1)"
   ]
  },
  {
   "cell_type": "code",
   "execution_count": 115,
   "metadata": {
    "ExecuteTime": {
     "end_time": "2023-10-19T14:47:32.994860Z",
     "start_time": "2023-10-19T14:46:52.215806Z"
    },
    "scrolled": false
   },
   "outputs": [
    {
     "name": "stdout",
     "output_type": "stream",
     "text": [
      "Fitting 5 folds for each of 10 candidates, totalling 50 fits\n"
     ]
    },
    {
     "name": "stderr",
     "output_type": "stream",
     "text": [
      "[Parallel(n_jobs=1)]: Done  49 tasks      | elapsed:    2.1s\n"
     ]
    },
    {
     "data": {
      "text/plain": [
       "RandomizedSearchCV(estimator=Pipeline(steps=[('rf',\n",
       "                                              RandomForestClassifier(random_state=42,\n",
       "                                                                     verbose=1))]),\n",
       "                   n_jobs=-1,\n",
       "                   param_distributions={'rf__max_features': <scipy.stats._distn_infrastructure.rv_frozen object at 0x000002313242B700>,\n",
       "                                        'rf__min_samples_split': <scipy.stats._distn_infrastructure.rv_frozen object at 0x00000231323F2700>,\n",
       "                                        'rf__n_estimators': <scipy.stats._distn_infrastructure.rv_frozen object at 0x00000231323F27F0>},\n",
       "                   random_state=42, verbose=2)"
      ]
     },
     "execution_count": 115,
     "metadata": {},
     "output_type": "execute_result"
    }
   ],
   "source": [
    "# 11min run time!\n",
    "rgs.fit(X_train, y_train)"
   ]
  },
  {
   "cell_type": "code",
   "execution_count": null,
   "metadata": {
    "ExecuteTime": {
     "end_time": "2023-06-06T00:18:44.565937Z",
     "start_time": "2023-06-06T00:18:44.551968Z"
    }
   },
   "outputs": [],
   "source": [
    "# Data 1\n",
    "# {'rf__max_features': 0.29359252905971395,\n",
    "#  'rf__min_samples_split': 0.11402383304701681,\n",
    "#  'rf__n_estimators': 18}"
   ]
  },
  {
   "cell_type": "code",
   "execution_count": 116,
   "metadata": {
    "ExecuteTime": {
     "end_time": "2023-10-19T14:47:38.026858Z",
     "start_time": "2023-10-19T14:47:38.007858Z"
    }
   },
   "outputs": [
    {
     "data": {
      "text/plain": [
       "{'rf__max_features': 0.2789523710972579,\n",
       " 'rf__min_samples_split': 0.03843049676646622,\n",
       " 'rf__n_estimators': 134}"
      ]
     },
     "execution_count": 116,
     "metadata": {},
     "output_type": "execute_result"
    }
   ],
   "source": [
    "rgs.best_params_"
   ]
  },
  {
   "cell_type": "code",
   "execution_count": null,
   "metadata": {},
   "outputs": [],
   "source": [
    "# Data 2 n_iter=50\n",
    "# {'rf__max_features': 0.26338715088042397,\n",
    "#  'rf__min_samples_split': 0.021558638821471694,\n",
    "#  'rf__n_estimators': 91}"
   ]
  },
  {
   "cell_type": "code",
   "execution_count": 106,
   "metadata": {
    "ExecuteTime": {
     "end_time": "2023-10-19T14:44:38.103464Z",
     "start_time": "2023-10-19T14:44:38.093465Z"
    }
   },
   "outputs": [],
   "source": [
    "rgs_best = rgs.best_estimator_"
   ]
  },
  {
   "cell_type": "code",
   "execution_count": null,
   "metadata": {
    "ExecuteTime": {
     "end_time": "2023-10-16T04:57:17.003657Z",
     "start_time": "2023-10-16T04:57:16.951629Z"
    }
   },
   "outputs": [],
   "source": [
    "rgs_best.score(X_train,y_train)"
   ]
  },
  {
   "cell_type": "code",
   "execution_count": null,
   "metadata": {
    "ExecuteTime": {
     "end_time": "2023-10-16T04:57:23.013427Z",
     "start_time": "2023-10-16T04:57:22.982452Z"
    }
   },
   "outputs": [],
   "source": [
    "rgs_best.score(X_test, y_test)"
   ]
  },
  {
   "cell_type": "code",
   "execution_count": 76,
   "metadata": {
    "ExecuteTime": {
     "end_time": "2023-10-19T14:31:43.863135Z",
     "start_time": "2023-10-19T14:31:43.856136Z"
    }
   },
   "outputs": [],
   "source": [
    "# Data 1\n",
    "# rgs_best = RandomForestClassifier(max_features=0.29359252905971395,\n",
    "#                                   min_samples_split = 0.11402383304701681,\n",
    "#                                   n_estimators = 18)"
   ]
  },
  {
   "cell_type": "code",
   "execution_count": null,
   "metadata": {
    "ExecuteTime": {
     "end_time": "2023-10-16T05:01:53.109244Z",
     "start_time": "2023-10-16T05:01:53.101275Z"
    }
   },
   "outputs": [],
   "source": [
    "# rgs_pipe = Pipeline([('ct', CT), ('rgs', rgs_best)])"
   ]
  },
  {
   "cell_type": "code",
   "execution_count": 107,
   "metadata": {
    "ExecuteTime": {
     "end_time": "2023-10-19T14:44:43.326464Z",
     "start_time": "2023-10-19T14:44:43.309464Z"
    }
   },
   "outputs": [],
   "source": [
    "rgs_pipe = Pipeline([('rgs', rgs_best)])"
   ]
  },
  {
   "cell_type": "code",
   "execution_count": 108,
   "metadata": {
    "ExecuteTime": {
     "end_time": "2023-10-19T14:44:43.918463Z",
     "start_time": "2023-10-19T14:44:43.903466Z"
    }
   },
   "outputs": [],
   "source": [
    "rgs_results = SaveModel(model=rgs_pipe, \n",
    "                          model_name='rgs',\n",
    "                          X_train=X_train,\n",
    "                          X_test=X_test,\n",
    "                          y_train=y_train,\n",
    "                          y_test=y_test,\n",
    "                          X_tt=X_tt,\n",
    "                          y_tt=y_tt,\n",
    "                          X_val=X_val,\n",
    "                          y_val=y_val)"
   ]
  },
  {
   "cell_type": "code",
   "execution_count": 109,
   "metadata": {
    "ExecuteTime": {
     "end_time": "2023-10-19T14:44:53.466276Z",
     "start_time": "2023-10-19T14:44:45.833465Z"
    }
   },
   "outputs": [
    {
     "name": "stderr",
     "output_type": "stream",
     "text": [
      "[Parallel(n_jobs=1)]: Done  49 tasks      | elapsed:    3.6s\n",
      "[Parallel(n_jobs=1)]: Done  49 tasks      | elapsed:    0.0s\n",
      "[Parallel(n_jobs=1)]: Done  49 tasks      | elapsed:    0.0s\n"
     ]
    }
   ],
   "source": [
    "rgs_results.score_model_train_test()"
   ]
  },
  {
   "cell_type": "code",
   "execution_count": 110,
   "metadata": {
    "ExecuteTime": {
     "end_time": "2023-10-19T14:44:53.822278Z",
     "start_time": "2023-10-19T14:44:53.797276Z"
    }
   },
   "outputs": [],
   "source": [
    "model_dict.add_model(rgs_results)"
   ]
  },
  {
   "cell_type": "code",
   "execution_count": 111,
   "metadata": {
    "ExecuteTime": {
     "end_time": "2023-10-19T14:45:06.821290Z",
     "start_time": "2023-10-19T14:44:54.042790Z"
    }
   },
   "outputs": [
    {
     "name": "stderr",
     "output_type": "stream",
     "text": [
      "[Parallel(n_jobs=1)]: Done  49 tasks      | elapsed:    0.1s\n",
      "[Parallel(n_jobs=1)]: Done  49 tasks      | elapsed:    0.0s\n"
     ]
    },
    {
     "name": "stdout",
     "output_type": "stream",
     "text": [
      "7/7 - 0s - 73ms/epoch - 10ms/step\n"
     ]
    },
    {
     "name": "stderr",
     "output_type": "stream",
     "text": [
      "[Parallel(n_jobs=1)]: Done  49 tasks      | elapsed:    0.0s\n"
     ]
    },
    {
     "data": {
      "image/png": "[encoded data removed]",
      "text/plain": [
       "<Figure size 432x432 with 1 Axes>"
      ]
     },
     "metadata": {
      "needs_background": "light"
     },
     "output_type": "display_data"
    }
   ],
   "source": [
    "model_dict.plot_models_roc_curves()"
   ]
  },
  {
   "cell_type": "code",
   "execution_count": 112,
   "metadata": {
    "ExecuteTime": {
     "end_time": "2023-10-19T14:45:10.466289Z",
     "start_time": "2023-10-19T14:45:07.037291Z"
    }
   },
   "outputs": [
    {
     "name": "stderr",
     "output_type": "stream",
     "text": [
      "[Parallel(n_jobs=1)]: Done  49 tasks      | elapsed:    0.0s\n",
      "[Parallel(n_jobs=1)]: Done  49 tasks      | elapsed:    0.0s\n"
     ]
    },
    {
     "name": "stdout",
     "output_type": "stream",
     "text": [
      "2/2 - 0s - 30ms/epoch - 15ms/step\n"
     ]
    },
    {
     "name": "stderr",
     "output_type": "stream",
     "text": [
      "[Parallel(n_jobs=1)]: Done  49 tasks      | elapsed:    0.0s\n"
     ]
    },
    {
     "data": {
      "image/png": "[encoded data removed]",
      "text/plain": [
       "<Figure size 432x432 with 1 Axes>"
      ]
     },
     "metadata": {
      "needs_background": "light"
     },
     "output_type": "display_data"
    }
   ],
   "source": [
    "model_dict.plot_models_roc_curves('test')"
   ]
  },
  {
   "cell_type": "code",
   "execution_count": 113,
   "metadata": {
    "ExecuteTime": {
     "end_time": "2023-10-19T14:45:10.670289Z",
     "start_time": "2023-10-19T14:45:10.641291Z"
    }
   },
   "outputs": [
    {
     "data": {
      "text/html": [
       "<div>\n",
       "<style scoped>\n",
       "    .dataframe tbody tr th:only-of-type {\n",
       "        vertical-align: middle;\n",
       "    }\n",
       "\n",
       "    .dataframe tbody tr th {\n",
       "        vertical-align: top;\n",
       "    }\n",
       "\n",
       "    .dataframe thead th {\n",
       "        text-align: right;\n",
       "    }\n",
       "</style>\n",
       "<table border=\"1\" class=\"dataframe\">\n",
       "  <thead>\n",
       "    <tr style=\"text-align: right;\">\n",
       "      <th></th>\n",
       "      <th>model</th>\n",
       "      <th>dataset</th>\n",
       "      <th>metric</th>\n",
       "      <th>value</th>\n",
       "    </tr>\n",
       "  </thead>\n",
       "  <tbody>\n",
       "    <tr>\n",
       "      <th>0</th>\n",
       "      <td>dummy</td>\n",
       "      <td>train</td>\n",
       "      <td>accuracy_score</td>\n",
       "      <td>0.510619</td>\n",
       "    </tr>\n",
       "    <tr>\n",
       "      <th>4</th>\n",
       "      <td>dummy</td>\n",
       "      <td>test</td>\n",
       "      <td>accuracy_score</td>\n",
       "      <td>0.501807</td>\n",
       "    </tr>\n",
       "    <tr>\n",
       "      <th>0</th>\n",
       "      <td>fsm</td>\n",
       "      <td>train</td>\n",
       "      <td>accuracy_score</td>\n",
       "      <td>0.918512</td>\n",
       "    </tr>\n",
       "    <tr>\n",
       "      <th>4</th>\n",
       "      <td>fsm</td>\n",
       "      <td>test</td>\n",
       "      <td>accuracy_score</td>\n",
       "      <td>0.885542</td>\n",
       "    </tr>\n",
       "    <tr>\n",
       "      <th>0</th>\n",
       "      <td>knn</td>\n",
       "      <td>train</td>\n",
       "      <td>accuracy_score</td>\n",
       "      <td>0.975900</td>\n",
       "    </tr>\n",
       "    <tr>\n",
       "      <th>4</th>\n",
       "      <td>knn</td>\n",
       "      <td>test</td>\n",
       "      <td>accuracy_score</td>\n",
       "      <td>0.971084</td>\n",
       "    </tr>\n",
       "    <tr>\n",
       "      <th>0</th>\n",
       "      <td>dtc</td>\n",
       "      <td>train</td>\n",
       "      <td>accuracy_score</td>\n",
       "      <td>1.000000</td>\n",
       "    </tr>\n",
       "    <tr>\n",
       "      <th>4</th>\n",
       "      <td>dtc</td>\n",
       "      <td>test</td>\n",
       "      <td>accuracy_score</td>\n",
       "      <td>0.902410</td>\n",
       "    </tr>\n",
       "    <tr>\n",
       "      <th>0</th>\n",
       "      <td>voting</td>\n",
       "      <td>train</td>\n",
       "      <td>accuracy_score</td>\n",
       "      <td>0.995180</td>\n",
       "    </tr>\n",
       "    <tr>\n",
       "      <th>4</th>\n",
       "      <td>voting</td>\n",
       "      <td>test</td>\n",
       "      <td>accuracy_score</td>\n",
       "      <td>0.949398</td>\n",
       "    </tr>\n",
       "    <tr>\n",
       "      <th>0</th>\n",
       "      <td>bagging</td>\n",
       "      <td>train</td>\n",
       "      <td>accuracy_score</td>\n",
       "      <td>0.997590</td>\n",
       "    </tr>\n",
       "    <tr>\n",
       "      <th>4</th>\n",
       "      <td>bagging</td>\n",
       "      <td>test</td>\n",
       "      <td>accuracy_score</td>\n",
       "      <td>0.940964</td>\n",
       "    </tr>\n",
       "    <tr>\n",
       "      <th>0</th>\n",
       "      <td>RandoCalForest</td>\n",
       "      <td>train</td>\n",
       "      <td>accuracy_score</td>\n",
       "      <td>1.000000</td>\n",
       "    </tr>\n",
       "    <tr>\n",
       "      <th>4</th>\n",
       "      <td>RandoCalForest</td>\n",
       "      <td>test</td>\n",
       "      <td>accuracy_score</td>\n",
       "      <td>0.960241</td>\n",
       "    </tr>\n",
       "    <tr>\n",
       "      <th>0</th>\n",
       "      <td>ExtraTrees</td>\n",
       "      <td>train</td>\n",
       "      <td>accuracy_score</td>\n",
       "      <td>1.000000</td>\n",
       "    </tr>\n",
       "    <tr>\n",
       "      <th>4</th>\n",
       "      <td>ExtraTrees</td>\n",
       "      <td>test</td>\n",
       "      <td>accuracy_score</td>\n",
       "      <td>0.957831</td>\n",
       "    </tr>\n",
       "    <tr>\n",
       "      <th>0</th>\n",
       "      <td>stacking</td>\n",
       "      <td>train</td>\n",
       "      <td>accuracy_score</td>\n",
       "      <td>0.999096</td>\n",
       "    </tr>\n",
       "    <tr>\n",
       "      <th>4</th>\n",
       "      <td>stacking</td>\n",
       "      <td>test</td>\n",
       "      <td>accuracy_score</td>\n",
       "      <td>0.975904</td>\n",
       "    </tr>\n",
       "    <tr>\n",
       "      <th>0</th>\n",
       "      <td>nn</td>\n",
       "      <td>train</td>\n",
       "      <td>accuracy_score</td>\n",
       "      <td>0.969875</td>\n",
       "    </tr>\n",
       "    <tr>\n",
       "      <th>4</th>\n",
       "      <td>nn</td>\n",
       "      <td>test</td>\n",
       "      <td>accuracy_score</td>\n",
       "      <td>0.951807</td>\n",
       "    </tr>\n",
       "    <tr>\n",
       "      <th>0</th>\n",
       "      <td>rgs</td>\n",
       "      <td>train</td>\n",
       "      <td>accuracy_score</td>\n",
       "      <td>0.865040</td>\n",
       "    </tr>\n",
       "    <tr>\n",
       "      <th>4</th>\n",
       "      <td>rgs</td>\n",
       "      <td>test</td>\n",
       "      <td>accuracy_score</td>\n",
       "      <td>0.848795</td>\n",
       "    </tr>\n",
       "    <tr>\n",
       "      <th>0</th>\n",
       "      <td>dummy</td>\n",
       "      <td>validate</td>\n",
       "      <td>accuracy_score</td>\n",
       "      <td>0.497942</td>\n",
       "    </tr>\n",
       "    <tr>\n",
       "      <th>0</th>\n",
       "      <td>fsm</td>\n",
       "      <td>validate</td>\n",
       "      <td>accuracy_score</td>\n",
       "      <td>0.893592</td>\n",
       "    </tr>\n",
       "    <tr>\n",
       "      <th>0</th>\n",
       "      <td>knn</td>\n",
       "      <td>validate</td>\n",
       "      <td>accuracy_score</td>\n",
       "      <td>0.974721</td>\n",
       "    </tr>\n",
       "    <tr>\n",
       "      <th>0</th>\n",
       "      <td>dtc</td>\n",
       "      <td>validate</td>\n",
       "      <td>accuracy_score</td>\n",
       "      <td>0.910053</td>\n",
       "    </tr>\n",
       "    <tr>\n",
       "      <th>0</th>\n",
       "      <td>voting</td>\n",
       "      <td>validate</td>\n",
       "      <td>accuracy_score</td>\n",
       "      <td>0.960024</td>\n",
       "    </tr>\n",
       "    <tr>\n",
       "      <th>0</th>\n",
       "      <td>bagging</td>\n",
       "      <td>validate</td>\n",
       "      <td>accuracy_score</td>\n",
       "      <td>0.947090</td>\n",
       "    </tr>\n",
       "    <tr>\n",
       "      <th>0</th>\n",
       "      <td>RandoCalForest</td>\n",
       "      <td>validate</td>\n",
       "      <td>accuracy_score</td>\n",
       "      <td>0.964727</td>\n",
       "    </tr>\n",
       "    <tr>\n",
       "      <th>0</th>\n",
       "      <td>ExtraTrees</td>\n",
       "      <td>validate</td>\n",
       "      <td>accuracy_score</td>\n",
       "      <td>0.964139</td>\n",
       "    </tr>\n",
       "    <tr>\n",
       "      <th>0</th>\n",
       "      <td>stacking</td>\n",
       "      <td>validate</td>\n",
       "      <td>accuracy_score</td>\n",
       "      <td>0.975897</td>\n",
       "    </tr>\n",
       "    <tr>\n",
       "      <th>0</th>\n",
       "      <td>nn</td>\n",
       "      <td>validate</td>\n",
       "      <td>accuracy_score</td>\n",
       "      <td>0.964727</td>\n",
       "    </tr>\n",
       "    <tr>\n",
       "      <th>0</th>\n",
       "      <td>rgs</td>\n",
       "      <td>validate</td>\n",
       "      <td>accuracy_score</td>\n",
       "      <td>0.844797</td>\n",
       "    </tr>\n",
       "    <tr>\n",
       "      <th>0</th>\n",
       "      <td>rgs</td>\n",
       "      <td>train</td>\n",
       "      <td>accuracy_score</td>\n",
       "      <td>0.823544</td>\n",
       "    </tr>\n",
       "    <tr>\n",
       "      <th>4</th>\n",
       "      <td>rgs</td>\n",
       "      <td>test</td>\n",
       "      <td>accuracy_score</td>\n",
       "      <td>0.814257</td>\n",
       "    </tr>\n",
       "  </tbody>\n",
       "</table>\n",
       "</div>"
      ],
      "text/plain": [
       "            model   dataset          metric     value\n",
       "0           dummy     train  accuracy_score  0.510619\n",
       "4           dummy      test  accuracy_score  0.501807\n",
       "0             fsm     train  accuracy_score  0.918512\n",
       "4             fsm      test  accuracy_score  0.885542\n",
       "0             knn     train  accuracy_score  0.975900\n",
       "4             knn      test  accuracy_score  0.971084\n",
       "0             dtc     train  accuracy_score  1.000000\n",
       "4             dtc      test  accuracy_score  0.902410\n",
       "0          voting     train  accuracy_score  0.995180\n",
       "4          voting      test  accuracy_score  0.949398\n",
       "0         bagging     train  accuracy_score  0.997590\n",
       "4         bagging      test  accuracy_score  0.940964\n",
       "0  RandoCalForest     train  accuracy_score  1.000000\n",
       "4  RandoCalForest      test  accuracy_score  0.960241\n",
       "0      ExtraTrees     train  accuracy_score  1.000000\n",
       "4      ExtraTrees      test  accuracy_score  0.957831\n",
       "0        stacking     train  accuracy_score  0.999096\n",
       "4        stacking      test  accuracy_score  0.975904\n",
       "0              nn     train  accuracy_score  0.969875\n",
       "4              nn      test  accuracy_score  0.951807\n",
       "0             rgs     train  accuracy_score  0.865040\n",
       "4             rgs      test  accuracy_score  0.848795\n",
       "0           dummy  validate  accuracy_score  0.497942\n",
       "0             fsm  validate  accuracy_score  0.893592\n",
       "0             knn  validate  accuracy_score  0.974721\n",
       "0             dtc  validate  accuracy_score  0.910053\n",
       "0          voting  validate  accuracy_score  0.960024\n",
       "0         bagging  validate  accuracy_score  0.947090\n",
       "0  RandoCalForest  validate  accuracy_score  0.964727\n",
       "0      ExtraTrees  validate  accuracy_score  0.964139\n",
       "0        stacking  validate  accuracy_score  0.975897\n",
       "0              nn  validate  accuracy_score  0.964727\n",
       "0             rgs  validate  accuracy_score  0.844797\n",
       "0             rgs     train  accuracy_score  0.823544\n",
       "4             rgs      test  accuracy_score  0.814257"
      ]
     },
     "metadata": {},
     "output_type": "display_data"
    }
   ],
   "source": [
    "model_dict.print_scores('accuracy_score')"
   ]
  },
  {
   "cell_type": "code",
   "execution_count": 84,
   "metadata": {
    "ExecuteTime": {
     "end_time": "2023-10-19T14:34:30.122921Z",
     "start_time": "2023-10-19T14:32:17.253921Z"
    }
   },
   "outputs": [
    {
     "name": "stdout",
     "output_type": "stream",
     "text": [
      "[Voting] ....................... (1 of 3) Processing lr, total=   2.5s\n",
      "[Voting] ....................... (2 of 3) Processing dt, total=   1.8s\n",
      "[Voting] ...................... (3 of 3) Processing knn, total=   0.0s\n"
     ]
    },
    {
     "name": "stderr",
     "output_type": "stream",
     "text": [
      "[Parallel(n_jobs=1)]: Done  49 tasks      | elapsed:    1.5s\n",
      "[Parallel(n_jobs=1)]: Done  49 tasks      | elapsed:    0.0s\n",
      "[Parallel(n_jobs=1)]: Done  49 tasks      | elapsed:    1.0s\n",
      "[Parallel(n_jobs=1)]: Done  49 tasks      | elapsed:    0.0s\n"
     ]
    },
    {
     "name": "stdout",
     "output_type": "stream",
     "text": [
      "Epoch 1/50\n",
      "9/9 - 0s - loss: 0.6791 - accuracy: 0.6074 - 491ms/epoch - 55ms/step\n",
      "Epoch 2/50\n",
      "9/9 - 0s - loss: 0.6231 - accuracy: 0.7327 - 61ms/epoch - 7ms/step\n",
      "Epoch 3/50\n",
      "9/9 - 0s - loss: 0.5533 - accuracy: 0.7911 - 52ms/epoch - 6ms/step\n",
      "Epoch 4/50\n",
      "9/9 - 0s - loss: 0.4853 - accuracy: 0.8397 - 56ms/epoch - 6ms/step\n",
      "Epoch 5/50\n",
      "9/9 - 0s - loss: 0.4240 - accuracy: 0.8634 - 49ms/epoch - 5ms/step\n",
      "Epoch 6/50\n",
      "9/9 - 0s - loss: 0.3715 - accuracy: 0.8773 - 50ms/epoch - 6ms/step\n",
      "Epoch 7/50\n",
      "9/9 - 0s - loss: 0.3292 - accuracy: 0.8828 - 79ms/epoch - 9ms/step\n",
      "Epoch 8/50\n",
      "9/9 - 0s - loss: 0.2990 - accuracy: 0.8899 - 56ms/epoch - 6ms/step\n",
      "Epoch 9/50\n",
      "9/9 - 0s - loss: 0.2813 - accuracy: 0.8931 - 54ms/epoch - 6ms/step\n",
      "Epoch 10/50\n",
      "9/9 - 0s - loss: 0.2638 - accuracy: 0.8970 - 45ms/epoch - 5ms/step\n",
      "Epoch 11/50\n",
      "9/9 - 0s - loss: 0.2525 - accuracy: 0.9030 - 46ms/epoch - 5ms/step\n",
      "Epoch 12/50\n",
      "9/9 - 0s - loss: 0.2416 - accuracy: 0.9055 - 48ms/epoch - 5ms/step\n",
      "Epoch 13/50\n",
      "9/9 - 0s - loss: 0.2310 - accuracy: 0.9136 - 44ms/epoch - 5ms/step\n",
      "Epoch 14/50\n",
      "9/9 - 0s - loss: 0.2200 - accuracy: 0.9206 - 43ms/epoch - 5ms/step\n",
      "Epoch 15/50\n",
      "9/9 - 0s - loss: 0.2106 - accuracy: 0.9220 - 48ms/epoch - 5ms/step\n",
      "Epoch 16/50\n",
      "9/9 - 0s - loss: 0.2016 - accuracy: 0.9270 - 57ms/epoch - 6ms/step\n",
      "Epoch 17/50\n",
      "9/9 - 0s - loss: 0.1922 - accuracy: 0.9304 - 44ms/epoch - 5ms/step\n",
      "Epoch 18/50\n",
      "9/9 - 0s - loss: 0.1846 - accuracy: 0.9340 - 45ms/epoch - 5ms/step\n",
      "Epoch 19/50\n",
      "9/9 - 0s - loss: 0.1780 - accuracy: 0.9366 - 52ms/epoch - 6ms/step\n",
      "Epoch 20/50\n",
      "9/9 - 0s - loss: 0.1714 - accuracy: 0.9388 - 48ms/epoch - 5ms/step\n",
      "Epoch 21/50\n",
      "9/9 - 0s - loss: 0.1653 - accuracy: 0.9424 - 45ms/epoch - 5ms/step\n",
      "Epoch 22/50\n",
      "9/9 - 0s - loss: 0.1596 - accuracy: 0.9432 - 49ms/epoch - 5ms/step\n",
      "Epoch 23/50\n",
      "9/9 - 0s - loss: 0.1550 - accuracy: 0.9458 - 48ms/epoch - 5ms/step\n",
      "Epoch 24/50\n",
      "9/9 - 0s - loss: 0.1509 - accuracy: 0.9463 - 45ms/epoch - 5ms/step\n",
      "Epoch 25/50\n",
      "9/9 - 0s - loss: 0.1484 - accuracy: 0.9498 - 50ms/epoch - 6ms/step\n",
      "Epoch 26/50\n",
      "9/9 - 0s - loss: 0.1430 - accuracy: 0.9512 - 49ms/epoch - 5ms/step\n",
      "Epoch 27/50\n",
      "9/9 - 0s - loss: 0.1375 - accuracy: 0.9525 - 45ms/epoch - 5ms/step\n",
      "Epoch 28/50\n",
      "9/9 - 0s - loss: 0.1345 - accuracy: 0.9528 - 41ms/epoch - 5ms/step\n",
      "Epoch 29/50\n",
      "9/9 - 0s - loss: 0.1317 - accuracy: 0.9551 - 43ms/epoch - 5ms/step\n",
      "Epoch 30/50\n",
      "9/9 - 0s - loss: 0.1283 - accuracy: 0.9558 - 49ms/epoch - 5ms/step\n",
      "Epoch 31/50\n",
      "9/9 - 0s - loss: 0.1263 - accuracy: 0.9578 - 53ms/epoch - 6ms/step\n",
      "Epoch 32/50\n",
      "9/9 - 0s - loss: 0.1232 - accuracy: 0.9582 - 45ms/epoch - 5ms/step\n",
      "Epoch 33/50\n",
      "9/9 - 0s - loss: 0.1208 - accuracy: 0.9595 - 53ms/epoch - 6ms/step\n",
      "Epoch 34/50\n",
      "9/9 - 0s - loss: 0.1181 - accuracy: 0.9585 - 54ms/epoch - 6ms/step\n",
      "Epoch 35/50\n",
      "9/9 - 0s - loss: 0.1166 - accuracy: 0.9611 - 48ms/epoch - 5ms/step\n",
      "Epoch 36/50\n",
      "9/9 - 0s - loss: 0.1142 - accuracy: 0.9608 - 50ms/epoch - 6ms/step\n",
      "Epoch 37/50\n",
      "9/9 - 0s - loss: 0.1108 - accuracy: 0.9635 - 53ms/epoch - 6ms/step\n",
      "Epoch 38/50\n",
      "9/9 - 0s - loss: 0.1099 - accuracy: 0.9614 - 49ms/epoch - 5ms/step\n",
      "Epoch 39/50\n",
      "9/9 - 0s - loss: 0.1076 - accuracy: 0.9634 - 43ms/epoch - 5ms/step\n",
      "Epoch 40/50\n",
      "9/9 - 0s - loss: 0.1054 - accuracy: 0.9642 - 45ms/epoch - 5ms/step\n",
      "Epoch 41/50\n",
      "9/9 - 0s - loss: 0.1045 - accuracy: 0.9647 - 41ms/epoch - 5ms/step\n",
      "Epoch 42/50\n",
      "9/9 - 0s - loss: 0.1021 - accuracy: 0.9653 - 41ms/epoch - 5ms/step\n",
      "Epoch 43/50\n",
      "9/9 - 0s - loss: 0.0995 - accuracy: 0.9670 - 46ms/epoch - 5ms/step\n",
      "Epoch 44/50\n",
      "9/9 - 0s - loss: 0.1001 - accuracy: 0.9675 - 43ms/epoch - 5ms/step\n",
      "Epoch 45/50\n",
      "9/9 - 0s - loss: 0.0986 - accuracy: 0.9673 - 39ms/epoch - 4ms/step\n",
      "Epoch 46/50\n",
      "9/9 - 0s - loss: 0.0959 - accuracy: 0.9688 - 43ms/epoch - 5ms/step\n",
      "Epoch 47/50\n",
      "9/9 - 0s - loss: 0.0931 - accuracy: 0.9704 - 43ms/epoch - 5ms/step\n",
      "Epoch 48/50\n",
      "9/9 - 0s - loss: 0.0920 - accuracy: 0.9710 - 44ms/epoch - 5ms/step\n",
      "Epoch 49/50\n",
      "9/9 - 0s - loss: 0.0902 - accuracy: 0.9719 - 47ms/epoch - 5ms/step\n",
      "Epoch 50/50\n",
      "9/9 - 0s - loss: 0.0885 - accuracy: 0.9718 - 54ms/epoch - 6ms/step\n",
      "2/2 - 0s - 63ms/epoch - 32ms/step\n"
     ]
    }
   ],
   "source": [
    "model_dict.validate_models()"
   ]
  },
  {
   "cell_type": "code",
   "execution_count": 85,
   "metadata": {
    "ExecuteTime": {
     "end_time": "2023-10-19T14:34:30.228922Z",
     "start_time": "2023-10-19T14:34:30.199922Z"
    },
    "scrolled": false
   },
   "outputs": [
    {
     "data": {
      "text/html": [
       "<div>\n",
       "<style scoped>\n",
       "    .dataframe tbody tr th:only-of-type {\n",
       "        vertical-align: middle;\n",
       "    }\n",
       "\n",
       "    .dataframe tbody tr th {\n",
       "        vertical-align: top;\n",
       "    }\n",
       "\n",
       "    .dataframe thead th {\n",
       "        text-align: right;\n",
       "    }\n",
       "</style>\n",
       "<table border=\"1\" class=\"dataframe\">\n",
       "  <thead>\n",
       "    <tr style=\"text-align: right;\">\n",
       "      <th></th>\n",
       "      <th>model</th>\n",
       "      <th>dataset</th>\n",
       "      <th>metric</th>\n",
       "      <th>value</th>\n",
       "    </tr>\n",
       "  </thead>\n",
       "  <tbody>\n",
       "    <tr>\n",
       "      <th>0</th>\n",
       "      <td>dummy</td>\n",
       "      <td>train</td>\n",
       "      <td>accuracy_score</td>\n",
       "      <td>0.510619</td>\n",
       "    </tr>\n",
       "    <tr>\n",
       "      <th>4</th>\n",
       "      <td>dummy</td>\n",
       "      <td>test</td>\n",
       "      <td>accuracy_score</td>\n",
       "      <td>0.501807</td>\n",
       "    </tr>\n",
       "    <tr>\n",
       "      <th>0</th>\n",
       "      <td>fsm</td>\n",
       "      <td>train</td>\n",
       "      <td>accuracy_score</td>\n",
       "      <td>0.918512</td>\n",
       "    </tr>\n",
       "    <tr>\n",
       "      <th>4</th>\n",
       "      <td>fsm</td>\n",
       "      <td>test</td>\n",
       "      <td>accuracy_score</td>\n",
       "      <td>0.885542</td>\n",
       "    </tr>\n",
       "    <tr>\n",
       "      <th>0</th>\n",
       "      <td>knn</td>\n",
       "      <td>train</td>\n",
       "      <td>accuracy_score</td>\n",
       "      <td>0.975900</td>\n",
       "    </tr>\n",
       "    <tr>\n",
       "      <th>4</th>\n",
       "      <td>knn</td>\n",
       "      <td>test</td>\n",
       "      <td>accuracy_score</td>\n",
       "      <td>0.971084</td>\n",
       "    </tr>\n",
       "    <tr>\n",
       "      <th>0</th>\n",
       "      <td>dtc</td>\n",
       "      <td>train</td>\n",
       "      <td>accuracy_score</td>\n",
       "      <td>1.000000</td>\n",
       "    </tr>\n",
       "    <tr>\n",
       "      <th>4</th>\n",
       "      <td>dtc</td>\n",
       "      <td>test</td>\n",
       "      <td>accuracy_score</td>\n",
       "      <td>0.902410</td>\n",
       "    </tr>\n",
       "    <tr>\n",
       "      <th>0</th>\n",
       "      <td>voting</td>\n",
       "      <td>train</td>\n",
       "      <td>accuracy_score</td>\n",
       "      <td>0.995180</td>\n",
       "    </tr>\n",
       "    <tr>\n",
       "      <th>4</th>\n",
       "      <td>voting</td>\n",
       "      <td>test</td>\n",
       "      <td>accuracy_score</td>\n",
       "      <td>0.949398</td>\n",
       "    </tr>\n",
       "    <tr>\n",
       "      <th>0</th>\n",
       "      <td>bagging</td>\n",
       "      <td>train</td>\n",
       "      <td>accuracy_score</td>\n",
       "      <td>0.997590</td>\n",
       "    </tr>\n",
       "    <tr>\n",
       "      <th>4</th>\n",
       "      <td>bagging</td>\n",
       "      <td>test</td>\n",
       "      <td>accuracy_score</td>\n",
       "      <td>0.940964</td>\n",
       "    </tr>\n",
       "    <tr>\n",
       "      <th>0</th>\n",
       "      <td>RandoCalForest</td>\n",
       "      <td>train</td>\n",
       "      <td>accuracy_score</td>\n",
       "      <td>1.000000</td>\n",
       "    </tr>\n",
       "    <tr>\n",
       "      <th>4</th>\n",
       "      <td>RandoCalForest</td>\n",
       "      <td>test</td>\n",
       "      <td>accuracy_score</td>\n",
       "      <td>0.960241</td>\n",
       "    </tr>\n",
       "    <tr>\n",
       "      <th>0</th>\n",
       "      <td>ExtraTrees</td>\n",
       "      <td>train</td>\n",
       "      <td>accuracy_score</td>\n",
       "      <td>1.000000</td>\n",
       "    </tr>\n",
       "    <tr>\n",
       "      <th>4</th>\n",
       "      <td>ExtraTrees</td>\n",
       "      <td>test</td>\n",
       "      <td>accuracy_score</td>\n",
       "      <td>0.957831</td>\n",
       "    </tr>\n",
       "    <tr>\n",
       "      <th>0</th>\n",
       "      <td>stacking</td>\n",
       "      <td>train</td>\n",
       "      <td>accuracy_score</td>\n",
       "      <td>0.999096</td>\n",
       "    </tr>\n",
       "    <tr>\n",
       "      <th>4</th>\n",
       "      <td>stacking</td>\n",
       "      <td>test</td>\n",
       "      <td>accuracy_score</td>\n",
       "      <td>0.975904</td>\n",
       "    </tr>\n",
       "    <tr>\n",
       "      <th>0</th>\n",
       "      <td>nn</td>\n",
       "      <td>train</td>\n",
       "      <td>accuracy_score</td>\n",
       "      <td>0.969875</td>\n",
       "    </tr>\n",
       "    <tr>\n",
       "      <th>4</th>\n",
       "      <td>nn</td>\n",
       "      <td>test</td>\n",
       "      <td>accuracy_score</td>\n",
       "      <td>0.951807</td>\n",
       "    </tr>\n",
       "    <tr>\n",
       "      <th>0</th>\n",
       "      <td>rgs</td>\n",
       "      <td>train</td>\n",
       "      <td>accuracy_score</td>\n",
       "      <td>0.865040</td>\n",
       "    </tr>\n",
       "    <tr>\n",
       "      <th>4</th>\n",
       "      <td>rgs</td>\n",
       "      <td>test</td>\n",
       "      <td>accuracy_score</td>\n",
       "      <td>0.848795</td>\n",
       "    </tr>\n",
       "    <tr>\n",
       "      <th>0</th>\n",
       "      <td>dummy</td>\n",
       "      <td>validate</td>\n",
       "      <td>accuracy_score</td>\n",
       "      <td>0.497942</td>\n",
       "    </tr>\n",
       "    <tr>\n",
       "      <th>0</th>\n",
       "      <td>fsm</td>\n",
       "      <td>validate</td>\n",
       "      <td>accuracy_score</td>\n",
       "      <td>0.893592</td>\n",
       "    </tr>\n",
       "    <tr>\n",
       "      <th>0</th>\n",
       "      <td>knn</td>\n",
       "      <td>validate</td>\n",
       "      <td>accuracy_score</td>\n",
       "      <td>0.974721</td>\n",
       "    </tr>\n",
       "    <tr>\n",
       "      <th>0</th>\n",
       "      <td>dtc</td>\n",
       "      <td>validate</td>\n",
       "      <td>accuracy_score</td>\n",
       "      <td>0.910053</td>\n",
       "    </tr>\n",
       "    <tr>\n",
       "      <th>0</th>\n",
       "      <td>voting</td>\n",
       "      <td>validate</td>\n",
       "      <td>accuracy_score</td>\n",
       "      <td>0.960024</td>\n",
       "    </tr>\n",
       "    <tr>\n",
       "      <th>0</th>\n",
       "      <td>bagging</td>\n",
       "      <td>validate</td>\n",
       "      <td>accuracy_score</td>\n",
       "      <td>0.947090</td>\n",
       "    </tr>\n",
       "    <tr>\n",
       "      <th>0</th>\n",
       "      <td>RandoCalForest</td>\n",
       "      <td>validate</td>\n",
       "      <td>accuracy_score</td>\n",
       "      <td>0.964727</td>\n",
       "    </tr>\n",
       "    <tr>\n",
       "      <th>0</th>\n",
       "      <td>ExtraTrees</td>\n",
       "      <td>validate</td>\n",
       "      <td>accuracy_score</td>\n",
       "      <td>0.964139</td>\n",
       "    </tr>\n",
       "    <tr>\n",
       "      <th>0</th>\n",
       "      <td>stacking</td>\n",
       "      <td>validate</td>\n",
       "      <td>accuracy_score</td>\n",
       "      <td>0.975897</td>\n",
       "    </tr>\n",
       "    <tr>\n",
       "      <th>0</th>\n",
       "      <td>nn</td>\n",
       "      <td>validate</td>\n",
       "      <td>accuracy_score</td>\n",
       "      <td>0.964727</td>\n",
       "    </tr>\n",
       "    <tr>\n",
       "      <th>0</th>\n",
       "      <td>rgs</td>\n",
       "      <td>validate</td>\n",
       "      <td>accuracy_score</td>\n",
       "      <td>0.844797</td>\n",
       "    </tr>\n",
       "  </tbody>\n",
       "</table>\n",
       "</div>"
      ],
      "text/plain": [
       "            model   dataset          metric     value\n",
       "0           dummy     train  accuracy_score  0.510619\n",
       "4           dummy      test  accuracy_score  0.501807\n",
       "0             fsm     train  accuracy_score  0.918512\n",
       "4             fsm      test  accuracy_score  0.885542\n",
       "0             knn     train  accuracy_score  0.975900\n",
       "4             knn      test  accuracy_score  0.971084\n",
       "0             dtc     train  accuracy_score  1.000000\n",
       "4             dtc      test  accuracy_score  0.902410\n",
       "0          voting     train  accuracy_score  0.995180\n",
       "4          voting      test  accuracy_score  0.949398\n",
       "0         bagging     train  accuracy_score  0.997590\n",
       "4         bagging      test  accuracy_score  0.940964\n",
       "0  RandoCalForest     train  accuracy_score  1.000000\n",
       "4  RandoCalForest      test  accuracy_score  0.960241\n",
       "0      ExtraTrees     train  accuracy_score  1.000000\n",
       "4      ExtraTrees      test  accuracy_score  0.957831\n",
       "0        stacking     train  accuracy_score  0.999096\n",
       "4        stacking      test  accuracy_score  0.975904\n",
       "0              nn     train  accuracy_score  0.969875\n",
       "4              nn      test  accuracy_score  0.951807\n",
       "0             rgs     train  accuracy_score  0.865040\n",
       "4             rgs      test  accuracy_score  0.848795\n",
       "0           dummy  validate  accuracy_score  0.497942\n",
       "0             fsm  validate  accuracy_score  0.893592\n",
       "0             knn  validate  accuracy_score  0.974721\n",
       "0             dtc  validate  accuracy_score  0.910053\n",
       "0          voting  validate  accuracy_score  0.960024\n",
       "0         bagging  validate  accuracy_score  0.947090\n",
       "0  RandoCalForest  validate  accuracy_score  0.964727\n",
       "0      ExtraTrees  validate  accuracy_score  0.964139\n",
       "0        stacking  validate  accuracy_score  0.975897\n",
       "0              nn  validate  accuracy_score  0.964727\n",
       "0             rgs  validate  accuracy_score  0.844797"
      ]
     },
     "metadata": {},
     "output_type": "display_data"
    }
   ],
   "source": [
    "model_dict.print_scores('accuracy_score')"
   ]
  },
  {
   "cell_type": "code",
   "execution_count": 86,
   "metadata": {
    "ExecuteTime": {
     "end_time": "2023-10-19T14:34:30.290922Z",
     "start_time": "2023-10-19T14:34:30.276922Z"
    },
    "scrolled": true
   },
   "outputs": [],
   "source": [
    "results_df  = model_dict.return_scores()"
   ]
  },
  {
   "cell_type": "markdown",
   "metadata": {},
   "source": [
    "## NN Tuning"
   ]
  },
  {
   "cell_type": "markdown",
   "metadata": {},
   "source": [
    "This is stolen from [here](https://adriangb.com/scikeras/refs/heads/master/notebooks/Basic_Usage.html)\n",
    "\n",
    "[Here](https://github.com/tblatrille/Keras_GridSearch/tree/main) is a way to tune deeper into your NN."
   ]
  },
  {
   "cell_type": "code",
   "execution_count": 21,
   "metadata": {
    "ExecuteTime": {
     "end_time": "2023-10-17T23:35:45.812317Z",
     "start_time": "2023-10-17T23:35:45.799344Z"
    }
   },
   "outputs": [
    {
     "data": {
      "text/plain": [
       "(19920, 23)"
      ]
     },
     "execution_count": 21,
     "metadata": {},
     "output_type": "execute_result"
    }
   ],
   "source": [
    "X_train.shape"
   ]
  },
  {
   "cell_type": "code",
   "execution_count": 117,
   "metadata": {
    "ExecuteTime": {
     "end_time": "2023-10-19T14:50:39.372861Z",
     "start_time": "2023-10-19T14:50:39.365859Z"
    }
   },
   "outputs": [],
   "source": [
    "def build_model(nbr_features=784):\n",
    "    \n",
    "    model = Sequential()\n",
    "    \n",
    "    model.add(Input(nbr_features))\n",
    "    \n",
    "    model.add(Dense(units=12, activation='relu'))\n",
    "    \n",
    "    model.add(Dropout(.5))\n",
    "    model.add(Dense(8, activation='relu'))\n",
    "    model.add(Dense(4, activation='relu'))\n",
    "    model.add(Dense(1, activation = 'sigmoid'))\n",
    "\n",
    "    model.compile(loss='binary_crossentropy',\n",
    "                  metrics=['accuracy'])\n",
    "    \n",
    "\n",
    "    return model"
   ]
  },
  {
   "cell_type": "code",
   "execution_count": 33,
   "metadata": {
    "ExecuteTime": {
     "end_time": "2023-10-17T23:38:01.465315Z",
     "start_time": "2023-10-17T23:38:01.453286Z"
    }
   },
   "outputs": [],
   "source": [
    "# Define the EarlyStopping object\n",
    "early_stop = EarlyStopping(monitor='loss', \n",
    "                           min_delta=1e-4,\n",
    "                           verbose=1,\n",
    "                           patience=5,\n",
    "                           mode='min')\n",
    "\n",
    "keras_model = KerasClassifier(build_model,\n",
    "                              verbose=2,\n",
    "                              callbacks = [early_stop])"
   ]
  },
  {
   "cell_type": "code",
   "execution_count": 34,
   "metadata": {
    "ExecuteTime": {
     "end_time": "2023-10-17T23:38:01.891288Z",
     "start_time": "2023-10-17T23:38:01.888323Z"
    }
   },
   "outputs": [],
   "source": [
    "nn_gs_pipe = Pipeline([('nn', keras_model)])"
   ]
  },
  {
   "cell_type": "code",
   "execution_count": 35,
   "metadata": {
    "ExecuteTime": {
     "end_time": "2023-10-17T23:38:02.366314Z",
     "start_time": "2023-10-17T23:38:02.348316Z"
    }
   },
   "outputs": [],
   "source": [
    "param_grid = {\n",
    "    'nn__epochs': [10, 20, 30],\n",
    "    'nn__batch_size':[2, 16, 32],\n",
    "    'nn__optimizer':['Adam', 'sgd']\n",
    "}\n"
   ]
  },
  {
   "cell_type": "code",
   "execution_count": 38,
   "metadata": {
    "ExecuteTime": {
     "end_time": "2023-10-18T00:12:09.645133Z",
     "start_time": "2023-10-18T00:12:09.617133Z"
    }
   },
   "outputs": [],
   "source": [
    "nn_gs = GridSearchCV(nn_gs_pipe, param_grid, verbose=2, return_train_score=True, n_jobs=3, cv=3)"
   ]
  },
  {
   "cell_type": "code",
   "execution_count": 39,
   "metadata": {
    "ExecuteTime": {
     "end_time": "2023-10-18T05:16:12.347839Z",
     "start_time": "2023-10-18T00:12:11.752570Z"
    },
    "scrolled": true
   },
   "outputs": [
    {
     "name": "stdout",
     "output_type": "stream",
     "text": [
      "Fitting 3 folds for each of 18 candidates, totalling 54 fits\n",
      "Epoch 1/10\n",
      "1245/1245 - 12s - loss: 379.4944 - accuracy: 0.7137 - 12s/epoch - 10ms/step\n",
      "Epoch 2/10\n",
      "1245/1245 - 4s - loss: 0.6599 - accuracy: 0.7768 - 4s/epoch - 3ms/step\n",
      "Epoch 3/10\n",
      "1245/1245 - 4s - loss: 0.5671 - accuracy: 0.7769 - 4s/epoch - 3ms/step\n",
      "Epoch 4/10\n",
      "1245/1245 - 4s - loss: 0.5644 - accuracy: 0.7773 - 4s/epoch - 3ms/step\n",
      "Epoch 5/10\n",
      "1245/1245 - 4s - loss: 0.5841 - accuracy: 0.7768 - 4s/epoch - 3ms/step\n",
      "Epoch 6/10\n",
      "1245/1245 - 4s - loss: 0.5660 - accuracy: 0.7768 - 4s/epoch - 3ms/step\n",
      "Epoch 7/10\n",
      "1245/1245 - 4s - loss: 0.7019 - accuracy: 0.7772 - 4s/epoch - 3ms/step\n",
      "Epoch 8/10\n",
      "1245/1245 - 4s - loss: 0.5750 - accuracy: 0.7774 - 4s/epoch - 3ms/step\n",
      "Epoch 9/10\n",
      "1245/1245 - 4s - loss: 0.6979 - accuracy: 0.7769 - 4s/epoch - 3ms/step\n",
      "Epoch 00009: early stopping\n"
     ]
    }
   ],
   "source": [
    "# 5 hour fit time!\n",
    "grid_result = nn_gs.fit(X_train, y_train)"
   ]
  },
  {
   "cell_type": "code",
   "execution_count": null,
   "metadata": {},
   "outputs": [],
   "source": [
    "# {'nn__batch_size': 16, 'nn__epochs': 10, 'nn__optimizer': 'sgd'}"
   ]
  },
  {
   "cell_type": "code",
   "execution_count": 52,
   "metadata": {
    "ExecuteTime": {
     "end_time": "2023-10-18T17:36:47.532911Z",
     "start_time": "2023-10-18T17:36:47.516913Z"
    }
   },
   "outputs": [],
   "source": [
    "early_stop = EarlyStopping(monitor='loss', \n",
    "                           min_delta=1e-4,\n",
    "                           verbose=1,\n",
    "                           patience=5,\n",
    "                           mode='min')\n",
    "\n",
    "best_nn = KerasClassifier(build_model,\n",
    "                              verbose=2,\n",
    "                              batch_size=16,\n",
    "                              epochs=10,\n",
    "                              optimizer='sgd',\n",
    "                              callbacks = [early_stop])"
   ]
  },
  {
   "cell_type": "code",
   "execution_count": 53,
   "metadata": {
    "ExecuteTime": {
     "end_time": "2023-10-18T17:36:50.064078Z",
     "start_time": "2023-10-18T17:36:50.048085Z"
    }
   },
   "outputs": [],
   "source": [
    "nn_gs_results = SaveModel(model=best_nn, \n",
    "                          model_name='best_nn',\n",
    "                          X_train=X_train,\n",
    "                          X_test=X_test,\n",
    "                          y_train=y_train,\n",
    "                          y_test=y_test,\n",
    "                          X_tt=X_tt,\n",
    "                          y_tt=y_tt,\n",
    "                          X_val=X_val,\n",
    "                          y_val=y_val)"
   ]
  },
  {
   "cell_type": "code",
   "execution_count": 54,
   "metadata": {
    "ExecuteTime": {
     "end_time": "2023-10-18T17:37:28.690979Z",
     "start_time": "2023-10-18T17:36:51.351523Z"
    }
   },
   "outputs": [
    {
     "name": "stdout",
     "output_type": "stream",
     "text": [
      "Epoch 1/10\n",
      "1245/1245 - 4s - loss: 503.0487 - accuracy: 0.7413 - 4s/epoch - 3ms/step\n",
      "Epoch 2/10\n",
      "1245/1245 - 3s - loss: 3.9017 - accuracy: 0.7740 - 3s/epoch - 3ms/step\n",
      "Epoch 3/10\n",
      "1245/1245 - 4s - loss: 2.0705 - accuracy: 0.7767 - 4s/epoch - 3ms/step\n",
      "Epoch 4/10\n",
      "1245/1245 - 3s - loss: 0.8834 - accuracy: 0.7779 - 3s/epoch - 3ms/step\n",
      "Epoch 5/10\n",
      "1245/1245 - 3s - loss: 0.7484 - accuracy: 0.7778 - 3s/epoch - 3ms/step\n",
      "Epoch 6/10\n",
      "1245/1245 - 3s - loss: 0.7587 - accuracy: 0.7779 - 3s/epoch - 3ms/step\n",
      "Epoch 7/10\n",
      "1245/1245 - 3s - loss: 0.8852 - accuracy: 0.7778 - 3s/epoch - 3ms/step\n",
      "Epoch 8/10\n",
      "1245/1245 - 3s - loss: 0.6012 - accuracy: 0.7779 - 3s/epoch - 3ms/step\n",
      "Epoch 9/10\n",
      "1245/1245 - 4s - loss: 1.1667 - accuracy: 0.7778 - 4s/epoch - 3ms/step\n",
      "Epoch 10/10\n",
      "1245/1245 - 4s - loss: 0.6706 - accuracy: 0.7778 - 4s/epoch - 3ms/step\n",
      "1245/1245 - 1s - 1s/epoch - 933us/step\n",
      "312/312 - 0s - 393ms/epoch - 1ms/step\n"
     ]
    },
    {
     "name": "stderr",
     "output_type": "stream",
     "text": [
      "E:\\python-envs\\tf-gpu\\lib\\site-packages\\sklearn\\metrics\\_classification.py:1318: UndefinedMetricWarning: Precision is ill-defined and being set to 0.0 due to no predicted samples. Use `zero_division` parameter to control this behavior.\n",
      "  _warn_prf(average, modifier, msg_start, len(result))\n",
      "E:\\python-envs\\tf-gpu\\lib\\site-packages\\sklearn\\metrics\\_classification.py:1318: UndefinedMetricWarning: Precision is ill-defined and being set to 0.0 due to no predicted samples. Use `zero_division` parameter to control this behavior.\n",
      "  _warn_prf(average, modifier, msg_start, len(result))\n"
     ]
    }
   ],
   "source": [
    "nn_gs_results.score_model_train_test()"
   ]
  },
  {
   "cell_type": "code",
   "execution_count": 50,
   "metadata": {
    "ExecuteTime": {
     "end_time": "2023-10-18T17:29:15.836832Z",
     "start_time": "2023-10-18T17:29:15.790832Z"
    }
   },
   "outputs": [
    {
     "ename": "NameError",
     "evalue": "name 'model_dict' is not defined",
     "output_type": "error",
     "traceback": [
      "\u001b[1;31m---------------------------------------------------------------------------\u001b[0m",
      "\u001b[1;31mNameError\u001b[0m                                 Traceback (most recent call last)",
      "\u001b[1;32m~\\AppData\\Local\\Temp/ipykernel_24916/4065964923.py\u001b[0m in \u001b[0;36m<module>\u001b[1;34m\u001b[0m\n\u001b[1;32m----> 1\u001b[1;33m \u001b[0mmodel_dict\u001b[0m\u001b[1;33m.\u001b[0m\u001b[0madd_model\u001b[0m\u001b[1;33m(\u001b[0m\u001b[0mnn_gs_results\u001b[0m\u001b[1;33m)\u001b[0m\u001b[1;33m\u001b[0m\u001b[1;33m\u001b[0m\u001b[0m\n\u001b[0m",
      "\u001b[1;31mNameError\u001b[0m: name 'model_dict' is not defined"
     ]
    }
   ],
   "source": [
    "model_dict.add_model(nn_gs_results)"
   ]
  },
  {
   "cell_type": "code",
   "execution_count": null,
   "metadata": {
    "ExecuteTime": {
     "end_time": "2023-10-18T17:29:15.844831Z",
     "start_time": "2023-10-18T17:29:15.844831Z"
    }
   },
   "outputs": [],
   "source": [
    "model_dict.plot_models_roc_curves()"
   ]
  },
  {
   "cell_type": "code",
   "execution_count": null,
   "metadata": {
    "ExecuteTime": {
     "end_time": "2023-10-18T17:29:15.854834Z",
     "start_time": "2023-10-18T17:29:15.854834Z"
    }
   },
   "outputs": [],
   "source": [
    "model_dict.plot_models_roc_curves('test')"
   ]
  },
  {
   "cell_type": "code",
   "execution_count": null,
   "metadata": {},
   "outputs": [],
   "source": [
    "model_dict.print_scores('accuracy_score')"
   ]
  },
  {
   "cell_type": "code",
   "execution_count": null,
   "metadata": {},
   "outputs": [],
   "source": [
    "results_df  = model_dict.return_scores()"
   ]
  }
 ],
 "metadata": {
  "kernelspec": {
   "display_name": "tf-gpu",
   "language": "python",
   "name": "tf-gpu"
  },
  "language_info": {
   "codemirror_mode": {
    "name": "ipython",
    "version": 3
   },
   "file_extension": ".py",
   "mimetype": "text/x-python",
   "name": "python",
   "nbconvert_exporter": "python",
   "pygments_lexer": "ipython3",
   "version": "3.9.9"
  },
  "toc": {
   "base_numbering": 1,
   "nav_menu": {},
   "number_sections": true,
   "sideBar": true,
   "skip_h1_title": false,
   "title_cell": "Table of Contents",
   "title_sidebar": "Contents",
   "toc_cell": false,
   "toc_position": {},
   "toc_section_display": true,
   "toc_window_display": false
  },
  "varInspector": {
   "cols": {
    "lenName": 16,
    "lenType": 16,
    "lenVar": 40
   },
   "kernels_config": {
    "python": {
     "delete_cmd_postfix": "",
     "delete_cmd_prefix": "del ",
     "library": "var_list.py",
     "varRefreshCmd": "print(var_dic_list())"
    },
    "r": {
     "delete_cmd_postfix": ") ",
     "delete_cmd_prefix": "rm(",
     "library": "var_list.r",
     "varRefreshCmd": "cat(var_dic_list()) "
    }
   },
   "types_to_exclude": [
    "module",
    "function",
    "builtin_function_or_method",
    "instance",
    "_Feature"
   ],
   "window_display": false
  }
 },
 "nbformat": 4,
 "nbformat_minor": 4
}
