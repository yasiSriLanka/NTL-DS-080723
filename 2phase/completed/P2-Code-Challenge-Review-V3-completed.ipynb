{
 "cells": [
  {
   "cell_type": "markdown",
   "metadata": {},
   "source": [
    "# Assessment Review"
   ]
  },
  {
   "cell_type": "markdown",
   "metadata": {},
   "source": [
    "The topics covered will be:\n",
    "\n",
    "1. SQL\n",
    "2. Bayesian Statistics\n",
    "3. Normal Distributions\n",
    "4. Statistical Tests"
   ]
  },
  {
   "cell_type": "code",
   "execution_count": 1,
   "metadata": {
    "ExecuteTime": {
     "end_time": "2023-09-07T18:30:38.172889Z",
     "start_time": "2023-09-07T18:30:38.145892Z"
    }
   },
   "outputs": [],
   "source": [
    "from src.call import call_on_students"
   ]
  },
  {
   "cell_type": "markdown",
   "metadata": {},
   "source": [
    "## Part 1: SQL"
   ]
  },
  {
   "cell_type": "code",
   "execution_count": 3,
   "metadata": {
    "ExecuteTime": {
     "end_time": "2023-09-07T18:34:23.804104Z",
     "start_time": "2023-09-07T18:34:23.336077Z"
    }
   },
   "outputs": [],
   "source": [
    "# Need to import pandas and sqlite3\n",
    "import pandas as pd\n",
    "import sqlite3"
   ]
  },
  {
   "cell_type": "code",
   "execution_count": 4,
   "metadata": {
    "ExecuteTime": {
     "end_time": "2023-09-07T18:34:29.831788Z",
     "start_time": "2023-09-07T18:34:29.806788Z"
    }
   },
   "outputs": [],
   "source": [
    "conn = sqlite3.connect('data/Chinook_Sqlite.sqlite')"
   ]
  },
  {
   "cell_type": "code",
   "execution_count": 5,
   "metadata": {
    "ExecuteTime": {
     "end_time": "2023-09-07T18:34:31.564329Z",
     "start_time": "2023-09-07T18:34:31.376038Z"
    }
   },
   "outputs": [
    {
     "data": {
      "text/html": [
       "<div>\n",
       "<style scoped>\n",
       "    .dataframe tbody tr th:only-of-type {\n",
       "        vertical-align: middle;\n",
       "    }\n",
       "\n",
       "    .dataframe tbody tr th {\n",
       "        vertical-align: top;\n",
       "    }\n",
       "\n",
       "    .dataframe thead th {\n",
       "        text-align: right;\n",
       "    }\n",
       "</style>\n",
       "<table border=\"1\" class=\"dataframe\">\n",
       "  <thead>\n",
       "    <tr style=\"text-align: right;\">\n",
       "      <th></th>\n",
       "      <th>CustomerId</th>\n",
       "      <th>FirstName</th>\n",
       "      <th>LastName</th>\n",
       "      <th>Company</th>\n",
       "      <th>Address</th>\n",
       "      <th>City</th>\n",
       "      <th>State</th>\n",
       "      <th>Country</th>\n",
       "      <th>PostalCode</th>\n",
       "      <th>Phone</th>\n",
       "      <th>Fax</th>\n",
       "      <th>Email</th>\n",
       "      <th>SupportRepId</th>\n",
       "    </tr>\n",
       "  </thead>\n",
       "  <tbody>\n",
       "    <tr>\n",
       "      <th>0</th>\n",
       "      <td>1</td>\n",
       "      <td>Luís</td>\n",
       "      <td>Gonçalves</td>\n",
       "      <td>Embraer - Empresa Brasileira de Aeronáutica S.A.</td>\n",
       "      <td>Av. Brigadeiro Faria Lima, 2170</td>\n",
       "      <td>São José dos Campos</td>\n",
       "      <td>SP</td>\n",
       "      <td>Brazil</td>\n",
       "      <td>12227-000</td>\n",
       "      <td>+55 (12) 3923-5555</td>\n",
       "      <td>+55 (12) 3923-5566</td>\n",
       "      <td>luisg@embraer.com.br</td>\n",
       "      <td>3</td>\n",
       "    </tr>\n",
       "    <tr>\n",
       "      <th>1</th>\n",
       "      <td>2</td>\n",
       "      <td>Leonie</td>\n",
       "      <td>Köhler</td>\n",
       "      <td>None</td>\n",
       "      <td>Theodor-Heuss-Straße 34</td>\n",
       "      <td>Stuttgart</td>\n",
       "      <td>None</td>\n",
       "      <td>Germany</td>\n",
       "      <td>70174</td>\n",
       "      <td>+49 0711 2842222</td>\n",
       "      <td>None</td>\n",
       "      <td>leonekohler@surfeu.de</td>\n",
       "      <td>5</td>\n",
       "    </tr>\n",
       "    <tr>\n",
       "      <th>2</th>\n",
       "      <td>3</td>\n",
       "      <td>François</td>\n",
       "      <td>Tremblay</td>\n",
       "      <td>None</td>\n",
       "      <td>1498 rue Bélanger</td>\n",
       "      <td>Montréal</td>\n",
       "      <td>QC</td>\n",
       "      <td>Canada</td>\n",
       "      <td>H2G 1A7</td>\n",
       "      <td>+1 (514) 721-4711</td>\n",
       "      <td>None</td>\n",
       "      <td>ftremblay@gmail.com</td>\n",
       "      <td>3</td>\n",
       "    </tr>\n",
       "  </tbody>\n",
       "</table>\n",
       "</div>"
      ],
      "text/plain": [
       "   CustomerId FirstName   LastName  \\\n",
       "0           1      Luís  Gonçalves   \n",
       "1           2    Leonie     Köhler   \n",
       "2           3  François   Tremblay   \n",
       "\n",
       "                                            Company  \\\n",
       "0  Embraer - Empresa Brasileira de Aeronáutica S.A.   \n",
       "1                                              None   \n",
       "2                                              None   \n",
       "\n",
       "                           Address                 City State  Country  \\\n",
       "0  Av. Brigadeiro Faria Lima, 2170  São José dos Campos    SP   Brazil   \n",
       "1          Theodor-Heuss-Straße 34            Stuttgart  None  Germany   \n",
       "2                1498 rue Bélanger             Montréal    QC   Canada   \n",
       "\n",
       "  PostalCode               Phone                 Fax                  Email  \\\n",
       "0  12227-000  +55 (12) 3923-5555  +55 (12) 3923-5566   luisg@embraer.com.br   \n",
       "1      70174    +49 0711 2842222                None  leonekohler@surfeu.de   \n",
       "2    H2G 1A7   +1 (514) 721-4711                None    ftremblay@gmail.com   \n",
       "\n",
       "   SupportRepId  \n",
       "0             3  \n",
       "1             5  \n",
       "2             3  "
      ]
     },
     "execution_count": 5,
     "metadata": {},
     "output_type": "execute_result"
    }
   ],
   "source": [
    "pd.read_sql(\n",
    "    \"\"\"\n",
    "    SELECT *\n",
    "    FROM Customer\n",
    "    LIMIT 3\n",
    "    \"\"\", conn\n",
    ")"
   ]
  },
  {
   "cell_type": "code",
   "execution_count": 6,
   "metadata": {
    "ExecuteTime": {
     "end_time": "2023-09-07T18:34:34.867413Z",
     "start_time": "2023-09-07T18:34:34.842412Z"
    }
   },
   "outputs": [
    {
     "data": {
      "text/html": [
       "<div>\n",
       "<style scoped>\n",
       "    .dataframe tbody tr th:only-of-type {\n",
       "        vertical-align: middle;\n",
       "    }\n",
       "\n",
       "    .dataframe tbody tr th {\n",
       "        vertical-align: top;\n",
       "    }\n",
       "\n",
       "    .dataframe thead th {\n",
       "        text-align: right;\n",
       "    }\n",
       "</style>\n",
       "<table border=\"1\" class=\"dataframe\">\n",
       "  <thead>\n",
       "    <tr style=\"text-align: right;\">\n",
       "      <th></th>\n",
       "      <th>InvoiceId</th>\n",
       "      <th>CustomerId</th>\n",
       "      <th>InvoiceDate</th>\n",
       "      <th>BillingAddress</th>\n",
       "      <th>BillingCity</th>\n",
       "      <th>BillingState</th>\n",
       "      <th>BillingCountry</th>\n",
       "      <th>BillingPostalCode</th>\n",
       "      <th>Total</th>\n",
       "    </tr>\n",
       "  </thead>\n",
       "  <tbody>\n",
       "    <tr>\n",
       "      <th>0</th>\n",
       "      <td>1</td>\n",
       "      <td>2</td>\n",
       "      <td>2009-01-01 00:00:00</td>\n",
       "      <td>Theodor-Heuss-Straße 34</td>\n",
       "      <td>Stuttgart</td>\n",
       "      <td>None</td>\n",
       "      <td>Germany</td>\n",
       "      <td>70174</td>\n",
       "      <td>1.98</td>\n",
       "    </tr>\n",
       "    <tr>\n",
       "      <th>1</th>\n",
       "      <td>2</td>\n",
       "      <td>4</td>\n",
       "      <td>2009-01-02 00:00:00</td>\n",
       "      <td>Ullevålsveien 14</td>\n",
       "      <td>Oslo</td>\n",
       "      <td>None</td>\n",
       "      <td>Norway</td>\n",
       "      <td>0171</td>\n",
       "      <td>3.96</td>\n",
       "    </tr>\n",
       "    <tr>\n",
       "      <th>2</th>\n",
       "      <td>3</td>\n",
       "      <td>8</td>\n",
       "      <td>2009-01-03 00:00:00</td>\n",
       "      <td>Grétrystraat 63</td>\n",
       "      <td>Brussels</td>\n",
       "      <td>None</td>\n",
       "      <td>Belgium</td>\n",
       "      <td>1000</td>\n",
       "      <td>5.94</td>\n",
       "    </tr>\n",
       "  </tbody>\n",
       "</table>\n",
       "</div>"
      ],
      "text/plain": [
       "   InvoiceId  CustomerId          InvoiceDate           BillingAddress  \\\n",
       "0          1           2  2009-01-01 00:00:00  Theodor-Heuss-Straße 34   \n",
       "1          2           4  2009-01-02 00:00:00         Ullevålsveien 14   \n",
       "2          3           8  2009-01-03 00:00:00          Grétrystraat 63   \n",
       "\n",
       "  BillingCity BillingState BillingCountry BillingPostalCode  Total  \n",
       "0   Stuttgart         None        Germany             70174   1.98  \n",
       "1        Oslo         None         Norway              0171   3.96  \n",
       "2    Brussels         None        Belgium              1000   5.94  "
      ]
     },
     "execution_count": 6,
     "metadata": {},
     "output_type": "execute_result"
    }
   ],
   "source": [
    "pd.read_sql(\n",
    "    \"\"\"\n",
    "    SELECT *\n",
    "    FROM Invoice\n",
    "    LIMIT 3\n",
    "    \"\"\", conn\n",
    ")"
   ]
  },
  {
   "cell_type": "markdown",
   "metadata": {},
   "source": [
    "### Task 1: Write a query to return the customer IDs for every customer in Germany."
   ]
  },
  {
   "cell_type": "code",
   "execution_count": 7,
   "metadata": {
    "ExecuteTime": {
     "end_time": "2023-09-07T18:34:41.521764Z",
     "start_time": "2023-09-07T18:34:41.506764Z"
    }
   },
   "outputs": [
    {
     "name": "stdout",
     "output_type": "stream",
     "text": [
      "['Yasitha']\n"
     ]
    }
   ],
   "source": [
    "call_on_students(1)"
   ]
  },
  {
   "cell_type": "code",
   "execution_count": 9,
   "metadata": {
    "ExecuteTime": {
     "end_time": "2023-09-07T18:36:16.089167Z",
     "start_time": "2023-09-07T18:36:16.085169Z"
    }
   },
   "outputs": [],
   "source": [
    "query = \"\"\"\n",
    "SELECT\n",
    "    CustomerID\n",
    "FROM\n",
    "    Customer\n",
    "WHERE\n",
    "    Country = 'Germany'\n",
    "\n",
    "\"\"\""
   ]
  },
  {
   "cell_type": "code",
   "execution_count": 10,
   "metadata": {
    "ExecuteTime": {
     "end_time": "2023-09-07T18:36:33.651193Z",
     "start_time": "2023-09-07T18:36:33.633222Z"
    }
   },
   "outputs": [
    {
     "data": {
      "text/html": [
       "<div>\n",
       "<style scoped>\n",
       "    .dataframe tbody tr th:only-of-type {\n",
       "        vertical-align: middle;\n",
       "    }\n",
       "\n",
       "    .dataframe tbody tr th {\n",
       "        vertical-align: top;\n",
       "    }\n",
       "\n",
       "    .dataframe thead th {\n",
       "        text-align: right;\n",
       "    }\n",
       "</style>\n",
       "<table border=\"1\" class=\"dataframe\">\n",
       "  <thead>\n",
       "    <tr style=\"text-align: right;\">\n",
       "      <th></th>\n",
       "      <th>CustomerId</th>\n",
       "    </tr>\n",
       "  </thead>\n",
       "  <tbody>\n",
       "    <tr>\n",
       "      <th>0</th>\n",
       "      <td>2</td>\n",
       "    </tr>\n",
       "    <tr>\n",
       "      <th>1</th>\n",
       "      <td>36</td>\n",
       "    </tr>\n",
       "    <tr>\n",
       "      <th>2</th>\n",
       "      <td>37</td>\n",
       "    </tr>\n",
       "    <tr>\n",
       "      <th>3</th>\n",
       "      <td>38</td>\n",
       "    </tr>\n",
       "  </tbody>\n",
       "</table>\n",
       "</div>"
      ],
      "text/plain": [
       "   CustomerId\n",
       "0           2\n",
       "1          36\n",
       "2          37\n",
       "3          38"
      ]
     },
     "execution_count": 10,
     "metadata": {},
     "output_type": "execute_result"
    }
   ],
   "source": [
    "pd.read_sql(query, conn)"
   ]
  },
  {
   "cell_type": "markdown",
   "metadata": {},
   "source": [
    "### Task 2: Write a query to return the last names, email addresses and *billing* addresses of the customers who live in Canada."
   ]
  },
  {
   "cell_type": "code",
   "execution_count": 12,
   "metadata": {
    "ExecuteTime": {
     "end_time": "2023-09-07T18:36:58.818983Z",
     "start_time": "2023-09-07T18:36:58.797983Z"
    }
   },
   "outputs": [
    {
     "name": "stdout",
     "output_type": "stream",
     "text": [
      "['Gavin']\n"
     ]
    }
   ],
   "source": [
    "call_on_students(1)"
   ]
  },
  {
   "cell_type": "code",
   "execution_count": 20,
   "metadata": {
    "ExecuteTime": {
     "end_time": "2023-09-07T18:42:18.690230Z",
     "start_time": "2023-09-07T18:42:18.675228Z"
    }
   },
   "outputs": [],
   "source": [
    "query = \"\"\"\n",
    "\n",
    "SELECT\n",
    "    DISTINCT(c.LastName),\n",
    "    c.Email,\n",
    "    i.BillingAddress\n",
    "FROM\n",
    "    Customer as c\n",
    "    JOIN Invoice as i on i.CustomerId = c.CustomerId\n",
    "WHERE\n",
    "    c.Country = 'Canada'\n",
    "\n",
    "\"\"\""
   ]
  },
  {
   "cell_type": "code",
   "execution_count": 21,
   "metadata": {
    "ExecuteTime": {
     "end_time": "2023-09-07T18:42:19.043229Z",
     "start_time": "2023-09-07T18:42:19.025236Z"
    },
    "scrolled": true
   },
   "outputs": [
    {
     "data": {
      "text/html": [
       "<div>\n",
       "<style scoped>\n",
       "    .dataframe tbody tr th:only-of-type {\n",
       "        vertical-align: middle;\n",
       "    }\n",
       "\n",
       "    .dataframe tbody tr th {\n",
       "        vertical-align: top;\n",
       "    }\n",
       "\n",
       "    .dataframe thead th {\n",
       "        text-align: right;\n",
       "    }\n",
       "</style>\n",
       "<table border=\"1\" class=\"dataframe\">\n",
       "  <thead>\n",
       "    <tr style=\"text-align: right;\">\n",
       "      <th></th>\n",
       "      <th>LastName</th>\n",
       "      <th>Email</th>\n",
       "      <th>BillingAddress</th>\n",
       "    </tr>\n",
       "  </thead>\n",
       "  <tbody>\n",
       "    <tr>\n",
       "      <th>0</th>\n",
       "      <td>Philips</td>\n",
       "      <td>mphilips12@shaw.ca</td>\n",
       "      <td>8210 111 ST NW</td>\n",
       "    </tr>\n",
       "    <tr>\n",
       "      <th>1</th>\n",
       "      <td>Silk</td>\n",
       "      <td>marthasilk@gmail.com</td>\n",
       "      <td>194A Chain Lake Drive</td>\n",
       "    </tr>\n",
       "    <tr>\n",
       "      <th>2</th>\n",
       "      <td>Sullivan</td>\n",
       "      <td>ellie.sullivan@shaw.ca</td>\n",
       "      <td>5112 48 Street</td>\n",
       "    </tr>\n",
       "    <tr>\n",
       "      <th>3</th>\n",
       "      <td>Peterson</td>\n",
       "      <td>jenniferp@rogers.ca</td>\n",
       "      <td>700 W Pender Street</td>\n",
       "    </tr>\n",
       "    <tr>\n",
       "      <th>4</th>\n",
       "      <td>Brown</td>\n",
       "      <td>robbrown@shaw.ca</td>\n",
       "      <td>796 Dundas Street West</td>\n",
       "    </tr>\n",
       "    <tr>\n",
       "      <th>5</th>\n",
       "      <td>Francis</td>\n",
       "      <td>edfrancis@yachoo.ca</td>\n",
       "      <td>230 Elgin Street</td>\n",
       "    </tr>\n",
       "    <tr>\n",
       "      <th>6</th>\n",
       "      <td>Mitchell</td>\n",
       "      <td>aaronmitchell@yahoo.ca</td>\n",
       "      <td>696 Osborne Street</td>\n",
       "    </tr>\n",
       "    <tr>\n",
       "      <th>7</th>\n",
       "      <td>Tremblay</td>\n",
       "      <td>ftremblay@gmail.com</td>\n",
       "      <td>1498 rue Bélanger</td>\n",
       "    </tr>\n",
       "  </tbody>\n",
       "</table>\n",
       "</div>"
      ],
      "text/plain": [
       "   LastName                   Email          BillingAddress\n",
       "0   Philips      mphilips12@shaw.ca          8210 111 ST NW\n",
       "1      Silk    marthasilk@gmail.com   194A Chain Lake Drive\n",
       "2  Sullivan  ellie.sullivan@shaw.ca          5112 48 Street\n",
       "3  Peterson     jenniferp@rogers.ca     700 W Pender Street\n",
       "4     Brown        robbrown@shaw.ca  796 Dundas Street West\n",
       "5   Francis     edfrancis@yachoo.ca        230 Elgin Street\n",
       "6  Mitchell  aaronmitchell@yahoo.ca      696 Osborne Street\n",
       "7  Tremblay     ftremblay@gmail.com       1498 rue Bélanger"
      ]
     },
     "execution_count": 21,
     "metadata": {},
     "output_type": "execute_result"
    }
   ],
   "source": [
    "pd.read_sql(query,conn)"
   ]
  },
  {
   "cell_type": "markdown",
   "metadata": {},
   "source": [
    "### Task 3: Write a query to return the billing totals by country, in descending order of the totals."
   ]
  },
  {
   "cell_type": "code",
   "execution_count": 22,
   "metadata": {
    "ExecuteTime": {
     "end_time": "2023-09-07T18:42:46.090604Z",
     "start_time": "2023-09-07T18:42:46.066605Z"
    }
   },
   "outputs": [
    {
     "name": "stdout",
     "output_type": "stream",
     "text": [
      "['Rachel']\n"
     ]
    }
   ],
   "source": [
    "call_on_students(1)"
   ]
  },
  {
   "cell_type": "code",
   "execution_count": 29,
   "metadata": {
    "ExecuteTime": {
     "end_time": "2023-09-07T18:45:37.479981Z",
     "start_time": "2023-09-07T18:45:37.465015Z"
    }
   },
   "outputs": [],
   "source": [
    "query = \"\"\"\n",
    "\n",
    "SELECT\n",
    "    BillingCountry,\n",
    "    SUM(Total) as Total\n",
    "FROM\n",
    "    Invoice\n",
    "GROUP BY\n",
    "    BillingCountry\n",
    "ORDER BY\n",
    "    Total DESC\n",
    "\"\"\""
   ]
  },
  {
   "cell_type": "code",
   "execution_count": 30,
   "metadata": {
    "ExecuteTime": {
     "end_time": "2023-09-07T18:45:37.914980Z",
     "start_time": "2023-09-07T18:45:37.894984Z"
    }
   },
   "outputs": [
    {
     "data": {
      "text/html": [
       "<div>\n",
       "<style scoped>\n",
       "    .dataframe tbody tr th:only-of-type {\n",
       "        vertical-align: middle;\n",
       "    }\n",
       "\n",
       "    .dataframe tbody tr th {\n",
       "        vertical-align: top;\n",
       "    }\n",
       "\n",
       "    .dataframe thead th {\n",
       "        text-align: right;\n",
       "    }\n",
       "</style>\n",
       "<table border=\"1\" class=\"dataframe\">\n",
       "  <thead>\n",
       "    <tr style=\"text-align: right;\">\n",
       "      <th></th>\n",
       "      <th>BillingCountry</th>\n",
       "      <th>Total</th>\n",
       "    </tr>\n",
       "  </thead>\n",
       "  <tbody>\n",
       "    <tr>\n",
       "      <th>0</th>\n",
       "      <td>USA</td>\n",
       "      <td>523.06</td>\n",
       "    </tr>\n",
       "    <tr>\n",
       "      <th>1</th>\n",
       "      <td>Canada</td>\n",
       "      <td>303.96</td>\n",
       "    </tr>\n",
       "    <tr>\n",
       "      <th>2</th>\n",
       "      <td>France</td>\n",
       "      <td>195.10</td>\n",
       "    </tr>\n",
       "    <tr>\n",
       "      <th>3</th>\n",
       "      <td>Brazil</td>\n",
       "      <td>190.10</td>\n",
       "    </tr>\n",
       "    <tr>\n",
       "      <th>4</th>\n",
       "      <td>Germany</td>\n",
       "      <td>156.48</td>\n",
       "    </tr>\n",
       "    <tr>\n",
       "      <th>5</th>\n",
       "      <td>United Kingdom</td>\n",
       "      <td>112.86</td>\n",
       "    </tr>\n",
       "    <tr>\n",
       "      <th>6</th>\n",
       "      <td>Czech Republic</td>\n",
       "      <td>90.24</td>\n",
       "    </tr>\n",
       "    <tr>\n",
       "      <th>7</th>\n",
       "      <td>Portugal</td>\n",
       "      <td>77.24</td>\n",
       "    </tr>\n",
       "    <tr>\n",
       "      <th>8</th>\n",
       "      <td>India</td>\n",
       "      <td>75.26</td>\n",
       "    </tr>\n",
       "    <tr>\n",
       "      <th>9</th>\n",
       "      <td>Chile</td>\n",
       "      <td>46.62</td>\n",
       "    </tr>\n",
       "    <tr>\n",
       "      <th>10</th>\n",
       "      <td>Ireland</td>\n",
       "      <td>45.62</td>\n",
       "    </tr>\n",
       "    <tr>\n",
       "      <th>11</th>\n",
       "      <td>Hungary</td>\n",
       "      <td>45.62</td>\n",
       "    </tr>\n",
       "    <tr>\n",
       "      <th>12</th>\n",
       "      <td>Austria</td>\n",
       "      <td>42.62</td>\n",
       "    </tr>\n",
       "    <tr>\n",
       "      <th>13</th>\n",
       "      <td>Finland</td>\n",
       "      <td>41.62</td>\n",
       "    </tr>\n",
       "    <tr>\n",
       "      <th>14</th>\n",
       "      <td>Netherlands</td>\n",
       "      <td>40.62</td>\n",
       "    </tr>\n",
       "    <tr>\n",
       "      <th>15</th>\n",
       "      <td>Norway</td>\n",
       "      <td>39.62</td>\n",
       "    </tr>\n",
       "    <tr>\n",
       "      <th>16</th>\n",
       "      <td>Sweden</td>\n",
       "      <td>38.62</td>\n",
       "    </tr>\n",
       "    <tr>\n",
       "      <th>17</th>\n",
       "      <td>Poland</td>\n",
       "      <td>37.62</td>\n",
       "    </tr>\n",
       "    <tr>\n",
       "      <th>18</th>\n",
       "      <td>Italy</td>\n",
       "      <td>37.62</td>\n",
       "    </tr>\n",
       "    <tr>\n",
       "      <th>19</th>\n",
       "      <td>Denmark</td>\n",
       "      <td>37.62</td>\n",
       "    </tr>\n",
       "    <tr>\n",
       "      <th>20</th>\n",
       "      <td>Australia</td>\n",
       "      <td>37.62</td>\n",
       "    </tr>\n",
       "    <tr>\n",
       "      <th>21</th>\n",
       "      <td>Argentina</td>\n",
       "      <td>37.62</td>\n",
       "    </tr>\n",
       "    <tr>\n",
       "      <th>22</th>\n",
       "      <td>Spain</td>\n",
       "      <td>37.62</td>\n",
       "    </tr>\n",
       "    <tr>\n",
       "      <th>23</th>\n",
       "      <td>Belgium</td>\n",
       "      <td>37.62</td>\n",
       "    </tr>\n",
       "  </tbody>\n",
       "</table>\n",
       "</div>"
      ],
      "text/plain": [
       "    BillingCountry   Total\n",
       "0              USA  523.06\n",
       "1           Canada  303.96\n",
       "2           France  195.10\n",
       "3           Brazil  190.10\n",
       "4          Germany  156.48\n",
       "5   United Kingdom  112.86\n",
       "6   Czech Republic   90.24\n",
       "7         Portugal   77.24\n",
       "8            India   75.26\n",
       "9            Chile   46.62\n",
       "10         Ireland   45.62\n",
       "11         Hungary   45.62\n",
       "12         Austria   42.62\n",
       "13         Finland   41.62\n",
       "14     Netherlands   40.62\n",
       "15          Norway   39.62\n",
       "16          Sweden   38.62\n",
       "17          Poland   37.62\n",
       "18           Italy   37.62\n",
       "19         Denmark   37.62\n",
       "20       Australia   37.62\n",
       "21       Argentina   37.62\n",
       "22           Spain   37.62\n",
       "23         Belgium   37.62"
      ]
     },
     "execution_count": 30,
     "metadata": {},
     "output_type": "execute_result"
    }
   ],
   "source": [
    "pd.read_sql(query, conn)"
   ]
  },
  {
   "cell_type": "markdown",
   "metadata": {},
   "source": [
    "### ***Task 4: Write a query to return the last names, email addresses, billing addresses, and most recent invoice dates for the customers whose most recent invoice is after Dec 31, 2011."
   ]
  },
  {
   "cell_type": "code",
   "execution_count": 31,
   "metadata": {
    "ExecuteTime": {
     "end_time": "2023-09-07T18:46:01.925245Z",
     "start_time": "2023-09-07T18:46:01.908213Z"
    }
   },
   "outputs": [
    {
     "name": "stdout",
     "output_type": "stream",
     "text": [
      "['Mason']\n"
     ]
    }
   ],
   "source": [
    "call_on_students(1)"
   ]
  },
  {
   "cell_type": "code",
   "execution_count": 46,
   "metadata": {
    "ExecuteTime": {
     "end_time": "2023-09-07T18:56:18.027230Z",
     "start_time": "2023-09-07T18:56:18.000230Z"
    }
   },
   "outputs": [
    {
     "data": {
      "text/html": [
       "<div>\n",
       "<style scoped>\n",
       "    .dataframe tbody tr th:only-of-type {\n",
       "        vertical-align: middle;\n",
       "    }\n",
       "\n",
       "    .dataframe tbody tr th {\n",
       "        vertical-align: top;\n",
       "    }\n",
       "\n",
       "    .dataframe thead th {\n",
       "        text-align: right;\n",
       "    }\n",
       "</style>\n",
       "<table border=\"1\" class=\"dataframe\">\n",
       "  <thead>\n",
       "    <tr style=\"text-align: right;\">\n",
       "      <th></th>\n",
       "      <th>LastName</th>\n",
       "      <th>Email</th>\n",
       "      <th>latestInvoice</th>\n",
       "    </tr>\n",
       "  </thead>\n",
       "  <tbody>\n",
       "    <tr>\n",
       "      <th>0</th>\n",
       "      <td>Almeida</td>\n",
       "      <td>roberto.almeida@riotur.gov.br</td>\n",
       "      <td>2013-08-07 00:00:00</td>\n",
       "    </tr>\n",
       "    <tr>\n",
       "      <th>1</th>\n",
       "      <td>Barnett</td>\n",
       "      <td>jubarnett@gmail.com</td>\n",
       "      <td>2013-08-07 00:00:00</td>\n",
       "    </tr>\n",
       "    <tr>\n",
       "      <th>2</th>\n",
       "      <td>Bernard</td>\n",
       "      <td>camille.bernard@yahoo.fr</td>\n",
       "      <td>2013-08-07 00:00:00</td>\n",
       "    </tr>\n",
       "    <tr>\n",
       "      <th>3</th>\n",
       "      <td>Brooks</td>\n",
       "      <td>michelleb@aol.com</td>\n",
       "      <td>2013-08-07 00:00:00</td>\n",
       "    </tr>\n",
       "    <tr>\n",
       "      <th>4</th>\n",
       "      <td>Brown</td>\n",
       "      <td>robbrown@shaw.ca</td>\n",
       "      <td>2013-08-07 00:00:00</td>\n",
       "    </tr>\n",
       "    <tr>\n",
       "      <th>5</th>\n",
       "      <td>Chase</td>\n",
       "      <td>kachase@hotmail.com</td>\n",
       "      <td>2013-08-07 00:00:00</td>\n",
       "    </tr>\n",
       "    <tr>\n",
       "      <th>6</th>\n",
       "      <td>Cunningham</td>\n",
       "      <td>ricunningham@hotmail.com</td>\n",
       "      <td>2013-08-07 00:00:00</td>\n",
       "    </tr>\n",
       "    <tr>\n",
       "      <th>7</th>\n",
       "      <td>Dubois</td>\n",
       "      <td>marc.dubois@hotmail.com</td>\n",
       "      <td>2013-08-07 00:00:00</td>\n",
       "    </tr>\n",
       "    <tr>\n",
       "      <th>8</th>\n",
       "      <td>Fernandes</td>\n",
       "      <td>jfernandes@yahoo.pt</td>\n",
       "      <td>2013-08-07 00:00:00</td>\n",
       "    </tr>\n",
       "    <tr>\n",
       "      <th>9</th>\n",
       "      <td>Francis</td>\n",
       "      <td>edfrancis@yachoo.ca</td>\n",
       "      <td>2013-08-07 00:00:00</td>\n",
       "    </tr>\n",
       "    <tr>\n",
       "      <th>10</th>\n",
       "      <td>Girard</td>\n",
       "      <td>wyatt.girard@yahoo.fr</td>\n",
       "      <td>2013-08-07 00:00:00</td>\n",
       "    </tr>\n",
       "    <tr>\n",
       "      <th>11</th>\n",
       "      <td>Gonçalves</td>\n",
       "      <td>luisg@embraer.com.br</td>\n",
       "      <td>2013-08-07 00:00:00</td>\n",
       "    </tr>\n",
       "    <tr>\n",
       "      <th>12</th>\n",
       "      <td>Gordon</td>\n",
       "      <td>johngordon22@yahoo.com</td>\n",
       "      <td>2013-08-07 00:00:00</td>\n",
       "    </tr>\n",
       "    <tr>\n",
       "      <th>13</th>\n",
       "      <td>Goyer</td>\n",
       "      <td>tgoyer@apple.com</td>\n",
       "      <td>2013-08-07 00:00:00</td>\n",
       "    </tr>\n",
       "    <tr>\n",
       "      <th>14</th>\n",
       "      <td>Gray</td>\n",
       "      <td>patrick.gray@aol.com</td>\n",
       "      <td>2013-08-07 00:00:00</td>\n",
       "    </tr>\n",
       "    <tr>\n",
       "      <th>15</th>\n",
       "      <td>Gruber</td>\n",
       "      <td>astrid.gruber@apple.at</td>\n",
       "      <td>2013-08-07 00:00:00</td>\n",
       "    </tr>\n",
       "    <tr>\n",
       "      <th>16</th>\n",
       "      <td>Gutiérrez</td>\n",
       "      <td>diego.gutierrez@yahoo.ar</td>\n",
       "      <td>2013-08-07 00:00:00</td>\n",
       "    </tr>\n",
       "    <tr>\n",
       "      <th>17</th>\n",
       "      <td>Hansen</td>\n",
       "      <td>bjorn.hansen@yahoo.no</td>\n",
       "      <td>2013-08-07 00:00:00</td>\n",
       "    </tr>\n",
       "    <tr>\n",
       "      <th>18</th>\n",
       "      <td>Harris</td>\n",
       "      <td>fharris@google.com</td>\n",
       "      <td>2013-08-07 00:00:00</td>\n",
       "    </tr>\n",
       "    <tr>\n",
       "      <th>19</th>\n",
       "      <td>Holý</td>\n",
       "      <td>hholy@gmail.com</td>\n",
       "      <td>2013-08-07 00:00:00</td>\n",
       "    </tr>\n",
       "    <tr>\n",
       "      <th>20</th>\n",
       "      <td>Hughes</td>\n",
       "      <td>phil.hughes@gmail.com</td>\n",
       "      <td>2013-08-07 00:00:00</td>\n",
       "    </tr>\n",
       "    <tr>\n",
       "      <th>21</th>\n",
       "      <td>Hämäläinen</td>\n",
       "      <td>terhi.hamalainen@apple.fi</td>\n",
       "      <td>2013-08-07 00:00:00</td>\n",
       "    </tr>\n",
       "    <tr>\n",
       "      <th>22</th>\n",
       "      <td>Johansson</td>\n",
       "      <td>joakim.johansson@yahoo.se</td>\n",
       "      <td>2013-08-07 00:00:00</td>\n",
       "    </tr>\n",
       "    <tr>\n",
       "      <th>23</th>\n",
       "      <td>Jones</td>\n",
       "      <td>emma_jones@hotmail.com</td>\n",
       "      <td>2013-08-07 00:00:00</td>\n",
       "    </tr>\n",
       "    <tr>\n",
       "      <th>24</th>\n",
       "      <td>Kovács</td>\n",
       "      <td>ladislav_kovacs@apple.hu</td>\n",
       "      <td>2013-08-07 00:00:00</td>\n",
       "    </tr>\n",
       "    <tr>\n",
       "      <th>25</th>\n",
       "      <td>Köhler</td>\n",
       "      <td>leonekohler@surfeu.de</td>\n",
       "      <td>2013-08-07 00:00:00</td>\n",
       "    </tr>\n",
       "    <tr>\n",
       "      <th>26</th>\n",
       "      <td>Leacock</td>\n",
       "      <td>hleacock@gmail.com</td>\n",
       "      <td>2013-08-07 00:00:00</td>\n",
       "    </tr>\n",
       "    <tr>\n",
       "      <th>27</th>\n",
       "      <td>Lefebvre</td>\n",
       "      <td>dominiquelefebvre@gmail.com</td>\n",
       "      <td>2013-08-07 00:00:00</td>\n",
       "    </tr>\n",
       "    <tr>\n",
       "      <th>28</th>\n",
       "      <td>Mancini</td>\n",
       "      <td>lucas.mancini@yahoo.it</td>\n",
       "      <td>2013-08-07 00:00:00</td>\n",
       "    </tr>\n",
       "    <tr>\n",
       "      <th>29</th>\n",
       "      <td>Martins</td>\n",
       "      <td>eduardo@woodstock.com.br</td>\n",
       "      <td>2013-08-07 00:00:00</td>\n",
       "    </tr>\n",
       "    <tr>\n",
       "      <th>30</th>\n",
       "      <td>Mercier</td>\n",
       "      <td>isabelle_mercier@apple.fr</td>\n",
       "      <td>2013-08-07 00:00:00</td>\n",
       "    </tr>\n",
       "    <tr>\n",
       "      <th>31</th>\n",
       "      <td>Miller</td>\n",
       "      <td>dmiller@comcast.com</td>\n",
       "      <td>2013-08-07 00:00:00</td>\n",
       "    </tr>\n",
       "    <tr>\n",
       "      <th>32</th>\n",
       "      <td>Mitchell</td>\n",
       "      <td>aaronmitchell@yahoo.ca</td>\n",
       "      <td>2013-08-07 00:00:00</td>\n",
       "    </tr>\n",
       "    <tr>\n",
       "      <th>33</th>\n",
       "      <td>Murray</td>\n",
       "      <td>steve.murray@yahoo.uk</td>\n",
       "      <td>2013-08-07 00:00:00</td>\n",
       "    </tr>\n",
       "    <tr>\n",
       "      <th>34</th>\n",
       "      <td>Muñoz</td>\n",
       "      <td>enrique_munoz@yahoo.es</td>\n",
       "      <td>2013-08-07 00:00:00</td>\n",
       "    </tr>\n",
       "    <tr>\n",
       "      <th>35</th>\n",
       "      <td>Nielsen</td>\n",
       "      <td>kara.nielsen@jubii.dk</td>\n",
       "      <td>2013-08-07 00:00:00</td>\n",
       "    </tr>\n",
       "    <tr>\n",
       "      <th>36</th>\n",
       "      <td>O'Reilly</td>\n",
       "      <td>hughoreilly@apple.ie</td>\n",
       "      <td>2013-08-07 00:00:00</td>\n",
       "    </tr>\n",
       "    <tr>\n",
       "      <th>37</th>\n",
       "      <td>Pareek</td>\n",
       "      <td>manoj.pareek@rediff.com</td>\n",
       "      <td>2013-08-07 00:00:00</td>\n",
       "    </tr>\n",
       "    <tr>\n",
       "      <th>38</th>\n",
       "      <td>Peeters</td>\n",
       "      <td>daan_peeters@apple.be</td>\n",
       "      <td>2013-08-07 00:00:00</td>\n",
       "    </tr>\n",
       "    <tr>\n",
       "      <th>39</th>\n",
       "      <td>Peterson</td>\n",
       "      <td>jenniferp@rogers.ca</td>\n",
       "      <td>2013-08-07 00:00:00</td>\n",
       "    </tr>\n",
       "    <tr>\n",
       "      <th>40</th>\n",
       "      <td>Philips</td>\n",
       "      <td>mphilips12@shaw.ca</td>\n",
       "      <td>2013-08-07 00:00:00</td>\n",
       "    </tr>\n",
       "    <tr>\n",
       "      <th>41</th>\n",
       "      <td>Ralston</td>\n",
       "      <td>fralston@gmail.com</td>\n",
       "      <td>2013-08-07 00:00:00</td>\n",
       "    </tr>\n",
       "    <tr>\n",
       "      <th>42</th>\n",
       "      <td>Ramos</td>\n",
       "      <td>fernadaramos4@uol.com.br</td>\n",
       "      <td>2013-08-07 00:00:00</td>\n",
       "    </tr>\n",
       "    <tr>\n",
       "      <th>43</th>\n",
       "      <td>Rocha</td>\n",
       "      <td>alero@uol.com.br</td>\n",
       "      <td>2013-08-07 00:00:00</td>\n",
       "    </tr>\n",
       "    <tr>\n",
       "      <th>44</th>\n",
       "      <td>Rojas</td>\n",
       "      <td>luisrojas@yahoo.cl</td>\n",
       "      <td>2013-08-07 00:00:00</td>\n",
       "    </tr>\n",
       "    <tr>\n",
       "      <th>45</th>\n",
       "      <td>Sampaio</td>\n",
       "      <td>masampaio@sapo.pt</td>\n",
       "      <td>2013-08-07 00:00:00</td>\n",
       "    </tr>\n",
       "    <tr>\n",
       "      <th>46</th>\n",
       "      <td>Schneider</td>\n",
       "      <td>hannah.schneider@yahoo.de</td>\n",
       "      <td>2013-08-07 00:00:00</td>\n",
       "    </tr>\n",
       "    <tr>\n",
       "      <th>47</th>\n",
       "      <td>Schröder</td>\n",
       "      <td>nschroder@surfeu.de</td>\n",
       "      <td>2013-08-07 00:00:00</td>\n",
       "    </tr>\n",
       "    <tr>\n",
       "      <th>48</th>\n",
       "      <td>Silk</td>\n",
       "      <td>marthasilk@gmail.com</td>\n",
       "      <td>2013-08-07 00:00:00</td>\n",
       "    </tr>\n",
       "    <tr>\n",
       "      <th>49</th>\n",
       "      <td>Smith</td>\n",
       "      <td>jacksmith@microsoft.com</td>\n",
       "      <td>2013-08-07 00:00:00</td>\n",
       "    </tr>\n",
       "    <tr>\n",
       "      <th>50</th>\n",
       "      <td>Srivastava</td>\n",
       "      <td>puja_srivastava@yahoo.in</td>\n",
       "      <td>2013-08-07 00:00:00</td>\n",
       "    </tr>\n",
       "    <tr>\n",
       "      <th>51</th>\n",
       "      <td>Stevens</td>\n",
       "      <td>vstevens@yahoo.com</td>\n",
       "      <td>2013-08-07 00:00:00</td>\n",
       "    </tr>\n",
       "    <tr>\n",
       "      <th>52</th>\n",
       "      <td>Sullivan</td>\n",
       "      <td>ellie.sullivan@shaw.ca</td>\n",
       "      <td>2013-08-07 00:00:00</td>\n",
       "    </tr>\n",
       "    <tr>\n",
       "      <th>53</th>\n",
       "      <td>Taylor</td>\n",
       "      <td>mark.taylor@yahoo.au</td>\n",
       "      <td>2013-08-07 00:00:00</td>\n",
       "    </tr>\n",
       "    <tr>\n",
       "      <th>54</th>\n",
       "      <td>Tremblay</td>\n",
       "      <td>ftremblay@gmail.com</td>\n",
       "      <td>2013-08-07 00:00:00</td>\n",
       "    </tr>\n",
       "    <tr>\n",
       "      <th>55</th>\n",
       "      <td>Van der Berg</td>\n",
       "      <td>johavanderberg@yahoo.nl</td>\n",
       "      <td>2013-08-07 00:00:00</td>\n",
       "    </tr>\n",
       "    <tr>\n",
       "      <th>56</th>\n",
       "      <td>Wichterlová</td>\n",
       "      <td>frantisekw@jetbrains.com</td>\n",
       "      <td>2013-08-07 00:00:00</td>\n",
       "    </tr>\n",
       "    <tr>\n",
       "      <th>57</th>\n",
       "      <td>Wójcik</td>\n",
       "      <td>stanisław.wójcik@wp.pl</td>\n",
       "      <td>2013-08-07 00:00:00</td>\n",
       "    </tr>\n",
       "    <tr>\n",
       "      <th>58</th>\n",
       "      <td>Zimmermann</td>\n",
       "      <td>fzimmermann@yahoo.de</td>\n",
       "      <td>2013-08-07 00:00:00</td>\n",
       "    </tr>\n",
       "  </tbody>\n",
       "</table>\n",
       "</div>"
      ],
      "text/plain": [
       "        LastName                          Email        latestInvoice\n",
       "0        Almeida  roberto.almeida@riotur.gov.br  2013-08-07 00:00:00\n",
       "1        Barnett            jubarnett@gmail.com  2013-08-07 00:00:00\n",
       "2        Bernard       camille.bernard@yahoo.fr  2013-08-07 00:00:00\n",
       "3         Brooks              michelleb@aol.com  2013-08-07 00:00:00\n",
       "4          Brown               robbrown@shaw.ca  2013-08-07 00:00:00\n",
       "5          Chase            kachase@hotmail.com  2013-08-07 00:00:00\n",
       "6     Cunningham       ricunningham@hotmail.com  2013-08-07 00:00:00\n",
       "7         Dubois        marc.dubois@hotmail.com  2013-08-07 00:00:00\n",
       "8      Fernandes            jfernandes@yahoo.pt  2013-08-07 00:00:00\n",
       "9        Francis            edfrancis@yachoo.ca  2013-08-07 00:00:00\n",
       "10        Girard          wyatt.girard@yahoo.fr  2013-08-07 00:00:00\n",
       "11     Gonçalves           luisg@embraer.com.br  2013-08-07 00:00:00\n",
       "12        Gordon         johngordon22@yahoo.com  2013-08-07 00:00:00\n",
       "13         Goyer               tgoyer@apple.com  2013-08-07 00:00:00\n",
       "14          Gray           patrick.gray@aol.com  2013-08-07 00:00:00\n",
       "15        Gruber         astrid.gruber@apple.at  2013-08-07 00:00:00\n",
       "16     Gutiérrez       diego.gutierrez@yahoo.ar  2013-08-07 00:00:00\n",
       "17        Hansen          bjorn.hansen@yahoo.no  2013-08-07 00:00:00\n",
       "18        Harris             fharris@google.com  2013-08-07 00:00:00\n",
       "19          Holý                hholy@gmail.com  2013-08-07 00:00:00\n",
       "20        Hughes          phil.hughes@gmail.com  2013-08-07 00:00:00\n",
       "21    Hämäläinen      terhi.hamalainen@apple.fi  2013-08-07 00:00:00\n",
       "22     Johansson      joakim.johansson@yahoo.se  2013-08-07 00:00:00\n",
       "23         Jones         emma_jones@hotmail.com  2013-08-07 00:00:00\n",
       "24        Kovács       ladislav_kovacs@apple.hu  2013-08-07 00:00:00\n",
       "25        Köhler          leonekohler@surfeu.de  2013-08-07 00:00:00\n",
       "26       Leacock             hleacock@gmail.com  2013-08-07 00:00:00\n",
       "27      Lefebvre    dominiquelefebvre@gmail.com  2013-08-07 00:00:00\n",
       "28       Mancini         lucas.mancini@yahoo.it  2013-08-07 00:00:00\n",
       "29       Martins       eduardo@woodstock.com.br  2013-08-07 00:00:00\n",
       "30       Mercier      isabelle_mercier@apple.fr  2013-08-07 00:00:00\n",
       "31        Miller            dmiller@comcast.com  2013-08-07 00:00:00\n",
       "32      Mitchell         aaronmitchell@yahoo.ca  2013-08-07 00:00:00\n",
       "33        Murray          steve.murray@yahoo.uk  2013-08-07 00:00:00\n",
       "34         Muñoz         enrique_munoz@yahoo.es  2013-08-07 00:00:00\n",
       "35       Nielsen          kara.nielsen@jubii.dk  2013-08-07 00:00:00\n",
       "36      O'Reilly           hughoreilly@apple.ie  2013-08-07 00:00:00\n",
       "37        Pareek        manoj.pareek@rediff.com  2013-08-07 00:00:00\n",
       "38       Peeters          daan_peeters@apple.be  2013-08-07 00:00:00\n",
       "39      Peterson            jenniferp@rogers.ca  2013-08-07 00:00:00\n",
       "40       Philips             mphilips12@shaw.ca  2013-08-07 00:00:00\n",
       "41       Ralston             fralston@gmail.com  2013-08-07 00:00:00\n",
       "42         Ramos       fernadaramos4@uol.com.br  2013-08-07 00:00:00\n",
       "43         Rocha               alero@uol.com.br  2013-08-07 00:00:00\n",
       "44         Rojas             luisrojas@yahoo.cl  2013-08-07 00:00:00\n",
       "45       Sampaio              masampaio@sapo.pt  2013-08-07 00:00:00\n",
       "46     Schneider      hannah.schneider@yahoo.de  2013-08-07 00:00:00\n",
       "47      Schröder            nschroder@surfeu.de  2013-08-07 00:00:00\n",
       "48          Silk           marthasilk@gmail.com  2013-08-07 00:00:00\n",
       "49         Smith        jacksmith@microsoft.com  2013-08-07 00:00:00\n",
       "50    Srivastava       puja_srivastava@yahoo.in  2013-08-07 00:00:00\n",
       "51       Stevens             vstevens@yahoo.com  2013-08-07 00:00:00\n",
       "52      Sullivan         ellie.sullivan@shaw.ca  2013-08-07 00:00:00\n",
       "53        Taylor           mark.taylor@yahoo.au  2013-08-07 00:00:00\n",
       "54      Tremblay            ftremblay@gmail.com  2013-08-07 00:00:00\n",
       "55  Van der Berg        johavanderberg@yahoo.nl  2013-08-07 00:00:00\n",
       "56   Wichterlová       frantisekw@jetbrains.com  2013-08-07 00:00:00\n",
       "57        Wójcik         stanisław.wójcik@wp.pl  2013-08-07 00:00:00\n",
       "58    Zimmermann           fzimmermann@yahoo.de  2013-08-07 00:00:00"
      ]
     },
     "execution_count": 46,
     "metadata": {},
     "output_type": "execute_result"
    }
   ],
   "source": [
    "pd.read_sql(\n",
    "    \"\"\"\n",
    "WITH t AS\n",
    "(\n",
    "SELECT \n",
    "    CustomerId, BillingAddress, MAX(InvoiceDate) as latestInvoice\n",
    "FROM \n",
    "    Invoice\n",
    "WHERE \n",
    "    InvoiceDate > \"2011-12-31\"\n",
    "GROUP BY \n",
    "    CustomerId\n",
    ")\n",
    "\n",
    "\n",
    "\n",
    "SELECT \n",
    "    LastName, Email, latestInvoice\n",
    "FROM \n",
    "    Customer, t\n",
    "GROUP BY \n",
    "    Customer.CustomerId\n",
    "ORDER BY\n",
    "    Customer.LastName\n",
    "    \"\"\", conn\n",
    ")"
   ]
  },
  {
   "cell_type": "code",
   "execution_count": 47,
   "metadata": {
    "ExecuteTime": {
     "end_time": "2023-09-07T18:56:25.058230Z",
     "start_time": "2023-09-07T18:56:25.028232Z"
    }
   },
   "outputs": [
    {
     "data": {
      "text/html": [
       "<div>\n",
       "<style scoped>\n",
       "    .dataframe tbody tr th:only-of-type {\n",
       "        vertical-align: middle;\n",
       "    }\n",
       "\n",
       "    .dataframe tbody tr th {\n",
       "        vertical-align: top;\n",
       "    }\n",
       "\n",
       "    .dataframe thead th {\n",
       "        text-align: right;\n",
       "    }\n",
       "</style>\n",
       "<table border=\"1\" class=\"dataframe\">\n",
       "  <thead>\n",
       "    <tr style=\"text-align: right;\">\n",
       "      <th></th>\n",
       "      <th>LastName</th>\n",
       "      <th>Email</th>\n",
       "      <th>BillingAddress</th>\n",
       "      <th>Most_Recent</th>\n",
       "    </tr>\n",
       "  </thead>\n",
       "  <tbody>\n",
       "    <tr>\n",
       "      <th>0</th>\n",
       "      <td>Almeida</td>\n",
       "      <td>roberto.almeida@riotur.gov.br</td>\n",
       "      <td>Praça Pio X, 119</td>\n",
       "      <td>2013-10-05 00:00:00</td>\n",
       "    </tr>\n",
       "    <tr>\n",
       "      <th>1</th>\n",
       "      <td>Barnett</td>\n",
       "      <td>jubarnett@gmail.com</td>\n",
       "      <td>302 S 700 E</td>\n",
       "      <td>2013-05-19 00:00:00</td>\n",
       "    </tr>\n",
       "    <tr>\n",
       "      <th>2</th>\n",
       "      <td>Bernard</td>\n",
       "      <td>camille.bernard@yahoo.fr</td>\n",
       "      <td>4, Rue Milton</td>\n",
       "      <td>2013-09-07 00:00:00</td>\n",
       "    </tr>\n",
       "    <tr>\n",
       "      <th>3</th>\n",
       "      <td>Brooks</td>\n",
       "      <td>michelleb@aol.com</td>\n",
       "      <td>627 Broadway</td>\n",
       "      <td>2013-10-08 00:00:00</td>\n",
       "    </tr>\n",
       "    <tr>\n",
       "      <th>4</th>\n",
       "      <td>Brown</td>\n",
       "      <td>robbrown@shaw.ca</td>\n",
       "      <td>796 Dundas Street West</td>\n",
       "      <td>2013-12-06 00:00:00</td>\n",
       "    </tr>\n",
       "    <tr>\n",
       "      <th>5</th>\n",
       "      <td>Chase</td>\n",
       "      <td>kachase@hotmail.com</td>\n",
       "      <td>801 W 4th Street</td>\n",
       "      <td>2013-12-04 00:00:00</td>\n",
       "    </tr>\n",
       "    <tr>\n",
       "      <th>6</th>\n",
       "      <td>Cunningham</td>\n",
       "      <td>ricunningham@hotmail.com</td>\n",
       "      <td>2211 W Berry Street</td>\n",
       "      <td>2013-04-05 00:00:00</td>\n",
       "    </tr>\n",
       "    <tr>\n",
       "      <th>7</th>\n",
       "      <td>Dubois</td>\n",
       "      <td>marc.dubois@hotmail.com</td>\n",
       "      <td>11, Place Bellecour</td>\n",
       "      <td>2013-10-21 00:00:00</td>\n",
       "    </tr>\n",
       "    <tr>\n",
       "      <th>8</th>\n",
       "      <td>Fernandes</td>\n",
       "      <td>jfernandes@yahoo.pt</td>\n",
       "      <td>Rua da Assunção 53</td>\n",
       "      <td>2012-10-01 00:00:00</td>\n",
       "    </tr>\n",
       "    <tr>\n",
       "      <th>9</th>\n",
       "      <td>Francis</td>\n",
       "      <td>edfrancis@yachoo.ca</td>\n",
       "      <td>230 Elgin Street</td>\n",
       "      <td>2013-01-02 00:00:00</td>\n",
       "    </tr>\n",
       "    <tr>\n",
       "      <th>10</th>\n",
       "      <td>Girard</td>\n",
       "      <td>wyatt.girard@yahoo.fr</td>\n",
       "      <td>9, Place Louis Barthou</td>\n",
       "      <td>2013-11-03 00:00:00</td>\n",
       "    </tr>\n",
       "    <tr>\n",
       "      <th>11</th>\n",
       "      <td>Gonçalves</td>\n",
       "      <td>luisg@embraer.com.br</td>\n",
       "      <td>Av. Brigadeiro Faria Lima, 2170</td>\n",
       "      <td>2013-08-07 00:00:00</td>\n",
       "    </tr>\n",
       "    <tr>\n",
       "      <th>12</th>\n",
       "      <td>Gordon</td>\n",
       "      <td>johngordon22@yahoo.com</td>\n",
       "      <td>69 Salem Street</td>\n",
       "      <td>2013-12-04 00:00:00</td>\n",
       "    </tr>\n",
       "    <tr>\n",
       "      <th>13</th>\n",
       "      <td>Goyer</td>\n",
       "      <td>tgoyer@apple.com</td>\n",
       "      <td>1 Infinite Loop</td>\n",
       "      <td>2012-09-13 00:00:00</td>\n",
       "    </tr>\n",
       "    <tr>\n",
       "      <th>14</th>\n",
       "      <td>Gray</td>\n",
       "      <td>patrick.gray@aol.com</td>\n",
       "      <td>1033 N Park Ave</td>\n",
       "      <td>2013-10-13 00:00:00</td>\n",
       "    </tr>\n",
       "    <tr>\n",
       "      <th>15</th>\n",
       "      <td>Gruber</td>\n",
       "      <td>astrid.gruber@apple.at</td>\n",
       "      <td>Rotenturmstraße 4, 1010 Innere Stadt</td>\n",
       "      <td>2013-06-19 00:00:00</td>\n",
       "    </tr>\n",
       "    <tr>\n",
       "      <th>16</th>\n",
       "      <td>Gutiérrez</td>\n",
       "      <td>diego.gutierrez@yahoo.ar</td>\n",
       "      <td>307 Macacha Güemes</td>\n",
       "      <td>2013-11-08 00:00:00</td>\n",
       "    </tr>\n",
       "    <tr>\n",
       "      <th>17</th>\n",
       "      <td>Hansen</td>\n",
       "      <td>bjorn.hansen@yahoo.no</td>\n",
       "      <td>Ullevålsveien 14</td>\n",
       "      <td>2013-10-03 00:00:00</td>\n",
       "    </tr>\n",
       "    <tr>\n",
       "      <th>18</th>\n",
       "      <td>Harris</td>\n",
       "      <td>fharris@google.com</td>\n",
       "      <td>1600 Amphitheatre Parkway</td>\n",
       "      <td>2013-07-04 00:00:00</td>\n",
       "    </tr>\n",
       "    <tr>\n",
       "      <th>19</th>\n",
       "      <td>Holý</td>\n",
       "      <td>hholy@gmail.com</td>\n",
       "      <td>Rilská 3174/6</td>\n",
       "      <td>2013-11-13 00:00:00</td>\n",
       "    </tr>\n",
       "    <tr>\n",
       "      <th>20</th>\n",
       "      <td>Hughes</td>\n",
       "      <td>phil.hughes@gmail.com</td>\n",
       "      <td>113 Lupus St</td>\n",
       "      <td>2013-01-15 00:00:00</td>\n",
       "    </tr>\n",
       "    <tr>\n",
       "      <th>21</th>\n",
       "      <td>Hämäläinen</td>\n",
       "      <td>terhi.hamalainen@apple.fi</td>\n",
       "      <td>Porthaninkatu 9</td>\n",
       "      <td>2013-12-14 00:00:00</td>\n",
       "    </tr>\n",
       "    <tr>\n",
       "      <th>22</th>\n",
       "      <td>Johansson</td>\n",
       "      <td>joakim.johansson@yahoo.se</td>\n",
       "      <td>Celsiusg. 9</td>\n",
       "      <td>2012-12-02 00:00:00</td>\n",
       "    </tr>\n",
       "    <tr>\n",
       "      <th>23</th>\n",
       "      <td>Jones</td>\n",
       "      <td>emma_jones@hotmail.com</td>\n",
       "      <td>202 Hoxton Street</td>\n",
       "      <td>2013-06-11 00:00:00</td>\n",
       "    </tr>\n",
       "    <tr>\n",
       "      <th>24</th>\n",
       "      <td>Kovács</td>\n",
       "      <td>ladislav_kovacs@apple.hu</td>\n",
       "      <td>Erzsébet krt. 58.</td>\n",
       "      <td>2013-07-20 00:00:00</td>\n",
       "    </tr>\n",
       "    <tr>\n",
       "      <th>25</th>\n",
       "      <td>Köhler</td>\n",
       "      <td>leonekohler@surfeu.de</td>\n",
       "      <td>Theodor-Heuss-Straße 34</td>\n",
       "      <td>2012-07-13 00:00:00</td>\n",
       "    </tr>\n",
       "    <tr>\n",
       "      <th>26</th>\n",
       "      <td>Leacock</td>\n",
       "      <td>hleacock@gmail.com</td>\n",
       "      <td>120 S Orange Ave</td>\n",
       "      <td>2013-07-07 00:00:00</td>\n",
       "    </tr>\n",
       "    <tr>\n",
       "      <th>27</th>\n",
       "      <td>Lefebvre</td>\n",
       "      <td>dominiquelefebvre@gmail.com</td>\n",
       "      <td>8, Rue Hanovre</td>\n",
       "      <td>2012-08-13 00:00:00</td>\n",
       "    </tr>\n",
       "    <tr>\n",
       "      <th>28</th>\n",
       "      <td>Mancini</td>\n",
       "      <td>lucas.mancini@yahoo.it</td>\n",
       "      <td>Via Degli Scipioni, 43</td>\n",
       "      <td>2013-03-05 00:00:00</td>\n",
       "    </tr>\n",
       "    <tr>\n",
       "      <th>29</th>\n",
       "      <td>Martins</td>\n",
       "      <td>eduardo@woodstock.com.br</td>\n",
       "      <td>Rua Dr. Falcão Filho, 155</td>\n",
       "      <td>2013-08-12 00:00:00</td>\n",
       "    </tr>\n",
       "    <tr>\n",
       "      <th>30</th>\n",
       "      <td>Mercier</td>\n",
       "      <td>isabelle_mercier@apple.fr</td>\n",
       "      <td>68, Rue Jouvence</td>\n",
       "      <td>2013-06-06 00:00:00</td>\n",
       "    </tr>\n",
       "    <tr>\n",
       "      <th>31</th>\n",
       "      <td>Miller</td>\n",
       "      <td>dmiller@comcast.com</td>\n",
       "      <td>541 Del Medio Avenue</td>\n",
       "      <td>2013-11-21 00:00:00</td>\n",
       "    </tr>\n",
       "    <tr>\n",
       "      <th>32</th>\n",
       "      <td>Mitchell</td>\n",
       "      <td>aaronmitchell@yahoo.ca</td>\n",
       "      <td>696 Osborne Street</td>\n",
       "      <td>2013-02-15 00:00:00</td>\n",
       "    </tr>\n",
       "    <tr>\n",
       "      <th>33</th>\n",
       "      <td>Murray</td>\n",
       "      <td>steve.murray@yahoo.uk</td>\n",
       "      <td>110 Raeburn Pl</td>\n",
       "      <td>2013-08-04 00:00:00</td>\n",
       "    </tr>\n",
       "    <tr>\n",
       "      <th>34</th>\n",
       "      <td>Muñoz</td>\n",
       "      <td>enrique_munoz@yahoo.es</td>\n",
       "      <td>C/ San Bernardo 85</td>\n",
       "      <td>2013-11-05 00:00:00</td>\n",
       "    </tr>\n",
       "    <tr>\n",
       "      <th>35</th>\n",
       "      <td>Nielsen</td>\n",
       "      <td>kara.nielsen@jubii.dk</td>\n",
       "      <td>Sønder Boulevard 51</td>\n",
       "      <td>2013-02-02 00:00:00</td>\n",
       "    </tr>\n",
       "    <tr>\n",
       "      <th>36</th>\n",
       "      <td>O'Reilly</td>\n",
       "      <td>hughoreilly@apple.ie</td>\n",
       "      <td>3 Chatham Street</td>\n",
       "      <td>2013-11-04 00:00:00</td>\n",
       "    </tr>\n",
       "    <tr>\n",
       "      <th>37</th>\n",
       "      <td>Pareek</td>\n",
       "      <td>manoj.pareek@rediff.com</td>\n",
       "      <td>12,Community Centre</td>\n",
       "      <td>2013-12-22 00:00:00</td>\n",
       "    </tr>\n",
       "    <tr>\n",
       "      <th>38</th>\n",
       "      <td>Peeters</td>\n",
       "      <td>daan_peeters@apple.be</td>\n",
       "      <td>Grétrystraat 63</td>\n",
       "      <td>2013-10-04 00:00:00</td>\n",
       "    </tr>\n",
       "    <tr>\n",
       "      <th>39</th>\n",
       "      <td>Peterson</td>\n",
       "      <td>jenniferp@rogers.ca</td>\n",
       "      <td>700 W Pender Street</td>\n",
       "      <td>2012-12-15 00:00:00</td>\n",
       "    </tr>\n",
       "    <tr>\n",
       "      <th>40</th>\n",
       "      <td>Philips</td>\n",
       "      <td>mphilips12@shaw.ca</td>\n",
       "      <td>8210 111 ST NW</td>\n",
       "      <td>2013-05-11 00:00:00</td>\n",
       "    </tr>\n",
       "    <tr>\n",
       "      <th>41</th>\n",
       "      <td>Ralston</td>\n",
       "      <td>fralston@gmail.com</td>\n",
       "      <td>162 E Superior Street</td>\n",
       "      <td>2013-08-20 00:00:00</td>\n",
       "    </tr>\n",
       "    <tr>\n",
       "      <th>42</th>\n",
       "      <td>Ramos</td>\n",
       "      <td>fernadaramos4@uol.com.br</td>\n",
       "      <td>Qe 7 Bloco G</td>\n",
       "      <td>2012-11-01 00:00:00</td>\n",
       "    </tr>\n",
       "    <tr>\n",
       "      <th>43</th>\n",
       "      <td>Rocha</td>\n",
       "      <td>alero@uol.com.br</td>\n",
       "      <td>Av. Paulista, 2022</td>\n",
       "      <td>2013-03-18 00:00:00</td>\n",
       "    </tr>\n",
       "    <tr>\n",
       "      <th>44</th>\n",
       "      <td>Rojas</td>\n",
       "      <td>luisrojas@yahoo.cl</td>\n",
       "      <td>Calle Lira, 198</td>\n",
       "      <td>2012-10-14 00:00:00</td>\n",
       "    </tr>\n",
       "    <tr>\n",
       "      <th>45</th>\n",
       "      <td>Sampaio</td>\n",
       "      <td>masampaio@sapo.pt</td>\n",
       "      <td>Rua dos Campeões Europeus de Viena, 4350</td>\n",
       "      <td>2013-12-09 00:00:00</td>\n",
       "    </tr>\n",
       "    <tr>\n",
       "      <th>46</th>\n",
       "      <td>Schneider</td>\n",
       "      <td>hannah.schneider@yahoo.de</td>\n",
       "      <td>Tauentzienstraße 8</td>\n",
       "      <td>2012-11-14 00:00:00</td>\n",
       "    </tr>\n",
       "    <tr>\n",
       "      <th>47</th>\n",
       "      <td>Schröder</td>\n",
       "      <td>nschroder@surfeu.de</td>\n",
       "      <td>Barbarossastraße 19</td>\n",
       "      <td>2012-06-30 00:00:00</td>\n",
       "    </tr>\n",
       "    <tr>\n",
       "      <th>48</th>\n",
       "      <td>Silk</td>\n",
       "      <td>marthasilk@gmail.com</td>\n",
       "      <td>194A Chain Lake Drive</td>\n",
       "      <td>2013-07-12 00:00:00</td>\n",
       "    </tr>\n",
       "    <tr>\n",
       "      <th>49</th>\n",
       "      <td>Smith</td>\n",
       "      <td>jacksmith@microsoft.com</td>\n",
       "      <td>1 Microsoft Way</td>\n",
       "      <td>2012-07-31 00:00:00</td>\n",
       "    </tr>\n",
       "    <tr>\n",
       "      <th>50</th>\n",
       "      <td>Srivastava</td>\n",
       "      <td>puja_srivastava@yahoo.in</td>\n",
       "      <td>3,Raj Bhavan Road</td>\n",
       "      <td>2012-05-30 00:00:00</td>\n",
       "    </tr>\n",
       "    <tr>\n",
       "      <th>51</th>\n",
       "      <td>Stevens</td>\n",
       "      <td>vstevens@yahoo.com</td>\n",
       "      <td>319 N. Frances Street</td>\n",
       "      <td>2013-12-05 00:00:00</td>\n",
       "    </tr>\n",
       "    <tr>\n",
       "      <th>52</th>\n",
       "      <td>Sullivan</td>\n",
       "      <td>ellie.sullivan@shaw.ca</td>\n",
       "      <td>5112 48 Street</td>\n",
       "      <td>2013-09-04 00:00:00</td>\n",
       "    </tr>\n",
       "    <tr>\n",
       "      <th>53</th>\n",
       "      <td>Taylor</td>\n",
       "      <td>mark.taylor@yahoo.au</td>\n",
       "      <td>421 Bourke Street</td>\n",
       "      <td>2012-08-31 00:00:00</td>\n",
       "    </tr>\n",
       "    <tr>\n",
       "      <th>54</th>\n",
       "      <td>Tremblay</td>\n",
       "      <td>ftremblay@gmail.com</td>\n",
       "      <td>1498 rue Bélanger</td>\n",
       "      <td>2013-09-20 00:00:00</td>\n",
       "    </tr>\n",
       "    <tr>\n",
       "      <th>55</th>\n",
       "      <td>Van der Berg</td>\n",
       "      <td>johavanderberg@yahoo.nl</td>\n",
       "      <td>Lijnbaansgracht 120bg</td>\n",
       "      <td>2013-09-12 00:00:00</td>\n",
       "    </tr>\n",
       "    <tr>\n",
       "      <th>56</th>\n",
       "      <td>Wichterlová</td>\n",
       "      <td>frantisekw@jetbrains.com</td>\n",
       "      <td>Klanova 9/506</td>\n",
       "      <td>2013-05-06 00:00:00</td>\n",
       "    </tr>\n",
       "    <tr>\n",
       "      <th>57</th>\n",
       "      <td>Wójcik</td>\n",
       "      <td>stanisław.wójcik@wp.pl</td>\n",
       "      <td>Ordynacka 10</td>\n",
       "      <td>2013-04-18 00:00:00</td>\n",
       "    </tr>\n",
       "    <tr>\n",
       "      <th>58</th>\n",
       "      <td>Zimmermann</td>\n",
       "      <td>fzimmermann@yahoo.de</td>\n",
       "      <td>Berger Straße 10</td>\n",
       "      <td>2013-06-03 00:00:00</td>\n",
       "    </tr>\n",
       "  </tbody>\n",
       "</table>\n",
       "</div>"
      ],
      "text/plain": [
       "        LastName                          Email  \\\n",
       "0        Almeida  roberto.almeida@riotur.gov.br   \n",
       "1        Barnett            jubarnett@gmail.com   \n",
       "2        Bernard       camille.bernard@yahoo.fr   \n",
       "3         Brooks              michelleb@aol.com   \n",
       "4          Brown               robbrown@shaw.ca   \n",
       "5          Chase            kachase@hotmail.com   \n",
       "6     Cunningham       ricunningham@hotmail.com   \n",
       "7         Dubois        marc.dubois@hotmail.com   \n",
       "8      Fernandes            jfernandes@yahoo.pt   \n",
       "9        Francis            edfrancis@yachoo.ca   \n",
       "10        Girard          wyatt.girard@yahoo.fr   \n",
       "11     Gonçalves           luisg@embraer.com.br   \n",
       "12        Gordon         johngordon22@yahoo.com   \n",
       "13         Goyer               tgoyer@apple.com   \n",
       "14          Gray           patrick.gray@aol.com   \n",
       "15        Gruber         astrid.gruber@apple.at   \n",
       "16     Gutiérrez       diego.gutierrez@yahoo.ar   \n",
       "17        Hansen          bjorn.hansen@yahoo.no   \n",
       "18        Harris             fharris@google.com   \n",
       "19          Holý                hholy@gmail.com   \n",
       "20        Hughes          phil.hughes@gmail.com   \n",
       "21    Hämäläinen      terhi.hamalainen@apple.fi   \n",
       "22     Johansson      joakim.johansson@yahoo.se   \n",
       "23         Jones         emma_jones@hotmail.com   \n",
       "24        Kovács       ladislav_kovacs@apple.hu   \n",
       "25        Köhler          leonekohler@surfeu.de   \n",
       "26       Leacock             hleacock@gmail.com   \n",
       "27      Lefebvre    dominiquelefebvre@gmail.com   \n",
       "28       Mancini         lucas.mancini@yahoo.it   \n",
       "29       Martins       eduardo@woodstock.com.br   \n",
       "30       Mercier      isabelle_mercier@apple.fr   \n",
       "31        Miller            dmiller@comcast.com   \n",
       "32      Mitchell         aaronmitchell@yahoo.ca   \n",
       "33        Murray          steve.murray@yahoo.uk   \n",
       "34         Muñoz         enrique_munoz@yahoo.es   \n",
       "35       Nielsen          kara.nielsen@jubii.dk   \n",
       "36      O'Reilly           hughoreilly@apple.ie   \n",
       "37        Pareek        manoj.pareek@rediff.com   \n",
       "38       Peeters          daan_peeters@apple.be   \n",
       "39      Peterson            jenniferp@rogers.ca   \n",
       "40       Philips             mphilips12@shaw.ca   \n",
       "41       Ralston             fralston@gmail.com   \n",
       "42         Ramos       fernadaramos4@uol.com.br   \n",
       "43         Rocha               alero@uol.com.br   \n",
       "44         Rojas             luisrojas@yahoo.cl   \n",
       "45       Sampaio              masampaio@sapo.pt   \n",
       "46     Schneider      hannah.schneider@yahoo.de   \n",
       "47      Schröder            nschroder@surfeu.de   \n",
       "48          Silk           marthasilk@gmail.com   \n",
       "49         Smith        jacksmith@microsoft.com   \n",
       "50    Srivastava       puja_srivastava@yahoo.in   \n",
       "51       Stevens             vstevens@yahoo.com   \n",
       "52      Sullivan         ellie.sullivan@shaw.ca   \n",
       "53        Taylor           mark.taylor@yahoo.au   \n",
       "54      Tremblay            ftremblay@gmail.com   \n",
       "55  Van der Berg        johavanderberg@yahoo.nl   \n",
       "56   Wichterlová       frantisekw@jetbrains.com   \n",
       "57        Wójcik         stanisław.wójcik@wp.pl   \n",
       "58    Zimmermann           fzimmermann@yahoo.de   \n",
       "\n",
       "                              BillingAddress          Most_Recent  \n",
       "0                           Praça Pio X, 119  2013-10-05 00:00:00  \n",
       "1                                302 S 700 E  2013-05-19 00:00:00  \n",
       "2                              4, Rue Milton  2013-09-07 00:00:00  \n",
       "3                               627 Broadway  2013-10-08 00:00:00  \n",
       "4                     796 Dundas Street West  2013-12-06 00:00:00  \n",
       "5                           801 W 4th Street  2013-12-04 00:00:00  \n",
       "6                        2211 W Berry Street  2013-04-05 00:00:00  \n",
       "7                        11, Place Bellecour  2013-10-21 00:00:00  \n",
       "8                         Rua da Assunção 53  2012-10-01 00:00:00  \n",
       "9                           230 Elgin Street  2013-01-02 00:00:00  \n",
       "10                    9, Place Louis Barthou  2013-11-03 00:00:00  \n",
       "11           Av. Brigadeiro Faria Lima, 2170  2013-08-07 00:00:00  \n",
       "12                           69 Salem Street  2013-12-04 00:00:00  \n",
       "13                           1 Infinite Loop  2012-09-13 00:00:00  \n",
       "14                           1033 N Park Ave  2013-10-13 00:00:00  \n",
       "15      Rotenturmstraße 4, 1010 Innere Stadt  2013-06-19 00:00:00  \n",
       "16                        307 Macacha Güemes  2013-11-08 00:00:00  \n",
       "17                          Ullevålsveien 14  2013-10-03 00:00:00  \n",
       "18                 1600 Amphitheatre Parkway  2013-07-04 00:00:00  \n",
       "19                             Rilská 3174/6  2013-11-13 00:00:00  \n",
       "20                              113 Lupus St  2013-01-15 00:00:00  \n",
       "21                           Porthaninkatu 9  2013-12-14 00:00:00  \n",
       "22                               Celsiusg. 9  2012-12-02 00:00:00  \n",
       "23                         202 Hoxton Street  2013-06-11 00:00:00  \n",
       "24                         Erzsébet krt. 58.  2013-07-20 00:00:00  \n",
       "25                   Theodor-Heuss-Straße 34  2012-07-13 00:00:00  \n",
       "26                          120 S Orange Ave  2013-07-07 00:00:00  \n",
       "27                            8, Rue Hanovre  2012-08-13 00:00:00  \n",
       "28                    Via Degli Scipioni, 43  2013-03-05 00:00:00  \n",
       "29                 Rua Dr. Falcão Filho, 155  2013-08-12 00:00:00  \n",
       "30                          68, Rue Jouvence  2013-06-06 00:00:00  \n",
       "31                      541 Del Medio Avenue  2013-11-21 00:00:00  \n",
       "32                        696 Osborne Street  2013-02-15 00:00:00  \n",
       "33                            110 Raeburn Pl  2013-08-04 00:00:00  \n",
       "34                        C/ San Bernardo 85  2013-11-05 00:00:00  \n",
       "35                       Sønder Boulevard 51  2013-02-02 00:00:00  \n",
       "36                          3 Chatham Street  2013-11-04 00:00:00  \n",
       "37                       12,Community Centre  2013-12-22 00:00:00  \n",
       "38                           Grétrystraat 63  2013-10-04 00:00:00  \n",
       "39                       700 W Pender Street  2012-12-15 00:00:00  \n",
       "40                            8210 111 ST NW  2013-05-11 00:00:00  \n",
       "41                     162 E Superior Street  2013-08-20 00:00:00  \n",
       "42                              Qe 7 Bloco G  2012-11-01 00:00:00  \n",
       "43                        Av. Paulista, 2022  2013-03-18 00:00:00  \n",
       "44                           Calle Lira, 198  2012-10-14 00:00:00  \n",
       "45  Rua dos Campeões Europeus de Viena, 4350  2013-12-09 00:00:00  \n",
       "46                        Tauentzienstraße 8  2012-11-14 00:00:00  \n",
       "47                       Barbarossastraße 19  2012-06-30 00:00:00  \n",
       "48                     194A Chain Lake Drive  2013-07-12 00:00:00  \n",
       "49                           1 Microsoft Way  2012-07-31 00:00:00  \n",
       "50                         3,Raj Bhavan Road  2012-05-30 00:00:00  \n",
       "51                     319 N. Frances Street  2013-12-05 00:00:00  \n",
       "52                            5112 48 Street  2013-09-04 00:00:00  \n",
       "53                         421 Bourke Street  2012-08-31 00:00:00  \n",
       "54                         1498 rue Bélanger  2013-09-20 00:00:00  \n",
       "55                     Lijnbaansgracht 120bg  2013-09-12 00:00:00  \n",
       "56                             Klanova 9/506  2013-05-06 00:00:00  \n",
       "57                              Ordynacka 10  2013-04-18 00:00:00  \n",
       "58                          Berger Straße 10  2013-06-03 00:00:00  "
      ]
     },
     "execution_count": 47,
     "metadata": {},
     "output_type": "execute_result"
    }
   ],
   "source": [
    "pd.read_sql(\"\"\"\n",
    "SELECT\n",
    "    c.LastName,\n",
    "    c.Email,\n",
    "    i.BillingAddress,\n",
    "    MAX(i.InvoiceDate) as Most_Recent\n",
    "FROM Customer c\n",
    "JOIN Invoice i on i.CustomerID=c.CustomerId\n",
    "WHERE InvoiceDate > \"2011-12-31 00:00:00\"\n",
    "GROUP BY c.CustomerId\n",
    "ORDER BY c.LastName\n",
    "\n",
    ";\"\"\", conn)"
   ]
  },
  {
   "cell_type": "code",
   "execution_count": null,
   "metadata": {},
   "outputs": [],
   "source": []
  },
  {
   "cell_type": "markdown",
   "metadata": {},
   "source": [
    "## Part 2: Bayesian Statistics"
   ]
  },
  {
   "cell_type": "markdown",
   "metadata": {},
   "source": [
    "$$ P(A|B) = \\dfrac{P(B|A)P(A)}{P(B)}$$"
   ]
  },
  {
   "cell_type": "markdown",
   "metadata": {},
   "source": [
    "### The Prompt: \n",
    "> In the second session of the 98th congress in 1984, a congressman voted 'No' on providing aid to El Salvador. \n",
    "> \n",
    "> Given that 60% of the congress were Democrats, 75% of whom voted 'No' for providing aid to El Salvador, and only 5% of Republicans voted 'No' to the proposal, what is the conditional probability that this individual is a Democrat?"
   ]
  },
  {
   "cell_type": "markdown",
   "metadata": {},
   "source": [
    "### Task 5: Calculate the probability"
   ]
  },
  {
   "cell_type": "code",
   "execution_count": 50,
   "metadata": {
    "ExecuteTime": {
     "end_time": "2023-09-07T19:04:21.950922Z",
     "start_time": "2023-09-07T19:04:21.922924Z"
    }
   },
   "outputs": [
    {
     "name": "stdout",
     "output_type": "stream",
     "text": [
      "['David']\n"
     ]
    }
   ],
   "source": [
    "call_on_students(1)"
   ]
  },
  {
   "cell_type": "markdown",
   "metadata": {},
   "source": [
    "**1. Which probability are we trying to find?**\n",
    "\n",
    "   - P(Democrat|No)\n",
    "   "
   ]
  },
  {
   "cell_type": "markdown",
   "metadata": {},
   "source": [
    "**2. Based on that, what other pieces do we need?**\n",
    "\n",
    "       (P(No|Democrat) * P(Democrat)) / P(No)\n",
    "    "
   ]
  },
  {
   "cell_type": "code",
   "execution_count": 54,
   "metadata": {
    "ExecuteTime": {
     "end_time": "2023-09-07T19:06:49.282435Z",
     "start_time": "2023-09-07T19:06:49.272442Z"
    }
   },
   "outputs": [
    {
     "data": {
      "text/plain": [
       "0.9574468085106382"
      ]
     },
     "execution_count": 54,
     "metadata": {},
     "output_type": "execute_result"
    }
   ],
   "source": [
    "# **3. Result?**\n",
    "\n",
    "ans = ((.75) * (.6)) / ((.75 *.6) + (.05 * .4))\n",
    "   \n",
    "ans"
   ]
  },
  {
   "cell_type": "markdown",
   "metadata": {},
   "source": [
    "## Part 3: Normal Distributions"
   ]
  },
  {
   "cell_type": "markdown",
   "metadata": {},
   "source": [
    "In this part, you will analyze hours of sleep for Freshman at a University. We know that the population distribution of hours of sleep for Freshman at the University is normally distributed with a mean of 6 and a standard deviation of 2."
   ]
  },
  {
   "cell_type": "markdown",
   "metadata": {},
   "source": [
    "### Task 6: Create a numeric variable `z_eight` that contains the z-score for a Freshman that sleeps 8 hours "
   ]
  },
  {
   "cell_type": "code",
   "execution_count": 55,
   "metadata": {
    "ExecuteTime": {
     "end_time": "2023-09-07T19:07:49.382435Z",
     "start_time": "2023-09-07T19:07:49.350434Z"
    }
   },
   "outputs": [
    {
     "name": "stdout",
     "output_type": "stream",
     "text": [
      "['KC']\n"
     ]
    }
   ],
   "source": [
    "call_on_students(1)"
   ]
  },
  {
   "cell_type": "code",
   "execution_count": 56,
   "metadata": {
    "ExecuteTime": {
     "end_time": "2023-09-07T19:08:20.658434Z",
     "start_time": "2023-09-07T19:08:20.653434Z"
    }
   },
   "outputs": [],
   "source": [
    "# Code here\n",
    "z_eight = (8 - 6 ) / 2"
   ]
  },
  {
   "cell_type": "code",
   "execution_count": 57,
   "metadata": {
    "ExecuteTime": {
     "end_time": "2023-09-07T19:08:25.015433Z",
     "start_time": "2023-09-07T19:08:25.010435Z"
    }
   },
   "outputs": [
    {
     "data": {
      "text/plain": [
       "1.0"
      ]
     },
     "execution_count": 57,
     "metadata": {},
     "output_type": "execute_result"
    }
   ],
   "source": [
    "z_eight"
   ]
  },
  {
   "cell_type": "markdown",
   "metadata": {},
   "source": [
    "### Task 7: Create a numeric variable `over_eight` containing the approximate proportion of Freshman who get more than 8 hours of sleep"
   ]
  },
  {
   "cell_type": "code",
   "execution_count": 58,
   "metadata": {
    "ExecuteTime": {
     "end_time": "2023-09-07T19:08:43.245578Z",
     "start_time": "2023-09-07T19:08:43.225580Z"
    }
   },
   "outputs": [
    {
     "name": "stdout",
     "output_type": "stream",
     "text": [
      "['Deniz']\n"
     ]
    }
   ],
   "source": [
    "call_on_students(1)"
   ]
  },
  {
   "cell_type": "code",
   "execution_count": 59,
   "metadata": {
    "ExecuteTime": {
     "end_time": "2023-09-07T19:10:30.125585Z",
     "start_time": "2023-09-07T19:10:29.232589Z"
    }
   },
   "outputs": [],
   "source": [
    "from scipy import stats"
   ]
  },
  {
   "cell_type": "code",
   "execution_count": 60,
   "metadata": {
    "ExecuteTime": {
     "end_time": "2023-09-07T19:12:05.607577Z",
     "start_time": "2023-09-07T19:12:05.589579Z"
    }
   },
   "outputs": [
    {
     "data": {
      "text/plain": [
       "0.15865525393145707"
      ]
     },
     "execution_count": 60,
     "metadata": {},
     "output_type": "execute_result"
    }
   ],
   "source": [
    "# Code here CDF\n",
    "\n",
    "over_eight = 1 - stats.norm(loc=6, scale=2).cdf(8)\n",
    "\n",
    "\n",
    "over_eight"
   ]
  },
  {
   "cell_type": "code",
   "execution_count": 66,
   "metadata": {
    "ExecuteTime": {
     "end_time": "2023-09-07T19:13:47.325580Z",
     "start_time": "2023-09-07T19:13:47.309578Z"
    }
   },
   "outputs": [],
   "source": [
    "# SF\n",
    "\n",
    "over_eight =stats.norm(loc=6, scale=2).sf(8)"
   ]
  },
  {
   "cell_type": "code",
   "execution_count": 65,
   "metadata": {
    "ExecuteTime": {
     "end_time": "2023-09-07T19:13:21.650581Z",
     "start_time": "2023-09-07T19:13:21.639582Z"
    }
   },
   "outputs": [
    {
     "data": {
      "text/plain": [
       "0.15865525393145707"
      ]
     },
     "execution_count": 65,
     "metadata": {},
     "output_type": "execute_result"
    }
   ],
   "source": [
    "over_eight"
   ]
  },
  {
   "cell_type": "markdown",
   "metadata": {},
   "source": [
    "### Task 8: Calculate a 95% confidence interval for the amount of sleep for one Freshman who sleeps 7 times with a mean of 5 hours and a standard deviation of 0.5 hours"
   ]
  },
  {
   "cell_type": "code",
   "execution_count": 80,
   "metadata": {
    "ExecuteTime": {
     "end_time": "2023-09-07T19:20:25.247003Z",
     "start_time": "2023-09-07T19:20:25.221003Z"
    }
   },
   "outputs": [
    {
     "name": "stdout",
     "output_type": "stream",
     "text": [
      "['Tristan']\n"
     ]
    }
   ],
   "source": [
    "call_on_students(1)"
   ]
  },
  {
   "cell_type": "code",
   "execution_count": 77,
   "metadata": {
    "ExecuteTime": {
     "end_time": "2023-09-07T19:19:42.243148Z",
     "start_time": "2023-09-07T19:19:42.233153Z"
    },
    "scrolled": false
   },
   "outputs": [
    {
     "data": {
      "text/plain": [
       "(4.53757712628571, 5.46242287371429)"
      ]
     },
     "execution_count": 77,
     "metadata": {},
     "output_type": "execute_result"
    }
   ],
   "source": [
    "# Code here\n",
    "\n",
    "std_err = .5 / (np.sqrt(7))\n",
    "\n",
    "# std_err = stats.sem(5)\n",
    "\n",
    "ci = stats.t.interval(alpha=.95, loc=5, scale=std_err, df=6)\n",
    "ci"
   ]
  },
  {
   "cell_type": "markdown",
   "metadata": {},
   "source": [
    "### Task 9: Interpret the 95% Confidence Interval that you derived in the above question"
   ]
  },
  {
   "cell_type": "code",
   "execution_count": 79,
   "metadata": {
    "ExecuteTime": {
     "end_time": "2023-09-07T19:20:05.911003Z",
     "start_time": "2023-09-07T19:20:05.897002Z"
    }
   },
   "outputs": [
    {
     "name": "stdout",
     "output_type": "stream",
     "text": [
      "['Nick']\n"
     ]
    }
   ],
   "source": [
    "call_on_students(1)"
   ]
  },
  {
   "cell_type": "markdown",
   "metadata": {},
   "source": [
    "Interpret: \n",
    "\n",
    "- There is a 95% chance that the actual population mean is between lower and upper\n"
   ]
  },
  {
   "cell_type": "markdown",
   "metadata": {},
   "source": [
    "## Part 4: Statistical Testing\n",
    "\n",
    "Let's make some hypotheses about cars!"
   ]
  },
  {
   "cell_type": "markdown",
   "metadata": {},
   "source": [
    "### Task 10: Set Up"
   ]
  },
  {
   "cell_type": "code",
   "execution_count": 81,
   "metadata": {
    "ExecuteTime": {
     "end_time": "2023-09-07T19:24:05.572921Z",
     "start_time": "2023-09-07T19:24:05.553920Z"
    }
   },
   "outputs": [
    {
     "name": "stdout",
     "output_type": "stream",
     "text": [
      "['Irwin']\n"
     ]
    }
   ],
   "source": [
    "call_on_students(1)"
   ]
  },
  {
   "cell_type": "code",
   "execution_count": 82,
   "metadata": {
    "ExecuteTime": {
     "end_time": "2023-09-07T19:24:30.117956Z",
     "start_time": "2023-09-07T19:24:29.398953Z"
    }
   },
   "outputs": [],
   "source": [
    "# Imports - need pandas and matplotlib\n",
    "import pandas as pd\n",
    "import matplotlib.pyplot as plt"
   ]
  },
  {
   "cell_type": "code",
   "execution_count": 83,
   "metadata": {
    "ExecuteTime": {
     "end_time": "2023-09-07T19:24:56.978957Z",
     "start_time": "2023-09-07T19:24:56.943958Z"
    }
   },
   "outputs": [],
   "source": [
    "# Import the auto-mpg csv from the data folder\n",
    "df = pd.read_csv('./data/auto-mpg.csv')"
   ]
  },
  {
   "cell_type": "code",
   "execution_count": 84,
   "metadata": {
    "ExecuteTime": {
     "end_time": "2023-09-07T19:25:04.061956Z",
     "start_time": "2023-09-07T19:25:04.035958Z"
    },
    "scrolled": true
   },
   "outputs": [
    {
     "data": {
      "text/html": [
       "<div>\n",
       "<style scoped>\n",
       "    .dataframe tbody tr th:only-of-type {\n",
       "        vertical-align: middle;\n",
       "    }\n",
       "\n",
       "    .dataframe tbody tr th {\n",
       "        vertical-align: top;\n",
       "    }\n",
       "\n",
       "    .dataframe thead th {\n",
       "        text-align: right;\n",
       "    }\n",
       "</style>\n",
       "<table border=\"1\" class=\"dataframe\">\n",
       "  <thead>\n",
       "    <tr style=\"text-align: right;\">\n",
       "      <th></th>\n",
       "      <th>mpg</th>\n",
       "      <th>cylinders</th>\n",
       "      <th>displacement</th>\n",
       "      <th>horsepower</th>\n",
       "      <th>weight</th>\n",
       "      <th>acceleration</th>\n",
       "      <th>model year</th>\n",
       "      <th>origin</th>\n",
       "      <th>car name</th>\n",
       "    </tr>\n",
       "  </thead>\n",
       "  <tbody>\n",
       "    <tr>\n",
       "      <th>0</th>\n",
       "      <td>18.0</td>\n",
       "      <td>8</td>\n",
       "      <td>307.0</td>\n",
       "      <td>130</td>\n",
       "      <td>3504</td>\n",
       "      <td>12.0</td>\n",
       "      <td>70</td>\n",
       "      <td>1</td>\n",
       "      <td>chevrolet chevelle malibu</td>\n",
       "    </tr>\n",
       "    <tr>\n",
       "      <th>1</th>\n",
       "      <td>15.0</td>\n",
       "      <td>8</td>\n",
       "      <td>350.0</td>\n",
       "      <td>165</td>\n",
       "      <td>3693</td>\n",
       "      <td>11.5</td>\n",
       "      <td>70</td>\n",
       "      <td>1</td>\n",
       "      <td>buick skylark 320</td>\n",
       "    </tr>\n",
       "    <tr>\n",
       "      <th>2</th>\n",
       "      <td>18.0</td>\n",
       "      <td>8</td>\n",
       "      <td>318.0</td>\n",
       "      <td>150</td>\n",
       "      <td>3436</td>\n",
       "      <td>11.0</td>\n",
       "      <td>70</td>\n",
       "      <td>1</td>\n",
       "      <td>plymouth satellite</td>\n",
       "    </tr>\n",
       "    <tr>\n",
       "      <th>3</th>\n",
       "      <td>16.0</td>\n",
       "      <td>8</td>\n",
       "      <td>304.0</td>\n",
       "      <td>150</td>\n",
       "      <td>3433</td>\n",
       "      <td>12.0</td>\n",
       "      <td>70</td>\n",
       "      <td>1</td>\n",
       "      <td>amc rebel sst</td>\n",
       "    </tr>\n",
       "    <tr>\n",
       "      <th>4</th>\n",
       "      <td>17.0</td>\n",
       "      <td>8</td>\n",
       "      <td>302.0</td>\n",
       "      <td>140</td>\n",
       "      <td>3449</td>\n",
       "      <td>10.5</td>\n",
       "      <td>70</td>\n",
       "      <td>1</td>\n",
       "      <td>ford torino</td>\n",
       "    </tr>\n",
       "  </tbody>\n",
       "</table>\n",
       "</div>"
      ],
      "text/plain": [
       "    mpg  cylinders  displacement  horsepower  weight  acceleration  \\\n",
       "0  18.0          8         307.0         130    3504          12.0   \n",
       "1  15.0          8         350.0         165    3693          11.5   \n",
       "2  18.0          8         318.0         150    3436          11.0   \n",
       "3  16.0          8         304.0         150    3433          12.0   \n",
       "4  17.0          8         302.0         140    3449          10.5   \n",
       "\n",
       "   model year  origin                   car name  \n",
       "0          70       1  chevrolet chevelle malibu  \n",
       "1          70       1          buick skylark 320  \n",
       "2          70       1         plymouth satellite  \n",
       "3          70       1              amc rebel sst  \n",
       "4          70       1                ford torino  "
      ]
     },
     "execution_count": 84,
     "metadata": {},
     "output_type": "execute_result"
    }
   ],
   "source": [
    "# Check the head of our data\n",
    "df.head()"
   ]
  },
  {
   "cell_type": "code",
   "execution_count": 85,
   "metadata": {
    "ExecuteTime": {
     "end_time": "2023-09-07T19:25:11.025956Z",
     "start_time": "2023-09-07T19:25:11.002955Z"
    }
   },
   "outputs": [
    {
     "name": "stdout",
     "output_type": "stream",
     "text": [
      "<class 'pandas.core.frame.DataFrame'>\n",
      "RangeIndex: 392 entries, 0 to 391\n",
      "Data columns (total 9 columns):\n",
      " #   Column        Non-Null Count  Dtype  \n",
      "---  ------        --------------  -----  \n",
      " 0   mpg           392 non-null    float64\n",
      " 1   cylinders     392 non-null    int64  \n",
      " 2   displacement  392 non-null    float64\n",
      " 3   horsepower    392 non-null    int64  \n",
      " 4   weight        392 non-null    int64  \n",
      " 5   acceleration  392 non-null    float64\n",
      " 6   model year    392 non-null    int64  \n",
      " 7   origin        392 non-null    int64  \n",
      " 8   car name      392 non-null    object \n",
      "dtypes: float64(3), int64(5), object(1)\n",
      "memory usage: 27.7+ KB\n"
     ]
    }
   ],
   "source": [
    "# Check the info on our data\n",
    "df.info()"
   ]
  },
  {
   "cell_type": "code",
   "execution_count": 86,
   "metadata": {
    "ExecuteTime": {
     "end_time": "2023-09-07T19:25:18.030955Z",
     "start_time": "2023-09-07T19:25:17.986955Z"
    }
   },
   "outputs": [
    {
     "data": {
      "text/html": [
       "<div>\n",
       "<style scoped>\n",
       "    .dataframe tbody tr th:only-of-type {\n",
       "        vertical-align: middle;\n",
       "    }\n",
       "\n",
       "    .dataframe tbody tr th {\n",
       "        vertical-align: top;\n",
       "    }\n",
       "\n",
       "    .dataframe thead th {\n",
       "        text-align: right;\n",
       "    }\n",
       "</style>\n",
       "<table border=\"1\" class=\"dataframe\">\n",
       "  <thead>\n",
       "    <tr style=\"text-align: right;\">\n",
       "      <th></th>\n",
       "      <th>mpg</th>\n",
       "      <th>cylinders</th>\n",
       "      <th>displacement</th>\n",
       "      <th>horsepower</th>\n",
       "      <th>weight</th>\n",
       "      <th>acceleration</th>\n",
       "      <th>model year</th>\n",
       "      <th>origin</th>\n",
       "    </tr>\n",
       "  </thead>\n",
       "  <tbody>\n",
       "    <tr>\n",
       "      <th>count</th>\n",
       "      <td>392.000000</td>\n",
       "      <td>392.000000</td>\n",
       "      <td>392.000000</td>\n",
       "      <td>392.000000</td>\n",
       "      <td>392.000000</td>\n",
       "      <td>392.000000</td>\n",
       "      <td>392.000000</td>\n",
       "      <td>392.000000</td>\n",
       "    </tr>\n",
       "    <tr>\n",
       "      <th>mean</th>\n",
       "      <td>23.445918</td>\n",
       "      <td>5.471939</td>\n",
       "      <td>194.411990</td>\n",
       "      <td>104.469388</td>\n",
       "      <td>2977.584184</td>\n",
       "      <td>15.541327</td>\n",
       "      <td>75.979592</td>\n",
       "      <td>1.576531</td>\n",
       "    </tr>\n",
       "    <tr>\n",
       "      <th>std</th>\n",
       "      <td>7.805007</td>\n",
       "      <td>1.705783</td>\n",
       "      <td>104.644004</td>\n",
       "      <td>38.491160</td>\n",
       "      <td>849.402560</td>\n",
       "      <td>2.758864</td>\n",
       "      <td>3.683737</td>\n",
       "      <td>0.805518</td>\n",
       "    </tr>\n",
       "    <tr>\n",
       "      <th>min</th>\n",
       "      <td>9.000000</td>\n",
       "      <td>3.000000</td>\n",
       "      <td>68.000000</td>\n",
       "      <td>46.000000</td>\n",
       "      <td>1613.000000</td>\n",
       "      <td>8.000000</td>\n",
       "      <td>70.000000</td>\n",
       "      <td>1.000000</td>\n",
       "    </tr>\n",
       "    <tr>\n",
       "      <th>25%</th>\n",
       "      <td>17.000000</td>\n",
       "      <td>4.000000</td>\n",
       "      <td>105.000000</td>\n",
       "      <td>75.000000</td>\n",
       "      <td>2225.250000</td>\n",
       "      <td>13.775000</td>\n",
       "      <td>73.000000</td>\n",
       "      <td>1.000000</td>\n",
       "    </tr>\n",
       "    <tr>\n",
       "      <th>50%</th>\n",
       "      <td>22.750000</td>\n",
       "      <td>4.000000</td>\n",
       "      <td>151.000000</td>\n",
       "      <td>93.500000</td>\n",
       "      <td>2803.500000</td>\n",
       "      <td>15.500000</td>\n",
       "      <td>76.000000</td>\n",
       "      <td>1.000000</td>\n",
       "    </tr>\n",
       "    <tr>\n",
       "      <th>75%</th>\n",
       "      <td>29.000000</td>\n",
       "      <td>8.000000</td>\n",
       "      <td>275.750000</td>\n",
       "      <td>126.000000</td>\n",
       "      <td>3614.750000</td>\n",
       "      <td>17.025000</td>\n",
       "      <td>79.000000</td>\n",
       "      <td>2.000000</td>\n",
       "    </tr>\n",
       "    <tr>\n",
       "      <th>max</th>\n",
       "      <td>46.600000</td>\n",
       "      <td>8.000000</td>\n",
       "      <td>455.000000</td>\n",
       "      <td>230.000000</td>\n",
       "      <td>5140.000000</td>\n",
       "      <td>24.800000</td>\n",
       "      <td>82.000000</td>\n",
       "      <td>3.000000</td>\n",
       "    </tr>\n",
       "  </tbody>\n",
       "</table>\n",
       "</div>"
      ],
      "text/plain": [
       "              mpg   cylinders  displacement  horsepower       weight  \\\n",
       "count  392.000000  392.000000    392.000000  392.000000   392.000000   \n",
       "mean    23.445918    5.471939    194.411990  104.469388  2977.584184   \n",
       "std      7.805007    1.705783    104.644004   38.491160   849.402560   \n",
       "min      9.000000    3.000000     68.000000   46.000000  1613.000000   \n",
       "25%     17.000000    4.000000    105.000000   75.000000  2225.250000   \n",
       "50%     22.750000    4.000000    151.000000   93.500000  2803.500000   \n",
       "75%     29.000000    8.000000    275.750000  126.000000  3614.750000   \n",
       "max     46.600000    8.000000    455.000000  230.000000  5140.000000   \n",
       "\n",
       "       acceleration  model year      origin  \n",
       "count    392.000000  392.000000  392.000000  \n",
       "mean      15.541327   75.979592    1.576531  \n",
       "std        2.758864    3.683737    0.805518  \n",
       "min        8.000000   70.000000    1.000000  \n",
       "25%       13.775000   73.000000    1.000000  \n",
       "50%       15.500000   76.000000    1.000000  \n",
       "75%       17.025000   79.000000    2.000000  \n",
       "max       24.800000   82.000000    3.000000  "
      ]
     },
     "execution_count": 86,
     "metadata": {},
     "output_type": "execute_result"
    }
   ],
   "source": [
    "# Describe the data\n",
    "df.describe()"
   ]
  },
  {
   "cell_type": "code",
   "execution_count": 87,
   "metadata": {
    "ExecuteTime": {
     "end_time": "2023-09-07T19:25:51.419471Z",
     "start_time": "2023-09-07T19:25:50.905473Z"
    }
   },
   "outputs": [
    {
     "data": {
      "image/png": "[encoded data removed]",
      "text/plain": [
       "<Figure size 864x288 with 2 Axes>"
      ]
     },
     "metadata": {
      "needs_background": "light"
     },
     "output_type": "display_data"
    }
   ],
   "source": [
    "# Run this cell without changes to set up for the next set of questions\n",
    "\n",
    "# Grabbing the median car weight\n",
    "weight_median = df['weight'].median()\n",
    "\n",
    "# Separating based on light cars and heavy cars\n",
    "heavy_cars = df.loc[df['weight'] > weight_median].sample(n=100, random_state=42)\n",
    "light_cars = df.loc[df['weight'] <= weight_median].sample(n=100, random_state=42)\n",
    "\n",
    "# Plotting histograms for acceleration for both light and heavy cars\n",
    "fig, (ax1, ax2) = plt.subplots(1, 2, figsize=(12, 4))\n",
    "\n",
    "ax1.set_title('Sample of Heavy Cars')\n",
    "ax1.set_xlabel('Acceleration')\n",
    "ax1.set_ylabel('Frequency')\n",
    "ax1.hist(heavy_cars['acceleration'], bins=12)\n",
    "\n",
    "ax2.set_title('Sample of Light Cars')\n",
    "ax2.set_xlabel('Acceleration')\n",
    "ax2.set_ylabel('Frequency')\n",
    "ax2.hist(light_cars['acceleration'], bins=12)\n",
    "plt.show()"
   ]
  },
  {
   "cell_type": "markdown",
   "metadata": {},
   "source": [
    "### The Prompt: \n",
    "\n",
    "> Car manufacturers want to know if light cars accelerate faster than heavy cars.\n",
    "\n",
    "### Task 11: Set up the null and alternative hypotheses for this test"
   ]
  },
  {
   "cell_type": "code",
   "execution_count": 88,
   "metadata": {
    "ExecuteTime": {
     "end_time": "2023-09-07T19:25:55.961470Z",
     "start_time": "2023-09-07T19:25:55.933473Z"
    }
   },
   "outputs": [
    {
     "name": "stdout",
     "output_type": "stream",
     "text": [
      "['Andrew']\n"
     ]
    }
   ],
   "source": [
    "call_on_students(1)"
   ]
  },
  {
   "cell_type": "markdown",
   "metadata": {},
   "source": [
    "**Null hypothesis:**\n",
    "\n",
    "- Light cars do not accelerate faster or are equal to than heavy cars\n",
    "\n",
    "\n",
    "**Alternative hypothesis:**\n",
    "\n",
    "- Light cars accelerate faster than heavy\n"
   ]
  },
  {
   "cell_type": "markdown",
   "metadata": {},
   "source": [
    "### Task 12: Describe your Type 1 and Type 2 errors in this context"
   ]
  },
  {
   "cell_type": "code",
   "execution_count": 89,
   "metadata": {
    "ExecuteTime": {
     "end_time": "2023-09-07T19:30:08.005369Z",
     "start_time": "2023-09-07T19:30:07.981366Z"
    }
   },
   "outputs": [
    {
     "name": "stdout",
     "output_type": "stream",
     "text": [
      "['David']\n"
     ]
    }
   ],
   "source": [
    "call_on_students(1)"
   ]
  },
  {
   "cell_type": "markdown",
   "metadata": {},
   "source": [
    "**Type I Error:**\n",
    "\n",
    "- reject the Null when we should have failed to reject\n",
    "- light cars accelerate faster then in fact the are the same or lower\n",
    "\n",
    "\n",
    "**Type II Error:**\n",
    "\n",
    "- failing to reject Null when we should have\n",
    "- light cars do not, when in fact they do\n",
    "\n"
   ]
  },
  {
   "cell_type": "markdown",
   "metadata": {},
   "source": [
    "### Task 13: The Hypothesis Test!"
   ]
  },
  {
   "cell_type": "markdown",
   "metadata": {},
   "source": [
    "### 13a: Describe the type of test:"
   ]
  },
  {
   "cell_type": "code",
   "execution_count": 90,
   "metadata": {
    "ExecuteTime": {
     "end_time": "2023-09-07T19:32:20.063364Z",
     "start_time": "2023-09-07T19:32:20.040364Z"
    }
   },
   "outputs": [
    {
     "name": "stdout",
     "output_type": "stream",
     "text": [
      "['Reyn']\n"
     ]
    }
   ],
   "source": [
    "call_on_students(1)"
   ]
  },
  {
   "cell_type": "markdown",
   "metadata": {},
   "source": [
    "Description:\n",
    "\n",
    "- independent two sample t-test\n",
    "- one-tailed, right side\n"
   ]
  },
  {
   "cell_type": "markdown",
   "metadata": {},
   "source": [
    "### 13b: Run the test, using alpha = .05 and assuming that the samples have equal variance"
   ]
  },
  {
   "cell_type": "code",
   "execution_count": 91,
   "metadata": {
    "ExecuteTime": {
     "end_time": "2023-09-07T19:33:50.105490Z",
     "start_time": "2023-09-07T19:33:50.090493Z"
    }
   },
   "outputs": [
    {
     "name": "stdout",
     "output_type": "stream",
     "text": [
      "['Deniz']\n"
     ]
    }
   ],
   "source": [
    "call_on_students(1)"
   ]
  },
  {
   "cell_type": "code",
   "execution_count": 95,
   "metadata": {
    "ExecuteTime": {
     "end_time": "2023-09-07T19:38:08.384233Z",
     "start_time": "2023-09-07T19:38:08.367234Z"
    }
   },
   "outputs": [
    {
     "data": {
      "text/plain": [
       "7.203299"
      ]
     },
     "execution_count": 95,
     "metadata": {},
     "output_type": "execute_result"
    }
   ],
   "source": [
    "np.array(heavy_cars.acceleration).var()"
   ]
  },
  {
   "cell_type": "code",
   "execution_count": 96,
   "metadata": {
    "ExecuteTime": {
     "end_time": "2023-09-07T19:38:18.365236Z",
     "start_time": "2023-09-07T19:38:18.354234Z"
    }
   },
   "outputs": [
    {
     "data": {
      "text/plain": [
       "4.9233839999999995"
      ]
     },
     "execution_count": 96,
     "metadata": {},
     "output_type": "execute_result"
    }
   ],
   "source": [
    "np.array(light_cars.acceleration).var()"
   ]
  },
  {
   "cell_type": "code",
   "execution_count": 101,
   "metadata": {
    "ExecuteTime": {
     "end_time": "2023-09-07T19:42:33.339043Z",
     "start_time": "2023-09-07T19:42:33.327043Z"
    }
   },
   "outputs": [],
   "source": [
    "# Code here\n",
    "# t-stats(the values from light and heavy cars, equal=\"False\",   )\n",
    "\n",
    "tstat, p = stats.ttest_ind(heavy_cars.acceleration, light_cars.acceleration)\n",
    "\n"
   ]
  },
  {
   "cell_type": "code",
   "execution_count": 103,
   "metadata": {
    "ExecuteTime": {
     "end_time": "2023-09-07T19:42:46.339041Z",
     "start_time": "2023-09-07T19:42:46.320045Z"
    }
   },
   "outputs": [
    {
     "data": {
      "text/plain": [
       "(-5.00874014469676, 6.048220334084493e-07)"
      ]
     },
     "execution_count": 103,
     "metadata": {},
     "output_type": "execute_result"
    }
   ],
   "source": [
    "tstat, p/2"
   ]
  },
  {
   "cell_type": "code",
   "execution_count": 97,
   "metadata": {
    "ExecuteTime": {
     "end_time": "2023-09-07T19:38:51.193233Z",
     "start_time": "2023-09-07T19:38:51.186233Z"
    }
   },
   "outputs": [
    {
     "data": {
      "text/plain": [
       "Ttest_indResult(statistic=-5.00874014469676, pvalue=1.2412905689208302e-06)"
      ]
     },
     "execution_count": 97,
     "metadata": {},
     "output_type": "execute_result"
    }
   ],
   "source": [
    "stats.ttest_ind(heavy_cars.acceleration, light_cars.acceleration, equal_var=False)"
   ]
  },
  {
   "cell_type": "markdown",
   "metadata": {},
   "source": [
    "### 13c: Analyze your results: can you reject the null hypothesis?"
   ]
  },
  {
   "cell_type": "code",
   "execution_count": 100,
   "metadata": {
    "ExecuteTime": {
     "end_time": "2023-09-07T19:39:17.804238Z",
     "start_time": "2023-09-07T19:39:17.777233Z"
    }
   },
   "outputs": [
    {
     "name": "stdout",
     "output_type": "stream",
     "text": [
      "['Rachel']\n"
     ]
    }
   ],
   "source": [
    "call_on_students(1)"
   ]
  },
  {
   "cell_type": "markdown",
   "metadata": {},
   "source": [
    "Can you reject the null hypothesis?\n",
    "\n",
    "-  if p is low, null must go!\n",
    "- Yes, reject the null\n",
    "- We can reject the null, there is evidence that light do accelerate faster\n"
   ]
  },
  {
   "cell_type": "code",
   "execution_count": null,
   "metadata": {},
   "outputs": [],
   "source": []
  }
 ],
 "metadata": {
  "kernelspec": {
   "display_name": "learn-env",
   "language": "python",
   "name": "learn-env"
  },
  "language_info": {
   "codemirror_mode": {
    "name": "ipython",
    "version": 3
   },
   "file_extension": ".py",
   "mimetype": "text/x-python",
   "name": "python",
   "nbconvert_exporter": "python",
   "pygments_lexer": "ipython3",
   "version": "3.8.5"
  },
  "toc": {
   "base_numbering": 1,
   "nav_menu": {},
   "number_sections": true,
   "sideBar": true,
   "skip_h1_title": false,
   "title_cell": "Table of Contents",
   "title_sidebar": "Contents",
   "toc_cell": false,
   "toc_position": {},
   "toc_section_display": true,
   "toc_window_display": false
  },
  "varInspector": {
   "cols": {
    "lenName": 16,
    "lenType": 16,
    "lenVar": 40
   },
   "kernels_config": {
    "python": {
     "delete_cmd_postfix": "",
     "delete_cmd_prefix": "del ",
     "library": "var_list.py",
     "varRefreshCmd": "print(var_dic_list())"
    },
    "r": {
     "delete_cmd_postfix": ") ",
     "delete_cmd_prefix": "rm(",
     "library": "var_list.r",
     "varRefreshCmd": "cat(var_dic_list()) "
    }
   },
   "types_to_exclude": [
    "module",
    "function",
    "builtin_function_or_method",
    "instance",
    "_Feature"
   ],
   "window_display": false
  }
 },
 "nbformat": 4,
 "nbformat_minor": 2
}
